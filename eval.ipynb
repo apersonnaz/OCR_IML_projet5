{
 "cells": [
  {
   "cell_type": "markdown",
   "metadata": {},
   "source": [
    "# Embedding and categorizer tests\n",
    "\n"
   ]
  },
  {
   "cell_type": "code",
   "execution_count": null,
   "metadata": {},
   "outputs": [],
   "source": [
    "%pip install - U pip setuptools wheel\n",
    "%pip install tqdm\n",
    "%pip install torch torchvision torchaudio\n",
    "!export CUDA_PATH = \"/opt/nvidia/cuda\"\n",
    "%pip install - U spacy[cuda11X, transformers]\n",
    "%pip install transformers[sentencepiece]"
   ]
  },
  {
   "cell_type": "code",
   "execution_count": 1,
   "metadata": {},
   "outputs": [
    {
     "name": "stdout",
     "output_type": "stream",
     "text": [
      "2023-03-23 11:01:55.816882: I tensorflow/core/platform/cpu_feature_guard.cc:193] This TensorFlow binary is optimized with oneAPI Deep Neural Network Library (oneDNN) to use the following CPU instructions in performance-critical operations:  AVX2 FMA\n",
      "To enable them in other operations, rebuild TensorFlow with the appropriate compiler flags.\n",
      "2023-03-23 11:01:57.369844: I tensorflow/compiler/xla/stream_executor/cuda/cuda_gpu_executor.cc:981] successful NUMA node read from SysFS had negative value (-1), but there must be at least one NUMA node, so returning NUMA node zero\n",
      "2023-03-23 11:01:57.370214: I tensorflow/compiler/xla/stream_executor/cuda/cuda_gpu_executor.cc:981] successful NUMA node read from SysFS had negative value (-1), but there must be at least one NUMA node, so returning NUMA node zero\n",
      "2023-03-23 11:01:57.370365: I tensorflow/compiler/xla/stream_executor/cuda/cuda_gpu_executor.cc:981] successful NUMA node read from SysFS had negative value (-1), but there must be at least one NUMA node, so returning NUMA node zero\n",
      "^C\n",
      "2023-03-23 11:02:00.119148: I tensorflow/core/platform/cpu_feature_guard.cc:193] This TensorFlow binary is optimized with oneAPI Deep Neural Network Library (oneDNN) to use the following CPU instructions in performance-critical operations:  AVX2 FMA\n",
      "To enable them in other operations, rebuild TensorFlow with the appropriate compiler flags.\n",
      "2023-03-23 11:02:01.590718: I tensorflow/compiler/xla/stream_executor/cuda/cuda_gpu_executor.cc:981] successful NUMA node read from SysFS had negative value (-1), but there must be at least one NUMA node, so returning NUMA node zero\n",
      "2023-03-23 11:02:01.591114: I tensorflow/compiler/xla/stream_executor/cuda/cuda_gpu_executor.cc:981] successful NUMA node read from SysFS had negative value (-1), but there must be at least one NUMA node, so returning NUMA node zero\n",
      "2023-03-23 11:02:01.591267: I tensorflow/compiler/xla/stream_executor/cuda/cuda_gpu_executor.cc:981] successful NUMA node read from SysFS had negative value (-1), but there must be at least one NUMA node, so returning NUMA node zero\n"
     ]
    }
   ],
   "source": [
    "!python3 -m spacy download en_core_web_lg -qq\n",
    "!python3 -m spacy download en_core_web_trf -qq"
   ]
  },
  {
   "cell_type": "code",
   "execution_count": 14,
   "metadata": {},
   "outputs": [],
   "source": [
    "import json\n",
    "from tqdm import tqdm\n",
    "import spacy\n",
    "from thinc.api import set_gpu_allocator, require_gpu\n",
    "import numpy as np\n",
    "import pandas as pd\n",
    "from sklearn.preprocessing import MultiLabelBinarizer\n",
    "from sklearn.metrics import roc_auc_score, jaccard_score, f1_score, precision_score, recall_score\n",
    "import matplotlib.pyplot as plt\n",
    "import seaborn as sns\n",
    "from gensim.models import CoherenceModel\n",
    "from gensim.models import LdaMulticore\n",
    "from gensim.corpora.dictionary import Dictionary\n",
    "import pyLDAvis.gensim_models\n",
    "sns.set()\n",
    "pyLDAvis.enable_notebook()\n",
    "\n",
    "with open('selected_tags.json', 'r') as openfile:\n",
    "    selected_tags = json.load(openfile)\n"
   ]
  },
  {
   "cell_type": "code",
   "execution_count": 2,
   "metadata": {},
   "outputs": [],
   "source": [
    "sample_train = pd.read_csv(\n",
    "    './train.csv', converters={'tag_set': eval, 'tag_list': eval})\n",
    "sample_test = pd.read_csv(\n",
    "    './test.csv', converters={'tag_set': eval, 'tag_list': eval})\n",
    "sample_validation = pd.read_csv(\n",
    "    './validation.csv', converters={'tag_set': eval, 'tag_list': eval})\n",
    "\n",
    "sample_validation.text.fillna(\"\", inplace=True)\n",
    "sample_validation.code.fillna(\"\", inplace=True)\n",
    "sample_validation.tag_list = sample_validation.tag_list.apply(\n",
    "    lambda tag_list: [tag for tag in tag_list if tag in selected_tags])\n",
    "\n",
    "mlb = MultiLabelBinarizer()\n",
    "mlb.fit([selected_tags])\n",
    "y = mlb.transform(sample_validation.tag_list.values)\n",
    "y_sets = sample_validation.tag_list.apply(set)\n"
   ]
  },
  {
   "cell_type": "code",
   "execution_count": 11,
   "metadata": {},
   "outputs": [],
   "source": [
    "\n",
    "\n",
    "# Use the GPU, with memory allocations directed via PyTorch.\n",
    "# This prevents out-of-memory errors that would otherwise occur from competing\n",
    "# memory pools.\n",
    "set_gpu_allocator(\"pytorch\")\n",
    "require_gpu(0)\n",
    "\n",
    "\n",
    "def preprocess(texts, nlp, return_tokens=False):\n",
    "    removal = ['ADV', 'PRON', 'CCONJ', 'PUNCT',\n",
    "               'PART', 'DET', 'ADP', 'SPACE', 'NUM', 'SYM']\n",
    "\n",
    "    results = []\n",
    "    print(\"preprocessing\")\n",
    "    for summary in tqdm(nlp.pipe(texts, disable=[\"tok2vec\"]), total=len(texts)):\n",
    "        question_tokens = []\n",
    "        for token in summary:\n",
    "            if token.pos_ not in removal and not token.is_stop and token.is_alpha:\n",
    "                question_tokens.append(token.lemma_)\n",
    "        if return_tokens:\n",
    "            results.append(question_tokens)\n",
    "        else:\n",
    "            results.append(\" \".join(question_tokens))\n",
    "    # question_tokens = [token.lemma_ for token in summary if token.pos_ not in removal and not token.is_stop and token.is_alpha]\n",
    "    return results\n",
    "\n",
    "def preprocess_transformers(texts):\n",
    "    tokens = []\n",
    "    removal = [ 'PUNCT', 'SPACE', 'NUM', 'SYM']\n",
    "    cleaned_texts = []\n",
    "    print(\"preprocessing\")\n",
    "    for summary in tqdm(nlp.pipe(texts, disable=[\"transformer\", \"tagger\", \"parser\", \"attribute_ruler\", \"lemmatizer\", \"ner\"]), total=len(texts)):\n",
    "        question_tokens = []\n",
    "        for token in summary:\n",
    "            if token.pos_ not in removal and token.is_alpha and len(question_tokens)<512:\n",
    "                question_tokens.append(token.lower_)\n",
    "        cleaned_texts.append(\" \".join(question_tokens))\n",
    "    # question_tokens = [token.lemma_ for token in summary if token.pos_ not in removal and not token.is_stop and token.is_alpha]\n",
    "    return cleaned_texts\n",
    "\n",
    "\n",
    "def convert(data, outfile, nlp):\n",
    "    db = spacy.tokens.DocBin()\n",
    "    docs = []\n",
    "    print(\"converting\")\n",
    "    for doc, labels in tqdm(nlp.pipe(data.values, as_tuples=True), total=len(data)):\n",
    "        for tag in selected_tags:\n",
    "            doc.cats[tag] = tag in labels\n",
    "        db.add(doc)\n",
    "    db.to_disk(outfile)\n",
    "\n",
    "def evaluate_predictions(y_val, y_pred_text, y_pred_code, mlb, model_name):\n",
    "    y_union = (y_pred_text.astype(np.bool_) |\n",
    "               y_pred_code.astype(np.bool_)).astype(np.int_)\n",
    "\n",
    "    y_intersec = (y_pred_text.astype(np.bool_) &\n",
    "                y_pred_code.astype(np.bool_)).astype(np.int_)\n",
    "    results = {\n",
    "        \"text\": {\n",
    "            \"roc_per_tags\": list(\n",
    "                zip(mlb.classes_, roc_auc_score(y_val, y_pred_text, average=None))),\n",
    "            \"roc_macro\": roc_auc_score(y_val, y_pred_text, average='macro'),\n",
    "            \"jaccard_samples\": jaccard_score(y_val, y_pred_text, average='samples'),\n",
    "            \"jaccard_macro\": jaccard_score(y_val, y_pred_text, average='macro'),\n",
    "            \"jaccard_micro\": jaccard_score(y_val, y_pred_text, average='micro'),\n",
    "            \"f1_samples\": f1_score(y_val, y_pred_text, average='samples'),\n",
    "            \"f1_macro\": f1_score(y_val, y_pred_text, average='macro'),\n",
    "            \"f1_micro\": f1_score(y_val, y_pred_text, average='micro'),\n",
    "            \"precision_samples\": precision_score(y_val, y_pred_text, average='samples'),\n",
    "            \"precision_macro\": precision_score(y_val, y_pred_text, average='macro'),\n",
    "            \"precision_micro\": precision_score(y_val, y_pred_text, average='micro'),\n",
    "            \"recall_samples\": recall_score(y_val, y_pred_text, average='samples'),\n",
    "            \"recall_macro\": recall_score(y_val, y_pred_text, average='macro'),\n",
    "            \"recall_micro\": recall_score(y_val, y_pred_text, average='micro'),\n",
    "        },\n",
    "        \"code\": {\n",
    "            \"roc_per_tags\": list(zip(mlb.classes_, roc_auc_score(y_val, y_pred_code, average=None))),\n",
    "            \"roc_macro\": roc_auc_score(y_val, y_pred_code, average='macro'),\n",
    "            \"jaccard_samples\": jaccard_score(y_val, y_pred_code, average='samples'),\n",
    "            \"jaccard_macro\": jaccard_score(y_val, y_pred_code, average='macro'),\n",
    "            \"jaccard_micro\": jaccard_score(y_val, y_pred_code, average='micro'),\n",
    "            \"f1_samples\": f1_score(y_val, y_pred_code, average='samples'),\n",
    "            \"f1_macro\": f1_score(y_val, y_pred_code, average='macro'),\n",
    "            \"f1_micro\": f1_score(y_val, y_pred_code, average='micro'),\n",
    "            \"precision_samples\": precision_score(y_val, y_pred_code, average='samples'),\n",
    "            \"precision_macro\": precision_score(y_val, y_pred_code, average='macro'),\n",
    "            \"precision_micro\": precision_score(y_val, y_pred_code, average='micro'),\n",
    "            \"recall_samples\": recall_score(y_val, y_pred_code, average='samples'),\n",
    "            \"recall_macro\": recall_score(y_val, y_pred_code, average='macro'),\n",
    "            \"recall_micro\": recall_score(y_val, y_pred_code, average='micro'),\n",
    "        },\n",
    "        \"union\": {\n",
    "            \"roc_per_tags\": list(zip(mlb.classes_, roc_auc_score(y_val, y_union, average=None))),\n",
    "            \"roc_macro\": roc_auc_score(y_val, y_union, average='macro'),\n",
    "            \"jaccard_samples\": jaccard_score(y_val, y_union, average='samples'),\n",
    "            \"jaccard_macro\": jaccard_score(y_val, y_union, average='macro'),\n",
    "            \"jaccard_micro\": jaccard_score(y_val, y_union, average='micro'),\n",
    "            \"f1_samples\": f1_score(y_val, y_union, average='samples'),\n",
    "            \"f1_macro\": f1_score(y_val, y_union, average='macro'),\n",
    "            \"f1_micro\": f1_score(y_val, y_union, average='micro'),\n",
    "            \"precision_samples\": precision_score(y_val, y_union, average='samples'),\n",
    "            \"precision_macro\": precision_score(y_val, y_union, average='macro'),\n",
    "            \"precision_micro\": precision_score(y_val, y_union, average='micro'),\n",
    "            \"recall_samples\": recall_score(y_val, y_union, average='samples'),\n",
    "            \"recall_macro\": recall_score(y_val, y_union, average='macro'),\n",
    "            \"recall_micro\": recall_score(y_val, y_union, average='micro'),\n",
    "        },\n",
    "        \"intersection\": {\n",
    "            \"roc_per_tags\": list(zip(mlb.classes_, roc_auc_score(y_val, y_intersec, average=None))),\n",
    "            \"roc_macro\": roc_auc_score(y_val, y_intersec, average='macro'),\n",
    "            \"jaccard_samples\": jaccard_score(y_val, y_intersec, average='samples'),\n",
    "            \"jaccard_macro\": jaccard_score(y_val, y_intersec, average='macro'),\n",
    "            \"jaccard_micro\": jaccard_score(y_val, y_intersec, average='micro'),\n",
    "            \"f1_samples\": f1_score(y_val, y_intersec, average='samples'),\n",
    "            \"f1_macro\": f1_score(y_val, y_intersec, average='macro'),\n",
    "            \"f1_micro\": f1_score(y_val, y_intersec, average='micro'),\n",
    "            \"precision_samples\": precision_score(y_val, y_intersec, average='samples'),\n",
    "            \"precision_macro\": precision_score(y_val, y_intersec, average='macro'),\n",
    "            \"precision_micro\": precision_score(y_val, y_intersec, average='micro'),\n",
    "            \"recall_samples\": recall_score(y_val, y_intersec, average='samples'),\n",
    "            \"recall_macro\": recall_score(y_val, y_intersec, average='macro'),\n",
    "            \"recall_micro\": recall_score(y_val, y_intersec, average='micro'),\n",
    "        },\n",
    "    }\n",
    "\n",
    "    for i in [\"text\", \"code\", \"union\", \"intersection\"]:\n",
    "        print(f\"======= {i} ==========\")\n",
    "        print(\"Roc auc for each tag:\")\n",
    "        print(results[i][\"roc_per_tags\"])\n",
    "        print(f\"Roc auc macro average: {results[i]['roc_macro']:.3f}\")\n",
    "        print(\n",
    "            f\"Jaccard score sample average: {results[i]['jaccard_samples']:.3f}\")\n",
    "        print(\n",
    "            f\"Jaccard score macro average: {results[i]['jaccard_macro']:.3f}\")\n",
    "        print(\n",
    "            f\"Jaccard score micro average: {results[i]['jaccard_micro']:.3f}\")\n",
    "        print(\n",
    "            f\"f1 score sample average: {results[i]['f1_samples']:.3f}\")\n",
    "        print(\n",
    "            f\"f1 score macro average: {results[i]['f1_macro']:.3f}\")\n",
    "        print(\n",
    "            f\"f1 score micro average: {results[i]['f1_micro']:.3f}\")\n",
    "        print(\n",
    "            f\"precision score sample average: {results[i]['precision_samples']:.3f}\")\n",
    "        print(\n",
    "            f\"precision score macro average: {results[i]['precision_macro']:.3f}\")\n",
    "        print(\n",
    "            f\"precision score micro average: {results[i]['precision_micro']:.3f}\")\n",
    "        print(\n",
    "            f\"recall score sample average: {results[i]['recall_samples']:.3f}\")\n",
    "        print(\n",
    "            f\"recall score macro average: {results[i]['recall_macro']:.3f}\")\n",
    "        print(\n",
    "            f\"recall score micro average: {results[i]['recall_micro']:.3f}\")\n",
    "\n",
    "    with open(f\"{model_name}_results.json\", \"w\") as outfile:\n",
    "        json.dump(results, outfile)\n"
   ]
  },
  {
   "attachments": {},
   "cell_type": "markdown",
   "metadata": {},
   "source": [
    "## Unsupervised method - Latent Dirichlet Association"
   ]
  },
  {
   "cell_type": "code",
   "execution_count": 4,
   "metadata": {},
   "outputs": [
    {
     "data": {
      "text/html": [
       "<div>\n",
       "<style scoped>\n",
       "    .dataframe tbody tr th:only-of-type {\n",
       "        vertical-align: middle;\n",
       "    }\n",
       "\n",
       "    .dataframe tbody tr th {\n",
       "        vertical-align: top;\n",
       "    }\n",
       "\n",
       "    .dataframe thead th {\n",
       "        text-align: right;\n",
       "    }\n",
       "</style>\n",
       "<table border=\"1\" class=\"dataframe\">\n",
       "  <thead>\n",
       "    <tr style=\"text-align: right;\">\n",
       "      <th></th>\n",
       "      <th>Title</th>\n",
       "      <th>Body</th>\n",
       "      <th>Tags</th>\n",
       "      <th>Score</th>\n",
       "      <th>ViewCount</th>\n",
       "      <th>AnswerCount</th>\n",
       "      <th>nbtags</th>\n",
       "      <th>tag_set</th>\n",
       "      <th>tag_list</th>\n",
       "      <th>text</th>\n",
       "      <th>...</th>\n",
       "      <th>iphone</th>\n",
       "      <th>javascript</th>\n",
       "      <th>c#</th>\n",
       "      <th>c++</th>\n",
       "      <th>php</th>\n",
       "      <th>.net</th>\n",
       "      <th>css</th>\n",
       "      <th>java</th>\n",
       "      <th>html</th>\n",
       "      <th>python</th>\n",
       "    </tr>\n",
       "  </thead>\n",
       "  <tbody>\n",
       "    <tr>\n",
       "      <th>0</th>\n",
       "      <td>Publish/Subscribe reliable messaging: Redis VS...</td>\n",
       "      <td>&lt;h2&gt;Background&lt;/h2&gt;\\n\\n&lt;p&gt;I am making a publis...</td>\n",
       "      <td>&lt;javascript&gt;&lt;node.js&gt;&lt;redis&gt;&lt;rabbitmq&gt;&lt;publish...</td>\n",
       "      <td>25</td>\n",
       "      <td>16250</td>\n",
       "      <td>3</td>\n",
       "      <td>5</td>\n",
       "      <td>{redis, publish-subscribe, javascript, node.js...</td>\n",
       "      <td>[javascript, node.js, redis, rabbitmq, publish...</td>\n",
       "      <td>Background\\n\\n\\nI am making a publish/subscrib...</td>\n",
       "      <td>...</td>\n",
       "      <td>0</td>\n",
       "      <td>1</td>\n",
       "      <td>0</td>\n",
       "      <td>0</td>\n",
       "      <td>0</td>\n",
       "      <td>0</td>\n",
       "      <td>0</td>\n",
       "      <td>0</td>\n",
       "      <td>0</td>\n",
       "      <td>0</td>\n",
       "    </tr>\n",
       "    <tr>\n",
       "      <th>1</th>\n",
       "      <td>What is an undefined reference/unresolved exte...</td>\n",
       "      <td>&lt;p&gt;What are undefined reference/unresolved ext...</td>\n",
       "      <td>&lt;c++&gt;&lt;linker-errors&gt;&lt;undefined-reference&gt;&lt;c++-...</td>\n",
       "      <td>1757</td>\n",
       "      <td>871034</td>\n",
       "      <td>39</td>\n",
       "      <td>5</td>\n",
       "      <td>{unresolved-external, undefined-reference, c++...</td>\n",
       "      <td>[c++, linker-errors, undefined-reference, c++-...</td>\n",
       "      <td>What are undefined reference/unresolved extern...</td>\n",
       "      <td>...</td>\n",
       "      <td>0</td>\n",
       "      <td>0</td>\n",
       "      <td>0</td>\n",
       "      <td>1</td>\n",
       "      <td>0</td>\n",
       "      <td>0</td>\n",
       "      <td>0</td>\n",
       "      <td>0</td>\n",
       "      <td>0</td>\n",
       "      <td>0</td>\n",
       "    </tr>\n",
       "    <tr>\n",
       "      <th>2</th>\n",
       "      <td>How MediaCodec finds the codec inside the fram...</td>\n",
       "      <td>&lt;p&gt;I am trying to understanding how MediaCodec...</td>\n",
       "      <td>&lt;android&gt;&lt;android-internet&gt;&lt;stagefright&gt;&lt;openm...</td>\n",
       "      <td>7</td>\n",
       "      <td>4538</td>\n",
       "      <td>1</td>\n",
       "      <td>5</td>\n",
       "      <td>{android, opencore, openmax, android-internet,...</td>\n",
       "      <td>[android, android-internet, stagefright, openm...</td>\n",
       "      <td>I am trying to understanding how MediaCodec is...</td>\n",
       "      <td>...</td>\n",
       "      <td>0</td>\n",
       "      <td>0</td>\n",
       "      <td>0</td>\n",
       "      <td>0</td>\n",
       "      <td>0</td>\n",
       "      <td>0</td>\n",
       "      <td>0</td>\n",
       "      <td>0</td>\n",
       "      <td>0</td>\n",
       "      <td>0</td>\n",
       "    </tr>\n",
       "    <tr>\n",
       "      <th>3</th>\n",
       "      <td>Can I just inject super class when use dagger2...</td>\n",
       "      <td>&lt;p&gt;I use Dagger2 for DI in my android applicat...</td>\n",
       "      <td>&lt;java&gt;&lt;android&gt;&lt;dependency-injection&gt;&lt;dagger&gt;&lt;...</td>\n",
       "      <td>51</td>\n",
       "      <td>23085</td>\n",
       "      <td>3</td>\n",
       "      <td>5</td>\n",
       "      <td>{dagger-2, dependency-injection, android, java...</td>\n",
       "      <td>[java, android, dependency-injection, dagger, ...</td>\n",
       "      <td>I use Dagger2 for DI in my android application...</td>\n",
       "      <td>...</td>\n",
       "      <td>0</td>\n",
       "      <td>0</td>\n",
       "      <td>0</td>\n",
       "      <td>0</td>\n",
       "      <td>0</td>\n",
       "      <td>0</td>\n",
       "      <td>0</td>\n",
       "      <td>1</td>\n",
       "      <td>0</td>\n",
       "      <td>0</td>\n",
       "    </tr>\n",
       "    <tr>\n",
       "      <th>4</th>\n",
       "      <td>NetworkSecurityConfig: No Network Security Con...</td>\n",
       "      <td>&lt;p&gt;I have some problem for android 7.0.0.&lt;/p&gt;\\...</td>\n",
       "      <td>&lt;java&gt;&lt;android&gt;&lt;android-studio&gt;&lt;android-volley&gt;</td>\n",
       "      <td>10</td>\n",
       "      <td>30564</td>\n",
       "      <td>3</td>\n",
       "      <td>4</td>\n",
       "      <td>{android-studio, java, android, android-volley}</td>\n",
       "      <td>[java, android, android-studio, android-volley]</td>\n",
       "      <td>I have some problem for android 7.0.0.\\n\\n\\nI ...</td>\n",
       "      <td>...</td>\n",
       "      <td>0</td>\n",
       "      <td>0</td>\n",
       "      <td>0</td>\n",
       "      <td>0</td>\n",
       "      <td>0</td>\n",
       "      <td>0</td>\n",
       "      <td>0</td>\n",
       "      <td>1</td>\n",
       "      <td>0</td>\n",
       "      <td>0</td>\n",
       "    </tr>\n",
       "    <tr>\n",
       "      <th>...</th>\n",
       "      <td>...</td>\n",
       "      <td>...</td>\n",
       "      <td>...</td>\n",
       "      <td>...</td>\n",
       "      <td>...</td>\n",
       "      <td>...</td>\n",
       "      <td>...</td>\n",
       "      <td>...</td>\n",
       "      <td>...</td>\n",
       "      <td>...</td>\n",
       "      <td>...</td>\n",
       "      <td>...</td>\n",
       "      <td>...</td>\n",
       "      <td>...</td>\n",
       "      <td>...</td>\n",
       "      <td>...</td>\n",
       "      <td>...</td>\n",
       "      <td>...</td>\n",
       "      <td>...</td>\n",
       "      <td>...</td>\n",
       "      <td>...</td>\n",
       "    </tr>\n",
       "    <tr>\n",
       "      <th>105710</th>\n",
       "      <td>Fill image inside with color in fabric.js</td>\n",
       "      <td>&lt;p&gt;Basically, I have a png transparent image a...</td>\n",
       "      <td>&lt;javascript&gt;&lt;jquery&gt;&lt;css&gt;&lt;canvas&gt;&lt;fabricjs&gt;</td>\n",
       "      <td>8</td>\n",
       "      <td>2873</td>\n",
       "      <td>1</td>\n",
       "      <td>5</td>\n",
       "      <td>{fabricjs, jquery, javascript, css, canvas}</td>\n",
       "      <td>[javascript, jquery, css, canvas, fabricjs]</td>\n",
       "      <td>Basically, I have a png transparent image and ...</td>\n",
       "      <td>...</td>\n",
       "      <td>0</td>\n",
       "      <td>1</td>\n",
       "      <td>0</td>\n",
       "      <td>0</td>\n",
       "      <td>0</td>\n",
       "      <td>0</td>\n",
       "      <td>1</td>\n",
       "      <td>0</td>\n",
       "      <td>0</td>\n",
       "      <td>0</td>\n",
       "    </tr>\n",
       "    <tr>\n",
       "      <th>105711</th>\n",
       "      <td>jquery-ui sortable getting error - PUT 501 (No...</td>\n",
       "      <td>&lt;p&gt;I have a Rails app with jquery-ui sortable ...</td>\n",
       "      <td>&lt;jquery&gt;&lt;ruby-on-rails&gt;&lt;apache&gt;&lt;jquery-ui&gt;</td>\n",
       "      <td>10</td>\n",
       "      <td>1275</td>\n",
       "      <td>5</td>\n",
       "      <td>4</td>\n",
       "      <td>{apache, jquery-ui, jquery, ruby-on-rails}</td>\n",
       "      <td>[jquery, ruby-on-rails, apache, jquery-ui]</td>\n",
       "      <td>I have a Rails app with jquery-ui sortable lis...</td>\n",
       "      <td>...</td>\n",
       "      <td>0</td>\n",
       "      <td>0</td>\n",
       "      <td>0</td>\n",
       "      <td>0</td>\n",
       "      <td>0</td>\n",
       "      <td>0</td>\n",
       "      <td>0</td>\n",
       "      <td>0</td>\n",
       "      <td>0</td>\n",
       "      <td>0</td>\n",
       "    </tr>\n",
       "    <tr>\n",
       "      <th>105712</th>\n",
       "      <td>UnicodeEncodeError: 'ascii' codec can't encode...</td>\n",
       "      <td>&lt;p&gt;I'm trying to print a string from an &lt;a hre...</td>\n",
       "      <td>&lt;python&gt;&lt;unicode&gt;&lt;character-encoding&gt;&lt;web-scra...</td>\n",
       "      <td>9</td>\n",
       "      <td>14333</td>\n",
       "      <td>1</td>\n",
       "      <td>4</td>\n",
       "      <td>{web-scraping, python, character-encoding, uni...</td>\n",
       "      <td>[python, unicode, character-encoding, web-scra...</td>\n",
       "      <td>I'm trying to print a string from an \\narchive...</td>\n",
       "      <td>...</td>\n",
       "      <td>0</td>\n",
       "      <td>0</td>\n",
       "      <td>0</td>\n",
       "      <td>0</td>\n",
       "      <td>0</td>\n",
       "      <td>0</td>\n",
       "      <td>0</td>\n",
       "      <td>0</td>\n",
       "      <td>0</td>\n",
       "      <td>1</td>\n",
       "    </tr>\n",
       "    <tr>\n",
       "      <th>105713</th>\n",
       "      <td>How can I rotate a UIImageView with respect to...</td>\n",
       "      <td>&lt;p&gt;By default, a UIImageView will rotate only ...</td>\n",
       "      <td>&lt;iphone&gt;&lt;cocoa-touch&gt;&lt;uikit&gt;&lt;core-animation&gt;</td>\n",
       "      <td>10</td>\n",
       "      <td>17594</td>\n",
       "      <td>1</td>\n",
       "      <td>4</td>\n",
       "      <td>{core-animation, uikit, cocoa-touch, iphone}</td>\n",
       "      <td>[iphone, cocoa-touch, uikit, core-animation]</td>\n",
       "      <td>By default, a UIImageView will rotate only abo...</td>\n",
       "      <td>...</td>\n",
       "      <td>1</td>\n",
       "      <td>0</td>\n",
       "      <td>0</td>\n",
       "      <td>0</td>\n",
       "      <td>0</td>\n",
       "      <td>0</td>\n",
       "      <td>0</td>\n",
       "      <td>0</td>\n",
       "      <td>0</td>\n",
       "      <td>0</td>\n",
       "    </tr>\n",
       "    <tr>\n",
       "      <th>105714</th>\n",
       "      <td>FFmpeg on Android</td>\n",
       "      <td>&lt;p&gt;I have got FFmpeg compiled (libffmpeg.so) o...</td>\n",
       "      <td>&lt;android&gt;&lt;ffmpeg&gt;&lt;stagefright&gt;&lt;android-ffmpeg&gt;</td>\n",
       "      <td>219</td>\n",
       "      <td>180837</td>\n",
       "      <td>10</td>\n",
       "      <td>4</td>\n",
       "      <td>{android-ffmpeg, ffmpeg, android, stagefright}</td>\n",
       "      <td>[android, ffmpeg, stagefright, android-ffmpeg]</td>\n",
       "      <td>I have got FFmpeg compiled (libffmpeg.so) on A...</td>\n",
       "      <td>...</td>\n",
       "      <td>0</td>\n",
       "      <td>0</td>\n",
       "      <td>0</td>\n",
       "      <td>0</td>\n",
       "      <td>0</td>\n",
       "      <td>0</td>\n",
       "      <td>0</td>\n",
       "      <td>0</td>\n",
       "      <td>0</td>\n",
       "      <td>0</td>\n",
       "    </tr>\n",
       "  </tbody>\n",
       "</table>\n",
       "<p>105715 rows × 27 columns</p>\n",
       "</div>"
      ],
      "text/plain": [
       "                                                    Title  \\\n",
       "0       Publish/Subscribe reliable messaging: Redis VS...   \n",
       "1       What is an undefined reference/unresolved exte...   \n",
       "2       How MediaCodec finds the codec inside the fram...   \n",
       "3       Can I just inject super class when use dagger2...   \n",
       "4       NetworkSecurityConfig: No Network Security Con...   \n",
       "...                                                   ...   \n",
       "105710          Fill image inside with color in fabric.js   \n",
       "105711  jquery-ui sortable getting error - PUT 501 (No...   \n",
       "105712  UnicodeEncodeError: 'ascii' codec can't encode...   \n",
       "105713  How can I rotate a UIImageView with respect to...   \n",
       "105714                                  FFmpeg on Android   \n",
       "\n",
       "                                                     Body  \\\n",
       "0       <h2>Background</h2>\\n\\n<p>I am making a publis...   \n",
       "1       <p>What are undefined reference/unresolved ext...   \n",
       "2       <p>I am trying to understanding how MediaCodec...   \n",
       "3       <p>I use Dagger2 for DI in my android applicat...   \n",
       "4       <p>I have some problem for android 7.0.0.</p>\\...   \n",
       "...                                                   ...   \n",
       "105710  <p>Basically, I have a png transparent image a...   \n",
       "105711  <p>I have a Rails app with jquery-ui sortable ...   \n",
       "105712  <p>I'm trying to print a string from an <a hre...   \n",
       "105713  <p>By default, a UIImageView will rotate only ...   \n",
       "105714  <p>I have got FFmpeg compiled (libffmpeg.so) o...   \n",
       "\n",
       "                                                     Tags  Score  ViewCount  \\\n",
       "0       <javascript><node.js><redis><rabbitmq><publish...     25      16250   \n",
       "1       <c++><linker-errors><undefined-reference><c++-...   1757     871034   \n",
       "2       <android><android-internet><stagefright><openm...      7       4538   \n",
       "3       <java><android><dependency-injection><dagger><...     51      23085   \n",
       "4         <java><android><android-studio><android-volley>     10      30564   \n",
       "...                                                   ...    ...        ...   \n",
       "105710        <javascript><jquery><css><canvas><fabricjs>      8       2873   \n",
       "105711         <jquery><ruby-on-rails><apache><jquery-ui>     10       1275   \n",
       "105712  <python><unicode><character-encoding><web-scra...      9      14333   \n",
       "105713       <iphone><cocoa-touch><uikit><core-animation>     10      17594   \n",
       "105714     <android><ffmpeg><stagefright><android-ffmpeg>    219     180837   \n",
       "\n",
       "        AnswerCount  nbtags  \\\n",
       "0                 3       5   \n",
       "1                39       5   \n",
       "2                 1       5   \n",
       "3                 3       5   \n",
       "4                 3       4   \n",
       "...             ...     ...   \n",
       "105710            1       5   \n",
       "105711            5       4   \n",
       "105712            1       4   \n",
       "105713            1       4   \n",
       "105714           10       4   \n",
       "\n",
       "                                                  tag_set  \\\n",
       "0       {redis, publish-subscribe, javascript, node.js...   \n",
       "1       {unresolved-external, undefined-reference, c++...   \n",
       "2       {android, opencore, openmax, android-internet,...   \n",
       "3       {dagger-2, dependency-injection, android, java...   \n",
       "4         {android-studio, java, android, android-volley}   \n",
       "...                                                   ...   \n",
       "105710        {fabricjs, jquery, javascript, css, canvas}   \n",
       "105711         {apache, jquery-ui, jquery, ruby-on-rails}   \n",
       "105712  {web-scraping, python, character-encoding, uni...   \n",
       "105713       {core-animation, uikit, cocoa-touch, iphone}   \n",
       "105714     {android-ffmpeg, ffmpeg, android, stagefright}   \n",
       "\n",
       "                                                 tag_list  \\\n",
       "0       [javascript, node.js, redis, rabbitmq, publish...   \n",
       "1       [c++, linker-errors, undefined-reference, c++-...   \n",
       "2       [android, android-internet, stagefright, openm...   \n",
       "3       [java, android, dependency-injection, dagger, ...   \n",
       "4         [java, android, android-studio, android-volley]   \n",
       "...                                                   ...   \n",
       "105710        [javascript, jquery, css, canvas, fabricjs]   \n",
       "105711         [jquery, ruby-on-rails, apache, jquery-ui]   \n",
       "105712  [python, unicode, character-encoding, web-scra...   \n",
       "105713       [iphone, cocoa-touch, uikit, core-animation]   \n",
       "105714     [android, ffmpeg, stagefright, android-ffmpeg]   \n",
       "\n",
       "                                                     text  ... iphone  \\\n",
       "0       Background\\n\\n\\nI am making a publish/subscrib...  ...      0   \n",
       "1       What are undefined reference/unresolved extern...  ...      0   \n",
       "2       I am trying to understanding how MediaCodec is...  ...      0   \n",
       "3       I use Dagger2 for DI in my android application...  ...      0   \n",
       "4       I have some problem for android 7.0.0.\\n\\n\\nI ...  ...      0   \n",
       "...                                                   ...  ...    ...   \n",
       "105710  Basically, I have a png transparent image and ...  ...      0   \n",
       "105711  I have a Rails app with jquery-ui sortable lis...  ...      0   \n",
       "105712  I'm trying to print a string from an \\narchive...  ...      0   \n",
       "105713  By default, a UIImageView will rotate only abo...  ...      1   \n",
       "105714  I have got FFmpeg compiled (libffmpeg.so) on A...  ...      0   \n",
       "\n",
       "        javascript  c#  c++  php  .net  css  java  html  python  \n",
       "0                1   0    0    0     0    0     0     0       0  \n",
       "1                0   0    1    0     0    0     0     0       0  \n",
       "2                0   0    0    0     0    0     0     0       0  \n",
       "3                0   0    0    0     0    0     1     0       0  \n",
       "4                0   0    0    0     0    0     1     0       0  \n",
       "...            ...  ..  ...  ...   ...  ...   ...   ...     ...  \n",
       "105710           1   0    0    0     0    1     0     0       0  \n",
       "105711           0   0    0    0     0    0     0     0       0  \n",
       "105712           0   0    0    0     0    0     0     0       1  \n",
       "105713           0   0    0    0     0    0     0     0       0  \n",
       "105714           0   0    0    0     0    0     0     0       0  \n",
       "\n",
       "[105715 rows x 27 columns]"
      ]
     },
     "execution_count": 4,
     "metadata": {},
     "output_type": "execute_result"
    }
   ],
   "source": [
    "train_df = sample_train.loc[:]\n",
    "for tag in selected_tags:\n",
    "    train_df[tag] = train_df.tag_set.apply(\n",
    "        lambda x: 1 if tag in x else 0)\n",
    "\n",
    "train_df\n"
   ]
  },
  {
   "cell_type": "code",
   "execution_count": 13,
   "metadata": {},
   "outputs": [
    {
     "name": "stdout",
     "output_type": "stream",
     "text": [
      "preprocessing\n"
     ]
    },
    {
     "name": "stderr",
     "output_type": "stream",
     "text": [
      "100%|██████████| 105715/105715 [10:46<00:00, 163.41it/s]\n"
     ]
    }
   ],
   "source": [
    "train_df.fillna('', inplace=True)\n",
    "nlp = spacy.load('en_core_web_lg')\n",
    "train_df[\"tokens\"] = preprocess(train_df.text, nlp, return_tokens=True)"
   ]
  },
  {
   "attachments": {},
   "cell_type": "markdown",
   "metadata": {},
   "source": [
    "### Text"
   ]
  },
  {
   "cell_type": "code",
   "execution_count": 16,
   "metadata": {},
   "outputs": [
    {
     "name": "stderr",
     "output_type": "stream",
     "text": [
      "100%|██████████| 105715/105715 [00:05<00:00, 20952.09it/s]\n"
     ]
    }
   ],
   "source": [
    "text_dictionary = Dictionary(train_df['tokens'])\n",
    "text_dictionary.filter_extremes(no_below=5, no_above=0.5, keep_n=1000)\n",
    "text_corpus = [text_dictionary.doc2bow(doc)\n",
    "               for doc in tqdm(train_df['tokens'])]"
   ]
  },
  {
   "cell_type": "code",
   "execution_count": 18,
   "metadata": {},
   "outputs": [
    {
     "name": "stderr",
     "output_type": "stream",
     "text": [
      "100%|██████████| 18/18 [33:24<00:00, 111.38s/it]\n"
     ]
    }
   ],
   "source": [
    "topics = range(3, 21)\n",
    "c_umass_score = []\n",
    "c_v_score = []\n",
    "for i in tqdm(topics):\n",
    "   lda_model = LdaMulticore(corpus=text_corpus, id2word=text_dictionary, iterations=10,\n",
    "                            num_topics=i,  passes=10, random_state=100)\n",
    "   c_umass = CoherenceModel(model=lda_model, corpus=text_corpus,\n",
    "                            dictionary=text_dictionary, coherence='u_mass')\n",
    "   c_v = CoherenceModel(model=lda_model, corpus=text_corpus, texts=train_df['tokens'],\n",
    "                        dictionary=text_dictionary, coherence='c_v')\n",
    "   c_umass_score.append(c_umass.get_coherence())\n",
    "   c_v_score.append(c_v.get_coherence())\n",
    "\n"
   ]
  },
  {
   "cell_type": "code",
   "execution_count": 19,
   "metadata": {},
   "outputs": [
    {
     "data": {
      "image/png": "[encoded data removed]",
      "text/plain": [
       "<Figure size 1080x1080 with 2 Axes>"
      ]
     },
     "metadata": {
      "needs_background": "light"
     },
     "output_type": "display_data"
    }
   ],
   "source": [
    "f, axes = plt.subplots(2, 1, figsize=(15, 15))\n",
    "axes[0].plot(topics, c_v_score)\n",
    "axes[0].set_xlabel('Number of Topics')\n",
    "axes[0].set_ylabel('C_v coherence Score')\n",
    "axes[1].plot(topics, c_umass_score)\n",
    "axes[1].set_xlabel('Number of Topics')\n",
    "axes[1].set_ylabel('C_umass coherence Score')\n",
    "plt.show()\n"
   ]
  },
  {
   "cell_type": "code",
   "execution_count": 21,
   "metadata": {},
   "outputs": [],
   "source": [
    "lda_model = LdaMulticore(corpus=text_corpus, id2word=text_dictionary,\n",
    "                         iterations=100, num_topics=14,  passes=100)"
   ]
  },
  {
   "cell_type": "code",
   "execution_count": 22,
   "metadata": {},
   "outputs": [
    {
     "data": {
      "text/plain": [
       "[(0,\n",
       "  '0.043*\"data\" + 0.034*\"array\" + 0.033*\"string\" + 0.033*\"value\" + 0.028*\"memory\" + 0.022*\"values\" + 0.021*\"object\" + 0.018*\"like\" + 0.015*\"function\" + 0.015*\"want\"'),\n",
       " (1,\n",
       "  '0.037*\"element\" + 0.035*\"table\" + 0.024*\"div\" + 0.021*\"elements\" + 0.020*\"want\" + 0.020*\"list\" + 0.020*\"like\" + 0.019*\"scroll\" + 0.019*\"height\" + 0.017*\"width\"'),\n",
       " (2,\n",
       "  '0.124*\"app\" + 0.050*\"android\" + 0.046*\"ios\" + 0.028*\"iphone\" + 0.027*\"device\" + 0.023*\"xcode\" + 0.017*\"application\" + 0.013*\"apple\" + 0.012*\"devices\" + 0.012*\"apps\"'),\n",
       " (3,\n",
       "  '0.039*\"code\" + 0.039*\"problem\" + 0.038*\"tried\" + 0.035*\"works\" + 0.034*\"work\" + 0.027*\"fine\" + 0.025*\"issue\" + 0.022*\"working\" + 0.015*\"update\" + 0.014*\"help\"'),\n",
       " (4,\n",
       "  '0.046*\"server\" + 0.032*\"data\" + 0.026*\"user\" + 0.025*\"request\" + 0.024*\"database\" + 0.022*\"client\" + 0.019*\"api\" + 0.018*\"service\" + 0.016*\"application\" + 0.015*\"web\"'),\n",
       " (5,\n",
       "  '0.083*\"page\" + 0.049*\"html\" + 0.046*\"javascript\" + 0.040*\"jquery\" + 0.033*\"css\" + 0.031*\"browser\" + 0.024*\"chrome\" + 0.020*\"js\" + 0.017*\"ajax\" + 0.016*\"like\"'),\n",
       " (6,\n",
       "  '0.042*\"run\" + 0.032*\"windows\" + 0.025*\"running\" + 0.022*\"python\" + 0.022*\"test\" + 0.022*\"command\" + 0.022*\"version\" + 0.021*\"system\" + 0.021*\"application\" + 0.020*\"program\"'),\n",
       " (7,\n",
       "  '0.137*\"error\" + 0.061*\"code\" + 0.046*\"following\" + 0.030*\"trying\" + 0.027*\"getting\" + 0.026*\"exception\" + 0.026*\"message\" + 0.021*\"line\" + 0.018*\"try\" + 0.016*\"tried\"'),\n",
       " (8,\n",
       "  '0.070*\"text\" + 0.038*\"form\" + 0.031*\"input\" + 0.030*\"like\" + 0.027*\"field\" + 0.026*\"want\" + 0.021*\"date\" + 0.018*\"value\" + 0.017*\"set\" + 0.017*\"user\"'),\n",
       " (9,\n",
       "  '0.026*\"like\" + 0.024*\"use\" + 0.022*\"way\" + 0.019*\"code\" + 0.015*\"question\" + 0.015*\"time\" + 0.014*\"know\" + 0.012*\"need\" + 0.011*\"thread\" + 0.010*\"example\"'),\n",
       " (10,\n",
       "  '0.091*\"image\" + 0.032*\"images\" + 0.030*\"background\" + 0.029*\"like\" + 0.029*\"size\" + 0.027*\"want\" + 0.023*\"color\" + 0.018*\"code\" + 0.016*\"screen\" + 0.014*\"map\"'),\n",
       " (11,\n",
       "  '0.052*\"class\" + 0.033*\"function\" + 0.028*\"type\" + 0.028*\"c\" + 0.026*\"method\" + 0.023*\"object\" + 0.022*\"code\" + 0.018*\"use\" + 0.018*\"like\" + 0.012*\"compiler\"'),\n",
       " (12,\n",
       "  '0.070*\"view\" + 0.046*\"button\" + 0.029*\"event\" + 0.027*\"click\" + 0.023*\"user\" + 0.023*\"controller\" + 0.019*\"bar\" + 0.017*\"want\" + 0.014*\"method\" + 0.013*\"window\"'),\n",
       " (13,\n",
       "  '0.134*\"file\" + 0.051*\"project\" + 0.047*\"files\" + 0.023*\"library\" + 0.017*\"folder\" + 0.017*\"build\" + 0.016*\"use\" + 0.016*\"like\" + 0.014*\"directory\" + 0.013*\"want\"')]"
      ]
     },
     "execution_count": 22,
     "metadata": {},
     "output_type": "execute_result"
    }
   ],
   "source": [
    "lda_model.print_topics(-1)"
   ]
  },
  {
   "cell_type": "code",
   "execution_count": 23,
   "metadata": {},
   "outputs": [
    {
     "data": {
      "text/plain": [
       "\"Background\\n\\n\\nI am making a publish/subscribe typical application where a publisher sends messages to a consumer. \\n\\n\\nThe publisher and the consumer are on different machines and the connection between them can break occasionally. \\n\\n\\nObjective\\n\\n\\nThe goal here is to make sure that no matter what happens to the connection, or to the machines themselves, a message sent by a publisher is \\nalways\\n received by the \\nconsumer\\n. \\n\\n\\nOrdering of messages is not a must.\\n\\n\\nProblem\\n\\n\\nAccording to my research, RabbitMQ is the right choice for this scenario:\\n\\n\\n\\n\\nRedis Vs RabbitMQ as a data broker/messaging system in between Logstash and elasticsearch\\n\\n\\n\\n\\nHowever, although RabbitMQ has a tutorial about \\npublish and subscriber\\n this tutorial does not present us to persistent queues nor does it mention \\nconfirms\\n which I believe are the key to making sure messages are delivered.\\n\\n\\nOn the other hand, Redis is also capable of doing this:\\n\\n\\n\\n\\nhttp://abhinavsingh.com/customizing-redis-pubsub-for-message-persistence-part-2/\\n\\n\\n\\n\\nbut I couldn't find any official tutorials or examples and my current understatement leads to me to believe that persistent queues and message confirms must be done by us, as Redis is mainly an in memory-datastore instead of a message broker like RabbitMQ. \\n\\n\\nQuestions\\n\\n\\n\\n\\nFor this use case, which solution would be the easiest to implement? (Redis solution or RabbitMQ solution?)\\n\\n\\nPlease provide a link to an example with what you think would be best!\\n\\n\""
      ]
     },
     "execution_count": 23,
     "metadata": {},
     "output_type": "execute_result"
    }
   ],
   "source": [
    "train_df.iloc[0].text\n"
   ]
  },
  {
   "cell_type": "code",
   "execution_count": 24,
   "metadata": {},
   "outputs": [
    {
     "data": {
      "text/plain": [
       "[(0, 0.034307692),\n",
       " (4, 0.21334669),\n",
       " (7, 0.11552945),\n",
       " (9, 0.565641),\n",
       " (10, 0.030141188),\n",
       " (11, 0.031007634)]"
      ]
     },
     "execution_count": 24,
     "metadata": {},
     "output_type": "execute_result"
    }
   ],
   "source": [
    "lda_model[text_corpus][0]"
   ]
  },
  {
   "cell_type": "code",
   "execution_count": 25,
   "metadata": {},
   "outputs": [
    {
     "name": "stderr",
     "output_type": "stream",
     "text": [
      "/home/aurelien/.local/lib/python3.10/site-packages/pyLDAvis/_prepare.py:244: FutureWarning: In a future version of pandas all arguments of DataFrame.drop except for the argument 'labels' will be keyword-only.\n",
      "  by='saliency', ascending=False).head(R).drop('saliency', 1)\n",
      "/home/aurelien/.local/lib/python3.10/site-packages/pyLDAvis/_prepare.py:244: FutureWarning: In a future version of pandas all arguments of DataFrame.drop except for the argument 'labels' will be keyword-only.\n",
      "  by='saliency', ascending=False).head(R).drop('saliency', 1)\n",
      "5169.91s - pydevd: Sending message related to process being replaced timed-out after 5 seconds\n",
      "5170.14s - pydevd: Sending message related to process being replaced timed-out after 5 seconds\n",
      "5170.36s - pydevd: Sending message related to process being replaced timed-out after 5 seconds\n",
      "5170.58s - pydevd: Sending message related to process being replaced timed-out after 5 seconds\n",
      "5170.80s - pydevd: Sending message related to process being replaced timed-out after 5 seconds\n",
      "5171.02s - pydevd: Sending message related to process being replaced timed-out after 5 seconds\n",
      "5171.24s - pydevd: Sending message related to process being replaced timed-out after 5 seconds\n",
      "5171.75s - pydevd: Sending message related to process being replaced timed-out after 5 seconds\n",
      "5171.98s - pydevd: Sending message related to process being replaced timed-out after 5 seconds\n",
      "5172.20s - pydevd: Sending message related to process being replaced timed-out after 5 seconds\n",
      "5172.44s - pydevd: Sending message related to process being replaced timed-out after 5 seconds\n",
      "5172.66s - pydevd: Sending message related to process being replaced timed-out after 5 seconds\n",
      "5172.88s - pydevd: Sending message related to process being replaced timed-out after 5 seconds\n",
      "5173.12s - pydevd: Sending message related to process being replaced timed-out after 5 seconds\n",
      "5173.34s - pydevd: Sending message related to process being replaced timed-out after 5 seconds\n"
     ]
    },
    {
     "data": {
      "text/html": [
       "\n",
       "<link rel=\"stylesheet\" type=\"text/css\" href=\"https://cdn.jsdelivr.net/gh/bmabey/pyLDAvis@3.4.0/pyLDAvis/js/ldavis.v1.0.0.css\">\n",
       "\n",
       "\n",
       "<div id=\"ldavis_el72071397421945135367956355116\" style=\"background-color:white;\"></div>\n",
       "<script type=\"text/javascript\">\n",
       "\n",
       "var ldavis_el72071397421945135367956355116_data = {\"mdsDat\": {\"x\": [-0.004711801326994045, 0.09916207225231233, -0.03309502411516584, 0.03998054078840149, -0.08061502974790825, 0.05321370040017277, 0.2343307881576925, 0.16229635159884384, -0.10603819314598037, -0.05320517719822866, 0.17288492073261016, -0.18885082669000672, -0.1703635537660521, -0.12498876793969788], \"y\": [-0.01134737361820588, -0.19741780947258328, -0.040070490253124466, 0.1456087352510264, -0.06659161787053788, 0.08378995796181687, 0.0720112154696224, -0.25725538743500626, 0.14777062965730517, -0.0023891706096398463, 0.1945062764468531, -0.03044595118059245, 0.02600738081896512, -0.06417639516589951], \"topics\": [1, 2, 3, 4, 5, 6, 7, 8, 9, 10, 11, 12, 13, 14], \"cluster\": [1, 1, 1, 1, 1, 1, 1, 1, 1, 1, 1, 1, 1, 1], \"Freq\": [16.10895951323773, 9.312478534354524, 9.28786159828272, 8.546727554118434, 7.5181108751795716, 6.672767766949803, 6.396873046585883, 5.706313008135432, 5.548750449622256, 5.525595809806168, 5.488150201594509, 5.036919152232647, 4.556870686990284, 4.293621802910037]}, \"tinfo\": {\"Term\": [\"file\", \"error\", \"app\", \"page\", \"image\", \"view\", \"class\", \"data\", \"text\", \"server\", \"files\", \"project\", \"android\", \"code\", \"html\", \"ios\", \"javascript\", \"button\", \"run\", \"value\", \"array\", \"function\", \"object\", \"jquery\", \"string\", \"user\", \"c\", \"css\", \"following\", \"windows\", \"performance\", \"speed\", \"fast\", \"thread\", \"threads\", \"faster\", \"slow\", \"practice\", \"learn\", \"async\", \"operations\", \"interested\", \"better\", \"easier\", \"especially\", \"pattern\", \"languages\", \"feel\", \"approach\", \"best\", \"asking\", \"experience\", \"job\", \"good\", \"programming\", \"complex\", \"features\", \"examples\", \"people\", \"nice\", \"looking\", \"lot\", \"question\", \"answer\", \"time\", \"way\", \"easy\", \"use\", \"think\", \"like\", \"know\", \"things\", \"questions\", \"find\", \"understand\", \"solution\", \"example\", \"code\", \"need\", \"etc\", \"case\", \"read\", \"possible\", \"simple\", \"found\", \"want\", \"different\", \"work\", \"bug\", \"perfectly\", \"worked\", \"strange\", \"weird\", \"luck\", \"fine\", \"solved\", \"issue\", \"works\", \"removing\", \"fix\", \"happening\", \"causing\", \"safari\", \"tested\", \"anymore\", \"hours\", \"suggested\", \"days\", \"workaround\", \"greatly\", \"tried\", \"solve\", \"facing\", \"today\", \"stackoverflow\", \"checked\", \"correctly\", \"latest\", \"problem\", \"work\", \"working\", \"update\", \"issues\", \"changed\", \"edit\", \"expected\", \"happens\", \"help\", \"code\", \"wrong\", \"found\", \"solution\", \"trying\", \"appreciated\", \"try\", \"version\", \"following\", \"having\", \"answer\", \"got\", \"set\", \"thanks\", \"change\", \"sure\", \"find\", \"constructor\", \"member\", \"declared\", \"arguments\", \"class\", \"compiler\", \"definition\", \"argument\", \"generic\", \"gcc\", \"types\", \"pointer\", \"expression\", \"parameter\", \"define\", \"classes\", \"global\", \"type\", \"objective\", \"pointers\", \"defined\", \"functions\", \"parameters\", \"template\", \"compiles\", \"static\", \"variables\", \"c\", \"explicitly\", \"base\", \"methods\", \"interface\", \"function\", \"object\", \"instance\", \"reference\", \"method\", \"variable\", \"standard\", \"called\", \"code\", \"use\", \"like\", \"example\", \"compile\", \"following\", \"question\", \"way\", \"want\", \"know\", \"request\", \"database\", \"query\", \"connection\", \"http\", \"sql\", \"session\", \"entity\", \"token\", \"db\", \"mysql\", \"authentication\", \"requests\", \"client\", \"service\", \"response\", \"send\", \"sending\", \"server\", \"domain\", \"password\", \"logged\", \"sent\", \"laravel\", \"security\", \"login\", \"spring\", \"queries\", \"mvc\", \"route\", \"email\", \"api\", \"connect\", \"data\", \"web\", \"user\", \"access\", \"php\", \"application\", \"users\", \"post\", \"url\", \"use\", \"need\", \"like\", \"want\", \"array\", \"bytes\", \"arrays\", \"buffer\", \"byte\", \"string\", \"memory\", \"strings\", \"values\", \"length\", \"keys\", \"integer\", \"int\", \"numbers\", \"range\", \"convert\", \"count\", \"value\", \"json\", \"random\", \"stream\", \"key\", \"returned\", \"parse\", \"compare\", \"objects\", \"double\", \"address\", \"loop\", \"number\", \"data\", \"return\", \"returns\", \"object\", \"output\", \"list\", \"result\", \"format\", \"function\", \"like\", \"read\", \"want\", \"need\", \"way\", \"code\", \"example\", \"use\", \"following\", \"know\", \"file\", \"files\", \"folder\", \"directory\", \"xml\", \"dependencies\", \"import\", \"modules\", \"dependency\", \"project\", \"upload\", \"path\", \"eclipse\", \"projects\", \"download\", \"module\", \"config\", \"include\", \"library\", \"included\", \"libraries\", \"root\", \"downloaded\", \"build\", \"package\", \"configuration\", \"resource\", \"resources\", \"github\", \"configure\", \"plugin\", \"source\", \"header\", \"framework\", \"add\", \"create\", \"use\", \"like\", \"want\", \"application\", \"need\", \"created\", \"new\", \"find\", \"way\", \"windows\", \"linux\", \"machine\", \"npm\", \"ubuntu\", \"commands\", \"visual\", \"environment\", \"install\", \"command\", \"tests\", \"installed\", \"studio\", \"microsoft\", \"unit\", \"os\", \"production\", \"debug\", \"packages\", \"computer\", \"mac\", \"platform\", \"program\", \"python\", \"dev\", \"run\", \"port\", \"system\", \"debugging\", \"running\", \"release\", \"process\", \"version\", \"test\", \"node\", \"script\", \"runs\", \"application\", \"package\", \"build\", \"c\", \"output\", \"line\", \"java\", \"use\", \"exception\", \"warning\", \"react\", \"throws\", \"error\", \"catch\", \"component\", \"throw\", \"message\", \"failed\", \"errors\", \"invalid\", \"console\", \"log\", \"messages\", \"getting\", \"gives\", \"saying\", \"resolve\", \"occurs\", \"line\", \"giving\", \"try\", \"following\", \"attempting\", \"undefined\", \"crashes\", \"fails\", \"components\", \"statement\", \"wrong\", \"trying\", \"node\", \"code\", \"test\", \"got\", \"tried\", \"help\", \"run\", \"function\", \"problem\", \"output\", \"fix\", \"use\", \"method\", \"javascript\", \"ajax\", \"pages\", \"pdf\", \"page\", \"browsers\", \"js\", \"jquery\", \"browser\", \"html\", \"dom\", \"firefox\", \"chrome\", \"angular\", \"tag\", \"website\", \"tags\", \"ie\", \"css\", \"site\", \"loads\", \"links\", \"loading\", \"rendered\", \"loaded\", \"load\", \"url\", \"bootstrap\", \"plugin\", \"document\", \"script\", \"link\", \"content\", \"web\", \"php\", \"like\", \"use\", \"way\", \"code\", \"want\", \"button\", \"buttons\", \"navigation\", \"dialog\", \"press\", \"view\", \"events\", \"bar\", \"event\", \"views\", \"clicked\", \"keyboard\", \"activity\", \"action\", \"click\", \"tab\", \"clicks\", \"clicking\", \"controller\", \"trigger\", \"mouse\", \"window\", \"menu\", \"hide\", \"handler\", \"touch\", \"delegate\", \"video\", \"state\", \"status\", \"screen\", \"user\", \"custom\", \"called\", \"method\", \"want\", \"ui\", \"code\", \"new\", \"add\", \"like\", \"set\", \"android\", \"ios\", \"iphone\", \"device\", \"devices\", \"apps\", \"audio\", \"ipad\", \"notification\", \"phone\", \"simulator\", \"xcode\", \"apple\", \"swift\", \"app\", \"sdk\", \"mobile\", \"play\", \"facebook\", \"push\", \"desktop\", \"crash\", \"launch\", \"native\", \"crashes\", \"developer\", \"connected\", \"location\", \"developing\", \"video\", \"google\", \"settings\", \"application\", \"store\", \"user\", \"api\", \"use\", \"new\", \"know\", \"div\", \"scroll\", \"column\", \"row\", \"cell\", \"rows\", \"columns\", \"scrolling\", \"child\", \"parent\", \"items\", \"height\", \"element\", \"table\", \"width\", \"fiddle\", \"container\", \"item\", \"elements\", \"layout\", \"jsfiddle\", \"position\", \"tables\", \"fixed\", \"group\", \"index\", \"space\", \"hidden\", \"bootstrap\", \"content\", \"list\", \"css\", \"left\", \"want\", \"like\", \"inside\", \"right\", \"example\", \"way\", \"set\", \"text\", \"field\", \"date\", \"fields\", \"font\", \"validation\", \"word\", \"attribute\", \"form\", \"attributes\", \"submit\", \"input\", \"forms\", \"select\", \"label\", \"filter\", \"characters\", \"enter\", \"style\", \"character\", \"selected\", \"box\", \"model\", \"rules\", \"words\", \"search\", \"property\", \"default\", \"properties\", \"format\", \"control\", \"custom\", \"value\", \"set\", \"want\", \"like\", \"user\", \"change\", \"add\", \"line\", \"use\", \"way\", \"need\", \"example\", \"image\", \"images\", \"color\", \"draw\", \"white\", \"picture\", \"black\", \"frame\", \"red\", \"map\", \"background\", \"animation\", \"center\", \"icon\", \"size\", \"area\", \"x\", \"layer\", \"direction\", \"points\", \"effect\", \"smaller\", \"rendering\", \"screenshot\", \"render\", \"left\", \"screen\", \"fit\", \"display\", \"game\", \"position\", \"right\", \"change\", \"want\", \"like\", \"set\", \"point\", \"trying\", \"code\", \"way\", \"help\", \"need\", \"use\", \"thanks\", \"create\", \"know\", \"tried\"], \"Freq\": [30577.0, 26869.0, 26040.0, 15693.0, 13321.0, 13346.0, 17181.0, 21918.0, 10977.0, 14569.0, 10797.0, 14375.0, 9479.0, 57408.0, 10583.0, 8725.0, 8712.0, 8689.0, 14189.0, 12146.0, 8695.0, 18731.0, 13337.0, 8071.0, 8872.0, 18009.0, 13628.0, 8705.0, 23144.0, 6942.0, 3320.1261157683293, 1183.5427005825327, 1264.9290033091802, 5872.856122968867, 2144.539362938278, 1510.439430619244, 1237.1131257036693, 1125.03289579208, 882.7427024542515, 1141.733498695852, 1122.2217925395923, 1086.612899892857, 4638.721530582959, 886.7896785907006, 796.0188757319255, 1373.9825139671084, 774.2582355753442, 1056.882370186341, 2955.3156633989174, 4485.91377667377, 964.6970852412019, 1061.9514663950995, 898.888781607687, 4463.887021655192, 1197.2876424261171, 811.7371922703987, 981.0842868178808, 1849.9642167532936, 1575.0885091308355, 1135.0364245807355, 4317.340612504756, 3090.4118092212384, 8246.657230144263, 3747.899524380323, 8089.017005095542, 12138.870420149164, 1543.9517853189304, 13167.056009573827, 3670.7010292187815, 14319.8702175934, 7673.006618659612, 2409.3309748872557, 2193.6072942089245, 5058.63973217246, 3175.0188599034377, 4401.665743337983, 5717.306268067399, 10688.961519728271, 6465.064102087302, 2716.0921515175896, 3396.536417514377, 3094.3224512830484, 3723.152512660407, 3096.7019370457015, 3346.4603079688745, 5035.908306027281, 3204.420504535458, 3359.8506013242354, 2499.673894583857, 1601.018862245536, 2341.720512372707, 1094.4156344884177, 939.9565778854101, 893.9285820121191, 8474.87040305924, 782.4537193623916, 7830.772322615567, 11284.634738111452, 718.133644642882, 2879.1183898702, 1282.897289202409, 917.1395772811511, 1417.9450517227472, 1075.7958210153176, 518.0569661344451, 626.786308458505, 745.9106399221449, 741.3204980819646, 779.6289766932133, 789.9881245006378, 11978.136659363423, 1782.1981705190094, 462.5433110025732, 496.81650130843076, 587.8605418260905, 1169.0616527138523, 2082.208022756278, 769.7532597452048, 12334.793941349537, 10689.619597844134, 7066.484476040674, 4684.914196350199, 1382.1671568680633, 1531.9069685525772, 4053.8779601474153, 1760.016954291785, 1551.966080785979, 4551.620987748024, 12528.439644913518, 2854.135384282888, 3229.1297603427574, 3157.1891870052746, 4387.006986077687, 1831.5063353981534, 2644.7376195135707, 2631.5471178896896, 3746.154458969846, 2179.0026471678666, 1966.4298974887215, 1969.851649041908, 2312.2080537915795, 2147.415625427278, 1953.3279406688391, 1855.0237462011573, 1854.009492213071, 2095.4722435447343, 1345.95097565678, 994.4356254882312, 1361.8977322590424, 16429.537794310258, 3700.5226378313355, 1112.5956939910068, 1617.5026533585242, 1083.6708145220805, 2609.9119473942383, 2601.705864362298, 2507.029933519742, 1343.225048287985, 2334.6842609903993, 1323.8469155914377, 3225.552204892056, 1057.6378895794603, 8775.184714034402, 1383.722931895615, 1090.665440133394, 2450.7411706589805, 3515.5584568139816, 1586.324664601676, 2161.781756637829, 654.2856899468527, 2050.0051026578044, 1730.2356119120225, 8767.272901359282, 675.6558521887648, 1170.4207822267394, 3249.7158611103714, 1930.6823254491019, 10360.083960291357, 7332.019466405814, 2658.3903956636773, 2725.3189729817445, 8395.307465374137, 2829.422816343825, 2305.0651938972514, 2685.2448623955174, 7088.584091467473, 5881.670821547288, 5817.446390257405, 3524.2573611987846, 1937.083520658066, 2914.5143646281854, 2579.2657493275356, 2823.2458059535265, 2664.397896845415, 2179.5168057559354, 7361.053599615825, 7023.997670463545, 4093.5262969603623, 3382.0564970614355, 2537.616324308435, 2378.5553312813413, 2194.5749544795217, 2084.161176628809, 2050.835206109405, 1900.1501213415854, 1792.9241789963562, 1585.7591845077593, 2451.7138382021703, 6356.965588497168, 5390.614568703641, 3503.602201951248, 4187.958492799391, 1361.909866168502, 13415.100095936537, 1429.0067134200726, 1634.5139789062887, 882.6591571710259, 1530.5203217831713, 1285.0558970703803, 1262.4125842149451, 2100.950216376313, 1669.915178527209, 971.7977462664751, 1377.6017069291536, 994.2655100109902, 1612.386064605632, 5508.554665291187, 1659.292241648159, 9433.091593254941, 4508.494398433949, 7578.248549947828, 3327.373255794711, 3293.6053787366727, 4741.2941989768815, 2199.709033099002, 2360.779262396789, 2231.365003221864, 3692.9004555873216, 2898.080074172405, 3201.021800253647, 2807.2139454766793, 8694.523615837143, 1771.0032662212484, 1476.3733417258154, 1323.984421930867, 1308.8952617435448, 8454.106459090326, 7248.723793344678, 1878.0950805321963, 5674.929914992818, 1115.2872808939933, 1085.8295537646009, 1167.9738254325844, 979.1933875459819, 1384.1494002291054, 825.0518597623109, 2355.226398710597, 788.9486749199218, 8379.948682597917, 3040.699598739381, 853.244650696455, 1272.352860445744, 2884.3131135542444, 1227.8257630567036, 923.1541893814698, 566.0978975494152, 2914.874998708902, 760.5886890816695, 1567.2320180909167, 1895.9218473811165, 3358.019694794408, 11191.69968752507, 3075.7203345074695, 2332.436557878899, 5396.741102592245, 2919.6871894855335, 2965.827945583233, 2437.3781065938283, 1579.389870203345, 3894.2610082175793, 4632.960238207249, 2220.384548120107, 3783.7638870792016, 3092.385852388258, 3035.3517605870343, 3342.384212664322, 2387.9802882178224, 2181.1150947888013, 1983.0397476599715, 1808.453725351906, 30576.519366582343, 10796.729430081708, 3859.9340539986893, 3307.507311405876, 2806.073004099676, 1459.2030811341403, 1657.8763640867846, 1303.71550915161, 1154.0647503452394, 11762.766614506378, 1691.633540622967, 2805.654431248889, 1319.6980300312216, 1399.3898510893687, 1605.70985963147, 2500.0666562646616, 1072.371614537652, 1781.5959386505817, 5155.116829972567, 849.1114347177494, 1529.3932346076713, 948.5938102308793, 577.8338591486056, 3823.608062238106, 1411.227414926483, 1247.7598132863843, 669.2737703711593, 585.4952220134904, 433.15498360673524, 382.3346294526996, 1133.060100426567, 2135.6010529752016, 1388.1772722998057, 1438.8805814768727, 2421.589356481853, 2245.273101244524, 3768.3308972352706, 3575.720533444308, 2863.1694493720825, 1934.7114203904644, 2012.3530648124697, 1522.8310512877515, 1685.1771714977783, 1542.8832670009324, 1576.2100544130728, 6941.115692123476, 2806.6713916188137, 2637.9948017235106, 1891.9985503004214, 1198.6105464262187, 1013.9250402577295, 3222.1753836320327, 2327.5748419989895, 3162.211980429409, 4734.007712913118, 2802.6685247288247, 3289.3434165689882, 3189.952631732328, 1257.7339639728282, 1563.146258026032, 1629.2332597329844, 728.0835139367126, 1930.0855879171952, 869.1125744961859, 757.0561305949229, 1271.6580707493904, 1032.5548424035626, 4273.616789681918, 4877.198172598038, 621.207815001215, 9114.673229799246, 946.6922046368267, 4680.478859046298, 829.5797226670951, 5504.716340295114, 1060.4568370817894, 3090.2981458951645, 4713.983581521978, 4812.259964297688, 2259.346290177658, 2548.4391253320828, 1428.0303148123976, 4619.358192164996, 1548.9492656165964, 2363.3857236114213, 2605.496102646809, 1902.5167912910745, 1944.0033675025688, 1710.585018388174, 1906.7529478432732, 5148.407104772518, 2556.7700367162556, 2275.6525937732968, 1231.3427286096617, 26753.75367982391, 997.2872389176794, 2156.9762554147633, 822.9562698153964, 5116.197923521811, 1676.8991244059791, 2953.5846153179787, 810.5029913297798, 2211.1606752069365, 1878.6870795828604, 1150.3049740630074, 5300.7224159115085, 1692.6071677307095, 539.179292640561, 662.6524331947869, 612.5836482023202, 4116.024064228683, 464.57955998870005, 3571.640361371644, 9018.032552851553, 416.68063339476487, 523.7879591548727, 402.93962308156216, 841.2821989812702, 409.7158390125849, 651.1724525660602, 2440.684364813446, 5944.5469999353745, 1390.4891041068154, 12018.92409588928, 2649.5999755113535, 1676.804812421717, 3119.33501454709, 2186.5905826119897, 2073.6461552351907, 2157.915005590159, 1708.3902236761273, 1246.2470262692862, 1095.8075768558792, 1231.388701150253, 1159.0454009288087, 8711.491012213122, 3295.31884994822, 2110.648247522901, 1786.6130970218755, 15683.225439383772, 1914.960703759605, 3786.3332710499913, 7539.7430718992455, 5821.891206447965, 9358.60422324128, 1289.5119660972282, 2516.76280391493, 4547.750926807142, 1408.3586932744652, 2323.8843882714586, 2811.020700627735, 1256.272210058837, 1809.3700976220061, 6350.722189259624, 2765.5125418191014, 811.623362997584, 1136.497693386929, 1457.9500641831544, 611.0926093566832, 1638.009564427115, 3037.096824794097, 2613.670730883148, 1174.0836576697006, 1479.7199661614861, 1217.9646218889786, 2738.479618716292, 2542.3299948879085, 2432.078222484554, 2707.2692085576186, 2341.9456993825797, 3136.2096349541152, 2728.5448973169114, 2053.565248647082, 2154.1089136293367, 1810.6554237800656, 8688.20250531836, 1849.7528801287617, 1837.4948585160744, 1456.338580510039, 1079.2503267631675, 13326.373569527474, 2325.54916673182, 3637.0555759339977, 5552.901773492438, 1672.5681565249017, 1167.5354799202335, 1617.696725726065, 2142.567411591791, 2013.04666018666, 5018.285389221665, 1940.5314920314877, 850.6537736449283, 1019.3591860437746, 4281.878147092948, 861.715224197247, 978.1651072424045, 2496.476178059752, 1514.77133964532, 790.8286585424659, 917.3578059932921, 877.8651429894891, 873.8920581020665, 2267.7872419688247, 1481.0487337600882, 866.7196838751745, 1989.383749031585, 4313.570090612875, 1881.5925658836359, 2035.9468829069106, 2683.8343120757986, 3213.0237256113032, 1197.2460378704013, 2457.783050897819, 1688.4553832764852, 1589.0819814528857, 1860.3527684244068, 1490.7686918712188, 9478.350029067022, 8724.980221044323, 5285.142322786816, 5095.520702325291, 2256.07719791712, 2224.1613758406397, 1911.619459105386, 1793.5607033983626, 1735.4011776056911, 1668.4082975686142, 1570.4514859035176, 4233.256448128346, 2471.8451617031246, 1651.9249731215061, 23394.12895246072, 1826.710165689965, 2132.3407203740253, 1716.4495220766298, 1240.868611326542, 1176.936017055197, 876.8455488333133, 1050.7846165586961, 689.8230218143722, 1845.813640390994, 617.732686124739, 915.9496672406482, 454.3256575716317, 1184.2994220042378, 757.6288873885333, 1541.6582007065344, 2114.465282412337, 939.9097794670726, 3278.433280530515, 1275.2516262789575, 1850.6851621489352, 1391.4698153002253, 1996.8597078091793, 1467.6329585630979, 1429.4496488244954, 4169.961293028481, 3324.2323498179962, 2844.3540852615383, 2817.2716537151446, 2476.610066354669, 1924.0329038476775, 1658.414832122883, 1522.3426329327674, 2023.590201741815, 2414.703256058741, 2709.562594710325, 3215.15049457858, 6299.181752640193, 6100.979675819378, 2877.423978352785, 838.0205846766288, 2266.532868183984, 2447.6089021642983, 3677.496759459066, 2006.9777923320994, 751.7122489906433, 1631.5403610456497, 750.7888016523159, 1317.1554789470736, 690.8365626283576, 931.146054181069, 1092.9227459202202, 550.0844895032858, 964.3816406600316, 2755.043581457971, 3435.8888006647926, 2273.172014197497, 1218.044556789484, 3531.270657330757, 3381.6760455937906, 1563.7428374293156, 1522.980496226506, 1730.188675621726, 1869.3953887148587, 1550.5347762562499, 10977.017939499181, 4255.3098895848425, 3327.323997784312, 2398.8159940236324, 2251.1391486916496, 1724.8145257934818, 1296.2902984825662, 2613.211798001384, 6005.813021711655, 1216.0794491818274, 1166.6212996624786, 4765.515487044434, 817.794387972757, 2494.5980219609864, 969.2906763950008, 854.4301889080028, 1290.4316236192435, 795.3419743459115, 1840.066052020892, 1079.5691988827991, 1200.4733031471571, 1559.1209648798263, 2189.259212674026, 511.449084660698, 700.8576657904309, 1462.9671629847726, 2131.4750421583212, 2035.7460832450424, 929.7688656148728, 988.6087462232093, 1088.7469413669166, 1743.6152089856032, 2758.8599526678267, 2665.0036760287658, 4121.367743867297, 4623.064850124466, 2637.9402184854193, 1851.164020809015, 1766.880087561853, 1635.040492959794, 2110.9161022315634, 2003.9327299550798, 1446.8372329522088, 1315.9882116680258, 13320.356887793436, 4768.057866329182, 3384.5807028077893, 1251.1788533807428, 1207.2242205832745, 1118.8525962212848, 994.4486339180976, 1574.8477996926495, 1023.3616743106039, 2111.8494921084307, 4458.884107105973, 1885.9215452092683, 902.6054144402877, 1020.6880076803249, 4228.093515929315, 904.294770628707, 1741.8424706792957, 736.8698662471184, 593.7260578809004, 858.032248358895, 1119.0247306778188, 386.82992804396343, 484.3631400019142, 521.4121877474627, 663.0185675912351, 1417.0486568603453, 2355.892860993519, 370.2956360461687, 1678.6860440373143, 491.5226113901425, 755.449564932761, 1916.1240528298895, 2040.4973282104634, 3987.86943595287, 4230.556963440174, 1909.7256924698256, 1129.2775877104177, 1865.9320290208868, 2699.1375980192884, 1792.862767408477, 1410.9034636118413, 1575.6257953780107, 1637.2077362985874, 1315.3261662337154, 1235.0802745854999, 1260.857289580674, 1225.0207177663267], \"Total\": [30577.0, 26869.0, 26040.0, 15693.0, 13321.0, 13346.0, 17181.0, 21918.0, 10977.0, 14569.0, 10797.0, 14375.0, 9479.0, 57408.0, 10583.0, 8725.0, 8712.0, 8689.0, 14189.0, 12146.0, 8695.0, 18731.0, 13337.0, 8071.0, 8872.0, 18009.0, 13628.0, 8705.0, 23144.0, 6942.0, 3321.1047447373576, 1184.486233902869, 1288.9216240184983, 5990.091367553609, 2240.1895858733865, 1588.1156688534447, 1354.3218923173572, 1276.0593489208372, 1020.2875060280097, 1333.9874448496953, 1323.131991094925, 1293.2707689289145, 5599.577261243638, 1070.5724048419381, 962.9738899620214, 1668.8899280637127, 962.6868607559044, 1314.5457267485317, 3740.0326204262838, 5700.748775210233, 1227.450502062212, 1353.6467442300009, 1157.97353088841, 5766.131747089395, 1573.3894042080813, 1073.9757135053105, 1301.9872656398873, 2488.3854484614358, 2121.6679748812176, 1548.603617284357, 6770.114013182255, 4690.104658633653, 16107.848932990142, 6330.976552284062, 16800.1269854027, 32198.70511883938, 2303.791436472342, 41929.061208591374, 7517.655641080894, 51906.513725075616, 22480.801435499827, 4393.897177234, 3837.824777537962, 13620.512042432156, 6809.300108948162, 11364.996718404225, 18924.905398025025, 57408.47238950231, 24133.14747309439, 5633.832183341464, 9090.978530460925, 8174.531792751781, 12704.587146236088, 8639.605313115286, 11364.124468160739, 35444.921975905265, 11305.656245955892, 22137.877908193645, 2663.763641034621, 1748.8603040327278, 2629.660029653829, 1300.7569205967923, 1132.8907052951806, 1083.7624621176683, 10344.942560665388, 963.6610820679006, 10430.354916293636, 16466.425153257707, 1049.6530037444838, 4234.695934029365, 1938.6295474922008, 1393.910054643779, 2201.720276388194, 1695.197442974369, 844.0198475669238, 1029.8464389295516, 1260.6553484274023, 1267.742842041291, 1343.1353928537555, 1394.340540630526, 21410.54305401472, 3198.624548612643, 835.1082955516177, 903.9276278780701, 1079.6453559215738, 2164.0137148700114, 4012.4496398271235, 1487.1815094348872, 24363.1022630938, 22137.877908193645, 14425.1726611678, 9654.43980820399, 2677.045582898208, 3044.774699640042, 10488.617283339614, 3701.510402420457, 3251.9393607826382, 14288.224891997503, 57408.47238950231, 7637.536237466763, 11364.124468160739, 11364.996718404225, 21550.21459673021, 4435.663692383357, 8969.592026387652, 9496.818716618194, 23144.649019223827, 6982.69513229662, 6330.976552284062, 6386.115627583415, 16274.72355689105, 14055.90612459284, 10475.409863394485, 8046.609782844005, 13620.512042432156, 2096.403408061933, 1346.8821400213415, 995.6241995252063, 1412.6817988378486, 17181.307385973476, 4111.495231463293, 1255.2058492465862, 1832.6930403926008, 1255.4761831417775, 3068.804535273289, 3097.051518060615, 3039.1740098566993, 1662.9966022041478, 2932.5492107722343, 1705.8753668829706, 4249.154345239954, 1406.5302905235462, 11728.295136249284, 1891.508905074214, 1493.7284941744836, 3413.9493938592204, 4899.881069876817, 2228.2389415883795, 3084.159761145727, 959.5330259980361, 3169.4439686940127, 2680.5447997231004, 13628.407791379937, 1056.4497904031984, 1836.1918013624474, 5287.7095539038955, 3126.059531943873, 18731.536384213287, 13337.15406453475, 4423.609304418325, 4557.840881531792, 17930.47542923374, 5092.128388905617, 4150.984467845689, 7318.1903199858225, 57408.47238950231, 41929.061208591374, 51906.513725075616, 18924.905398025025, 3997.8375748036565, 23144.649019223827, 16107.848932990142, 32198.70511883938, 35444.921975905265, 22480.801435499827, 7361.9841037119095, 7024.928152504323, 4094.4567810230546, 3382.9869952802296, 2538.5468057126322, 2379.4858126079475, 2195.505436302441, 2085.091659037837, 2051.765687261409, 1901.080603155258, 1793.854660275789, 1586.6896650970543, 2454.7450235476067, 6370.888372267022, 5494.004276604554, 3637.8255593653735, 4512.870961740307, 1471.6343138724635, 14569.301863003513, 1595.3101022585042, 1829.7899498156469, 991.4371514076354, 1734.4553249225899, 1472.9257308031836, 1483.078727628861, 2474.6753372436897, 1977.1800281854312, 1170.2441974452074, 1660.338739787486, 1242.548761558371, 2015.6203268739544, 8258.052634837211, 2225.9807139970685, 21918.714517272205, 8544.657479972433, 18009.732067855177, 6857.225769818845, 7659.753590941153, 17640.197695905048, 4030.498904964484, 5100.561207794444, 4852.379420427682, 41929.061208591374, 24133.14747309439, 51906.513725075616, 35444.921975905265, 8695.454476950841, 1771.9341274973067, 1477.3042026169849, 1324.9152837532029, 1309.8261227526095, 8872.389121547074, 7689.663745931806, 2007.1943049472413, 6418.0602437492125, 1323.1125248859494, 1305.8542252302132, 1418.0974080489939, 1285.792282252797, 1843.7412170129796, 1120.7048238028092, 3201.6400258472904, 1130.2271177477157, 12146.993288558688, 4518.7623791867, 1269.9580965367234, 1928.3663197708408, 4685.501146415663, 2003.508957142143, 1509.5781428741134, 940.1644661123461, 5162.882130806804, 1359.7955676705278, 2885.535251356421, 3582.121539347275, 6377.723909723822, 21918.714517272205, 6000.139244930325, 4689.336417409049, 13337.15406453475, 7263.6127084326745, 8448.074064093013, 6661.595256761571, 3216.6803976819774, 18731.536384213287, 51906.513725075616, 8174.531792751781, 35444.921975905265, 24133.14747309439, 32198.70511883938, 57408.47238950231, 18924.905398025025, 41929.061208591374, 23144.649019223827, 22480.801435499827, 30577.448919803788, 10797.658960165965, 3860.8635834075803, 3322.9501272885313, 3058.440932534275, 1612.0578273883564, 1889.5623705060627, 1509.113878136215, 1353.551275077747, 14375.748117201216, 2095.8638800362114, 3608.9581970808817, 1708.2287806065403, 1865.0827497152902, 2184.536976163278, 3782.972840986142, 1628.5889367577001, 2999.6686869615314, 9104.734674279107, 1537.3484948421647, 2825.4948881924934, 1756.2211931122, 1070.1835143191588, 7419.637313555803, 2961.070296152492, 2642.1603680147364, 1516.3831975921778, 1425.1063006337395, 1055.0046097782683, 961.7354312700319, 2891.7177399929305, 5546.986687475274, 3822.3051311842737, 4415.440396688861, 11406.812467853008, 12350.738469411976, 41929.061208591374, 51906.513725075616, 35444.921975905265, 17640.197695905048, 24133.14747309439, 6980.512502953957, 15213.202109974138, 13620.512042432156, 32198.70511883938, 6942.045270475178, 2807.6009812273583, 2638.924380174745, 1892.9281277492612, 1199.5401635389014, 1014.9407457681496, 3240.2365055640053, 2412.2384821351916, 3339.400035148343, 5103.26757298147, 3076.750524981327, 3743.82597735256, 3795.168434127461, 1588.2384123656443, 1984.0703538454331, 2155.9962682222776, 992.4177073803836, 2731.3063036569292, 1243.379048154843, 1103.3623023248942, 1867.4116202048017, 1534.4019426198383, 6462.62747345825, 7401.489094164367, 948.1304261769884, 14189.561135852151, 1495.975179228583, 7501.202438590564, 1353.4410563030176, 9109.631962416606, 1758.211322471076, 5793.885231732135, 9496.818716618194, 9975.466931697832, 4518.622469055129, 5528.280087015924, 2550.6524595717974, 17640.197695905048, 2961.070296152492, 7419.637313555803, 13628.407791379937, 7263.6127084326745, 9346.235749424182, 7226.910359285917, 41929.061208591374, 5149.337553940074, 2557.700474136046, 2276.5830314605296, 1232.273171388181, 26869.867946289927, 1126.776678002978, 2439.596470494349, 967.2112677382031, 6196.741646257602, 2201.397539462949, 4128.467498743837, 1211.7702039956946, 3631.4348947116623, 3143.906925571099, 1928.3157561578646, 8998.761956328142, 3320.859388176115, 1079.4824103596902, 1369.1162694565378, 1366.4540054207926, 9346.235749424182, 1146.8152504422005, 8969.592026387652, 23144.649019223827, 1090.6050590615757, 1420.024252942198, 1134.6257401979717, 2389.808393525409, 1171.4600033563752, 1868.9078956150622, 7637.536237466763, 21550.21459673021, 4518.622469055129, 57408.47238950231, 9975.466931697832, 6386.115627583415, 21410.54305401472, 14288.224891997503, 14189.561135852151, 18731.536384213287, 24363.1022630938, 7263.6127084326745, 4234.695934029365, 41929.061208591374, 17930.47542923374, 8712.420510024484, 3296.41711528185, 2111.5777038173937, 1787.5425522752996, 15693.582717526171, 1953.1369051139848, 3962.260622771626, 8071.212032291918, 6287.306752135792, 10583.394616840538, 1468.8114065688594, 2871.8113986102326, 5434.397028867941, 1722.631070064712, 2874.0931574939273, 3579.0882510821257, 1613.2681388293686, 2367.0214963047274, 8705.324038409648, 3883.3899270972074, 1319.6289800218942, 1869.1291824222326, 2402.2244022302825, 1010.1193771455521, 2808.1888328759046, 5629.0042281801925, 4852.379420427682, 2185.9684768617967, 2891.7177399929305, 2382.303533382274, 5528.280087015924, 5607.439603757189, 6371.758373339575, 8544.657479972433, 7659.753590941153, 51906.513725075616, 41929.061208591374, 32198.70511883938, 57408.47238950231, 35444.921975905265, 8689.133003496137, 1850.6833782846181, 1838.425375114278, 1457.2693423446744, 1080.180825454434, 13346.755918991563, 2331.2786849383715, 3694.564830130232, 5664.224772932621, 1740.8686499346381, 1267.6517047585928, 1822.4554570119294, 2420.2858218817264, 2277.724475995346, 5739.6719106930095, 2230.137926486561, 977.9228071507767, 1199.2212787378046, 5318.451525379656, 1165.463922282789, 1334.534648179324, 3789.234427641467, 2301.3150630188484, 1210.7227592564855, 1416.5666717193167, 1374.860204461963, 1425.9006839205829, 3810.3040387535375, 2694.2727008294487, 1641.1680290057586, 5490.976387189642, 18009.732067855177, 6225.890131047605, 7318.1903199858225, 17930.47542923374, 35444.921975905265, 2879.2490913496813, 57408.47238950231, 15213.202109974138, 11406.812467853008, 51906.513725075616, 16274.72355689105, 9479.279712735015, 8725.909904110462, 5286.085482444776, 5096.450385354826, 2257.006880984342, 2225.0910594907996, 1912.549142458823, 1794.4903956589656, 1736.3308605737784, 1669.3379812886526, 1571.381168507059, 4264.206118293932, 2532.6672497169297, 1812.4277153836497, 26040.55314519815, 2061.5654877090215, 2657.183889389331, 2244.3774405708564, 1756.2924956314798, 1667.13655599518, 1244.4523959575424, 1598.338180833744, 1070.2772941784033, 2869.0989308107705, 1134.6257401979717, 1784.477900102345, 939.7990138811323, 2521.550404943941, 1802.316520259194, 3810.3040387535375, 5616.753914902058, 2356.5334549161144, 17640.197695905048, 4165.144640922092, 18009.732067855177, 8258.052634837211, 41929.061208591374, 15213.202109974138, 22480.801435499827, 4170.890829331385, 3325.1618852638703, 2845.2836209706416, 2818.2011892920013, 2477.5396018503343, 1924.962439439588, 1659.3443675520143, 1523.2721685735255, 2096.3165773825576, 2517.4103175491687, 2872.4427085014054, 3501.6881561086143, 6913.095216496249, 6846.775544360888, 3322.2520133059543, 970.7093491150259, 2674.5369935705794, 3009.8079783114053, 4715.571177369273, 3004.9126982630487, 1142.5760445154267, 2510.5583511428467, 1266.7460254270316, 2229.4054523985656, 1279.3720046516537, 1910.7582056993076, 2337.4867683730995, 1235.1751064026553, 2185.9684768617967, 6371.758373339575, 8448.074064093013, 8705.324038409648, 3268.029193881438, 35444.921975905265, 51906.513725075616, 7207.548285338807, 9501.59499937774, 18924.905398025025, 32198.70511883938, 16274.72355689105, 10977.947318727045, 4256.239268284187, 3328.2624381199416, 2399.746202636971, 2252.0685268974844, 1725.743906006501, 1297.2196776511237, 2705.2887461183327, 6563.532401800906, 1334.5914644828206, 1356.9427721767324, 5583.721843160473, 1010.1220950437192, 3317.975062226266, 1356.95211477429, 1282.6478112889172, 1945.8135897638927, 1233.6188389392078, 2857.3341635873835, 1888.4255926162464, 2123.104815728634, 2794.346946154457, 4493.978326778169, 1052.5503776167845, 1469.719308881831, 3215.736336596503, 5036.942482334592, 5825.564256988297, 2748.279772700237, 3216.6803976819774, 3556.8491247068996, 6225.890131047605, 12146.993288558688, 16274.72355689105, 35444.921975905265, 51906.513725075616, 18009.732067855177, 10475.409863394485, 11406.812467853008, 9346.235749424182, 41929.061208591374, 32198.70511883938, 24133.14747309439, 18924.905398025025, 13321.285803240333, 4768.98678195473, 3385.509617886997, 1252.1077686921872, 1208.1531361221796, 1121.2745489562467, 1027.7896656857083, 1706.5997167534258, 1121.0020267802674, 2578.1245047372227, 5675.114860815617, 2489.9065448736137, 1272.3504134280129, 1516.9199073254206, 6445.313263824884, 1446.7039875375854, 3136.9005606968353, 1362.5097278417425, 1225.4234943773731, 1789.2865158878437, 2363.46640441018, 841.275394853301, 1065.8380207621815, 1197.7171314703908, 1523.3792407445653, 3268.029193881438, 5490.976387189642, 1033.5321568320105, 4713.306954562147, 1408.6923688127163, 2510.5583511428467, 9501.59499937774, 10475.409863394485, 35444.921975905265, 51906.513725075616, 16274.72355689105, 6067.854642404784, 21550.21459673021, 57408.47238950231, 32198.70511883938, 14288.224891997503, 24133.14747309439, 41929.061208591374, 14055.90612459284, 12350.738469411976, 22480.801435499827, 21410.54305401472], \"Category\": [\"Default\", \"Default\", \"Default\", \"Default\", \"Default\", \"Default\", \"Default\", \"Default\", \"Default\", \"Default\", \"Default\", \"Default\", \"Default\", \"Default\", \"Default\", \"Default\", \"Default\", \"Default\", \"Default\", \"Default\", \"Default\", \"Default\", \"Default\", \"Default\", \"Default\", \"Default\", \"Default\", \"Default\", \"Default\", \"Default\", \"Topic1\", \"Topic1\", \"Topic1\", \"Topic1\", \"Topic1\", \"Topic1\", \"Topic1\", \"Topic1\", \"Topic1\", \"Topic1\", \"Topic1\", \"Topic1\", \"Topic1\", \"Topic1\", \"Topic1\", \"Topic1\", \"Topic1\", \"Topic1\", \"Topic1\", \"Topic1\", \"Topic1\", \"Topic1\", \"Topic1\", \"Topic1\", \"Topic1\", \"Topic1\", \"Topic1\", \"Topic1\", \"Topic1\", \"Topic1\", \"Topic1\", \"Topic1\", \"Topic1\", \"Topic1\", \"Topic1\", \"Topic1\", \"Topic1\", \"Topic1\", \"Topic1\", \"Topic1\", \"Topic1\", \"Topic1\", \"Topic1\", \"Topic1\", \"Topic1\", \"Topic1\", \"Topic1\", \"Topic1\", \"Topic1\", \"Topic1\", \"Topic1\", \"Topic1\", \"Topic1\", \"Topic1\", \"Topic1\", \"Topic1\", \"Topic1\", \"Topic1\", \"Topic2\", \"Topic2\", \"Topic2\", \"Topic2\", \"Topic2\", \"Topic2\", \"Topic2\", \"Topic2\", \"Topic2\", \"Topic2\", \"Topic2\", \"Topic2\", \"Topic2\", \"Topic2\", \"Topic2\", \"Topic2\", \"Topic2\", \"Topic2\", \"Topic2\", \"Topic2\", \"Topic2\", \"Topic2\", \"Topic2\", \"Topic2\", \"Topic2\", \"Topic2\", \"Topic2\", \"Topic2\", \"Topic2\", \"Topic2\", \"Topic2\", \"Topic2\", \"Topic2\", \"Topic2\", \"Topic2\", \"Topic2\", \"Topic2\", \"Topic2\", \"Topic2\", \"Topic2\", \"Topic2\", \"Topic2\", \"Topic2\", \"Topic2\", \"Topic2\", \"Topic2\", \"Topic2\", \"Topic2\", \"Topic2\", \"Topic2\", \"Topic2\", \"Topic2\", \"Topic2\", \"Topic2\", \"Topic2\", \"Topic2\", \"Topic2\", \"Topic3\", \"Topic3\", \"Topic3\", \"Topic3\", \"Topic3\", \"Topic3\", \"Topic3\", \"Topic3\", \"Topic3\", \"Topic3\", \"Topic3\", \"Topic3\", \"Topic3\", \"Topic3\", \"Topic3\", \"Topic3\", \"Topic3\", \"Topic3\", \"Topic3\", \"Topic3\", \"Topic3\", \"Topic3\", \"Topic3\", \"Topic3\", \"Topic3\", \"Topic3\", \"Topic3\", \"Topic3\", \"Topic3\", \"Topic3\", \"Topic3\", \"Topic3\", \"Topic3\", \"Topic3\", \"Topic3\", \"Topic3\", \"Topic3\", \"Topic3\", \"Topic3\", \"Topic3\", \"Topic3\", \"Topic3\", \"Topic3\", \"Topic3\", \"Topic3\", \"Topic3\", \"Topic3\", \"Topic3\", \"Topic3\", \"Topic3\", \"Topic4\", \"Topic4\", \"Topic4\", \"Topic4\", \"Topic4\", \"Topic4\", \"Topic4\", \"Topic4\", \"Topic4\", \"Topic4\", \"Topic4\", \"Topic4\", \"Topic4\", \"Topic4\", \"Topic4\", \"Topic4\", \"Topic4\", \"Topic4\", \"Topic4\", \"Topic4\", \"Topic4\", \"Topic4\", \"Topic4\", \"Topic4\", \"Topic4\", \"Topic4\", \"Topic4\", \"Topic4\", \"Topic4\", \"Topic4\", \"Topic4\", \"Topic4\", \"Topic4\", \"Topic4\", \"Topic4\", \"Topic4\", \"Topic4\", \"Topic4\", \"Topic4\", \"Topic4\", \"Topic4\", \"Topic4\", \"Topic4\", \"Topic4\", \"Topic4\", \"Topic4\", \"Topic5\", \"Topic5\", \"Topic5\", \"Topic5\", \"Topic5\", \"Topic5\", \"Topic5\", \"Topic5\", \"Topic5\", \"Topic5\", \"Topic5\", \"Topic5\", \"Topic5\", \"Topic5\", \"Topic5\", \"Topic5\", \"Topic5\", \"Topic5\", \"Topic5\", \"Topic5\", \"Topic5\", \"Topic5\", \"Topic5\", \"Topic5\", \"Topic5\", \"Topic5\", \"Topic5\", \"Topic5\", \"Topic5\", \"Topic5\", \"Topic5\", \"Topic5\", \"Topic5\", \"Topic5\", \"Topic5\", \"Topic5\", \"Topic5\", \"Topic5\", \"Topic5\", \"Topic5\", \"Topic5\", \"Topic5\", \"Topic5\", \"Topic5\", \"Topic5\", \"Topic5\", \"Topic5\", \"Topic5\", \"Topic5\", \"Topic6\", \"Topic6\", \"Topic6\", \"Topic6\", \"Topic6\", \"Topic6\", \"Topic6\", \"Topic6\", \"Topic6\", \"Topic6\", \"Topic6\", \"Topic6\", \"Topic6\", \"Topic6\", \"Topic6\", \"Topic6\", \"Topic6\", \"Topic6\", \"Topic6\", \"Topic6\", \"Topic6\", \"Topic6\", \"Topic6\", \"Topic6\", \"Topic6\", \"Topic6\", \"Topic6\", \"Topic6\", \"Topic6\", \"Topic6\", \"Topic6\", \"Topic6\", \"Topic6\", \"Topic6\", \"Topic6\", \"Topic6\", \"Topic6\", \"Topic6\", \"Topic6\", \"Topic6\", \"Topic6\", \"Topic6\", \"Topic6\", \"Topic6\", \"Topic6\", \"Topic7\", \"Topic7\", \"Topic7\", \"Topic7\", \"Topic7\", \"Topic7\", \"Topic7\", \"Topic7\", \"Topic7\", \"Topic7\", \"Topic7\", \"Topic7\", \"Topic7\", \"Topic7\", \"Topic7\", \"Topic7\", \"Topic7\", \"Topic7\", \"Topic7\", \"Topic7\", \"Topic7\", \"Topic7\", \"Topic7\", \"Topic7\", \"Topic7\", \"Topic7\", \"Topic7\", \"Topic7\", \"Topic7\", \"Topic7\", \"Topic7\", \"Topic7\", \"Topic7\", \"Topic7\", \"Topic7\", \"Topic7\", \"Topic7\", \"Topic7\", \"Topic7\", \"Topic7\", \"Topic7\", \"Topic7\", \"Topic7\", \"Topic7\", \"Topic7\", \"Topic8\", \"Topic8\", \"Topic8\", \"Topic8\", \"Topic8\", \"Topic8\", \"Topic8\", \"Topic8\", \"Topic8\", \"Topic8\", \"Topic8\", \"Topic8\", \"Topic8\", \"Topic8\", \"Topic8\", \"Topic8\", \"Topic8\", \"Topic8\", \"Topic8\", \"Topic8\", \"Topic8\", \"Topic8\", \"Topic8\", \"Topic8\", \"Topic8\", \"Topic8\", \"Topic8\", \"Topic8\", \"Topic8\", \"Topic8\", \"Topic8\", \"Topic8\", \"Topic8\", \"Topic8\", \"Topic8\", \"Topic8\", \"Topic8\", \"Topic8\", \"Topic8\", \"Topic8\", \"Topic8\", \"Topic8\", \"Topic8\", \"Topic8\", \"Topic8\", \"Topic9\", \"Topic9\", \"Topic9\", \"Topic9\", \"Topic9\", \"Topic9\", \"Topic9\", \"Topic9\", \"Topic9\", \"Topic9\", \"Topic9\", \"Topic9\", \"Topic9\", \"Topic9\", \"Topic9\", \"Topic9\", \"Topic9\", \"Topic9\", \"Topic9\", \"Topic9\", \"Topic9\", \"Topic9\", \"Topic9\", \"Topic9\", \"Topic9\", \"Topic9\", \"Topic9\", \"Topic9\", \"Topic9\", \"Topic9\", \"Topic9\", \"Topic9\", \"Topic9\", \"Topic9\", \"Topic9\", \"Topic9\", \"Topic9\", \"Topic9\", \"Topic9\", \"Topic9\", \"Topic10\", \"Topic10\", \"Topic10\", \"Topic10\", \"Topic10\", \"Topic10\", \"Topic10\", \"Topic10\", \"Topic10\", \"Topic10\", \"Topic10\", \"Topic10\", \"Topic10\", \"Topic10\", \"Topic10\", \"Topic10\", \"Topic10\", \"Topic10\", \"Topic10\", \"Topic10\", \"Topic10\", \"Topic10\", \"Topic10\", \"Topic10\", \"Topic10\", \"Topic10\", \"Topic10\", \"Topic10\", \"Topic10\", \"Topic10\", \"Topic10\", \"Topic10\", \"Topic10\", \"Topic10\", \"Topic10\", \"Topic10\", \"Topic10\", \"Topic10\", \"Topic10\", \"Topic10\", \"Topic10\", \"Topic10\", \"Topic11\", \"Topic11\", \"Topic11\", \"Topic11\", \"Topic11\", \"Topic11\", \"Topic11\", \"Topic11\", \"Topic11\", \"Topic11\", \"Topic11\", \"Topic11\", \"Topic11\", \"Topic11\", \"Topic11\", \"Topic11\", \"Topic11\", \"Topic11\", \"Topic11\", \"Topic11\", \"Topic11\", \"Topic11\", \"Topic11\", \"Topic11\", \"Topic11\", \"Topic11\", \"Topic11\", \"Topic11\", \"Topic11\", \"Topic11\", \"Topic11\", \"Topic11\", \"Topic11\", \"Topic11\", \"Topic11\", \"Topic11\", \"Topic11\", \"Topic11\", \"Topic11\", \"Topic12\", \"Topic12\", \"Topic12\", \"Topic12\", \"Topic12\", \"Topic12\", \"Topic12\", \"Topic12\", \"Topic12\", \"Topic12\", \"Topic12\", \"Topic12\", \"Topic12\", \"Topic12\", \"Topic12\", \"Topic12\", \"Topic12\", \"Topic12\", \"Topic12\", \"Topic12\", \"Topic12\", \"Topic12\", \"Topic12\", \"Topic12\", \"Topic12\", \"Topic12\", \"Topic12\", \"Topic12\", \"Topic12\", \"Topic12\", \"Topic12\", \"Topic12\", \"Topic12\", \"Topic12\", \"Topic12\", \"Topic12\", \"Topic12\", \"Topic12\", \"Topic12\", \"Topic12\", \"Topic13\", \"Topic13\", \"Topic13\", \"Topic13\", \"Topic13\", \"Topic13\", \"Topic13\", \"Topic13\", \"Topic13\", \"Topic13\", \"Topic13\", \"Topic13\", \"Topic13\", \"Topic13\", \"Topic13\", \"Topic13\", \"Topic13\", \"Topic13\", \"Topic13\", \"Topic13\", \"Topic13\", \"Topic13\", \"Topic13\", \"Topic13\", \"Topic13\", \"Topic13\", \"Topic13\", \"Topic13\", \"Topic13\", \"Topic13\", \"Topic13\", \"Topic13\", \"Topic13\", \"Topic13\", \"Topic13\", \"Topic13\", \"Topic13\", \"Topic13\", \"Topic13\", \"Topic13\", \"Topic13\", \"Topic13\", \"Topic13\", \"Topic13\", \"Topic14\", \"Topic14\", \"Topic14\", \"Topic14\", \"Topic14\", \"Topic14\", \"Topic14\", \"Topic14\", \"Topic14\", \"Topic14\", \"Topic14\", \"Topic14\", \"Topic14\", \"Topic14\", \"Topic14\", \"Topic14\", \"Topic14\", \"Topic14\", \"Topic14\", \"Topic14\", \"Topic14\", \"Topic14\", \"Topic14\", \"Topic14\", \"Topic14\", \"Topic14\", \"Topic14\", \"Topic14\", \"Topic14\", \"Topic14\", \"Topic14\", \"Topic14\", \"Topic14\", \"Topic14\", \"Topic14\", \"Topic14\", \"Topic14\", \"Topic14\", \"Topic14\", \"Topic14\", \"Topic14\", \"Topic14\", \"Topic14\", \"Topic14\", \"Topic14\", \"Topic14\", \"Topic14\"], \"logprob\": [30.0, 29.0, 28.0, 27.0, 26.0, 25.0, 24.0, 23.0, 22.0, 21.0, 20.0, 19.0, 18.0, 17.0, 16.0, 15.0, 14.0, 13.0, 12.0, 11.0, 10.0, 9.0, 8.0, 7.0, 6.0, 5.0, 4.0, 3.0, 2.0, 1.0, -5.1133, -6.1448, -6.0783, -4.543, -5.5504, -5.9009, -6.1006, -6.1955, -6.4381, -6.1808, -6.198, -6.2303, -4.7789, -6.4335, -6.5415, -5.9956, -6.5692, -6.258, -5.2297, -4.8124, -6.3493, -6.2532, -6.4199, -4.8173, -6.1333, -6.5219, -6.3324, -5.6982, -5.859, -6.1867, -4.8507, -5.185, -4.2035, -4.9921, -4.2228, -3.8169, -5.879, -3.7356, -5.013, -3.6517, -4.2756, -5.434, -5.5278, -4.6922, -5.158, -4.8314, -4.5698, -3.9441, -4.4469, -5.3141, -5.0906, -5.1838, -4.9988, -5.183, -5.1054, -4.6967, -5.1488, -5.1014, -4.8492, -5.2947, -4.9144, -5.6751, -5.8272, -5.8774, -3.6282, -6.0106, -3.7073, -3.3419, -6.0964, -4.7078, -5.5162, -5.8518, -5.4161, -5.6923, -6.423, -6.2325, -6.0585, -6.0646, -6.0143, -6.0011, -3.2822, -5.1875, -6.5363, -6.4649, -6.2966, -5.6091, -5.0319, -6.027, -3.2529, -3.396, -3.81, -4.221, -5.4417, -5.3388, -4.3656, -5.2, -5.3258, -4.2498, -3.2373, -4.7166, -4.5931, -4.6156, -4.2867, -5.1602, -4.7927, -4.7977, -4.4446, -4.9865, -5.0891, -5.0874, -4.9271, -5.0011, -5.0958, -5.1474, -5.148, -5.0229, -5.4656, -5.7683, -5.4538, -2.9636, -4.4542, -5.656, -5.2818, -5.6823, -4.8034, -4.8065, -4.8436, -5.4676, -4.9148, -5.4821, -4.5916, -5.7066, -3.5907, -5.4379, -5.6759, -4.8663, -4.5055, -5.3013, -4.9917, -6.1869, -5.0448, -5.2144, -3.5916, -6.1547, -5.6053, -4.5841, -5.1048, -3.4247, -3.7704, -4.785, -4.7601, -3.635, -4.7226, -4.9276, -4.7749, -3.8042, -3.9908, -4.0018, -4.503, -5.1015, -4.693, -4.8152, -4.7248, -4.7827, -4.9836, -3.6833, -3.7302, -4.2701, -4.461, -4.7483, -4.813, -4.8935, -4.9451, -4.9613, -5.0376, -5.0957, -5.2184, -4.7827, -3.83, -3.9949, -4.4257, -4.2473, -5.3706, -3.0831, -5.3225, -5.1882, -5.8043, -5.2539, -5.4287, -5.4465, -4.9371, -5.1667, -5.7081, -5.3592, -5.6853, -5.2018, -3.9732, -5.1731, -3.4353, -4.1735, -3.6542, -4.4773, -4.4875, -4.1232, -4.8912, -4.8205, -4.8769, -4.3731, -4.6155, -4.516, -4.6473, -3.3886, -4.9797, -5.1617, -5.2706, -5.2821, -3.4166, -3.5705, -4.921, -3.8152, -5.4422, -5.4689, -5.396, -5.5723, -5.2262, -5.7436, -4.6946, -5.7883, -3.4254, -4.4392, -5.71, -5.3104, -4.492, -5.346, -5.6312, -6.1203, -4.4815, -5.8249, -5.102, -4.9116, -4.3399, -3.1361, -4.4277, -4.7044, -3.8655, -4.4798, -4.4641, -4.6604, -5.0942, -4.1918, -4.0181, -4.7536, -4.2206, -4.4223, -4.441, -4.3446, -4.6808, -4.7714, -4.8666, -4.9588, -2.0118, -3.0528, -4.0813, -4.2358, -4.4002, -5.0541, -4.9265, -5.1668, -5.2887, -2.9671, -4.9063, -4.4004, -5.1546, -5.096, -4.9584, -4.5157, -5.3621, -4.8545, -3.792, -5.5956, -5.0071, -5.4848, -5.9805, -4.0908, -5.0875, -5.2106, -5.8336, -5.9673, -6.2687, -6.3935, -5.3071, -4.6733, -5.104, -5.0681, -4.5476, -4.6232, -4.1054, -4.1578, -4.3801, -4.772, -4.7327, -5.0114, -4.9101, -4.9983, -4.977, -3.4523, -4.3578, -4.4198, -4.7521, -5.2086, -5.3759, -4.2197, -4.5449, -4.2385, -3.835, -4.3592, -4.1991, -4.2298, -5.1605, -4.9431, -4.9017, -5.7071, -4.7322, -5.5301, -5.6681, -5.1495, -5.3577, -3.9373, -3.8052, -5.8659, -3.1799, -5.4446, -3.8464, -5.5766, -3.6842, -5.3311, -4.2615, -3.8392, -3.8186, -4.5747, -4.4543, -5.0335, -3.8595, -4.9522, -4.5297, -4.4322, -4.7466, -4.725, -4.8529, -4.7444, -3.6369, -4.3368, -4.4533, -5.0674, -1.9889, -5.2783, -4.5068, -5.4704, -3.6431, -4.7586, -4.1925, -5.4856, -4.482, -4.645, -5.1355, -3.6077, -4.7493, -5.8932, -5.687, -5.7656, -3.8607, -6.0422, -4.0025, -3.0763, -6.151, -5.9222, -6.1845, -5.4484, -6.1678, -5.7045, -4.3833, -3.4931, -4.9459, -2.7891, -4.3011, -4.7586, -4.1379, -4.4932, -4.5462, -4.5064, -4.74, -5.0554, -5.184, -5.0674, -5.1279, -3.0829, -4.055, -4.5005, -4.6672, -2.4949, -4.5978, -3.9161, -3.2273, -3.4859, -3.0112, -4.9933, -4.3246, -3.7329, -4.9051, -4.4043, -4.214, -5.0194, -4.6546, -3.399, -4.2303, -5.4563, -5.1196, -4.8705, -5.74, -4.7541, -4.1366, -4.2868, -5.087, -4.8557, -5.0504, -4.2401, -4.3145, -4.3588, -4.2516, -4.3966, -4.1045, -4.2438, -4.528, -4.4802, -4.6538, -3.0814, -4.6283, -4.635, -4.8674, -5.1671, -2.6536, -4.3994, -3.9522, -3.529, -4.729, -5.0885, -4.7624, -4.4814, -4.5437, -3.6303, -4.5804, -5.4051, -5.2242, -3.789, -5.3922, -5.2654, -4.3285, -4.8281, -5.478, -5.3296, -5.3736, -5.3782, -4.4246, -4.8506, -5.3864, -4.5555, -3.7816, -4.6112, -4.5324, -4.2561, -4.0761, -5.0633, -4.3441, -4.7195, -4.7802, -4.6226, -4.8441, -2.9875, -3.0704, -3.5717, -3.6082, -4.4229, -4.4372, -4.5886, -4.6524, -4.6853, -4.7247, -4.7852, -3.7936, -4.3316, -4.7346, -2.0841, -4.634, -4.4793, -4.6963, -5.0207, -5.0736, -5.368, -5.187, -5.6079, -4.6236, -5.7183, -5.3243, -6.0255, -5.0674, -5.5141, -4.8037, -4.4878, -5.2985, -4.0492, -4.9934, -4.621, -4.9062, -4.545, -4.8529, -4.8793, -3.7229, -3.9495, -4.1054, -4.115, -4.2439, -4.4963, -4.6449, -4.7305, -4.4459, -4.2692, -4.154, -3.9829, -3.3103, -3.3423, -4.0939, -5.3275, -4.3325, -4.2556, -3.8485, -4.4541, -5.4362, -4.6612, -5.4374, -4.8753, -5.5206, -5.2221, -5.0619, -5.7484, -5.187, -4.1373, -3.9165, -4.3296, -4.9535, -3.8891, -3.9324, -4.7037, -4.7301, -4.6025, -4.5251, -4.7122, -2.6548, -3.6024, -3.8484, -4.1756, -4.2392, -4.5055, -4.7911, -4.09, -3.2579, -4.855, -4.8965, -3.4892, -5.2517, -4.1365, -5.0818, -5.2079, -4.7956, -5.2796, -4.4408, -4.974, -4.8679, -4.6065, -4.267, -5.7211, -5.4061, -4.6701, -4.2938, -4.3397, -5.1234, -5.0621, -4.9656, -4.4946, -4.0358, -4.0704, -3.6344, -3.5195, -4.0806, -4.4348, -4.4814, -4.5589, -4.3035, -4.3555, -4.6812, -4.776, -2.4018, -3.4292, -3.7719, -4.767, -4.8028, -4.8788, -4.9967, -4.5369, -4.968, -4.2435, -3.4962, -4.3567, -5.0936, -4.9706, -3.5493, -5.0917, -4.4362, -5.2964, -5.5124, -5.1442, -4.8786, -5.9409, -5.716, -5.6423, -5.402, -4.6425, -4.1342, -5.9845, -4.4731, -5.7013, -5.2715, -4.3408, -4.2779, -3.6078, -3.5488, -4.3441, -4.8695, -4.3673, -3.9982, -4.4073, -4.6469, -4.5364, -4.4981, -4.717, -4.78, -4.7593, -4.7881], \"loglift\": [30.0, 29.0, 28.0, 27.0, 26.0, 25.0, 24.0, 23.0, 22.0, 21.0, 20.0, 19.0, 18.0, 17.0, 16.0, 15.0, 14.0, 13.0, 12.0, 11.0, 10.0, 9.0, 8.0, 7.0, 6.0, 5.0, 4.0, 3.0, 2.0, 1.0, 1.8255, 1.825, 1.807, 1.806, 1.7822, 1.7756, 1.7353, 1.6998, 1.681, 1.6702, 1.6611, 1.6517, 1.6375, 1.6375, 1.6354, 1.6313, 1.608, 1.6076, 1.5903, 1.5861, 1.5849, 1.5831, 1.5725, 1.5698, 1.5526, 1.5458, 1.5428, 1.5293, 1.5279, 1.5151, 1.3759, 1.4086, 1.1563, 1.3015, 1.0949, 0.8503, 1.4256, 0.6675, 1.1089, 0.538, 0.7508, 1.2249, 1.2664, 0.8353, 1.0628, 0.8772, 0.6288, 0.1448, 0.5086, 1.0962, 0.8413, 0.8543, 0.5984, 0.7998, 0.6032, -0.1256, 0.565, -0.0596, 2.3102, 2.2855, 2.2578, 2.2011, 2.1871, 2.1812, 2.1744, 2.1655, 2.0872, 1.9959, 1.9943, 1.988, 1.961, 1.9552, 1.9338, 1.9191, 1.8857, 1.8773, 1.849, 1.8373, 1.8299, 1.8057, 1.793, 1.7889, 1.783, 1.7753, 1.7659, 1.7581, 1.7178, 1.7152, 1.6932, 1.6458, 1.6602, 1.6507, 1.7128, 1.6869, 1.4232, 1.6304, 1.6341, 1.2299, 0.8516, 1.3895, 1.1156, 1.093, 0.7821, 1.4893, 1.1525, 1.0904, 0.5528, 1.2092, 1.2046, 1.1976, 0.4224, 0.495, 0.6943, 0.9065, 0.3796, 2.376, 2.3758, 2.3753, 2.3399, 2.3317, 2.2711, 2.2559, 2.2516, 2.2293, 2.2145, 2.2022, 2.184, 2.1629, 2.1485, 2.1229, 2.1008, 2.0914, 2.0864, 2.0639, 2.062, 2.045, 2.0444, 2.0367, 2.0211, 1.9936, 1.9407, 1.9387, 1.9353, 1.9295, 1.9261, 1.8896, 1.8946, 1.7842, 1.7782, 1.8672, 1.8622, 1.6176, 1.7888, 1.7882, 1.3739, 0.2848, 0.4123, 0.1879, 0.6957, 1.6519, 0.3044, 0.5447, -0.0576, -0.2115, 0.0429, 2.4595, 2.4595, 2.4594, 2.4593, 2.4593, 2.4592, 2.4592, 2.4592, 2.4592, 2.4591, 2.4591, 2.459, 2.4584, 2.4574, 2.4406, 2.422, 2.3849, 2.3821, 2.3771, 2.3495, 2.3468, 2.3434, 2.3345, 2.3232, 2.2985, 2.2959, 2.2907, 2.2738, 2.2729, 2.2367, 2.2364, 2.0547, 2.1658, 1.6165, 1.8203, 1.594, 1.7365, 1.6156, 1.1458, 1.8541, 1.6893, 1.6828, 0.0301, 0.3401, -0.3264, -0.0762, 2.5877, 2.5873, 2.5872, 2.5872, 2.5871, 2.5396, 2.5288, 2.5214, 2.4648, 2.417, 2.4033, 2.3938, 2.3155, 2.3011, 2.2816, 2.2808, 2.2284, 2.2166, 2.1917, 2.1902, 2.172, 2.1027, 2.0982, 2.0961, 2.0806, 2.0162, 2.0069, 1.9775, 1.9516, 1.9464, 1.9157, 1.9196, 1.8895, 1.6831, 1.6765, 1.5411, 1.5824, 1.8765, 1.0172, 0.1716, 1.2845, 0.3506, 0.5332, 0.2263, -0.2557, 0.5178, -0.3683, 0.1307, 0.0677, 2.7071, 2.707, 2.7069, 2.7025, 2.621, 2.6075, 2.5763, 2.5608, 2.5477, 2.5065, 2.4929, 2.4554, 2.4491, 2.4199, 2.3993, 2.2929, 2.2893, 2.1861, 2.1383, 2.1135, 2.0933, 2.0912, 2.0908, 2.0442, 1.966, 1.9569, 1.8892, 1.8176, 1.8169, 1.7847, 1.7702, 1.7526, 1.6943, 1.5859, 1.1573, 1.0022, 0.2978, 0.0319, 0.1911, 0.4969, 0.2229, 1.1846, 0.5068, 0.5292, -0.3098, 2.7492, 2.749, 2.749, 2.7489, 2.7486, 2.7484, 2.7438, 2.7136, 2.6948, 2.6743, 2.6561, 2.6199, 2.5756, 2.516, 2.5109, 2.4692, 2.4396, 2.4021, 2.3912, 2.3727, 2.3651, 2.3533, 2.3358, 2.3323, 2.3265, 2.3067, 2.2918, 2.2777, 2.2599, 2.2456, 2.2438, 2.1208, 2.0489, 2.0204, 2.0562, 1.975, 2.1693, 1.4094, 2.1014, 1.6053, 1.0948, 1.4097, 1.1791, 1.3084, -0.3412, 2.8634, 2.8632, 2.8632, 2.8628, 2.8593, 2.7415, 2.7405, 2.7021, 2.672, 2.5915, 2.5287, 2.4614, 2.3675, 2.3487, 2.347, 2.3344, 2.1896, 2.1694, 2.1379, 2.0613, 2.0435, 1.96, 1.9428, 1.9211, 1.9014, 1.8663, 1.8283, 1.8196, 1.8131, 1.8093, 1.7228, 1.5757, 1.685, 1.2999, 1.5379, 1.5264, 0.9373, 0.9865, 0.9404, 0.7025, 0.2061, 1.1009, 1.5118, -0.6642, 0.1247, 2.8915, 2.8913, 2.8912, 2.8911, 2.8909, 2.8719, 2.8462, 2.8235, 2.8147, 2.7686, 2.7614, 2.7596, 2.7135, 2.6902, 2.6791, 2.65, 2.6415, 2.6229, 2.5762, 2.5521, 2.4055, 2.3941, 2.3922, 2.389, 2.3525, 2.2746, 2.2729, 2.27, 2.2216, 2.2207, 2.1891, 2.1006, 1.9285, 1.7422, 1.7066, 0.0852, 0.1594, 0.1392, -0.3912, -0.0827, 2.8957, 2.8953, 2.8953, 2.8951, 2.8949, 2.8943, 2.8933, 2.8801, 2.8759, 2.8558, 2.8135, 2.7766, 2.7739, 2.7723, 2.7615, 2.7567, 2.7564, 2.7333, 2.679, 2.5938, 2.5851, 2.4785, 2.4776, 2.4699, 2.4613, 2.4472, 2.4062, 2.3769, 2.2974, 2.2573, 1.8805, 1.4666, 1.6992, 1.6164, 0.9965, 0.495, 2.0183, -0.2552, 0.6974, 0.9247, -0.4329, 0.5055, 2.9025, 2.9025, 2.9024, 2.9024, 2.9022, 2.9022, 2.9021, 2.9021, 2.902, 2.902, 2.902, 2.8953, 2.8783, 2.8099, 2.7954, 2.7816, 2.6825, 2.6344, 2.5552, 2.5544, 2.5525, 2.4832, 2.4633, 2.4615, 2.2946, 2.2357, 2.1757, 2.1469, 2.0359, 1.9977, 1.9256, 1.9834, 1.2198, 1.719, 0.6272, 1.1218, -0.1418, 0.5641, 0.1472, 2.9882, 2.9881, 2.988, 2.988, 2.988, 2.9879, 2.9878, 2.9878, 2.9531, 2.9467, 2.93, 2.903, 2.8954, 2.873, 2.8446, 2.8414, 2.8229, 2.7816, 2.7397, 2.5848, 2.5697, 2.5574, 2.4653, 2.4621, 2.3722, 2.2695, 2.2282, 2.1795, 2.17, 2.1499, 2.0887, 1.6456, 2.0014, 0.6821, 0.2573, 1.4603, 1.1576, 0.5961, 0.1421, 0.6374, 3.0884, 3.0883, 3.0883, 3.0881, 3.0881, 3.088, 3.0878, 3.0539, 2.9997, 2.9955, 2.9374, 2.9301, 2.8773, 2.8033, 2.7521, 2.6823, 2.6778, 2.6496, 2.6484, 2.5294, 2.5184, 2.5051, 2.3694, 2.3668, 2.348, 2.3009, 2.2285, 2.0371, 2.0047, 1.9087, 1.9047, 1.8158, 1.6063, 1.2791, 0.9367, 0.6701, 1.1676, 1.3553, 1.2235, 1.3452, 0.0997, 0.3117, 0.2743, 0.4226, 3.148, 3.1478, 3.1478, 3.1473, 3.1473, 3.1459, 3.1151, 3.0677, 3.0569, 2.9485, 2.9068, 2.8702, 2.8047, 2.7518, 2.7264, 2.6782, 2.5597, 2.5334, 2.4234, 2.4131, 2.4004, 2.3711, 2.3594, 2.3164, 2.3162, 2.3124, 2.3019, 2.1216, 2.1157, 2.0951, 1.9471, 1.5469, 1.5122, 0.9633, 0.6409, 1.0054, 1.4666, 0.7014, 0.0908, 0.2599, 0.8328, 0.4191, -0.0949, 0.7791, 0.8455, 0.2672, 0.2871]}, \"token.table\": {\"Topic\": [1, 3, 4, 5, 6, 7, 8, 9, 10, 11, 4, 10, 10, 11, 1, 2, 3, 4, 5, 6, 7, 8, 9, 10, 11, 12, 13, 14, 2, 3, 4, 5, 7, 9, 11, 9, 11, 2, 4, 9, 12, 13, 10, 14, 1, 2, 3, 4, 5, 9, 11, 12, 13, 14, 1, 2, 3, 6, 7, 10, 11, 12, 14, 1, 2, 3, 4, 6, 7, 11, 4, 10, 11, 10, 11, 1, 3, 4, 6, 7, 8, 9, 10, 11, 13, 14, 1, 2, 4, 5, 6, 7, 8, 9, 10, 11, 12, 13, 14, 1, 3, 4, 5, 6, 9, 12, 13, 14, 11, 9, 10, 12, 13, 14, 3, 5, 8, 3, 7, 5, 5, 1, 3, 4, 7, 9, 11, 1, 4, 8, 1, 2, 4, 5, 6, 7, 8, 9, 10, 12, 13, 14, 3, 9, 12, 13, 12, 13, 11, 4, 1, 7, 10, 11, 14, 10, 12, 1, 2, 3, 4, 5, 6, 7, 9, 11, 14, 1, 3, 4, 5, 6, 9, 11, 12, 13, 14, 1, 3, 4, 5, 9, 12, 13, 14, 10, 14, 9, 12, 13, 2, 7, 9, 10, 12, 13, 14, 2, 4, 9, 2, 9, 12, 5, 2, 3, 10, 11, 6, 7, 8, 11, 12, 10, 10, 5, 5, 1, 3, 5, 7, 1, 2, 3, 4, 5, 6, 7, 8, 9, 10, 11, 1, 2, 3, 4, 5, 6, 7, 8, 9, 10, 11, 12, 13, 14, 1, 8, 9, 10, 2, 7, 8, 10, 12, 12, 11, 12, 14, 1, 2, 3, 4, 5, 6, 7, 8, 9, 10, 11, 12, 13, 14, 1, 2, 3, 4, 5, 6, 7, 8, 9, 10, 11, 12, 13, 14, 5, 13, 5, 13, 1, 2, 3, 4, 5, 6, 7, 8, 10, 11, 13, 7, 12, 2, 9, 3, 10, 12, 1, 3, 6, 12, 9, 10, 12, 9, 10, 12, 9, 10, 12, 9, 10, 4, 9, 1, 2, 3, 4, 5, 6, 7, 8, 9, 10, 11, 12, 13, 14, 14, 12, 12, 6, 7, 8, 7, 1, 3, 5, 13, 3, 6, 7, 8, 3, 7, 3, 6, 7, 8, 1, 3, 5, 12, 13, 14, 8, 12, 1, 6, 7, 8, 9, 10, 12, 1, 2, 6, 7, 9, 11, 4, 6, 7, 4, 6, 7, 11, 4, 6, 7, 10, 11, 13, 4, 7, 11, 1, 4, 7, 10, 11, 14, 4, 2, 7, 8, 11, 3, 3, 7, 12, 4, 6, 9, 10, 11, 12, 13, 14, 1, 3, 4, 6, 7, 9, 10, 12, 13, 14, 4, 10, 1, 3, 5, 6, 8, 9, 13, 14, 1, 2, 3, 4, 5, 6, 7, 8, 9, 10, 11, 12, 13, 14, 1, 5, 12, 13, 8, 11, 7, 8, 11, 1, 3, 4, 5, 6, 7, 8, 9, 10, 11, 12, 13, 14, 1, 2, 3, 4, 5, 6, 7, 8, 9, 10, 11, 12, 13, 14, 9, 12, 13, 14, 1, 2, 3, 4, 6, 8, 10, 11, 12, 13, 14, 1, 4, 5, 9, 10, 11, 12, 4, 13, 1, 2, 4, 7, 11, 4, 2, 7, 8, 11, 2, 5, 7, 8, 11, 3, 2, 3, 4, 6, 7, 10, 11, 12, 13, 14, 1, 3, 6, 12, 13, 2, 3, 4, 6, 8, 12, 13, 14, 3, 6, 12, 3, 10, 11, 6, 7, 8, 1, 3, 6, 7, 7, 9, 11, 14, 2, 4, 7, 8, 11, 1, 2, 4, 6, 7, 9, 11, 1, 2, 4, 6, 7, 9, 11, 14, 11, 11, 10, 1, 2, 3, 4, 5, 6, 7, 9, 10, 11, 12, 13, 14, 1, 2, 4, 6, 11, 12, 14, 6, 7, 9, 10, 11, 12, 13, 14, 12, 1, 3, 4, 5, 6, 8, 9, 13, 9, 12, 4, 9, 1, 2, 3, 5, 6, 7, 8, 10, 14, 6, 7, 9, 11, 2, 6, 7, 11, 14, 14, 1, 3, 5, 6, 9, 12, 13, 14, 1, 3, 4, 5, 6, 7, 9, 11, 12, 13, 14, 6, 7, 1, 2, 3, 4, 5, 6, 7, 8, 9, 10, 11, 12, 13, 14, 1, 2, 3, 7, 9, 10, 12, 14, 9, 12, 13, 5, 9, 12, 4, 9, 11, 13, 2, 4, 7, 9, 10, 11, 13, 4, 4, 7, 2, 8, 2, 3, 6, 7, 8, 1, 3, 9, 11, 12, 14, 1, 3, 4, 5, 6, 7, 9, 10, 11, 12, 13, 14, 9, 10, 1, 9, 10, 1, 2, 3, 4, 5, 6, 7, 8, 9, 10, 11, 12, 13, 14, 1, 2, 3, 4, 5, 6, 8, 9, 11, 13, 14, 8, 1, 2, 3, 4, 5, 7, 8, 10, 11, 12, 13, 14, 1, 7, 9, 11, 1, 2, 3, 4, 5, 6, 7, 8, 11, 12, 13, 14, 3, 5, 13, 4, 9, 11, 1, 2, 4, 7, 8, 10, 11, 14, 2, 4, 6, 7, 8, 11, 2, 3, 4, 5, 6, 7, 8, 1, 5, 1, 5, 1, 3, 6, 7, 9, 11, 1, 2, 3, 4, 5, 6, 7, 8, 9, 10, 12, 14, 2, 12, 13, 13, 13, 6, 6, 1, 4, 5, 10, 12, 13, 14, 1, 2, 3, 4, 5, 6, 7, 8, 9, 10, 11, 12, 13, 14, 2, 3, 4, 6, 7, 8, 10, 11, 14, 2, 9, 12, 1, 5, 12, 14, 2, 7, 8, 10, 11, 12, 14, 1, 2, 3, 5, 8, 12, 14, 6, 1, 2, 3, 4, 5, 6, 7, 8, 9, 10, 11, 12, 13, 14, 13, 4, 9, 13, 1, 4, 5, 6, 8, 9, 11, 13, 14, 4, 7, 9, 13, 1, 2, 3, 4, 5, 6, 7, 8, 9, 10, 11, 12, 13, 14, 10, 14, 1, 3, 4, 6, 7, 9, 11, 1, 2, 3, 4, 5, 8, 9, 10, 1, 3, 5, 8, 9, 1, 11, 14, 3, 7, 1, 3, 1, 2, 4, 5, 6, 7, 8, 10, 11, 12, 14, 1, 2, 6, 7, 8, 9, 14, 1, 2, 3, 4, 5, 6, 7, 8, 11, 12, 13, 14, 1, 2, 3, 4, 5, 6, 8, 11, 12, 14, 1, 3, 4, 6, 7, 9, 1, 2, 3, 4, 5, 6, 7, 9, 10, 11, 12, 13, 14, 1, 2, 4, 9, 11, 14, 1, 2, 3, 4, 5, 6, 7, 8, 9, 10, 11, 12, 13, 14, 1, 2, 4, 8, 11, 12, 14, 1, 4, 5, 6, 11, 12, 13, 1, 4, 7, 8, 9, 10, 1, 2, 5, 7, 8, 10, 12, 1, 2, 3, 4, 5, 7, 8, 9, 10, 11, 12, 1, 2, 3, 4, 5, 6, 7, 8, 9, 10, 11, 12, 13, 14, 2, 3, 4, 6, 9, 12, 12, 14, 1, 2, 3, 4, 5, 6, 7, 8, 9, 10, 11, 12, 13, 14, 1, 3, 9, 10, 12, 13, 9, 10, 12, 1, 2, 4, 9, 12, 13, 4, 10, 11, 14, 1, 2, 5, 9, 12, 13, 14, 14, 6, 8, 1, 2, 3, 4, 6, 7, 8, 9, 11, 12, 13, 1, 2, 3, 4, 5, 6, 7, 8, 9, 11, 12, 13, 5, 8, 9, 12, 5, 13, 1, 2, 3, 4, 5, 6, 7, 8, 9, 10, 11, 12, 13, 14, 7, 11, 6, 7, 11, 1, 3, 4, 5, 7, 8, 10, 13, 3, 5, 3, 5, 1, 3, 5, 7, 9, 11, 13, 1, 3, 4, 10, 11, 14, 3, 4, 5, 8, 13, 11, 11, 11, 1, 2, 3, 4, 5, 6, 7, 8, 10, 11, 12, 14, 1, 2, 3, 4, 5, 6, 7, 8, 9, 10, 11, 12, 10, 12, 10, 12, 1, 3, 4, 5, 6, 7, 9, 1, 4, 7, 9, 9, 12, 13, 8, 9, 12, 2, 12, 13, 4, 5, 4, 5, 10, 11, 13, 10, 13, 4, 5, 11, 1, 2, 3, 4, 5, 6, 7, 8, 9, 10, 11, 12, 13, 14, 10, 13, 14, 1, 3, 6, 13, 2, 4, 6, 2, 7, 11, 7, 10, 11, 1, 4, 14, 10, 12, 14, 1, 7, 8, 1, 3, 5, 7, 10, 12, 13, 14, 5, 12, 13, 14, 1, 3, 6, 7, 9, 11, 1, 3, 4, 6, 7, 8, 9, 11, 14, 1, 2, 3, 4, 5, 6, 7, 8, 9, 10, 11, 12, 13, 14, 1, 2, 5, 7, 8, 12, 13, 14, 1, 2, 3, 6, 7, 8, 9, 10, 11, 12, 14, 1, 2, 3, 6, 7, 9, 11, 12, 14, 7, 1, 3, 4, 5, 6, 7, 8, 11, 12, 13, 1, 2, 4, 5, 6, 7, 8, 9, 10, 14, 2, 3, 5, 6, 7, 9, 10, 14, 2, 6, 7, 9, 10, 11, 14, 2, 5, 6, 7, 9, 10, 14, 2, 5, 6, 7, 9, 10, 11, 14, 2, 4, 7, 8, 10, 11, 2, 4, 10, 11, 4, 10, 11, 1, 3, 4, 5, 6, 7, 9, 11, 12, 13, 14, 1, 5, 1, 2, 3, 4, 5, 6, 7, 9, 11, 12, 13, 14, 2, 6, 7, 8, 11, 12, 14, 2, 7, 11, 7, 5, 14, 3, 5, 7, 10, 11, 12, 4, 7, 8, 11, 4, 7, 8, 10, 11, 1, 2, 3, 4, 5, 8, 10, 11, 14, 1, 3, 4, 10, 3, 4, 7, 9, 11, 12, 1, 4, 10, 13, 6, 7, 8, 6, 7, 8, 10, 12, 14, 4, 6, 9, 10, 13, 4, 3, 7, 8, 9, 11, 10, 1, 3, 4, 5, 6, 7, 9, 10, 11, 12, 13, 14, 1, 2, 3, 4, 5, 6, 7, 8, 9, 10, 11, 12, 13, 14, 1, 3, 5, 9, 10, 12, 13, 14, 4, 7, 8, 11, 7, 1, 5, 7, 8, 11, 12, 13, 14, 1, 5, 13, 1, 3, 4, 5, 8, 3, 11, 1, 3, 5, 1, 2, 3, 5, 8, 10, 11, 12, 13, 1, 3, 4, 5, 7, 11, 1, 2, 3, 5, 6, 7, 8, 13, 14, 6, 7, 6, 7, 9, 12, 9, 3, 4, 5, 1, 3, 4, 5, 14, 10, 12, 1, 4, 5, 6, 8, 9, 13, 4, 13, 6, 7, 14, 1, 3, 13, 9, 1, 2, 3, 4, 6, 7, 9, 11, 2, 3, 8, 10, 11, 12, 14, 1, 11, 2, 4, 5, 7, 9, 12, 14, 3, 7, 11, 1, 2, 10, 11, 2, 6, 7, 9, 11, 13, 1, 2, 3, 4, 5, 6, 7, 8, 9, 10, 11, 12, 14, 3, 5, 3, 5, 11, 14, 1, 3, 5, 14, 4, 7, 11, 5, 12, 14, 1, 3, 4, 5, 6, 7, 9, 10, 11, 12, 13, 14, 1, 2, 3, 4, 5, 6, 9, 10, 13, 14, 1, 3, 4, 6, 10, 1, 2, 3, 4, 5, 6, 7, 8, 9, 10, 11, 12, 13, 14, 1, 4, 5, 6, 7, 11, 1, 4, 6, 7, 11, 1, 3, 5, 7, 8, 1, 3, 7, 11, 2, 6, 7, 8, 10, 11, 1, 6, 7, 1, 3, 4, 5, 6, 10, 12, 13, 14, 1, 2, 3, 4, 5, 8, 10, 12, 13, 14, 1, 3, 4, 5, 10, 11, 12, 1, 3, 5, 7, 8, 1, 4, 12, 14, 4, 1, 2, 3, 4, 5, 6, 7, 8, 9, 10, 11, 12, 13, 14, 1, 2, 3, 4, 5, 6, 7, 9, 10, 11, 12, 13, 14, 1, 2, 4, 5, 14, 1, 5, 11, 13, 8, 1, 2, 3, 4, 5, 6, 7, 8, 9, 11, 13, 7, 12, 14, 1, 2, 3, 4, 5, 6, 8, 10, 11, 12, 14, 3, 7, 10, 11, 1, 2, 3, 5, 6, 8, 10, 12, 13, 8, 9, 13, 14, 9, 12, 13, 14, 9, 12, 13, 14, 4, 4, 9, 2, 3, 4, 6, 8, 10, 1, 3, 4, 6, 8, 14, 1, 4, 6, 9, 11, 2, 4, 9, 1, 2, 3, 4, 5, 6, 7, 8, 9, 10, 12, 13, 14, 1, 2, 3, 4, 5, 8, 9, 10, 2, 3, 4, 5, 8, 1, 2, 3, 4, 5, 8, 10, 1, 2, 3, 4, 5, 6, 7, 8, 9, 10, 11, 12, 13, 14, 2, 4, 6, 7, 8, 10, 12, 1, 2, 4, 9, 10, 14, 12, 12, 1, 3, 4, 12, 13, 1, 2, 4, 6, 7, 8, 9, 10, 11, 1, 2, 4, 7, 8, 11, 1, 2, 4, 7, 8, 9, 10, 11, 2, 11, 1, 2, 3, 4, 5, 6, 7, 8, 11, 10, 11, 12, 14, 2, 10, 11, 12, 14, 2, 6, 7, 9, 12, 12, 6, 7, 11, 1, 2, 5, 6, 9, 10, 13, 4, 6, 7, 9, 11, 4, 6, 10, 11, 12, 13, 10, 11, 12, 13, 14, 4, 11, 4, 5, 11, 4, 10, 11, 4, 7, 9, 4, 11, 4, 1, 2, 3, 4, 5, 6, 7, 8, 10, 11, 12, 13, 14, 2, 4, 6, 7, 10, 11, 1, 2, 3, 4, 5, 6, 7, 8, 9, 10, 11, 12, 13, 14, 11, 2, 4, 9, 5, 12, 14, 1, 5, 7, 9, 14, 1, 5, 12, 14, 1, 2, 3, 4, 5, 6, 7, 9, 10, 11, 12, 13, 14, 1, 2, 3, 4, 5, 6, 7, 8, 10, 11, 12, 14, 1, 2, 7, 1, 2, 3, 4, 5, 6, 7, 8, 9, 10, 11, 12, 13, 14, 5, 7, 12, 13, 14, 1, 4, 6, 4, 1, 2, 6, 9, 11, 13, 1, 3, 4, 5, 6, 7, 9, 10, 11, 12, 13, 14, 1, 3, 4, 5, 7, 8, 10, 11, 13, 1, 3, 4, 5, 8, 3, 6, 9, 12, 14, 4, 7, 10, 11, 4, 5, 11, 1, 2, 3, 7, 8, 10, 12, 14, 4, 5, 6, 11, 4, 5, 13, 5, 13, 6, 7, 3, 12, 13, 9, 10, 11, 13, 1, 2, 3, 4, 6, 7, 8, 9, 11, 1, 2, 3, 4, 5, 6, 7, 8, 9, 10, 11, 12, 13, 14, 8, 11, 1, 3, 4, 5, 6, 7, 10, 11, 13, 9, 10, 4, 12, 4, 12, 2, 9, 12, 13, 9, 13, 3, 6, 9, 10, 12, 13, 1, 2, 4, 6, 7, 8, 11, 1, 2, 3, 7, 8, 11, 1, 7, 13, 1, 2, 3, 4, 5, 6, 7, 8, 9, 10, 11, 12, 13, 14, 1, 2, 3, 4, 5, 6, 7, 8, 9, 10, 11, 12, 13, 14, 1, 2, 3, 4, 5, 6, 7, 8, 9, 10, 11, 12, 13, 14, 1, 7, 1, 7, 1, 3, 8, 8, 1, 2, 3, 4, 5, 6, 7, 8, 9, 10, 11, 12, 13, 14, 1, 2, 3, 7, 11, 4, 10, 11, 14, 1, 2, 4, 5, 6, 7, 8, 9, 10, 11, 12, 13, 14, 1, 2, 4, 8, 9, 10, 11, 1, 2, 3, 4, 5, 6, 7, 8, 9, 10, 11, 12, 13, 14, 1, 2, 3, 4, 5, 6, 7, 8, 9, 10, 11, 12, 13, 14, 2, 3, 4, 5, 8, 13, 3, 5, 13, 7, 1, 9, 10, 11, 12, 13, 2, 3, 5, 8, 1, 2, 3, 4, 5, 6, 7, 8, 9, 10, 11, 12, 13, 14, 1, 3, 7, 1, 2, 3, 4, 5, 6, 7, 8, 9, 10, 11, 12, 13, 14, 6, 11, 14, 2, 4, 9, 1, 2, 3, 4, 5, 6, 7, 8, 9, 10, 11, 12, 13, 14, 1, 3, 4, 7, 9, 10, 11, 12, 13, 14, 1, 3, 4, 6, 7, 9, 10, 11, 13, 13, 3, 5, 12, 13, 5, 13, 3, 4, 5, 7, 8, 9, 12, 3, 4, 5, 7, 9, 2, 3, 6, 7, 8, 11, 10, 11, 10, 14, 10, 14, 6, 7, 1, 3, 4, 5, 6, 7, 8, 9, 10, 11, 12, 13, 14, 8, 1, 3, 4, 5, 6, 7, 8, 9, 10, 11, 12, 13, 14, 4, 6, 7, 9, 11, 2, 4, 9, 1, 2, 3, 8, 10, 12, 14, 14, 12, 14, 7, 9, 10, 12, 14, 7, 13, 1, 3, 5, 12, 13, 14, 1, 2, 3, 4, 5, 6, 7, 8, 9, 10, 11, 12, 13, 14, 1, 2, 3, 4, 6, 7, 9, 10, 11, 12, 13, 1, 2, 6, 7, 8, 10, 11, 1, 2, 3, 4, 5, 6, 7, 8, 9, 10, 11, 12, 13, 14, 1, 2, 3, 4, 5, 6, 7, 8, 9, 10, 11, 12, 13, 14, 1, 2, 3, 4, 5, 6, 7, 8, 10, 11, 12, 14, 1, 3, 5, 7, 11, 14, 6, 11, 4, 6, 10], \"Freq\": [0.028728819294104178, 0.2140807447905834, 0.48518163345931264, 0.0764157426909167, 0.05279102834754169, 0.04404113414629168, 0.001166652560166667, 0.02406220905343751, 0.003499957680500001, 0.06999915361000002, 0.11590515129562994, 0.8837767786291783, 0.8854326132166729, 0.11444929251564087, 0.05961349868040653, 0.05838616194286875, 0.04400878873171188, 0.057158825205330964, 0.009292692441357489, 0.2123292555940362, 0.00026300072947238175, 0.04234311744505346, 0.017621048874649575, 0.1393027197105382, 0.016130711407639414, 0.12913335817093943, 0.15490742965923285, 0.05961349868040653, 0.0017327807718341404, 0.04366607545022034, 0.2554118857683523, 0.5430534938928196, 0.03812117698035109, 0.07485612934323486, 0.04262640698711986, 0.9995701043793032, 0.9998649989478319, 0.04527957341270401, 0.10042777179997173, 0.817354350834452, 0.015673698489012927, 0.020317757300572312, 0.24217776415805517, 0.7574581479305009, 0.5920097743290194, 0.3105366105471857, 0.08118810672495089, 0.00031590703005817463, 0.0015795351502908732, 0.0007897675751454366, 0.007423815206367104, 0.0006318140601163493, 0.004264744905785358, 0.0012636281202326985, 0.11729581986180736, 0.6137296433173355, 0.05568589427782774, 0.023696125224607546, 0.028435350269529057, 0.05568589427782774, 0.056870700539058114, 0.0367289940981417, 0.011848062612303773, 0.1468869300835973, 0.0002421878484478109, 0.013320331664629599, 0.6671064285494951, 0.0009687513937912435, 0.0029062541813737307, 0.16844164859545246, 0.06893094743384881, 0.032641395720764056, 0.8983680135194758, 0.023690439400085448, 0.9760461032835204, 0.08304895587083366, 0.0009070193132650775, 0.2687611602618583, 0.10969264819799532, 0.2618451379982121, 0.0027777466468743, 0.001473906384055751, 0.07845717059742921, 0.18582558180518277, 0.001984104747767357, 0.0051586723441951286, 0.11565349304567238, 0.41301598296232317, 0.06447738598647622, 0.023446322176900444, 0.013752169738374299, 0.00022544540554711966, 0.11903517412887918, 0.009243261627431906, 0.021868204338070605, 0.043285517865046974, 0.04058017299848154, 0.004508908110942393, 0.13143467143397075, 0.7901000605880258, 0.024331338583252236, 0.08208484555009271, 0.012566735312229177, 0.025133470624458355, 0.006417056329648941, 0.030748394912901177, 0.017914282253603295, 0.010695093882748235, 0.9995096562515292, 0.035252546781741015, 0.07949103686078857, 0.2115152806904461, 0.04769462211647314, 0.6248686723665466, 0.8828537918457915, 0.056201446576091794, 0.06056660747520572, 0.9641236980050693, 0.03539367466978962, 0.999947733962377, 0.9991171739614126, 0.786182414996552, 0.09613422276641774, 0.005702877621736646, 0.0016293936062104703, 0.034217265730419874, 0.07658149949189211, 0.856080021149429, 0.03898087661976385, 0.10419888173359951, 0.04767995487270527, 0.1833844418180972, 0.08435684323632471, 0.06510147684542451, 0.06785224347269597, 0.020172288599990693, 0.3823565611907327, 0.015587677554538262, 0.02475689964544312, 0.043095343827252844, 0.0009169222090904861, 0.06510147684542451, 0.015525144981386348, 0.0018482315454031368, 0.016264437599547602, 0.9658858056276792, 0.0884165702691102, 0.9111402495528644, 0.9997128740660137, 0.9995653434239693, 0.00017620788733362867, 0.00017620788733362867, 0.04088022986140185, 0.1728599374742897, 0.7857109696206502, 0.9844190499349816, 0.015428068695709089, 0.1415974081831108, 0.0032676324965333265, 0.6371883368239987, 0.026685665388355498, 0.015793557066577743, 0.09693976406382201, 0.002178421664355551, 0.017427373314844407, 0.04356843328711102, 0.015248951650488857, 0.786914171609775, 0.02438276189339249, 0.05701005478670906, 0.027891072957189973, 0.0014033244255189923, 0.03192563068055708, 0.0021049866382784883, 0.029820644042278587, 0.018067801978557025, 0.020523619723215262, 0.8284553964650005, 0.02410896282017139, 0.0008929245488952367, 0.05250396347503992, 0.022501698632159964, 0.03410971776779804, 0.014643962601881881, 0.02285886845171806, 0.03113477501123795, 0.9671239487865789, 0.5370617245521349, 0.44099446547551785, 0.021500767507623798, 0.0032207883177805393, 0.1023494954316927, 0.006083711266918796, 0.09877084174526987, 0.17642762674064508, 0.5579121097133178, 0.05475340140226916, 0.0031810122821200066, 0.07061847266306415, 0.9259926753251339, 0.013823915737450204, 0.9804740236006348, 0.005631965670813046, 0.9993091756398115, 0.9385217072146033, 0.060816206627506295, 0.00037540868288584133, 0.00037540868288584133, 0.5153890734003247, 0.3184791789866546, 0.008221426118572125, 0.14636834040605456, 0.011456085575059519, 0.9998696068415938, 0.9996307427339346, 0.9993692882297435, 0.9994728204153808, 0.06288335461623466, 0.6432886463483422, 0.10257984802041546, 0.19114485271329204, 0.10426074844162814, 0.023913015697621134, 0.3668939837035014, 0.03457138840856084, 0.039080699940112255, 0.043726657275650074, 0.00027329160797281293, 0.09729181243832141, 0.0010931664318912517, 0.2782108569163236, 0.010658372710939706, 0.37366714579929466, 0.1361789598173467, 0.20360844476729303, 0.026069800869718232, 0.11571911609680835, 0.003079976474059538, 0.009679926061329976, 0.01539988237029769, 0.004949962190452829, 0.03475973449295764, 0.008249936984088048, 0.03420973869401844, 0.030139769781868338, 0.004509965551301467, 0.011537334996177158, 0.8848248454760482, 0.0026624619221947286, 0.10028606573600145, 0.657861672598627, 0.043761790652689474, 0.2561140862788548, 0.026544036953270664, 0.015065534486991458, 0.999782202532734, 0.06916333666517795, 0.22085110912403413, 0.7097101478256328, 0.02501095455133826, 0.18643661923192223, 0.07379186209230716, 0.021669796500586966, 0.014032863813155437, 0.06443661955020354, 0.02405633796540932, 0.0028638497577868237, 0.023101721379480376, 0.10901721411308508, 0.02749295767475351, 0.05651330188699332, 0.17669953005544703, 0.19474178352950403, 0.04138237223755699, 0.5031570973645818, 0.04368139291742127, 0.02134804917016829, 0.03744119392921823, 0.07422552480704667, 0.02430393290142236, 0.012808829502100974, 0.0009852945770846902, 0.08637749125775784, 0.029887268838235604, 0.029887268838235604, 0.07192650412718239, 0.022661775272947875, 0.427869651396001, 0.5719049795887142, 0.33662011790115953, 0.6629617589198409, 0.009704189883686312, 0.5401999035252047, 0.014787336965617237, 0.02402942256912801, 0.001386312840526616, 0.0776335190694905, 0.054066200780538025, 0.12476815564739543, 0.0633082863840488, 0.03696834241404309, 0.05221778365983587, 0.03434595746502113, 0.965503026516705, 0.16303556683354176, 0.8368913746714988, 0.9562718151130437, 0.0023281115401413113, 0.041382182626011815, 0.0654247827715237, 0.7592098892839405, 0.14708809076331766, 0.028240913426556994, 0.12474580623085649, 0.8742659995341311, 0.0008711299317797241, 0.07020855939049035, 0.921388734472952, 0.00788860217870678, 0.1342537885664058, 0.8497180779451398, 0.015009740336616796, 0.1288445254356086, 0.8702118344897056, 0.9978200258024487, 0.002040531750107257, 0.18619202976657825, 0.21822562905002266, 0.12348351567174415, 0.011252694473684119, 0.05821440391803766, 0.020345429017435062, 0.019213191957389446, 0.20935934191828084, 0.0375205942667424, 0.042815979901417285, 0.0010625609332735777, 0.014666824685513976, 0.010643028364428788, 0.047013966539432565, 0.9998494708494389, 0.9995488600991547, 0.9991898200407926, 0.011757173054703526, 0.9276409540161082, 0.06054944123172316, 0.9990731027677506, 0.2871837957421122, 0.06913683971569369, 0.602022327370502, 0.04041846014148246, 0.48451193020144917, 0.18635074238517274, 0.22787318968173473, 0.10105463076994603, 0.900159137162079, 0.0997204123848831, 0.6815815425631202, 0.09692214596081067, 0.061488243136428276, 0.15945256270972077, 0.7560692386141047, 0.13128788503028174, 0.07728293941498854, 0.022346874047707528, 0.0009311197519878137, 0.011173437023853764, 0.8841626170917173, 0.1155928873527419, 0.3030406492606507, 0.23133525619615872, 0.004268178158600714, 0.3499906090052586, 0.0034145425268805713, 0.017072712634402857, 0.09048537696233515, 0.09697630576515107, 0.11963432113084058, 0.029908580282710144, 0.6860847052730782, 0.025376977209572243, 0.041690748272868686, 0.2278045684987955, 0.6582385375490802, 0.11298124151961825, 0.27023340772327326, 0.4723407462726121, 0.2566081938884864, 0.0003784781620774135, 0.2505886672821697, 0.3971986344472565, 0.27346398130792793, 0.035352758039808176, 0.019755953022245743, 0.021835527024587402, 0.7452894760354984, 0.06379210705065749, 0.19047784077097732, 0.05639503682933588, 0.32666559069068146, 0.02660143246666787, 0.07661212550400347, 0.4830820135946885, 0.0287295470640013, 0.9997082473915487, 0.1668761846405391, 0.22250157952071878, 0.6088502380201847, 0.0013768662099054381, 0.9993305639284232, 0.04337199308846981, 0.10880387921331651, 0.8476233476858712, 0.07156580229218588, 0.05414517936579854, 0.38168427889165807, 0.03939257977047952, 0.007219357248773138, 0.43237672218195644, 0.00015694254888637258, 0.013340116655341669, 0.17403043488694742, 0.010121317699402435, 0.10880416526857617, 0.02024263539880487, 0.03739264594501455, 0.06438282647675438, 0.250221465346338, 0.008434431416168696, 0.3061698604069236, 0.01996148768493258, 0.19479354000994592, 0.8051215620874406, 0.007183818235128797, 0.06715308350229093, 0.7355605192925356, 0.06590372380922506, 0.0037480790791976338, 0.04154120979444044, 0.0003123399232664695, 0.0787096606631503, 0.007476729353117202, 0.5188850171063338, 0.05233710547182042, 0.03788209538912716, 0.07377039628408973, 0.025420879800598487, 0.029408468788927663, 0.08373936875491267, 0.0014953458706234404, 0.06479832106034908, 0.0007476729353117202, 0.013707337147381538, 0.030903814659551103, 0.059315386201396474, 0.24242915047554278, 0.69808978001899, 0.052201897365171626, 0.007078223371548694, 0.3422304532040068, 0.657557964017205, 0.09959231136452408, 0.35518319893719646, 0.5446729948962468, 0.15343212105844403, 0.13343331688882099, 0.15140795059593157, 0.046313020182284954, 0.1817705075336184, 0.004453175017527399, 0.040402442431748585, 0.00752991412054633, 0.046232053363784456, 0.02526164737215543, 0.07076499936943541, 0.03894503969873962, 0.09999402084811525, 0.0163311791149659, 0.06145680561684536, 0.11073685487604071, 0.1342308318484478, 0.038249340558735925, 0.21817882273765848, 0.050426096916385936, 0.07821775260325774, 0.0015758155286370605, 0.12119453974790484, 0.0405414358731171, 0.059737734131059476, 0.04168748353030769, 0.027361887815425322, 0.7295535435531297, 0.26110458266355907, 0.001148722317041615, 0.008155928450995466, 0.028590289300535515, 0.0001606196028119973, 0.12929878026365782, 0.07950670339193866, 0.07773988776100668, 0.0024092940421799594, 0.30228609249217886, 0.005621686098419905, 0.002248674439367962, 0.28012058730412326, 0.09219565201408644, 0.02970064688269033, 0.4303628295613178, 0.5106138861921201, 0.0037410953062682138, 0.0008212160428393639, 0.00237240190153594, 0.022309702497136055, 0.9998678772957994, 0.999620691533972, 0.3352414905499877, 0.5845033988177433, 0.0070992315645879754, 0.0015776070143528834, 0.07099231564587975, 0.9994315847768557, 0.060776779146939186, 0.706621588877064, 0.13034056250789366, 0.10178279881234394, 0.2977595500913884, 0.004433144666373028, 0.6132516788482689, 0.08127431888350552, 0.0036942872219775237, 0.9983686620654852, 0.004291429790686837, 0.18916622517347573, 0.056475216045438766, 0.04308595509849583, 0.11981671975597646, 0.10625580161740607, 0.04926561399708488, 0.029525036959925432, 0.3494940421535359, 0.0523554434463794, 0.07796583653295949, 0.7761411095461532, 0.06155197621023118, 0.01758627891720891, 0.06624165058815355, 0.007615812948711843, 0.7179368283574126, 0.012009551188353292, 0.05389652240626843, 0.11335844658274936, 0.03485699003448882, 0.03163491532541843, 0.02841284061634803, 0.8867071490051273, 0.0916184385764507, 0.021510416013601468, 0.3331227801181528, 0.6129459154174011, 0.053299644818904444, 0.9050543815563239, 0.09366909637765929, 0.0006203251415739026, 0.013298351035106588, 0.09234965996601797, 0.8525720608062779, 0.042111444944504195, 0.19205234428923393, 0.06910670129236032, 0.7047276399232558, 0.032946218057985734, 0.14449488827439663, 0.01582060820522591, 0.6549731796963526, 0.08226716266717472, 0.10230659972712754, 0.137855447795622, 0.02521745996261378, 0.028019399958459756, 0.01849280397258344, 0.10086983985045513, 0.17596183173912727, 0.5133154072389827, 0.1348264842875955, 0.0011096829982518148, 0.1431491067744841, 0.04605184442745031, 0.14092974077798048, 0.09321337185315244, 0.42056985633743776, 0.020529135467658572, 0.9999116276386953, 0.9995538866129187, 0.999128958314163, 0.2833979673799203, 0.12206279493891699, 0.12878509379062544, 0.05528206292523414, 0.07474134907491656, 0.04396029643814619, 0.06156210527354074, 0.01680574712927118, 0.01760180883539455, 0.03405375076194423, 0.04546396854971256, 0.03847631579596296, 0.07766024199736891, 0.361507676352398, 0.06691564212392016, 0.022033199235924936, 0.0008160444161453679, 0.0016320888322907358, 0.0636514644593387, 0.48473038319034856, 0.9955009474365086, 0.004514061128037373, 0.17376334872636842, 0.12984513970761596, 0.017821881920653173, 0.10799211782871981, 0.21428691356975837, 0.3562254731521033, 0.9997864174902108, 0.03777856127015962, 0.015531186299954512, 0.015531186299954512, 0.08647092912947647, 0.12340996681585477, 0.00839523583781325, 0.5112698625228269, 0.20064613652373667, 0.8782611533589854, 0.12118642271154992, 0.8957506117318154, 0.10342816720486321, 0.05000751702440913, 0.14487471843836175, 0.060303182294140424, 0.5596429478761081, 0.008824855945483965, 0.0007354046621236637, 0.0036770233106183186, 0.15884740701871136, 0.01397268858034961, 0.7351672310993025, 0.026550248694744424, 0.10391218023632733, 0.13366676929078228, 0.06073724658462191, 0.5400942850140226, 0.14857264933776743, 0.19342476989256516, 0.05606515069349715, 0.9991152768796058, 0.82852873471081, 0.04763806704650655, 0.05230846577655621, 0.020549754412218513, 0.014945275936158917, 0.028956472126307902, 0.0018681594920198646, 0.004670398730049661, 0.670199556937426, 0.04470890826719876, 0.01953301817498975, 0.04731331069053073, 0.03472536564442622, 0.008247274340551228, 0.038197902208868845, 0.0013022012116659834, 0.053390249678305315, 0.03559349978553688, 0.04644517654942007, 0.7727302191520904, 0.2271358522962205, 0.21337416930589087, 0.38651424591871386, 0.06645299195987754, 0.02135648522096495, 0.05749089548322261, 0.028888459919430266, 0.017733510049551253, 0.030604606053257807, 0.012394388744310016, 0.05777691983886053, 0.001525463230068925, 0.03622975171413697, 0.04099682430810236, 0.02879311846755096, 0.02284779673586098, 0.17516644164160086, 0.06981271224846411, 0.018193615919296708, 0.041464520002118074, 0.050349774288286235, 0.14851067878309637, 0.4734571212486748, 0.08143964206605334, 0.9111692813038542, 0.007232650272296033, 0.116210736597495, 0.10369899670834865, 0.7797570774981554, 0.7997537921737805, 0.000992250362498487, 0.057054395843663, 0.14189180183728364, 0.0008106231588193828, 0.0705242148172863, 0.07944106956429951, 0.0016212463176387656, 0.18806457284609682, 0.012969970541110125, 0.6444454112614093, 0.9994764455398855, 0.03482242764224847, 0.9650787089423148, 0.004279887055264769, 0.9956878111004663, 0.1516301146104389, 0.0016955444125767928, 0.12474362463957833, 0.006297736389570945, 0.7155197421074067, 0.8266060048953076, 0.08099908088170099, 0.0415379901957441, 0.010384497548936025, 0.018692095588084844, 0.02076899509787205, 0.48208748709819077, 0.04384227147026993, 0.05821969652732201, 0.02839985196454732, 0.09957698095069405, 0.03461231958179205, 0.08555455404319881, 0.022364883422081015, 0.036387310329576254, 0.019879896375183125, 0.06620715489235095, 0.022719881571637856, 0.01942013327678169, 0.9803636371451702, 0.0004289491455743462, 0.001715796582297385, 0.9977357126059294, 0.30208869633750546, 0.032179817398905165, 0.1862096494478519, 0.035403083181061515, 0.12618292930802222, 0.023725349773577046, 0.0012681701437992183, 0.01310442481925859, 0.05902275210932196, 0.009405595233177537, 0.00036988295860810536, 0.09141393119886032, 0.06953799621832381, 0.049934199412094225, 0.7434539537047412, 0.0060280050300384426, 0.08077526740251513, 0.040990434204261406, 0.0008037340040051256, 0.009242941046058944, 0.017682148088112765, 0.0281306901401794, 0.004420537022028191, 0.010448542052066634, 0.057868848288369044, 0.9997402473762764, 0.011887039401869014, 0.47548157607476055, 0.10509223471197832, 0.0008104799592183418, 0.1491283124961749, 0.016209599184366836, 0.14804767255055043, 0.047007837634663825, 0.004862879755310051, 0.030528078463890874, 0.0021612798912489114, 0.008374959578589532, 0.7845473751012497, 0.023639845577438787, 0.03841474906333803, 0.15292025107905716, 0.07667188799297883, 0.05490085806904658, 0.6398789664599221, 0.016091630813341237, 0.028396995552955124, 0.016091630813341237, 0.04922145895845555, 0.010412231702750213, 0.02650386251609145, 0.031236695108250636, 0.0378626607372735, 0.012305364739613887, 0.8075783186928812, 0.09741451051991569, 0.09440788982485655, 0.20554662785266953, 0.08768471105072329, 0.7066021195710883, 0.031133686658957334, 0.5544191124268172, 0.12453474663582934, 0.002394898973765949, 0.10777045381946769, 0.031133686658957334, 0.08741381254245713, 0.06226737331791467, 0.09675671757676411, 0.016807504931174985, 0.004996825790349321, 0.11856104829828841, 0.7617888045832555, 0.00045425689003175635, 0.3506557271580234, 0.09038381511471724, 0.05021323061928736, 0.003765992296446552, 0.03180171272554866, 0.12093019707478372, 0.3519110579235056, 0.9814405906668574, 0.017844374375761043, 0.9508123555572995, 0.04848513336285567, 0.753463590535095, 0.03763477669339414, 0.02534587001800014, 0.07910983672284892, 0.0023041700016363763, 0.10215153673921268, 0.8040800547991896, 0.011410786018909977, 0.0060857525434186545, 0.0007607190679273318, 0.04488242500771258, 0.022821572037819954, 0.0007607190679273318, 0.012171505086837309, 0.03195020085294793, 0.031189481785020602, 0.029668043649165938, 0.00456431440756399, 0.03605610683765302, 0.8632862151415209, 0.09992692466435266, 0.9997088349112744, 0.9996890493519062, 0.9999853185985212, 0.9999389719411961, 0.02806694065444515, 0.0834211847229342, 0.16762200668626964, 0.0007796372404012542, 0.02260947997163637, 0.665810203302671, 0.030405852375648912, 0.3714250965191053, 0.13611823066740883, 0.05102598183055509, 0.013949548989648154, 0.05741340689423609, 0.1132850215317216, 0.04383095129905236, 0.03560805926304924, 0.014243223705219694, 0.003083584513501171, 0.057927337646486284, 0.022539534420115703, 0.03847138773987175, 0.04104104150112273, 0.8192408947947689, 0.0005799935538370046, 0.0009666559230616743, 0.003189964546103525, 0.024263063668848023, 0.09415228690620707, 0.027453028214951547, 0.029676336837993398, 0.0003866623692246697, 0.12222251091066108, 0.8764503132824328, 0.0010446368453902656, 0.23511605168129956, 0.07159912684944925, 0.33380674004135125, 0.3579956342472463, 0.6798599108060626, 0.0011807223181765588, 0.2588143321443017, 0.003069878027259053, 0.0014168667818118706, 0.046520459336156415, 0.008973489618141846, 0.011662302149672777, 0.3094995570490083, 0.011213752066993054, 0.04306080793725333, 0.004934050909476944, 0.5907404588891941, 0.028258655208822498, 0.9997763237708549, 0.03447881189890524, 0.1618516658813271, 0.1259470384527679, 0.01754185166786407, 0.08567855137284347, 0.03776250827022955, 0.02734973425063536, 0.3896364983763502, 0.004882338025784827, 0.02566467953377157, 0.0007777175616294416, 0.03071984368436294, 0.031972833089210374, 0.025707886064973207, 0.9995255353535105, 0.035346820248246764, 0.049516019744311204, 0.915056044874871, 0.00031087950196128457, 0.0062175900392256915, 0.4908787335968684, 0.12155388526686228, 0.009015505556877253, 0.027979155176515613, 0.00870462605491597, 0.30745982743971045, 0.027357396172593043, 0.0019799586701580245, 0.18116621831945925, 0.005939876010474073, 0.8098030960946321, 0.2944353530599391, 0.28413979528707217, 0.04786994383281736, 0.016983270514216452, 0.010295557772866969, 0.0857083185536105, 0.05024584178040204, 0.08236446218293575, 0.017247259175059197, 0.0005279773216854855, 0.052181758626582156, 0.006775708961630399, 0.024374953017813252, 0.026750850965397935, 0.07676082370927009, 0.922887765970232, 0.23078105657685882, 0.044163205134923916, 0.22398671732533204, 0.3259018060982334, 0.12637471007839765, 0.0015853458253562431, 0.04710741881058551, 0.026372636492131913, 0.007634184247722396, 0.553077963681147, 0.00026692951915113273, 0.20788470951490218, 0.11520678046562889, 0.0792246812840562, 0.010250093535403498, 0.19959668123630336, 0.7175684368372623, 0.033674286711646274, 0.02040865861311895, 0.028572122058366532, 0.3577786116814026, 0.2931796956833716, 0.3492600733080359, 0.8504940506963795, 0.14924378360878998, 0.1362033006250103, 0.8634174144883694, 0.06378655228193358, 0.17324605402009488, 0.06023050755541464, 0.05545207245415481, 0.005778572680593287, 0.0005556319885185852, 0.5890810342274041, 0.018558108416520745, 0.017113465246372424, 0.0004445055908148682, 0.015668822076224102, 0.10426494726228622, 0.35829227331949265, 0.41042474695063574, 0.0938384525360576, 0.004739315784649373, 0.01421794735394812, 0.013270084197018247, 0.06293551625345606, 0.13821723425998242, 0.05540734445280342, 0.0009033806160783166, 0.1574893540696532, 0.012647328625096432, 0.014152962985226959, 0.5098077943401966, 0.004818029952417688, 0.003914649336339371, 0.0018067612321566332, 0.0379419858752893, 0.10027770380247136, 0.27118579028320516, 0.012207720462909558, 0.028775341091143956, 0.07499028284358727, 0.02092752079355924, 0.4054707153752103, 0.0008719800330649684, 0.03226326122340383, 0.0523188019838981, 0.07607372604835398, 0.7522056276556871, 0.0007109694023210653, 0.055455613381043094, 0.09455893050870169, 0.020618112667310895, 0.7741758592757303, 0.02861537114258412, 0.019076914095056078, 0.03850068117365863, 0.00034685298354647417, 0.01127272196526041, 0.005549647736743587, 0.027227959208398222, 0.0074573391462491945, 0.01890348760328284, 0.018036355144416656, 0.018036355144416656, 0.032777606945141806, 0.06658650274987553, 0.13673378104787273, 0.12890007484200502, 0.2392841168337773, 0.3763739754364622, 0.051987323002576614, 0.14171368837905982, 0.30848173050469374, 0.0172248682007697, 0.029908634784972844, 0.054180039976966514, 0.03805129975260943, 0.02771637883214761, 0.2626009452062799, 0.0010961279764126173, 0.01910394473176276, 0.022079149239168434, 0.029125686230392404, 0.008769023811300939, 0.0397737865726864, 0.11690114089796944, 0.5665760816527353, 0.05092012885739773, 0.07745597065632331, 0.0315561361933169, 0.022949917231503202, 0.13339639390811237, 0.17352263391166353, 0.19775327198040935, 0.003126533944354298, 0.04533474219313732, 0.006253067888708596, 0.540108738887205, 0.033610239901808704, 0.00776525399023335, 0.1080076236823366, 0.0007059321809303045, 0.2301338909832793, 0.005647457447442436, 0.6473398099130893, 0.02579141541749412, 0.6618077196128992, 0.018053990792245886, 0.0206331323339953, 0.15474849250496472, 0.11296639952862425, 0.005674111391848707, 0.09102260748452647, 0.47725367167562527, 0.06672941156804812, 0.001537544045346731, 0.018450528544160773, 0.05381404158713558, 0.06334681466828532, 0.009840281890219078, 0.17066738903348713, 0.028905828052518543, 0.018450528544160773, 0.22899467464994228, 0.3120571582628044, 0.07948220414679047, 0.04597078834435989, 0.04024234119864526, 0.055136303777503295, 0.017614974973072482, 0.04267693123557398, 0.011600105470072123, 0.035946005839359293, 0.010740838398214929, 0.07232164521464718, 0.023200210940144246, 0.02405947801200144, 0.003139466784610681, 0.07273098051014745, 0.2569130318739741, 0.36313165808663544, 0.029824934453801473, 0.27391847695728194, 0.9181285873190925, 0.08167489143802814, 0.10246199307934688, 0.3185840112685704, 6.998770019081072e-05, 0.05200086124177236, 0.04934132863452155, 0.050391144137383714, 0.003219434208777293, 0.15306310031730302, 0.02729520307441618, 0.038773185905709134, 0.04717170992860642, 0.03583370249769509, 0.023165928763158344, 0.09875264496923392, 0.0016192036170683795, 0.02752646149016245, 0.07610257000221383, 0.2882182438381716, 0.4452809946938044, 0.16111075989830376, 0.1131555502302879, 0.6533287608186695, 0.2329187238316875, 0.371900106192628, 0.6088286333753988, 0.018449352526527237, 0.8843098399740048, 0.07766884159190425, 0.03798403201939843, 0.999784598924313, 0.2650106957253875, 0.06130844453348516, 0.6730744286955737, 0.03506516528454657, 0.11279998952980642, 0.02070112167400942, 0.7642516144547559, 0.04858426515328741, 0.01816629044862051, 0.9999034775426844, 0.9997930835207043, 0.877451851222013, 0.12225052933189687, 0.085009388239572, 0.0006667402999182118, 0.10601170768699568, 0.039337677695174496, 0.5940656072271266, 0.0013334805998364235, 0.0023335910497137412, 0.11201237038625958, 0.019668838847587248, 0.0006667402999182118, 0.03900430754521539, 0.044232000895139505, 0.1190361200560372, 0.04878529510493328, 0.013009412027982208, 0.0312225888671573, 0.5522495405878447, 0.011708470825183987, 0.023416941650367975, 0.08065835457348969, 0.018863647440574203, 0.022766471048968864, 0.03447494187415285, 0.43333583366555, 0.022504155613066006, 0.05652206526072392, 0.48724113664568486, 0.14631817682693973, 0.8535525468264318, 0.035379575676059885, 0.025112561558301334, 0.15164657338797435, 0.006798428267164449, 0.030662298919251905, 0.13139003202050475, 0.013041882798233841, 0.08088742203585457, 0.09226438362580323, 0.13680102594743157, 0.0002774868680475285, 0.2169947308131673, 0.02011779793344582, 0.05868847259205229, 0.9468766744681242, 0.05270407802226119, 0.001869745026169736, 0.878513055867466, 0.11939657524255314, 0.10715232005832119, 0.6008668074156492, 0.13111465323592045, 0.028257468369810444, 0.06804398383450354, 0.0013563584817509013, 0.049959204077824865, 0.012659345829675078, 0.23798556284990827, 0.7613982550001968, 0.1755873740313594, 0.8236387665406739, 0.8405045765476106, 0.11211882575842091, 0.00386616640546279, 0.004639399686555348, 0.002319699843277674, 0.028609631400424645, 0.00773233281092558, 0.14011249482751825, 0.6177105650957482, 0.06717722354744025, 0.09436800450711845, 0.07421483744288637, 0.006077939273339833, 0.060242445109881054, 0.061067684083989014, 0.11305773945279048, 0.6692688080015553, 0.09655295997063128, 0.9998957238705808, 0.9997267214914318, 0.9997946528771846, 0.022146897383055156, 0.7507894086870343, 0.0024927243807767708, 0.02617360599815609, 9.587401464526041e-05, 0.003067968468648333, 0.017353196650792133, 0.08408151084389338, 0.027419968188544478, 0.0372949916970063, 0.027611716217834998, 0.0017257322636146874, 0.2562526407403667, 0.5162407427160156, 0.002241276741169388, 0.03436624336459728, 0.005976737976451701, 0.029883689882258504, 0.03361915111754082, 0.01419475269407279, 0.01680957555877041, 0.002614822864697619, 0.0859156084114932, 0.001120638370584694, 0.18639062825354666, 0.8133409232882036, 0.0563979916885854, 0.9434478856547311, 0.35796763366186524, 0.18472624311503288, 0.02463016574867105, 0.0774881619059314, 0.11830781862423455, 0.23675400896615825, 0.9998369557549651, 0.7763562603285735, 0.012953663965437822, 0.18998707149308808, 0.020725862344700516, 0.9341843542002608, 0.0608334904393008, 0.004955885168171145, 0.03785717656681404, 0.9555151365463863, 0.00630952942780234, 0.22230467829187064, 0.6581618821869556, 0.11902927656572601, 0.3268594088511985, 0.6729718769915333, 0.22857747048451768, 0.6155158028733417, 0.04311171712219661, 0.05335608554727304, 0.059331967128567614, 0.8878131938834042, 0.11193689218307444, 0.1347776777832705, 0.8316395345035895, 0.03369441944581762, 0.341313454594347, 0.055825411900939065, 0.09697163182792602, 0.05057648871025316, 0.0804241790572891, 0.043236892723277104, 0.030159067146483413, 0.02548841515477138, 0.05355680950496465, 0.03238318714253676, 0.06356534948720471, 0.028646665549167137, 0.041768973525881894, 0.056092306300465467, 0.08180097056590924, 0.7141003646699644, 0.20339700789361218, 0.8039997548031902, 0.14542631223830313, 0.0010387593731307366, 0.04882169053714462, 0.001357841714741044, 0.8724133017211207, 0.12560035861354657, 0.5177579166463626, 0.3496546969559851, 0.13246533711601743, 0.28123552806103597, 0.07381264689974035, 0.6446927387445676, 0.20917281849535768, 0.24953950276639164, 0.5409135692318549, 0.2502568545284806, 0.6679062593599211, 0.08153315074398637, 0.8654423334433727, 0.015681854286629632, 0.11761390714972224, 0.06793084970465965, 0.01591173056145181, 0.006119896369789158, 0.013463772013536147, 0.08629053881402712, 0.3727016889201597, 0.003977932640362953, 0.4335946577995618, 0.8427098822121055, 0.060463489306698155, 0.08464888502937742, 0.011336904245005905, 0.3461340539269705, 0.003893123305927071, 0.5411441395238629, 0.1047604089594921, 0.0024774421037717727, 0.0014156812021552986, 0.24712417006024945, 0.1124689556185313, 0.00021966592894244396, 0.5661889318491493, 0.03701370902680181, 0.00021966592894244396, 0.00021966592894244396, 0.03602521234656081, 0.000658997786827332, 0.27588059710282803, 0.014911423335027159, 0.11206685987061109, 0.061668560846798365, 0.08925662055708117, 0.06889308765640455, 0.016722371388635106, 0.016394859506599628, 0.06041630953313329, 0.03583365297564666, 0.01221426665944085, 0.06515559912023494, 0.089063966508825, 0.08151192781718335, 0.00010699494714346464, 0.0024608837842996865, 0.041835024333094675, 0.20799817724689526, 0.44039120244250046, 0.01176944418578111, 0.17493673857956468, 0.12036931553639772, 0.06687544164519157, 0.10949738978706032, 0.021221806815407456, 0.180831194208598, 0.025501835080699718, 0.006598376908992234, 0.4533263270988719, 0.02817685274650738, 0.06794544871151463, 0.019795130726976706, 0.020151799749084393, 0.14070723547271052, 0.09790655548101151, 0.005885093498858615, 0.03317052699356674, 0.01177018699771723, 0.6077696558821261, 0.08560135998339805, 0.014980237997094657, 0.0016050254996887133, 0.9997859449290064, 0.08203053083370436, 0.09031644303912904, 0.00023674034872641953, 0.35108593716128017, 0.030421134811344907, 0.0055633981950708586, 0.00011837017436320976, 0.027698620800991083, 0.40671991911198874, 0.005918508718160488, 0.013501499895758674, 0.007816657834386601, 0.0758571112564336, 0.0030200723451039137, 0.20998385364193095, 0.04316926940354418, 0.0015988618297608954, 0.5395270418870933, 0.04956471672258776, 0.05578251272721346, 0.0007122028179108499, 0.008546433814930199, 0.011751346495529023, 0.16879206784487144, 0.051634704298536616, 0.5832941078689861, 0.13816734667470487, 0.03667844512240877, 0.06327468818436761, 0.14486573347473636, 0.009158178553000575, 0.6069374695579473, 0.08492129203691443, 0.005827931806454911, 0.08492129203691443, 0.1348863981427922, 0.005304521275278345, 0.06138088904250656, 0.0015155775072223843, 0.615324467932288, 0.17277583582335182, 0.008335676289723114, 0.001982907020298553, 0.12928553772346565, 0.13999323563307786, 0.061073536225195436, 0.007535046677134502, 0.022605140031403504, 0.4695523824066974, 0.1677539339172576, 0.009224191646427978, 0.25509661035983583, 0.08333580039186657, 0.5976640035737301, 0.0012723022960590316, 0.053436696434479326, 0.035302288148378595, 0.8906262981433799, 0.033285014539899814, 0.040345472169575534, 0.8490002580864237, 0.06950406682097328, 0.08122277576171878, 0.6376554355797057, 0.03471137997712088, 0.0344159639773156, 0.04505093997030582, 0.03766553997517372, 0.025996607982865, 0.06691172395589684, 0.01802037598812233, 0.03116638797945747, 0.02407640398413065, 0.04416469197088997, 0.4703916328609655, 0.529295273533763, 0.6588339120134252, 0.1669472340150524, 0.00788894975550056, 0.009594668621554735, 0.014711825219717261, 0.0394447487775028, 0.002558578299081263, 0.026438642423839715, 0.021534700683933962, 0.0189761223848527, 0.008741809188527648, 0.024093278983015227, 0.8249040091803207, 0.02122236265229013, 0.023067785491619707, 0.04798099382256899, 0.04336743672424505, 0.02583591975061407, 0.011995248455642248, 0.03587853865483177, 0.6811567338648659, 0.28274430462315187, 0.9996497132764814, 0.1803636710118449, 0.8192001573699278, 0.9993450503239077, 0.9426940162156066, 0.0572196671451051, 0.658319247262317, 0.00043453415660879016, 0.34110931293790026, 0.1471741202169989, 0.00016137513181688475, 0.8255951743751825, 0.026949647013419755, 0.34174900967103333, 0.007260221753254122, 0.5963753583030171, 0.008815983557522862, 0.046154266859972634, 0.13602539484387954, 0.0013942742398921643, 0.4681972897557888, 0.07880438003870513, 0.07556966380215531, 0.06463855376140074, 0.14968928239482276, 0.0016731290878705973, 0.023981516926145228, 0.2727078681799716, 0.6146328513071482, 0.03952562028405968, 0.07299947095524899, 0.07933317757522683, 0.12844419226465298, 0.79207251896536, 0.18026603349235376, 0.8023532012645057, 0.016935222353143882, 0.08900799490209575, 0.40431881684276993, 0.019359238891205825, 0.487096252101719, 0.6608559207494343, 0.13719368914758256, 0.20169322701272735, 0.8640832338050363, 0.1325281033443307, 0.003313202583608268, 0.7328397215720579, 0.15436092294871567, 0.11164940543377978, 0.8299511220080164, 0.011443447981242607, 0.12587792779366866, 0.01806860207564622, 0.015057168396371851, 0.9995235621398348, 0.06099475975565166, 0.11188181646608104, 0.1655572050510545, 0.018124157184536496, 0.6434075800510456, 0.9992246761094725, 0.2678888034479428, 0.06124356558330386, 0.12008379774046996, 0.1281225336830687, 0.08337080781705505, 0.034682587546160576, 0.04350862236973549, 0.03650580600736854, 0.03982074866411029, 0.05946178390530517, 0.05995902530381643, 0.0653043703378125, 0.19121549684091754, 0.04167432966556952, 0.05698997447957219, 0.12160490517555775, 0.05390055256430127, 0.1107590622815215, 0.039439428705586296, 0.04739304682787953, 0.02123155911984062, 0.11095625942504944, 0.09649513556633448, 0.04910208873845494, 0.037861851557362845, 0.0212972915010166, 0.7329183448443344, 0.04068181121162385, 0.0006457430351051404, 0.06780301868603975, 0.007748916421261686, 0.032287151755257024, 0.060054102264778066, 0.0574711301243575, 0.19209394144882036, 0.4999311218120797, 0.30761587397910173, 0.9992335213270709, 0.99950968674634, 0.28317312344713996, 0.5265201265423566, 0.023832953911387195, 0.00015679574941702103, 0.017717919684123378, 0.08780561967353177, 0.06067995502438714, 0.00015679574941702103, 0.18440765811529095, 0.7506476436222431, 0.06454268034035184, 0.00022493554363126053, 0.5497424686348007, 0.04363749546446454, 0.40465904299263766, 0.0017245058345063307, 0.731690977656644, 0.26803997519647293, 0.11485832621697523, 0.3203636957215464, 0.5646071179131245, 0.010245496697628524, 0.3381013910217413, 0.043909271561265104, 0.019027351009881545, 0.4486063911175918, 0.11928685440810353, 0.00439092715612651, 0.013904602661067283, 0.002195463578063255, 0.8479879615574231, 0.06348572974226697, 0.005290477478522248, 0.08238029216556071, 0.7555671705049789, 0.2439707376830073, 0.008948715000255781, 0.026433127385370923, 0.03138933877012797, 0.4020038123191828, 0.03758460300107428, 0.26199084069979617, 0.17153998292798006, 0.0364832226933505, 0.02354200407759598, 0.47651688709768303, 0.5231216570618789, 0.29998897001966274, 0.6989019167482223, 0.9993256659287651, 0.0005734828153643363, 0.9997264112912589, 0.7962355725942344, 0.13503609710805858, 0.0685410492896964, 0.03365886781717267, 0.7117728581071447, 0.22035338797642376, 0.022439245211448446, 0.011668407509953193, 0.04051782869441099, 0.959319179382378, 0.0251725955223829, 0.06690610915159666, 0.6114290965041952, 0.12917516123328068, 0.07485534984287547, 0.09075383122543308, 0.0013248734485464685, 0.8935451854267359, 0.10602309845430383, 0.7775096985799511, 0.12302719393068363, 0.09919760231347914, 0.8233017509993297, 0.13182415227063504, 0.04434085121830451, 0.9996964814769813, 0.7423404692188829, 0.12772969343385224, 0.032521582461017724, 0.004241945538393617, 0.006598581948612292, 0.01178318205109338, 0.04006281897371749, 0.03440689158919267, 0.9154533362717571, 0.020584834544524207, 0.0005718009595701169, 0.012007820150972454, 0.017154028787103506, 0.0022872038382804674, 0.03259265469549666, 0.9996673562497214, 0.9991984958686319, 0.00013055250252209878, 0.4300399433077934, 0.09295338179573433, 0.1710237783039494, 0.30575396090675533, 0.001783684470375009, 0.9979714611748175, 0.07885808577210517, 0.6732264677899557, 0.2476534925074377, 0.07574483548398195, 0.00490113641366942, 0.15416301810269267, 0.7645772805324296, 0.0006916304355503554, 0.3918086417392764, 0.05083483701295113, 0.511806522307263, 0.02282380437316173, 0.021786358719836196, 0.3810242888553637, 0.05520896918968289, 0.13085349712420363, 0.03065333811725677, 0.10399062554832808, 0.016480289310353103, 0.03757505962760507, 0.017469106668974287, 0.0021424376103459032, 0.017963515348284883, 0.009558567800004799, 0.010712188051729516, 0.1860624663138865, 0.8248951826612284, 0.17471852492744808, 0.7303870845705106, 0.2209236827756815, 0.028117559625995825, 0.02008397116142559, 0.2732932907379332, 0.09221552754960936, 0.15425142790116475, 0.4795207432579687, 0.3168501767819594, 0.6330318932753494, 0.0501345216427151, 0.04899308551980416, 0.6500545981164259, 0.3007299151825377, 0.29304376105625685, 0.15860413068180432, 0.04746317161346303, 0.0639926343644203, 0.03951328714752644, 0.029438186042181052, 0.061237723905927424, 0.01975664357376322, 0.07800332183904124, 0.06643269791337114, 0.07351675337806711, 0.06895147318970749, 0.14488601741916046, 0.2542857436977688, 0.005489591999643427, 0.46289023968421905, 0.011567354570677223, 0.0033329665712120812, 0.07293315085240554, 0.007842274285204896, 0.02685978942682677, 0.009998899713636242, 0.8816204363467984, 0.11049642802213207, 0.005485638270602301, 0.0015673252201720861, 0.9989068261289149, 0.09030048703332202, 0.5062984125254669, 0.01937355903624, 0.05056827273866033, 0.026925963406299658, 0.039937442674282876, 0.023519172304587964, 0.07010601447859728, 0.006279988416408304, 0.05939309306237135, 0.006362079768256779, 0.0516354603126905, 0.008947957351483727, 0.04034789943352525, 0.24957346273973482, 0.09682621894674359, 0.04867200310691924, 0.04401191770306527, 0.5333208851077321, 0.027442725156028934, 0.09874874185657552, 0.11990918654012742, 0.005038201115131404, 0.7335620823631324, 0.04131324914407751, 0.01671146920405851, 0.16247261726167994, 0.1575210708308478, 0.6613409201680192, 0.0018568299115620565, 0.7607779719366258, 0.15507921900796717, 0.04639665158844919, 0.03749866361258222, 0.0024346559020550006, 0.8182530678820849, 0.0893866524040193, 0.03679808491963129, 0.00048693118041100007, 0.05258856748438801, 0.13296997145990325, 0.7501007664209864, 0.11634872502741533, 0.0036386397408786405, 0.46210724709158735, 0.010915919222635921, 0.007641143455845145, 0.06003755572449757, 0.03165616574564417, 0.054579596113179606, 0.3383934959017136, 0.030928437797468445, 0.00019853313860683717, 0.02124304583093158, 0.2900569155045891, 0.00019853313860683717, 0.0015882651088546973, 0.05161861603777767, 0.07782499033388017, 0.10959029251097412, 0.42307411837117004, 0.02441957604864097, 0.06538156673970452, 0.0005998308875202249, 0.032390867926092144, 0.024593066388329223, 0.16435366318054162, 0.7060009546113047, 0.005998308875202249, 0.1479432025189826, 0.002296835107600643, 0.18766493908572313, 0.6589214599863727, 0.003107482792636164, 0.07861607021923095, 0.8305958723162227, 0.07519798020969917, 0.015381405042893013, 0.9998884391636097, 0.51198642564306, 0.09964086493962789, 0.16010828079707184, 0.034579415433877096, 0.0422154443357925, 0.018127808450075604, 0.018562379200591114, 6.208153578793015e-05, 0.018810705343742837, 0.009933045726068825, 0.027005468067749616, 0.02036274373844109, 0.022038945204715204, 0.01657577005537735, 0.5716780017787818, 0.16597943807342025, 0.11855674148101447, 0.03621843311178244, 0.00938031361168466, 0.04377479685452842, 0.00938031361168466, 0.00442959253885109, 0.0005211285339824812, 0.03387335470886128, 0.0002605642669912406, 0.00442959253885109, 0.0015633856019474435, 0.17480891740082735, 0.12835069160511198, 0.010236558226174575, 0.6716757051482241, 0.014173696005472488, 0.125813681716435, 0.7361438823833962, 0.012492138610142482, 0.12492138610142482, 0.9997439006386006, 0.37849262544227885, 0.03021579782942562, 0.013823421679048969, 0.07670164064392658, 0.27157518696892663, 0.11988454199529194, 0.005994227099764597, 0.04122560270654427, 0.006850545256873826, 0.028013836854001894, 0.02727984986219398, 0.0017841180945447378, 0.08474560949087505, 0.9125764053596335, 0.07218330094257924, 0.040150589885993924, 0.5978708056794177, 0.008995487351506836, 0.022817821574553927, 0.20777381760675545, 0.01448054061462076, 0.019965593877734684, 0.0017552170441964558, 0.00043880426104911396, 0.013602932092522533, 0.0443632679434546, 0.6028854361546394, 0.0449320277888835, 0.3071303165316087, 0.07431027179624732, 0.6840355788423792, 0.01810122005293204, 0.015243132676153296, 0.0400132232749024, 0.025722786391008688, 0.003810783169038324, 0.1257558445782647, 0.012385045299374554, 0.02034949615359631, 0.4765720712100297, 0.0669564066989298, 0.4352166435430437, 0.604879001258837, 0.055438991932070164, 0.07028872191387467, 0.2682851216712681, 0.4878790115107243, 0.034714468126724615, 0.02251749283895651, 0.45410277225228957, 0.9998663262921997, 0.9988817479936716, 0.0008147485709573178, 0.24687457708333785, 0.04966707467948809, 0.01752955576923109, 0.1913643171474394, 0.48425397812500887, 0.01095597235576943, 0.15629294783556402, 0.003297319574589958, 0.316542679160636, 0.4411813590801364, 0.07781674196032301, 0.004616247404425941, 0.4343535634673238, 0.07367871431998223, 0.4104956940684724, 0.05894297145598578, 0.021752763275423324, 0.018417595595674546, 0.9632127607051286, 0.018417595595674546, 0.10267810841640891, 0.19409765231347476, 0.07445664002125559, 0.035877292268306625, 0.36582828978185455, 0.0001501141935912411, 0.021166101296364995, 0.05314042453129935, 0.0006004567743649644, 0.004203197420554751, 0.040230603882452615, 0.01741324645658397, 0.0902186303483359, 0.004666558367567542, 0.00016666279884169793, 0.2739936412957514, 0.14066340222239304, 0.5126547692370628, 0.005999860758301125, 0.00033332559768339587, 0.06149857277258653, 0.04392293814624392, 0.05540279697992131, 0.1766900011792085, 0.6129246368589493, 0.1103064696627262, 0.001919248098001183, 0.14223760904075436, 0.12091263017407454, 0.15353984784009464, 0.49729850717097324, 0.0680266825847086, 0.015993734150009858, 0.23974922106753513, 0.07714494251207342, 0.06662039373825712, 0.03715165717157151, 0.02557465352037359, 0.044413595825504755, 0.016418296087153415, 0.003157364632144888, 0.004420310485002843, 0.08745900031041338, 0.008103902555838545, 0.16028887782522214, 0.02778480876287501, 0.20165035450632016, 0.05409341395752689, 0.02334557865535371, 0.5403647352178212, 0.15373917651086588, 0.05067698781284098, 0.13893466321722694, 0.03928890066388795, 0.08450372592888172, 0.009657568677586484, 0.7999686054600803, 0.02011993474497184, 0.07645575203089298, 0.008047973897988735, 0.9995737744712602, 0.999500021704388, 0.19191480455061385, 0.28217176708679365, 0.03135241856519929, 0.008550659608690716, 0.48548745111566177, 0.06046698638424613, 0.07047434310518197, 0.0002114230293155459, 0.023467956254025594, 0.6423736374037337, 0.1461637876001474, 7.047434310518196e-05, 0.001761858577629549, 0.055181410651357475, 0.0027443479718107064, 0.13622943332068346, 0.0742071691577615, 0.6043054233927175, 0.06729141226879852, 0.11515284089717724, 0.12624220865200006, 0.13682773546443486, 0.005880848229130438, 0.5598567514132177, 0.11722490803400006, 0.005096735131913046, 0.00039205654860869585, 0.04822295547886959, 0.6440418500056484, 0.3556310074431754, 0.1361763735928024, 0.1111643866063693, 0.12135445537861983, 0.020380137544501038, 0.007410959107091287, 0.023159247209660273, 0.023159247209660273, 0.49931336984027547, 0.05650856319157106, 0.36223065985865543, 0.1500643859846818, 0.058459548423644245, 0.42906758905328923, 0.2780289195589854, 0.03423178889464985, 0.17282878783396388, 0.07931755963394478, 0.4349941954661603, 0.009406180436141533, 0.03400696003835785, 0.4609028413709351, 0.4952715775799138, 0.999650577835317, 0.9991648448650402, 0.08731228819707812, 0.026193686459123438, 0.886219725200343, 0.17974110421370812, 0.05877347525327134, 0.039493287604050055, 0.07618783829127766, 0.023944749177258695, 0.16668033193520337, 0.4549502343679152, 0.8509325745759156, 0.04719911269438518, 0.055964662194771, 0.03775929015550814, 0.007417003423403385, 0.015370820769756016, 0.002411109140353885, 0.04430413045400264, 0.026823589186436972, 0.15973598054844487, 0.7519646631478679, 0.18981634680230958, 0.0018840332188814848, 0.1997075212014374, 0.5652099656644454, 0.04286175572955378, 0.9280123530022168, 0.0717946519514609, 0.9255016597268846, 0.0006795166370975658, 0.0733877968065371, 0.882697857938964, 0.04727708971325608, 0.0697625348207803, 0.9207716420555, 0.07831535173949501, 0.0008236496239035408, 0.9812515113897556, 0.018747710197207352, 0.9997697859025609, 0.032074277524608064, 0.14206078474500736, 0.03145982776360025, 0.1083274928656782, 0.059724516769959844, 0.0326272823095151, 0.08737475601531162, 0.01093720574593915, 0.09161445936626557, 0.027465904317049435, 0.09530115793231247, 0.16375086130858332, 0.1173599043524931, 0.14640148616616222, 0.08868959596732727, 0.24018330773926905, 0.12475952734159912, 0.000848704267629926, 0.39889100578606523, 0.35846544926058405, 0.15324774130481542, 0.05544234749622853, 0.05474787132717348, 0.051159744453722365, 0.02025555493077243, 0.04815034772115046, 0.06389180755306503, 0.04456222084769934, 0.028589268959433086, 0.00011574602817584245, 0.03553403064998363, 0.045256697016754395, 0.0406268558897207, 0.9991210480723965, 0.07519203723594836, 0.21244325588923765, 0.7122642979268259, 0.2465357283591565, 0.09727998847148592, 0.6559805283212798, 0.9133722248876819, 0.014029161093666899, 0.02731994528766712, 0.005168638297666753, 0.03987235258200066, 0.1759233669562008, 0.14977259619244124, 0.21396085170348747, 0.46001583116249806, 0.38732963229734135, 0.2777827462886658, 0.015926093467927938, 0.011262651734225283, 0.005807304800459912, 0.09379677147409493, 0.021645408801714217, 0.05182579587077103, 0.005191378533744466, 0.013286409467718889, 0.07162342587233891, 0.014606251467823414, 0.030004408135709544, 0.12567902043219223, 0.5571144637068819, 0.0021884406542919043, 0.02344757843884183, 0.0018758062751073467, 0.030012900401717547, 0.0050021500669529245, 0.1635077803135237, 0.017194890855150677, 0.006877956342060271, 0.0503341350487138, 0.01656962209678156, 0.18471224304091793, 0.8114886183033585, 0.002075418461133909, 0.21417033552332562, 0.0461511834124338, 0.08437013217585554, 0.0007211122408192781, 0.006850566287783143, 0.38507393659749456, 0.09608820608916882, 0.03263032889707233, 0.09536709384834953, 0.005588619866349406, 0.005228063745939766, 0.0028844489632771125, 0.008473068829626519, 0.0165855815388434, 0.2549747053391102, 0.056043097985609795, 0.46759622975779774, 0.058182147527045286, 0.16256776514909713, 0.999589498054978, 0.8446372996861862, 0.1547658764694449, 0.999795832946188, 0.4047625431843602, 0.5446232846508097, 0.008336070683430761, 0.002778690227810253, 0.014819681214988018, 0.02408198197435553, 0.22837955847423358, 0.5552899602142494, 0.002649973779764314, 0.023367950603376222, 0.03613600608769519, 0.05420400913154278, 0.016140749385837184, 0.01349077560607287, 0.015899842678585883, 0.011081708533559857, 0.038785979867459505, 0.004577227437774724, 0.33552654106679625, 0.017815568552219267, 0.03340419103541113, 0.0011134730345137042, 0.0018557883908561737, 0.05901407082922633, 0.5496845213715987, 0.00037115767817123477, 0.0011134730345137042, 0.22312496029279402, 0.26111506144576374, 0.0016052155416747772, 0.16533720079250205, 0.3483317725434266, 0.6468011487973122, 0.2729185335169147, 0.04417178577152377, 0.015144612264522433, 0.020823841863718346, 0.337564460316486, 0.07129068927261528, 0.5282822871739953, 0.06215085731458768, 0.31739594035018476, 0.37621742702627803, 0.3061118184164036, 0.013838096661243617, 0.8410487637444731, 0.046126988870812055, 0.003843915739234338, 0.05919630238420881, 0.020757144991865425, 0.0030751325913874706, 0.011531747217703014, 0.17735219522017057, 0.6596257085381781, 0.01659435744750134, 0.14571920133587113, 0.0005635460676377721, 0.9528436911619449, 0.04643619597335241, 0.9356343804738738, 0.06377060740184018, 0.159149721674702, 0.840542404209105, 0.08364439940057115, 0.2722817687600182, 0.6439568824144389, 0.05600825735493989, 0.0007369507546702617, 0.08401238603240983, 0.8600215307001955, 0.2927049018276939, 0.5917557093860695, 0.015071526110369061, 0.013485049677698634, 0.01031209681235778, 0.003172952865340855, 0.036488957951419834, 0.0015864764326704276, 0.03569571973508462, 0.33380517665051435, 0.23053186995037384, 0.059279623701524696, 0.08500474342105428, 0.045236442405356375, 0.03367877992266917, 0.021375461795937627, 0.06449921320983505, 0.015285940702908885, 0.02249394526200413, 0.025849395660203642, 0.009320695550554198, 0.02013270238919707, 0.03343022804132106, 0.08827938275382842, 0.9114846269332784, 0.06732253983734464, 0.06598942023660515, 0.1409107417981649, 0.03599422921996644, 0.02932863121626895, 0.6238999731460849, 0.0007998717604436986, 0.034127861778931144, 0.0015997435208873973, 0.1295883974563407, 0.8703497559264959, 0.1088103436680634, 0.8910763848575232, 0.40655347612114184, 0.592857593333937, 0.00034793583408825637, 0.8086028784211078, 0.031314225067943076, 0.15935461201242143, 0.7785438575086395, 0.2206700742620029, 0.7010012993609787, 0.06971104503358483, 0.2185360202448194, 0.0022696619313260177, 0.0077816980502606325, 0.0006484748375217193, 0.13162291138752003, 0.10946855996585823, 0.00010024593403466871, 0.00010024593403466871, 0.48238343457482585, 0.2656517251918721, 0.010726314941709551, 0.10913183049368082, 0.6347343222227058, 0.06429929472330383, 0.0389335179058537, 0.0471921429161863, 0.10559241977496685, 0.08872997592213196, 0.9110260897792523, 0.999913707116682, 0.18874628049473047, 0.1527471783724788, 0.019422440473072528, 0.060117077654748295, 0.07135790400912727, 0.046741917182449265, 0.009604503530640261, 0.07783205083348478, 0.05072600753590004, 0.06139767812550033, 0.07455940518600736, 0.035003079533888946, 0.05805388800742557, 0.09355497883549588, 0.5482604400671225, 0.23327810339095081, 0.06941446003340487, 0.013655303613128828, 0.0006827651806564414, 0.04028314565873004, 0.01911742505838036, 0.0009103535742085886, 0.012517361645368092, 0.02708301883270551, 0.0006827651806564414, 0.01502083397444171, 0.00955871252919018, 0.009786300922742327, 0.4883171264109912, 0.22586828674635331, 0.08021117603536575, 0.038841896189596686, 0.03897491638202681, 0.026870078870885376, 0.006917050006366532, 0.011306716356560678, 0.013435039435442688, 0.014765241359743945, 0.005719868274495402, 0.013967120205163192, 0.01064161539441005, 0.024209675022282863, 0.9804524905600179, 0.019365313963044795, 0.9575082455191958, 0.042407125092924755, 0.14784773996109615, 0.001033900279448225, 0.850899929985889, 0.9989668107545125, 0.48148445586324273, 0.10339207563783566, 0.019642708670400556, 0.06255905094724541, 0.10720157065270122, 0.005595195803083795, 0.06922566722326014, 0.009404690817949358, 0.009761830975593003, 0.07446372286870029, 0.04130921156744844, 0.0026190278227200743, 0.008333270345018419, 0.005059485566618325, 0.2931650630284149, 0.5498227785853669, 0.05531416283554998, 0.0011062832567109997, 0.10067177636070097, 0.9996268154467332, 0.6386103817322984, 0.2931207105217725, 0.06764324088963981, 0.00042035365367869065, 0.5594440070848175, 0.003082593460310398, 0.036057002293327686, 0.04764008075025161, 0.03110617037222311, 0.14567589398042624, 0.0007940013458375268, 0.041521599791150665, 0.001261060961036072, 0.046846079404414084, 0.028864284219270092, 0.05721480286182178, 0.000858027417992746, 0.001716054835985492, 0.07979654987332538, 0.047191507989601034, 0.10896948208507876, 0.7396196343097471, 0.02145068544981865, 0.06243316288550643, 0.2948852068431509, 0.006466291870284594, 0.029655752370615556, 0.026199630853739306, 0.051284383798808855, 0.04883165239973539, 0.39823438897683744, 0.00022297558173395155, 0.022520533755129104, 0.009699437805426892, 0.02006780235605564, 0.008361584315023183, 0.021182680264725397, 0.07206424757531811, 0.20357105866897654, 0.017262009077925522, 0.06371166253761222, 0.06941926231337792, 0.04988349397518801, 0.026125029867935672, 0.275867322495342, 0.02644985261940201, 0.02844519237840953, 0.0029698080134065415, 0.04542878195507819, 0.03215745239516771, 0.08658846489088448, 0.002472652645853711, 0.748190585081597, 0.03103605389968106, 0.07008691292730174, 0.0429729977072507, 0.10521563327529239, 0.8401539286080013, 0.0881483560760893, 0.07135819301397706, 0.9995496911605629, 0.20491453892356035, 0.17191982502908876, 0.4157333950703419, 0.08682819445913574, 0.056959295565193045, 0.06286361278841428, 0.0007042133244753144, 0.5999897524529678, 0.03028117295243852, 0.36900778202506473, 0.4662740588900912, 0.0750444233363265, 0.19253080037949907, 0.03921107833815885, 0.0848839074136922, 0.0038183072539031094, 0.0032308753686872463, 0.09281423786410635, 0.007636614507806219, 0.0030840173973832805, 0.00793033045041415, 0.018357246412995718, 0.00014685797130396575, 0.004993171024334836, 0.09072258937347275, 0.12096345249796366, 0.7877744843929884, 0.11735533314291503, 0.4852689636139073, 0.006939812286474234, 0.09322135907204196, 0.03314537211450381, 0.023201760480152666, 0.07623435586335875, 0.01035792878578244, 0.001864427181440839, 0.05365407111035304, 0.041742453006703234, 0.028587883448759534, 0.026516297691603047, 0.0017608478935830147, 0.8073043369451867, 0.08206639831830503, 0.11069421168515563, 0.001236506769182359, 0.4597744336743071, 0.5387047824404477, 0.31403040326841486, 0.004865360542777902, 0.14028456231676284, 0.08807733570822937, 0.05201642815587551, 0.08986607120189771, 0.04548158115234049, 0.029359111902743124, 0.06508612216294556, 0.010112317990871717, 0.0476280637447425, 0.02380210696908013, 0.050346941695118386, 0.03904213337513444, 0.003053904399731033, 0.009661443010058177, 0.4207725007483958, 0.007829100370219557, 0.046696974548614524, 0.2395371560079941, 0.1027777644345844, 0.006440962006705452, 0.14647636011800846, 0.0167687114312504, 0.07666544695481634, 0.0017367576980055481, 0.5458381336588866, 0.002977298910866654, 0.014638386311761049, 0.09800275581602735, 0.0037216236385833176, 0.17963036762228812, 0.07691355519738856, 0.9995689360374318, 0.08273652385620517, 0.6898826566318401, 0.0002469746980782244, 0.22713439733260704, 0.884223547999116, 0.11561125508640424, 0.5555633683871037, 0.0025529599819838628, 0.30105289633702015, 0.0936739931851002, 0.011586510687465223, 0.014139470669449088, 0.02120920600417363, 0.6453911906932907, 0.004103643409032484, 0.18466395340646177, 0.13765858344845333, 0.02760632838803671, 0.27714543980863227, 0.05085913656062666, 0.05559756543273474, 0.4963767489581658, 0.0003158952581405383, 0.11972430283526402, 0.5952280912317772, 0.4046921149380073, 0.9984448716139307, 0.0014984914777336495, 0.9610144912787152, 0.03848653372126355, 0.005246530606888811, 0.9943718597291616, 0.1420795905101264, 0.07515886201727098, 0.07919329042135123, 0.10675718238489243, 0.08077320643973229, 0.019579673513508283, 0.0016645543765086293, 0.05109335552300216, 0.090647681554614, 0.02462976221511921, 0.09961934751613509, 0.11626489128122137, 0.11251259073756634, 0.9997261312874086, 0.37700273831501074, 0.08767433316280379, 0.05686564081512354, 0.0942584488661387, 0.04894606768139525, 0.022050576176263086, 0.00012422859817613007, 0.0637913851634428, 0.043448952212101495, 0.02984592071181525, 0.05804581249779678, 0.06223852768624116, 0.0556854691324503, 0.5275811242950541, 0.054068872986760205, 0.03768436602107529, 0.31680614540077895, 0.06378254497355912, 0.02458726743421135, 0.18971312031624438, 0.7853955540632739, 0.05119646558040018, 0.8297358214754512, 0.03442520961440702, 0.033542511931986325, 0.02824632583746217, 0.0044134884121034635, 0.016771255965993163, 0.9990455381129243, 0.8659788566542589, 0.13364428653266977, 0.11902140356111879, 0.04512784924379448, 0.6587082556287195, 0.10740955931125354, 0.06940715994805818, 0.9998494290321581, 0.9990597755552613, 0.23950151425022997, 0.08436985161087647, 0.1483276423481538, 0.04830854406751798, 0.47696182241310003, 0.002721608116479886, 0.15177606516460193, 0.4828827787528555, 0.0596714827626307, 0.02199849515927415, 0.015313120860357158, 0.0381247020830131, 0.036543701404215166, 0.010434604480066383, 0.06495654217461237, 0.023715010181969053, 0.012738348326314805, 0.04291287556737257, 0.0275094118110841, 0.011473547783276455, 0.010423372114596909, 0.5807307320989706, 0.09455487561098624, 0.016379584751509427, 0.020102217649579753, 0.025313903706878207, 0.0655183390060377, 0.031270116343790726, 0.04318254161761577, 0.07668623770024868, 0.035737275821475116, 0.04601355256402804, 0.8906094223549891, 0.01711247822629142, 0.025478578692478337, 0.002281663763505523, 0.0019013864695879355, 0.016351923638456247, 0.06661965319742673, 0.4898381576410169, 0.0051992445263340315, 0.06592642059391551, 0.005476537567738513, 0.07382927227394324, 0.025233666767807833, 0.05469605241703401, 0.05206176852369143, 0.045753351831739474, 0.03618674190328486, 0.018301340732695792, 0.025372313288510074, 0.03549350929977366, 0.026781769321239275, 0.6853339382997398, 0.023806017174434913, 0.026235202600397658, 0.007287556277888238, 0.013846356927987653, 0.02155902065541937, 0.049676841960938155, 0.033522758878285895, 0.048401519612307715, 0.01931202413640383, 0.029210954747202023, 0.0058907746579596595, 0.009230904618658435, 0.06991783520193398, 0.3736807147309355, 0.04150553138391961, 0.020687299554130276, 0.06716825741309387, 0.01479534714947292, 0.005630087853339252, 0.31960568488374685, 0.038101292216784245, 0.00039279682697715716, 0.007070342885588829, 0.04137459910826055, 0.021996234392802124, 0.03666039065467021, 0.10137394981030545, 0.2170932698767862, 0.0672638472011775, 0.5553252219168304, 0.007035307198518516, 0.9926818457109625, 0.01275159496629021, 0.917460909625906, 0.06964332635435423], \"Term\": [\"access\", \"access\", \"access\", \"access\", \"access\", \"access\", \"access\", \"access\", \"access\", \"access\", \"action\", \"action\", \"activity\", \"activity\", \"add\", \"add\", \"add\", \"add\", \"add\", \"add\", \"add\", \"add\", \"add\", \"add\", \"add\", \"add\", \"add\", \"add\", \"address\", \"address\", \"address\", \"address\", \"address\", \"address\", \"address\", \"ajax\", \"android\", \"angular\", \"angular\", \"angular\", \"angular\", \"angular\", \"animation\", \"animation\", \"answer\", \"answer\", \"answer\", \"answer\", \"answer\", \"answer\", \"answer\", \"answer\", \"answer\", \"answer\", \"anymore\", \"anymore\", \"anymore\", \"anymore\", \"anymore\", \"anymore\", \"anymore\", \"anymore\", \"anymore\", \"api\", \"api\", \"api\", \"api\", \"api\", \"api\", \"api\", \"app\", \"app\", \"app\", \"apple\", \"apple\", \"application\", \"application\", \"application\", \"application\", \"application\", \"application\", \"application\", \"application\", \"application\", \"application\", \"application\", \"appreciated\", \"appreciated\", \"appreciated\", \"appreciated\", \"appreciated\", \"appreciated\", \"appreciated\", \"appreciated\", \"appreciated\", \"appreciated\", \"appreciated\", \"appreciated\", \"appreciated\", \"approach\", \"approach\", \"approach\", \"approach\", \"approach\", \"approach\", \"approach\", \"approach\", \"approach\", \"apps\", \"area\", \"area\", \"area\", \"area\", \"area\", \"argument\", \"argument\", \"argument\", \"arguments\", \"arguments\", \"array\", \"arrays\", \"asking\", \"asking\", \"asking\", \"asking\", \"asking\", \"asking\", \"async\", \"async\", \"async\", \"attempting\", \"attempting\", \"attempting\", \"attempting\", \"attempting\", \"attempting\", \"attempting\", \"attempting\", \"attempting\", \"attempting\", \"attempting\", \"attempting\", \"attribute\", \"attribute\", \"attribute\", \"attribute\", \"attributes\", \"attributes\", \"audio\", \"authentication\", \"background\", \"background\", \"background\", \"background\", \"background\", \"bar\", \"bar\", \"base\", \"base\", \"base\", \"base\", \"base\", \"base\", \"base\", \"base\", \"base\", \"base\", \"best\", \"best\", \"best\", \"best\", \"best\", \"best\", \"best\", \"best\", \"best\", \"best\", \"better\", \"better\", \"better\", \"better\", \"better\", \"better\", \"better\", \"better\", \"black\", \"black\", \"bootstrap\", \"bootstrap\", \"bootstrap\", \"box\", \"box\", \"box\", \"box\", \"box\", \"box\", \"box\", \"browser\", \"browser\", \"browser\", \"browsers\", \"browsers\", \"browsers\", \"buffer\", \"bug\", \"bug\", \"bug\", \"bug\", \"build\", \"build\", \"build\", \"build\", \"build\", \"button\", \"buttons\", \"byte\", \"bytes\", \"c\", \"c\", \"c\", \"c\", \"called\", \"called\", \"called\", \"called\", \"called\", \"called\", \"called\", \"called\", \"called\", \"called\", \"called\", \"case\", \"case\", \"case\", \"case\", \"case\", \"case\", \"case\", \"case\", \"case\", \"case\", \"case\", \"case\", \"case\", \"case\", \"catch\", \"catch\", \"catch\", \"catch\", \"causing\", \"causing\", \"causing\", \"causing\", \"causing\", \"cell\", \"center\", \"center\", \"center\", \"change\", \"change\", \"change\", \"change\", \"change\", \"change\", \"change\", \"change\", \"change\", \"change\", \"change\", \"change\", \"change\", \"change\", \"changed\", \"changed\", \"changed\", \"changed\", \"changed\", \"changed\", \"changed\", \"changed\", \"changed\", \"changed\", \"changed\", \"changed\", \"changed\", \"changed\", \"character\", \"character\", \"characters\", \"characters\", \"checked\", \"checked\", \"checked\", \"checked\", \"checked\", \"checked\", \"checked\", \"checked\", \"checked\", \"checked\", \"checked\", \"child\", \"child\", \"chrome\", \"chrome\", \"class\", \"class\", \"class\", \"classes\", \"classes\", \"classes\", \"classes\", \"click\", \"click\", \"click\", \"clicked\", \"clicked\", \"clicked\", \"clicking\", \"clicking\", \"clicking\", \"clicks\", \"clicks\", \"client\", \"client\", \"code\", \"code\", \"code\", \"code\", \"code\", \"code\", \"code\", \"code\", \"code\", \"code\", \"code\", \"code\", \"code\", \"code\", \"color\", \"column\", \"columns\", \"command\", \"command\", \"command\", \"commands\", \"compare\", \"compare\", \"compare\", \"compare\", \"compile\", \"compile\", \"compile\", \"compile\", \"compiler\", \"compiler\", \"compiles\", \"compiles\", \"compiles\", \"compiles\", \"complex\", \"complex\", \"complex\", \"complex\", \"complex\", \"complex\", \"component\", \"component\", \"components\", \"components\", \"components\", \"components\", \"components\", \"components\", \"components\", \"computer\", \"computer\", \"computer\", \"computer\", \"computer\", \"computer\", \"config\", \"config\", \"config\", \"configuration\", \"configuration\", \"configuration\", \"configuration\", \"configure\", \"configure\", \"configure\", \"configure\", \"configure\", \"configure\", \"connect\", \"connect\", \"connect\", \"connected\", \"connected\", \"connected\", \"connected\", \"connected\", \"connected\", \"connection\", \"console\", \"console\", \"console\", \"console\", \"constructor\", \"container\", \"container\", \"container\", \"content\", \"content\", \"content\", \"content\", \"content\", \"content\", \"content\", \"content\", \"control\", \"control\", \"control\", \"control\", \"control\", \"control\", \"control\", \"control\", \"control\", \"control\", \"controller\", \"controller\", \"convert\", \"convert\", \"convert\", \"convert\", \"convert\", \"convert\", \"convert\", \"convert\", \"correctly\", \"correctly\", \"correctly\", \"correctly\", \"correctly\", \"correctly\", \"correctly\", \"correctly\", \"correctly\", \"correctly\", \"correctly\", \"correctly\", \"correctly\", \"correctly\", \"count\", \"count\", \"count\", \"count\", \"crash\", \"crash\", \"crashes\", \"crashes\", \"crashes\", \"create\", \"create\", \"create\", \"create\", \"create\", \"create\", \"create\", \"create\", \"create\", \"create\", \"create\", \"create\", \"create\", \"created\", \"created\", \"created\", \"created\", \"created\", \"created\", \"created\", \"created\", \"created\", \"created\", \"created\", \"created\", \"created\", \"created\", \"css\", \"css\", \"css\", \"css\", \"custom\", \"custom\", \"custom\", \"custom\", \"custom\", \"custom\", \"custom\", \"custom\", \"custom\", \"custom\", \"custom\", \"data\", \"data\", \"data\", \"data\", \"data\", \"data\", \"data\", \"database\", \"date\", \"days\", \"days\", \"days\", \"days\", \"days\", \"db\", \"debug\", \"debug\", \"debug\", \"debug\", \"debugging\", \"debugging\", \"debugging\", \"debugging\", \"debugging\", \"declared\", \"default\", \"default\", \"default\", \"default\", \"default\", \"default\", \"default\", \"default\", \"default\", \"default\", \"define\", \"define\", \"define\", \"define\", \"define\", \"defined\", \"defined\", \"defined\", \"defined\", \"defined\", \"defined\", \"defined\", \"defined\", \"definition\", \"definition\", \"definition\", \"delegate\", \"delegate\", \"delegate\", \"dependencies\", \"dependencies\", \"dependencies\", \"dependency\", \"dependency\", \"dependency\", \"dependency\", \"desktop\", \"desktop\", \"desktop\", \"desktop\", \"dev\", \"dev\", \"dev\", \"dev\", \"dev\", \"developer\", \"developer\", \"developer\", \"developer\", \"developer\", \"developer\", \"developer\", \"developing\", \"developing\", \"developing\", \"developing\", \"developing\", \"developing\", \"developing\", \"developing\", \"device\", \"devices\", \"dialog\", \"different\", \"different\", \"different\", \"different\", \"different\", \"different\", \"different\", \"different\", \"different\", \"different\", \"different\", \"different\", \"different\", \"direction\", \"direction\", \"direction\", \"direction\", \"direction\", \"direction\", \"direction\", \"directory\", \"directory\", \"display\", \"display\", \"display\", \"display\", \"display\", \"display\", \"div\", \"document\", \"document\", \"document\", \"document\", \"document\", \"document\", \"document\", \"document\", \"dom\", \"dom\", \"domain\", \"domain\", \"double\", \"double\", \"double\", \"double\", \"double\", \"double\", \"double\", \"double\", \"double\", \"download\", \"download\", \"download\", \"download\", \"downloaded\", \"downloaded\", \"downloaded\", \"downloaded\", \"downloaded\", \"draw\", \"easier\", \"easier\", \"easier\", \"easier\", \"easier\", \"easier\", \"easier\", \"easier\", \"easy\", \"easy\", \"easy\", \"easy\", \"easy\", \"easy\", \"easy\", \"easy\", \"easy\", \"easy\", \"easy\", \"eclipse\", \"eclipse\", \"edit\", \"edit\", \"edit\", \"edit\", \"edit\", \"edit\", \"edit\", \"edit\", \"edit\", \"edit\", \"edit\", \"edit\", \"edit\", \"edit\", \"effect\", \"effect\", \"effect\", \"effect\", \"effect\", \"effect\", \"effect\", \"effect\", \"element\", \"element\", \"element\", \"elements\", \"elements\", \"elements\", \"email\", \"email\", \"email\", \"email\", \"enter\", \"enter\", \"enter\", \"enter\", \"enter\", \"enter\", \"enter\", \"entity\", \"environment\", \"environment\", \"error\", \"error\", \"errors\", \"errors\", \"errors\", \"errors\", \"errors\", \"especially\", \"especially\", \"especially\", \"especially\", \"especially\", \"especially\", \"etc\", \"etc\", \"etc\", \"etc\", \"etc\", \"etc\", \"etc\", \"etc\", \"etc\", \"etc\", \"etc\", \"etc\", \"event\", \"event\", \"events\", \"events\", \"events\", \"example\", \"example\", \"example\", \"example\", \"example\", \"example\", \"example\", \"example\", \"example\", \"example\", \"example\", \"example\", \"example\", \"example\", \"examples\", \"examples\", \"examples\", \"examples\", \"examples\", \"examples\", \"examples\", \"examples\", \"examples\", \"examples\", \"examples\", \"exception\", \"expected\", \"expected\", \"expected\", \"expected\", \"expected\", \"expected\", \"expected\", \"expected\", \"expected\", \"expected\", \"expected\", \"expected\", \"experience\", \"experience\", \"experience\", \"experience\", \"explicitly\", \"explicitly\", \"explicitly\", \"explicitly\", \"explicitly\", \"explicitly\", \"explicitly\", \"explicitly\", \"explicitly\", \"explicitly\", \"explicitly\", \"explicitly\", \"expression\", \"expression\", \"expression\", \"facebook\", \"facebook\", \"facebook\", \"facing\", \"facing\", \"facing\", \"facing\", \"facing\", \"facing\", \"facing\", \"facing\", \"failed\", \"failed\", \"failed\", \"failed\", \"failed\", \"failed\", \"fails\", \"fails\", \"fails\", \"fails\", \"fails\", \"fails\", \"fails\", \"fast\", \"fast\", \"faster\", \"faster\", \"features\", \"features\", \"features\", \"features\", \"features\", \"features\", \"feel\", \"feel\", \"feel\", \"feel\", \"feel\", \"feel\", \"feel\", \"feel\", \"feel\", \"feel\", \"feel\", \"feel\", \"fiddle\", \"fiddle\", \"fiddle\", \"field\", \"fields\", \"file\", \"files\", \"filter\", \"filter\", \"filter\", \"filter\", \"filter\", \"filter\", \"filter\", \"find\", \"find\", \"find\", \"find\", \"find\", \"find\", \"find\", \"find\", \"find\", \"find\", \"find\", \"find\", \"find\", \"find\", \"fine\", \"fine\", \"fine\", \"fine\", \"fine\", \"fine\", \"fine\", \"fine\", \"fine\", \"firefox\", \"firefox\", \"firefox\", \"fit\", \"fit\", \"fit\", \"fit\", \"fix\", \"fix\", \"fix\", \"fix\", \"fix\", \"fix\", \"fix\", \"fixed\", \"fixed\", \"fixed\", \"fixed\", \"fixed\", \"fixed\", \"fixed\", \"folder\", \"following\", \"following\", \"following\", \"following\", \"following\", \"following\", \"following\", \"following\", \"following\", \"following\", \"following\", \"following\", \"following\", \"following\", \"font\", \"form\", \"form\", \"form\", \"format\", \"format\", \"format\", \"format\", \"format\", \"format\", \"format\", \"format\", \"format\", \"forms\", \"forms\", \"forms\", \"forms\", \"found\", \"found\", \"found\", \"found\", \"found\", \"found\", \"found\", \"found\", \"found\", \"found\", \"found\", \"found\", \"found\", \"found\", \"frame\", \"frame\", \"framework\", \"framework\", \"framework\", \"framework\", \"framework\", \"framework\", \"framework\", \"function\", \"function\", \"function\", \"function\", \"function\", \"function\", \"function\", \"function\", \"functions\", \"functions\", \"functions\", \"functions\", \"functions\", \"game\", \"game\", \"game\", \"gcc\", \"gcc\", \"generic\", \"generic\", \"getting\", \"getting\", \"getting\", \"getting\", \"getting\", \"getting\", \"getting\", \"getting\", \"getting\", \"getting\", \"getting\", \"github\", \"github\", \"github\", \"github\", \"github\", \"github\", \"github\", \"gives\", \"gives\", \"gives\", \"gives\", \"gives\", \"gives\", \"gives\", \"gives\", \"gives\", \"gives\", \"gives\", \"gives\", \"giving\", \"giving\", \"giving\", \"giving\", \"giving\", \"giving\", \"giving\", \"giving\", \"giving\", \"giving\", \"global\", \"global\", \"global\", \"global\", \"global\", \"global\", \"good\", \"good\", \"good\", \"good\", \"good\", \"good\", \"good\", \"good\", \"good\", \"good\", \"good\", \"good\", \"good\", \"google\", \"google\", \"google\", \"google\", \"google\", \"google\", \"got\", \"got\", \"got\", \"got\", \"got\", \"got\", \"got\", \"got\", \"got\", \"got\", \"got\", \"got\", \"got\", \"got\", \"greatly\", \"greatly\", \"greatly\", \"greatly\", \"greatly\", \"greatly\", \"greatly\", \"group\", \"group\", \"group\", \"group\", \"group\", \"group\", \"group\", \"handler\", \"handler\", \"handler\", \"handler\", \"handler\", \"handler\", \"happening\", \"happening\", \"happening\", \"happening\", \"happening\", \"happening\", \"happening\", \"happens\", \"happens\", \"happens\", \"happens\", \"happens\", \"happens\", \"happens\", \"happens\", \"happens\", \"happens\", \"happens\", \"having\", \"having\", \"having\", \"having\", \"having\", \"having\", \"having\", \"having\", \"having\", \"having\", \"having\", \"having\", \"having\", \"having\", \"header\", \"header\", \"header\", \"header\", \"header\", \"header\", \"height\", \"height\", \"help\", \"help\", \"help\", \"help\", \"help\", \"help\", \"help\", \"help\", \"help\", \"help\", \"help\", \"help\", \"help\", \"help\", \"hidden\", \"hidden\", \"hidden\", \"hidden\", \"hidden\", \"hidden\", \"hide\", \"hide\", \"hide\", \"hours\", \"hours\", \"hours\", \"html\", \"html\", \"html\", \"http\", \"icon\", \"icon\", \"icon\", \"ie\", \"ie\", \"ie\", \"ie\", \"ie\", \"ie\", \"image\", \"images\", \"import\", \"import\", \"include\", \"include\", \"include\", \"include\", \"include\", \"include\", \"include\", \"include\", \"include\", \"include\", \"include\", \"included\", \"included\", \"included\", \"included\", \"included\", \"included\", \"included\", \"included\", \"included\", \"included\", \"included\", \"included\", \"index\", \"index\", \"index\", \"index\", \"input\", \"input\", \"inside\", \"inside\", \"inside\", \"inside\", \"inside\", \"inside\", \"inside\", \"inside\", \"inside\", \"inside\", \"inside\", \"inside\", \"inside\", \"inside\", \"install\", \"install\", \"installed\", \"installed\", \"installed\", \"instance\", \"instance\", \"instance\", \"instance\", \"instance\", \"instance\", \"instance\", \"instance\", \"int\", \"int\", \"integer\", \"integer\", \"interested\", \"interested\", \"interested\", \"interested\", \"interested\", \"interested\", \"interested\", \"interface\", \"interface\", \"interface\", \"interface\", \"interface\", \"interface\", \"invalid\", \"invalid\", \"invalid\", \"invalid\", \"invalid\", \"ios\", \"ipad\", \"iphone\", \"issue\", \"issue\", \"issue\", \"issue\", \"issue\", \"issue\", \"issue\", \"issue\", \"issue\", \"issue\", \"issue\", \"issue\", \"issues\", \"issues\", \"issues\", \"issues\", \"issues\", \"issues\", \"issues\", \"issues\", \"issues\", \"issues\", \"issues\", \"issues\", \"item\", \"item\", \"items\", \"items\", \"java\", \"java\", \"java\", \"java\", \"java\", \"java\", \"javascript\", \"job\", \"job\", \"job\", \"job\", \"jquery\", \"jquery\", \"jquery\", \"js\", \"js\", \"js\", \"jsfiddle\", \"jsfiddle\", \"jsfiddle\", \"json\", \"json\", \"key\", \"key\", \"key\", \"key\", \"key\", \"keyboard\", \"keyboard\", \"keys\", \"keys\", \"keys\", \"know\", \"know\", \"know\", \"know\", \"know\", \"know\", \"know\", \"know\", \"know\", \"know\", \"know\", \"know\", \"know\", \"know\", \"label\", \"label\", \"label\", \"languages\", \"languages\", \"languages\", \"languages\", \"laravel\", \"laravel\", \"laravel\", \"latest\", \"latest\", \"latest\", \"launch\", \"launch\", \"launch\", \"layer\", \"layer\", \"layer\", \"layout\", \"layout\", \"layout\", \"learn\", \"learn\", \"learn\", \"left\", \"left\", \"left\", \"left\", \"left\", \"left\", \"left\", \"left\", \"length\", \"length\", \"length\", \"length\", \"libraries\", \"libraries\", \"libraries\", \"libraries\", \"libraries\", \"libraries\", \"library\", \"library\", \"library\", \"library\", \"library\", \"library\", \"library\", \"library\", \"library\", \"like\", \"like\", \"like\", \"like\", \"like\", \"like\", \"like\", \"like\", \"like\", \"like\", \"like\", \"like\", \"like\", \"like\", \"line\", \"line\", \"line\", \"line\", \"line\", \"line\", \"line\", \"line\", \"link\", \"link\", \"link\", \"link\", \"link\", \"link\", \"link\", \"link\", \"link\", \"link\", \"link\", \"links\", \"links\", \"links\", \"links\", \"links\", \"links\", \"links\", \"links\", \"links\", \"linux\", \"list\", \"list\", \"list\", \"list\", \"list\", \"list\", \"list\", \"list\", \"list\", \"list\", \"load\", \"load\", \"load\", \"load\", \"load\", \"load\", \"load\", \"load\", \"load\", \"load\", \"loaded\", \"loaded\", \"loaded\", \"loaded\", \"loaded\", \"loaded\", \"loaded\", \"loaded\", \"loading\", \"loading\", \"loading\", \"loading\", \"loading\", \"loading\", \"loading\", \"loads\", \"loads\", \"loads\", \"loads\", \"loads\", \"loads\", \"loads\", \"location\", \"location\", \"location\", \"location\", \"location\", \"location\", \"location\", \"location\", \"log\", \"log\", \"log\", \"log\", \"log\", \"log\", \"logged\", \"logged\", \"logged\", \"logged\", \"login\", \"login\", \"login\", \"looking\", \"looking\", \"looking\", \"looking\", \"looking\", \"looking\", \"looking\", \"looking\", \"looking\", \"looking\", \"looking\", \"loop\", \"loop\", \"lot\", \"lot\", \"lot\", \"lot\", \"lot\", \"lot\", \"lot\", \"lot\", \"lot\", \"lot\", \"lot\", \"lot\", \"luck\", \"luck\", \"luck\", \"luck\", \"luck\", \"luck\", \"luck\", \"mac\", \"mac\", \"mac\", \"machine\", \"map\", \"map\", \"member\", \"memory\", \"memory\", \"menu\", \"menu\", \"menu\", \"message\", \"message\", \"message\", \"message\", \"messages\", \"messages\", \"messages\", \"messages\", \"messages\", \"method\", \"method\", \"method\", \"method\", \"method\", \"method\", \"method\", \"method\", \"method\", \"methods\", \"methods\", \"methods\", \"methods\", \"microsoft\", \"microsoft\", \"microsoft\", \"mobile\", \"mobile\", \"mobile\", \"model\", \"model\", \"model\", \"model\", \"module\", \"module\", \"module\", \"modules\", \"modules\", \"modules\", \"mouse\", \"mouse\", \"mouse\", \"mvc\", \"mvc\", \"mvc\", \"mvc\", \"mvc\", \"mysql\", \"native\", \"native\", \"native\", \"native\", \"native\", \"navigation\", \"need\", \"need\", \"need\", \"need\", \"need\", \"need\", \"need\", \"need\", \"need\", \"need\", \"need\", \"need\", \"new\", \"new\", \"new\", \"new\", \"new\", \"new\", \"new\", \"new\", \"new\", \"new\", \"new\", \"new\", \"new\", \"new\", \"nice\", \"nice\", \"nice\", \"nice\", \"nice\", \"nice\", \"nice\", \"nice\", \"node\", \"node\", \"node\", \"notification\", \"npm\", \"number\", \"number\", \"number\", \"number\", \"number\", \"number\", \"number\", \"number\", \"numbers\", \"numbers\", \"numbers\", \"object\", \"object\", \"object\", \"object\", \"object\", \"objective\", \"objective\", \"objects\", \"objects\", \"objects\", \"occurs\", \"occurs\", \"occurs\", \"occurs\", \"occurs\", \"occurs\", \"occurs\", \"occurs\", \"occurs\", \"operations\", \"operations\", \"operations\", \"operations\", \"os\", \"os\", \"output\", \"output\", \"output\", \"output\", \"output\", \"output\", \"output\", \"output\", \"output\", \"package\", \"package\", \"packages\", \"packages\", \"page\", \"page\", \"pages\", \"parameter\", \"parameter\", \"parameter\", \"parameters\", \"parameters\", \"parameters\", \"parameters\", \"parameters\", \"parent\", \"parent\", \"parse\", \"parse\", \"parse\", \"parse\", \"parse\", \"parse\", \"parse\", \"password\", \"password\", \"path\", \"path\", \"path\", \"pattern\", \"pattern\", \"pattern\", \"pdf\", \"people\", \"people\", \"people\", \"people\", \"people\", \"people\", \"people\", \"people\", \"perfectly\", \"perfectly\", \"perfectly\", \"perfectly\", \"perfectly\", \"perfectly\", \"perfectly\", \"performance\", \"phone\", \"php\", \"php\", \"php\", \"php\", \"php\", \"picture\", \"picture\", \"platform\", \"platform\", \"platform\", \"play\", \"play\", \"play\", \"play\", \"plugin\", \"plugin\", \"plugin\", \"plugin\", \"plugin\", \"plugin\", \"point\", \"point\", \"point\", \"point\", \"point\", \"point\", \"point\", \"point\", \"point\", \"point\", \"point\", \"point\", \"point\", \"pointer\", \"pointer\", \"pointers\", \"pointers\", \"pointers\", \"pointers\", \"points\", \"points\", \"points\", \"points\", \"port\", \"port\", \"port\", \"position\", \"position\", \"position\", \"possible\", \"possible\", \"possible\", \"possible\", \"possible\", \"possible\", \"possible\", \"possible\", \"possible\", \"possible\", \"possible\", \"possible\", \"post\", \"post\", \"post\", \"post\", \"post\", \"post\", \"post\", \"post\", \"post\", \"post\", \"practice\", \"practice\", \"practice\", \"practice\", \"press\", \"problem\", \"problem\", \"problem\", \"problem\", \"problem\", \"problem\", \"problem\", \"problem\", \"problem\", \"problem\", \"problem\", \"problem\", \"problem\", \"problem\", \"process\", \"process\", \"process\", \"process\", \"process\", \"process\", \"production\", \"production\", \"production\", \"production\", \"production\", \"program\", \"program\", \"program\", \"program\", \"program\", \"programming\", \"programming\", \"programming\", \"programming\", \"project\", \"project\", \"project\", \"project\", \"project\", \"project\", \"projects\", \"projects\", \"projects\", \"properties\", \"properties\", \"properties\", \"properties\", \"properties\", \"properties\", \"properties\", \"properties\", \"properties\", \"property\", \"property\", \"property\", \"property\", \"property\", \"property\", \"property\", \"property\", \"property\", \"property\", \"push\", \"push\", \"push\", \"push\", \"push\", \"push\", \"push\", \"python\", \"python\", \"python\", \"python\", \"python\", \"queries\", \"queries\", \"queries\", \"queries\", \"query\", \"question\", \"question\", \"question\", \"question\", \"question\", \"question\", \"question\", \"question\", \"question\", \"question\", \"question\", \"question\", \"question\", \"question\", \"questions\", \"questions\", \"questions\", \"questions\", \"questions\", \"questions\", \"questions\", \"questions\", \"questions\", \"questions\", \"questions\", \"questions\", \"questions\", \"random\", \"random\", \"random\", \"random\", \"random\", \"range\", \"range\", \"range\", \"range\", \"react\", \"read\", \"read\", \"read\", \"read\", \"read\", \"read\", \"read\", \"read\", \"read\", \"read\", \"read\", \"red\", \"red\", \"red\", \"reference\", \"reference\", \"reference\", \"reference\", \"reference\", \"reference\", \"reference\", \"reference\", \"reference\", \"reference\", \"reference\", \"release\", \"release\", \"release\", \"release\", \"removing\", \"removing\", \"removing\", \"removing\", \"removing\", \"removing\", \"removing\", \"removing\", \"removing\", \"render\", \"render\", \"render\", \"render\", \"rendered\", \"rendered\", \"rendered\", \"rendered\", \"rendering\", \"rendering\", \"rendering\", \"rendering\", \"request\", \"requests\", \"requests\", \"resolve\", \"resolve\", \"resolve\", \"resolve\", \"resolve\", \"resolve\", \"resource\", \"resource\", \"resource\", \"resource\", \"resource\", \"resource\", \"resources\", \"resources\", \"resources\", \"resources\", \"resources\", \"response\", \"response\", \"response\", \"result\", \"result\", \"result\", \"result\", \"result\", \"result\", \"result\", \"result\", \"result\", \"result\", \"result\", \"result\", \"result\", \"return\", \"return\", \"return\", \"return\", \"return\", \"return\", \"return\", \"return\", \"returned\", \"returned\", \"returned\", \"returned\", \"returned\", \"returns\", \"returns\", \"returns\", \"returns\", \"returns\", \"returns\", \"returns\", \"right\", \"right\", \"right\", \"right\", \"right\", \"right\", \"right\", \"right\", \"right\", \"right\", \"right\", \"right\", \"right\", \"right\", \"root\", \"root\", \"root\", \"root\", \"root\", \"root\", \"root\", \"route\", \"route\", \"route\", \"route\", \"route\", \"route\", \"row\", \"rows\", \"rules\", \"rules\", \"rules\", \"rules\", \"rules\", \"run\", \"run\", \"run\", \"run\", \"run\", \"run\", \"run\", \"run\", \"run\", \"running\", \"running\", \"running\", \"running\", \"running\", \"running\", \"runs\", \"runs\", \"runs\", \"runs\", \"runs\", \"runs\", \"runs\", \"runs\", \"safari\", \"safari\", \"saying\", \"saying\", \"saying\", \"saying\", \"saying\", \"saying\", \"saying\", \"saying\", \"saying\", \"screen\", \"screen\", \"screen\", \"screen\", \"screenshot\", \"screenshot\", \"screenshot\", \"screenshot\", \"screenshot\", \"script\", \"script\", \"script\", \"script\", \"scroll\", \"scrolling\", \"sdk\", \"sdk\", \"sdk\", \"search\", \"search\", \"search\", \"search\", \"search\", \"search\", \"search\", \"security\", \"security\", \"security\", \"security\", \"security\", \"select\", \"select\", \"select\", \"select\", \"select\", \"select\", \"selected\", \"selected\", \"selected\", \"selected\", \"selected\", \"send\", \"send\", \"sending\", \"sending\", \"sending\", \"sent\", \"sent\", \"sent\", \"server\", \"server\", \"server\", \"service\", \"service\", \"session\", \"set\", \"set\", \"set\", \"set\", \"set\", \"set\", \"set\", \"set\", \"set\", \"set\", \"set\", \"set\", \"set\", \"settings\", \"settings\", \"settings\", \"settings\", \"settings\", \"settings\", \"simple\", \"simple\", \"simple\", \"simple\", \"simple\", \"simple\", \"simple\", \"simple\", \"simple\", \"simple\", \"simple\", \"simple\", \"simple\", \"simple\", \"simulator\", \"site\", \"site\", \"site\", \"size\", \"size\", \"size\", \"slow\", \"slow\", \"slow\", \"slow\", \"slow\", \"smaller\", \"smaller\", \"smaller\", \"smaller\", \"solution\", \"solution\", \"solution\", \"solution\", \"solution\", \"solution\", \"solution\", \"solution\", \"solution\", \"solution\", \"solution\", \"solution\", \"solution\", \"solve\", \"solve\", \"solve\", \"solve\", \"solve\", \"solve\", \"solve\", \"solve\", \"solve\", \"solve\", \"solve\", \"solve\", \"solved\", \"solved\", \"solved\", \"source\", \"source\", \"source\", \"source\", \"source\", \"source\", \"source\", \"source\", \"source\", \"source\", \"source\", \"source\", \"source\", \"source\", \"space\", \"space\", \"space\", \"space\", \"space\", \"speed\", \"spring\", \"spring\", \"sql\", \"stackoverflow\", \"stackoverflow\", \"stackoverflow\", \"stackoverflow\", \"stackoverflow\", \"stackoverflow\", \"standard\", \"standard\", \"standard\", \"standard\", \"standard\", \"standard\", \"standard\", \"standard\", \"standard\", \"standard\", \"standard\", \"standard\", \"state\", \"state\", \"state\", \"state\", \"state\", \"state\", \"state\", \"state\", \"state\", \"statement\", \"statement\", \"statement\", \"statement\", \"statement\", \"static\", \"static\", \"static\", \"static\", \"static\", \"status\", \"status\", \"status\", \"status\", \"store\", \"store\", \"store\", \"strange\", \"strange\", \"strange\", \"strange\", \"strange\", \"strange\", \"strange\", \"strange\", \"stream\", \"stream\", \"stream\", \"stream\", \"string\", \"string\", \"string\", \"strings\", \"strings\", \"studio\", \"studio\", \"style\", \"style\", \"style\", \"submit\", \"submit\", \"submit\", \"submit\", \"suggested\", \"suggested\", \"suggested\", \"suggested\", \"suggested\", \"suggested\", \"suggested\", \"suggested\", \"suggested\", \"sure\", \"sure\", \"sure\", \"sure\", \"sure\", \"sure\", \"sure\", \"sure\", \"sure\", \"sure\", \"sure\", \"sure\", \"sure\", \"sure\", \"swift\", \"swift\", \"system\", \"system\", \"system\", \"system\", \"system\", \"system\", \"system\", \"system\", \"system\", \"tab\", \"tab\", \"table\", \"table\", \"tables\", \"tables\", \"tag\", \"tag\", \"tag\", \"tag\", \"tags\", \"tags\", \"template\", \"template\", \"template\", \"template\", \"template\", \"template\", \"test\", \"test\", \"test\", \"test\", \"test\", \"test\", \"test\", \"tested\", \"tested\", \"tested\", \"tested\", \"tested\", \"tested\", \"tests\", \"tests\", \"text\", \"thanks\", \"thanks\", \"thanks\", \"thanks\", \"thanks\", \"thanks\", \"thanks\", \"thanks\", \"thanks\", \"thanks\", \"thanks\", \"thanks\", \"thanks\", \"thanks\", \"things\", \"things\", \"things\", \"things\", \"things\", \"things\", \"things\", \"things\", \"things\", \"things\", \"things\", \"things\", \"things\", \"things\", \"think\", \"think\", \"think\", \"think\", \"think\", \"think\", \"think\", \"think\", \"think\", \"think\", \"think\", \"think\", \"think\", \"think\", \"thread\", \"thread\", \"threads\", \"threads\", \"throw\", \"throw\", \"throw\", \"throws\", \"time\", \"time\", \"time\", \"time\", \"time\", \"time\", \"time\", \"time\", \"time\", \"time\", \"time\", \"time\", \"time\", \"time\", \"today\", \"today\", \"today\", \"today\", \"today\", \"token\", \"touch\", \"touch\", \"touch\", \"tried\", \"tried\", \"tried\", \"tried\", \"tried\", \"tried\", \"tried\", \"tried\", \"tried\", \"tried\", \"tried\", \"tried\", \"tried\", \"trigger\", \"trigger\", \"trigger\", \"trigger\", \"trigger\", \"trigger\", \"trigger\", \"try\", \"try\", \"try\", \"try\", \"try\", \"try\", \"try\", \"try\", \"try\", \"try\", \"try\", \"try\", \"try\", \"try\", \"trying\", \"trying\", \"trying\", \"trying\", \"trying\", \"trying\", \"trying\", \"trying\", \"trying\", \"trying\", \"trying\", \"trying\", \"trying\", \"trying\", \"type\", \"type\", \"type\", \"type\", \"type\", \"type\", \"types\", \"types\", \"types\", \"ubuntu\", \"ui\", \"ui\", \"ui\", \"ui\", \"ui\", \"ui\", \"undefined\", \"undefined\", \"undefined\", \"undefined\", \"understand\", \"understand\", \"understand\", \"understand\", \"understand\", \"understand\", \"understand\", \"understand\", \"understand\", \"understand\", \"understand\", \"understand\", \"understand\", \"understand\", \"unit\", \"unit\", \"unit\", \"update\", \"update\", \"update\", \"update\", \"update\", \"update\", \"update\", \"update\", \"update\", \"update\", \"update\", \"update\", \"update\", \"update\", \"upload\", \"upload\", \"upload\", \"url\", \"url\", \"url\", \"use\", \"use\", \"use\", \"use\", \"use\", \"use\", \"use\", \"use\", \"use\", \"use\", \"use\", \"use\", \"use\", \"use\", \"user\", \"user\", \"user\", \"user\", \"user\", \"user\", \"user\", \"user\", \"user\", \"user\", \"users\", \"users\", \"users\", \"users\", \"users\", \"users\", \"users\", \"users\", \"users\", \"validation\", \"value\", \"value\", \"value\", \"value\", \"values\", \"values\", \"variable\", \"variable\", \"variable\", \"variable\", \"variable\", \"variable\", \"variable\", \"variables\", \"variables\", \"variables\", \"variables\", \"variables\", \"version\", \"version\", \"version\", \"version\", \"version\", \"version\", \"video\", \"video\", \"view\", \"view\", \"views\", \"views\", \"visual\", \"visual\", \"want\", \"want\", \"want\", \"want\", \"want\", \"want\", \"want\", \"want\", \"want\", \"want\", \"want\", \"want\", \"want\", \"warning\", \"way\", \"way\", \"way\", \"way\", \"way\", \"way\", \"way\", \"way\", \"way\", \"way\", \"way\", \"way\", \"way\", \"web\", \"web\", \"web\", \"web\", \"web\", \"website\", \"website\", \"website\", \"weird\", \"weird\", \"weird\", \"weird\", \"weird\", \"weird\", \"weird\", \"white\", \"width\", \"width\", \"window\", \"window\", \"window\", \"window\", \"window\", \"windows\", \"word\", \"words\", \"words\", \"words\", \"words\", \"words\", \"words\", \"work\", \"work\", \"work\", \"work\", \"work\", \"work\", \"work\", \"work\", \"work\", \"work\", \"work\", \"work\", \"work\", \"work\", \"workaround\", \"workaround\", \"workaround\", \"workaround\", \"workaround\", \"workaround\", \"workaround\", \"workaround\", \"workaround\", \"workaround\", \"workaround\", \"worked\", \"worked\", \"worked\", \"worked\", \"worked\", \"worked\", \"worked\", \"working\", \"working\", \"working\", \"working\", \"working\", \"working\", \"working\", \"working\", \"working\", \"working\", \"working\", \"working\", \"working\", \"working\", \"works\", \"works\", \"works\", \"works\", \"works\", \"works\", \"works\", \"works\", \"works\", \"works\", \"works\", \"works\", \"works\", \"works\", \"wrong\", \"wrong\", \"wrong\", \"wrong\", \"wrong\", \"wrong\", \"wrong\", \"wrong\", \"wrong\", \"wrong\", \"wrong\", \"wrong\", \"x\", \"x\", \"x\", \"x\", \"x\", \"x\", \"xcode\", \"xcode\", \"xml\", \"xml\", \"xml\"]}, \"R\": 30, \"lambda.step\": 0.01, \"plot.opts\": {\"xlab\": \"PC1\", \"ylab\": \"PC2\"}, \"topic.order\": [10, 4, 12, 5, 1, 14, 7, 8, 6, 13, 3, 2, 9, 11]};\n",
       "\n",
       "function LDAvis_load_lib(url, callback){\n",
       "  var s = document.createElement('script');\n",
       "  s.src = url;\n",
       "  s.async = true;\n",
       "  s.onreadystatechange = s.onload = callback;\n",
       "  s.onerror = function(){console.warn(\"failed to load library \" + url);};\n",
       "  document.getElementsByTagName(\"head\")[0].appendChild(s);\n",
       "}\n",
       "\n",
       "if(typeof(LDAvis) !== \"undefined\"){\n",
       "   // already loaded: just create the visualization\n",
       "   !function(LDAvis){\n",
       "       new LDAvis(\"#\" + \"ldavis_el72071397421945135367956355116\", ldavis_el72071397421945135367956355116_data);\n",
       "   }(LDAvis);\n",
       "}else if(typeof define === \"function\" && define.amd){\n",
       "   // require.js is available: use it to load d3/LDAvis\n",
       "   require.config({paths: {d3: \"https://d3js.org/d3.v5\"}});\n",
       "   require([\"d3\"], function(d3){\n",
       "      window.d3 = d3;\n",
       "      LDAvis_load_lib(\"https://cdn.jsdelivr.net/gh/bmabey/pyLDAvis@3.4.0/pyLDAvis/js/ldavis.v3.0.0.js\", function(){\n",
       "        new LDAvis(\"#\" + \"ldavis_el72071397421945135367956355116\", ldavis_el72071397421945135367956355116_data);\n",
       "      });\n",
       "    });\n",
       "}else{\n",
       "    // require.js not available: dynamically load d3 & LDAvis\n",
       "    LDAvis_load_lib(\"https://d3js.org/d3.v5.js\", function(){\n",
       "         LDAvis_load_lib(\"https://cdn.jsdelivr.net/gh/bmabey/pyLDAvis@3.4.0/pyLDAvis/js/ldavis.v3.0.0.js\", function(){\n",
       "                 new LDAvis(\"#\" + \"ldavis_el72071397421945135367956355116\", ldavis_el72071397421945135367956355116_data);\n",
       "            })\n",
       "         });\n",
       "}\n",
       "</script>"
      ],
      "text/plain": [
       "<IPython.core.display.HTML object>"
      ]
     },
     "execution_count": 25,
     "metadata": {},
     "output_type": "execute_result"
    }
   ],
   "source": [
    "lda_display = pyLDAvis.gensim_models.prepare(lda_model, text_corpus, text_dictionary)\n",
    "pyLDAvis.display(lda_display)\n"
   ]
  },
  {
   "cell_type": "code",
   "execution_count": 26,
   "metadata": {},
   "outputs": [
    {
     "name": "stderr",
     "output_type": "stream",
     "text": [
      "5173.56s - pydevd: Sending message related to process being replaced timed-out after 5 seconds\n",
      "5173.79s - pydevd: Sending message related to process being replaced timed-out after 5 seconds\n"
     ]
    }
   ],
   "source": [
    "train_df['text_topic'] = [sorted(lda_model[text_corpus][text])[0][0]\n",
    "                      for text in range(len(train_df.text))]\n"
   ]
  },
  {
   "cell_type": "code",
   "execution_count": 27,
   "metadata": {},
   "outputs": [
    {
     "data": {
      "text/plain": [
       "<AxesSubplot:>"
      ]
     },
     "execution_count": 27,
     "metadata": {},
     "output_type": "execute_result"
    },
    {
     "data": {
      "image/png": "[encoded data removed]",
      "text/plain": [
       "<Figure size 432x288 with 1 Axes>"
      ]
     },
     "metadata": {
      "needs_background": "light"
     },
     "output_type": "display_data"
    }
   ],
   "source": [
    "train_df.text_topic.value_counts().plot.bar()\n"
   ]
  },
  {
   "cell_type": "code",
   "execution_count": 33,
   "metadata": {},
   "outputs": [
    {
     "data": {
      "text/plain": [
       "<AxesSubplot:>"
      ]
     },
     "execution_count": 33,
     "metadata": {},
     "output_type": "execute_result"
    },
    {
     "data": {
      "image/png": "[encoded data removed]",
      "text/plain": [
       "<Figure size 2520x576 with 1 Axes>"
      ]
     },
     "metadata": {
      "needs_background": "light"
     },
     "output_type": "display_data"
    }
   ],
   "source": [
    "train_df.groupby(\n",
    "    \"text_topic\")[list(selected_tags)].mean().transpose().plot.bar(figsize=(35, 8), cmap='tab20')\n"
   ]
  },
  {
   "cell_type": "code",
   "execution_count": 39,
   "metadata": {},
   "outputs": [
    {
     "data": {
      "text/plain": [
       "{0: ['javascript'],\n",
       " 1: ['jquery', 'javascript', 'css', 'html'],\n",
       " 2: ['android', 'ios', 'objective-c', 'iphone'],\n",
       " 3: ['javascript'],\n",
       " 4: ['node.js', 'javascript', 'c#', 'php'],\n",
       " 5: ['jquery', 'javascript', 'css', 'html'],\n",
       " 6: ['c', 'c#', 'c++', '.net', 'python'],\n",
       " 7: ['c#', 'c++'],\n",
       " 8: ['c#'],\n",
       " 9: ['c#', 'c++', '.net'],\n",
       " 10: ['android', 'ios', 'objective-c', 'iphone'],\n",
       " 11: ['c', 'c#', 'c++', '.net'],\n",
       " 12: ['android', 'ios', 'objective-c', 'iphone'],\n",
       " 13: ['java']}"
      ]
     },
     "execution_count": 39,
     "metadata": {},
     "output_type": "execute_result"
    }
   ],
   "source": [
    "tag_means = train_df.groupby(\n",
    "    \"text_topic\")[list(selected_tags)].mean().transpose()\n",
    "text_topic_tags = {}\n",
    "for i in range(14):\n",
    "    text_topic_tags[i] = tag_means.loc[tag_means[i]>0.15].index.to_list()\n",
    "text_topic_tags\n"
   ]
  },
  {
   "attachments": {},
   "cell_type": "markdown",
   "metadata": {},
   "source": [
    "### Code"
   ]
  },
  {
   "cell_type": "code",
   "execution_count": 53,
   "metadata": {},
   "outputs": [
    {
     "name": "stdout",
     "output_type": "stream",
     "text": [
      "preprocessing\n"
     ]
    },
    {
     "name": "stderr",
     "output_type": "stream",
     "text": [
      "100%|██████████| 105715/105715 [13:11<00:00, 133.52it/s]\n",
      "100%|██████████| 105715/105715 [00:03<00:00, 31767.36it/s]\n",
      "100%|██████████| 18/18 [17:46<00:00, 59.26s/it]\n"
     ]
    },
    {
     "data": {
      "image/png": "[encoded data removed]",
      "text/plain": [
       "<Figure size 1080x1080 with 2 Axes>"
      ]
     },
     "metadata": {
      "needs_background": "light"
     },
     "output_type": "display_data"
    }
   ],
   "source": [
    "train_df[\"code_tokens\"] = preprocess(train_df.code, nlp, return_tokens=True)\n",
    "code_dictionary = Dictionary(train_df['code_tokens'])\n",
    "code_dictionary.filter_extremes(no_below=5, no_above=0.5, keep_n=1000)\n",
    "code_corpus = [code_dictionary.doc2bow(doc)\n",
    "               for doc in tqdm(train_df['code_tokens'])]\n",
    "\n",
    "topics = range(3, 21)\n",
    "c_umass_score = []\n",
    "c_v_score = []\n",
    "for i in tqdm(topics):\n",
    "   code_lda_model = LdaMulticore(corpus=code_corpus, id2word=code_dictionary, iterations=10,\n",
    "                            num_topics=i,  passes=10, random_state=100)\n",
    "   c_umass = CoherenceModel(model=code_lda_model, corpus=code_corpus,\n",
    "                            dictionary=code_dictionary, coherence='u_mass')\n",
    "   c_v = CoherenceModel(model=code_lda_model, corpus=code_corpus, texts=train_df['code_tokens'],\n",
    "                        dictionary=code_dictionary, coherence='c_v')\n",
    "   c_umass_score.append(c_umass.get_coherence())\n",
    "   c_v_score.append(c_v.get_coherence())\n",
    "\n",
    "\n",
    "f, axes = plt.subplots(2, 1, figsize=(15, 15))\n",
    "axes[0].plot(topics, c_v_score)\n",
    "axes[0].set_xlabel('Number of Topics')\n",
    "axes[0].set_ylabel('C_v coherence Score')\n",
    "axes[1].plot(topics, c_umass_score)\n",
    "axes[1].set_xlabel('Number of Topics')\n",
    "axes[1].set_ylabel('C_umass coherence Score')\n",
    "plt.show()\n"
   ]
  },
  {
   "cell_type": "code",
   "execution_count": 54,
   "metadata": {},
   "outputs": [],
   "source": [
    "code_lda_model = LdaMulticore(corpus=code_corpus, id2word=code_dictionary,\n",
    "                         iterations=100, num_topics=9,  passes=100)"
   ]
  },
  {
   "cell_type": "code",
   "execution_count": 55,
   "metadata": {},
   "outputs": [],
   "source": [
    "train_df['code_topic'] = [sorted(code_lda_model[code_corpus][code])[0][0]\n",
    "                      for code in range(len(train_df.code))]\n"
   ]
  },
  {
   "cell_type": "code",
   "execution_count": 56,
   "metadata": {},
   "outputs": [
    {
     "data": {
      "text/plain": [
       "<AxesSubplot:>"
      ]
     },
     "execution_count": 56,
     "metadata": {},
     "output_type": "execute_result"
    },
    {
     "data": {
      "image/png": "[encoded data removed]",
      "text/plain": [
       "<Figure size 432x288 with 1 Axes>"
      ]
     },
     "metadata": {
      "needs_background": "light"
     },
     "output_type": "display_data"
    }
   ],
   "source": [
    "train_df.code_topic.value_counts().plot.bar()\n"
   ]
  },
  {
   "cell_type": "code",
   "execution_count": 57,
   "metadata": {},
   "outputs": [
    {
     "data": {
      "text/plain": [
       "<AxesSubplot:>"
      ]
     },
     "execution_count": 57,
     "metadata": {},
     "output_type": "execute_result"
    },
    {
     "data": {
      "image/png": "[encoded data removed]",
      "text/plain": [
       "<Figure size 2520x576 with 1 Axes>"
      ]
     },
     "metadata": {
      "needs_background": "light"
     },
     "output_type": "display_data"
    }
   ],
   "source": [
    "train_df.groupby(\n",
    "    \"code_topic\")[list(selected_tags)].mean().transpose().plot.bar(figsize=(35, 8), cmap='tab20')\n"
   ]
  },
  {
   "cell_type": "code",
   "execution_count": 59,
   "metadata": {},
   "outputs": [
    {
     "data": {
      "text/plain": [
       "{0: ['javascript'],\n",
       " 1: ['android', 'java'],\n",
       " 2: ['jquery', 'javascript', 'css', 'html'],\n",
       " 3: ['c', 'c++', 'python'],\n",
       " 4: ['css', 'html'],\n",
       " 5: ['c#', 'c++', '.net', 'java'],\n",
       " 6: ['c', 'c++'],\n",
       " 7: ['ios', 'objective-c', 'iphone'],\n",
       " 8: ['ios', 'python']}"
      ]
     },
     "execution_count": 59,
     "metadata": {},
     "output_type": "execute_result"
    }
   ],
   "source": [
    "tag_means = train_df.groupby(\n",
    "    \"code_topic\")[list(selected_tags)].mean().transpose()\n",
    "code_topic_tags = {}\n",
    "for i in range(9):\n",
    "    code_topic_tags[i] = tag_means.loc[tag_means[i] > 0.15].index.to_list()\n",
    "code_topic_tags\n"
   ]
  },
  {
   "attachments": {},
   "cell_type": "markdown",
   "metadata": {},
   "source": [
    "### Evaluation"
   ]
  },
  {
   "cell_type": "code",
   "execution_count": 61,
   "metadata": {},
   "outputs": [
    {
     "name": "stdout",
     "output_type": "stream",
     "text": [
      "preprocessing\n"
     ]
    },
    {
     "name": "stderr",
     "output_type": "stream",
     "text": [
      "100%|██████████| 14152/14152 [01:25<00:00, 166.17it/s]\n"
     ]
    },
    {
     "name": "stdout",
     "output_type": "stream",
     "text": [
      "preprocessing\n"
     ]
    },
    {
     "name": "stderr",
     "output_type": "stream",
     "text": [
      "100%|██████████| 14152/14152 [01:43<00:00, 136.44it/s]\n"
     ]
    }
   ],
   "source": [
    "val_df = sample_validation.loc[:]\n",
    "val_df[\"text_tokens\"] = preprocess(val_df.text, nlp, return_tokens=True)\n",
    "val_df['code_tokens'] = preprocess(val_df.code, nlp, return_tokens=True)\n"
   ]
  },
  {
   "cell_type": "code",
   "execution_count": 62,
   "metadata": {},
   "outputs": [
    {
     "name": "stderr",
     "output_type": "stream",
     "text": [
      "100%|██████████| 14152/14152 [00:00<00:00, 22084.78it/s]\n",
      "100%|██████████| 14152/14152 [00:00<00:00, 38519.93it/s]\n"
     ]
    }
   ],
   "source": [
    "text_val_corpus = [text_dictionary.doc2bow(doc)\n",
    "                                for doc in tqdm(val_df[\"text_tokens\"])]\n",
    "val_df['text_topic'] = [sorted(lda_model[text_val_corpus][text])[0][0]\n",
    "                        for text in range(len(val_df.text))]\n",
    "code_val_corpus = [code_dictionary.doc2bow(doc)\n",
    "                   for doc in tqdm(val_df[\"code_tokens\"])]\n",
    "val_df['code_topic'] = [sorted(code_lda_model[code_val_corpus][code])[0][0]\n",
    "                        for code in range(len(val_df.code))]\n"
   ]
  },
  {
   "cell_type": "code",
   "execution_count": 63,
   "metadata": {},
   "outputs": [],
   "source": [
    "y_pred_text = val_df['text_topic'].apply(\n",
    "    lambda x: text_topic_tags[x])\n",
    "y_pred_code = val_df['code_topic'].apply(\n",
    "    lambda x: code_topic_tags[x])\n"
   ]
  },
  {
   "cell_type": "code",
   "execution_count": 64,
   "metadata": {},
   "outputs": [
    {
     "name": "stderr",
     "output_type": "stream",
     "text": [
      "/home/aurelien/.local/lib/python3.10/site-packages/sklearn/metrics/_classification.py:1318: UndefinedMetricWarning: Precision is ill-defined and being set to 0.0 in labels with no predicted samples. Use `zero_division` parameter to control this behavior.\n",
      "  _warn_prf(average, modifier, msg_start, len(result))\n"
     ]
    },
    {
     "name": "stdout",
     "output_type": "stream",
     "text": [
      "======= text ==========\n",
      "Roc auc for each tag:\n",
      "[('.net', 0.5320487579910052), ('android', 0.685507423277806), ('c', 0.5401222274973634), ('c#', 0.5456719697559057), ('c++', 0.5865815967338499), ('css', 0.7489242399681694), ('html', 0.6783100260087346), ('ios', 0.6622567445423352), ('iphone', 0.6521414471862699), ('java', 0.5017453410427498), ('javascript', 0.5787864304443942), ('jquery', 0.6335786921791717), ('node.js', 0.5678414551104376), ('objective-c', 0.6063024376364902), ('php', 0.548304911148666), ('python', 0.5295456761905566)]\n",
      "Roc auc macro average: 0.600\n",
      "Jaccard score sample average: 0.165\n",
      "Jaccard score macro average: 0.143\n",
      "Jaccard score micro average: 0.163\n",
      "f1 score sample average: 0.222\n",
      "f1 score macro average: 0.244\n",
      "f1 score micro average: 0.281\n",
      "precision score sample average: 0.203\n",
      "precision score macro average: 0.242\n",
      "precision score micro average: 0.225\n",
      "recall score sample average: 0.336\n",
      "recall score macro average: 0.338\n",
      "recall score micro average: 0.373\n",
      "======= code ==========\n",
      "Roc auc for each tag:\n",
      "[('.net', 0.5183563247161185), ('android', 0.597203887985918), ('c', 0.5654057648245381), ('c#', 0.5272070168548263), ('c++', 0.5847919958032707), ('css', 0.6275796200739252), ('html', 0.6040692560211628), ('ios', 0.522876212750171), ('iphone', 0.5213880007478611), ('java', 0.5528037271065608), ('javascript', 0.5573042996307502), ('jquery', 0.6070808998069229), ('node.js', 0.5), ('objective-c', 0.5274241635971663), ('php', 0.5), ('python', 0.5529746004955056)]\n",
      "Roc auc macro average: 0.554\n",
      "Jaccard score sample average: 0.142\n",
      "Jaccard score macro average: 0.099\n",
      "Jaccard score micro average: 0.132\n",
      "f1 score sample average: 0.181\n",
      "f1 score macro average: 0.174\n",
      "f1 score micro average: 0.233\n",
      "precision score sample average: 0.200\n",
      "precision score macro average: 0.282\n",
      "precision score micro average: 0.227\n",
      "recall score sample average: 0.220\n",
      "recall score macro average: 0.198\n",
      "recall score micro average: 0.238\n",
      "======= union ==========\n",
      "Roc auc for each tag:\n",
      "[('.net', 0.5465170322543841), ('android', 0.7451542153039656), ('c', 0.6014040379709824), ('c#', 0.5624266534484001), ('c++', 0.6393484729835552), ('css', 0.7600206491116902), ('html', 0.7014588122618522), ('ios', 0.6745029886826945), ('iphone', 0.6652679241581021), ('java', 0.5545490681493105), ('javascript', 0.5189616561644552), ('jquery', 0.6909747266345352), ('node.js', 0.5678414551104376), ('objective-c', 0.6238484555261081), ('php', 0.548304911148666), ('python', 0.5762711458629294)]\n",
      "Roc auc macro average: 0.624\n",
      "Jaccard score sample average: 0.175\n",
      "Jaccard score macro average: 0.162\n",
      "Jaccard score micro average: 0.172\n",
      "f1 score sample average: 0.245\n",
      "f1 score macro average: 0.275\n",
      "f1 score micro average: 0.294\n",
      "precision score sample average: 0.202\n",
      "precision score macro average: 0.217\n",
      "precision score micro average: 0.213\n",
      "recall score sample average: 0.440\n",
      "recall score macro average: 0.435\n",
      "recall score micro average: 0.471\n",
      "======= intersection ==========\n",
      "Roc auc for each tag:\n",
      "[('.net', 0.5038880504527395), ('android', 0.5375570959597581), ('c', 0.5041239543509191), ('c#', 0.510452333162332), ('c++', 0.5320251195535652), ('css', 0.6164832109304044), ('html', 0.5809204697680451), ('ios', 0.5106299686098115), ('iphone', 0.5082615237760287), ('java', 0.5), ('javascript', 0.6171290739106892), ('jquery', 0.5496848653515592), ('node.js', 0.5), ('objective-c', 0.5098781457075483), ('php', 0.5), ('python', 0.5062491308231329)]\n",
      "Roc auc macro average: 0.530\n",
      "Jaccard score sample average: 0.101\n",
      "Jaccard score macro average: 0.059\n",
      "Jaccard score micro average: 0.103\n",
      "f1 score sample average: 0.123\n",
      "f1 score macro average: 0.104\n",
      "f1 score micro average: 0.187\n",
      "precision score sample average: 0.161\n",
      "precision score macro average: 0.376\n",
      "precision score micro average: 0.283\n",
      "recall score sample average: 0.115\n",
      "recall score macro average: 0.101\n",
      "recall score micro average: 0.140\n"
     ]
    },
    {
     "name": "stderr",
     "output_type": "stream",
     "text": [
      "/home/aurelien/.local/lib/python3.10/site-packages/sklearn/metrics/_classification.py:1318: UndefinedMetricWarning: Precision is ill-defined and being set to 0.0 in samples with no predicted labels. Use `zero_division` parameter to control this behavior.\n",
      "  _warn_prf(average, modifier, msg_start, len(result))\n",
      "/home/aurelien/.local/lib/python3.10/site-packages/sklearn/metrics/_classification.py:1318: UndefinedMetricWarning: Precision is ill-defined and being set to 0.0 in labels with no predicted samples. Use `zero_division` parameter to control this behavior.\n",
      "  _warn_prf(average, modifier, msg_start, len(result))\n"
     ]
    }
   ],
   "source": [
    "evaluate_predictions(y, mlb.transform(y_pred_text),\n",
    "                     mlb.transform(y_pred_code), mlb, \"lda\")\n"
   ]
  },
  {
   "attachments": {},
   "cell_type": "markdown",
   "metadata": {},
   "source": [
    "## Supervised methods"
   ]
  },
  {
   "attachments": {},
   "cell_type": "markdown",
   "metadata": {},
   "source": [
    "### BOW with Spacy"
   ]
  },
  {
   "cell_type": "code",
   "execution_count": null,
   "metadata": {},
   "outputs": [],
   "source": [
    "nlp = spacy.load('en_core_web_lg')"
   ]
  },
  {
   "cell_type": "markdown",
   "metadata": {},
   "source": [
    "#### Text"
   ]
  },
  {
   "cell_type": "code",
   "execution_count": null,
   "metadata": {},
   "outputs": [
    {
     "name": "stdout",
     "output_type": "stream",
     "text": [
      "preprocessing\n"
     ]
    },
    {
     "data": {
      "application/vnd.jupyter.widget-view+json": {
       "model_id": "5a1c886c0b29443ba24876ee520b8f89",
       "version_major": 2,
       "version_minor": 0
      },
      "text/plain": [
       "  0%|          | 0/105710 [00:00<?, ?it/s]"
      ]
     },
     "metadata": {},
     "output_type": "display_data"
    },
    {
     "name": "stdout",
     "output_type": "stream",
     "text": [
      "converting\n"
     ]
    },
    {
     "data": {
      "application/vnd.jupyter.widget-view+json": {
       "model_id": "7432fe13e4834bb2bfa03ff207951426",
       "version_major": 2,
       "version_minor": 0
      },
      "text/plain": [
       "  0%|          | 0/105710 [00:00<?, ?it/s]"
      ]
     },
     "metadata": {},
     "output_type": "display_data"
    },
    {
     "name": "stdout",
     "output_type": "stream",
     "text": [
      "preprocessing\n"
     ]
    },
    {
     "data": {
      "application/vnd.jupyter.widget-view+json": {
       "model_id": "5f274e16423144e2b9bd40eb161654c3",
       "version_major": 2,
       "version_minor": 0
      },
      "text/plain": [
       "  0%|          | 0/21648 [00:00<?, ?it/s]"
      ]
     },
     "metadata": {},
     "output_type": "display_data"
    },
    {
     "name": "stdout",
     "output_type": "stream",
     "text": [
      "converting\n"
     ]
    },
    {
     "data": {
      "application/vnd.jupyter.widget-view+json": {
       "model_id": "b4830e6e1ecb47b2a0cf11a511ce8c31",
       "version_major": 2,
       "version_minor": 0
      },
      "text/plain": [
       "  0%|          | 0/21648 [00:00<?, ?it/s]"
      ]
     },
     "metadata": {},
     "output_type": "display_data"
    },
    {
     "name": "stdout",
     "output_type": "stream",
     "text": [
      "preprocessing\n"
     ]
    },
    {
     "data": {
      "application/vnd.jupyter.widget-view+json": {
       "model_id": "765ed862c082463f8393599e4b80d2d1",
       "version_major": 2,
       "version_minor": 0
      },
      "text/plain": [
       "  0%|          | 0/14149 [00:00<?, ?it/s]"
      ]
     },
     "metadata": {},
     "output_type": "display_data"
    },
    {
     "name": "stdout",
     "output_type": "stream",
     "text": [
      "converting\n"
     ]
    },
    {
     "data": {
      "application/vnd.jupyter.widget-view+json": {
       "model_id": "de583767f70f474cac515b24225d6c69",
       "version_major": 2,
       "version_minor": 0
      },
      "text/plain": [
       "  0%|          | 0/14149 [00:00<?, ?it/s]"
      ]
     },
     "metadata": {},
     "output_type": "display_data"
    }
   ],
   "source": [
    "train_df = sample_train[~sample_train.text.isna()].loc[:]\n",
    "train_df[\"text_processed\"] = preprocess(train_df.text, nlp)\n",
    "convert(train_df.loc[:, [\"text_processed\", \"tag_list\"]],\n",
    "        'text_train_bow.spacy', nlp)\n",
    "test_df = sample_test[~sample_test.text.isna()].loc[:]\n",
    "test_df[\"text_processed\"] = preprocess(test_df.text, nlp)\n",
    "convert(test_df.loc[:, [\"text_processed\", \"tag_list\"]],\n",
    "        'text_test_bow.spacy', nlp)\n",
    "validation_df = sample_validation[~sample_validation.text.isna()].loc[:]\n",
    "validation_df[\"text_processed\"] = preprocess(\n",
    "    validation_df.text, nlp)\n",
    "convert(validation_df.loc[:, [\"text_processed\", \"tag_list\"]],\n",
    "        'text_validation_bow.spacy', nlp)\n"
   ]
  },
  {
   "cell_type": "code",
   "execution_count": null,
   "metadata": {},
   "outputs": [
    {
     "name": "stdout",
     "output_type": "stream",
     "text": [
      "2023-03-17 12:18:13.716779: I tensorflow/core/platform/cpu_feature_guard.cc:193] This TensorFlow binary is optimized with oneAPI Deep Neural Network Library (oneDNN) to use the following CPU instructions in performance-critical operations:  AVX2 FMA\n",
      "To enable them in other operations, rebuild TensorFlow with the appropriate compiler flags.\n",
      "2023-03-17 12:18:15.191947: I tensorflow/compiler/xla/stream_executor/cuda/cuda_gpu_executor.cc:981] successful NUMA node read from SysFS had negative value (-1), but there must be at least one NUMA node, so returning NUMA node zero\n",
      "2023-03-17 12:18:15.192320: I tensorflow/compiler/xla/stream_executor/cuda/cuda_gpu_executor.cc:981] successful NUMA node read from SysFS had negative value (-1), but there must be at least one NUMA node, so returning NUMA node zero\n",
      "2023-03-17 12:18:15.192476: I tensorflow/compiler/xla/stream_executor/cuda/cuda_gpu_executor.cc:981] successful NUMA node read from SysFS had negative value (-1), but there must be at least one NUMA node, so returning NUMA node zero\n",
      "\u001b[38;5;4mℹ Saving to output directory: output_BOW\u001b[0m\n",
      "\u001b[38;5;4mℹ Using GPU: 0\u001b[0m\n",
      "\u001b[1m\n",
      "=========================== Initializing pipeline ===========================\u001b[0m\n",
      "[2023-03-17 12:18:19,278] [INFO] Set up nlp object from config\n",
      "[2023-03-17 12:18:19,903] [INFO] Pipeline: ['textcat_multilabel']\n",
      "[2023-03-17 12:18:19,906] [INFO] Created vocabulary\n",
      "[2023-03-17 12:18:21,924] [INFO] Added vectors: en_core_web_lg\n",
      "[2023-03-17 12:18:23,337] [INFO] Finished initializing nlp object\n",
      "[2023-03-17 12:19:07,372] [INFO] Initialized pipeline components: ['textcat_multilabel']\n",
      "\u001b[38;5;2m✔ Initialized pipeline\u001b[0m\n",
      "\u001b[1m\n",
      "============================= Training pipeline =============================\u001b[0m\n",
      "\u001b[38;5;4mℹ Pipeline: ['textcat_multilabel']\u001b[0m\n",
      "\u001b[38;5;4mℹ Initial learn rate: 0.001\u001b[0m\n",
      "\u001b[34m\u001b[1mwandb\u001b[0m: Currently logged in as: \u001b[33mapersonnaz\u001b[0m. Use \u001b[1m`wandb login --relogin`\u001b[0m to force relogin\n",
      "\u001b[34m\u001b[1mwandb\u001b[0m: Tracking run with wandb version 0.14.0\n",
      "\u001b[34m\u001b[1mwandb\u001b[0m: Run data is saved locally in \u001b[35m\u001b[1m/home/aurelien/Documents/ocr/OCR_IML_projet5/wandb/run-20230317_121908-yixyk8wd\u001b[0m\n",
      "\u001b[34m\u001b[1mwandb\u001b[0m: Run \u001b[1m`wandb offline`\u001b[0m to turn off syncing.\n",
      "\u001b[34m\u001b[1mwandb\u001b[0m: Syncing run \u001b[33mautumn-flower-40\u001b[0m\n",
      "\u001b[34m\u001b[1mwandb\u001b[0m: ⭐️ View project at \u001b[34m\u001b[4mhttps://wandb.ai/apersonnaz/my_spacy_project\u001b[0m\n",
      "\u001b[34m\u001b[1mwandb\u001b[0m: 🚀 View run at \u001b[34m\u001b[4mhttps://wandb.ai/apersonnaz/my_spacy_project/runs/yixyk8wd\u001b[0m\n",
      "E    #       LOSS TEXTC...  CATS_SCORE  SCORE \n",
      "---  ------  -------------  ----------  ------\n",
      "  0       0           0.25       54.94    0.55\n",
      "  0     200          24.56       57.63    0.58\n",
      "  0     400          18.37       61.71    0.62\n",
      "  0     600          16.40       66.07    0.66\n",
      "  0     800          16.69       70.49    0.70\n",
      "  0    1000          15.45       74.75    0.75\n",
      "\u001b[34m\u001b[1mwandb\u001b[0m: Adding directory to artifact (./output_BOW/model-last)... Done. 57.8s\n",
      "  0    1200          14.50       77.78    0.78\n",
      "  0    1400          13.89       80.89    0.81\n",
      "  0    1600          13.25       83.26    0.83\n",
      "  0    1800          12.33       85.22    0.85\n",
      "  0    2000          12.37       86.85    0.87\n",
      "\u001b[34m\u001b[1mwandb\u001b[0m: Adding directory to artifact (./output_BOW/model-last)... Done. 45.7s\n",
      "  0    2200          11.96       88.07    0.88\n",
      "  0    2400          11.34       89.10    0.89\n",
      "  0    2600          11.05       89.82    0.90\n",
      "  0    2800          10.93       90.21    0.90\n",
      "  0    3000          10.55       90.65    0.91\n",
      "\u001b[34m\u001b[1mwandb\u001b[0m: Adding directory to artifact (./output_BOW/model-last)... Done. 63.5s\n",
      "  0    3200          10.40       91.15    0.91\n",
      "  0    3400          10.36       91.45    0.91\n",
      "  0    3600          10.34       91.65    0.92\n",
      "  0    3800           9.93       91.82    0.92\n",
      "  0    4000          10.10       92.03    0.92\n",
      "\u001b[34m\u001b[1mwandb\u001b[0m: Adding directory to artifact (./output_BOW/model-last)... Done. 58.2s\n",
      "  0    4200           9.80       92.15    0.92\n",
      "  0    4400           9.95       92.31    0.92\n",
      "  0    4600           9.77       92.46    0.92\n",
      "  0    4800           9.58       92.62    0.93\n",
      "  0    5000           9.68       92.58    0.93\n",
      "\u001b[34m\u001b[1mwandb\u001b[0m: Adding directory to artifact (./output_BOW/model-last)... Done. 51.0s\n",
      "  0    5200           9.48       92.69    0.93\n",
      "  0    5400           9.52       92.83    0.93\n",
      "  0    5600           9.49       92.80    0.93\n",
      "  0    5800           9.21       92.87    0.93\n",
      "  0    6000           9.30       93.00    0.93\n",
      "\u001b[34m\u001b[1mwandb\u001b[0m: Adding directory to artifact (./output_BOW/model-last)... Done. 68.0s\n",
      "  0    6200           9.30       93.04    0.93\n",
      "  0    6400           9.42       93.04    0.93\n",
      "  1    6600           9.49       93.14    0.93\n",
      "  1    6800           7.94       93.09    0.93\n",
      "  1    7000           8.22       93.09    0.93\n",
      "\u001b[34m\u001b[1mwandb\u001b[0m: Adding directory to artifact (./output_BOW/model-last)... Done. 60.5s\n",
      "  1    7200           8.23       93.08    0.93\n",
      "  1    7400           8.16       93.07    0.93\n",
      "  1    7600           8.30       93.10    0.93\n",
      "  1    7800           8.12       93.04    0.93\n",
      "  1    8000           8.13       93.10    0.93\n",
      "\u001b[34m\u001b[1mwandb\u001b[0m: Adding directory to artifact (./output_BOW/model-last)... Done. 38.4s\n",
      "  1    8200           8.13       93.09    0.93\n",
      "\u001b[34m\u001b[1mwandb\u001b[0m: Waiting for W&B process to finish... \u001b[32m(success).\u001b[0m\n",
      "\u001b[34m\u001b[1mwandb\u001b[0m: \n",
      "\u001b[34m\u001b[1mwandb\u001b[0m: Run history:\n",
      "\u001b[34m\u001b[1mwandb\u001b[0m:          cats_macro_auc ▁▁▂▃▄▅▅▆▆▇▇▇▇▇▇█████████████████████████\n",
      "\u001b[34m\u001b[1mwandb\u001b[0m:            cats_macro_f ▂▁▁▁▂▃▄▄▅▆▆▆▇▇▇▇▇▇▇▇████████████████████\n",
      "\u001b[34m\u001b[1mwandb\u001b[0m:            cats_macro_p ▁▁▅█▇██▇▇▇▇▇▇▇▇▇▇▇▇▇▇▇▇▇▇▇▇▇▇▇▇▇▇▇▇▇▇▇▇▇\n",
      "\u001b[34m\u001b[1mwandb\u001b[0m:            cats_macro_r ▃▁▁▁▂▂▃▄▄▅▆▆▆▆▆▇▇▇▇▇▇▇▇█▇███████████████\n",
      "\u001b[34m\u001b[1mwandb\u001b[0m:            cats_micro_f ▃▁▁▁▂▃▄▅▅▆▆▇▇▇▇▇▇▇▇▇████████████████████\n",
      "\u001b[34m\u001b[1mwandb\u001b[0m:            cats_micro_p ▁█▇▇▆▆▆▆▆▆▆▆▆▆▆▆▆▆▆▆▆▆▆▆▆▆▆▆▆▆▆▆▆▆▆▆▆▆▆▆\n",
      "\u001b[34m\u001b[1mwandb\u001b[0m:            cats_micro_r ▃▁▁▁▂▃▃▄▄▅▆▆▆▆▆▇▇▇▇▇▇▇██▇███████████████\n",
      "\u001b[34m\u001b[1mwandb\u001b[0m:              cats_score ▁▁▂▃▄▅▅▆▆▇▇▇▇▇▇█████████████████████████\n",
      "\u001b[34m\u001b[1mwandb\u001b[0m: loss_textcat_multilabel ▁█▆▆▆▅▅▅▅▄▄▄▄▄▄▄▄▄▄▄▄▄▄▄▄▄▄▄▄▄▄▄▄▃▃▃▃▃▃▃\n",
      "\u001b[34m\u001b[1mwandb\u001b[0m:                   score ▁▁▂▃▄▅▅▆▆▇▇▇▇▇▇█████████████████████████\n",
      "\u001b[34m\u001b[1mwandb\u001b[0m:                   speed █▄▁▂▃▄▁▇▄▄▅▃█▇▅▄▄▆▆▇▄▃█▄▄▅▄▆▆▄▃▆▅▂▃▅▁▄▂▄\n",
      "\u001b[34m\u001b[1mwandb\u001b[0m:               token_acc ▁▁▁▁▁▁▁▁▁▁▁▁▁▁▁▁▁▁▁▁▁▁▁▁▁▁▁▁▁▁▁▁▁▁▁▁▁▁▁▁\n",
      "\u001b[34m\u001b[1mwandb\u001b[0m:                 token_f ▁▁▁▁▁▁▁▁▁▁▁▁▁▁▁▁▁▁▁▁▁▁▁▁▁▁▁▁▁▁▁▁▁▁▁▁▁▁▁▁\n",
      "\u001b[34m\u001b[1mwandb\u001b[0m:                 token_p ▁▁▁▁▁▁▁▁▁▁▁▁▁▁▁▁▁▁▁▁▁▁▁▁▁▁▁▁▁▁▁▁▁▁▁▁▁▁▁▁\n",
      "\u001b[34m\u001b[1mwandb\u001b[0m:                 token_r ▁▁▁▁▁▁▁▁▁▁▁▁▁▁▁▁▁▁▁▁▁▁▁▁▁▁▁▁▁▁▁▁▁▁▁▁▁▁▁▁\n",
      "\u001b[34m\u001b[1mwandb\u001b[0m: \n",
      "\u001b[34m\u001b[1mwandb\u001b[0m: Run summary:\n",
      "\u001b[34m\u001b[1mwandb\u001b[0m:          cats_macro_auc 0.93086\n",
      "\u001b[34m\u001b[1mwandb\u001b[0m:            cats_macro_f 0.62274\n",
      "\u001b[34m\u001b[1mwandb\u001b[0m:            cats_macro_p 0.78301\n",
      "\u001b[34m\u001b[1mwandb\u001b[0m:            cats_macro_r 0.5212\n",
      "\u001b[34m\u001b[1mwandb\u001b[0m:            cats_micro_f 0.62599\n",
      "\u001b[34m\u001b[1mwandb\u001b[0m:            cats_micro_p 0.7812\n",
      "\u001b[34m\u001b[1mwandb\u001b[0m:            cats_micro_r 0.52223\n",
      "\u001b[34m\u001b[1mwandb\u001b[0m:              cats_score 0.93086\n",
      "\u001b[34m\u001b[1mwandb\u001b[0m:         cats_score_desc macro AUC\n",
      "\u001b[34m\u001b[1mwandb\u001b[0m: loss_textcat_multilabel 8.13347\n",
      "\u001b[34m\u001b[1mwandb\u001b[0m:                   score 0.93086\n",
      "\u001b[34m\u001b[1mwandb\u001b[0m:                   speed 126136.12951\n",
      "\u001b[34m\u001b[1mwandb\u001b[0m:               token_acc 1.0\n",
      "\u001b[34m\u001b[1mwandb\u001b[0m:                 token_f 1.0\n",
      "\u001b[34m\u001b[1mwandb\u001b[0m:                 token_p 1.0\n",
      "\u001b[34m\u001b[1mwandb\u001b[0m:                 token_r 1.0\n",
      "\u001b[34m\u001b[1mwandb\u001b[0m: \n",
      "\u001b[34m\u001b[1mwandb\u001b[0m: 🚀 View run \u001b[33mautumn-flower-40\u001b[0m at: \u001b[34m\u001b[4mhttps://wandb.ai/apersonnaz/my_spacy_project/runs/yixyk8wd\u001b[0m\n",
      "\u001b[34m\u001b[1mwandb\u001b[0m: Synced 5 W&B file(s), 0 media file(s), 80 artifact file(s) and 0 other file(s)\n",
      "\u001b[34m\u001b[1mwandb\u001b[0m: Find logs at: \u001b[35m\u001b[1m./wandb/run-20230317_121908-yixyk8wd/logs\u001b[0m\n",
      "\u001b[38;5;2m✔ Saved pipeline to output directory\u001b[0m\n",
      "output_BOW/model-last\n"
     ]
    }
   ],
   "source": [
    "!python3 -m spacy train config_BOW.cfg --output ./output_BOW --paths.train ./text_train_bow.spacy --paths.dev ./text_test_bow.spacy --gpu-id 0"
   ]
  },
  {
   "cell_type": "markdown",
   "metadata": {},
   "source": [
    "#### Code"
   ]
  },
  {
   "cell_type": "code",
   "execution_count": null,
   "metadata": {},
   "outputs": [
    {
     "name": "stdout",
     "output_type": "stream",
     "text": [
      "preprocessing\n"
     ]
    },
    {
     "data": {
      "application/vnd.jupyter.widget-view+json": {
       "model_id": "34edc8b0ea1c4f81a9e59647fbb47d60",
       "version_major": 2,
       "version_minor": 0
      },
      "text/plain": [
       "  0%|          | 0/81619 [00:00<?, ?it/s]"
      ]
     },
     "metadata": {},
     "output_type": "display_data"
    },
    {
     "name": "stdout",
     "output_type": "stream",
     "text": [
      "converting\n"
     ]
    },
    {
     "data": {
      "application/vnd.jupyter.widget-view+json": {
       "model_id": "eef5a97aa7074e40a7e7987c500c0c9e",
       "version_major": 2,
       "version_minor": 0
      },
      "text/plain": [
       "  0%|          | 0/81619 [00:00<?, ?it/s]"
      ]
     },
     "metadata": {},
     "output_type": "display_data"
    },
    {
     "name": "stdout",
     "output_type": "stream",
     "text": [
      "preprocessing\n"
     ]
    },
    {
     "data": {
      "application/vnd.jupyter.widget-view+json": {
       "model_id": "99cd694b5bc34de0b4e1a4c5f187d4c6",
       "version_major": 2,
       "version_minor": 0
      },
      "text/plain": [
       "  0%|          | 0/16800 [00:00<?, ?it/s]"
      ]
     },
     "metadata": {},
     "output_type": "display_data"
    },
    {
     "name": "stdout",
     "output_type": "stream",
     "text": [
      "converting\n"
     ]
    },
    {
     "data": {
      "application/vnd.jupyter.widget-view+json": {
       "model_id": "be6bb1f4854f43faa30deedbdfb44dce",
       "version_major": 2,
       "version_minor": 0
      },
      "text/plain": [
       "  0%|          | 0/16800 [00:00<?, ?it/s]"
      ]
     },
     "metadata": {},
     "output_type": "display_data"
    },
    {
     "name": "stdout",
     "output_type": "stream",
     "text": [
      "preprocessing\n"
     ]
    },
    {
     "data": {
      "application/vnd.jupyter.widget-view+json": {
       "model_id": "8fcb7c17e0b44dd780cc6747fab4ddfa",
       "version_major": 2,
       "version_minor": 0
      },
      "text/plain": [
       "  0%|          | 0/10956 [00:00<?, ?it/s]"
      ]
     },
     "metadata": {},
     "output_type": "display_data"
    },
    {
     "name": "stdout",
     "output_type": "stream",
     "text": [
      "converting\n"
     ]
    },
    {
     "data": {
      "application/vnd.jupyter.widget-view+json": {
       "model_id": "161cce72dec748eba5309a2e0c555162",
       "version_major": 2,
       "version_minor": 0
      },
      "text/plain": [
       "  0%|          | 0/10956 [00:00<?, ?it/s]"
      ]
     },
     "metadata": {},
     "output_type": "display_data"
    }
   ],
   "source": [
    "train_df = sample_train[~sample_train.code.isna()].loc[:]\n",
    "train_df[\"code_processed\"] = preprocess(train_df.code, nlp)\n",
    "convert(train_df.loc[:, [\"code_processed\", \"tag_list\"]],\n",
    "        'code_train_bow.spacy', nlp)\n",
    "test_df = sample_test[~sample_test.code.isna()].loc[:]\n",
    "test_df[\"code_processed\"] = preprocess(test_df.code, nlp)\n",
    "convert(test_df.loc[:, [\"code_processed\", \"tag_list\"]],\n",
    "        'code_test_bow.spacy', nlp)\n",
    "validation_df = sample_validation[~sample_validation.code.isna()].loc[:]\n",
    "validation_df[\"code_processed\"] = preprocess(\n",
    "    validation_df.code, nlp)\n",
    "convert(validation_df.loc[:, [\"code_processed\", \"tag_list\"]],\n",
    "        'code_validation_bow.spacy', nlp)\n"
   ]
  },
  {
   "cell_type": "code",
   "execution_count": null,
   "metadata": {},
   "outputs": [
    {
     "name": "stdout",
     "output_type": "stream",
     "text": [
      "2023-03-17 13:35:08.530678: I tensorflow/core/platform/cpu_feature_guard.cc:193] This TensorFlow binary is optimized with oneAPI Deep Neural Network Library (oneDNN) to use the following CPU instructions in performance-critical operations:  AVX2 FMA\n",
      "To enable them in other operations, rebuild TensorFlow with the appropriate compiler flags.\n",
      "2023-03-17 13:35:10.172390: I tensorflow/compiler/xla/stream_executor/cuda/cuda_gpu_executor.cc:981] successful NUMA node read from SysFS had negative value (-1), but there must be at least one NUMA node, so returning NUMA node zero\n",
      "2023-03-17 13:35:10.172770: I tensorflow/compiler/xla/stream_executor/cuda/cuda_gpu_executor.cc:981] successful NUMA node read from SysFS had negative value (-1), but there must be at least one NUMA node, so returning NUMA node zero\n",
      "2023-03-17 13:35:10.172917: I tensorflow/compiler/xla/stream_executor/cuda/cuda_gpu_executor.cc:981] successful NUMA node read from SysFS had negative value (-1), but there must be at least one NUMA node, so returning NUMA node zero\n",
      "\u001b[38;5;4mℹ Saving to output directory: output_code_BOW\u001b[0m\n",
      "\u001b[38;5;4mℹ Using GPU: 0\u001b[0m\n",
      "\u001b[1m\n",
      "=========================== Initializing pipeline ===========================\u001b[0m\n",
      "[2023-03-17 13:35:14,175] [INFO] Set up nlp object from config\n",
      "[2023-03-17 13:35:14,738] [INFO] Pipeline: ['textcat_multilabel']\n",
      "[2023-03-17 13:35:14,741] [INFO] Created vocabulary\n",
      "[2023-03-17 13:35:16,832] [INFO] Added vectors: en_core_web_lg\n",
      "[2023-03-17 13:35:18,311] [INFO] Finished initializing nlp object\n",
      "[2023-03-17 13:35:53,999] [INFO] Initialized pipeline components: ['textcat_multilabel']\n",
      "\u001b[38;5;2m✔ Initialized pipeline\u001b[0m\n",
      "\u001b[1m\n",
      "============================= Training pipeline =============================\u001b[0m\n",
      "\u001b[38;5;4mℹ Pipeline: ['textcat_multilabel']\u001b[0m\n",
      "\u001b[38;5;4mℹ Initial learn rate: 0.001\u001b[0m\n",
      "\u001b[34m\u001b[1mwandb\u001b[0m: Currently logged in as: \u001b[33mapersonnaz\u001b[0m. Use \u001b[1m`wandb login --relogin`\u001b[0m to force relogin\n",
      "\u001b[34m\u001b[1mwandb\u001b[0m: Tracking run with wandb version 0.14.0\n",
      "\u001b[34m\u001b[1mwandb\u001b[0m: Run data is saved locally in \u001b[35m\u001b[1m/home/aurelien/Documents/ocr/OCR_IML_projet5/wandb/run-20230317_133555-pjfmqgkv\u001b[0m\n",
      "\u001b[34m\u001b[1mwandb\u001b[0m: Run \u001b[1m`wandb offline`\u001b[0m to turn off syncing.\n",
      "\u001b[34m\u001b[1mwandb\u001b[0m: Syncing run \u001b[33mgentle-thunder-43\u001b[0m\n",
      "\u001b[34m\u001b[1mwandb\u001b[0m: ⭐️ View project at \u001b[34m\u001b[4mhttps://wandb.ai/apersonnaz/my_spacy_project\u001b[0m\n",
      "\u001b[34m\u001b[1mwandb\u001b[0m: 🚀 View run at \u001b[34m\u001b[4mhttps://wandb.ai/apersonnaz/my_spacy_project/runs/pjfmqgkv\u001b[0m\n",
      "E    #       LOSS TEXTC...  CATS_SCORE  SCORE \n",
      "---  ------  -------------  ----------  ------\n",
      "  0       0           0.25       51.55    0.52\n",
      "  0     200          28.70       66.91    0.67\n",
      "  0     400          19.49       71.67    0.72\n",
      "  0     600          17.49       75.55    0.76\n",
      "  0     800          16.50       78.86    0.79\n",
      "  0    1000          14.75       81.13    0.81\n",
      "\u001b[34m\u001b[1mwandb\u001b[0m: Adding directory to artifact (./output_code_BOW/model-last)... Done. 28.4s\n",
      "  0    1200          13.57       82.89    0.83\n",
      "  0    1400          13.80       84.41    0.84\n",
      "  0    1600          12.52       85.91    0.86\n",
      "  0    1800          12.07       86.99    0.87\n",
      "  0    2000          11.76       87.73    0.88\n",
      "\u001b[34m\u001b[1mwandb\u001b[0m: Adding directory to artifact (./output_code_BOW/model-last)... Done. 71.3s\n",
      "  0    2200          11.37       88.32    0.88\n",
      "  0    2400          11.02       88.95    0.89\n",
      "  0    2600          11.00       89.40    0.89\n",
      "  0    2800          10.88       89.88    0.90\n",
      "  0    3000          10.80       90.22    0.90\n",
      "\u001b[34m\u001b[1mwandb\u001b[0m: Adding directory to artifact (./output_code_BOW/model-last)... Done. 80.1s\n",
      "  0    3200          10.74       90.45    0.90\n",
      "  0    3400          10.44       90.59    0.91\n",
      "  0    3600          10.47       90.72    0.91\n",
      "  0    3800          10.47       90.94    0.91\n",
      "  0    4000          10.11       90.95    0.91\n",
      "\u001b[34m\u001b[1mwandb\u001b[0m: Adding directory to artifact (./output_code_BOW/model-last)... Done. 51.8s\n",
      "  0    4200          10.33       91.15    0.91\n",
      "  0    4400          10.06       91.20    0.91\n",
      "  0    4600          10.14       91.31    0.91\n",
      "  0    4800           9.88       91.32    0.91\n",
      "  1    5000           9.16       91.40    0.91\n",
      "\u001b[34m\u001b[1mwandb\u001b[0m: Adding directory to artifact (./output_code_BOW/model-last)... Done. 72.5s\n",
      "  1    5200           8.97       91.40    0.91\n",
      "  1    5400           8.88       91.43    0.91\n",
      "  1    5600           8.83       91.38    0.91\n",
      "  1    5800           9.11       91.36    0.91\n",
      "  1    6000           9.02       91.37    0.91\n",
      "\u001b[34m\u001b[1mwandb\u001b[0m: Adding directory to artifact (./output_code_BOW/model-last)... Done. 56.3s\n",
      "  1    6200           8.74       91.45    0.91\n",
      "  1    6400           8.96       91.46    0.91\n",
      "  1    6600           8.96       91.40    0.91\n",
      "  1    6800           8.97       91.39    0.91\n",
      "  1    7000           8.89       91.45    0.91\n",
      "\u001b[34m\u001b[1mwandb\u001b[0m: Adding directory to artifact (./output_code_BOW/model-last)... Done. 92.8s\n",
      "  1    7200           8.96       91.35    0.91\n",
      "  1    7400           8.94       91.41    0.91\n",
      "  1    7600           8.82       91.45    0.91\n",
      "  1    7800           9.27       91.46    0.91\n",
      "  1    8000           8.91       91.49    0.91\n",
      "\u001b[34m\u001b[1mwandb\u001b[0m: Adding directory to artifact (./output_code_BOW/model-last)... Done. 74.3s\n",
      "  1    8200           9.00       91.48    0.91\n",
      "  2    8400           7.86       91.49    0.91\n",
      "  2    8600           7.94       91.48    0.91\n",
      "  2    8800           8.08       91.50    0.92\n",
      "  2    9000           8.26       91.50    0.91\n",
      "\u001b[34m\u001b[1mwandb\u001b[0m: Adding directory to artifact (./output_code_BOW/model-last)... Done. 62.5s\n",
      "  2    9200           8.02       91.41    0.91\n",
      "  2    9400           8.11       91.42    0.91\n",
      "  2    9600           8.49       91.39    0.91\n",
      "  2    9800           8.02       91.48    0.91\n",
      "  2   10000           8.29       91.41    0.91\n",
      "\u001b[34m\u001b[1mwandb\u001b[0m: Adding directory to artifact (./output_code_BOW/model-last)... Done. 44.8s\n",
      "  2   10200           8.41       91.43    0.91\n",
      "  2   10400           8.07       91.36    0.91\n",
      "\u001b[34m\u001b[1mwandb\u001b[0m: Waiting for W&B process to finish... \u001b[32m(success).\u001b[0m\n",
      "\u001b[34m\u001b[1mwandb\u001b[0m: - 6241.985 MB of 6241.985 MB uploaded (5473.753 MB deduped)\n",
      "\u001b[34m\u001b[1mwandb\u001b[0m: Run history:\n",
      "\u001b[34m\u001b[1mwandb\u001b[0m:          cats_macro_auc ▁▄▅▆▆▆▇▇▇███████████████████████████████\n",
      "\u001b[34m\u001b[1mwandb\u001b[0m:            cats_macro_f ▁▂▃▄▅▅▆▆▆▇▇▇▇▇▇▇████████████████████████\n",
      "\u001b[34m\u001b[1mwandb\u001b[0m:            cats_macro_p ▁▇██████████████████████████████████████\n",
      "\u001b[34m\u001b[1mwandb\u001b[0m:            cats_macro_r ▁▁▂▃▄▄▅▅▆▆▆▇▇▇▇▇▇▇▇▇▇▇▇█████████████████\n",
      "\u001b[34m\u001b[1mwandb\u001b[0m:            cats_micro_f ▁▁▂▄▅▅▆▆▆▇▇▇▇▇▇▇▇███████████████████████\n",
      "\u001b[34m\u001b[1mwandb\u001b[0m:            cats_micro_p ▁▇██████████████████████████████████████\n",
      "\u001b[34m\u001b[1mwandb\u001b[0m:            cats_micro_r ▁▁▂▃▄▄▅▅▅▆▆▆▇▇▇▇▇▇▇▇▇▇▇█████████████████\n",
      "\u001b[34m\u001b[1mwandb\u001b[0m:              cats_score ▁▄▅▆▆▆▇▇▇███████████████████████████████\n",
      "\u001b[34m\u001b[1mwandb\u001b[0m: loss_textcat_multilabel ▁█▆▅▅▄▄▄▄▄▄▄▄▄▄▃▃▃▃▃▃▃▃▃▃▃▃▃▃▃▃▃▃▃▃▃▃▃▃▃\n",
      "\u001b[34m\u001b[1mwandb\u001b[0m:                   score ▁▄▅▆▆▆▇▇▇███████████████████████████████\n",
      "\u001b[34m\u001b[1mwandb\u001b[0m:                   speed ▆▄▆▅▄▆▇▇█▇▇▆▄▅▄▅▅▄▅▅▄▄▄▅▅▄▅▂▆▅▁▄▄▆▇▇▄▄▄▃\n",
      "\u001b[34m\u001b[1mwandb\u001b[0m:               token_acc ▁▁▁▁▁▁▁▁▁▁▁▁▁▁▁▁▁▁▁▁▁▁▁▁▁▁▁▁▁▁▁▁▁▁▁▁▁▁▁▁\n",
      "\u001b[34m\u001b[1mwandb\u001b[0m:                 token_f ▁▁▁▁▁▁▁▁▁▁▁▁▁▁▁▁▁▁▁▁▁▁▁▁▁▁▁▁▁▁▁▁▁▁▁▁▁▁▁▁\n",
      "\u001b[34m\u001b[1mwandb\u001b[0m:                 token_p ▁▁▁▁▁▁▁▁▁▁▁▁▁▁▁▁▁▁▁▁▁▁▁▁▁▁▁▁▁▁▁▁▁▁▁▁▁▁▁▁\n",
      "\u001b[34m\u001b[1mwandb\u001b[0m:                 token_r ▁▁▁▁▁▁▁▁▁▁▁▁▁▁▁▁▁▁▁▁▁▁▁▁▁▁▁▁▁▁▁▁▁▁▁▁▁▁▁▁\n",
      "\u001b[34m\u001b[1mwandb\u001b[0m: \n",
      "\u001b[34m\u001b[1mwandb\u001b[0m: Run summary:\n",
      "\u001b[34m\u001b[1mwandb\u001b[0m:          cats_macro_auc 0.91359\n",
      "\u001b[34m\u001b[1mwandb\u001b[0m:            cats_macro_f 0.59129\n",
      "\u001b[34m\u001b[1mwandb\u001b[0m:            cats_macro_p 0.77576\n",
      "\u001b[34m\u001b[1mwandb\u001b[0m:            cats_macro_r 0.48201\n",
      "\u001b[34m\u001b[1mwandb\u001b[0m:            cats_micro_f 0.60022\n",
      "\u001b[34m\u001b[1mwandb\u001b[0m:            cats_micro_p 0.77825\n",
      "\u001b[34m\u001b[1mwandb\u001b[0m:            cats_micro_r 0.48848\n",
      "\u001b[34m\u001b[1mwandb\u001b[0m:              cats_score 0.91359\n",
      "\u001b[34m\u001b[1mwandb\u001b[0m:         cats_score_desc macro AUC\n",
      "\u001b[34m\u001b[1mwandb\u001b[0m: loss_textcat_multilabel 8.07295\n",
      "\u001b[34m\u001b[1mwandb\u001b[0m:                   score 0.91359\n",
      "\u001b[34m\u001b[1mwandb\u001b[0m:                   speed 107350.40416\n",
      "\u001b[34m\u001b[1mwandb\u001b[0m:               token_acc 1.0\n",
      "\u001b[34m\u001b[1mwandb\u001b[0m:                 token_f 1.0\n",
      "\u001b[34m\u001b[1mwandb\u001b[0m:                 token_p 1.0\n",
      "\u001b[34m\u001b[1mwandb\u001b[0m:                 token_r 1.0\n",
      "\u001b[34m\u001b[1mwandb\u001b[0m: \n",
      "\u001b[34m\u001b[1mwandb\u001b[0m: 🚀 View run \u001b[33mgentle-thunder-43\u001b[0m at: \u001b[34m\u001b[4mhttps://wandb.ai/apersonnaz/my_spacy_project/runs/pjfmqgkv\u001b[0m\n",
      "\u001b[34m\u001b[1mwandb\u001b[0m: Synced 5 W&B file(s), 0 media file(s), 100 artifact file(s) and 0 other file(s)\n",
      "\u001b[34m\u001b[1mwandb\u001b[0m: Find logs at: \u001b[35m\u001b[1m./wandb/run-20230317_133555-pjfmqgkv/logs\u001b[0m\n",
      "\u001b[38;5;2m✔ Saved pipeline to output directory\u001b[0m\n",
      "output_code_BOW/model-last\n"
     ]
    }
   ],
   "source": [
    "!python3 -m spacy train config_BOW.cfg --output ./output_code_BOW --paths.train ./code_train_bow.spacy --paths.dev ./code_test_bow.spacy --gpu-id 0"
   ]
  },
  {
   "cell_type": "markdown",
   "metadata": {},
   "source": [
    "#### Evaluation"
   ]
  },
  {
   "cell_type": "code",
   "execution_count": null,
   "metadata": {},
   "outputs": [
    {
     "name": "stdout",
     "output_type": "stream",
     "text": [
      "preprocessing\n"
     ]
    },
    {
     "name": "stderr",
     "output_type": "stream",
     "text": [
      "100%|██████████| 14152/14152 [01:16<00:00, 185.89it/s]\n"
     ]
    },
    {
     "name": "stdout",
     "output_type": "stream",
     "text": [
      "preprocessing\n"
     ]
    },
    {
     "name": "stderr",
     "output_type": "stream",
     "text": [
      "100%|██████████| 14152/14152 [01:30<00:00, 156.50it/s]\n",
      "100%|██████████| 14152/14152 [00:05<00:00, 2385.61it/s]\n",
      "100%|██████████| 14152/14152 [00:06<00:00, 2323.80it/s]\n",
      "/tmp/ipykernel_5298/610484677.py:17: SettingWithCopyWarning: \n",
      "A value is trying to be set on a copy of a slice from a DataFrame.\n",
      "Try using .loc[row_indexer,col_indexer] = value instead\n",
      "\n",
      "See the caveats in the documentation: https://pandas.pydata.org/pandas-docs/stable/user_guide/indexing.html#returning-a-view-versus-a-copy\n",
      "  val_bow[val_bow.text == \"\"].text_cats = dict.fromkeys(selected_tags, 0)\n",
      "/tmp/ipykernel_5298/610484677.py:19: SettingWithCopyWarning: \n",
      "A value is trying to be set on a copy of a slice from a DataFrame.\n",
      "Try using .loc[row_indexer,col_indexer] = value instead\n",
      "\n",
      "See the caveats in the documentation: https://pandas.pydata.org/pandas-docs/stable/user_guide/indexing.html#returning-a-view-versus-a-copy\n",
      "  val_bow[val_bow.code == \"\"].code_cats = dict.fromkeys(selected_tags, 0)\n"
     ]
    }
   ],
   "source": [
    "\n",
    "nlp_lg = spacy.load('en_core_web_lg')\n",
    "val_bow = sample_validation.loc[:]\n",
    "val_bow[\"texts_processed\"] = preprocess(val_bow.text, nlp_lg)\n",
    "val_bow['codes_processed'] = preprocess(val_bow.code, nlp_lg)\n",
    "\n",
    "nlp_text = spacy.load(\"./output_BOW/model-best\")\n",
    "nlp_code = spacy.load(\"./output_code_BOW/model-best\")\n",
    "text_cats = []\n",
    "code_cats = []\n",
    "for summary in tqdm(nlp_text.pipe(val_bow[\"texts_processed\"].values), total=len(val_bow)):\n",
    "    text_cats.append(summary.cats)\n",
    "\n",
    "for summary in tqdm(nlp_code.pipe(val_bow[\"codes_processed\"].values), total=len(val_bow)):\n",
    "    code_cats.append(summary.cats)\n",
    "\n",
    "val_bow[\"text_cats\"] = text_cats\n",
    "val_bow[val_bow.text == \"\"].text_cats = dict.fromkeys(selected_tags, 0)\n",
    "val_bow[\"code_cats\"] = code_cats\n",
    "val_bow[val_bow.code == \"\"].code_cats = dict.fromkeys(selected_tags, 0)\n"
   ]
  },
  {
   "cell_type": "code",
   "execution_count": null,
   "metadata": {},
   "outputs": [
    {
     "name": "stderr",
     "output_type": "stream",
     "text": [
      "/home/aurelien/.local/lib/python3.10/site-packages/sklearn/metrics/_classification.py:1318: UndefinedMetricWarning: Precision is ill-defined and being set to 0.0 in samples with no predicted labels. Use `zero_division` parameter to control this behavior.\n",
      "  _warn_prf(average, modifier, msg_start, len(result))\n",
      "/home/aurelien/.local/lib/python3.10/site-packages/sklearn/metrics/_classification.py:1318: UndefinedMetricWarning: Precision is ill-defined and being set to 0.0 in samples with no predicted labels. Use `zero_division` parameter to control this behavior.\n",
      "  _warn_prf(average, modifier, msg_start, len(result))\n",
      "/home/aurelien/.local/lib/python3.10/site-packages/sklearn/metrics/_classification.py:1318: UndefinedMetricWarning: Precision is ill-defined and being set to 0.0 in samples with no predicted labels. Use `zero_division` parameter to control this behavior.\n",
      "  _warn_prf(average, modifier, msg_start, len(result))\n"
     ]
    },
    {
     "name": "stdout",
     "output_type": "stream",
     "text": [
      "======= text ==========\n",
      "Roc auc for each tag:\n",
      "[('.net', 0.6488900967782152), ('android', 0.8301444824905723), ('c', 0.7419467792574461), ('c#', 0.7319272956228179), ('c++', 0.7019025172772958), ('css', 0.8399595601095461), ('html', 0.736338138683504), ('ios', 0.7948700679334377), ('iphone', 0.6635471627376747), ('java', 0.7256070039936248), ('javascript', 0.744058014673224), ('jquery', 0.7819770185228876), ('node.js', 0.776855033231991), ('objective-c', 0.646231952979652), ('php', 0.7956970717251355), ('python', 0.8240978956325864)]\n",
      "Roc auc macro average: 0.749\n",
      "Jaccard score sample average: 0.482\n",
      "Jaccard score macro average: 0.456\n",
      "Jaccard score micro average: 0.451\n",
      "f1 score sample average: 0.529\n",
      "f1 score macro average: 0.617\n",
      "f1 score micro average: 0.622\n",
      "precision score sample average: 0.566\n",
      "precision score macro average: 0.784\n",
      "precision score micro average: 0.784\n",
      "recall score sample average: 0.537\n",
      "recall score macro average: 0.513\n",
      "recall score micro average: 0.515\n",
      "======= code ==========\n",
      "Roc auc for each tag:\n",
      "[('.net', 0.6013185899615637), ('android', 0.7079430036168805), ('c', 0.67738271317357), ('c#', 0.7018641191800484), ('c++', 0.6596744189582685), ('css', 0.7413250204306504), ('html', 0.6589245157521024), ('ios', 0.6677736187345674), ('iphone', 0.5571416184495195), ('java', 0.6612724150810498), ('javascript', 0.684897964392756), ('jquery', 0.636890254178122), ('node.js', 0.734195023353506), ('objective-c', 0.6582794952058915), ('php', 0.6702477210363726), ('python', 0.755062385334667)]\n",
      "Roc auc macro average: 0.673\n",
      "Jaccard score sample average: 0.342\n",
      "Jaccard score macro average: 0.326\n",
      "Jaccard score micro average: 0.325\n",
      "f1 score sample average: 0.374\n",
      "f1 score macro average: 0.484\n",
      "f1 score micro average: 0.491\n",
      "precision score sample average: 0.395\n",
      "precision score macro average: 0.767\n",
      "precision score micro average: 0.770\n",
      "recall score sample average: 0.385\n",
      "recall score macro average: 0.358\n",
      "recall score micro average: 0.360\n",
      "======= union ==========\n",
      "Roc auc for each tag:\n",
      "[('.net', 0.7100764463611141), ('android', 0.8956402777867004), ('c', 0.8075645026106525), ('c#', 0.8208440220794215), ('c++', 0.7603099497456873), ('css', 0.8866551980978101), ('html', 0.7908903897117773), ('ios', 0.8485636652786399), ('iphone', 0.6992046576378165), ('java', 0.7976519276058897), ('javascript', 0.8134471852432464), ('jquery', 0.8219679424524168), ('node.js', 0.8581538262345708), ('objective-c', 0.7515602416627912), ('php', 0.8524570375085048), ('python', 0.9123017704626679)]\n",
      "Roc auc macro average: 0.814\n",
      "Jaccard score sample average: 0.584\n",
      "Jaccard score macro average: 0.544\n",
      "Jaccard score micro average: 0.537\n",
      "f1 score sample average: 0.643\n",
      "f1 score macro average: 0.696\n",
      "f1 score micro average: 0.699\n",
      "precision score sample average: 0.659\n",
      "precision score macro average: 0.752\n",
      "precision score micro average: 0.749\n",
      "recall score sample average: 0.683\n",
      "recall score macro average: 0.652\n",
      "recall score micro average: 0.655\n",
      "======= intersection ==========\n",
      "Roc auc for each tag:\n",
      "[('.net', 0.5401322403786647), ('android', 0.6424472083207524), ('c', 0.6117649898203638), ('c#', 0.6129473927234448), ('c++', 0.601266986489877), ('css', 0.6946293824423864), ('html', 0.6043722647238291), ('ios', 0.6140800213893651), ('iphone', 0.5214841235493777), ('java', 0.5892274914687848), ('javascript', 0.6155087938227334), ('jquery', 0.5968993302485929), ('node.js', 0.6528962303509259), ('objective-c', 0.5529512065227524), ('php', 0.6134877552530034), ('python', 0.6668585105045856)]\n",
      "Roc auc macro average: 0.608\n",
      "Jaccard score sample average: 0.229\n",
      "Jaccard score macro average: 0.214\n",
      "Jaccard score micro average: 0.214\n",
      "f1 score sample average: 0.248\n",
      "f1 score macro average: 0.345\n",
      "f1 score micro average: 0.353\n",
      "precision score sample average: 0.279\n",
      "precision score macro average: 0.871\n",
      "precision score micro average: 0.882\n",
      "recall score sample average: 0.239\n",
      "recall score macro average: 0.220\n",
      "recall score micro average: 0.220\n"
     ]
    },
    {
     "name": "stderr",
     "output_type": "stream",
     "text": [
      "/home/aurelien/.local/lib/python3.10/site-packages/sklearn/metrics/_classification.py:1318: UndefinedMetricWarning: Precision is ill-defined and being set to 0.0 in samples with no predicted labels. Use `zero_division` parameter to control this behavior.\n",
      "  _warn_prf(average, modifier, msg_start, len(result))\n"
     ]
    }
   ],
   "source": [
    "THRESHOLD = 0.5\n",
    "y_pred_text = [[x for x in selected_tags if y[x] > THRESHOLD]\n",
    "               for y in val_bow.text_cats.values]\n",
    "y_pred_code = [[x for x in selected_tags if y[x] > THRESHOLD]\n",
    "               for y in val_bow.code_cats.values]\n",
    "\n",
    "y_pred_text = mlb.transform(y_pred_text)\n",
    "y_pred_code = mlb.transform(y_pred_code)\n",
    "\n",
    "evaluate_predictions(y, y_pred_text, y_pred_code, mlb, \"bow\")"
   ]
  },
  {
   "attachments": {},
   "cell_type": "markdown",
   "metadata": {},
   "source": [
    "### Tok2Vec with spacy\n",
    "\n",
    "#### Text"
   ]
  },
  {
   "cell_type": "code",
   "execution_count": null,
   "metadata": {},
   "outputs": [
    {
     "name": "stdout",
     "output_type": "stream",
     "text": [
      "2023-03-17 12:20:20.144707: I tensorflow/core/platform/cpu_feature_guard.cc:193] This TensorFlow binary is optimized with oneAPI Deep Neural Network Library (oneDNN) to use the following CPU instructions in performance-critical operations:  AVX2 FMA\n",
      "To enable them in other operations, rebuild TensorFlow with the appropriate compiler flags.\n",
      "2023-03-17 12:20:21.668324: I tensorflow/compiler/xla/stream_executor/cuda/cuda_gpu_executor.cc:981] successful NUMA node read from SysFS had negative value (-1), but there must be at least one NUMA node, so returning NUMA node zero\n",
      "2023-03-17 12:20:21.671812: I tensorflow/compiler/xla/stream_executor/cuda/cuda_gpu_executor.cc:981] successful NUMA node read from SysFS had negative value (-1), but there must be at least one NUMA node, so returning NUMA node zero\n",
      "2023-03-17 12:20:21.671976: I tensorflow/compiler/xla/stream_executor/cuda/cuda_gpu_executor.cc:981] successful NUMA node read from SysFS had negative value (-1), but there must be at least one NUMA node, so returning NUMA node zero\n",
      "\u001b[38;5;4mℹ Saving to output directory: output_tok2vec\u001b[0m\n",
      "\u001b[38;5;4mℹ Using GPU: 0\u001b[0m\n",
      "\u001b[1m\n",
      "=========================== Initializing pipeline ===========================\u001b[0m\n",
      "[2023-03-17 12:20:26,230] [INFO] Set up nlp object from config\n",
      "[2023-03-17 12:20:26,836] [INFO] Pipeline: ['textcat_multilabel']\n",
      "[2023-03-17 12:20:26,840] [INFO] Created vocabulary\n",
      "[2023-03-17 12:20:29,539] [INFO] Added vectors: en_core_web_lg\n",
      "[2023-03-17 12:20:31,331] [INFO] Finished initializing nlp object\n",
      "[2023-03-17 12:21:16,823] [INFO] Initialized pipeline components: ['textcat_multilabel']\n",
      "\u001b[38;5;2m✔ Initialized pipeline\u001b[0m\n",
      "\u001b[1m\n",
      "============================= Training pipeline =============================\u001b[0m\n",
      "\u001b[38;5;4mℹ Pipeline: ['textcat_multilabel']\u001b[0m\n",
      "\u001b[38;5;4mℹ Initial learn rate: 0.001\u001b[0m\n",
      "\u001b[34m\u001b[1mwandb\u001b[0m: Currently logged in as: \u001b[33mapersonnaz\u001b[0m. Use \u001b[1m`wandb login --relogin`\u001b[0m to force relogin\n",
      "\u001b[34m\u001b[1mwandb\u001b[0m: Tracking run with wandb version 0.14.0\n",
      "\u001b[34m\u001b[1mwandb\u001b[0m: Run data is saved locally in \u001b[35m\u001b[1m/home/aurelien/Documents/ocr/OCR_IML_projet5/wandb/run-20230317_122118-r70w9wfk\u001b[0m\n",
      "\u001b[34m\u001b[1mwandb\u001b[0m: Run \u001b[1m`wandb offline`\u001b[0m to turn off syncing.\n",
      "\u001b[34m\u001b[1mwandb\u001b[0m: Syncing run \u001b[33mfearless-pond-41\u001b[0m\n",
      "\u001b[34m\u001b[1mwandb\u001b[0m: ⭐️ View project at \u001b[34m\u001b[4mhttps://wandb.ai/apersonnaz/my_spacy_project\u001b[0m\n",
      "\u001b[34m\u001b[1mwandb\u001b[0m: 🚀 View run at \u001b[34m\u001b[4mhttps://wandb.ai/apersonnaz/my_spacy_project/runs/r70w9wfk\u001b[0m\n",
      "E    #       LOSS TEXTC...  CATS_SCORE  SCORE \n",
      "---  ------  -------------  ----------  ------\n",
      "  0       0           0.32       48.97    0.49\n",
      "  0     200          18.07       57.48    0.57\n",
      "  0     400          18.30       63.25    0.63\n",
      "  0     600          16.82       69.07    0.69\n",
      "  0     800          16.68       75.60    0.76\n",
      "  0    1000          15.24       80.69    0.81\n",
      "\u001b[34m\u001b[1mwandb\u001b[0m: Adding directory to artifact (./output_tok2vec/model-last)... Done. 77.1s\n",
      "  0    1200          14.59       82.89    0.83\n",
      "  0    1400          14.07       85.01    0.85\n",
      "  0    1600          13.50       86.39    0.86\n",
      "  0    1800          12.69       87.63    0.88\n",
      "  0    2000          12.69       88.68    0.89\n",
      "\u001b[34m\u001b[1mwandb\u001b[0m: Adding directory to artifact (./output_tok2vec/model-last)... Done. 70.2s\n",
      "  0    2200          12.32       89.43    0.89\n",
      "  0    2400          11.57       90.33    0.90\n",
      "  0    2600          11.42       90.74    0.91\n",
      "  0    2800          11.22       90.90    0.91\n",
      "  0    3000          11.03       91.39    0.91\n",
      "\u001b[34m\u001b[1mwandb\u001b[0m: Adding directory to artifact (./output_tok2vec/model-last)... Done. 72.7s\n",
      "  0    3200          10.70       91.59    0.92\n",
      "  0    3400          10.80       91.79    0.92\n",
      "  0    3600          10.73       92.02    0.92\n",
      "  0    3800          10.35       92.03    0.92\n",
      "  0    4000          10.41       91.88    0.92\n",
      "\u001b[34m\u001b[1mwandb\u001b[0m: Adding directory to artifact (./output_tok2vec/model-last)... Done. 87.8s\n",
      "  0    4200          10.23       92.37    0.92\n",
      "  0    4400          10.30       92.29    0.92\n",
      "  0    4600          10.03       92.43    0.92\n",
      "  0    4800           9.99       92.46    0.92\n",
      "  0    5000          10.15       92.48    0.92\n",
      "\u001b[34m\u001b[1mwandb\u001b[0m: Adding directory to artifact (./output_tok2vec/model-last)... Done. 66.8s\n",
      "  0    5200           9.74       92.70    0.93\n",
      "  0    5400           9.84       92.90    0.93\n",
      "  0    5600           9.88       92.84    0.93\n",
      "  0    5800           9.70       92.92    0.93\n",
      "  0    6000           9.72       92.92    0.93\n",
      "\u001b[34m\u001b[1mwandb\u001b[0m: Adding directory to artifact (./output_tok2vec/model-last)... Done. 58.3s\n",
      "  0    6200           9.83       93.06    0.93\n",
      "  0    6400           9.72       93.15    0.93\n",
      "  1    6600           9.78       93.23    0.93\n",
      "  1    6800           8.95       93.05    0.93\n",
      "  1    7000           9.25       93.19    0.93\n",
      "\u001b[34m\u001b[1mwandb\u001b[0m: Adding directory to artifact (./output_tok2vec/model-last)... Done. 45.5s\n",
      "  1    7200           9.15       93.29    0.93\n",
      "  1    7400           9.13       93.46    0.93\n",
      "  1    7600           9.22       93.30    0.93\n",
      "  1    7800           9.15       93.34    0.93\n",
      "  1    8000           9.14       93.48    0.93\n",
      "\u001b[34m\u001b[1mwandb\u001b[0m: Adding directory to artifact (./output_tok2vec/model-last)... Done. 34.0s\n",
      "  1    8200           9.09       93.28    0.93\n",
      "  1    8400           9.36       93.43    0.93\n",
      "  1    8600           8.83       93.63    0.94\n",
      "  1    8800           9.12       93.65    0.94\n",
      "  1    9000           9.29       93.59    0.94\n",
      "\u001b[34m\u001b[1mwandb\u001b[0m: Adding directory to artifact (./output_tok2vec/model-last)... Done. 8.0s\n",
      "  1    9200           9.21       93.49    0.93\n",
      "  1    9400           9.34       93.52    0.94\n",
      "  1    9600           9.14       93.68    0.94\n",
      "  1    9800           8.98       93.62    0.94\n",
      "  1   10000           9.26       93.60    0.94\n",
      "\u001b[34m\u001b[1mwandb\u001b[0m: Adding directory to artifact (./output_tok2vec/model-last)... Done. 5.8s\n",
      "  1   10200           9.18       93.80    0.94\n",
      "  1   10400           8.98       93.63    0.94\n",
      "  1   10600           9.00       93.80    0.94\n",
      "  1   10800           9.01       93.81    0.94\n",
      "  1   11000           9.11       93.64    0.94\n",
      "\u001b[34m\u001b[1mwandb\u001b[0m: Adding directory to artifact (./output_tok2vec/model-last)... Done. 3.9s\n",
      "  1   11200           8.86       93.76    0.94\n",
      "  1   11400           8.80       93.93    0.94\n",
      "  1   11600           8.95       93.85    0.94\n",
      "  2   11800           8.96       93.77    0.94\n",
      "  2   12000           8.38       93.99    0.94\n",
      "\u001b[34m\u001b[1mwandb\u001b[0m: Adding directory to artifact (./output_tok2vec/model-last)... Done. 3.8s\n",
      "  2   12200           8.64       93.91    0.94\n",
      "  2   12400           8.44       93.80    0.94\n",
      "  2   12600           8.64       93.79    0.94\n",
      "  2   12800           8.57       93.90    0.94\n",
      "  2   13000           8.49       93.86    0.94\n",
      "\u001b[34m\u001b[1mwandb\u001b[0m: Adding directory to artifact (./output_tok2vec/model-last)... Done. 4.5s\n",
      "  2   13200           8.91       94.01    0.94\n",
      "  2   13400           8.55       93.87    0.94\n",
      "  2   13600           8.60       93.94    0.94\n",
      "  2   13800           8.64       93.92    0.94\n",
      "  2   14000           8.68       94.07    0.94\n",
      "\u001b[34m\u001b[1mwandb\u001b[0m: Adding directory to artifact (./output_tok2vec/model-last)... Done. 3.9s\n",
      "  2   14200           8.65       94.12    0.94\n",
      "  2   14400           8.58       93.98    0.94\n",
      "  2   14600           8.54       93.94    0.94\n",
      "  2   14800           9.02       93.97    0.94\n",
      "  2   15000           8.63       94.08    0.94\n",
      "\u001b[34m\u001b[1mwandb\u001b[0m: Adding directory to artifact (./output_tok2vec/model-last)... Done. 3.6s\n",
      "  2   15200           8.63       93.98    0.94\n",
      "  2   15400           8.85       94.09    0.94\n",
      "  2   15600           8.48       94.19    0.94\n",
      "  2   15800           8.56       94.10    0.94\n",
      "  2   16000           8.56       94.23    0.94\n",
      "\u001b[34m\u001b[1mwandb\u001b[0m: Adding directory to artifact (./output_tok2vec/model-last)... Done. 3.9s\n",
      "  2   16200           8.47       94.11    0.94\n",
      "  2   16400           8.55       94.14    0.94\n",
      "  2   16600           8.64       94.31    0.94\n",
      "  2   16800           8.71       94.20    0.94\n",
      "  3   17000           8.09       94.25    0.94\n",
      "\u001b[34m\u001b[1mwandb\u001b[0m: Adding directory to artifact (./output_tok2vec/model-last)... Done. 3.5s\n",
      "  3   17200           8.06       94.10    0.94\n",
      "  3   17400           8.15       94.21    0.94\n",
      "  3   17600           7.89       94.22    0.94\n",
      "  3   17800           7.93       94.24    0.94\n",
      "  3   18000           8.34       94.21    0.94\n",
      "\u001b[34m\u001b[1mwandb\u001b[0m: Adding directory to artifact (./output_tok2vec/model-last)... Done. 3.6s\n",
      "  3   18200           7.93       94.18    0.94\n",
      "\u001b[34m\u001b[1mwandb\u001b[0m: Waiting for W&B process to finish... \u001b[32m(success).\u001b[0m\n",
      "\u001b[34m\u001b[1mwandb\u001b[0m: \n",
      "\u001b[34m\u001b[1mwandb\u001b[0m: Run history:\n",
      "\u001b[34m\u001b[1mwandb\u001b[0m:          cats_macro_auc ▁▃▅▇▇▇▇█████████████████████████████████\n",
      "\u001b[34m\u001b[1mwandb\u001b[0m:            cats_macro_f ▂▁▂▄▅▆▇▇▇▇▇▇▇███████▇███████████████████\n",
      "\u001b[34m\u001b[1mwandb\u001b[0m:            cats_macro_p ▁▃▆▇▇▇▇▇██████▇█▇███████████████████████\n",
      "\u001b[34m\u001b[1mwandb\u001b[0m:            cats_macro_r ▄▁▁▃▅▅▆▇▆▇▇▇▇█▇██▇█▇▇██▇▇███████▇█▇▇████\n",
      "\u001b[34m\u001b[1mwandb\u001b[0m:            cats_micro_f ▂▁▂▄▆▆▇▇▇▇▇▇▇███████████████████████████\n",
      "\u001b[34m\u001b[1mwandb\u001b[0m:            cats_micro_p ▁▄▇▇▇▇▇▇▇████▇▇▇▇█▇██▇██████████████████\n",
      "\u001b[34m\u001b[1mwandb\u001b[0m:            cats_micro_r ▄▁▁▃▅▅▆▇▇▇▇▇▇█▇██▇█▇▇██▇▇███████▇█▇▇████\n",
      "\u001b[34m\u001b[1mwandb\u001b[0m:              cats_score ▁▃▅▇▇▇▇█████████████████████████████████\n",
      "\u001b[34m\u001b[1mwandb\u001b[0m: loss_textcat_multilabel ▁█▇▆▆▆▅▅▅▅▅▅▅▅▅▄▄▄▅▄▄▄▄▄▄▄▄▄▄▄▄▄▄▄▄▄▄▄▄▄\n",
      "\u001b[34m\u001b[1mwandb\u001b[0m:                   score ▁▃▅▇▇▇▇█████████████████████████████████\n",
      "\u001b[34m\u001b[1mwandb\u001b[0m:                   speed ▄▃▇▇▇▇▇▁▇▆▇▆▆▆▇▆▇█▆▇▁█▇█▇█▇█▇▇▇█▁▇▇██▇█▁\n",
      "\u001b[34m\u001b[1mwandb\u001b[0m:               token_acc ▁▁▁▁▁▁▁▁▁▁▁▁▁▁▁▁▁▁▁▁▁▁▁▁▁▁▁▁▁▁▁▁▁▁▁▁▁▁▁▁\n",
      "\u001b[34m\u001b[1mwandb\u001b[0m:                 token_f ▁▁▁▁▁▁▁▁▁▁▁▁▁▁▁▁▁▁▁▁▁▁▁▁▁▁▁▁▁▁▁▁▁▁▁▁▁▁▁▁\n",
      "\u001b[34m\u001b[1mwandb\u001b[0m:                 token_p ▁▁▁▁▁▁▁▁▁▁▁▁▁▁▁▁▁▁▁▁▁▁▁▁▁▁▁▁▁▁▁▁▁▁▁▁▁▁▁▁\n",
      "\u001b[34m\u001b[1mwandb\u001b[0m:                 token_r ▁▁▁▁▁▁▁▁▁▁▁▁▁▁▁▁▁▁▁▁▁▁▁▁▁▁▁▁▁▁▁▁▁▁▁▁▁▁▁▁\n",
      "\u001b[34m\u001b[1mwandb\u001b[0m: \n",
      "\u001b[34m\u001b[1mwandb\u001b[0m: Run summary:\n",
      "\u001b[34m\u001b[1mwandb\u001b[0m:          cats_macro_auc 0.94185\n",
      "\u001b[34m\u001b[1mwandb\u001b[0m:            cats_macro_f 0.65763\n",
      "\u001b[34m\u001b[1mwandb\u001b[0m:            cats_macro_p 0.76584\n",
      "\u001b[34m\u001b[1mwandb\u001b[0m:            cats_macro_r 0.58133\n",
      "\u001b[34m\u001b[1mwandb\u001b[0m:            cats_micro_f 0.65988\n",
      "\u001b[34m\u001b[1mwandb\u001b[0m:            cats_micro_p 0.76398\n",
      "\u001b[34m\u001b[1mwandb\u001b[0m:            cats_micro_r 0.58074\n",
      "\u001b[34m\u001b[1mwandb\u001b[0m:              cats_score 0.94185\n",
      "\u001b[34m\u001b[1mwandb\u001b[0m:         cats_score_desc macro AUC\n",
      "\u001b[34m\u001b[1mwandb\u001b[0m: loss_textcat_multilabel 7.93265\n",
      "\u001b[34m\u001b[1mwandb\u001b[0m:                   score 0.94185\n",
      "\u001b[34m\u001b[1mwandb\u001b[0m:                   speed 94456.27158\n",
      "\u001b[34m\u001b[1mwandb\u001b[0m:               token_acc 1.0\n",
      "\u001b[34m\u001b[1mwandb\u001b[0m:                 token_f 1.0\n",
      "\u001b[34m\u001b[1mwandb\u001b[0m:                 token_p 1.0\n",
      "\u001b[34m\u001b[1mwandb\u001b[0m:                 token_r 1.0\n",
      "\u001b[34m\u001b[1mwandb\u001b[0m: \n",
      "\u001b[34m\u001b[1mwandb\u001b[0m: 🚀 View run \u001b[33mfearless-pond-41\u001b[0m at: \u001b[34m\u001b[4mhttps://wandb.ai/apersonnaz/my_spacy_project/runs/r70w9wfk\u001b[0m\n",
      "\u001b[34m\u001b[1mwandb\u001b[0m: Synced 5 W&B file(s), 0 media file(s), 180 artifact file(s) and 0 other file(s)\n",
      "\u001b[34m\u001b[1mwandb\u001b[0m: Find logs at: \u001b[35m\u001b[1m./wandb/run-20230317_122118-r70w9wfk/logs\u001b[0m\n",
      "\u001b[38;5;2m✔ Saved pipeline to output directory\u001b[0m\n",
      "output_tok2vec/model-last\n"
     ]
    }
   ],
   "source": [
    "!python3 -m spacy train config_tok2vec.cfg --output ./output_tok2vec --paths.train ./text_train_bow.spacy --paths.dev ./text_test_bow.spacy --gpu-id 0"
   ]
  },
  {
   "cell_type": "markdown",
   "metadata": {},
   "source": [
    "#### Code"
   ]
  },
  {
   "cell_type": "code",
   "execution_count": null,
   "metadata": {},
   "outputs": [
    {
     "name": "stdout",
     "output_type": "stream",
     "text": [
      "2023-03-17 13:34:36.026104: I tensorflow/core/platform/cpu_feature_guard.cc:193] This TensorFlow binary is optimized with oneAPI Deep Neural Network Library (oneDNN) to use the following CPU instructions in performance-critical operations:  AVX2 FMA\n",
      "To enable them in other operations, rebuild TensorFlow with the appropriate compiler flags.\n",
      "2023-03-17 13:34:37.612346: I tensorflow/compiler/xla/stream_executor/cuda/cuda_gpu_executor.cc:981] successful NUMA node read from SysFS had negative value (-1), but there must be at least one NUMA node, so returning NUMA node zero\n",
      "2023-03-17 13:34:37.612711: I tensorflow/compiler/xla/stream_executor/cuda/cuda_gpu_executor.cc:981] successful NUMA node read from SysFS had negative value (-1), but there must be at least one NUMA node, so returning NUMA node zero\n",
      "2023-03-17 13:34:37.612871: I tensorflow/compiler/xla/stream_executor/cuda/cuda_gpu_executor.cc:981] successful NUMA node read from SysFS had negative value (-1), but there must be at least one NUMA node, so returning NUMA node zero\n",
      "\u001b[38;5;4mℹ Saving to output directory: output_code_tok2vec\u001b[0m\n",
      "\u001b[38;5;4mℹ Using GPU: 0\u001b[0m\n",
      "\u001b[1m\n",
      "=========================== Initializing pipeline ===========================\u001b[0m\n",
      "[2023-03-17 13:34:42,731] [INFO] Set up nlp object from config\n",
      "[2023-03-17 13:34:43,319] [INFO] Pipeline: ['textcat_multilabel']\n",
      "[2023-03-17 13:34:43,322] [INFO] Created vocabulary\n",
      "[2023-03-17 13:34:45,466] [INFO] Added vectors: en_core_web_lg\n",
      "[2023-03-17 13:34:46,990] [INFO] Finished initializing nlp object\n",
      "[2023-03-17 13:35:22,916] [INFO] Initialized pipeline components: ['textcat_multilabel']\n",
      "\u001b[38;5;2m✔ Initialized pipeline\u001b[0m\n",
      "\u001b[1m\n",
      "============================= Training pipeline =============================\u001b[0m\n",
      "\u001b[38;5;4mℹ Pipeline: ['textcat_multilabel']\u001b[0m\n",
      "\u001b[38;5;4mℹ Initial learn rate: 0.001\u001b[0m\n",
      "\u001b[34m\u001b[1mwandb\u001b[0m: Currently logged in as: \u001b[33mapersonnaz\u001b[0m. Use \u001b[1m`wandb login --relogin`\u001b[0m to force relogin\n",
      "\u001b[34m\u001b[1mwandb\u001b[0m: Tracking run with wandb version 0.14.0\n",
      "\u001b[34m\u001b[1mwandb\u001b[0m: Run data is saved locally in \u001b[35m\u001b[1m/home/aurelien/Documents/ocr/OCR_IML_projet5/wandb/run-20230317_133524-x7mll9zs\u001b[0m\n",
      "\u001b[34m\u001b[1mwandb\u001b[0m: Run \u001b[1m`wandb offline`\u001b[0m to turn off syncing.\n",
      "\u001b[34m\u001b[1mwandb\u001b[0m: Syncing run \u001b[33mwise-salad-42\u001b[0m\n",
      "\u001b[34m\u001b[1mwandb\u001b[0m: ⭐️ View project at \u001b[34m\u001b[4mhttps://wandb.ai/apersonnaz/my_spacy_project\u001b[0m\n",
      "\u001b[34m\u001b[1mwandb\u001b[0m: 🚀 View run at \u001b[34m\u001b[4mhttps://wandb.ai/apersonnaz/my_spacy_project/runs/x7mll9zs\u001b[0m\n",
      "E    #       LOSS TEXTC...  CATS_SCORE  SCORE \n",
      "---  ------  -------------  ----------  ------\n",
      "  0       0           0.23       48.30    0.48\n",
      "  0     200          19.16       62.65    0.63\n",
      "  0     400          16.50       71.57    0.72\n",
      "  0     600          15.38       77.15    0.77\n",
      "  0     800          15.09       80.80    0.81\n",
      "  0    1000          13.70       82.69    0.83\n",
      "\u001b[34m\u001b[1mwandb\u001b[0m: Adding directory to artifact (./output_code_tok2vec/model-last)... Done. 37.5s\n",
      "  0    1200          12.48       83.16    0.83\n",
      "  0    1400          12.50       84.53    0.85\n",
      "  0    1600          11.74       85.02    0.85\n",
      "  0    1800          11.48       85.80    0.86\n",
      "  0    2000          11.67       85.91    0.86\n",
      "\u001b[34m\u001b[1mwandb\u001b[0m: Adding directory to artifact (./output_code_tok2vec/model-last)... Done. 86.6s\n",
      "  0    2200          11.16       86.86    0.87\n",
      "  0    2400          10.71       87.50    0.88\n",
      "  0    2600          10.58       88.31    0.88\n",
      "  0    2800          10.62       88.67    0.89\n",
      "  0    3000          10.48       88.81    0.89\n",
      "\u001b[34m\u001b[1mwandb\u001b[0m: Adding directory to artifact (./output_code_tok2vec/model-last)... Done. 58.7s\n",
      "  0    3200          10.49       89.17    0.89\n",
      "  0    3400          10.27       89.21    0.89\n",
      "  0    3600          10.21       89.35    0.89\n",
      "  0    3800          10.27       89.65    0.90\n",
      "  0    4000          10.04       90.07    0.90\n",
      "\u001b[34m\u001b[1mwandb\u001b[0m: Adding directory to artifact (./output_code_tok2vec/model-last)... Done. 69.5s\n",
      "  0    4200           9.88       90.27    0.90\n",
      "  0    4400           9.83       90.20    0.90\n",
      "  0    4600           9.79       90.72    0.91\n",
      "  0    4800           9.60       90.79    0.91\n",
      "  1    5000           8.93       90.96    0.91\n",
      "\u001b[34m\u001b[1mwandb\u001b[0m: Adding directory to artifact (./output_code_tok2vec/model-last)... Done. 82.7s\n",
      "  1    5200           9.20       90.63    0.91\n",
      "  1    5400           8.94       90.79    0.91\n",
      "  1    5600           9.17       90.77    0.91\n",
      "  1    5800           9.21       91.10    0.91\n",
      "  1    6000           9.16       91.11    0.91\n",
      "\u001b[34m\u001b[1mwandb\u001b[0m: Adding directory to artifact (./output_code_tok2vec/model-last)... Done. 59.7s\n",
      "  1    6200           8.90       91.35    0.91\n",
      "  1    6400           8.97       91.24    0.91\n",
      "  1    6600           9.10       91.42    0.91\n",
      "  1    6800           9.09       91.61    0.92\n",
      "  1    7000           9.08       91.56    0.92\n",
      "\u001b[34m\u001b[1mwandb\u001b[0m: Adding directory to artifact (./output_code_tok2vec/model-last)... Done. 96.3s\n",
      "  1    7200           9.03       91.33    0.91\n",
      "  1    7400           9.04       91.48    0.91\n",
      "  1    7600           9.13       91.53    0.92\n",
      "  1    7800           9.07       91.55    0.92\n",
      "  1    8000           8.84       91.87    0.92\n",
      "\u001b[34m\u001b[1mwandb\u001b[0m: Adding directory to artifact (./output_code_tok2vec/model-last)... Done. 93.2s\n",
      "  1    8200           8.87       91.75    0.92\n",
      "  2    8400           8.20       92.04    0.92\n",
      "  2    8600           8.20       92.12    0.92\n",
      "  2    8800           8.33       91.98    0.92\n",
      "  2    9000           8.49       92.07    0.92\n",
      "\u001b[34m\u001b[1mwandb\u001b[0m: Adding directory to artifact (./output_code_tok2vec/model-last)... Done. 51.1s\n",
      "  2    9200           8.26       91.87    0.92\n",
      "  2    9400           8.33       92.11    0.92\n",
      "  2    9600           8.75       91.96    0.92\n",
      "  2    9800           8.37       92.33    0.92\n",
      "  2   10000           8.56       92.15    0.92\n",
      "\u001b[34m\u001b[1mwandb\u001b[0m: Adding directory to artifact (./output_code_tok2vec/model-last)... Done. 48.4s\n",
      "  2   10200           8.73       92.10    0.92\n",
      "  2   10400           8.51       92.00    0.92\n",
      "  2   10600           8.41       92.01    0.92\n",
      "  2   10800           8.57       92.28    0.92\n",
      "  2   11000           8.41       92.42    0.92\n",
      "\u001b[34m\u001b[1mwandb\u001b[0m: Adding directory to artifact (./output_code_tok2vec/model-last)... Done. 58.9s\n",
      "  2   11200           8.62       92.50    0.93\n",
      "  2   11400           8.47       92.50    0.93\n",
      "  3   11600           8.44       92.44    0.92\n",
      "  3   11800           7.97       92.39    0.92\n",
      "  3   12000           8.05       92.66    0.93\n",
      "\u001b[34m\u001b[1mwandb\u001b[0m: Adding directory to artifact (./output_code_tok2vec/model-last)... Done. 39.2s\n",
      "  3   12200           7.96       92.51    0.93\n",
      "  3   12400           7.73       92.60    0.93\n",
      "  3   12600           7.92       92.61    0.93\n",
      "  3   12800           7.86       92.71    0.93\n",
      "  3   13000           8.30       92.58    0.93\n",
      "\u001b[34m\u001b[1mwandb\u001b[0m: Adding directory to artifact (./output_code_tok2vec/model-last)... Done. 33.7s\n",
      "  3   13200           8.23       92.60    0.93\n",
      "  3   13400           8.10       92.46    0.92\n",
      "  3   13600           7.99       92.47    0.92\n",
      "  3   13800           8.06       92.52    0.93\n",
      "  3   14000           8.28       92.63    0.93\n",
      "\u001b[34m\u001b[1mwandb\u001b[0m: Adding directory to artifact (./output_code_tok2vec/model-last)... Done. 23.1s\n",
      "  3   14200           8.24       92.70    0.93\n",
      "  3   14400           8.10       92.63    0.93\n",
      "\u001b[34m\u001b[1mwandb\u001b[0m: Waiting for W&B process to finish... \u001b[32m(success).\u001b[0m\n",
      "\u001b[34m\u001b[1mwandb\u001b[0m: \n",
      "\u001b[34m\u001b[1mwandb\u001b[0m: Run history:\n",
      "\u001b[34m\u001b[1mwandb\u001b[0m:          cats_macro_auc ▁▃▆▆▇▇▇▇▇▇▇█████████████████████████████\n",
      "\u001b[34m\u001b[1mwandb\u001b[0m:            cats_macro_f ▁▁▃▅▆▆▆▇▇▇▇▇▇██▇▇███▇█████▇█████████████\n",
      "\u001b[34m\u001b[1mwandb\u001b[0m:            cats_macro_p ▁▃▆▇▇▇▇▇████████████████████████████████\n",
      "\u001b[34m\u001b[1mwandb\u001b[0m:            cats_macro_r ▄▁▃▅▅▆▆▆▆▇▇▇▇▇█▇▇▇▇▇▇█▇▇▇▇▇█▇▇██████████\n",
      "\u001b[34m\u001b[1mwandb\u001b[0m:            cats_micro_f ▁▁▄▅▆▆▇▇▇▇▇▇▇███▇███▇█████▇█████████████\n",
      "\u001b[34m\u001b[1mwandb\u001b[0m:            cats_micro_p ▁▄▆▇▇▇▇▇██████▇█████████████████████▇███\n",
      "\u001b[34m\u001b[1mwandb\u001b[0m:            cats_micro_r ▄▁▃▅▅▅▆▆▆▇▇▇▇▇█▇▇▇█▇▇█▇▇▇▇▇█▇▇██████████\n",
      "\u001b[34m\u001b[1mwandb\u001b[0m:              cats_score ▁▃▆▆▇▇▇▇▇▇▇█████████████████████████████\n",
      "\u001b[34m\u001b[1mwandb\u001b[0m: loss_textcat_multilabel ▁█▇▆▆▅▅▅▅▅▅▅▅▄▄▄▄▄▄▄▄▄▄▄▄▄▄▄▄▄▄▄▄▄▄▄▄▄▄▄\n",
      "\u001b[34m\u001b[1mwandb\u001b[0m:                   score ▁▃▆▆▇▇▇▇▇▇▇█████████████████████████████\n",
      "\u001b[34m\u001b[1mwandb\u001b[0m:                   speed ▇█▅▇██▇▅█▆▇▇▇▆▄▇▆▇▅▇▇▇▇▆▄▅▇▆▁▄▄▅▄▇▇▅▄█▇█\n",
      "\u001b[34m\u001b[1mwandb\u001b[0m:               token_acc ▁▁▁▁▁▁▁▁▁▁▁▁▁▁▁▁▁▁▁▁▁▁▁▁▁▁▁▁▁▁▁▁▁▁▁▁▁▁▁▁\n",
      "\u001b[34m\u001b[1mwandb\u001b[0m:                 token_f ▁▁▁▁▁▁▁▁▁▁▁▁▁▁▁▁▁▁▁▁▁▁▁▁▁▁▁▁▁▁▁▁▁▁▁▁▁▁▁▁\n",
      "\u001b[34m\u001b[1mwandb\u001b[0m:                 token_p ▁▁▁▁▁▁▁▁▁▁▁▁▁▁▁▁▁▁▁▁▁▁▁▁▁▁▁▁▁▁▁▁▁▁▁▁▁▁▁▁\n",
      "\u001b[34m\u001b[1mwandb\u001b[0m:                 token_r ▁▁▁▁▁▁▁▁▁▁▁▁▁▁▁▁▁▁▁▁▁▁▁▁▁▁▁▁▁▁▁▁▁▁▁▁▁▁▁▁\n",
      "\u001b[34m\u001b[1mwandb\u001b[0m: \n",
      "\u001b[34m\u001b[1mwandb\u001b[0m: Run summary:\n",
      "\u001b[34m\u001b[1mwandb\u001b[0m:          cats_macro_auc 0.92632\n",
      "\u001b[34m\u001b[1mwandb\u001b[0m:            cats_macro_f 0.62838\n",
      "\u001b[34m\u001b[1mwandb\u001b[0m:            cats_macro_p 0.75571\n",
      "\u001b[34m\u001b[1mwandb\u001b[0m:            cats_macro_r 0.55893\n",
      "\u001b[34m\u001b[1mwandb\u001b[0m:            cats_micro_f 0.64971\n",
      "\u001b[34m\u001b[1mwandb\u001b[0m:            cats_micro_p 0.75626\n",
      "\u001b[34m\u001b[1mwandb\u001b[0m:            cats_micro_r 0.56947\n",
      "\u001b[34m\u001b[1mwandb\u001b[0m:              cats_score 0.92632\n",
      "\u001b[34m\u001b[1mwandb\u001b[0m:         cats_score_desc macro AUC\n",
      "\u001b[34m\u001b[1mwandb\u001b[0m: loss_textcat_multilabel 8.09935\n",
      "\u001b[34m\u001b[1mwandb\u001b[0m:                   score 0.92632\n",
      "\u001b[34m\u001b[1mwandb\u001b[0m:                   speed 90503.39666\n",
      "\u001b[34m\u001b[1mwandb\u001b[0m:               token_acc 1.0\n",
      "\u001b[34m\u001b[1mwandb\u001b[0m:                 token_f 1.0\n",
      "\u001b[34m\u001b[1mwandb\u001b[0m:                 token_p 1.0\n",
      "\u001b[34m\u001b[1mwandb\u001b[0m:                 token_r 1.0\n",
      "\u001b[34m\u001b[1mwandb\u001b[0m: \n",
      "\u001b[34m\u001b[1mwandb\u001b[0m: 🚀 View run \u001b[33mwise-salad-42\u001b[0m at: \u001b[34m\u001b[4mhttps://wandb.ai/apersonnaz/my_spacy_project/runs/x7mll9zs\u001b[0m\n",
      "\u001b[34m\u001b[1mwandb\u001b[0m: Synced 5 W&B file(s), 0 media file(s), 140 artifact file(s) and 0 other file(s)\n",
      "\u001b[34m\u001b[1mwandb\u001b[0m: Find logs at: \u001b[35m\u001b[1m./wandb/run-20230317_133524-x7mll9zs/logs\u001b[0m\n",
      "\u001b[38;5;2m✔ Saved pipeline to output directory\u001b[0m\n",
      "output_code_tok2vec/model-last\n"
     ]
    }
   ],
   "source": [
    "!python3 -m spacy train config_tok2vec.cfg --output ./output_code_tok2vec --paths.train ./code_train_bow.spacy --paths.dev ./code_test_bow.spacy --gpu-id 0"
   ]
  },
  {
   "cell_type": "markdown",
   "metadata": {},
   "source": [
    "#### Evaluation"
   ]
  },
  {
   "cell_type": "code",
   "execution_count": null,
   "metadata": {},
   "outputs": [
    {
     "name": "stderr",
     "output_type": "stream",
     "text": [
      "100%|██████████| 14152/14152 [00:06<00:00, 2082.93it/s]\n",
      "100%|██████████| 14152/14152 [00:07<00:00, 2010.20it/s]\n",
      "/tmp/ipykernel_5298/308916592.py:13: SettingWithCopyWarning: \n",
      "A value is trying to be set on a copy of a slice from a DataFrame.\n",
      "Try using .loc[row_indexer,col_indexer] = value instead\n",
      "\n",
      "See the caveats in the documentation: https://pandas.pydata.org/pandas-docs/stable/user_guide/indexing.html#returning-a-view-versus-a-copy\n",
      "  val_tok2vec[val_tok2vec.text == \"\"].text_cats = dict.fromkeys(selected_tags, 0)\n",
      "/tmp/ipykernel_5298/308916592.py:15: SettingWithCopyWarning: \n",
      "A value is trying to be set on a copy of a slice from a DataFrame.\n",
      "Try using .loc[row_indexer,col_indexer] = value instead\n",
      "\n",
      "See the caveats in the documentation: https://pandas.pydata.org/pandas-docs/stable/user_guide/indexing.html#returning-a-view-versus-a-copy\n",
      "  val_tok2vec[val_tok2vec.code == \"\"].code_cats = dict.fromkeys(selected_tags, 0)\n"
     ]
    }
   ],
   "source": [
    "val_tok2vec = val_bow.loc[:]\n",
    "nlp_text = spacy.load(\"./output_tok2vec/model-best\")\n",
    "nlp_code = spacy.load(\"./output_code_tok2vec/model-best\")\n",
    "text_cats = []\n",
    "code_cats = []\n",
    "for summary in tqdm(nlp_text.pipe(val_tok2vec[\"texts_processed\"].values), total=len(val_tok2vec)):\n",
    "    text_cats.append(summary.cats)\n",
    "\n",
    "for summary in tqdm(nlp_code.pipe(val_tok2vec[\"codes_processed\"].values), total=len(val_tok2vec)):\n",
    "    code_cats.append(summary.cats)\n",
    "\n",
    "val_tok2vec[\"text_cats\"] = text_cats\n",
    "val_tok2vec[val_tok2vec.text == \"\"].text_cats = dict.fromkeys(selected_tags, 0)\n",
    "val_tok2vec[\"code_cats\"] = code_cats\n",
    "val_tok2vec[val_tok2vec.code == \"\"].code_cats = dict.fromkeys(selected_tags, 0)\n"
   ]
  },
  {
   "cell_type": "code",
   "execution_count": null,
   "metadata": {},
   "outputs": [
    {
     "name": "stderr",
     "output_type": "stream",
     "text": [
      "/home/aurelien/.local/lib/python3.10/site-packages/sklearn/metrics/_classification.py:1318: UndefinedMetricWarning: Precision is ill-defined and being set to 0.0 in samples with no predicted labels. Use `zero_division` parameter to control this behavior.\n",
      "  _warn_prf(average, modifier, msg_start, len(result))\n",
      "/home/aurelien/.local/lib/python3.10/site-packages/sklearn/metrics/_classification.py:1318: UndefinedMetricWarning: Precision is ill-defined and being set to 0.0 in samples with no predicted labels. Use `zero_division` parameter to control this behavior.\n",
      "  _warn_prf(average, modifier, msg_start, len(result))\n",
      "/home/aurelien/.local/lib/python3.10/site-packages/sklearn/metrics/_classification.py:1318: UndefinedMetricWarning: Precision is ill-defined and being set to 0.0 in samples with no predicted labels. Use `zero_division` parameter to control this behavior.\n",
      "  _warn_prf(average, modifier, msg_start, len(result))\n"
     ]
    },
    {
     "name": "stdout",
     "output_type": "stream",
     "text": [
      "======= text ==========\n",
      "Roc auc for each tag:\n",
      "[('.net', 0.6421738546586514), ('android', 0.8807337192195761), ('c', 0.7965499808922081), ('c#', 0.7380627650712426), ('c++', 0.718745238765006), ('css', 0.8528525867491494), ('html', 0.792017609560249), ('ios', 0.7830064177346702), ('iphone', 0.665392220285253), ('java', 0.771801953182504), ('javascript', 0.8119293888438004), ('jquery', 0.832020834035505), ('node.js', 0.8196238383189313), ('objective-c', 0.6038419139093959), ('php', 0.8302391235253427), ('python', 0.8801803381366468)]\n",
      "Roc auc macro average: 0.776\n",
      "Jaccard score sample average: 0.533\n",
      "Jaccard score macro average: 0.486\n",
      "Jaccard score micro average: 0.483\n",
      "f1 score sample average: 0.585\n",
      "f1 score macro average: 0.641\n",
      "f1 score micro average: 0.652\n",
      "precision score sample average: 0.613\n",
      "precision score macro average: 0.754\n",
      "precision score micro average: 0.744\n",
      "recall score sample average: 0.605\n",
      "recall score macro average: 0.574\n",
      "recall score micro average: 0.580\n",
      "======= code ==========\n",
      "Roc auc for each tag:\n",
      "[('.net', 0.6002668716090207), ('android', 0.7431834972600363), ('c', 0.7388924816042166), ('c#', 0.7260139695923068), ('c++', 0.697964738350655), ('css', 0.807689796929288), ('html', 0.7150599624483918), ('ios', 0.7110989711456355), ('iphone', 0.6276259641200366), ('java', 0.7048169043203596), ('javascript', 0.7214736670564063), ('jquery', 0.675731020901444), ('node.js', 0.7605714176105575), ('objective-c', 0.6920394652924737), ('php', 0.703084495948223), ('python', 0.787992667051833)]\n",
      "Roc auc macro average: 0.713\n",
      "Jaccard score sample average: 0.411\n",
      "Jaccard score macro average: 0.382\n",
      "Jaccard score micro average: 0.381\n",
      "f1 score sample average: 0.451\n",
      "f1 score macro average: 0.546\n",
      "f1 score micro average: 0.552\n",
      "precision score sample average: 0.469\n",
      "precision score macro average: 0.724\n",
      "precision score micro average: 0.722\n",
      "recall score sample average: 0.470\n",
      "recall score macro average: 0.445\n",
      "recall score micro average: 0.447\n",
      "======= union ==========\n",
      "Roc auc for each tag:\n",
      "[('.net', 0.7071332630606684), ('android', 0.9264158191945214), ('c', 0.8632387846210512), ('c#', 0.8433064624297355), ('c++', 0.7872971390774798), ('css', 0.9156345342496812), ('html', 0.8400022468078767), ('ios', 0.8631867008477109), ('iphone', 0.7544810699221645), ('java', 0.8507429362190034), ('javascript', 0.8600965821987901), ('jquery', 0.8678235245968731), ('node.js', 0.8911862094430645), ('objective-c', 0.7589512385247197), ('php', 0.8965824825915981), ('python', 0.9499879063390853)]\n",
      "Roc auc macro average: 0.849\n",
      "Jaccard score sample average: 0.619\n",
      "Jaccard score macro average: 0.562\n",
      "Jaccard score micro average: 0.556\n",
      "f1 score sample average: 0.689\n",
      "f1 score macro average: 0.713\n",
      "f1 score micro average: 0.715\n",
      "precision score sample average: 0.684\n",
      "precision score macro average: 0.703\n",
      "precision score micro average: 0.695\n",
      "recall score sample average: 0.762\n",
      "recall score macro average: 0.732\n",
      "recall score micro average: 0.736\n",
      "======= intersection ==========\n",
      "Roc auc for each tag:\n",
      "[('.net', 0.5353074632070038), ('android', 0.6975013972850912), ('c', 0.6722036778753735), ('c#', 0.6207702722338139), ('c++', 0.6294128380381812), ('css', 0.7449078494287561), ('html', 0.667075325200764), ('ios', 0.6309186880325948), ('iphone', 0.538537114483125), ('java', 0.62587592128386), ('javascript', 0.6733064737014163), ('jquery', 0.6399283303400758), ('node.js', 0.6890090464864242), ('objective-c', 0.53693014067715), ('php', 0.6367411368819675), ('python', 0.7181850988493946)]\n",
      "Roc auc macro average: 0.641\n",
      "Jaccard score sample average: 0.297\n",
      "Jaccard score macro average: 0.276\n",
      "Jaccard score micro average: 0.277\n",
      "f1 score sample average: 0.322\n",
      "f1 score macro average: 0.418\n",
      "f1 score micro average: 0.434\n",
      "precision score sample average: 0.357\n",
      "precision score macro average: 0.851\n",
      "precision score micro average: 0.858\n",
      "recall score sample average: 0.313\n",
      "recall score macro average: 0.287\n",
      "recall score micro average: 0.290\n"
     ]
    },
    {
     "name": "stderr",
     "output_type": "stream",
     "text": [
      "/home/aurelien/.local/lib/python3.10/site-packages/sklearn/metrics/_classification.py:1318: UndefinedMetricWarning: Precision is ill-defined and being set to 0.0 in samples with no predicted labels. Use `zero_division` parameter to control this behavior.\n",
      "  _warn_prf(average, modifier, msg_start, len(result))\n"
     ]
    }
   ],
   "source": [
    "THRESHOLD = 0.5\n",
    "y_pred_text = [[x for x in selected_tags if y[x] > THRESHOLD]\n",
    "               for y in val_tok2vec.text_cats.values]\n",
    "y_pred_code = [[x for x in selected_tags if y[x] > THRESHOLD]\n",
    "               for y in val_tok2vec.code_cats.values]\n",
    "\n",
    "y_pred_text = mlb.transform(y_pred_text)\n",
    "y_pred_code = mlb.transform(y_pred_code)\n",
    "\n",
    "evaluate_predictions(y, y_pred_text, y_pred_code, mlb, \"tok2vec\")\n"
   ]
  },
  {
   "attachments": {},
   "cell_type": "markdown",
   "metadata": {},
   "source": [
    "### RoBertA with spacy\n"
   ]
  },
  {
   "cell_type": "code",
   "execution_count": 7,
   "metadata": {},
   "outputs": [
    {
     "name": "stderr",
     "output_type": "stream",
     "text": [
      "loading configuration file /tmp/tmp0lge8o9t/config.json\n",
      "Model config RobertaConfig {\n",
      "  \"_name_or_path\": \"/tmp/tmp0lge8o9t/config.json\",\n",
      "  \"architectures\": [\n",
      "    \"RobertaForMaskedLM\"\n",
      "  ],\n",
      "  \"attention_probs_dropout_prob\": 0.1,\n",
      "  \"bos_token_id\": 0,\n",
      "  \"classifier_dropout\": null,\n",
      "  \"eos_token_id\": 2,\n",
      "  \"hidden_act\": \"gelu\",\n",
      "  \"hidden_dropout_prob\": 0.1,\n",
      "  \"hidden_size\": 768,\n",
      "  \"initializer_range\": 0.02,\n",
      "  \"intermediate_size\": 3072,\n",
      "  \"layer_norm_eps\": 1e-05,\n",
      "  \"max_position_embeddings\": 514,\n",
      "  \"model_type\": \"roberta\",\n",
      "  \"num_attention_heads\": 12,\n",
      "  \"num_hidden_layers\": 12,\n",
      "  \"pad_token_id\": 1,\n",
      "  \"position_embedding_type\": \"absolute\",\n",
      "  \"transformers_version\": \"4.26.1\",\n",
      "  \"type_vocab_size\": 1,\n",
      "  \"use_cache\": true,\n",
      "  \"vocab_size\": 50265\n",
      "}\n",
      "\n",
      "loading file vocab.json\n",
      "loading file merges.txt\n",
      "loading file tokenizer.json\n",
      "loading file added_tokens.json\n",
      "loading file special_tokens_map.json\n",
      "loading file tokenizer_config.json\n"
     ]
    }
   ],
   "source": [
    "nlp = spacy.load(\"en_core_web_trf\")"
   ]
  },
  {
   "cell_type": "markdown",
   "metadata": {},
   "source": [
    "\n",
    "#### Text"
   ]
  },
  {
   "cell_type": "code",
   "execution_count": null,
   "metadata": {},
   "outputs": [
    {
     "name": "stdout",
     "output_type": "stream",
     "text": [
      "preprocessing\n"
     ]
    },
    {
     "name": "stderr",
     "output_type": "stream",
     "text": [
      "100%|██████████| 5413/5413 [00:42<00:00, 127.96it/s]\n",
      "100%|██████████| 5322/5322 [01:00<00:00, 87.44it/s] \n"
     ]
    }
   ],
   "source": [
    "train_df = sample_train[~sample_train.text.isna()].loc[:]\n",
    "train_df[\"text_processed\"] = preprocess_transformers(train_df.text, nlp)\n",
    "test_df = sample_test[~sample_test.text.isna()].sample(\n",
    "    round(len(sample_test)/4))\n",
    "test_df[\"text_processed\"] = preprocess_transformers(\n",
    "    test_df.text, nlp)\n",
    "validation_df = sample_validation[~sample_validation.text.isna()].loc[:]\n",
    "validation_df[\"text_processed\"] = preprocess_transformers(\n",
    "    validation_df.text, nlp)\n",
    "convert(train_df.loc[:, [\"text_processed\", \"tag_list\"]],\n",
    "        'text_train_transformer.spacy', nlp)\n",
    "convert(test_df.loc[:, [\"text_processed\",\n",
    "        \"tag_list\"]], 'text_test_transformer.spacy', nlp)\n",
    "convert(validation_df.loc[:, [\n",
    "        \"text_processed\", \"tag_list\"]], 'text_validation_transformer.spacy', nlp)\n"
   ]
  },
  {
   "cell_type": "code",
   "execution_count": null,
   "metadata": {},
   "outputs": [
    {
     "name": "stdout",
     "output_type": "stream",
     "text": [
      "2023-03-16 16:03:36.530246: I tensorflow/core/platform/cpu_feature_guard.cc:193] This TensorFlow binary is optimized with oneAPI Deep Neural Network Library (oneDNN) to use the following CPU instructions in performance-critical operations:  AVX2 FMA\n",
      "To enable them in other operations, rebuild TensorFlow with the appropriate compiler flags.\n",
      "2023-03-16 16:03:38.978276: I tensorflow/compiler/xla/stream_executor/cuda/cuda_gpu_executor.cc:981] successful NUMA node read from SysFS had negative value (-1), but there must be at least one NUMA node, so returning NUMA node zero\n",
      "2023-03-16 16:03:38.978632: I tensorflow/compiler/xla/stream_executor/cuda/cuda_gpu_executor.cc:981] successful NUMA node read from SysFS had negative value (-1), but there must be at least one NUMA node, so returning NUMA node zero\n",
      "2023-03-16 16:03:38.978786: I tensorflow/compiler/xla/stream_executor/cuda/cuda_gpu_executor.cc:981] successful NUMA node read from SysFS had negative value (-1), but there must be at least one NUMA node, so returning NUMA node zero\n",
      "\u001b[38;5;4mℹ Saving to output directory: output_transformer\u001b[0m\n",
      "\u001b[38;5;4mℹ Using GPU: 0\u001b[0m\n",
      "\u001b[1m\n",
      "=========================== Initializing pipeline ===========================\u001b[0m\n",
      "[2023-03-16 16:03:44,086] [INFO] Set up nlp object from config\n",
      "[2023-03-16 16:03:44,762] [INFO] Pipeline: ['transformer', 'textcat_multilabel']\n",
      "[2023-03-16 16:03:44,765] [INFO] Created vocabulary\n",
      "[2023-03-16 16:03:44,767] [INFO] Finished initializing nlp object\n",
      "Some weights of the model checkpoint at roberta-base were not used when initializing RobertaModel: ['lm_head.dense.weight', 'lm_head.bias', 'lm_head.layer_norm.weight', 'lm_head.layer_norm.bias', 'lm_head.decoder.weight', 'lm_head.dense.bias']\n",
      "- This IS expected if you are initializing RobertaModel from the checkpoint of a model trained on another task or with another architecture (e.g. initializing a BertForSequenceClassification model from a BertForPreTraining model).\n",
      "- This IS NOT expected if you are initializing RobertaModel from the checkpoint of a model that you expect to be exactly identical (initializing a BertForSequenceClassification model from a BertForSequenceClassification model).\n",
      "[2023-03-16 16:04:56,451] [INFO] Initialized pipeline components: ['transformer', 'textcat_multilabel']\n",
      "\u001b[38;5;2m✔ Initialized pipeline\u001b[0m\n",
      "\u001b[1m\n",
      "============================= Training pipeline =============================\u001b[0m\n",
      "\u001b[38;5;4mℹ Pipeline: ['transformer', 'textcat_multilabel']\u001b[0m\n",
      "\u001b[38;5;4mℹ Initial learn rate: 0.0\u001b[0m\n",
      "\u001b[34m\u001b[1mwandb\u001b[0m: Currently logged in as: \u001b[33mapersonnaz\u001b[0m. Use \u001b[1m`wandb login --relogin`\u001b[0m to force relogin\n",
      "\u001b[34m\u001b[1mwandb\u001b[0m: wandb version 0.14.0 is available!  To upgrade, please run:\n",
      "\u001b[34m\u001b[1mwandb\u001b[0m:  $ pip install wandb --upgrade\n",
      "\u001b[34m\u001b[1mwandb\u001b[0m: Tracking run with wandb version 0.13.11\n",
      "\u001b[34m\u001b[1mwandb\u001b[0m: Run data is saved locally in \u001b[35m\u001b[1m/home/aurelien/Documents/ocr/OCR_IML_projet5/wandb/run-20230316_160457-ogpumat3\u001b[0m\n",
      "\u001b[34m\u001b[1mwandb\u001b[0m: Run \u001b[1m`wandb offline`\u001b[0m to turn off syncing.\n",
      "\u001b[34m\u001b[1mwandb\u001b[0m: Syncing run \u001b[33mfanciful-haze-34\u001b[0m\n",
      "\u001b[34m\u001b[1mwandb\u001b[0m: ⭐️ View project at \u001b[34m\u001b[4mhttps://wandb.ai/apersonnaz/my_spacy_project\u001b[0m\n",
      "\u001b[34m\u001b[1mwandb\u001b[0m: 🚀 View run at \u001b[34m\u001b[4mhttps://wandb.ai/apersonnaz/my_spacy_project/runs/ogpumat3\u001b[0m\n",
      "E    #       LOSS TRANS...  LOSS TEXTC...  CATS_SCORE  SCORE \n",
      "---  ------  -------------  -------------  ----------  ------\n",
      "  0       0           0.00           0.28       47.91    0.48\n",
      "  0     200           3.77          70.76       85.01    0.85\n",
      "  0     400           2.11          44.35       88.98    0.89\n",
      "  0     600           2.23          39.66       90.51    0.91\n",
      "  0     800           2.03          35.19       91.21    0.91\n",
      "  0    1000           2.23          34.45       92.51    0.93\n",
      "\u001b[34m\u001b[1mwandb\u001b[0m: Adding directory to artifact (./output_transformer/model-last)... Done. 3.3s\n",
      "  0    1200           2.10          35.22       93.05    0.93\n",
      "  0    1400           2.05          33.39       93.20    0.93\n",
      "  0    1600           2.06          32.56       93.76    0.94\n",
      "  0    1800           1.89          31.59       93.98    0.94\n",
      "  0    2000           2.03          31.22       93.51    0.94\n",
      "\u001b[34m\u001b[1mwandb\u001b[0m: Adding directory to artifact (./output_transformer/model-last)... Done. 2.9s\n",
      "  0    2200           2.12          32.02       94.10    0.94\n",
      "  0    2400           2.10          30.57       94.44    0.94\n",
      "  0    2600           1.85          29.41       94.55    0.95\n",
      "  0    2800           2.06          30.23       94.55    0.95\n",
      "  0    3000           1.92          29.98       94.71    0.95\n",
      "\u001b[34m\u001b[1mwandb\u001b[0m: Adding directory to artifact (./output_transformer/model-last)... Done. 3.4s\n",
      "  0    3200           1.88          29.46       94.73    0.95\n",
      "  0    3400           1.99          30.93       94.67    0.95\n",
      "  0    3600           1.99          28.28       95.05    0.95\n",
      "  0    3800           2.02          29.01       94.86    0.95\n",
      "  0    4000           2.07          29.59       95.16    0.95\n",
      "\u001b[34m\u001b[1mwandb\u001b[0m: Adding directory to artifact (./output_transformer/model-last)... Done. 3.9s\n",
      "  0    4200           1.94          28.87       95.10    0.95\n",
      "  0    4400           2.03          28.86       95.17    0.95\n",
      "  0    4600           1.97          28.41       95.22    0.95\n",
      "  0    4800           1.86          29.83       95.42    0.95\n",
      "  0    5000           2.02          28.35       95.29    0.95\n",
      "\u001b[34m\u001b[1mwandb\u001b[0m: Adding directory to artifact (./output_transformer/model-last)... Done. 2.8s\n",
      "  0    5200           2.12          29.23       95.36    0.95\n",
      "  0    5400           2.05          28.68       95.43    0.95\n",
      "  0    5600           1.93          27.78       95.55    0.96\n",
      "  0    5800           2.07          28.37       95.61    0.96\n",
      "  0    6000           1.90          27.20       95.77    0.96\n",
      "\u001b[34m\u001b[1mwandb\u001b[0m: Adding directory to artifact (./output_transformer/model-last)... Done. 3.4s\n",
      "  1    6200           2.03          26.85       95.66    0.96\n",
      "  1    6400           1.86          26.06       95.85    0.96\n",
      "  1    6600           1.79          24.88       95.88    0.96\n",
      "  1    6800           1.85          25.58       95.74    0.96\n",
      "  1    7000           1.83          25.74       95.76    0.96\n",
      "\u001b[34m\u001b[1mwandb\u001b[0m: Adding directory to artifact (./output_transformer/model-last)... Done. 2.8s\n",
      "  1    7200           1.91          25.89       95.88    0.96\n",
      "  1    7400           2.01          25.28       95.87    0.96\n",
      "  1    7600           1.72          24.80       95.80    0.96\n",
      "  1    7800           1.77          24.54       96.05    0.96\n",
      "  1    8000           1.92          25.91       96.00    0.96\n",
      "\u001b[34m\u001b[1mwandb\u001b[0m: Adding directory to artifact (./output_transformer/model-last)... Done. 2.7s\n",
      "  1    8200           2.11          26.44       95.85    0.96\n",
      "  1    8400           1.77          25.99       96.00    0.96\n",
      "  1    8600           1.96          26.13       96.04    0.96\n",
      "  1    8800           1.75          25.36       96.04    0.96\n",
      "  1    9000           1.88          24.59       96.08    0.96\n",
      "\u001b[34m\u001b[1mwandb\u001b[0m: Adding directory to artifact (./output_transformer/model-last)... Done. 3.3s\n",
      "  1    9200           1.98          24.18       96.18    0.96\n",
      "  1    9400           1.85          24.51       96.23    0.96\n",
      "  1    9600           1.88          25.88       96.19    0.96\n",
      "  1    9800           1.92          24.52       96.19    0.96\n",
      "  1   10000           1.88          25.28       96.13    0.96\n",
      "\u001b[34m\u001b[1mwandb\u001b[0m: Adding directory to artifact (./output_transformer/model-last)... Done. 2.7s\n",
      "  1   10200           1.91          24.71       96.30    0.96\n",
      "  1   10400           1.73          24.08       96.17    0.96\n",
      "  1   10600           1.88          24.69       96.18    0.96\n",
      "  1   10800           1.86          24.31       96.30    0.96\n",
      "  1   11000           1.83          23.93       96.30    0.96\n",
      "\u001b[34m\u001b[1mwandb\u001b[0m: Adding directory to artifact (./output_transformer/model-last)... Done. 3.4s\n",
      "  1   11200           1.98          24.48       96.32    0.96\n",
      "  1   11400           1.87          24.74       96.30    0.96\n",
      "  1   11600           1.89          24.77       96.40    0.96\n",
      "  1   11800           1.98          25.97       96.48    0.96\n",
      "  1   12000           1.88          24.12       96.38    0.96\n",
      "\u001b[34m\u001b[1mwandb\u001b[0m: Adding directory to artifact (./output_transformer/model-last)... Done. 2.8s\n",
      "  2   12200           1.78          23.45       96.47    0.96\n",
      "  2   12400           1.70          21.82       96.43    0.96\n",
      "  2   12600           1.79          22.13       96.43    0.96\n",
      "  2   12800           1.74          22.03       96.44    0.96\n",
      "  2   13000           1.64          20.37       96.41    0.96\n",
      "\u001b[34m\u001b[1mwandb\u001b[0m: Adding directory to artifact (./output_transformer/model-last)... Done. 2.7s\n",
      "  2   13200           1.82          21.52       96.51    0.97\n",
      "  2   13400           1.75          21.37       96.42    0.96\n",
      "  2   13600           1.88          21.44       96.46    0.96\n",
      "  2   13800           1.73          21.25       96.51    0.97\n",
      "  2   14000           1.70          21.57       96.54    0.97\n",
      "\u001b[34m\u001b[1mwandb\u001b[0m: Adding directory to artifact (./output_transformer/model-last)... Done. 3.4s\n",
      "  2   14200           1.67          22.28       96.60    0.97\n",
      "  2   14400           1.70          22.22       96.47    0.96\n",
      "  2   14600           1.93          22.26       96.56    0.97\n",
      "  2   14800           1.52          21.06       96.58    0.97\n",
      "  2   15000           1.64          21.97       96.59    0.97\n",
      "\u001b[34m\u001b[1mwandb\u001b[0m: Adding directory to artifact (./output_transformer/model-last)... Done. 2.7s\n",
      "  2   15200           1.68          21.59       96.57    0.97\n",
      "  2   15400           1.75          21.54       96.60    0.97\n",
      "  2   15600           1.77          21.76       96.67    0.97\n",
      "  2   15800           1.70          20.66       96.62    0.97\n",
      "  2   16000           1.73          21.44       96.65    0.97\n",
      "\u001b[34m\u001b[1mwandb\u001b[0m: Adding directory to artifact (./output_transformer/model-last)... Done. 2.8s\n",
      "  2   16200           1.77          20.71       96.72    0.97\n",
      "  2   16400           1.83          21.27       96.67    0.97\n",
      "  2   16600           1.77          21.01       96.71    0.97\n",
      "  2   16800           1.71          21.35       96.74    0.97\n",
      "  2   17000           1.76          20.40       96.72    0.97\n",
      "\u001b[34m\u001b[1mwandb\u001b[0m: Adding directory to artifact (./output_transformer/model-last)... Done. 2.8s\n",
      "  2   17200           1.69          20.96       96.70    0.97\n",
      "  2   17400           1.57          20.62       96.74    0.97\n",
      "  2   17600           1.78          20.78       96.76    0.97\n",
      "  2   17800           1.61          20.22       96.78    0.97\n",
      "  2   18000           1.85          20.51       96.73    0.97\n",
      "\u001b[34m\u001b[1mwandb\u001b[0m: Adding directory to artifact (./output_transformer/model-last)... Done. 2.8s\n",
      "  3   18200           1.72          20.36       96.74    0.97\n",
      "  3   18400           1.65          18.57       96.73    0.97\n",
      "  3   18600           1.75          18.57       96.75    0.97\n",
      "  3   18800           1.57          18.56       96.72    0.97\n",
      "  3   19000           1.56          17.43       96.72    0.97\n",
      "\u001b[34m\u001b[1mwandb\u001b[0m: Adding directory to artifact (./output_transformer/model-last)... Done. 2.8s\n",
      "  3   19200           1.67          19.07       96.73    0.97\n",
      "  3   19400           1.50          19.57       96.74    0.97\n",
      "\u001b[34m\u001b[1mwandb\u001b[0m: Waiting for W&B process to finish... \u001b[32m(success).\u001b[0m\n",
      "\u001b[34m\u001b[1mwandb\u001b[0m: | 9122.831 MB of 9122.852 MB uploaded (23.841 MB deduped)\n",
      "\u001b[34m\u001b[1mwandb\u001b[0m: Run history:\n",
      "\u001b[34m\u001b[1mwandb\u001b[0m:          cats_macro_auc ▁▇▇▇████████████████████████████████████\n",
      "\u001b[34m\u001b[1mwandb\u001b[0m:            cats_macro_f ▁▄▆▆▇▇▇▇▇▇▇▇▇█▇▇████▇███████████████████\n",
      "\u001b[34m\u001b[1mwandb\u001b[0m:            cats_macro_p ▁▆▇█████████████████████████████████████\n",
      "\u001b[34m\u001b[1mwandb\u001b[0m:            cats_macro_r ▅▁▃▄▅▆▅▆▇▆▆▇▆▇▆▆▇▇▇█▆▇▇▇▇█▇▇███▇▇███████\n",
      "\u001b[34m\u001b[1mwandb\u001b[0m:            cats_micro_f ▁▅▆▆▇▇▇▇▇▇▇▇▇█▇▇████▇███████████████████\n",
      "\u001b[34m\u001b[1mwandb\u001b[0m:            cats_micro_p ▁▇▇█▇▇██▇▇█▇█▇██████████████████████████\n",
      "\u001b[34m\u001b[1mwandb\u001b[0m:            cats_micro_r ▅▁▃▄▅▅▅▆▇▆▆▇▆▇▆▆▇▇▇█▆▇▇▇▇█▇▇▇██▇▇███████\n",
      "\u001b[34m\u001b[1mwandb\u001b[0m:              cats_score ▁▇▇▇████████████████████████████████████\n",
      "\u001b[34m\u001b[1mwandb\u001b[0m: loss_textcat_multilabel ▁█▇▆▆▆▆▆▆▆▆▆▅▅▅▅▅▅▅▅▅▅▅▅▅▄▄▄▄▄▄▄▄▄▄▄▄▄▄▄\n",
      "\u001b[34m\u001b[1mwandb\u001b[0m:        loss_transformer ▁███▇█████▇██▇▇█▇▇▇▇▇▇▇▇█▇▇▇▇▇▆▇▇▇▇▆▆▆▆▆\n",
      "\u001b[34m\u001b[1mwandb\u001b[0m:                   score ▁▇▇▇████████████████████████████████████\n",
      "\u001b[34m\u001b[1mwandb\u001b[0m:                   speed ▅▄▃▄▃▅▃▃▅▂▂▅▅▇▄▄▅▅▁▆██▅▄▄▃███████▅▆▇▅▄▅▄\n",
      "\u001b[34m\u001b[1mwandb\u001b[0m:               token_acc ▁▁▁▁▁▁▁▁▁▁▁▁▁▁▁▁▁▁▁▁▁▁▁▁▁▁▁▁▁▁▁▁▁▁▁▁▁▁▁▁\n",
      "\u001b[34m\u001b[1mwandb\u001b[0m:                 token_f ▁▁▁▁▁▁▁▁▁▁▁▁▁▁▁▁▁▁▁▁▁▁▁▁▁▁▁▁▁▁▁▁▁▁▁▁▁▁▁▁\n",
      "\u001b[34m\u001b[1mwandb\u001b[0m:                 token_p ▁▁▁▁▁▁▁▁▁▁▁▁▁▁▁▁▁▁▁▁▁▁▁▁▁▁▁▁▁▁▁▁▁▁▁▁▁▁▁▁\n",
      "\u001b[34m\u001b[1mwandb\u001b[0m:                 token_r ▁▁▁▁▁▁▁▁▁▁▁▁▁▁▁▁▁▁▁▁▁▁▁▁▁▁▁▁▁▁▁▁▁▁▁▁▁▁▁▁\n",
      "\u001b[34m\u001b[1mwandb\u001b[0m: \n",
      "\u001b[34m\u001b[1mwandb\u001b[0m: Run summary:\n",
      "\u001b[34m\u001b[1mwandb\u001b[0m:          cats_macro_auc 0.96736\n",
      "\u001b[34m\u001b[1mwandb\u001b[0m:            cats_macro_f 0.74222\n",
      "\u001b[34m\u001b[1mwandb\u001b[0m:            cats_macro_p 0.76996\n",
      "\u001b[34m\u001b[1mwandb\u001b[0m:            cats_macro_r 0.7207\n",
      "\u001b[34m\u001b[1mwandb\u001b[0m:            cats_micro_f 0.73988\n",
      "\u001b[34m\u001b[1mwandb\u001b[0m:            cats_micro_p 0.75847\n",
      "\u001b[34m\u001b[1mwandb\u001b[0m:            cats_micro_r 0.72218\n",
      "\u001b[34m\u001b[1mwandb\u001b[0m:              cats_score 0.96736\n",
      "\u001b[34m\u001b[1mwandb\u001b[0m:         cats_score_desc macro AUC\n",
      "\u001b[34m\u001b[1mwandb\u001b[0m: loss_textcat_multilabel 19.57371\n",
      "\u001b[34m\u001b[1mwandb\u001b[0m:        loss_transformer 1.49791\n",
      "\u001b[34m\u001b[1mwandb\u001b[0m:                   score 0.96736\n",
      "\u001b[34m\u001b[1mwandb\u001b[0m:                   speed 11345.44211\n",
      "\u001b[34m\u001b[1mwandb\u001b[0m:               token_acc 1.0\n",
      "\u001b[34m\u001b[1mwandb\u001b[0m:                 token_f 1.0\n",
      "\u001b[34m\u001b[1mwandb\u001b[0m:                 token_p 1.0\n",
      "\u001b[34m\u001b[1mwandb\u001b[0m:                 token_r 1.0\n",
      "\u001b[34m\u001b[1mwandb\u001b[0m: \n",
      "\u001b[34m\u001b[1mwandb\u001b[0m: 🚀 View run \u001b[33mfanciful-haze-34\u001b[0m at: \u001b[34m\u001b[4mhttps://wandb.ai/apersonnaz/my_spacy_project/runs/ogpumat3\u001b[0m\n",
      "\u001b[34m\u001b[1mwandb\u001b[0m: Synced 5 W&B file(s), 0 media file(s), 228 artifact file(s) and 0 other file(s)\n",
      "\u001b[34m\u001b[1mwandb\u001b[0m: Find logs at: \u001b[35m\u001b[1m./wandb/run-20230316_160457-ogpumat3/logs\u001b[0m\n",
      "\u001b[38;5;2m✔ Saved pipeline to output directory\u001b[0m\n",
      "output_transformer/model-last\n"
     ]
    }
   ],
   "source": [
    "!python3 -m spacy train config_transformer_filled.cfg --output ./output_transformer --paths.train ./text_train_transformer.spacy --paths.dev ./text_test_transformer.spacy --gpu-id 0"
   ]
  },
  {
   "cell_type": "markdown",
   "metadata": {},
   "source": [
    "#### Code"
   ]
  },
  {
   "cell_type": "code",
   "execution_count": null,
   "metadata": {},
   "outputs": [
    {
     "name": "stdout",
     "output_type": "stream",
     "text": [
      "preprocessing\n"
     ]
    },
    {
     "name": "stderr",
     "output_type": "stream",
     "text": [
      "100%|██████████| 81619/81619 [13:16<00:00, 102.47it/s]\n",
      " 21%|██        | 15681/76005 [01:55<07:08, 140.73it/s]Token indices sequence length is longer than the specified maximum sequence length for this model (519 > 512). Running this sequence through the model will result in indexing errors\n",
      "100%|██████████| 76005/76005 [09:12<00:00, 137.64it/s]\n"
     ]
    }
   ],
   "source": [
    "train_df = sample_train[~sample_train.code.isna()].loc[:]\n",
    "train_df[\"code_processed\"] = preprocess_transformers(train_df.code, nlp)\n",
    "test_df = sample_test[~sample_test.code.isna()].sample(\n",
    "    round(len(sample_test)/4))\n",
    "test_df[\"code_processed\"] = preprocess(test_df.code, nlp)\n",
    "validation_df = sample_validation[~sample_validation.code.isna()].loc[:]\n",
    "validation_df[\"code_processed\"] = preprocess(\n",
    "    validation_df.code, nlp)\n",
    "convert(train_df.loc[:, [\"code_processed\", \"tag_list\"]],\n",
    "        'code_train_transformer.spacy', nlp)\n",
    "convert(test_df.loc[:, [\"code_processed\",\n",
    "        \"tag_list\"]], 'code_test_transformer.spacy', nlp)\n",
    "convert(validation_df.loc[:, [\n",
    "        \"code_processed\", \"tag_list\"]], 'code_validation_transformer.spacy', nlp)\n"
   ]
  },
  {
   "cell_type": "code",
   "execution_count": null,
   "metadata": {},
   "outputs": [
    {
     "name": "stdout",
     "output_type": "stream",
     "text": [
      "2023-03-17 09:46:03.044001: I tensorflow/core/platform/cpu_feature_guard.cc:193] This TensorFlow binary is optimized with oneAPI Deep Neural Network Library (oneDNN) to use the following CPU instructions in performance-critical operations:  AVX2 FMA\n",
      "To enable them in other operations, rebuild TensorFlow with the appropriate compiler flags.\n",
      "2023-03-17 09:46:04.556747: I tensorflow/compiler/xla/stream_executor/cuda/cuda_gpu_executor.cc:981] successful NUMA node read from SysFS had negative value (-1), but there must be at least one NUMA node, so returning NUMA node zero\n",
      "2023-03-17 09:46:04.557120: I tensorflow/compiler/xla/stream_executor/cuda/cuda_gpu_executor.cc:981] successful NUMA node read from SysFS had negative value (-1), but there must be at least one NUMA node, so returning NUMA node zero\n",
      "2023-03-17 09:46:04.557277: I tensorflow/compiler/xla/stream_executor/cuda/cuda_gpu_executor.cc:981] successful NUMA node read from SysFS had negative value (-1), but there must be at least one NUMA node, so returning NUMA node zero\n",
      "\u001b[38;5;4mℹ Saving to output directory: output_code_transformer\u001b[0m\n",
      "\u001b[38;5;4mℹ Using GPU: 0\u001b[0m\n",
      "\u001b[1m\n",
      "=========================== Initializing pipeline ===========================\u001b[0m\n",
      "[2023-03-17 09:46:08,585] [INFO] Set up nlp object from config\n",
      "[2023-03-17 09:46:09,140] [INFO] Pipeline: ['transformer', 'textcat_multilabel']\n",
      "[2023-03-17 09:46:09,144] [INFO] Created vocabulary\n",
      "[2023-03-17 09:46:09,146] [INFO] Finished initializing nlp object\n",
      "Some weights of the model checkpoint at roberta-base were not used when initializing RobertaModel: ['lm_head.layer_norm.weight', 'lm_head.dense.bias', 'lm_head.layer_norm.bias', 'lm_head.dense.weight', 'lm_head.decoder.weight', 'lm_head.bias']\n",
      "- This IS expected if you are initializing RobertaModel from the checkpoint of a model trained on another task or with another architecture (e.g. initializing a BertForSequenceClassification model from a BertForPreTraining model).\n",
      "- This IS NOT expected if you are initializing RobertaModel from the checkpoint of a model that you expect to be exactly identical (initializing a BertForSequenceClassification model from a BertForSequenceClassification model).\n",
      "[2023-03-17 09:46:39,178] [INFO] Initialized pipeline components: ['transformer', 'textcat_multilabel']\n",
      "\u001b[38;5;2m✔ Initialized pipeline\u001b[0m\n",
      "\u001b[1m\n",
      "============================= Training pipeline =============================\u001b[0m\n",
      "\u001b[38;5;4mℹ Pipeline: ['transformer', 'textcat_multilabel']\u001b[0m\n",
      "\u001b[38;5;4mℹ Initial learn rate: 0.0\u001b[0m\n",
      "\u001b[34m\u001b[1mwandb\u001b[0m: Currently logged in as: \u001b[33mapersonnaz\u001b[0m. Use \u001b[1m`wandb login --relogin`\u001b[0m to force relogin\n",
      "\u001b[34m\u001b[1mwandb\u001b[0m: Tracking run with wandb version 0.14.0\n",
      "\u001b[34m\u001b[1mwandb\u001b[0m: Run data is saved locally in \u001b[35m\u001b[1m/home/aurelien/Documents/ocr/OCR_IML_projet5/wandb/run-20230317_094640-wtyy85vr\u001b[0m\n",
      "\u001b[34m\u001b[1mwandb\u001b[0m: Run \u001b[1m`wandb offline`\u001b[0m to turn off syncing.\n",
      "\u001b[34m\u001b[1mwandb\u001b[0m: Syncing run \u001b[33mradiant-capybara-39\u001b[0m\n",
      "\u001b[34m\u001b[1mwandb\u001b[0m: ⭐️ View project at \u001b[34m\u001b[4mhttps://wandb.ai/apersonnaz/my_spacy_project\u001b[0m\n",
      "\u001b[34m\u001b[1mwandb\u001b[0m: 🚀 View run at \u001b[34m\u001b[4mhttps://wandb.ai/apersonnaz/my_spacy_project/runs/wtyy85vr\u001b[0m\n",
      "E    #       LOSS TRANS...  LOSS TEXTC...  CATS_SCORE  SCORE \n",
      "---  ------  -------------  -------------  ----------  ------\n",
      "  0       0           0.00           0.29       45.54    0.46\n",
      "  0     200           2.13          34.79       72.62    0.73\n",
      "  0     400           2.73          26.88       79.66    0.80\n",
      "  0     600           1.13          25.83       81.41    0.81\n",
      "  0     800           3.11          25.24       84.72    0.85\n",
      "  0    1000           1.88          25.70       86.33    0.86\n",
      "\u001b[34m\u001b[1mwandb\u001b[0m: Adding directory to artifact (./output_code_transformer/model-last)... Done. 2.9s\n",
      "  0    1200           2.70          22.75       87.56    0.88\n",
      "  0    1400           2.68          22.93       87.81    0.88\n",
      "  0    1600           1.69          22.04       88.79    0.89\n",
      "  0    1800           2.15          19.03       89.63    0.90\n",
      "  0    2000           2.95          20.55       88.85    0.89\n",
      "\u001b[34m\u001b[1mwandb\u001b[0m: Adding directory to artifact (./output_code_transformer/model-last)... Done. 2.9s\n",
      "  0    2200           2.35          24.10       88.19    0.88\n",
      "  0    2400           2.77          19.06       91.03    0.91\n",
      "  0    2600           2.43          18.18       89.58    0.90\n",
      "  0    2800           2.37          22.34       90.85    0.91\n",
      "  0    3000           2.95          17.64       89.48    0.89\n",
      "\u001b[34m\u001b[1mwandb\u001b[0m: Adding directory to artifact (./output_code_transformer/model-last)... Done. 2.9s\n",
      "  0    3200           3.07          19.51       91.22    0.91\n",
      "  0    3400           2.41          20.36       90.98    0.91\n",
      "  0    3600           1.80          18.19       90.86    0.91\n",
      "  0    3800           1.64          19.33       91.42    0.91\n",
      "  0    4000           3.81          19.12       91.23    0.91\n",
      "\u001b[34m\u001b[1mwandb\u001b[0m: Adding directory to artifact (./output_code_transformer/model-last)... Done. 2.9s\n",
      "  0    4200           2.50          17.19       91.21    0.91\n",
      "  0    4400           3.72          19.45       91.50    0.91\n",
      "  0    4600           2.69          17.88       91.88    0.92\n",
      "  0    4800           3.55          17.71       91.53    0.92\n",
      "  0    5000           2.24          18.18       90.69    0.91\n",
      "\u001b[34m\u001b[1mwandb\u001b[0m: Adding directory to artifact (./output_code_transformer/model-last)... Done. 2.9s\n",
      "  0    5200           2.82          18.98       91.59    0.92\n",
      "  0    5400           3.11          17.32       92.15    0.92\n",
      "  0    5600           2.19          17.74       92.32    0.92\n",
      "  0    5800           2.97          17.66       91.69    0.92\n",
      "  0    6000           1.03          15.09       92.46    0.92\n",
      "\u001b[34m\u001b[1mwandb\u001b[0m: Adding directory to artifact (./output_code_transformer/model-last)... Done. 2.9s\n",
      "\u001b[34m\u001b[1mwandb\u001b[0m: Network error (ConnectTimeout), entering retry loop.\n",
      "  0    6200           3.34          17.20       92.48    0.92\n",
      "  0    6400           2.05          17.83       92.13    0.92\n",
      "  0    6600           2.54          16.10       92.55    0.93\n",
      "Token indices sequence length is longer than the specified maximum sequence length for this model (816 > 512). Running this sequence through the model will result in indexing errors\n",
      "  0    6800           3.49          15.38       92.72    0.93\n",
      "  0    7000           3.09          16.67       92.90    0.93\n",
      "\u001b[34m\u001b[1mwandb\u001b[0m: Adding directory to artifact (./output_code_transformer/model-last)... Done. 3.0s\n",
      "\u001b[34m\u001b[1mwandb\u001b[0m: Network error (ConnectionError), entering retry loop.\n",
      "  0    7200           2.08          16.63       92.38    0.92\n",
      "  0    7400           2.95          16.06       92.58    0.93\n",
      "  0    7600           2.83          18.23       92.02    0.92\n",
      "  0    7800           2.71          16.89       92.57    0.93\n",
      "  0    8000           3.77          16.95       92.64    0.93\n",
      "\u001b[34m\u001b[1mwandb\u001b[0m: Adding directory to artifact (./output_code_transformer/model-last)... Done. 2.9s\n",
      "  0    8200           3.27          15.99       92.98    0.93\n",
      "  0    8400           2.82          16.58       93.13    0.93\n",
      "  0    8600           1.35          13.09       93.09    0.93\n",
      "  0    8800           2.08          15.79       92.99    0.93\n",
      "  0    9000           1.75          14.82       92.85    0.93\n",
      "\u001b[34m\u001b[1mwandb\u001b[0m: Adding directory to artifact (./output_code_transformer/model-last)... Done. 2.9s\n",
      "  0    9200           2.99          17.06       92.76    0.93\n",
      "  0    9400           3.16          17.15       93.37    0.93\n",
      "  0    9600           4.22          17.70       93.38    0.93\n",
      "  0    9800           2.68          16.65       92.97    0.93\n",
      "  0   10000           1.22          15.72       92.76    0.93\n",
      "\u001b[34m\u001b[1mwandb\u001b[0m: Adding directory to artifact (./output_code_transformer/model-last)... Done. 3.0s\n",
      "  0   10200           1.64          14.85       93.33    0.93\n",
      "  0   10400           2.22          15.76       93.27    0.93\n",
      "  0   10600           2.21          15.22       93.12    0.93\n",
      "  0   10800           2.05          15.99       93.64    0.94\n",
      "  0   11000           2.62          15.47       93.18    0.93\n",
      "\u001b[34m\u001b[1mwandb\u001b[0m: Adding directory to artifact (./output_code_transformer/model-last)... Done. 3.0s\n",
      "  0   11200           1.97          14.64       93.39    0.93\n",
      "  0   11400           2.64          15.79       93.52    0.94\n",
      "  0   11600           3.57          16.54       93.62    0.94\n",
      "  0   11800           1.30          15.41       93.73    0.94\n",
      "  0   12000           3.96          16.21       93.74    0.94\n",
      "\u001b[34m\u001b[1mwandb\u001b[0m: Adding directory to artifact (./output_code_transformer/model-last)... Done. 2.9s\n",
      "  0   12200           2.35          15.70       93.80    0.94\n",
      "  0   12400           1.71          14.85       93.84    0.94\n",
      "  0   12600           2.67          16.30       93.79    0.94\n",
      "  0   12800           1.69          13.73       93.85    0.94\n",
      "  0   13000           1.97          14.28       93.59    0.94\n",
      "\u001b[34m\u001b[1mwandb\u001b[0m: Adding directory to artifact (./output_code_transformer/model-last)... Done. 3.0s\n",
      "  0   13200           2.68          14.93       93.77    0.94\n",
      "  0   13400           1.43          15.27       93.89    0.94\n",
      "  0   13600           1.10          15.16       93.97    0.94\n",
      "  0   13800           2.29          16.16       93.84    0.94\n",
      "  0   14000           1.91          14.70       94.00    0.94\n",
      "\u001b[34m\u001b[1mwandb\u001b[0m: Adding directory to artifact (./output_code_transformer/model-last)... Done. 2.9s\n",
      "  0   14200           1.19          14.11       93.89    0.94\n",
      "  0   14400           1.96          14.23       93.99    0.94\n",
      "  0   14600           1.93          14.68       93.89    0.94\n",
      "  0   14800           1.83          14.04       93.91    0.94\n",
      "  0   15000           1.90          15.00       93.95    0.94\n",
      "\u001b[34m\u001b[1mwandb\u001b[0m: Adding directory to artifact (./output_code_transformer/model-last)... Done. 2.9s\n",
      "  0   15200           3.24          15.27       93.91    0.94\n",
      "  0   15400           2.09          14.73       93.89    0.94\n",
      "  0   15600           2.65          13.08       94.07    0.94\n",
      "  0   15800           3.19          13.84       94.06    0.94\n",
      "  0   16000           2.08          14.52       94.15    0.94\n",
      "\u001b[34m\u001b[1mwandb\u001b[0m: Adding directory to artifact (./output_code_transformer/model-last)... Done. 2.9s\n",
      "  0   16200           2.01          14.23       94.17    0.94\n",
      "  0   16400           2.34          14.41       94.16    0.94\n",
      "  0   16600           1.24          14.85       94.14    0.94\n",
      "  0   16800           1.12          11.93       94.26    0.94\n",
      "  0   17000           2.06          13.88       94.30    0.94\n",
      "\u001b[34m\u001b[1mwandb\u001b[0m: Adding directory to artifact (./output_code_transformer/model-last)... Done. 3.0s\n",
      "  0   17200           3.36          14.13       94.42    0.94\n",
      "  0   17400           1.89          14.41       94.38    0.94\n",
      "  0   17600           2.11          13.16       94.30    0.94\n",
      "  0   17800           1.94          13.23       94.31    0.94\n",
      "  0   18000           2.41          12.50       94.30    0.94\n",
      "\u001b[34m\u001b[1mwandb\u001b[0m: Adding directory to artifact (./output_code_transformer/model-last)... Done. 2.9s\n",
      "  0   18200           2.50          14.87       94.38    0.94\n",
      "  0   18400           1.19          13.79       94.41    0.94\n",
      "  0   18600           1.42          14.63       94.46    0.94\n",
      "  0   18800           1.68          13.01       94.46    0.94\n",
      "  0   19000           2.84          13.33       94.45    0.94\n",
      "\u001b[34m\u001b[1mwandb\u001b[0m: Adding directory to artifact (./output_code_transformer/model-last)... Done. 4.2s\n",
      "  0   19200           1.98          13.31       94.46    0.94\n",
      "  0   19400           1.77          13.23       94.47    0.94\n",
      "  0   19600           3.62          13.93       94.46    0.94\n",
      "  0   19800           3.40          14.00       94.47    0.94\n",
      "  1   20000           1.96          13.64       94.47    0.94\n",
      "\u001b[34m\u001b[1mwandb\u001b[0m: Adding directory to artifact (./output_code_transformer/model-last)... Done. 3.0s\n",
      "\u001b[34m\u001b[1mwandb\u001b[0m: Waiting for W&B process to finish... \u001b[32m(success).\u001b[0m\n",
      "\u001b[34m\u001b[1mwandb\u001b[0m: \n",
      "\u001b[34m\u001b[1mwandb\u001b[0m: Run history:\n",
      "\u001b[34m\u001b[1mwandb\u001b[0m:          cats_macro_auc ▁▆▇▇▇█▇███▇█████████████████████████████\n",
      "\u001b[34m\u001b[1mwandb\u001b[0m:            cats_macro_f ▁▂▄▅▅▆▆▇▆▆▆▇▇▇▇▇▇▆▇▇▇▇▇█▇▇▇█▇▇▇███▇█████\n",
      "\u001b[34m\u001b[1mwandb\u001b[0m:            cats_macro_p ▁▃▅▆▆▇▇▇█▇████▇▇█▇▇█▇▇▇█▇█▇████████▇████\n",
      "\u001b[34m\u001b[1mwandb\u001b[0m:            cats_macro_r ▆▁▃▄▅▅▅▆▆▆▆▆▇▇▇▇▇▆▆▇▇▆▇█▇▇▇█▇▇▇███▇█▇▇██\n",
      "\u001b[34m\u001b[1mwandb\u001b[0m:            cats_micro_f ▁▃▄▅▆▆▆▇▇▇▇▇▇▇▇▇▇▇▇▇▇▇▇██▇██████████████\n",
      "\u001b[34m\u001b[1mwandb\u001b[0m:            cats_micro_p ▁▇▆▇▆▇▇▇▇▇▇▇▇▇█▇▇█▇████▇▇█▇████▇████████\n",
      "\u001b[34m\u001b[1mwandb\u001b[0m:            cats_micro_r ▅▁▃▄▅▅▅▆▆▇▆▆▇▆▇▇▇▆▆▇▇▇▇█▇▇█▇▇▇▇███▇█████\n",
      "\u001b[34m\u001b[1mwandb\u001b[0m:              cats_score ▁▆▇▇▇█▇███▇█████████████████████████████\n",
      "\u001b[34m\u001b[1mwandb\u001b[0m: loss_textcat_multilabel ▁██▇▆▆▆▆▆▆▆▆▅▅▅▆▅▄▅▆▅▅▅▅▅▅▅▅▅▅▅▅▅▄▅▄▅▄▄▅\n",
      "\u001b[34m\u001b[1mwandb\u001b[0m:        loss_transformer ▁▆▄▅▆▆▆▅▇▅▅▅▃▅▆▆▆▃▆█▄▅▄▇▅▄▅▅▃▄▆▆▅▃▄▄▃▄▄▄\n",
      "\u001b[34m\u001b[1mwandb\u001b[0m:                   score ▁▆▇▇▇█▇███▇█████████████████████████████\n",
      "\u001b[34m\u001b[1mwandb\u001b[0m:                   speed █▇▇▇▇▇▅▇▇▇▇▇▇▅▅▆█▅▆▆▆▆▆▆▇███████████▇▇▁▆\n",
      "\u001b[34m\u001b[1mwandb\u001b[0m:               token_acc ▁▁▁▁▁▁▁▁▁▁▁▁▁▁▁▁▁▁▁▁▁▁▁▁▁▁▁▁▁▁▁▁▁▁▁▁▁▁▁▁\n",
      "\u001b[34m\u001b[1mwandb\u001b[0m:                 token_f ▁▁▁▁▁▁▁▁▁▁▁▁▁▁▁▁▁▁▁▁▁▁▁▁▁▁▁▁▁▁▁▁▁▁▁▁▁▁▁▁\n",
      "\u001b[34m\u001b[1mwandb\u001b[0m:                 token_p ▁▁▁▁▁▁▁▁▁▁▁▁▁▁▁▁▁▁▁▁▁▁▁▁▁▁▁▁▁▁▁▁▁▁▁▁▁▁▁▁\n",
      "\u001b[34m\u001b[1mwandb\u001b[0m:                 token_r ▁▁▁▁▁▁▁▁▁▁▁▁▁▁▁▁▁▁▁▁▁▁▁▁▁▁▁▁▁▁▁▁▁▁▁▁▁▁▁▁\n",
      "\u001b[34m\u001b[1mwandb\u001b[0m: \n",
      "\u001b[34m\u001b[1mwandb\u001b[0m: Run summary:\n",
      "\u001b[34m\u001b[1mwandb\u001b[0m:          cats_macro_auc 0.94471\n",
      "\u001b[34m\u001b[1mwandb\u001b[0m:            cats_macro_f 0.64677\n",
      "\u001b[34m\u001b[1mwandb\u001b[0m:            cats_macro_p 0.74768\n",
      "\u001b[34m\u001b[1mwandb\u001b[0m:            cats_macro_r 0.59169\n",
      "\u001b[34m\u001b[1mwandb\u001b[0m:            cats_micro_f 0.66833\n",
      "\u001b[34m\u001b[1mwandb\u001b[0m:            cats_micro_p 0.7427\n",
      "\u001b[34m\u001b[1mwandb\u001b[0m:            cats_micro_r 0.6075\n",
      "\u001b[34m\u001b[1mwandb\u001b[0m:              cats_score 0.94471\n",
      "\u001b[34m\u001b[1mwandb\u001b[0m:         cats_score_desc macro AUC\n",
      "\u001b[34m\u001b[1mwandb\u001b[0m: loss_textcat_multilabel 13.63768\n",
      "\u001b[34m\u001b[1mwandb\u001b[0m:        loss_transformer 1.95858\n",
      "\u001b[34m\u001b[1mwandb\u001b[0m:                   score 0.94471\n",
      "\u001b[34m\u001b[1mwandb\u001b[0m:                   speed 4295.36026\n",
      "\u001b[34m\u001b[1mwandb\u001b[0m:               token_acc 1.0\n",
      "\u001b[34m\u001b[1mwandb\u001b[0m:                 token_f 1.0\n",
      "\u001b[34m\u001b[1mwandb\u001b[0m:                 token_p 1.0\n",
      "\u001b[34m\u001b[1mwandb\u001b[0m:                 token_r 1.0\n",
      "\u001b[34m\u001b[1mwandb\u001b[0m: \n",
      "\u001b[34m\u001b[1mwandb\u001b[0m: 🚀 View run \u001b[33mradiant-capybara-39\u001b[0m at: \u001b[34m\u001b[4mhttps://wandb.ai/apersonnaz/my_spacy_project/runs/wtyy85vr\u001b[0m\n",
      "\u001b[34m\u001b[1mwandb\u001b[0m: Synced 5 W&B file(s), 0 media file(s), 240 artifact file(s) and 0 other file(s)\n",
      "\u001b[34m\u001b[1mwandb\u001b[0m: Find logs at: \u001b[35m\u001b[1m./wandb/run-20230317_094640-wtyy85vr/logs\u001b[0m\n",
      "\u001b[38;5;2m✔ Saved pipeline to output directory\u001b[0m\n",
      "output_code_transformer/model-last\n"
     ]
    }
   ],
   "source": [
    "!python3 -m spacy train config_transformer_filled.cfg --output ./output_code_transformer --paths.train ./code_train_transformer.spacy --paths.dev ./code_test_transformer.spacy --gpu-id 0"
   ]
  },
  {
   "cell_type": "markdown",
   "metadata": {},
   "source": [
    "#### Evaluation\n"
   ]
  },
  {
   "cell_type": "code",
   "execution_count": null,
   "metadata": {},
   "outputs": [
    {
     "name": "stdout",
     "output_type": "stream",
     "text": [
      "preprocessing\n"
     ]
    },
    {
     "name": "stderr",
     "output_type": "stream",
     "text": [
      "100%|██████████| 14152/14152 [00:07<00:00, 1920.61it/s]\n"
     ]
    },
    {
     "name": "stdout",
     "output_type": "stream",
     "text": [
      "preprocessing\n"
     ]
    },
    {
     "name": "stderr",
     "output_type": "stream",
     "text": [
      "100%|██████████| 14152/14152 [00:20<00:00, 691.94it/s]\n"
     ]
    }
   ],
   "source": [
    "# del nlp_trf\n",
    "# gc.collect()\n",
    "# torch.cuda.empty_cache()\n",
    "nlp = spacy.load(\"en_core_web_trf\")\n",
    "val_trf = sample_validation.loc[:]\n",
    "val_trf[\"texts_processed\"] = preprocess_transformers(val_trf.text)\n",
    "val_trf['codes_processed'] = preprocess_transformers(val_trf.code)\n"
   ]
  },
  {
   "cell_type": "code",
   "execution_count": null,
   "metadata": {},
   "outputs": [
    {
     "name": "stderr",
     "output_type": "stream",
     "text": [
      "100%|██████████| 14152/14152 [02:18<00:00, 102.30it/s]\n",
      "100%|██████████| 14152/14152 [01:34<00:00, 149.79it/s]\n",
      "/tmp/ipykernel_5298/1299934847.py:12: SettingWithCopyWarning: \n",
      "A value is trying to be set on a copy of a slice from a DataFrame.\n",
      "Try using .loc[row_indexer,col_indexer] = value instead\n",
      "\n",
      "See the caveats in the documentation: https://pandas.pydata.org/pandas-docs/stable/user_guide/indexing.html#returning-a-view-versus-a-copy\n",
      "  val_trf[val_trf.text == \"\"].text_cats = dict.fromkeys(selected_tags, 0)\n",
      "/tmp/ipykernel_5298/1299934847.py:14: SettingWithCopyWarning: \n",
      "A value is trying to be set on a copy of a slice from a DataFrame.\n",
      "Try using .loc[row_indexer,col_indexer] = value instead\n",
      "\n",
      "See the caveats in the documentation: https://pandas.pydata.org/pandas-docs/stable/user_guide/indexing.html#returning-a-view-versus-a-copy\n",
      "  val_trf[val_trf.code == \"\"].code_cats = dict.fromkeys(selected_tags, 0)\n"
     ]
    }
   ],
   "source": [
    "\n",
    "nlp_text = spacy.load(\"./output_transformer/model-best\")\n",
    "nlp_code = spacy.load(\"./output_code_transformer/model-best\")\n",
    "text_cats = []\n",
    "code_cats = []\n",
    "for summary in tqdm(nlp_text.pipe(val_trf[\"texts_processed\"].values), total=len(val_trf)):\n",
    "    text_cats.append(summary.cats)\n",
    "\n",
    "for summary in tqdm(nlp_code.pipe(val_trf[\"codes_processed\"].values), total=len(val_trf)):\n",
    "    code_cats.append(summary.cats)\n",
    "\n",
    "val_trf[\"text_cats\"] = text_cats\n",
    "val_trf[val_trf.text == \"\"].text_cats = dict.fromkeys(selected_tags, 0)\n",
    "val_trf[\"code_cats\"] = code_cats\n",
    "val_trf[val_trf.code == \"\"].code_cats = dict.fromkeys(selected_tags, 0)\n"
   ]
  },
  {
   "cell_type": "code",
   "execution_count": null,
   "metadata": {},
   "outputs": [
    {
     "name": "stderr",
     "output_type": "stream",
     "text": [
      "/home/aurelien/.local/lib/python3.10/site-packages/sklearn/metrics/_classification.py:1318: UndefinedMetricWarning: Precision is ill-defined and being set to 0.0 in samples with no predicted labels. Use `zero_division` parameter to control this behavior.\n",
      "  _warn_prf(average, modifier, msg_start, len(result))\n",
      "/home/aurelien/.local/lib/python3.10/site-packages/sklearn/metrics/_classification.py:1318: UndefinedMetricWarning: Precision is ill-defined and being set to 0.0 in samples with no predicted labels. Use `zero_division` parameter to control this behavior.\n",
      "  _warn_prf(average, modifier, msg_start, len(result))\n",
      "/home/aurelien/.local/lib/python3.10/site-packages/sklearn/metrics/_classification.py:1318: UndefinedMetricWarning: Precision is ill-defined and being set to 0.0 in samples with no predicted labels. Use `zero_division` parameter to control this behavior.\n",
      "  _warn_prf(average, modifier, msg_start, len(result))\n"
     ]
    },
    {
     "name": "stdout",
     "output_type": "stream",
     "text": [
      "======= text ==========\n",
      "Roc auc for each tag:\n",
      "[('.net', 0.7692095799440233), ('android', 0.9080808690792053), ('c', 0.8447096161377827), ('c#', 0.8388032570978465), ('c++', 0.7881483148459298), ('css', 0.913996074936601), ('html', 0.8416098388612389), ('ios', 0.8734087727851785), ('iphone', 0.7788454730954467), ('java', 0.7919521783959212), ('javascript', 0.8453633686623323), ('jquery', 0.8498724053753448), ('node.js', 0.8705711658530503), ('objective-c', 0.793235451364751), ('php', 0.8618515050250596), ('python', 0.9013762832571274)]\n",
      "Roc auc macro average: 0.842\n",
      "Jaccard score sample average: 0.643\n",
      "Jaccard score macro average: 0.585\n",
      "Jaccard score micro average: 0.577\n",
      "f1 score sample average: 0.700\n",
      "f1 score macro average: 0.733\n",
      "f1 score micro average: 0.732\n",
      "precision score sample average: 0.715\n",
      "precision score macro average: 0.764\n",
      "precision score micro average: 0.752\n",
      "recall score sample average: 0.735\n",
      "recall score macro average: 0.709\n",
      "recall score micro average: 0.713\n",
      "======= code ==========\n",
      "Roc auc for each tag:\n",
      "[('.net', 0.7118275048578196), ('android', 0.7014331326810528), ('c', 0.7336554822753112), ('c#', 0.7457083116089966), ('c++', 0.6881793645604458), ('css', 0.7673096924660345), ('html', 0.7189115131655768), ('ios', 0.7489205401739829), ('iphone', 0.7016473996089918), ('java', 0.6927924005318513), ('javascript', 0.7024452194357037), ('jquery', 0.6839158549562087), ('node.js', 0.7737853899124363), ('objective-c', 0.7767151159608128), ('php', 0.7030276624172256), ('python', 0.7855757304342345)]\n",
      "Roc auc macro average: 0.727\n",
      "Jaccard score sample average: 0.446\n",
      "Jaccard score macro average: 0.370\n",
      "Jaccard score micro average: 0.309\n",
      "f1 score sample average: 0.499\n",
      "f1 score macro average: 0.530\n",
      "f1 score micro average: 0.472\n",
      "precision score sample average: 0.501\n",
      "precision score macro average: 0.643\n",
      "precision score micro average: 0.419\n",
      "recall score sample average: 0.551\n",
      "recall score macro average: 0.535\n",
      "recall score micro average: 0.542\n",
      "======= union ==========\n",
      "Roc auc for each tag:\n",
      "[('.net', 0.7798262113621862), ('android', 0.9330728065836219), ('c', 0.8922120884223322), ('c#', 0.8920414414447129), ('c++', 0.8274153773635112), ('css', 0.9329320756170625), ('html', 0.8723851539523848), ('ios', 0.9195890781017123), ('iphone', 0.7783891069069668), ('java', 0.8528925862177742), ('javascript', 0.7874794734603361), ('jquery', 0.7970455825777965), ('node.js', 0.9176468225804905), ('objective-c', 0.8872877432270979), ('php', 0.9119393226526938), ('python', 0.9561560606844766)]\n",
      "Roc auc macro average: 0.871\n",
      "Jaccard score sample average: 0.579\n",
      "Jaccard score macro average: 0.549\n",
      "Jaccard score micro average: 0.443\n",
      "f1 score sample average: 0.668\n",
      "f1 score macro average: 0.686\n",
      "f1 score micro average: 0.614\n",
      "precision score sample average: 0.613\n",
      "precision score macro average: 0.625\n",
      "precision score micro average: 0.484\n",
      "recall score sample average: 0.859\n",
      "recall score macro average: 0.838\n",
      "recall score micro average: 0.842\n",
      "======= intersection ==========\n",
      "Roc auc for each tag:\n",
      "[('.net', 0.7012108734396568), ('android', 0.6764411951766363), ('c', 0.6861530099907617), ('c#', 0.6924701272621302), ('c++', 0.6489123020428644), ('css', 0.748373691785573), ('html', 0.6881361980744307), ('ios', 0.702740234857449), ('iphone', 0.7021037657974716), ('java', 0.6318519927099985), ('javascript', 0.7603291146377), ('jquery', 0.7367426777537568), ('node.js', 0.7267097331849963), ('objective-c', 0.6826628240984661), ('php', 0.6529398447895913), ('python', 0.7307959530068854)]\n",
      "Roc auc macro average: 0.698\n",
      "Jaccard score sample average: 0.397\n",
      "Jaccard score macro average: 0.375\n",
      "Jaccard score micro average: 0.379\n",
      "f1 score sample average: 0.435\n",
      "f1 score macro average: 0.542\n",
      "f1 score micro average: 0.550\n",
      "precision score sample average: 0.480\n",
      "precision score macro average: 0.854\n",
      "precision score micro average: 0.824\n",
      "recall score sample average: 0.426\n",
      "recall score macro average: 0.406\n",
      "recall score micro average: 0.413\n"
     ]
    },
    {
     "name": "stderr",
     "output_type": "stream",
     "text": [
      "/home/aurelien/.local/lib/python3.10/site-packages/sklearn/metrics/_classification.py:1318: UndefinedMetricWarning: Precision is ill-defined and being set to 0.0 in samples with no predicted labels. Use `zero_division` parameter to control this behavior.\n",
      "  _warn_prf(average, modifier, msg_start, len(result))\n"
     ]
    }
   ],
   "source": [
    "THRESHOLD = 0.5\n",
    "y_pred_text = [[x for x in mlb.classes_ if y[x] > THRESHOLD]\n",
    "               for y in val_trf.text_cats.values]\n",
    "y_pred_code = [[x for x in mlb.classes_ if y[x] > THRESHOLD]\n",
    "               for y in val_trf.code_cats.values]\n",
    "\n",
    "y_pred_text = mlb.transform(y_pred_text)\n",
    "y_pred_code = mlb.transform(y_pred_code)\n",
    "evaluate_predictions(y, y_pred_text, y_pred_code, mlb, \"roberta\")\n"
   ]
  },
  {
   "cell_type": "markdown",
   "metadata": {},
   "source": [
    "### USE tensorflow hub with XGBoost"
   ]
  },
  {
   "attachments": {},
   "cell_type": "markdown",
   "metadata": {},
   "source": [
    "#### Embedding"
   ]
  },
  {
   "cell_type": "code",
   "execution_count": 4,
   "metadata": {},
   "outputs": [
    {
     "name": "stderr",
     "output_type": "stream",
     "text": [
      "/home/aurelien/.local/lib/python3.10/site-packages/transformers/generation_utils.py:24: FutureWarning: Importing `GenerationMixin` from `src/transformers/generation_utils.py` is deprecated and will be removed in Transformers v5. Import as `from transformers import GenerationMixin` instead.\n",
      "  warnings.warn(\n",
      "/home/aurelien/.local/lib/python3.10/site-packages/transformers/generation_tf_utils.py:24: FutureWarning: Importing `TFGenerationMixin` from `src/transformers/generation_tf_utils.py` is deprecated and will be removed in Transformers v5. Import as `from transformers import TFGenerationMixin` instead.\n",
      "  warnings.warn(\n"
     ]
    }
   ],
   "source": [
    "import tensorflow as tf\n",
    "# import tensorflow_hub as hub\n",
    "import tensorflow.keras\n",
    "import os\n",
    "from tensorflow.keras import backend as K\n",
    "\n",
    "from tensorflow.keras.preprocessing.text import Tokenizer\n",
    "from tensorflow.keras.preprocessing.sequence import pad_sequences\n",
    "from tensorflow.keras import metrics as kmetrics\n",
    "from tensorflow.keras.layers import *\n",
    "from tensorflow.keras.models import Model\n",
    "\n",
    "# Bert\n",
    "import transformers\n",
    "from transformers import *\n",
    "\n",
    "os.environ[\"TF_KERAS\"]='1'"
   ]
  },
  {
   "cell_type": "code",
   "execution_count": 5,
   "metadata": {},
   "outputs": [
    {
     "name": "stdout",
     "output_type": "stream",
     "text": [
      "2.11.0\n",
      "2.11.0\n",
      "Num GPUs Available:  1\n",
      "True\n"
     ]
    }
   ],
   "source": [
    "print(tf.__version__)\n",
    "print(tensorflow.__version__)\n",
    "print(\"Num GPUs Available: \", len(tf.config.experimental.list_physical_devices('GPU')))\n",
    "print(tf.test.is_built_with_cuda())"
   ]
  },
  {
   "cell_type": "code",
   "execution_count": 6,
   "metadata": {},
   "outputs": [
    {
     "name": "stderr",
     "output_type": "stream",
     "text": [
      "loading configuration file /tmp/tmpw5sk5l2p/config.json\n",
      "Model config RobertaConfig {\n",
      "  \"_name_or_path\": \"/tmp/tmpw5sk5l2p/config.json\",\n",
      "  \"architectures\": [\n",
      "    \"RobertaForMaskedLM\"\n",
      "  ],\n",
      "  \"attention_probs_dropout_prob\": 0.1,\n",
      "  \"bos_token_id\": 0,\n",
      "  \"classifier_dropout\": null,\n",
      "  \"eos_token_id\": 2,\n",
      "  \"hidden_act\": \"gelu\",\n",
      "  \"hidden_dropout_prob\": 0.1,\n",
      "  \"hidden_size\": 768,\n",
      "  \"initializer_range\": 0.02,\n",
      "  \"intermediate_size\": 3072,\n",
      "  \"layer_norm_eps\": 1e-05,\n",
      "  \"max_position_embeddings\": 514,\n",
      "  \"model_type\": \"roberta\",\n",
      "  \"num_attention_heads\": 12,\n",
      "  \"num_hidden_layers\": 12,\n",
      "  \"pad_token_id\": 1,\n",
      "  \"position_embedding_type\": \"absolute\",\n",
      "  \"transformers_version\": \"4.26.1\",\n",
      "  \"type_vocab_size\": 1,\n",
      "  \"use_cache\": true,\n",
      "  \"vocab_size\": 50265\n",
      "}\n",
      "\n",
      "loading file vocab.json\n",
      "loading file merges.txt\n",
      "loading file tokenizer.json\n",
      "loading file added_tokens.json\n",
      "loading file special_tokens_map.json\n",
      "loading file tokenizer_config.json\n"
     ]
    },
    {
     "name": "stdout",
     "output_type": "stream",
     "text": [
      "preprocessing\n"
     ]
    },
    {
     "name": "stderr",
     "output_type": "stream",
     "text": [
      "100%|██████████| 105715/105715 [00:39<00:00, 2670.51it/s]\n"
     ]
    },
    {
     "name": "stdout",
     "output_type": "stream",
     "text": [
      "preprocessing\n"
     ]
    },
    {
     "name": "stderr",
     "output_type": "stream",
     "text": [
      "100%|██████████| 105715/105715 [02:13<00:00, 789.14it/s]\n"
     ]
    }
   ],
   "source": [
    "train_df = sample_train.loc[:]\n",
    "train_df.fillna(\"\", inplace=True)\n",
    "nlp = spacy.load(\"en_core_web_trf\")\n",
    "train_df[\"text_processed\"] = preprocess_transformers(train_df.text)\n",
    "train_df[\"code_processed\"] = preprocess_transformers(train_df.code)\n"
   ]
  },
  {
   "cell_type": "code",
   "execution_count": 7,
   "metadata": {},
   "outputs": [],
   "source": [
    "import tensorflow_hub as hub\n",
    "import torch\n",
    "import gc\n",
    "del nlp\n",
    "gc.collect()\n",
    "torch.cuda.empty_cache()\n"
   ]
  },
  {
   "cell_type": "code",
   "execution_count": 8,
   "metadata": {},
   "outputs": [
    {
     "name": "stderr",
     "output_type": "stream",
     "text": [
      "2023-03-24 11:35:56.801813: I tensorflow/core/platform/cpu_feature_guard.cc:193] This TensorFlow binary is optimized with oneAPI Deep Neural Network Library (oneDNN) to use the following CPU instructions in performance-critical operations:  AVX2 FMA\n",
      "To enable them in other operations, rebuild TensorFlow with the appropriate compiler flags.\n",
      "2023-03-24 11:35:56.802877: I tensorflow/compiler/xla/stream_executor/cuda/cuda_gpu_executor.cc:981] successful NUMA node read from SysFS had negative value (-1), but there must be at least one NUMA node, so returning NUMA node zero\n",
      "2023-03-24 11:35:56.803093: I tensorflow/compiler/xla/stream_executor/cuda/cuda_gpu_executor.cc:981] successful NUMA node read from SysFS had negative value (-1), but there must be at least one NUMA node, so returning NUMA node zero\n",
      "2023-03-24 11:35:56.803247: I tensorflow/compiler/xla/stream_executor/cuda/cuda_gpu_executor.cc:981] successful NUMA node read from SysFS had negative value (-1), but there must be at least one NUMA node, so returning NUMA node zero\n",
      "2023-03-24 11:35:56.804629: I tensorflow/compiler/xla/stream_executor/cuda/cuda_gpu_executor.cc:981] successful NUMA node read from SysFS had negative value (-1), but there must be at least one NUMA node, so returning NUMA node zero\n",
      "2023-03-24 11:35:56.805444: I tensorflow/compiler/xla/stream_executor/cuda/cuda_gpu_executor.cc:981] successful NUMA node read from SysFS had negative value (-1), but there must be at least one NUMA node, so returning NUMA node zero\n",
      "2023-03-24 11:35:56.805606: I tensorflow/compiler/xla/stream_executor/cuda/cuda_gpu_executor.cc:981] successful NUMA node read from SysFS had negative value (-1), but there must be at least one NUMA node, so returning NUMA node zero\n",
      "2023-03-24 11:35:56.806017: I tensorflow/core/common_runtime/gpu/gpu_device.cc:1613] Created device /job:localhost/replica:0/task:0/device:GPU:0 with 5947 MB memory:  -> device: 0, name: NVIDIA GeForce RTX 2070, pci bus id: 0000:1f:00.0, compute capability: 7.5\n"
     ]
    }
   ],
   "source": [
    "\n",
    "embed = hub.load(\"https://tfhub.dev/google/universal-sentence-encoder/4\")"
   ]
  },
  {
   "cell_type": "code",
   "execution_count": 9,
   "metadata": {},
   "outputs": [],
   "source": [
    "def feature_USE_fct(sentences, b_size) :\n",
    "    batch_size = b_size\n",
    "    # time1 = time.time()\n",
    "    \n",
    "    for step in tqdm(range(len(sentences)//batch_size+1)):\n",
    "        idx = step*batch_size\n",
    "        feat = embed(sentences[idx:idx+batch_size])\n",
    "\n",
    "        if step ==0 :\n",
    "            features = feat\n",
    "        else :\n",
    "            features = np.concatenate((features,feat))\n",
    "\n",
    "    # time2 = np.round(time.time() - time1,0)\n",
    "    return features"
   ]
  },
  {
   "cell_type": "code",
   "execution_count": 10,
   "metadata": {},
   "outputs": [
    {
     "name": "stderr",
     "output_type": "stream",
     "text": [
      "  0%|          | 0/10572 [00:00<?, ?it/s]2023-03-24 11:36:02.647920: I tensorflow/tsl/platform/default/subprocess.cc:304] Start cannot spawn child process: No such file or directory\n",
      "100%|██████████| 10572/10572 [04:15<00:00, 41.36it/s]\n",
      "100%|██████████| 10572/10572 [03:58<00:00, 44.30it/s]\n"
     ]
    }
   ],
   "source": [
    "batch_size = 10\n",
    "text_embedded_use = feature_USE_fct(train_df[\"text_processed\"].to_list(), batch_size)\n",
    "code_embedded_use = feature_USE_fct(\n",
    "    train_df[\"code_processed\"].to_list(), batch_size)\n"
   ]
  },
  {
   "cell_type": "code",
   "execution_count": 11,
   "metadata": {},
   "outputs": [],
   "source": [
    "from sklearn.preprocessing import MultiLabelBinarizer\n",
    "\n",
    "sample_train.tag_list = sample_train.tag_list.apply(\n",
    "    lambda tag_list: [tag for tag in tag_list if tag in selected_tags])\n",
    "sample_test.tag_list = sample_test.tag_list.apply(\n",
    "    lambda tag_list: [tag for tag in tag_list if tag in selected_tags])\n",
    "sample_validation.tag_list = sample_validation.tag_list.apply(\n",
    "    lambda tag_list: [tag for tag in tag_list if tag in selected_tags])\n",
    "\n",
    "mlb = MultiLabelBinarizer()\n",
    "mlb.fit([selected_tags])\n",
    "y_train = mlb.transform(sample_train.tag_list.values)\n",
    "y_train_sets = sample_train.tag_list.apply(set)\n",
    "\n"
   ]
  },
  {
   "attachments": {},
   "cell_type": "markdown",
   "metadata": {},
   "source": [
    "#### Training"
   ]
  },
  {
   "cell_type": "code",
   "execution_count": 12,
   "metadata": {},
   "outputs": [
    {
     "data": {
      "text/plain": [
       "XGBClassifier(base_score=None, booster=None, callbacks=None,\n",
       "              colsample_bylevel=None, colsample_bynode=None,\n",
       "              colsample_bytree=None, early_stopping_rounds=None,\n",
       "              enable_categorical=False, eval_metric=None, feature_types=None,\n",
       "              gamma=None, gpu_id=None, grow_policy=None, importance_type=None,\n",
       "              interaction_constraints=None, learning_rate=None, max_bin=None,\n",
       "              max_cat_threshold=None, max_cat_to_onehot=None,\n",
       "              max_delta_step=None, max_depth=None, max_leaves=None,\n",
       "              min_child_weight=None, missing=nan, monotone_constraints=None,\n",
       "              n_estimators=100, n_jobs=None, num_parallel_tree=None,\n",
       "              predictor=None, random_state=None, ...)"
      ]
     },
     "execution_count": 12,
     "metadata": {},
     "output_type": "execute_result"
    }
   ],
   "source": [
    "from sklearn.datasets import make_multilabel_classification\n",
    "import numpy as np\n",
    "from xgboost import XGBClassifier\n",
    "\n",
    "text_USE_xgb = XGBClassifier(tree_method=\"hist\")\n",
    "text_USE_xgb.fit(text_embedded_use, y_train)\n",
    "\n",
    "code_USE_xgb = XGBClassifier(tree_method=\"hist\")\n",
    "code_USE_xgb.fit(code_embedded_use, y_train)\n"
   ]
  },
  {
   "cell_type": "markdown",
   "metadata": {},
   "source": [
    "#### Evaluation"
   ]
  },
  {
   "cell_type": "code",
   "execution_count": 13,
   "metadata": {},
   "outputs": [
    {
     "name": "stderr",
     "output_type": "stream",
     "text": [
      "loading configuration file /tmp/tmpmof4ljh4/config.json\n",
      "Model config RobertaConfig {\n",
      "  \"_name_or_path\": \"/tmp/tmpmof4ljh4/config.json\",\n",
      "  \"architectures\": [\n",
      "    \"RobertaForMaskedLM\"\n",
      "  ],\n",
      "  \"attention_probs_dropout_prob\": 0.1,\n",
      "  \"bos_token_id\": 0,\n",
      "  \"classifier_dropout\": null,\n",
      "  \"eos_token_id\": 2,\n",
      "  \"hidden_act\": \"gelu\",\n",
      "  \"hidden_dropout_prob\": 0.1,\n",
      "  \"hidden_size\": 768,\n",
      "  \"initializer_range\": 0.02,\n",
      "  \"intermediate_size\": 3072,\n",
      "  \"layer_norm_eps\": 1e-05,\n",
      "  \"max_position_embeddings\": 514,\n",
      "  \"model_type\": \"roberta\",\n",
      "  \"num_attention_heads\": 12,\n",
      "  \"num_hidden_layers\": 12,\n",
      "  \"pad_token_id\": 1,\n",
      "  \"position_embedding_type\": \"absolute\",\n",
      "  \"transformers_version\": \"4.26.1\",\n",
      "  \"type_vocab_size\": 1,\n",
      "  \"use_cache\": true,\n",
      "  \"vocab_size\": 50265\n",
      "}\n",
      "\n",
      "loading file vocab.json\n",
      "loading file merges.txt\n",
      "loading file tokenizer.json\n",
      "loading file added_tokens.json\n",
      "loading file special_tokens_map.json\n",
      "loading file tokenizer_config.json\n"
     ]
    }
   ],
   "source": [
    "nlp = spacy.load(\"en_core_web_trf\")\n"
   ]
  },
  {
   "cell_type": "code",
   "execution_count": 14,
   "metadata": {},
   "outputs": [
    {
     "name": "stdout",
     "output_type": "stream",
     "text": [
      "preprocessing\n"
     ]
    },
    {
     "name": "stderr",
     "output_type": "stream",
     "text": [
      "100%|██████████| 14152/14152 [00:07<00:00, 2009.31it/s]\n"
     ]
    },
    {
     "name": "stdout",
     "output_type": "stream",
     "text": [
      "preprocessing\n"
     ]
    },
    {
     "name": "stderr",
     "output_type": "stream",
     "text": [
      "100%|██████████| 14152/14152 [00:20<00:00, 705.01it/s]\n",
      "100%|██████████| 1416/1416 [00:11<00:00, 121.46it/s]\n",
      "100%|██████████| 1416/1416 [00:09<00:00, 148.35it/s]\n"
     ]
    }
   ],
   "source": [
    "val_df = sample_validation.loc[:]\n",
    "val_df.fillna(\"\", inplace=True)\n",
    "\n",
    "val_df[\"text_processed\"] = preprocess_transformers(val_df.text)\n",
    "val_df[\"code_processed\"] = preprocess_transformers(val_df.code)\n",
    "y_val = mlb.transform(val_df.tag_list.values)\n",
    "y_val_sets = val_df.tag_list.apply(set)\n",
    "del nlp\n",
    "gc.collect()\n",
    "torch.cuda.empty_cache()\n",
    "\n",
    "embed = hub.load(\"https://tfhub.dev/google/universal-sentence-encoder/4\")\n",
    "\n",
    "val_text_embedded_use = feature_USE_fct(\n",
    "    val_df[\"text_processed\"].to_list(), batch_size)\n",
    "val_code_embedded_use = feature_USE_fct(\n",
    "    val_df[\"code_processed\"].to_list(), batch_size)\n"
   ]
  },
  {
   "cell_type": "code",
   "execution_count": 15,
   "metadata": {},
   "outputs": [
    {
     "name": "stderr",
     "output_type": "stream",
     "text": [
      "/home/aurelien/.local/lib/python3.10/site-packages/sklearn/metrics/_classification.py:1318: UndefinedMetricWarning: Precision is ill-defined and being set to 0.0 in samples with no predicted labels. Use `zero_division` parameter to control this behavior.\n",
      "  _warn_prf(average, modifier, msg_start, len(result))\n",
      "/home/aurelien/.local/lib/python3.10/site-packages/sklearn/metrics/_classification.py:1318: UndefinedMetricWarning: Precision is ill-defined and being set to 0.0 in samples with no predicted labels. Use `zero_division` parameter to control this behavior.\n",
      "  _warn_prf(average, modifier, msg_start, len(result))\n",
      "/home/aurelien/.local/lib/python3.10/site-packages/sklearn/metrics/_classification.py:1318: UndefinedMetricWarning: Precision is ill-defined and being set to 0.0 in samples with no predicted labels. Use `zero_division` parameter to control this behavior.\n",
      "  _warn_prf(average, modifier, msg_start, len(result))\n"
     ]
    },
    {
     "name": "stdout",
     "output_type": "stream",
     "text": [
      "======= text ==========\n",
      "Roc auc for each tag:\n",
      "[('.net', 0.7107239633526663), ('android', 0.8700043685235033), ('c', 0.7827564059236664), ('c#', 0.7836018165712239), ('c++', 0.7473922345302628), ('css', 0.861133560481318), ('html', 0.7650384127319926), ('ios', 0.8212102569036673), ('iphone', 0.6956288338390058), ('java', 0.7698136417099929), ('javascript', 0.7933065634579138), ('jquery', 0.7977869554959579), ('node.js', 0.7811972508080217), ('objective-c', 0.707509145015619), ('php', 0.8167827181628585), ('python', 0.8670704928404472)]\n",
      "Roc auc macro average: 0.786\n",
      "Jaccard score sample average: 0.549\n",
      "Jaccard score macro average: 0.500\n",
      "Jaccard score micro average: 0.495\n",
      "f1 score sample average: 0.603\n",
      "f1 score macro average: 0.660\n",
      "f1 score micro average: 0.663\n",
      "precision score sample average: 0.632\n",
      "precision score macro average: 0.748\n",
      "precision score micro average: 0.743\n",
      "recall score sample average: 0.623\n",
      "recall score macro average: 0.593\n",
      "recall score micro average: 0.598\n",
      "======= code ==========\n",
      "Roc auc for each tag:\n",
      "[('.net', 0.6078022528489112), ('android', 0.7218158281885403), ('c', 0.7016342873715631), ('c#', 0.72292088495904), ('c++', 0.6932077152914522), ('css', 0.7703510866055336), ('html', 0.6937346215642372), ('ios', 0.7255155604855534), ('iphone', 0.5780951385762861), ('java', 0.6944208918433556), ('javascript', 0.7066374789755923), ('jquery', 0.6687650766289982), ('node.js', 0.7263563735410054), ('objective-c', 0.7164001207264499), ('php', 0.6895696990437606), ('python', 0.7718535621376521)]\n",
      "Roc auc macro average: 0.699\n",
      "Jaccard score sample average: 0.390\n",
      "Jaccard score macro average: 0.365\n",
      "Jaccard score micro average: 0.365\n",
      "f1 score sample average: 0.428\n",
      "f1 score macro average: 0.528\n",
      "f1 score micro average: 0.535\n",
      "precision score sample average: 0.451\n",
      "precision score macro average: 0.738\n",
      "precision score micro average: 0.738\n",
      "recall score sample average: 0.440\n",
      "recall score macro average: 0.415\n",
      "recall score micro average: 0.419\n",
      "======= union ==========\n",
      "Roc auc for each tag:\n",
      "[('.net', 0.7592107240915484), ('android', 0.9162881683680354), ('c', 0.8436342647283043), ('c#', 0.8540479800917783), ('c++', 0.7997807665113167), ('css', 0.908539585306271), ('html', 0.817674059305654), ('ios', 0.8858055381062826), ('iphone', 0.7462448708741103), ('java', 0.8308412203199461), ('javascript', 0.8451981956700063), ('jquery', 0.8475233401865289), ('node.js', 0.8564002153126109), ('objective-c', 0.8284250801879254), ('php', 0.8801932909066622), ('python', 0.9339253417999522)]\n",
      "Roc auc macro average: 0.847\n",
      "Jaccard score sample average: 0.624\n",
      "Jaccard score macro average: 0.567\n",
      "Jaccard score micro average: 0.560\n",
      "f1 score sample average: 0.692\n",
      "f1 score macro average: 0.718\n",
      "f1 score micro average: 0.718\n",
      "precision score sample average: 0.690\n",
      "precision score macro average: 0.712\n",
      "precision score micro average: 0.705\n",
      "recall score sample average: 0.757\n",
      "recall score macro average: 0.727\n",
      "recall score micro average: 0.731\n",
      "======= intersection ==========\n",
      "Roc auc for each tag:\n",
      "[('.net', 0.5593154921100292), ('android', 0.6755320283440085), ('c', 0.6407564285669249), ('c#', 0.6524747214384856), ('c++', 0.6408191833103982), ('css', 0.7229450617805807), ('html', 0.641098974990576), ('ios', 0.6609202792829382), ('iphone', 0.5274791015411816), ('java', 0.6333933132334024), ('javascript', 0.6547458467634999), ('jquery', 0.6190286919384271), ('node.js', 0.6511534090364162), ('objective-c', 0.5954841855541435), ('php', 0.626159126299957), ('python', 0.7049987131781472)]\n",
      "Roc auc macro average: 0.638\n",
      "Jaccard score sample average: 0.292\n",
      "Jaccard score macro average: 0.270\n",
      "Jaccard score micro average: 0.273\n",
      "f1 score sample average: 0.318\n",
      "f1 score macro average: 0.416\n",
      "f1 score micro average: 0.428\n",
      "precision score sample average: 0.356\n",
      "precision score macro average: 0.846\n",
      "precision score micro average: 0.852\n",
      "recall score sample average: 0.307\n",
      "recall score macro average: 0.281\n",
      "recall score micro average: 0.286\n"
     ]
    },
    {
     "name": "stderr",
     "output_type": "stream",
     "text": [
      "/home/aurelien/.local/lib/python3.10/site-packages/sklearn/metrics/_classification.py:1318: UndefinedMetricWarning: Precision is ill-defined and being set to 0.0 in samples with no predicted labels. Use `zero_division` parameter to control this behavior.\n",
      "  _warn_prf(average, modifier, msg_start, len(result))\n"
     ]
    }
   ],
   "source": [
    "y_pred_text = text_USE_xgb.predict(val_text_embedded_use)\n",
    "y_pred_code = code_USE_xgb.predict(val_code_embedded_use)\n",
    "\n",
    "evaluate_predictions(y_val, y_pred_text, y_pred_code, mlb, \"use\")\n"
   ]
  },
  {
   "cell_type": "markdown",
   "metadata": {},
   "source": [
    "### Roberta HuggingFace with XGBoost"
   ]
  },
  {
   "attachments": {},
   "cell_type": "markdown",
   "metadata": {},
   "source": [
    "#### Embedding"
   ]
  },
  {
   "cell_type": "code",
   "execution_count": 4,
   "metadata": {},
   "outputs": [
    {
     "name": "stdout",
     "output_type": "stream",
     "text": [
      "preprocessing\n"
     ]
    },
    {
     "name": "stderr",
     "output_type": "stream",
     "text": [
      "100%|██████████| 105715/105715 [00:41<00:00, 2545.90it/s]\n"
     ]
    },
    {
     "name": "stdout",
     "output_type": "stream",
     "text": [
      "preprocessing\n"
     ]
    },
    {
     "name": "stderr",
     "output_type": "stream",
     "text": [
      "100%|██████████| 105715/105715 [02:16<00:00, 772.66it/s]\n"
     ]
    }
   ],
   "source": [
    "nlp = spacy.load(\"en_core_web_trf\")\n",
    "train_df = sample_train.loc[:]\n",
    "train_df.fillna(\"\", inplace=True)\n",
    "train_df[\"text_processed\"] = preprocess_transformers(train_df.text)\n",
    "train_df[\"code_processed\"] = preprocess_transformers(train_df.code)\n"
   ]
  },
  {
   "cell_type": "code",
   "execution_count": 6,
   "metadata": {},
   "outputs": [],
   "source": [
    "train_df_text = train_df[train_df.text_processed != \"\"].loc[:]\n"
   ]
  },
  {
   "cell_type": "code",
   "execution_count": 7,
   "metadata": {},
   "outputs": [
    {
     "name": "stderr",
     "output_type": "stream",
     "text": [
      "2023-03-23 16:29:11.010007: I tensorflow/core/platform/cpu_feature_guard.cc:193] This TensorFlow binary is optimized with oneAPI Deep Neural Network Library (oneDNN) to use the following CPU instructions in performance-critical operations:  AVX2 FMA\n",
      "To enable them in other operations, rebuild TensorFlow with the appropriate compiler flags.\n",
      "2023-03-23 16:29:11.010675: I tensorflow/compiler/xla/stream_executor/cuda/cuda_gpu_executor.cc:981] successful NUMA node read from SysFS had negative value (-1), but there must be at least one NUMA node, so returning NUMA node zero\n",
      "2023-03-23 16:29:11.010891: I tensorflow/compiler/xla/stream_executor/cuda/cuda_gpu_executor.cc:981] successful NUMA node read from SysFS had negative value (-1), but there must be at least one NUMA node, so returning NUMA node zero\n",
      "2023-03-23 16:29:11.011045: I tensorflow/compiler/xla/stream_executor/cuda/cuda_gpu_executor.cc:981] successful NUMA node read from SysFS had negative value (-1), but there must be at least one NUMA node, so returning NUMA node zero\n",
      "2023-03-23 16:29:11.011375: I tensorflow/compiler/xla/stream_executor/cuda/cuda_gpu_executor.cc:981] successful NUMA node read from SysFS had negative value (-1), but there must be at least one NUMA node, so returning NUMA node zero\n",
      "2023-03-23 16:29:11.011650: I tensorflow/compiler/xla/stream_executor/cuda/cuda_gpu_executor.cc:981] successful NUMA node read from SysFS had negative value (-1), but there must be at least one NUMA node, so returning NUMA node zero\n",
      "2023-03-23 16:29:11.012176: I tensorflow/compiler/xla/stream_executor/cuda/cuda_gpu_executor.cc:981] successful NUMA node read from SysFS had negative value (-1), but there must be at least one NUMA node, so returning NUMA node zero\n",
      "2023-03-23 16:29:11.012457: I tensorflow/core/common_runtime/gpu/gpu_device.cc:1613] Created device /job:localhost/replica:0/task:0/device:GPU:0 with 4883 MB memory:  -> device: 0, name: NVIDIA GeForce RTX 2070, pci bus id: 0000:1f:00.0, compute capability: 7.5\n",
      "Some layers from the model checkpoint at roberta-large were not used when initializing TFRobertaModel: ['lm_head']\n",
      "- This IS expected if you are initializing TFRobertaModel from the checkpoint of a model trained on another task or with another architecture (e.g. initializing a BertForSequenceClassification model from a BertForPreTraining model).\n",
      "- This IS NOT expected if you are initializing TFRobertaModel from the checkpoint of a model that you expect to be exactly identical (initializing a BertForSequenceClassification model from a BertForSequenceClassification model).\n",
      "All the layers of TFRobertaModel were initialized from the model checkpoint at roberta-large.\n",
      "If your task is similar to the task the model of the checkpoint was trained on, you can already use TFRobertaModel for predictions without further training.\n"
     ]
    }
   ],
   "source": [
    "from transformers import RobertaTokenizer, TFRobertaModel\n",
    "tokenizer = RobertaTokenizer.from_pretrained('roberta-large')\n",
    "model = TFRobertaModel.from_pretrained('roberta-large')\n"
   ]
  },
  {
   "cell_type": "code",
   "execution_count": 27,
   "metadata": {},
   "outputs": [],
   "source": [
    "\n",
    "def feature_Roberta_fct(sentences, b_size) :\n",
    "    batch_size = b_size\n",
    "    # time1 = time.time()\n",
    "    features = None\n",
    "    for step in tqdm(range(len(sentences)//batch_size+1)):\n",
    "        idx = step*batch_size\n",
    "        tensors = tokenizer(sentences[idx:idx+batch_size], return_tensors='tf', padding=True,truncation=True)\n",
    "        outputs = model(tensors)\n",
    "        last_hidden_states = outputs.last_hidden_state\n",
    "        batch_features = np.array(last_hidden_states).mean(axis=1)\n",
    "        if features is None:\n",
    "            features = batch_features\n",
    "        else:\n",
    "            features = np.concatenate([features, batch_features])\n",
    "\n",
    "    # time2 = np.round(time.time() - time1,0)\n",
    "    return features"
   ]
  },
  {
   "cell_type": "code",
   "execution_count": 28,
   "metadata": {},
   "outputs": [
    {
     "name": "stderr",
     "output_type": "stream",
     "text": [
      "100%|██████████| 10572/10572 [1:25:40<00:00,  2.06it/s]\n",
      "100%|██████████| 10572/10572 [1:14:48<00:00,  2.36it/s]\n"
     ]
    }
   ],
   "source": [
    "batch_size = 10\n",
    "text_embedded_roberta = feature_Roberta_fct(\n",
    "    train_df[\"text_processed\"].to_list(), batch_size)\n",
    "code_embedded_roberta = feature_Roberta_fct(\n",
    "    train_df[\"code_processed\"].to_list(), batch_size)\n"
   ]
  },
  {
   "cell_type": "code",
   "execution_count": 31,
   "metadata": {},
   "outputs": [],
   "source": [
    "np.save('./roberta_train_text_embed.npy', text_embedded_roberta)\n",
    "np.save('./roberta_train_code_embed.npy', code_embedded_roberta)\n"
   ]
  },
  {
   "cell_type": "code",
   "execution_count": 33,
   "metadata": {},
   "outputs": [],
   "source": [
    "from sklearn.preprocessing import MultiLabelBinarizer\n",
    "\n",
    "sample_train.tag_list = sample_train.tag_list.apply(\n",
    "    lambda tag_list: [tag for tag in tag_list if tag in selected_tags])\n",
    "sample_test.tag_list = sample_test.tag_list.apply(\n",
    "    lambda tag_list: [tag for tag in tag_list if tag in selected_tags])\n",
    "sample_validation.tag_list = sample_validation.tag_list.apply(\n",
    "    lambda tag_list: [tag for tag in tag_list if tag in selected_tags])\n",
    "\n",
    "mlb = MultiLabelBinarizer()\n",
    "mlb.fit([selected_tags])\n",
    "y_train = mlb.transform(sample_train.tag_list.values)\n",
    "y_train_sets = sample_train.tag_list.apply(set)\n",
    "\n"
   ]
  },
  {
   "attachments": {},
   "cell_type": "markdown",
   "metadata": {},
   "source": [
    "#### Training"
   ]
  },
  {
   "cell_type": "code",
   "execution_count": 34,
   "metadata": {},
   "outputs": [
    {
     "data": {
      "text/plain": [
       "XGBClassifier(base_score=None, booster=None, callbacks=None,\n",
       "              colsample_bylevel=None, colsample_bynode=None,\n",
       "              colsample_bytree=None, early_stopping_rounds=None,\n",
       "              enable_categorical=False, eval_metric=None, feature_types=None,\n",
       "              gamma=None, gpu_id=None, grow_policy=None, importance_type=None,\n",
       "              interaction_constraints=None, learning_rate=None, max_bin=None,\n",
       "              max_cat_threshold=None, max_cat_to_onehot=None,\n",
       "              max_delta_step=None, max_depth=None, max_leaves=None,\n",
       "              min_child_weight=None, missing=nan, monotone_constraints=None,\n",
       "              n_estimators=100, n_jobs=None, num_parallel_tree=None,\n",
       "              predictor=None, random_state=None, ...)"
      ]
     },
     "execution_count": 34,
     "metadata": {},
     "output_type": "execute_result"
    }
   ],
   "source": [
    "from sklearn.datasets import make_multilabel_classification\n",
    "import numpy as np\n",
    "from xgboost import XGBClassifier\n",
    "\n",
    "text_roberta_xgb = XGBClassifier(tree_method=\"hist\")\n",
    "text_roberta_xgb.fit(text_embedded_roberta, y_train)\n",
    "\n",
    "code_roberta_xgb = XGBClassifier(tree_method=\"hist\")\n",
    "code_roberta_xgb.fit(code_embedded_roberta, y_train)\n"
   ]
  },
  {
   "cell_type": "markdown",
   "metadata": {},
   "source": [
    "#### Evaluation"
   ]
  },
  {
   "cell_type": "code",
   "execution_count": 35,
   "metadata": {},
   "outputs": [
    {
     "name": "stdout",
     "output_type": "stream",
     "text": [
      "preprocessing\n"
     ]
    },
    {
     "name": "stderr",
     "output_type": "stream",
     "text": [
      "100%|██████████| 14152/14152 [00:04<00:00, 2979.21it/s]\n"
     ]
    },
    {
     "name": "stdout",
     "output_type": "stream",
     "text": [
      "preprocessing\n"
     ]
    },
    {
     "name": "stderr",
     "output_type": "stream",
     "text": [
      "100%|██████████| 14152/14152 [00:17<00:00, 824.16it/s] \n"
     ]
    },
    {
     "ename": "NameError",
     "evalue": "name 'gc' is not defined",
     "output_type": "error",
     "traceback": [
      "\u001b[0;31m---------------------------------------------------------------------------\u001b[0m",
      "\u001b[0;31mNameError\u001b[0m                                 Traceback (most recent call last)",
      "\u001b[0;32m/tmp/ipykernel_44434/120180252.py\u001b[0m in \u001b[0;36m<module>\u001b[0;34m\u001b[0m\n\u001b[1;32m      7\u001b[0m \u001b[0my_val_sets\u001b[0m \u001b[0;34m=\u001b[0m \u001b[0mval_df\u001b[0m\u001b[0;34m.\u001b[0m\u001b[0mtag_list\u001b[0m\u001b[0;34m.\u001b[0m\u001b[0mapply\u001b[0m\u001b[0;34m(\u001b[0m\u001b[0mset\u001b[0m\u001b[0;34m)\u001b[0m\u001b[0;34m\u001b[0m\u001b[0;34m\u001b[0m\u001b[0m\n\u001b[1;32m      8\u001b[0m \u001b[0;32mdel\u001b[0m \u001b[0mnlp\u001b[0m\u001b[0;34m\u001b[0m\u001b[0;34m\u001b[0m\u001b[0m\n\u001b[0;32m----> 9\u001b[0;31m \u001b[0mgc\u001b[0m\u001b[0;34m.\u001b[0m\u001b[0mcollect\u001b[0m\u001b[0;34m(\u001b[0m\u001b[0;34m)\u001b[0m\u001b[0;34m\u001b[0m\u001b[0;34m\u001b[0m\u001b[0m\n\u001b[0m\u001b[1;32m     10\u001b[0m \u001b[0mtorch\u001b[0m\u001b[0;34m.\u001b[0m\u001b[0mcuda\u001b[0m\u001b[0;34m.\u001b[0m\u001b[0mempty_cache\u001b[0m\u001b[0;34m(\u001b[0m\u001b[0;34m)\u001b[0m\u001b[0;34m\u001b[0m\u001b[0;34m\u001b[0m\u001b[0m\n\u001b[1;32m     11\u001b[0m \u001b[0;34m\u001b[0m\u001b[0m\n",
      "\u001b[0;31mNameError\u001b[0m: name 'gc' is not defined"
     ]
    }
   ],
   "source": [
    "val_df = sample_validation.loc[:]\n",
    "val_df.fillna(\"\", inplace=True)\n",
    "\n",
    "val_df[\"text_processed\"] = preprocess_transformers(val_df.text)\n",
    "val_df[\"code_processed\"] = preprocess_transformers(val_df.code)\n",
    "y_val = mlb.transform(val_df.tag_list.values)\n",
    "y_val_sets = val_df.tag_list.apply(set)\n",
    "\n",
    "\n"
   ]
  },
  {
   "cell_type": "code",
   "execution_count": 36,
   "metadata": {},
   "outputs": [
    {
     "name": "stderr",
     "output_type": "stream",
     "text": [
      "100%|██████████| 1416/1416 [10:46<00:00,  2.19it/s]\n",
      "100%|██████████| 1416/1416 [09:21<00:00,  2.52it/s]\n"
     ]
    }
   ],
   "source": [
    "\n",
    "val_text_embedded_roberta = feature_Roberta_fct(\n",
    "    val_df[\"text_processed\"].to_list(), batch_size)\n",
    "val_code_embedded_roberta = feature_Roberta_fct(\n",
    "    val_df[\"code_processed\"].to_list(), batch_size)\n"
   ]
  },
  {
   "cell_type": "code",
   "execution_count": 57,
   "metadata": {},
   "outputs": [
    {
     "name": "stderr",
     "output_type": "stream",
     "text": [
      "/home/aurelien/.local/lib/python3.10/site-packages/sklearn/metrics/_classification.py:1318: UndefinedMetricWarning: Precision is ill-defined and being set to 0.0 in samples with no predicted labels. Use `zero_division` parameter to control this behavior.\n",
      "  _warn_prf(average, modifier, msg_start, len(result))\n",
      "/home/aurelien/.local/lib/python3.10/site-packages/sklearn/metrics/_classification.py:1318: UndefinedMetricWarning: Precision is ill-defined and being set to 0.0 in samples with no predicted labels. Use `zero_division` parameter to control this behavior.\n",
      "  _warn_prf(average, modifier, msg_start, len(result))\n",
      "/home/aurelien/.local/lib/python3.10/site-packages/sklearn/metrics/_classification.py:1318: UndefinedMetricWarning: Precision is ill-defined and being set to 0.0 in samples with no predicted labels. Use `zero_division` parameter to control this behavior.\n",
      "  _warn_prf(average, modifier, msg_start, len(result))\n"
     ]
    },
    {
     "name": "stdout",
     "output_type": "stream",
     "text": [
      "======= text ==========\n",
      "Roc auc for each tag:\n",
      "[('.net', 0.5323535435082127), ('android', 0.6626565762339472), ('c', 0.6828096040229613), ('c#', 0.552334829047802), ('c++', 0.6239461723852171), ('css', 0.7829796975824226), ('html', 0.6796912837133751), ('ios', 0.6458077954614209), ('iphone', 0.591707405666083), ('java', 0.5609867626582026), ('javascript', 0.6522539819979319), ('jquery', 0.6634266860546297), ('node.js', 0.6387525535404298), ('objective-c', 0.5553907087146605), ('php', 0.6169504685277717), ('python', 0.6357380178577778)]\n",
      "Roc auc macro average: 0.630\n",
      "Jaccard score sample average: 0.242\n",
      "Jaccard score macro average: 0.239\n",
      "Jaccard score micro average: 0.242\n",
      "f1 score sample average: 0.273\n",
      "f1 score macro average: 0.374\n",
      "f1 score micro average: 0.390\n",
      "precision score sample average: 0.301\n",
      "precision score macro average: 0.638\n",
      "precision score micro average: 0.648\n",
      "recall score sample average: 0.277\n",
      "recall score macro average: 0.276\n",
      "recall score micro average: 0.279\n",
      "======= code ==========\n",
      "Roc auc for each tag:\n",
      "[('.net', 0.5420030978515346), ('android', 0.6418505836475886), ('c', 0.653263066465354), ('c#', 0.6218703046509704), ('c++', 0.6374889569759221), ('css', 0.7467961172327656), ('html', 0.669510384643231), ('ios', 0.6544089198833206), ('iphone', 0.5527741276742861), ('java', 0.5831494394026773), ('javascript', 0.6498303461950187), ('jquery', 0.6156000077038265), ('node.js', 0.6702567087381435), ('objective-c', 0.6462500917465306), ('php', 0.6028058287493941), ('python', 0.6853394903622148)]\n",
      "Roc auc macro average: 0.636\n",
      "Jaccard score sample average: 0.262\n",
      "Jaccard score macro average: 0.254\n",
      "Jaccard score micro average: 0.257\n",
      "f1 score sample average: 0.291\n",
      "f1 score macro average: 0.397\n",
      "f1 score micro average: 0.409\n",
      "precision score sample average: 0.315\n",
      "precision score macro average: 0.696\n",
      "precision score micro average: 0.699\n",
      "recall score sample average: 0.295\n",
      "recall score macro average: 0.285\n",
      "recall score micro average: 0.289\n",
      "======= union ==========\n",
      "Roc auc for each tag:\n",
      "[('.net', 0.5695704831731794), ('android', 0.7459321337025163), ('c', 0.7591520289410676), ('c#', 0.6546136345638118), ('c++', 0.7019823463670162), ('css', 0.8599304724476423), ('html', 0.7567999136688496), ('ios', 0.744820942704811), ('iphone', 0.6387482789432982), ('java', 0.6269183571372082), ('javascript', 0.7346317592427805), ('jquery', 0.7305408567617929), ('node.js', 0.7484424002800504), ('objective-c', 0.6789412673854412), ('php', 0.6871668396736251), ('python', 0.7628129256766202)]\n",
      "Roc auc macro average: 0.713\n",
      "Jaccard score sample average: 0.382\n",
      "Jaccard score macro average: 0.362\n",
      "Jaccard score micro average: 0.365\n",
      "f1 score sample average: 0.432\n",
      "f1 score macro average: 0.523\n",
      "f1 score micro average: 0.535\n",
      "precision score sample average: 0.447\n",
      "precision score macro average: 0.644\n",
      "precision score micro average: 0.644\n",
      "recall score sample average: 0.462\n",
      "recall score macro average: 0.452\n",
      "recall score micro average: 0.457\n",
      "======= intersection ==========\n",
      "Roc auc for each tag:\n",
      "[('.net', 0.5047861581865678), ('android', 0.5585750261790194), ('c', 0.5769206415472478), ('c#', 0.5195914991349605), ('c++', 0.559452782994123), ('css', 0.6698453423675459), ('html', 0.5924017546877565), ('ios', 0.5553957726399307), ('iphone', 0.5057332543970711), ('java', 0.5172178449236714), ('javascript', 0.5674525689501702), ('jquery', 0.5484858369966633), ('node.js', 0.560566861998523), ('objective-c', 0.5226995330757499), ('php', 0.5325894576035406), ('python', 0.5582645825433726)]\n",
      "Roc auc macro average: 0.553\n",
      "Jaccard score sample average: 0.105\n",
      "Jaccard score macro average: 0.106\n",
      "Jaccard score micro average: 0.108\n",
      "f1 score sample average: 0.117\n",
      "f1 score macro average: 0.183\n",
      "f1 score micro average: 0.195\n",
      "precision score sample average: 0.138\n",
      "precision score macro average: 0.821\n",
      "precision score micro average: 0.829\n",
      "recall score sample average: 0.109\n",
      "recall score macro average: 0.109\n",
      "recall score micro average: 0.110\n"
     ]
    },
    {
     "name": "stderr",
     "output_type": "stream",
     "text": [
      "/home/aurelien/.local/lib/python3.10/site-packages/sklearn/metrics/_classification.py:1318: UndefinedMetricWarning: Precision is ill-defined and being set to 0.0 in samples with no predicted labels. Use `zero_division` parameter to control this behavior.\n",
      "  _warn_prf(average, modifier, msg_start, len(result))\n"
     ]
    }
   ],
   "source": [
    "y_pred_text = text_roberta_xgb.predict(val_text_embedded_roberta)\n",
    "y_pred_code = code_roberta_xgb.predict(val_code_embedded_roberta)\n",
    "\n",
    "evaluate_predictions(y_val, y_pred_text, y_pred_code, mlb, \"roberta_hf_xgb\")\n"
   ]
  },
  {
   "cell_type": "markdown",
   "metadata": {},
   "source": [
    "## Results study"
   ]
  },
  {
   "cell_type": "code",
   "execution_count": 91,
   "metadata": {},
   "outputs": [],
   "source": [
    "variants = ['lda', 'bow', 'tok2vec', 'roberta', 'roberta_hf_xgb']\n",
    "subvariants = ['text', 'code', 'union', 'intersection']\n",
    "results = {}\n",
    "\n",
    "for variant in variants:\n",
    "    with open(f'{variant}_results.json', 'r') as openfile:\n",
    "        results[variant] = json.load(openfile)\n"
   ]
  },
  {
   "attachments": {},
   "cell_type": "markdown",
   "metadata": {},
   "source": [
    "### ROC AUC Macro average"
   ]
  },
  {
   "cell_type": "code",
   "execution_count": 85,
   "metadata": {},
   "outputs": [
    {
     "data": {
      "image/png": "[encoded data removed]",
      "text/plain": [
       "<Figure size 864x576 with 1 Axes>"
      ]
     },
     "metadata": {
      "needs_background": "light"
     },
     "output_type": "display_data"
    }
   ],
   "source": [
    "measure = 'roc_macro'\n",
    "x = np.arange(5)\n",
    "text = [results[x]['text'][measure] for x in variants]\n",
    "code = [results[x]['code'][measure] for x in variants]\n",
    "union = [results[x]['union'][measure] for x in variants]\n",
    "intersection = [results[x]['intersection'][measure] for x in variants]\n",
    "width = 0.2\n",
    "\n",
    "# plot data in grouped manner of bar type\n",
    "fig = plt.figure(figsize=(12,8))\n",
    "plt.bar(x-0.3, text, width, color='blue')\n",
    "plt.bar(x-0.1, code, width, color='orange')\n",
    "plt.bar(x+0.1, union, width, color='green')\n",
    "plt.bar(x+0.3, intersection, width, color='red')\n",
    "plt.xticks(x, variants)\n",
    "plt.xlabel(\"variants\")\n",
    "plt.ylabel(measure)\n",
    "plt.legend(subvariants)\n",
    "plt.show()\n"
   ]
  },
  {
   "attachments": {},
   "cell_type": "markdown",
   "metadata": {},
   "source": [
    "### Jaccard score samples average"
   ]
  },
  {
   "cell_type": "code",
   "execution_count": 95,
   "metadata": {},
   "outputs": [
    {
     "data": {
      "image/png": "[encoded data removed]",
      "text/plain": [
       "<Figure size 864x576 with 1 Axes>"
      ]
     },
     "metadata": {
      "needs_background": "light"
     },
     "output_type": "display_data"
    }
   ],
   "source": [
    "measure = 'jaccard_samples'\n",
    "x = np.arange(5)\n",
    "text = [results[x]['text'][measure] for x in variants]\n",
    "code = [results[x]['code'][measure] for x in variants]\n",
    "union = [results[x]['union'][measure] for x in variants]\n",
    "intersection = [results[x]['intersection'][measure] for x in variants]\n",
    "width = 0.2\n",
    "\n",
    "# plot data in grouped manner of bar type\n",
    "fig = plt.figure(figsize=(12, 8))\n",
    "plt.bar(x-0.3, text, width, color='blue')\n",
    "plt.bar(x-0.1, code, width, color='orange')\n",
    "plt.bar(x+0.1, union, width, color='green')\n",
    "plt.bar(x+0.3, intersection, width, color='red')\n",
    "plt.xticks(x, variants)\n",
    "plt.xlabel(\"variants\")\n",
    "plt.ylabel(measure)\n",
    "plt.legend(subvariants)\n",
    "plt.show()\n"
   ]
  },
  {
   "attachments": {},
   "cell_type": "markdown",
   "metadata": {},
   "source": [
    "### Recall samples average"
   ]
  },
  {
   "cell_type": "code",
   "execution_count": 93,
   "metadata": {},
   "outputs": [
    {
     "data": {
      "image/png": "[encoded data removed]",
      "text/plain": [
       "<Figure size 864x576 with 1 Axes>"
      ]
     },
     "metadata": {
      "needs_background": "light"
     },
     "output_type": "display_data"
    }
   ],
   "source": [
    "measure = 'recall_samples'\n",
    "x = np.arange(5)\n",
    "text = [results[x]['text'][measure] for x in variants]\n",
    "code = [results[x]['code'][measure] for x in variants]\n",
    "union = [results[x]['union'][measure] for x in variants]\n",
    "intersection = [results[x]['intersection'][measure] for x in variants]\n",
    "width = 0.2 \n",
    "\n",
    "# plot data in grouped manner of bar type\n",
    "fig = plt.figure(figsize=(12, 8))\n",
    "plt.bar(x-0.3, text, width, color='blue')\n",
    "plt.bar(x-0.1, code, width, color='orange')\n",
    "plt.bar(x+0.1, union, width, color='green')\n",
    "plt.bar(x+0.3, intersection, width, color='red')\n",
    "plt.xticks(x, variants)\n",
    "plt.xlabel(\"variants\")\n",
    "plt.ylabel(measure)\n",
    "plt.legend(subvariants)\n",
    "plt.show()\n"
   ]
  },
  {
   "attachments": {},
   "cell_type": "markdown",
   "metadata": {},
   "source": [
    "### Precision samples average"
   ]
  },
  {
   "cell_type": "code",
   "execution_count": 90,
   "metadata": {},
   "outputs": [
    {
     "data": {
      "image/png": "[encoded data removed]",
      "text/plain": [
       "<Figure size 864x576 with 1 Axes>"
      ]
     },
     "metadata": {
      "needs_background": "light"
     },
     "output_type": "display_data"
    }
   ],
   "source": [
    "measure = 'precision_samples'\n",
    "x = np.arange(5)\n",
    "text = [results[x]['text'][measure] for x in variants]\n",
    "code = [results[x]['code'][measure] for x in variants]\n",
    "union = [results[x]['union'][measure] for x in variants]\n",
    "intersection = [results[x]['intersection'][measure] for x in variants]\n",
    "width = 0.2\n",
    "\n",
    "# plot data in grouped manner of bar type\n",
    "fig = plt.figure(figsize=(12, 8))\n",
    "plt.bar(x-0.3, text, width, color='blue')\n",
    "plt.bar(x-0.1, code, width, color='orange')\n",
    "plt.bar(x+0.1, union, width, color='green')\n",
    "plt.bar(x+0.3, intersection, width, color='red')\n",
    "plt.xticks(x, variants)\n",
    "plt.xlabel(\"variants\")\n",
    "plt.ylabel(measure)\n",
    "plt.legend(subvariants)\n",
    "plt.show()\n"
   ]
  }
 ],
 "metadata": {
  "kernelspec": {
   "display_name": "Python 3",
   "language": "python",
   "name": "python3"
  },
  "language_info": {
   "codemirror_mode": {
    "name": "ipython",
    "version": 3
   },
   "file_extension": ".py",
   "mimetype": "text/x-python",
   "name": "python",
   "nbconvert_exporter": "python",
   "pygments_lexer": "ipython3",
   "version": "3.10.7"
  },
  "orig_nbformat": 4
 },
 "nbformat": 4,
 "nbformat_minor": 2
}
