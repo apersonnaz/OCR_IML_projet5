{
 "cells": [
  {
   "cell_type": "code",
   "execution_count": null,
   "metadata": {},
   "outputs": [],
   "source": [
    "%pip install - U pip setuptools wheel\n",
    "%pip install tqdm\n",
    "%pip install torch torchvision torchaudio\n",
    "!export CUDA_PATH = \"/opt/nvidia/cuda\"\n",
    "%pip install - U spacy[cuda11X, transformers]\n",
    "%pip install transformers[sentencepiece]"
   ]
  },
  {
   "cell_type": "code",
   "execution_count": 1,
   "metadata": {},
   "outputs": [
    {
     "name": "stdout",
     "output_type": "stream",
     "text": [
      "2023-03-23 11:01:55.816882: I tensorflow/core/platform/cpu_feature_guard.cc:193] This TensorFlow binary is optimized with oneAPI Deep Neural Network Library (oneDNN) to use the following CPU instructions in performance-critical operations:  AVX2 FMA\n",
      "To enable them in other operations, rebuild TensorFlow with the appropriate compiler flags.\n",
      "2023-03-23 11:01:57.369844: I tensorflow/compiler/xla/stream_executor/cuda/cuda_gpu_executor.cc:981] successful NUMA node read from SysFS had negative value (-1), but there must be at least one NUMA node, so returning NUMA node zero\n",
      "2023-03-23 11:01:57.370214: I tensorflow/compiler/xla/stream_executor/cuda/cuda_gpu_executor.cc:981] successful NUMA node read from SysFS had negative value (-1), but there must be at least one NUMA node, so returning NUMA node zero\n",
      "2023-03-23 11:01:57.370365: I tensorflow/compiler/xla/stream_executor/cuda/cuda_gpu_executor.cc:981] successful NUMA node read from SysFS had negative value (-1), but there must be at least one NUMA node, so returning NUMA node zero\n",
      "^C\n",
      "2023-03-23 11:02:00.119148: I tensorflow/core/platform/cpu_feature_guard.cc:193] This TensorFlow binary is optimized with oneAPI Deep Neural Network Library (oneDNN) to use the following CPU instructions in performance-critical operations:  AVX2 FMA\n",
      "To enable them in other operations, rebuild TensorFlow with the appropriate compiler flags.\n",
      "2023-03-23 11:02:01.590718: I tensorflow/compiler/xla/stream_executor/cuda/cuda_gpu_executor.cc:981] successful NUMA node read from SysFS had negative value (-1), but there must be at least one NUMA node, so returning NUMA node zero\n",
      "2023-03-23 11:02:01.591114: I tensorflow/compiler/xla/stream_executor/cuda/cuda_gpu_executor.cc:981] successful NUMA node read from SysFS had negative value (-1), but there must be at least one NUMA node, so returning NUMA node zero\n",
      "2023-03-23 11:02:01.591267: I tensorflow/compiler/xla/stream_executor/cuda/cuda_gpu_executor.cc:981] successful NUMA node read from SysFS had negative value (-1), but there must be at least one NUMA node, so returning NUMA node zero\n"
     ]
    }
   ],
   "source": [
    "!python3 -m spacy download en_core_web_lg -qq\n",
    "!python3 -m spacy download en_core_web_trf -qq"
   ]
  },
  {
   "cell_type": "code",
   "execution_count": 1,
   "metadata": {},
   "outputs": [
    {
     "name": "stderr",
     "output_type": "stream",
     "text": [
      "2023-03-23 16:23:57.565946: I tensorflow/core/platform/cpu_feature_guard.cc:193] This TensorFlow binary is optimized with oneAPI Deep Neural Network Library (oneDNN) to use the following CPU instructions in performance-critical operations:  AVX2 FMA\n",
      "To enable them in other operations, rebuild TensorFlow with the appropriate compiler flags.\n",
      "2023-03-23 16:23:59.241489: I tensorflow/compiler/xla/stream_executor/cuda/cuda_gpu_executor.cc:981] successful NUMA node read from SysFS had negative value (-1), but there must be at least one NUMA node, so returning NUMA node zero\n",
      "2023-03-23 16:23:59.241867: I tensorflow/compiler/xla/stream_executor/cuda/cuda_gpu_executor.cc:981] successful NUMA node read from SysFS had negative value (-1), but there must be at least one NUMA node, so returning NUMA node zero\n",
      "2023-03-23 16:23:59.242017: I tensorflow/compiler/xla/stream_executor/cuda/cuda_gpu_executor.cc:981] successful NUMA node read from SysFS had negative value (-1), but there must be at least one NUMA node, so returning NUMA node zero\n"
     ]
    }
   ],
   "source": [
    "import json\n",
    "from tqdm import tqdm\n",
    "import spacy\n",
    "from thinc.api import set_gpu_allocator, require_gpu\n",
    "import numpy as np\n",
    "import pandas as pd\n",
    "from sklearn.preprocessing import MultiLabelBinarizer\n",
    "from sklearn.metrics import roc_auc_score, jaccard_score\n",
    "\n",
    "with open('selected_tags.json', 'r') as openfile:\n",
    "    selected_tags = json.load(openfile)\n"
   ]
  },
  {
   "cell_type": "code",
   "execution_count": 2,
   "metadata": {},
   "outputs": [],
   "source": [
    "import pandas as pd\n",
    "sample_train = pd.read_csv(\n",
    "    './train.csv', converters={'tag_set': eval, 'tag_list': eval})\n",
    "sample_test = pd.read_csv(\n",
    "    './test.csv', converters={'tag_set': eval, 'tag_list': eval})\n",
    "sample_validation = pd.read_csv(\n",
    "    './validation.csv', converters={'tag_set': eval, 'tag_list': eval})\n"
   ]
  },
  {
   "cell_type": "code",
   "execution_count": 3,
   "metadata": {},
   "outputs": [],
   "source": [
    "\n",
    "\n",
    "# Use the GPU, with memory allocations directed via PyTorch.\n",
    "# This prevents out-of-memory errors that would otherwise occur from competing\n",
    "# memory pools.\n",
    "set_gpu_allocator(\"pytorch\")\n",
    "require_gpu(0)\n",
    "\n",
    "\n",
    "def preprocess(texts, nlp):\n",
    "    removal = ['ADV', 'PRON', 'CCONJ', 'PUNCT',\n",
    "               'PART', 'DET', 'ADP', 'SPACE', 'NUM', 'SYM']\n",
    "    tokens = []\n",
    "    cleaned_texts = []\n",
    "    print(\"preprocessing\")\n",
    "    for summary in tqdm(nlp.pipe(texts, disable=[\"tok2vec\"]), total=len(texts)):\n",
    "        question_tokens = []\n",
    "        for token in summary:\n",
    "            if token.pos_ not in removal and not token.is_stop and token.is_alpha:\n",
    "                question_tokens.append(token.lemma_)\n",
    "        cleaned_texts.append(\" \".join(question_tokens))\n",
    "    # question_tokens = [token.lemma_ for token in summary if token.pos_ not in removal and not token.is_stop and token.is_alpha]\n",
    "    return cleaned_texts\n",
    "\n",
    "def preprocess_transformers(texts):\n",
    "    tokens = []\n",
    "    removal = [ 'PUNCT', 'SPACE', 'NUM', 'SYM']\n",
    "    cleaned_texts = []\n",
    "    print(\"preprocessing\")\n",
    "    for summary in tqdm(nlp.pipe(texts, disable=[\"transformer\", \"tagger\", \"parser\", \"attribute_ruler\", \"lemmatizer\", \"ner\"]), total=len(texts)):\n",
    "        question_tokens = []\n",
    "        for token in summary:\n",
    "            if token.pos_ not in removal and token.is_alpha and len(question_tokens)<512:\n",
    "                question_tokens.append(token.lower_)\n",
    "        cleaned_texts.append(\" \".join(question_tokens))\n",
    "    # question_tokens = [token.lemma_ for token in summary if token.pos_ not in removal and not token.is_stop and token.is_alpha]\n",
    "    return cleaned_texts\n",
    "\n",
    "\n",
    "def convert(data, outfile, nlp):\n",
    "    db = spacy.tokens.DocBin()\n",
    "    docs = []\n",
    "    print(\"converting\")\n",
    "    for doc, labels in tqdm(nlp.pipe(data.values, as_tuples=True), total=len(data)):\n",
    "        for tag in selected_tags:\n",
    "            doc.cats[tag] = tag in labels\n",
    "        db.add(doc)\n",
    "    db.to_disk(outfile)\n",
    "\n",
    "def evaluate_predictions(y_val, y_pred_text, y_pred_code, mlb, model_name):\n",
    "    y_union = (y_pred_text.astype(np.bool_) |\n",
    "               y_pred_code.astype(np.bool_)).astype(np.int_)\n",
    "\n",
    "    y_intersec = (y_pred_text.astype(np.bool_) &\n",
    "                y_pred_code.astype(np.bool_)).astype(np.int_)\n",
    "    results = {\n",
    "        \"text\": {\n",
    "            \"roc_per_tags\": list(\n",
    "                zip(mlb.classes_, roc_auc_score(y_val, y_pred_text, average=None))),\n",
    "            \"roc_macro\": roc_auc_score(y_val, y_pred_text, average='macro'),\n",
    "            \"jaccard\": jaccard_score(y_val, y_pred_text, average='samples')\n",
    "        },\n",
    "        \"code\": {\n",
    "            \"roc_per_tags\": list(zip(mlb.classes_, roc_auc_score(y_val, y_pred_code, average=None))),\n",
    "            \"roc_macro\": roc_auc_score(y_val, y_pred_code, average='macro'),\n",
    "            \"jaccard\": jaccard_score(y_val, y_pred_code, average='samples')\n",
    "        },\n",
    "        \"union\": {\n",
    "            \"roc_per_tags\": list(zip(mlb.classes_, roc_auc_score(y_union, y_pred_code, average=None))),\n",
    "            \"roc_macro\": roc_auc_score(y_union, y_pred_code, average='macro'),\n",
    "            \"jaccard\":  jaccard_score(y_union, y_pred_code, average='samples')\n",
    "        },\n",
    "        \"intersection\": {\n",
    "            \"roc_per_tags\": list(zip(mlb.classes_, roc_auc_score(y_intersec, y_pred_code, average=None))),\n",
    "            \"roc_macro\": roc_auc_score(y_intersec, y_pred_code, average='macro'),\n",
    "            \"jaccard\": jaccard_score(y_intersec, y_pred_code, average='samples')\n",
    "        },\n",
    "    }\n",
    "\n",
    "    for i in [\"text\", \"code\", \"union\", \"intersection\"]:\n",
    "        print(f\"======= {i} ==========\")\n",
    "        print(\"Roc auc for each tag:\")\n",
    "        print(results[i][\"roc_per_tags\"])\n",
    "        print(f\"Roc auc macro average: {results[i]['roc_macro']:.3f}\")\n",
    "        print(f\"Jaccard score sample average: {results[i]['jaccard']:.3f}\")\n",
    "\n",
    "    with open(f\"{model_name}_results.json\", \"w\") as outfile:\n",
    "        json.dump(results, outfile)\n"
   ]
  },
  {
   "attachments": {},
   "cell_type": "markdown",
   "metadata": {},
   "source": [
    "### BOW"
   ]
  },
  {
   "cell_type": "code",
   "execution_count": null,
   "metadata": {},
   "outputs": [],
   "source": [
    "nlp = spacy.load('en_core_web_lg')"
   ]
  },
  {
   "attachments": {},
   "cell_type": "markdown",
   "metadata": {},
   "source": [
    "#### Text"
   ]
  },
  {
   "cell_type": "code",
   "execution_count": null,
   "metadata": {},
   "outputs": [
    {
     "name": "stdout",
     "output_type": "stream",
     "text": [
      "preprocessing\n"
     ]
    },
    {
     "data": {
      "application/vnd.jupyter.widget-view+json": {
       "model_id": "5a1c886c0b29443ba24876ee520b8f89",
       "version_major": 2,
       "version_minor": 0
      },
      "text/plain": [
       "  0%|          | 0/105710 [00:00<?, ?it/s]"
      ]
     },
     "metadata": {},
     "output_type": "display_data"
    },
    {
     "name": "stdout",
     "output_type": "stream",
     "text": [
      "converting\n"
     ]
    },
    {
     "data": {
      "application/vnd.jupyter.widget-view+json": {
       "model_id": "7432fe13e4834bb2bfa03ff207951426",
       "version_major": 2,
       "version_minor": 0
      },
      "text/plain": [
       "  0%|          | 0/105710 [00:00<?, ?it/s]"
      ]
     },
     "metadata": {},
     "output_type": "display_data"
    },
    {
     "name": "stdout",
     "output_type": "stream",
     "text": [
      "preprocessing\n"
     ]
    },
    {
     "data": {
      "application/vnd.jupyter.widget-view+json": {
       "model_id": "5f274e16423144e2b9bd40eb161654c3",
       "version_major": 2,
       "version_minor": 0
      },
      "text/plain": [
       "  0%|          | 0/21648 [00:00<?, ?it/s]"
      ]
     },
     "metadata": {},
     "output_type": "display_data"
    },
    {
     "name": "stdout",
     "output_type": "stream",
     "text": [
      "converting\n"
     ]
    },
    {
     "data": {
      "application/vnd.jupyter.widget-view+json": {
       "model_id": "b4830e6e1ecb47b2a0cf11a511ce8c31",
       "version_major": 2,
       "version_minor": 0
      },
      "text/plain": [
       "  0%|          | 0/21648 [00:00<?, ?it/s]"
      ]
     },
     "metadata": {},
     "output_type": "display_data"
    },
    {
     "name": "stdout",
     "output_type": "stream",
     "text": [
      "preprocessing\n"
     ]
    },
    {
     "data": {
      "application/vnd.jupyter.widget-view+json": {
       "model_id": "765ed862c082463f8393599e4b80d2d1",
       "version_major": 2,
       "version_minor": 0
      },
      "text/plain": [
       "  0%|          | 0/14149 [00:00<?, ?it/s]"
      ]
     },
     "metadata": {},
     "output_type": "display_data"
    },
    {
     "name": "stdout",
     "output_type": "stream",
     "text": [
      "converting\n"
     ]
    },
    {
     "data": {
      "application/vnd.jupyter.widget-view+json": {
       "model_id": "de583767f70f474cac515b24225d6c69",
       "version_major": 2,
       "version_minor": 0
      },
      "text/plain": [
       "  0%|          | 0/14149 [00:00<?, ?it/s]"
      ]
     },
     "metadata": {},
     "output_type": "display_data"
    }
   ],
   "source": [
    "train_df = sample_train[~sample_train.text.isna()].loc[:]\n",
    "train_df[\"text_processed\"] = preprocess(train_df.text, nlp)\n",
    "convert(train_df.loc[:, [\"text_processed\", \"tag_list\"]],\n",
    "        'text_train_bow.spacy', nlp)\n",
    "test_df = sample_test[~sample_test.text.isna()].loc[:]\n",
    "test_df[\"text_processed\"] = preprocess(test_df.text, nlp)\n",
    "convert(test_df.loc[:, [\"text_processed\", \"tag_list\"]],\n",
    "        'text_test_bow.spacy', nlp)\n",
    "validation_df = sample_validation[~sample_validation.text.isna()].loc[:]\n",
    "validation_df[\"text_processed\"] = preprocess(\n",
    "    validation_df.text, nlp)\n",
    "convert(validation_df.loc[:, [\"text_processed\", \"tag_list\"]],\n",
    "        'text_validation_bow.spacy', nlp)\n"
   ]
  },
  {
   "cell_type": "code",
   "execution_count": null,
   "metadata": {},
   "outputs": [
    {
     "name": "stdout",
     "output_type": "stream",
     "text": [
      "2023-03-17 12:18:13.716779: I tensorflow/core/platform/cpu_feature_guard.cc:193] This TensorFlow binary is optimized with oneAPI Deep Neural Network Library (oneDNN) to use the following CPU instructions in performance-critical operations:  AVX2 FMA\n",
      "To enable them in other operations, rebuild TensorFlow with the appropriate compiler flags.\n",
      "2023-03-17 12:18:15.191947: I tensorflow/compiler/xla/stream_executor/cuda/cuda_gpu_executor.cc:981] successful NUMA node read from SysFS had negative value (-1), but there must be at least one NUMA node, so returning NUMA node zero\n",
      "2023-03-17 12:18:15.192320: I tensorflow/compiler/xla/stream_executor/cuda/cuda_gpu_executor.cc:981] successful NUMA node read from SysFS had negative value (-1), but there must be at least one NUMA node, so returning NUMA node zero\n",
      "2023-03-17 12:18:15.192476: I tensorflow/compiler/xla/stream_executor/cuda/cuda_gpu_executor.cc:981] successful NUMA node read from SysFS had negative value (-1), but there must be at least one NUMA node, so returning NUMA node zero\n",
      "\u001b[38;5;4mℹ Saving to output directory: output_BOW\u001b[0m\n",
      "\u001b[38;5;4mℹ Using GPU: 0\u001b[0m\n",
      "\u001b[1m\n",
      "=========================== Initializing pipeline ===========================\u001b[0m\n",
      "[2023-03-17 12:18:19,278] [INFO] Set up nlp object from config\n",
      "[2023-03-17 12:18:19,903] [INFO] Pipeline: ['textcat_multilabel']\n",
      "[2023-03-17 12:18:19,906] [INFO] Created vocabulary\n",
      "[2023-03-17 12:18:21,924] [INFO] Added vectors: en_core_web_lg\n",
      "[2023-03-17 12:18:23,337] [INFO] Finished initializing nlp object\n",
      "[2023-03-17 12:19:07,372] [INFO] Initialized pipeline components: ['textcat_multilabel']\n",
      "\u001b[38;5;2m✔ Initialized pipeline\u001b[0m\n",
      "\u001b[1m\n",
      "============================= Training pipeline =============================\u001b[0m\n",
      "\u001b[38;5;4mℹ Pipeline: ['textcat_multilabel']\u001b[0m\n",
      "\u001b[38;5;4mℹ Initial learn rate: 0.001\u001b[0m\n",
      "\u001b[34m\u001b[1mwandb\u001b[0m: Currently logged in as: \u001b[33mapersonnaz\u001b[0m. Use \u001b[1m`wandb login --relogin`\u001b[0m to force relogin\n",
      "\u001b[34m\u001b[1mwandb\u001b[0m: Tracking run with wandb version 0.14.0\n",
      "\u001b[34m\u001b[1mwandb\u001b[0m: Run data is saved locally in \u001b[35m\u001b[1m/home/aurelien/Documents/ocr/OCR_IML_projet5/wandb/run-20230317_121908-yixyk8wd\u001b[0m\n",
      "\u001b[34m\u001b[1mwandb\u001b[0m: Run \u001b[1m`wandb offline`\u001b[0m to turn off syncing.\n",
      "\u001b[34m\u001b[1mwandb\u001b[0m: Syncing run \u001b[33mautumn-flower-40\u001b[0m\n",
      "\u001b[34m\u001b[1mwandb\u001b[0m: ⭐️ View project at \u001b[34m\u001b[4mhttps://wandb.ai/apersonnaz/my_spacy_project\u001b[0m\n",
      "\u001b[34m\u001b[1mwandb\u001b[0m: 🚀 View run at \u001b[34m\u001b[4mhttps://wandb.ai/apersonnaz/my_spacy_project/runs/yixyk8wd\u001b[0m\n",
      "E    #       LOSS TEXTC...  CATS_SCORE  SCORE \n",
      "---  ------  -------------  ----------  ------\n",
      "  0       0           0.25       54.94    0.55\n",
      "  0     200          24.56       57.63    0.58\n",
      "  0     400          18.37       61.71    0.62\n",
      "  0     600          16.40       66.07    0.66\n",
      "  0     800          16.69       70.49    0.70\n",
      "  0    1000          15.45       74.75    0.75\n",
      "\u001b[34m\u001b[1mwandb\u001b[0m: Adding directory to artifact (./output_BOW/model-last)... Done. 57.8s\n",
      "  0    1200          14.50       77.78    0.78\n",
      "  0    1400          13.89       80.89    0.81\n",
      "  0    1600          13.25       83.26    0.83\n",
      "  0    1800          12.33       85.22    0.85\n",
      "  0    2000          12.37       86.85    0.87\n",
      "\u001b[34m\u001b[1mwandb\u001b[0m: Adding directory to artifact (./output_BOW/model-last)... Done. 45.7s\n",
      "  0    2200          11.96       88.07    0.88\n",
      "  0    2400          11.34       89.10    0.89\n",
      "  0    2600          11.05       89.82    0.90\n",
      "  0    2800          10.93       90.21    0.90\n",
      "  0    3000          10.55       90.65    0.91\n",
      "\u001b[34m\u001b[1mwandb\u001b[0m: Adding directory to artifact (./output_BOW/model-last)... Done. 63.5s\n",
      "  0    3200          10.40       91.15    0.91\n",
      "  0    3400          10.36       91.45    0.91\n",
      "  0    3600          10.34       91.65    0.92\n",
      "  0    3800           9.93       91.82    0.92\n",
      "  0    4000          10.10       92.03    0.92\n",
      "\u001b[34m\u001b[1mwandb\u001b[0m: Adding directory to artifact (./output_BOW/model-last)... Done. 58.2s\n",
      "  0    4200           9.80       92.15    0.92\n",
      "  0    4400           9.95       92.31    0.92\n",
      "  0    4600           9.77       92.46    0.92\n",
      "  0    4800           9.58       92.62    0.93\n",
      "  0    5000           9.68       92.58    0.93\n",
      "\u001b[34m\u001b[1mwandb\u001b[0m: Adding directory to artifact (./output_BOW/model-last)... Done. 51.0s\n",
      "  0    5200           9.48       92.69    0.93\n",
      "  0    5400           9.52       92.83    0.93\n",
      "  0    5600           9.49       92.80    0.93\n",
      "  0    5800           9.21       92.87    0.93\n",
      "  0    6000           9.30       93.00    0.93\n",
      "\u001b[34m\u001b[1mwandb\u001b[0m: Adding directory to artifact (./output_BOW/model-last)... Done. 68.0s\n",
      "  0    6200           9.30       93.04    0.93\n",
      "  0    6400           9.42       93.04    0.93\n",
      "  1    6600           9.49       93.14    0.93\n",
      "  1    6800           7.94       93.09    0.93\n",
      "  1    7000           8.22       93.09    0.93\n",
      "\u001b[34m\u001b[1mwandb\u001b[0m: Adding directory to artifact (./output_BOW/model-last)... Done. 60.5s\n",
      "  1    7200           8.23       93.08    0.93\n",
      "  1    7400           8.16       93.07    0.93\n",
      "  1    7600           8.30       93.10    0.93\n",
      "  1    7800           8.12       93.04    0.93\n",
      "  1    8000           8.13       93.10    0.93\n",
      "\u001b[34m\u001b[1mwandb\u001b[0m: Adding directory to artifact (./output_BOW/model-last)... Done. 38.4s\n",
      "  1    8200           8.13       93.09    0.93\n",
      "\u001b[34m\u001b[1mwandb\u001b[0m: Waiting for W&B process to finish... \u001b[32m(success).\u001b[0m\n",
      "\u001b[34m\u001b[1mwandb\u001b[0m: \n",
      "\u001b[34m\u001b[1mwandb\u001b[0m: Run history:\n",
      "\u001b[34m\u001b[1mwandb\u001b[0m:          cats_macro_auc ▁▁▂▃▄▅▅▆▆▇▇▇▇▇▇█████████████████████████\n",
      "\u001b[34m\u001b[1mwandb\u001b[0m:            cats_macro_f ▂▁▁▁▂▃▄▄▅▆▆▆▇▇▇▇▇▇▇▇████████████████████\n",
      "\u001b[34m\u001b[1mwandb\u001b[0m:            cats_macro_p ▁▁▅█▇██▇▇▇▇▇▇▇▇▇▇▇▇▇▇▇▇▇▇▇▇▇▇▇▇▇▇▇▇▇▇▇▇▇\n",
      "\u001b[34m\u001b[1mwandb\u001b[0m:            cats_macro_r ▃▁▁▁▂▂▃▄▄▅▆▆▆▆▆▇▇▇▇▇▇▇▇█▇███████████████\n",
      "\u001b[34m\u001b[1mwandb\u001b[0m:            cats_micro_f ▃▁▁▁▂▃▄▅▅▆▆▇▇▇▇▇▇▇▇▇████████████████████\n",
      "\u001b[34m\u001b[1mwandb\u001b[0m:            cats_micro_p ▁█▇▇▆▆▆▆▆▆▆▆▆▆▆▆▆▆▆▆▆▆▆▆▆▆▆▆▆▆▆▆▆▆▆▆▆▆▆▆\n",
      "\u001b[34m\u001b[1mwandb\u001b[0m:            cats_micro_r ▃▁▁▁▂▃▃▄▄▅▆▆▆▆▆▇▇▇▇▇▇▇██▇███████████████\n",
      "\u001b[34m\u001b[1mwandb\u001b[0m:              cats_score ▁▁▂▃▄▅▅▆▆▇▇▇▇▇▇█████████████████████████\n",
      "\u001b[34m\u001b[1mwandb\u001b[0m: loss_textcat_multilabel ▁█▆▆▆▅▅▅▅▄▄▄▄▄▄▄▄▄▄▄▄▄▄▄▄▄▄▄▄▄▄▄▄▃▃▃▃▃▃▃\n",
      "\u001b[34m\u001b[1mwandb\u001b[0m:                   score ▁▁▂▃▄▅▅▆▆▇▇▇▇▇▇█████████████████████████\n",
      "\u001b[34m\u001b[1mwandb\u001b[0m:                   speed █▄▁▂▃▄▁▇▄▄▅▃█▇▅▄▄▆▆▇▄▃█▄▄▅▄▆▆▄▃▆▅▂▃▅▁▄▂▄\n",
      "\u001b[34m\u001b[1mwandb\u001b[0m:               token_acc ▁▁▁▁▁▁▁▁▁▁▁▁▁▁▁▁▁▁▁▁▁▁▁▁▁▁▁▁▁▁▁▁▁▁▁▁▁▁▁▁\n",
      "\u001b[34m\u001b[1mwandb\u001b[0m:                 token_f ▁▁▁▁▁▁▁▁▁▁▁▁▁▁▁▁▁▁▁▁▁▁▁▁▁▁▁▁▁▁▁▁▁▁▁▁▁▁▁▁\n",
      "\u001b[34m\u001b[1mwandb\u001b[0m:                 token_p ▁▁▁▁▁▁▁▁▁▁▁▁▁▁▁▁▁▁▁▁▁▁▁▁▁▁▁▁▁▁▁▁▁▁▁▁▁▁▁▁\n",
      "\u001b[34m\u001b[1mwandb\u001b[0m:                 token_r ▁▁▁▁▁▁▁▁▁▁▁▁▁▁▁▁▁▁▁▁▁▁▁▁▁▁▁▁▁▁▁▁▁▁▁▁▁▁▁▁\n",
      "\u001b[34m\u001b[1mwandb\u001b[0m: \n",
      "\u001b[34m\u001b[1mwandb\u001b[0m: Run summary:\n",
      "\u001b[34m\u001b[1mwandb\u001b[0m:          cats_macro_auc 0.93086\n",
      "\u001b[34m\u001b[1mwandb\u001b[0m:            cats_macro_f 0.62274\n",
      "\u001b[34m\u001b[1mwandb\u001b[0m:            cats_macro_p 0.78301\n",
      "\u001b[34m\u001b[1mwandb\u001b[0m:            cats_macro_r 0.5212\n",
      "\u001b[34m\u001b[1mwandb\u001b[0m:            cats_micro_f 0.62599\n",
      "\u001b[34m\u001b[1mwandb\u001b[0m:            cats_micro_p 0.7812\n",
      "\u001b[34m\u001b[1mwandb\u001b[0m:            cats_micro_r 0.52223\n",
      "\u001b[34m\u001b[1mwandb\u001b[0m:              cats_score 0.93086\n",
      "\u001b[34m\u001b[1mwandb\u001b[0m:         cats_score_desc macro AUC\n",
      "\u001b[34m\u001b[1mwandb\u001b[0m: loss_textcat_multilabel 8.13347\n",
      "\u001b[34m\u001b[1mwandb\u001b[0m:                   score 0.93086\n",
      "\u001b[34m\u001b[1mwandb\u001b[0m:                   speed 126136.12951\n",
      "\u001b[34m\u001b[1mwandb\u001b[0m:               token_acc 1.0\n",
      "\u001b[34m\u001b[1mwandb\u001b[0m:                 token_f 1.0\n",
      "\u001b[34m\u001b[1mwandb\u001b[0m:                 token_p 1.0\n",
      "\u001b[34m\u001b[1mwandb\u001b[0m:                 token_r 1.0\n",
      "\u001b[34m\u001b[1mwandb\u001b[0m: \n",
      "\u001b[34m\u001b[1mwandb\u001b[0m: 🚀 View run \u001b[33mautumn-flower-40\u001b[0m at: \u001b[34m\u001b[4mhttps://wandb.ai/apersonnaz/my_spacy_project/runs/yixyk8wd\u001b[0m\n",
      "\u001b[34m\u001b[1mwandb\u001b[0m: Synced 5 W&B file(s), 0 media file(s), 80 artifact file(s) and 0 other file(s)\n",
      "\u001b[34m\u001b[1mwandb\u001b[0m: Find logs at: \u001b[35m\u001b[1m./wandb/run-20230317_121908-yixyk8wd/logs\u001b[0m\n",
      "\u001b[38;5;2m✔ Saved pipeline to output directory\u001b[0m\n",
      "output_BOW/model-last\n"
     ]
    }
   ],
   "source": [
    "!python3 -m spacy train config_BOW.cfg --output ./output_BOW --paths.train ./text_train_bow.spacy --paths.dev ./text_test_bow.spacy --gpu-id 0"
   ]
  },
  {
   "attachments": {},
   "cell_type": "markdown",
   "metadata": {},
   "source": [
    "#### Code"
   ]
  },
  {
   "cell_type": "code",
   "execution_count": null,
   "metadata": {},
   "outputs": [
    {
     "name": "stdout",
     "output_type": "stream",
     "text": [
      "preprocessing\n"
     ]
    },
    {
     "data": {
      "application/vnd.jupyter.widget-view+json": {
       "model_id": "34edc8b0ea1c4f81a9e59647fbb47d60",
       "version_major": 2,
       "version_minor": 0
      },
      "text/plain": [
       "  0%|          | 0/81619 [00:00<?, ?it/s]"
      ]
     },
     "metadata": {},
     "output_type": "display_data"
    },
    {
     "name": "stdout",
     "output_type": "stream",
     "text": [
      "converting\n"
     ]
    },
    {
     "data": {
      "application/vnd.jupyter.widget-view+json": {
       "model_id": "eef5a97aa7074e40a7e7987c500c0c9e",
       "version_major": 2,
       "version_minor": 0
      },
      "text/plain": [
       "  0%|          | 0/81619 [00:00<?, ?it/s]"
      ]
     },
     "metadata": {},
     "output_type": "display_data"
    },
    {
     "name": "stdout",
     "output_type": "stream",
     "text": [
      "preprocessing\n"
     ]
    },
    {
     "data": {
      "application/vnd.jupyter.widget-view+json": {
       "model_id": "99cd694b5bc34de0b4e1a4c5f187d4c6",
       "version_major": 2,
       "version_minor": 0
      },
      "text/plain": [
       "  0%|          | 0/16800 [00:00<?, ?it/s]"
      ]
     },
     "metadata": {},
     "output_type": "display_data"
    },
    {
     "name": "stdout",
     "output_type": "stream",
     "text": [
      "converting\n"
     ]
    },
    {
     "data": {
      "application/vnd.jupyter.widget-view+json": {
       "model_id": "be6bb1f4854f43faa30deedbdfb44dce",
       "version_major": 2,
       "version_minor": 0
      },
      "text/plain": [
       "  0%|          | 0/16800 [00:00<?, ?it/s]"
      ]
     },
     "metadata": {},
     "output_type": "display_data"
    },
    {
     "name": "stdout",
     "output_type": "stream",
     "text": [
      "preprocessing\n"
     ]
    },
    {
     "data": {
      "application/vnd.jupyter.widget-view+json": {
       "model_id": "8fcb7c17e0b44dd780cc6747fab4ddfa",
       "version_major": 2,
       "version_minor": 0
      },
      "text/plain": [
       "  0%|          | 0/10956 [00:00<?, ?it/s]"
      ]
     },
     "metadata": {},
     "output_type": "display_data"
    },
    {
     "name": "stdout",
     "output_type": "stream",
     "text": [
      "converting\n"
     ]
    },
    {
     "data": {
      "application/vnd.jupyter.widget-view+json": {
       "model_id": "161cce72dec748eba5309a2e0c555162",
       "version_major": 2,
       "version_minor": 0
      },
      "text/plain": [
       "  0%|          | 0/10956 [00:00<?, ?it/s]"
      ]
     },
     "metadata": {},
     "output_type": "display_data"
    }
   ],
   "source": [
    "train_df = sample_train[~sample_train.code.isna()].loc[:]\n",
    "train_df[\"code_processed\"] = preprocess(train_df.code, nlp)\n",
    "convert(train_df.loc[:, [\"code_processed\", \"tag_list\"]],\n",
    "        'code_train_bow.spacy', nlp)\n",
    "test_df = sample_test[~sample_test.code.isna()].loc[:]\n",
    "test_df[\"code_processed\"] = preprocess(test_df.code, nlp)\n",
    "convert(test_df.loc[:, [\"code_processed\", \"tag_list\"]],\n",
    "        'code_test_bow.spacy', nlp)\n",
    "validation_df = sample_validation[~sample_validation.code.isna()].loc[:]\n",
    "validation_df[\"code_processed\"] = preprocess(\n",
    "    validation_df.code, nlp)\n",
    "convert(validation_df.loc[:, [\"code_processed\", \"tag_list\"]],\n",
    "        'code_validation_bow.spacy', nlp)\n"
   ]
  },
  {
   "cell_type": "code",
   "execution_count": null,
   "metadata": {},
   "outputs": [
    {
     "name": "stdout",
     "output_type": "stream",
     "text": [
      "2023-03-17 13:35:08.530678: I tensorflow/core/platform/cpu_feature_guard.cc:193] This TensorFlow binary is optimized with oneAPI Deep Neural Network Library (oneDNN) to use the following CPU instructions in performance-critical operations:  AVX2 FMA\n",
      "To enable them in other operations, rebuild TensorFlow with the appropriate compiler flags.\n",
      "2023-03-17 13:35:10.172390: I tensorflow/compiler/xla/stream_executor/cuda/cuda_gpu_executor.cc:981] successful NUMA node read from SysFS had negative value (-1), but there must be at least one NUMA node, so returning NUMA node zero\n",
      "2023-03-17 13:35:10.172770: I tensorflow/compiler/xla/stream_executor/cuda/cuda_gpu_executor.cc:981] successful NUMA node read from SysFS had negative value (-1), but there must be at least one NUMA node, so returning NUMA node zero\n",
      "2023-03-17 13:35:10.172917: I tensorflow/compiler/xla/stream_executor/cuda/cuda_gpu_executor.cc:981] successful NUMA node read from SysFS had negative value (-1), but there must be at least one NUMA node, so returning NUMA node zero\n",
      "\u001b[38;5;4mℹ Saving to output directory: output_code_BOW\u001b[0m\n",
      "\u001b[38;5;4mℹ Using GPU: 0\u001b[0m\n",
      "\u001b[1m\n",
      "=========================== Initializing pipeline ===========================\u001b[0m\n",
      "[2023-03-17 13:35:14,175] [INFO] Set up nlp object from config\n",
      "[2023-03-17 13:35:14,738] [INFO] Pipeline: ['textcat_multilabel']\n",
      "[2023-03-17 13:35:14,741] [INFO] Created vocabulary\n",
      "[2023-03-17 13:35:16,832] [INFO] Added vectors: en_core_web_lg\n",
      "[2023-03-17 13:35:18,311] [INFO] Finished initializing nlp object\n",
      "[2023-03-17 13:35:53,999] [INFO] Initialized pipeline components: ['textcat_multilabel']\n",
      "\u001b[38;5;2m✔ Initialized pipeline\u001b[0m\n",
      "\u001b[1m\n",
      "============================= Training pipeline =============================\u001b[0m\n",
      "\u001b[38;5;4mℹ Pipeline: ['textcat_multilabel']\u001b[0m\n",
      "\u001b[38;5;4mℹ Initial learn rate: 0.001\u001b[0m\n",
      "\u001b[34m\u001b[1mwandb\u001b[0m: Currently logged in as: \u001b[33mapersonnaz\u001b[0m. Use \u001b[1m`wandb login --relogin`\u001b[0m to force relogin\n",
      "\u001b[34m\u001b[1mwandb\u001b[0m: Tracking run with wandb version 0.14.0\n",
      "\u001b[34m\u001b[1mwandb\u001b[0m: Run data is saved locally in \u001b[35m\u001b[1m/home/aurelien/Documents/ocr/OCR_IML_projet5/wandb/run-20230317_133555-pjfmqgkv\u001b[0m\n",
      "\u001b[34m\u001b[1mwandb\u001b[0m: Run \u001b[1m`wandb offline`\u001b[0m to turn off syncing.\n",
      "\u001b[34m\u001b[1mwandb\u001b[0m: Syncing run \u001b[33mgentle-thunder-43\u001b[0m\n",
      "\u001b[34m\u001b[1mwandb\u001b[0m: ⭐️ View project at \u001b[34m\u001b[4mhttps://wandb.ai/apersonnaz/my_spacy_project\u001b[0m\n",
      "\u001b[34m\u001b[1mwandb\u001b[0m: 🚀 View run at \u001b[34m\u001b[4mhttps://wandb.ai/apersonnaz/my_spacy_project/runs/pjfmqgkv\u001b[0m\n",
      "E    #       LOSS TEXTC...  CATS_SCORE  SCORE \n",
      "---  ------  -------------  ----------  ------\n",
      "  0       0           0.25       51.55    0.52\n",
      "  0     200          28.70       66.91    0.67\n",
      "  0     400          19.49       71.67    0.72\n",
      "  0     600          17.49       75.55    0.76\n",
      "  0     800          16.50       78.86    0.79\n",
      "  0    1000          14.75       81.13    0.81\n",
      "\u001b[34m\u001b[1mwandb\u001b[0m: Adding directory to artifact (./output_code_BOW/model-last)... Done. 28.4s\n",
      "  0    1200          13.57       82.89    0.83\n",
      "  0    1400          13.80       84.41    0.84\n",
      "  0    1600          12.52       85.91    0.86\n",
      "  0    1800          12.07       86.99    0.87\n",
      "  0    2000          11.76       87.73    0.88\n",
      "\u001b[34m\u001b[1mwandb\u001b[0m: Adding directory to artifact (./output_code_BOW/model-last)... Done. 71.3s\n",
      "  0    2200          11.37       88.32    0.88\n",
      "  0    2400          11.02       88.95    0.89\n",
      "  0    2600          11.00       89.40    0.89\n",
      "  0    2800          10.88       89.88    0.90\n",
      "  0    3000          10.80       90.22    0.90\n",
      "\u001b[34m\u001b[1mwandb\u001b[0m: Adding directory to artifact (./output_code_BOW/model-last)... Done. 80.1s\n",
      "  0    3200          10.74       90.45    0.90\n",
      "  0    3400          10.44       90.59    0.91\n",
      "  0    3600          10.47       90.72    0.91\n",
      "  0    3800          10.47       90.94    0.91\n",
      "  0    4000          10.11       90.95    0.91\n",
      "\u001b[34m\u001b[1mwandb\u001b[0m: Adding directory to artifact (./output_code_BOW/model-last)... Done. 51.8s\n",
      "  0    4200          10.33       91.15    0.91\n",
      "  0    4400          10.06       91.20    0.91\n",
      "  0    4600          10.14       91.31    0.91\n",
      "  0    4800           9.88       91.32    0.91\n",
      "  1    5000           9.16       91.40    0.91\n",
      "\u001b[34m\u001b[1mwandb\u001b[0m: Adding directory to artifact (./output_code_BOW/model-last)... Done. 72.5s\n",
      "  1    5200           8.97       91.40    0.91\n",
      "  1    5400           8.88       91.43    0.91\n",
      "  1    5600           8.83       91.38    0.91\n",
      "  1    5800           9.11       91.36    0.91\n",
      "  1    6000           9.02       91.37    0.91\n",
      "\u001b[34m\u001b[1mwandb\u001b[0m: Adding directory to artifact (./output_code_BOW/model-last)... Done. 56.3s\n",
      "  1    6200           8.74       91.45    0.91\n",
      "  1    6400           8.96       91.46    0.91\n",
      "  1    6600           8.96       91.40    0.91\n",
      "  1    6800           8.97       91.39    0.91\n",
      "  1    7000           8.89       91.45    0.91\n",
      "\u001b[34m\u001b[1mwandb\u001b[0m: Adding directory to artifact (./output_code_BOW/model-last)... Done. 92.8s\n",
      "  1    7200           8.96       91.35    0.91\n",
      "  1    7400           8.94       91.41    0.91\n",
      "  1    7600           8.82       91.45    0.91\n",
      "  1    7800           9.27       91.46    0.91\n",
      "  1    8000           8.91       91.49    0.91\n",
      "\u001b[34m\u001b[1mwandb\u001b[0m: Adding directory to artifact (./output_code_BOW/model-last)... Done. 74.3s\n",
      "  1    8200           9.00       91.48    0.91\n",
      "  2    8400           7.86       91.49    0.91\n",
      "  2    8600           7.94       91.48    0.91\n",
      "  2    8800           8.08       91.50    0.92\n",
      "  2    9000           8.26       91.50    0.91\n",
      "\u001b[34m\u001b[1mwandb\u001b[0m: Adding directory to artifact (./output_code_BOW/model-last)... Done. 62.5s\n",
      "  2    9200           8.02       91.41    0.91\n",
      "  2    9400           8.11       91.42    0.91\n",
      "  2    9600           8.49       91.39    0.91\n",
      "  2    9800           8.02       91.48    0.91\n",
      "  2   10000           8.29       91.41    0.91\n",
      "\u001b[34m\u001b[1mwandb\u001b[0m: Adding directory to artifact (./output_code_BOW/model-last)... Done. 44.8s\n",
      "  2   10200           8.41       91.43    0.91\n",
      "  2   10400           8.07       91.36    0.91\n",
      "\u001b[34m\u001b[1mwandb\u001b[0m: Waiting for W&B process to finish... \u001b[32m(success).\u001b[0m\n",
      "\u001b[34m\u001b[1mwandb\u001b[0m: - 6241.985 MB of 6241.985 MB uploaded (5473.753 MB deduped)\n",
      "\u001b[34m\u001b[1mwandb\u001b[0m: Run history:\n",
      "\u001b[34m\u001b[1mwandb\u001b[0m:          cats_macro_auc ▁▄▅▆▆▆▇▇▇███████████████████████████████\n",
      "\u001b[34m\u001b[1mwandb\u001b[0m:            cats_macro_f ▁▂▃▄▅▅▆▆▆▇▇▇▇▇▇▇████████████████████████\n",
      "\u001b[34m\u001b[1mwandb\u001b[0m:            cats_macro_p ▁▇██████████████████████████████████████\n",
      "\u001b[34m\u001b[1mwandb\u001b[0m:            cats_macro_r ▁▁▂▃▄▄▅▅▆▆▆▇▇▇▇▇▇▇▇▇▇▇▇█████████████████\n",
      "\u001b[34m\u001b[1mwandb\u001b[0m:            cats_micro_f ▁▁▂▄▅▅▆▆▆▇▇▇▇▇▇▇▇███████████████████████\n",
      "\u001b[34m\u001b[1mwandb\u001b[0m:            cats_micro_p ▁▇██████████████████████████████████████\n",
      "\u001b[34m\u001b[1mwandb\u001b[0m:            cats_micro_r ▁▁▂▃▄▄▅▅▅▆▆▆▇▇▇▇▇▇▇▇▇▇▇█████████████████\n",
      "\u001b[34m\u001b[1mwandb\u001b[0m:              cats_score ▁▄▅▆▆▆▇▇▇███████████████████████████████\n",
      "\u001b[34m\u001b[1mwandb\u001b[0m: loss_textcat_multilabel ▁█▆▅▅▄▄▄▄▄▄▄▄▄▄▃▃▃▃▃▃▃▃▃▃▃▃▃▃▃▃▃▃▃▃▃▃▃▃▃\n",
      "\u001b[34m\u001b[1mwandb\u001b[0m:                   score ▁▄▅▆▆▆▇▇▇███████████████████████████████\n",
      "\u001b[34m\u001b[1mwandb\u001b[0m:                   speed ▆▄▆▅▄▆▇▇█▇▇▆▄▅▄▅▅▄▅▅▄▄▄▅▅▄▅▂▆▅▁▄▄▆▇▇▄▄▄▃\n",
      "\u001b[34m\u001b[1mwandb\u001b[0m:               token_acc ▁▁▁▁▁▁▁▁▁▁▁▁▁▁▁▁▁▁▁▁▁▁▁▁▁▁▁▁▁▁▁▁▁▁▁▁▁▁▁▁\n",
      "\u001b[34m\u001b[1mwandb\u001b[0m:                 token_f ▁▁▁▁▁▁▁▁▁▁▁▁▁▁▁▁▁▁▁▁▁▁▁▁▁▁▁▁▁▁▁▁▁▁▁▁▁▁▁▁\n",
      "\u001b[34m\u001b[1mwandb\u001b[0m:                 token_p ▁▁▁▁▁▁▁▁▁▁▁▁▁▁▁▁▁▁▁▁▁▁▁▁▁▁▁▁▁▁▁▁▁▁▁▁▁▁▁▁\n",
      "\u001b[34m\u001b[1mwandb\u001b[0m:                 token_r ▁▁▁▁▁▁▁▁▁▁▁▁▁▁▁▁▁▁▁▁▁▁▁▁▁▁▁▁▁▁▁▁▁▁▁▁▁▁▁▁\n",
      "\u001b[34m\u001b[1mwandb\u001b[0m: \n",
      "\u001b[34m\u001b[1mwandb\u001b[0m: Run summary:\n",
      "\u001b[34m\u001b[1mwandb\u001b[0m:          cats_macro_auc 0.91359\n",
      "\u001b[34m\u001b[1mwandb\u001b[0m:            cats_macro_f 0.59129\n",
      "\u001b[34m\u001b[1mwandb\u001b[0m:            cats_macro_p 0.77576\n",
      "\u001b[34m\u001b[1mwandb\u001b[0m:            cats_macro_r 0.48201\n",
      "\u001b[34m\u001b[1mwandb\u001b[0m:            cats_micro_f 0.60022\n",
      "\u001b[34m\u001b[1mwandb\u001b[0m:            cats_micro_p 0.77825\n",
      "\u001b[34m\u001b[1mwandb\u001b[0m:            cats_micro_r 0.48848\n",
      "\u001b[34m\u001b[1mwandb\u001b[0m:              cats_score 0.91359\n",
      "\u001b[34m\u001b[1mwandb\u001b[0m:         cats_score_desc macro AUC\n",
      "\u001b[34m\u001b[1mwandb\u001b[0m: loss_textcat_multilabel 8.07295\n",
      "\u001b[34m\u001b[1mwandb\u001b[0m:                   score 0.91359\n",
      "\u001b[34m\u001b[1mwandb\u001b[0m:                   speed 107350.40416\n",
      "\u001b[34m\u001b[1mwandb\u001b[0m:               token_acc 1.0\n",
      "\u001b[34m\u001b[1mwandb\u001b[0m:                 token_f 1.0\n",
      "\u001b[34m\u001b[1mwandb\u001b[0m:                 token_p 1.0\n",
      "\u001b[34m\u001b[1mwandb\u001b[0m:                 token_r 1.0\n",
      "\u001b[34m\u001b[1mwandb\u001b[0m: \n",
      "\u001b[34m\u001b[1mwandb\u001b[0m: 🚀 View run \u001b[33mgentle-thunder-43\u001b[0m at: \u001b[34m\u001b[4mhttps://wandb.ai/apersonnaz/my_spacy_project/runs/pjfmqgkv\u001b[0m\n",
      "\u001b[34m\u001b[1mwandb\u001b[0m: Synced 5 W&B file(s), 0 media file(s), 100 artifact file(s) and 0 other file(s)\n",
      "\u001b[34m\u001b[1mwandb\u001b[0m: Find logs at: \u001b[35m\u001b[1m./wandb/run-20230317_133555-pjfmqgkv/logs\u001b[0m\n",
      "\u001b[38;5;2m✔ Saved pipeline to output directory\u001b[0m\n",
      "output_code_BOW/model-last\n"
     ]
    }
   ],
   "source": [
    "!python3 -m spacy train config_BOW.cfg --output ./output_code_BOW --paths.train ./code_train_bow.spacy --paths.dev ./code_test_bow.spacy --gpu-id 0"
   ]
  },
  {
   "attachments": {},
   "cell_type": "markdown",
   "metadata": {},
   "source": [
    "### Tok2Vec\n",
    "\n",
    "#### Text"
   ]
  },
  {
   "cell_type": "code",
   "execution_count": null,
   "metadata": {},
   "outputs": [
    {
     "name": "stdout",
     "output_type": "stream",
     "text": [
      "2023-03-17 12:20:20.144707: I tensorflow/core/platform/cpu_feature_guard.cc:193] This TensorFlow binary is optimized with oneAPI Deep Neural Network Library (oneDNN) to use the following CPU instructions in performance-critical operations:  AVX2 FMA\n",
      "To enable them in other operations, rebuild TensorFlow with the appropriate compiler flags.\n",
      "2023-03-17 12:20:21.668324: I tensorflow/compiler/xla/stream_executor/cuda/cuda_gpu_executor.cc:981] successful NUMA node read from SysFS had negative value (-1), but there must be at least one NUMA node, so returning NUMA node zero\n",
      "2023-03-17 12:20:21.671812: I tensorflow/compiler/xla/stream_executor/cuda/cuda_gpu_executor.cc:981] successful NUMA node read from SysFS had negative value (-1), but there must be at least one NUMA node, so returning NUMA node zero\n",
      "2023-03-17 12:20:21.671976: I tensorflow/compiler/xla/stream_executor/cuda/cuda_gpu_executor.cc:981] successful NUMA node read from SysFS had negative value (-1), but there must be at least one NUMA node, so returning NUMA node zero\n",
      "\u001b[38;5;4mℹ Saving to output directory: output_tok2vec\u001b[0m\n",
      "\u001b[38;5;4mℹ Using GPU: 0\u001b[0m\n",
      "\u001b[1m\n",
      "=========================== Initializing pipeline ===========================\u001b[0m\n",
      "[2023-03-17 12:20:26,230] [INFO] Set up nlp object from config\n",
      "[2023-03-17 12:20:26,836] [INFO] Pipeline: ['textcat_multilabel']\n",
      "[2023-03-17 12:20:26,840] [INFO] Created vocabulary\n",
      "[2023-03-17 12:20:29,539] [INFO] Added vectors: en_core_web_lg\n",
      "[2023-03-17 12:20:31,331] [INFO] Finished initializing nlp object\n",
      "[2023-03-17 12:21:16,823] [INFO] Initialized pipeline components: ['textcat_multilabel']\n",
      "\u001b[38;5;2m✔ Initialized pipeline\u001b[0m\n",
      "\u001b[1m\n",
      "============================= Training pipeline =============================\u001b[0m\n",
      "\u001b[38;5;4mℹ Pipeline: ['textcat_multilabel']\u001b[0m\n",
      "\u001b[38;5;4mℹ Initial learn rate: 0.001\u001b[0m\n",
      "\u001b[34m\u001b[1mwandb\u001b[0m: Currently logged in as: \u001b[33mapersonnaz\u001b[0m. Use \u001b[1m`wandb login --relogin`\u001b[0m to force relogin\n",
      "\u001b[34m\u001b[1mwandb\u001b[0m: Tracking run with wandb version 0.14.0\n",
      "\u001b[34m\u001b[1mwandb\u001b[0m: Run data is saved locally in \u001b[35m\u001b[1m/home/aurelien/Documents/ocr/OCR_IML_projet5/wandb/run-20230317_122118-r70w9wfk\u001b[0m\n",
      "\u001b[34m\u001b[1mwandb\u001b[0m: Run \u001b[1m`wandb offline`\u001b[0m to turn off syncing.\n",
      "\u001b[34m\u001b[1mwandb\u001b[0m: Syncing run \u001b[33mfearless-pond-41\u001b[0m\n",
      "\u001b[34m\u001b[1mwandb\u001b[0m: ⭐️ View project at \u001b[34m\u001b[4mhttps://wandb.ai/apersonnaz/my_spacy_project\u001b[0m\n",
      "\u001b[34m\u001b[1mwandb\u001b[0m: 🚀 View run at \u001b[34m\u001b[4mhttps://wandb.ai/apersonnaz/my_spacy_project/runs/r70w9wfk\u001b[0m\n",
      "E    #       LOSS TEXTC...  CATS_SCORE  SCORE \n",
      "---  ------  -------------  ----------  ------\n",
      "  0       0           0.32       48.97    0.49\n",
      "  0     200          18.07       57.48    0.57\n",
      "  0     400          18.30       63.25    0.63\n",
      "  0     600          16.82       69.07    0.69\n",
      "  0     800          16.68       75.60    0.76\n",
      "  0    1000          15.24       80.69    0.81\n",
      "\u001b[34m\u001b[1mwandb\u001b[0m: Adding directory to artifact (./output_tok2vec/model-last)... Done. 77.1s\n",
      "  0    1200          14.59       82.89    0.83\n",
      "  0    1400          14.07       85.01    0.85\n",
      "  0    1600          13.50       86.39    0.86\n",
      "  0    1800          12.69       87.63    0.88\n",
      "  0    2000          12.69       88.68    0.89\n",
      "\u001b[34m\u001b[1mwandb\u001b[0m: Adding directory to artifact (./output_tok2vec/model-last)... Done. 70.2s\n",
      "  0    2200          12.32       89.43    0.89\n",
      "  0    2400          11.57       90.33    0.90\n",
      "  0    2600          11.42       90.74    0.91\n",
      "  0    2800          11.22       90.90    0.91\n",
      "  0    3000          11.03       91.39    0.91\n",
      "\u001b[34m\u001b[1mwandb\u001b[0m: Adding directory to artifact (./output_tok2vec/model-last)... Done. 72.7s\n",
      "  0    3200          10.70       91.59    0.92\n",
      "  0    3400          10.80       91.79    0.92\n",
      "  0    3600          10.73       92.02    0.92\n",
      "  0    3800          10.35       92.03    0.92\n",
      "  0    4000          10.41       91.88    0.92\n",
      "\u001b[34m\u001b[1mwandb\u001b[0m: Adding directory to artifact (./output_tok2vec/model-last)... Done. 87.8s\n",
      "  0    4200          10.23       92.37    0.92\n",
      "  0    4400          10.30       92.29    0.92\n",
      "  0    4600          10.03       92.43    0.92\n",
      "  0    4800           9.99       92.46    0.92\n",
      "  0    5000          10.15       92.48    0.92\n",
      "\u001b[34m\u001b[1mwandb\u001b[0m: Adding directory to artifact (./output_tok2vec/model-last)... Done. 66.8s\n",
      "  0    5200           9.74       92.70    0.93\n",
      "  0    5400           9.84       92.90    0.93\n",
      "  0    5600           9.88       92.84    0.93\n",
      "  0    5800           9.70       92.92    0.93\n",
      "  0    6000           9.72       92.92    0.93\n",
      "\u001b[34m\u001b[1mwandb\u001b[0m: Adding directory to artifact (./output_tok2vec/model-last)... Done. 58.3s\n",
      "  0    6200           9.83       93.06    0.93\n",
      "  0    6400           9.72       93.15    0.93\n",
      "  1    6600           9.78       93.23    0.93\n",
      "  1    6800           8.95       93.05    0.93\n",
      "  1    7000           9.25       93.19    0.93\n",
      "\u001b[34m\u001b[1mwandb\u001b[0m: Adding directory to artifact (./output_tok2vec/model-last)... Done. 45.5s\n",
      "  1    7200           9.15       93.29    0.93\n",
      "  1    7400           9.13       93.46    0.93\n",
      "  1    7600           9.22       93.30    0.93\n",
      "  1    7800           9.15       93.34    0.93\n",
      "  1    8000           9.14       93.48    0.93\n",
      "\u001b[34m\u001b[1mwandb\u001b[0m: Adding directory to artifact (./output_tok2vec/model-last)... Done. 34.0s\n",
      "  1    8200           9.09       93.28    0.93\n",
      "  1    8400           9.36       93.43    0.93\n",
      "  1    8600           8.83       93.63    0.94\n",
      "  1    8800           9.12       93.65    0.94\n",
      "  1    9000           9.29       93.59    0.94\n",
      "\u001b[34m\u001b[1mwandb\u001b[0m: Adding directory to artifact (./output_tok2vec/model-last)... Done. 8.0s\n",
      "  1    9200           9.21       93.49    0.93\n",
      "  1    9400           9.34       93.52    0.94\n",
      "  1    9600           9.14       93.68    0.94\n",
      "  1    9800           8.98       93.62    0.94\n",
      "  1   10000           9.26       93.60    0.94\n",
      "\u001b[34m\u001b[1mwandb\u001b[0m: Adding directory to artifact (./output_tok2vec/model-last)... Done. 5.8s\n",
      "  1   10200           9.18       93.80    0.94\n",
      "  1   10400           8.98       93.63    0.94\n",
      "  1   10600           9.00       93.80    0.94\n",
      "  1   10800           9.01       93.81    0.94\n",
      "  1   11000           9.11       93.64    0.94\n",
      "\u001b[34m\u001b[1mwandb\u001b[0m: Adding directory to artifact (./output_tok2vec/model-last)... Done. 3.9s\n",
      "  1   11200           8.86       93.76    0.94\n",
      "  1   11400           8.80       93.93    0.94\n",
      "  1   11600           8.95       93.85    0.94\n",
      "  2   11800           8.96       93.77    0.94\n",
      "  2   12000           8.38       93.99    0.94\n",
      "\u001b[34m\u001b[1mwandb\u001b[0m: Adding directory to artifact (./output_tok2vec/model-last)... Done. 3.8s\n",
      "  2   12200           8.64       93.91    0.94\n",
      "  2   12400           8.44       93.80    0.94\n",
      "  2   12600           8.64       93.79    0.94\n",
      "  2   12800           8.57       93.90    0.94\n",
      "  2   13000           8.49       93.86    0.94\n",
      "\u001b[34m\u001b[1mwandb\u001b[0m: Adding directory to artifact (./output_tok2vec/model-last)... Done. 4.5s\n",
      "  2   13200           8.91       94.01    0.94\n",
      "  2   13400           8.55       93.87    0.94\n",
      "  2   13600           8.60       93.94    0.94\n",
      "  2   13800           8.64       93.92    0.94\n",
      "  2   14000           8.68       94.07    0.94\n",
      "\u001b[34m\u001b[1mwandb\u001b[0m: Adding directory to artifact (./output_tok2vec/model-last)... Done. 3.9s\n",
      "  2   14200           8.65       94.12    0.94\n",
      "  2   14400           8.58       93.98    0.94\n",
      "  2   14600           8.54       93.94    0.94\n",
      "  2   14800           9.02       93.97    0.94\n",
      "  2   15000           8.63       94.08    0.94\n",
      "\u001b[34m\u001b[1mwandb\u001b[0m: Adding directory to artifact (./output_tok2vec/model-last)... Done. 3.6s\n",
      "  2   15200           8.63       93.98    0.94\n",
      "  2   15400           8.85       94.09    0.94\n",
      "  2   15600           8.48       94.19    0.94\n",
      "  2   15800           8.56       94.10    0.94\n",
      "  2   16000           8.56       94.23    0.94\n",
      "\u001b[34m\u001b[1mwandb\u001b[0m: Adding directory to artifact (./output_tok2vec/model-last)... Done. 3.9s\n",
      "  2   16200           8.47       94.11    0.94\n",
      "  2   16400           8.55       94.14    0.94\n",
      "  2   16600           8.64       94.31    0.94\n",
      "  2   16800           8.71       94.20    0.94\n",
      "  3   17000           8.09       94.25    0.94\n",
      "\u001b[34m\u001b[1mwandb\u001b[0m: Adding directory to artifact (./output_tok2vec/model-last)... Done. 3.5s\n",
      "  3   17200           8.06       94.10    0.94\n",
      "  3   17400           8.15       94.21    0.94\n",
      "  3   17600           7.89       94.22    0.94\n",
      "  3   17800           7.93       94.24    0.94\n",
      "  3   18000           8.34       94.21    0.94\n",
      "\u001b[34m\u001b[1mwandb\u001b[0m: Adding directory to artifact (./output_tok2vec/model-last)... Done. 3.6s\n",
      "  3   18200           7.93       94.18    0.94\n",
      "\u001b[34m\u001b[1mwandb\u001b[0m: Waiting for W&B process to finish... \u001b[32m(success).\u001b[0m\n",
      "\u001b[34m\u001b[1mwandb\u001b[0m: \n",
      "\u001b[34m\u001b[1mwandb\u001b[0m: Run history:\n",
      "\u001b[34m\u001b[1mwandb\u001b[0m:          cats_macro_auc ▁▃▅▇▇▇▇█████████████████████████████████\n",
      "\u001b[34m\u001b[1mwandb\u001b[0m:            cats_macro_f ▂▁▂▄▅▆▇▇▇▇▇▇▇███████▇███████████████████\n",
      "\u001b[34m\u001b[1mwandb\u001b[0m:            cats_macro_p ▁▃▆▇▇▇▇▇██████▇█▇███████████████████████\n",
      "\u001b[34m\u001b[1mwandb\u001b[0m:            cats_macro_r ▄▁▁▃▅▅▆▇▆▇▇▇▇█▇██▇█▇▇██▇▇███████▇█▇▇████\n",
      "\u001b[34m\u001b[1mwandb\u001b[0m:            cats_micro_f ▂▁▂▄▆▆▇▇▇▇▇▇▇███████████████████████████\n",
      "\u001b[34m\u001b[1mwandb\u001b[0m:            cats_micro_p ▁▄▇▇▇▇▇▇▇████▇▇▇▇█▇██▇██████████████████\n",
      "\u001b[34m\u001b[1mwandb\u001b[0m:            cats_micro_r ▄▁▁▃▅▅▆▇▇▇▇▇▇█▇██▇█▇▇██▇▇███████▇█▇▇████\n",
      "\u001b[34m\u001b[1mwandb\u001b[0m:              cats_score ▁▃▅▇▇▇▇█████████████████████████████████\n",
      "\u001b[34m\u001b[1mwandb\u001b[0m: loss_textcat_multilabel ▁█▇▆▆▆▅▅▅▅▅▅▅▅▅▄▄▄▅▄▄▄▄▄▄▄▄▄▄▄▄▄▄▄▄▄▄▄▄▄\n",
      "\u001b[34m\u001b[1mwandb\u001b[0m:                   score ▁▃▅▇▇▇▇█████████████████████████████████\n",
      "\u001b[34m\u001b[1mwandb\u001b[0m:                   speed ▄▃▇▇▇▇▇▁▇▆▇▆▆▆▇▆▇█▆▇▁█▇█▇█▇█▇▇▇█▁▇▇██▇█▁\n",
      "\u001b[34m\u001b[1mwandb\u001b[0m:               token_acc ▁▁▁▁▁▁▁▁▁▁▁▁▁▁▁▁▁▁▁▁▁▁▁▁▁▁▁▁▁▁▁▁▁▁▁▁▁▁▁▁\n",
      "\u001b[34m\u001b[1mwandb\u001b[0m:                 token_f ▁▁▁▁▁▁▁▁▁▁▁▁▁▁▁▁▁▁▁▁▁▁▁▁▁▁▁▁▁▁▁▁▁▁▁▁▁▁▁▁\n",
      "\u001b[34m\u001b[1mwandb\u001b[0m:                 token_p ▁▁▁▁▁▁▁▁▁▁▁▁▁▁▁▁▁▁▁▁▁▁▁▁▁▁▁▁▁▁▁▁▁▁▁▁▁▁▁▁\n",
      "\u001b[34m\u001b[1mwandb\u001b[0m:                 token_r ▁▁▁▁▁▁▁▁▁▁▁▁▁▁▁▁▁▁▁▁▁▁▁▁▁▁▁▁▁▁▁▁▁▁▁▁▁▁▁▁\n",
      "\u001b[34m\u001b[1mwandb\u001b[0m: \n",
      "\u001b[34m\u001b[1mwandb\u001b[0m: Run summary:\n",
      "\u001b[34m\u001b[1mwandb\u001b[0m:          cats_macro_auc 0.94185\n",
      "\u001b[34m\u001b[1mwandb\u001b[0m:            cats_macro_f 0.65763\n",
      "\u001b[34m\u001b[1mwandb\u001b[0m:            cats_macro_p 0.76584\n",
      "\u001b[34m\u001b[1mwandb\u001b[0m:            cats_macro_r 0.58133\n",
      "\u001b[34m\u001b[1mwandb\u001b[0m:            cats_micro_f 0.65988\n",
      "\u001b[34m\u001b[1mwandb\u001b[0m:            cats_micro_p 0.76398\n",
      "\u001b[34m\u001b[1mwandb\u001b[0m:            cats_micro_r 0.58074\n",
      "\u001b[34m\u001b[1mwandb\u001b[0m:              cats_score 0.94185\n",
      "\u001b[34m\u001b[1mwandb\u001b[0m:         cats_score_desc macro AUC\n",
      "\u001b[34m\u001b[1mwandb\u001b[0m: loss_textcat_multilabel 7.93265\n",
      "\u001b[34m\u001b[1mwandb\u001b[0m:                   score 0.94185\n",
      "\u001b[34m\u001b[1mwandb\u001b[0m:                   speed 94456.27158\n",
      "\u001b[34m\u001b[1mwandb\u001b[0m:               token_acc 1.0\n",
      "\u001b[34m\u001b[1mwandb\u001b[0m:                 token_f 1.0\n",
      "\u001b[34m\u001b[1mwandb\u001b[0m:                 token_p 1.0\n",
      "\u001b[34m\u001b[1mwandb\u001b[0m:                 token_r 1.0\n",
      "\u001b[34m\u001b[1mwandb\u001b[0m: \n",
      "\u001b[34m\u001b[1mwandb\u001b[0m: 🚀 View run \u001b[33mfearless-pond-41\u001b[0m at: \u001b[34m\u001b[4mhttps://wandb.ai/apersonnaz/my_spacy_project/runs/r70w9wfk\u001b[0m\n",
      "\u001b[34m\u001b[1mwandb\u001b[0m: Synced 5 W&B file(s), 0 media file(s), 180 artifact file(s) and 0 other file(s)\n",
      "\u001b[34m\u001b[1mwandb\u001b[0m: Find logs at: \u001b[35m\u001b[1m./wandb/run-20230317_122118-r70w9wfk/logs\u001b[0m\n",
      "\u001b[38;5;2m✔ Saved pipeline to output directory\u001b[0m\n",
      "output_tok2vec/model-last\n"
     ]
    }
   ],
   "source": [
    "!python3 -m spacy train config_tok2vec.cfg --output ./output_tok2vec --paths.train ./text_train_bow.spacy --paths.dev ./text_test_bow.spacy --gpu-id 0"
   ]
  },
  {
   "attachments": {},
   "cell_type": "markdown",
   "metadata": {},
   "source": [
    "#### Code"
   ]
  },
  {
   "cell_type": "code",
   "execution_count": null,
   "metadata": {},
   "outputs": [
    {
     "name": "stdout",
     "output_type": "stream",
     "text": [
      "2023-03-17 13:34:36.026104: I tensorflow/core/platform/cpu_feature_guard.cc:193] This TensorFlow binary is optimized with oneAPI Deep Neural Network Library (oneDNN) to use the following CPU instructions in performance-critical operations:  AVX2 FMA\n",
      "To enable them in other operations, rebuild TensorFlow with the appropriate compiler flags.\n",
      "2023-03-17 13:34:37.612346: I tensorflow/compiler/xla/stream_executor/cuda/cuda_gpu_executor.cc:981] successful NUMA node read from SysFS had negative value (-1), but there must be at least one NUMA node, so returning NUMA node zero\n",
      "2023-03-17 13:34:37.612711: I tensorflow/compiler/xla/stream_executor/cuda/cuda_gpu_executor.cc:981] successful NUMA node read from SysFS had negative value (-1), but there must be at least one NUMA node, so returning NUMA node zero\n",
      "2023-03-17 13:34:37.612871: I tensorflow/compiler/xla/stream_executor/cuda/cuda_gpu_executor.cc:981] successful NUMA node read from SysFS had negative value (-1), but there must be at least one NUMA node, so returning NUMA node zero\n",
      "\u001b[38;5;4mℹ Saving to output directory: output_code_tok2vec\u001b[0m\n",
      "\u001b[38;5;4mℹ Using GPU: 0\u001b[0m\n",
      "\u001b[1m\n",
      "=========================== Initializing pipeline ===========================\u001b[0m\n",
      "[2023-03-17 13:34:42,731] [INFO] Set up nlp object from config\n",
      "[2023-03-17 13:34:43,319] [INFO] Pipeline: ['textcat_multilabel']\n",
      "[2023-03-17 13:34:43,322] [INFO] Created vocabulary\n",
      "[2023-03-17 13:34:45,466] [INFO] Added vectors: en_core_web_lg\n",
      "[2023-03-17 13:34:46,990] [INFO] Finished initializing nlp object\n",
      "[2023-03-17 13:35:22,916] [INFO] Initialized pipeline components: ['textcat_multilabel']\n",
      "\u001b[38;5;2m✔ Initialized pipeline\u001b[0m\n",
      "\u001b[1m\n",
      "============================= Training pipeline =============================\u001b[0m\n",
      "\u001b[38;5;4mℹ Pipeline: ['textcat_multilabel']\u001b[0m\n",
      "\u001b[38;5;4mℹ Initial learn rate: 0.001\u001b[0m\n",
      "\u001b[34m\u001b[1mwandb\u001b[0m: Currently logged in as: \u001b[33mapersonnaz\u001b[0m. Use \u001b[1m`wandb login --relogin`\u001b[0m to force relogin\n",
      "\u001b[34m\u001b[1mwandb\u001b[0m: Tracking run with wandb version 0.14.0\n",
      "\u001b[34m\u001b[1mwandb\u001b[0m: Run data is saved locally in \u001b[35m\u001b[1m/home/aurelien/Documents/ocr/OCR_IML_projet5/wandb/run-20230317_133524-x7mll9zs\u001b[0m\n",
      "\u001b[34m\u001b[1mwandb\u001b[0m: Run \u001b[1m`wandb offline`\u001b[0m to turn off syncing.\n",
      "\u001b[34m\u001b[1mwandb\u001b[0m: Syncing run \u001b[33mwise-salad-42\u001b[0m\n",
      "\u001b[34m\u001b[1mwandb\u001b[0m: ⭐️ View project at \u001b[34m\u001b[4mhttps://wandb.ai/apersonnaz/my_spacy_project\u001b[0m\n",
      "\u001b[34m\u001b[1mwandb\u001b[0m: 🚀 View run at \u001b[34m\u001b[4mhttps://wandb.ai/apersonnaz/my_spacy_project/runs/x7mll9zs\u001b[0m\n",
      "E    #       LOSS TEXTC...  CATS_SCORE  SCORE \n",
      "---  ------  -------------  ----------  ------\n",
      "  0       0           0.23       48.30    0.48\n",
      "  0     200          19.16       62.65    0.63\n",
      "  0     400          16.50       71.57    0.72\n",
      "  0     600          15.38       77.15    0.77\n",
      "  0     800          15.09       80.80    0.81\n",
      "  0    1000          13.70       82.69    0.83\n",
      "\u001b[34m\u001b[1mwandb\u001b[0m: Adding directory to artifact (./output_code_tok2vec/model-last)... Done. 37.5s\n",
      "  0    1200          12.48       83.16    0.83\n",
      "  0    1400          12.50       84.53    0.85\n",
      "  0    1600          11.74       85.02    0.85\n",
      "  0    1800          11.48       85.80    0.86\n",
      "  0    2000          11.67       85.91    0.86\n",
      "\u001b[34m\u001b[1mwandb\u001b[0m: Adding directory to artifact (./output_code_tok2vec/model-last)... Done. 86.6s\n",
      "  0    2200          11.16       86.86    0.87\n",
      "  0    2400          10.71       87.50    0.88\n",
      "  0    2600          10.58       88.31    0.88\n",
      "  0    2800          10.62       88.67    0.89\n",
      "  0    3000          10.48       88.81    0.89\n",
      "\u001b[34m\u001b[1mwandb\u001b[0m: Adding directory to artifact (./output_code_tok2vec/model-last)... Done. 58.7s\n",
      "  0    3200          10.49       89.17    0.89\n",
      "  0    3400          10.27       89.21    0.89\n",
      "  0    3600          10.21       89.35    0.89\n",
      "  0    3800          10.27       89.65    0.90\n",
      "  0    4000          10.04       90.07    0.90\n",
      "\u001b[34m\u001b[1mwandb\u001b[0m: Adding directory to artifact (./output_code_tok2vec/model-last)... Done. 69.5s\n",
      "  0    4200           9.88       90.27    0.90\n",
      "  0    4400           9.83       90.20    0.90\n",
      "  0    4600           9.79       90.72    0.91\n",
      "  0    4800           9.60       90.79    0.91\n",
      "  1    5000           8.93       90.96    0.91\n",
      "\u001b[34m\u001b[1mwandb\u001b[0m: Adding directory to artifact (./output_code_tok2vec/model-last)... Done. 82.7s\n",
      "  1    5200           9.20       90.63    0.91\n",
      "  1    5400           8.94       90.79    0.91\n",
      "  1    5600           9.17       90.77    0.91\n",
      "  1    5800           9.21       91.10    0.91\n",
      "  1    6000           9.16       91.11    0.91\n",
      "\u001b[34m\u001b[1mwandb\u001b[0m: Adding directory to artifact (./output_code_tok2vec/model-last)... Done. 59.7s\n",
      "  1    6200           8.90       91.35    0.91\n",
      "  1    6400           8.97       91.24    0.91\n",
      "  1    6600           9.10       91.42    0.91\n",
      "  1    6800           9.09       91.61    0.92\n",
      "  1    7000           9.08       91.56    0.92\n",
      "\u001b[34m\u001b[1mwandb\u001b[0m: Adding directory to artifact (./output_code_tok2vec/model-last)... Done. 96.3s\n",
      "  1    7200           9.03       91.33    0.91\n",
      "  1    7400           9.04       91.48    0.91\n",
      "  1    7600           9.13       91.53    0.92\n",
      "  1    7800           9.07       91.55    0.92\n",
      "  1    8000           8.84       91.87    0.92\n",
      "\u001b[34m\u001b[1mwandb\u001b[0m: Adding directory to artifact (./output_code_tok2vec/model-last)... Done. 93.2s\n",
      "  1    8200           8.87       91.75    0.92\n",
      "  2    8400           8.20       92.04    0.92\n",
      "  2    8600           8.20       92.12    0.92\n",
      "  2    8800           8.33       91.98    0.92\n",
      "  2    9000           8.49       92.07    0.92\n",
      "\u001b[34m\u001b[1mwandb\u001b[0m: Adding directory to artifact (./output_code_tok2vec/model-last)... Done. 51.1s\n",
      "  2    9200           8.26       91.87    0.92\n",
      "  2    9400           8.33       92.11    0.92\n",
      "  2    9600           8.75       91.96    0.92\n",
      "  2    9800           8.37       92.33    0.92\n",
      "  2   10000           8.56       92.15    0.92\n",
      "\u001b[34m\u001b[1mwandb\u001b[0m: Adding directory to artifact (./output_code_tok2vec/model-last)... Done. 48.4s\n",
      "  2   10200           8.73       92.10    0.92\n",
      "  2   10400           8.51       92.00    0.92\n",
      "  2   10600           8.41       92.01    0.92\n",
      "  2   10800           8.57       92.28    0.92\n",
      "  2   11000           8.41       92.42    0.92\n",
      "\u001b[34m\u001b[1mwandb\u001b[0m: Adding directory to artifact (./output_code_tok2vec/model-last)... Done. 58.9s\n",
      "  2   11200           8.62       92.50    0.93\n",
      "  2   11400           8.47       92.50    0.93\n",
      "  3   11600           8.44       92.44    0.92\n",
      "  3   11800           7.97       92.39    0.92\n",
      "  3   12000           8.05       92.66    0.93\n",
      "\u001b[34m\u001b[1mwandb\u001b[0m: Adding directory to artifact (./output_code_tok2vec/model-last)... Done. 39.2s\n",
      "  3   12200           7.96       92.51    0.93\n",
      "  3   12400           7.73       92.60    0.93\n",
      "  3   12600           7.92       92.61    0.93\n",
      "  3   12800           7.86       92.71    0.93\n",
      "  3   13000           8.30       92.58    0.93\n",
      "\u001b[34m\u001b[1mwandb\u001b[0m: Adding directory to artifact (./output_code_tok2vec/model-last)... Done. 33.7s\n",
      "  3   13200           8.23       92.60    0.93\n",
      "  3   13400           8.10       92.46    0.92\n",
      "  3   13600           7.99       92.47    0.92\n",
      "  3   13800           8.06       92.52    0.93\n",
      "  3   14000           8.28       92.63    0.93\n",
      "\u001b[34m\u001b[1mwandb\u001b[0m: Adding directory to artifact (./output_code_tok2vec/model-last)... Done. 23.1s\n",
      "  3   14200           8.24       92.70    0.93\n",
      "  3   14400           8.10       92.63    0.93\n",
      "\u001b[34m\u001b[1mwandb\u001b[0m: Waiting for W&B process to finish... \u001b[32m(success).\u001b[0m\n",
      "\u001b[34m\u001b[1mwandb\u001b[0m: \n",
      "\u001b[34m\u001b[1mwandb\u001b[0m: Run history:\n",
      "\u001b[34m\u001b[1mwandb\u001b[0m:          cats_macro_auc ▁▃▆▆▇▇▇▇▇▇▇█████████████████████████████\n",
      "\u001b[34m\u001b[1mwandb\u001b[0m:            cats_macro_f ▁▁▃▅▆▆▆▇▇▇▇▇▇██▇▇███▇█████▇█████████████\n",
      "\u001b[34m\u001b[1mwandb\u001b[0m:            cats_macro_p ▁▃▆▇▇▇▇▇████████████████████████████████\n",
      "\u001b[34m\u001b[1mwandb\u001b[0m:            cats_macro_r ▄▁▃▅▅▆▆▆▆▇▇▇▇▇█▇▇▇▇▇▇█▇▇▇▇▇█▇▇██████████\n",
      "\u001b[34m\u001b[1mwandb\u001b[0m:            cats_micro_f ▁▁▄▅▆▆▇▇▇▇▇▇▇███▇███▇█████▇█████████████\n",
      "\u001b[34m\u001b[1mwandb\u001b[0m:            cats_micro_p ▁▄▆▇▇▇▇▇██████▇█████████████████████▇███\n",
      "\u001b[34m\u001b[1mwandb\u001b[0m:            cats_micro_r ▄▁▃▅▅▅▆▆▆▇▇▇▇▇█▇▇▇█▇▇█▇▇▇▇▇█▇▇██████████\n",
      "\u001b[34m\u001b[1mwandb\u001b[0m:              cats_score ▁▃▆▆▇▇▇▇▇▇▇█████████████████████████████\n",
      "\u001b[34m\u001b[1mwandb\u001b[0m: loss_textcat_multilabel ▁█▇▆▆▅▅▅▅▅▅▅▅▄▄▄▄▄▄▄▄▄▄▄▄▄▄▄▄▄▄▄▄▄▄▄▄▄▄▄\n",
      "\u001b[34m\u001b[1mwandb\u001b[0m:                   score ▁▃▆▆▇▇▇▇▇▇▇█████████████████████████████\n",
      "\u001b[34m\u001b[1mwandb\u001b[0m:                   speed ▇█▅▇██▇▅█▆▇▇▇▆▄▇▆▇▅▇▇▇▇▆▄▅▇▆▁▄▄▅▄▇▇▅▄█▇█\n",
      "\u001b[34m\u001b[1mwandb\u001b[0m:               token_acc ▁▁▁▁▁▁▁▁▁▁▁▁▁▁▁▁▁▁▁▁▁▁▁▁▁▁▁▁▁▁▁▁▁▁▁▁▁▁▁▁\n",
      "\u001b[34m\u001b[1mwandb\u001b[0m:                 token_f ▁▁▁▁▁▁▁▁▁▁▁▁▁▁▁▁▁▁▁▁▁▁▁▁▁▁▁▁▁▁▁▁▁▁▁▁▁▁▁▁\n",
      "\u001b[34m\u001b[1mwandb\u001b[0m:                 token_p ▁▁▁▁▁▁▁▁▁▁▁▁▁▁▁▁▁▁▁▁▁▁▁▁▁▁▁▁▁▁▁▁▁▁▁▁▁▁▁▁\n",
      "\u001b[34m\u001b[1mwandb\u001b[0m:                 token_r ▁▁▁▁▁▁▁▁▁▁▁▁▁▁▁▁▁▁▁▁▁▁▁▁▁▁▁▁▁▁▁▁▁▁▁▁▁▁▁▁\n",
      "\u001b[34m\u001b[1mwandb\u001b[0m: \n",
      "\u001b[34m\u001b[1mwandb\u001b[0m: Run summary:\n",
      "\u001b[34m\u001b[1mwandb\u001b[0m:          cats_macro_auc 0.92632\n",
      "\u001b[34m\u001b[1mwandb\u001b[0m:            cats_macro_f 0.62838\n",
      "\u001b[34m\u001b[1mwandb\u001b[0m:            cats_macro_p 0.75571\n",
      "\u001b[34m\u001b[1mwandb\u001b[0m:            cats_macro_r 0.55893\n",
      "\u001b[34m\u001b[1mwandb\u001b[0m:            cats_micro_f 0.64971\n",
      "\u001b[34m\u001b[1mwandb\u001b[0m:            cats_micro_p 0.75626\n",
      "\u001b[34m\u001b[1mwandb\u001b[0m:            cats_micro_r 0.56947\n",
      "\u001b[34m\u001b[1mwandb\u001b[0m:              cats_score 0.92632\n",
      "\u001b[34m\u001b[1mwandb\u001b[0m:         cats_score_desc macro AUC\n",
      "\u001b[34m\u001b[1mwandb\u001b[0m: loss_textcat_multilabel 8.09935\n",
      "\u001b[34m\u001b[1mwandb\u001b[0m:                   score 0.92632\n",
      "\u001b[34m\u001b[1mwandb\u001b[0m:                   speed 90503.39666\n",
      "\u001b[34m\u001b[1mwandb\u001b[0m:               token_acc 1.0\n",
      "\u001b[34m\u001b[1mwandb\u001b[0m:                 token_f 1.0\n",
      "\u001b[34m\u001b[1mwandb\u001b[0m:                 token_p 1.0\n",
      "\u001b[34m\u001b[1mwandb\u001b[0m:                 token_r 1.0\n",
      "\u001b[34m\u001b[1mwandb\u001b[0m: \n",
      "\u001b[34m\u001b[1mwandb\u001b[0m: 🚀 View run \u001b[33mwise-salad-42\u001b[0m at: \u001b[34m\u001b[4mhttps://wandb.ai/apersonnaz/my_spacy_project/runs/x7mll9zs\u001b[0m\n",
      "\u001b[34m\u001b[1mwandb\u001b[0m: Synced 5 W&B file(s), 0 media file(s), 140 artifact file(s) and 0 other file(s)\n",
      "\u001b[34m\u001b[1mwandb\u001b[0m: Find logs at: \u001b[35m\u001b[1m./wandb/run-20230317_133524-x7mll9zs/logs\u001b[0m\n",
      "\u001b[38;5;2m✔ Saved pipeline to output directory\u001b[0m\n",
      "output_code_tok2vec/model-last\n"
     ]
    }
   ],
   "source": [
    "!python3 -m spacy train config_tok2vec.cfg --output ./output_code_tok2vec --paths.train ./code_train_bow.spacy --paths.dev ./code_test_bow.spacy --gpu-id 0"
   ]
  },
  {
   "attachments": {},
   "cell_type": "markdown",
   "metadata": {},
   "source": [
    "### RoBertA\n"
   ]
  },
  {
   "cell_type": "code",
   "execution_count": 7,
   "metadata": {},
   "outputs": [
    {
     "name": "stderr",
     "output_type": "stream",
     "text": [
      "loading configuration file /tmp/tmp0lge8o9t/config.json\n",
      "Model config RobertaConfig {\n",
      "  \"_name_or_path\": \"/tmp/tmp0lge8o9t/config.json\",\n",
      "  \"architectures\": [\n",
      "    \"RobertaForMaskedLM\"\n",
      "  ],\n",
      "  \"attention_probs_dropout_prob\": 0.1,\n",
      "  \"bos_token_id\": 0,\n",
      "  \"classifier_dropout\": null,\n",
      "  \"eos_token_id\": 2,\n",
      "  \"hidden_act\": \"gelu\",\n",
      "  \"hidden_dropout_prob\": 0.1,\n",
      "  \"hidden_size\": 768,\n",
      "  \"initializer_range\": 0.02,\n",
      "  \"intermediate_size\": 3072,\n",
      "  \"layer_norm_eps\": 1e-05,\n",
      "  \"max_position_embeddings\": 514,\n",
      "  \"model_type\": \"roberta\",\n",
      "  \"num_attention_heads\": 12,\n",
      "  \"num_hidden_layers\": 12,\n",
      "  \"pad_token_id\": 1,\n",
      "  \"position_embedding_type\": \"absolute\",\n",
      "  \"transformers_version\": \"4.26.1\",\n",
      "  \"type_vocab_size\": 1,\n",
      "  \"use_cache\": true,\n",
      "  \"vocab_size\": 50265\n",
      "}\n",
      "\n",
      "loading file vocab.json\n",
      "loading file merges.txt\n",
      "loading file tokenizer.json\n",
      "loading file added_tokens.json\n",
      "loading file special_tokens_map.json\n",
      "loading file tokenizer_config.json\n"
     ]
    }
   ],
   "source": [
    "nlp = spacy.load(\"en_core_web_trf\")"
   ]
  },
  {
   "cell_type": "markdown",
   "metadata": {},
   "source": [
    "\n",
    "#### Text"
   ]
  },
  {
   "cell_type": "code",
   "execution_count": null,
   "metadata": {},
   "outputs": [
    {
     "name": "stdout",
     "output_type": "stream",
     "text": [
      "preprocessing\n"
     ]
    },
    {
     "name": "stderr",
     "output_type": "stream",
     "text": [
      "100%|██████████| 5413/5413 [00:42<00:00, 127.96it/s]\n",
      "100%|██████████| 5322/5322 [01:00<00:00, 87.44it/s] \n"
     ]
    }
   ],
   "source": [
    "train_df = sample_train[~sample_train.text.isna()].loc[:]\n",
    "train_df[\"text_processed\"] = preprocess_transformers(train_df.text, nlp)\n",
    "test_df = sample_test[~sample_test.text.isna()].sample(\n",
    "    round(len(sample_test)/4))\n",
    "test_df[\"text_processed\"] = preprocess_transformers(\n",
    "    test_df.text, nlp)\n",
    "validation_df = sample_validation[~sample_validation.text.isna()].loc[:]\n",
    "validation_df[\"text_processed\"] = preprocess_transformers(\n",
    "    validation_df.text, nlp)\n",
    "convert(train_df.loc[:, [\"text_processed\", \"tag_list\"]],\n",
    "        'text_train_transformer.spacy', nlp)\n",
    "convert(test_df.loc[:, [\"text_processed\",\n",
    "        \"tag_list\"]], 'text_test_transformer.spacy', nlp)\n",
    "convert(validation_df.loc[:, [\n",
    "        \"text_processed\", \"tag_list\"]], 'text_validation_transformer.spacy', nlp)\n"
   ]
  },
  {
   "cell_type": "code",
   "execution_count": null,
   "metadata": {},
   "outputs": [
    {
     "name": "stdout",
     "output_type": "stream",
     "text": [
      "2023-03-16 16:03:36.530246: I tensorflow/core/platform/cpu_feature_guard.cc:193] This TensorFlow binary is optimized with oneAPI Deep Neural Network Library (oneDNN) to use the following CPU instructions in performance-critical operations:  AVX2 FMA\n",
      "To enable them in other operations, rebuild TensorFlow with the appropriate compiler flags.\n",
      "2023-03-16 16:03:38.978276: I tensorflow/compiler/xla/stream_executor/cuda/cuda_gpu_executor.cc:981] successful NUMA node read from SysFS had negative value (-1), but there must be at least one NUMA node, so returning NUMA node zero\n",
      "2023-03-16 16:03:38.978632: I tensorflow/compiler/xla/stream_executor/cuda/cuda_gpu_executor.cc:981] successful NUMA node read from SysFS had negative value (-1), but there must be at least one NUMA node, so returning NUMA node zero\n",
      "2023-03-16 16:03:38.978786: I tensorflow/compiler/xla/stream_executor/cuda/cuda_gpu_executor.cc:981] successful NUMA node read from SysFS had negative value (-1), but there must be at least one NUMA node, so returning NUMA node zero\n",
      "\u001b[38;5;4mℹ Saving to output directory: output_transformer\u001b[0m\n",
      "\u001b[38;5;4mℹ Using GPU: 0\u001b[0m\n",
      "\u001b[1m\n",
      "=========================== Initializing pipeline ===========================\u001b[0m\n",
      "[2023-03-16 16:03:44,086] [INFO] Set up nlp object from config\n",
      "[2023-03-16 16:03:44,762] [INFO] Pipeline: ['transformer', 'textcat_multilabel']\n",
      "[2023-03-16 16:03:44,765] [INFO] Created vocabulary\n",
      "[2023-03-16 16:03:44,767] [INFO] Finished initializing nlp object\n",
      "Some weights of the model checkpoint at roberta-base were not used when initializing RobertaModel: ['lm_head.dense.weight', 'lm_head.bias', 'lm_head.layer_norm.weight', 'lm_head.layer_norm.bias', 'lm_head.decoder.weight', 'lm_head.dense.bias']\n",
      "- This IS expected if you are initializing RobertaModel from the checkpoint of a model trained on another task or with another architecture (e.g. initializing a BertForSequenceClassification model from a BertForPreTraining model).\n",
      "- This IS NOT expected if you are initializing RobertaModel from the checkpoint of a model that you expect to be exactly identical (initializing a BertForSequenceClassification model from a BertForSequenceClassification model).\n",
      "[2023-03-16 16:04:56,451] [INFO] Initialized pipeline components: ['transformer', 'textcat_multilabel']\n",
      "\u001b[38;5;2m✔ Initialized pipeline\u001b[0m\n",
      "\u001b[1m\n",
      "============================= Training pipeline =============================\u001b[0m\n",
      "\u001b[38;5;4mℹ Pipeline: ['transformer', 'textcat_multilabel']\u001b[0m\n",
      "\u001b[38;5;4mℹ Initial learn rate: 0.0\u001b[0m\n",
      "\u001b[34m\u001b[1mwandb\u001b[0m: Currently logged in as: \u001b[33mapersonnaz\u001b[0m. Use \u001b[1m`wandb login --relogin`\u001b[0m to force relogin\n",
      "\u001b[34m\u001b[1mwandb\u001b[0m: wandb version 0.14.0 is available!  To upgrade, please run:\n",
      "\u001b[34m\u001b[1mwandb\u001b[0m:  $ pip install wandb --upgrade\n",
      "\u001b[34m\u001b[1mwandb\u001b[0m: Tracking run with wandb version 0.13.11\n",
      "\u001b[34m\u001b[1mwandb\u001b[0m: Run data is saved locally in \u001b[35m\u001b[1m/home/aurelien/Documents/ocr/OCR_IML_projet5/wandb/run-20230316_160457-ogpumat3\u001b[0m\n",
      "\u001b[34m\u001b[1mwandb\u001b[0m: Run \u001b[1m`wandb offline`\u001b[0m to turn off syncing.\n",
      "\u001b[34m\u001b[1mwandb\u001b[0m: Syncing run \u001b[33mfanciful-haze-34\u001b[0m\n",
      "\u001b[34m\u001b[1mwandb\u001b[0m: ⭐️ View project at \u001b[34m\u001b[4mhttps://wandb.ai/apersonnaz/my_spacy_project\u001b[0m\n",
      "\u001b[34m\u001b[1mwandb\u001b[0m: 🚀 View run at \u001b[34m\u001b[4mhttps://wandb.ai/apersonnaz/my_spacy_project/runs/ogpumat3\u001b[0m\n",
      "E    #       LOSS TRANS...  LOSS TEXTC...  CATS_SCORE  SCORE \n",
      "---  ------  -------------  -------------  ----------  ------\n",
      "  0       0           0.00           0.28       47.91    0.48\n",
      "  0     200           3.77          70.76       85.01    0.85\n",
      "  0     400           2.11          44.35       88.98    0.89\n",
      "  0     600           2.23          39.66       90.51    0.91\n",
      "  0     800           2.03          35.19       91.21    0.91\n",
      "  0    1000           2.23          34.45       92.51    0.93\n",
      "\u001b[34m\u001b[1mwandb\u001b[0m: Adding directory to artifact (./output_transformer/model-last)... Done. 3.3s\n",
      "  0    1200           2.10          35.22       93.05    0.93\n",
      "  0    1400           2.05          33.39       93.20    0.93\n",
      "  0    1600           2.06          32.56       93.76    0.94\n",
      "  0    1800           1.89          31.59       93.98    0.94\n",
      "  0    2000           2.03          31.22       93.51    0.94\n",
      "\u001b[34m\u001b[1mwandb\u001b[0m: Adding directory to artifact (./output_transformer/model-last)... Done. 2.9s\n",
      "  0    2200           2.12          32.02       94.10    0.94\n",
      "  0    2400           2.10          30.57       94.44    0.94\n",
      "  0    2600           1.85          29.41       94.55    0.95\n",
      "  0    2800           2.06          30.23       94.55    0.95\n",
      "  0    3000           1.92          29.98       94.71    0.95\n",
      "\u001b[34m\u001b[1mwandb\u001b[0m: Adding directory to artifact (./output_transformer/model-last)... Done. 3.4s\n",
      "  0    3200           1.88          29.46       94.73    0.95\n",
      "  0    3400           1.99          30.93       94.67    0.95\n",
      "  0    3600           1.99          28.28       95.05    0.95\n",
      "  0    3800           2.02          29.01       94.86    0.95\n",
      "  0    4000           2.07          29.59       95.16    0.95\n",
      "\u001b[34m\u001b[1mwandb\u001b[0m: Adding directory to artifact (./output_transformer/model-last)... Done. 3.9s\n",
      "  0    4200           1.94          28.87       95.10    0.95\n",
      "  0    4400           2.03          28.86       95.17    0.95\n",
      "  0    4600           1.97          28.41       95.22    0.95\n",
      "  0    4800           1.86          29.83       95.42    0.95\n",
      "  0    5000           2.02          28.35       95.29    0.95\n",
      "\u001b[34m\u001b[1mwandb\u001b[0m: Adding directory to artifact (./output_transformer/model-last)... Done. 2.8s\n",
      "  0    5200           2.12          29.23       95.36    0.95\n",
      "  0    5400           2.05          28.68       95.43    0.95\n",
      "  0    5600           1.93          27.78       95.55    0.96\n",
      "  0    5800           2.07          28.37       95.61    0.96\n",
      "  0    6000           1.90          27.20       95.77    0.96\n",
      "\u001b[34m\u001b[1mwandb\u001b[0m: Adding directory to artifact (./output_transformer/model-last)... Done. 3.4s\n",
      "  1    6200           2.03          26.85       95.66    0.96\n",
      "  1    6400           1.86          26.06       95.85    0.96\n",
      "  1    6600           1.79          24.88       95.88    0.96\n",
      "  1    6800           1.85          25.58       95.74    0.96\n",
      "  1    7000           1.83          25.74       95.76    0.96\n",
      "\u001b[34m\u001b[1mwandb\u001b[0m: Adding directory to artifact (./output_transformer/model-last)... Done. 2.8s\n",
      "  1    7200           1.91          25.89       95.88    0.96\n",
      "  1    7400           2.01          25.28       95.87    0.96\n",
      "  1    7600           1.72          24.80       95.80    0.96\n",
      "  1    7800           1.77          24.54       96.05    0.96\n",
      "  1    8000           1.92          25.91       96.00    0.96\n",
      "\u001b[34m\u001b[1mwandb\u001b[0m: Adding directory to artifact (./output_transformer/model-last)... Done. 2.7s\n",
      "  1    8200           2.11          26.44       95.85    0.96\n",
      "  1    8400           1.77          25.99       96.00    0.96\n",
      "  1    8600           1.96          26.13       96.04    0.96\n",
      "  1    8800           1.75          25.36       96.04    0.96\n",
      "  1    9000           1.88          24.59       96.08    0.96\n",
      "\u001b[34m\u001b[1mwandb\u001b[0m: Adding directory to artifact (./output_transformer/model-last)... Done. 3.3s\n",
      "  1    9200           1.98          24.18       96.18    0.96\n",
      "  1    9400           1.85          24.51       96.23    0.96\n",
      "  1    9600           1.88          25.88       96.19    0.96\n",
      "  1    9800           1.92          24.52       96.19    0.96\n",
      "  1   10000           1.88          25.28       96.13    0.96\n",
      "\u001b[34m\u001b[1mwandb\u001b[0m: Adding directory to artifact (./output_transformer/model-last)... Done. 2.7s\n",
      "  1   10200           1.91          24.71       96.30    0.96\n",
      "  1   10400           1.73          24.08       96.17    0.96\n",
      "  1   10600           1.88          24.69       96.18    0.96\n",
      "  1   10800           1.86          24.31       96.30    0.96\n",
      "  1   11000           1.83          23.93       96.30    0.96\n",
      "\u001b[34m\u001b[1mwandb\u001b[0m: Adding directory to artifact (./output_transformer/model-last)... Done. 3.4s\n",
      "  1   11200           1.98          24.48       96.32    0.96\n",
      "  1   11400           1.87          24.74       96.30    0.96\n",
      "  1   11600           1.89          24.77       96.40    0.96\n",
      "  1   11800           1.98          25.97       96.48    0.96\n",
      "  1   12000           1.88          24.12       96.38    0.96\n",
      "\u001b[34m\u001b[1mwandb\u001b[0m: Adding directory to artifact (./output_transformer/model-last)... Done. 2.8s\n",
      "  2   12200           1.78          23.45       96.47    0.96\n",
      "  2   12400           1.70          21.82       96.43    0.96\n",
      "  2   12600           1.79          22.13       96.43    0.96\n",
      "  2   12800           1.74          22.03       96.44    0.96\n",
      "  2   13000           1.64          20.37       96.41    0.96\n",
      "\u001b[34m\u001b[1mwandb\u001b[0m: Adding directory to artifact (./output_transformer/model-last)... Done. 2.7s\n",
      "  2   13200           1.82          21.52       96.51    0.97\n",
      "  2   13400           1.75          21.37       96.42    0.96\n",
      "  2   13600           1.88          21.44       96.46    0.96\n",
      "  2   13800           1.73          21.25       96.51    0.97\n",
      "  2   14000           1.70          21.57       96.54    0.97\n",
      "\u001b[34m\u001b[1mwandb\u001b[0m: Adding directory to artifact (./output_transformer/model-last)... Done. 3.4s\n",
      "  2   14200           1.67          22.28       96.60    0.97\n",
      "  2   14400           1.70          22.22       96.47    0.96\n",
      "  2   14600           1.93          22.26       96.56    0.97\n",
      "  2   14800           1.52          21.06       96.58    0.97\n",
      "  2   15000           1.64          21.97       96.59    0.97\n",
      "\u001b[34m\u001b[1mwandb\u001b[0m: Adding directory to artifact (./output_transformer/model-last)... Done. 2.7s\n",
      "  2   15200           1.68          21.59       96.57    0.97\n",
      "  2   15400           1.75          21.54       96.60    0.97\n",
      "  2   15600           1.77          21.76       96.67    0.97\n",
      "  2   15800           1.70          20.66       96.62    0.97\n",
      "  2   16000           1.73          21.44       96.65    0.97\n",
      "\u001b[34m\u001b[1mwandb\u001b[0m: Adding directory to artifact (./output_transformer/model-last)... Done. 2.8s\n",
      "  2   16200           1.77          20.71       96.72    0.97\n",
      "  2   16400           1.83          21.27       96.67    0.97\n",
      "  2   16600           1.77          21.01       96.71    0.97\n",
      "  2   16800           1.71          21.35       96.74    0.97\n",
      "  2   17000           1.76          20.40       96.72    0.97\n",
      "\u001b[34m\u001b[1mwandb\u001b[0m: Adding directory to artifact (./output_transformer/model-last)... Done. 2.8s\n",
      "  2   17200           1.69          20.96       96.70    0.97\n",
      "  2   17400           1.57          20.62       96.74    0.97\n",
      "  2   17600           1.78          20.78       96.76    0.97\n",
      "  2   17800           1.61          20.22       96.78    0.97\n",
      "  2   18000           1.85          20.51       96.73    0.97\n",
      "\u001b[34m\u001b[1mwandb\u001b[0m: Adding directory to artifact (./output_transformer/model-last)... Done. 2.8s\n",
      "  3   18200           1.72          20.36       96.74    0.97\n",
      "  3   18400           1.65          18.57       96.73    0.97\n",
      "  3   18600           1.75          18.57       96.75    0.97\n",
      "  3   18800           1.57          18.56       96.72    0.97\n",
      "  3   19000           1.56          17.43       96.72    0.97\n",
      "\u001b[34m\u001b[1mwandb\u001b[0m: Adding directory to artifact (./output_transformer/model-last)... Done. 2.8s\n",
      "  3   19200           1.67          19.07       96.73    0.97\n",
      "  3   19400           1.50          19.57       96.74    0.97\n",
      "\u001b[34m\u001b[1mwandb\u001b[0m: Waiting for W&B process to finish... \u001b[32m(success).\u001b[0m\n",
      "\u001b[34m\u001b[1mwandb\u001b[0m: | 9122.831 MB of 9122.852 MB uploaded (23.841 MB deduped)\n",
      "\u001b[34m\u001b[1mwandb\u001b[0m: Run history:\n",
      "\u001b[34m\u001b[1mwandb\u001b[0m:          cats_macro_auc ▁▇▇▇████████████████████████████████████\n",
      "\u001b[34m\u001b[1mwandb\u001b[0m:            cats_macro_f ▁▄▆▆▇▇▇▇▇▇▇▇▇█▇▇████▇███████████████████\n",
      "\u001b[34m\u001b[1mwandb\u001b[0m:            cats_macro_p ▁▆▇█████████████████████████████████████\n",
      "\u001b[34m\u001b[1mwandb\u001b[0m:            cats_macro_r ▅▁▃▄▅▆▅▆▇▆▆▇▆▇▆▆▇▇▇█▆▇▇▇▇█▇▇███▇▇███████\n",
      "\u001b[34m\u001b[1mwandb\u001b[0m:            cats_micro_f ▁▅▆▆▇▇▇▇▇▇▇▇▇█▇▇████▇███████████████████\n",
      "\u001b[34m\u001b[1mwandb\u001b[0m:            cats_micro_p ▁▇▇█▇▇██▇▇█▇█▇██████████████████████████\n",
      "\u001b[34m\u001b[1mwandb\u001b[0m:            cats_micro_r ▅▁▃▄▅▅▅▆▇▆▆▇▆▇▆▆▇▇▇█▆▇▇▇▇█▇▇▇██▇▇███████\n",
      "\u001b[34m\u001b[1mwandb\u001b[0m:              cats_score ▁▇▇▇████████████████████████████████████\n",
      "\u001b[34m\u001b[1mwandb\u001b[0m: loss_textcat_multilabel ▁█▇▆▆▆▆▆▆▆▆▆▅▅▅▅▅▅▅▅▅▅▅▅▅▄▄▄▄▄▄▄▄▄▄▄▄▄▄▄\n",
      "\u001b[34m\u001b[1mwandb\u001b[0m:        loss_transformer ▁███▇█████▇██▇▇█▇▇▇▇▇▇▇▇█▇▇▇▇▇▆▇▇▇▇▆▆▆▆▆\n",
      "\u001b[34m\u001b[1mwandb\u001b[0m:                   score ▁▇▇▇████████████████████████████████████\n",
      "\u001b[34m\u001b[1mwandb\u001b[0m:                   speed ▅▄▃▄▃▅▃▃▅▂▂▅▅▇▄▄▅▅▁▆██▅▄▄▃███████▅▆▇▅▄▅▄\n",
      "\u001b[34m\u001b[1mwandb\u001b[0m:               token_acc ▁▁▁▁▁▁▁▁▁▁▁▁▁▁▁▁▁▁▁▁▁▁▁▁▁▁▁▁▁▁▁▁▁▁▁▁▁▁▁▁\n",
      "\u001b[34m\u001b[1mwandb\u001b[0m:                 token_f ▁▁▁▁▁▁▁▁▁▁▁▁▁▁▁▁▁▁▁▁▁▁▁▁▁▁▁▁▁▁▁▁▁▁▁▁▁▁▁▁\n",
      "\u001b[34m\u001b[1mwandb\u001b[0m:                 token_p ▁▁▁▁▁▁▁▁▁▁▁▁▁▁▁▁▁▁▁▁▁▁▁▁▁▁▁▁▁▁▁▁▁▁▁▁▁▁▁▁\n",
      "\u001b[34m\u001b[1mwandb\u001b[0m:                 token_r ▁▁▁▁▁▁▁▁▁▁▁▁▁▁▁▁▁▁▁▁▁▁▁▁▁▁▁▁▁▁▁▁▁▁▁▁▁▁▁▁\n",
      "\u001b[34m\u001b[1mwandb\u001b[0m: \n",
      "\u001b[34m\u001b[1mwandb\u001b[0m: Run summary:\n",
      "\u001b[34m\u001b[1mwandb\u001b[0m:          cats_macro_auc 0.96736\n",
      "\u001b[34m\u001b[1mwandb\u001b[0m:            cats_macro_f 0.74222\n",
      "\u001b[34m\u001b[1mwandb\u001b[0m:            cats_macro_p 0.76996\n",
      "\u001b[34m\u001b[1mwandb\u001b[0m:            cats_macro_r 0.7207\n",
      "\u001b[34m\u001b[1mwandb\u001b[0m:            cats_micro_f 0.73988\n",
      "\u001b[34m\u001b[1mwandb\u001b[0m:            cats_micro_p 0.75847\n",
      "\u001b[34m\u001b[1mwandb\u001b[0m:            cats_micro_r 0.72218\n",
      "\u001b[34m\u001b[1mwandb\u001b[0m:              cats_score 0.96736\n",
      "\u001b[34m\u001b[1mwandb\u001b[0m:         cats_score_desc macro AUC\n",
      "\u001b[34m\u001b[1mwandb\u001b[0m: loss_textcat_multilabel 19.57371\n",
      "\u001b[34m\u001b[1mwandb\u001b[0m:        loss_transformer 1.49791\n",
      "\u001b[34m\u001b[1mwandb\u001b[0m:                   score 0.96736\n",
      "\u001b[34m\u001b[1mwandb\u001b[0m:                   speed 11345.44211\n",
      "\u001b[34m\u001b[1mwandb\u001b[0m:               token_acc 1.0\n",
      "\u001b[34m\u001b[1mwandb\u001b[0m:                 token_f 1.0\n",
      "\u001b[34m\u001b[1mwandb\u001b[0m:                 token_p 1.0\n",
      "\u001b[34m\u001b[1mwandb\u001b[0m:                 token_r 1.0\n",
      "\u001b[34m\u001b[1mwandb\u001b[0m: \n",
      "\u001b[34m\u001b[1mwandb\u001b[0m: 🚀 View run \u001b[33mfanciful-haze-34\u001b[0m at: \u001b[34m\u001b[4mhttps://wandb.ai/apersonnaz/my_spacy_project/runs/ogpumat3\u001b[0m\n",
      "\u001b[34m\u001b[1mwandb\u001b[0m: Synced 5 W&B file(s), 0 media file(s), 228 artifact file(s) and 0 other file(s)\n",
      "\u001b[34m\u001b[1mwandb\u001b[0m: Find logs at: \u001b[35m\u001b[1m./wandb/run-20230316_160457-ogpumat3/logs\u001b[0m\n",
      "\u001b[38;5;2m✔ Saved pipeline to output directory\u001b[0m\n",
      "output_transformer/model-last\n"
     ]
    }
   ],
   "source": [
    "!python3 -m spacy train config_transformer_filled.cfg --output ./output_transformer --paths.train ./text_train_transformer.spacy --paths.dev ./text_test_transformer.spacy --gpu-id 0"
   ]
  },
  {
   "attachments": {},
   "cell_type": "markdown",
   "metadata": {},
   "source": [
    "#### Code"
   ]
  },
  {
   "cell_type": "code",
   "execution_count": null,
   "metadata": {},
   "outputs": [
    {
     "name": "stdout",
     "output_type": "stream",
     "text": [
      "preprocessing\n"
     ]
    },
    {
     "name": "stderr",
     "output_type": "stream",
     "text": [
      "100%|██████████| 81619/81619 [13:16<00:00, 102.47it/s]\n",
      " 21%|██        | 15681/76005 [01:55<07:08, 140.73it/s]Token indices sequence length is longer than the specified maximum sequence length for this model (519 > 512). Running this sequence through the model will result in indexing errors\n",
      "100%|██████████| 76005/76005 [09:12<00:00, 137.64it/s]\n"
     ]
    }
   ],
   "source": [
    "train_df = sample_train[~sample_train.code.isna()].loc[:]\n",
    "train_df[\"code_processed\"] = preprocess_transformers(train_df.code, nlp)\n",
    "test_df = sample_test[~sample_test.code.isna()].sample(\n",
    "    round(len(sample_test)/4))\n",
    "test_df[\"code_processed\"] = preprocess(test_df.code, nlp)\n",
    "validation_df = sample_validation[~sample_validation.code.isna()].loc[:]\n",
    "validation_df[\"code_processed\"] = preprocess(\n",
    "    validation_df.code, nlp)\n",
    "convert(train_df.loc[:, [\"code_processed\", \"tag_list\"]],\n",
    "        'code_train_transformer.spacy', nlp)\n",
    "convert(test_df.loc[:, [\"code_processed\",\n",
    "        \"tag_list\"]], 'code_test_transformer.spacy', nlp)\n",
    "convert(validation_df.loc[:, [\n",
    "        \"code_processed\", \"tag_list\"]], 'code_validation_transformer.spacy', nlp)\n"
   ]
  },
  {
   "cell_type": "code",
   "execution_count": null,
   "metadata": {},
   "outputs": [
    {
     "name": "stdout",
     "output_type": "stream",
     "text": [
      "2023-03-17 09:46:03.044001: I tensorflow/core/platform/cpu_feature_guard.cc:193] This TensorFlow binary is optimized with oneAPI Deep Neural Network Library (oneDNN) to use the following CPU instructions in performance-critical operations:  AVX2 FMA\n",
      "To enable them in other operations, rebuild TensorFlow with the appropriate compiler flags.\n",
      "2023-03-17 09:46:04.556747: I tensorflow/compiler/xla/stream_executor/cuda/cuda_gpu_executor.cc:981] successful NUMA node read from SysFS had negative value (-1), but there must be at least one NUMA node, so returning NUMA node zero\n",
      "2023-03-17 09:46:04.557120: I tensorflow/compiler/xla/stream_executor/cuda/cuda_gpu_executor.cc:981] successful NUMA node read from SysFS had negative value (-1), but there must be at least one NUMA node, so returning NUMA node zero\n",
      "2023-03-17 09:46:04.557277: I tensorflow/compiler/xla/stream_executor/cuda/cuda_gpu_executor.cc:981] successful NUMA node read from SysFS had negative value (-1), but there must be at least one NUMA node, so returning NUMA node zero\n",
      "\u001b[38;5;4mℹ Saving to output directory: output_code_transformer\u001b[0m\n",
      "\u001b[38;5;4mℹ Using GPU: 0\u001b[0m\n",
      "\u001b[1m\n",
      "=========================== Initializing pipeline ===========================\u001b[0m\n",
      "[2023-03-17 09:46:08,585] [INFO] Set up nlp object from config\n",
      "[2023-03-17 09:46:09,140] [INFO] Pipeline: ['transformer', 'textcat_multilabel']\n",
      "[2023-03-17 09:46:09,144] [INFO] Created vocabulary\n",
      "[2023-03-17 09:46:09,146] [INFO] Finished initializing nlp object\n",
      "Some weights of the model checkpoint at roberta-base were not used when initializing RobertaModel: ['lm_head.layer_norm.weight', 'lm_head.dense.bias', 'lm_head.layer_norm.bias', 'lm_head.dense.weight', 'lm_head.decoder.weight', 'lm_head.bias']\n",
      "- This IS expected if you are initializing RobertaModel from the checkpoint of a model trained on another task or with another architecture (e.g. initializing a BertForSequenceClassification model from a BertForPreTraining model).\n",
      "- This IS NOT expected if you are initializing RobertaModel from the checkpoint of a model that you expect to be exactly identical (initializing a BertForSequenceClassification model from a BertForSequenceClassification model).\n",
      "[2023-03-17 09:46:39,178] [INFO] Initialized pipeline components: ['transformer', 'textcat_multilabel']\n",
      "\u001b[38;5;2m✔ Initialized pipeline\u001b[0m\n",
      "\u001b[1m\n",
      "============================= Training pipeline =============================\u001b[0m\n",
      "\u001b[38;5;4mℹ Pipeline: ['transformer', 'textcat_multilabel']\u001b[0m\n",
      "\u001b[38;5;4mℹ Initial learn rate: 0.0\u001b[0m\n",
      "\u001b[34m\u001b[1mwandb\u001b[0m: Currently logged in as: \u001b[33mapersonnaz\u001b[0m. Use \u001b[1m`wandb login --relogin`\u001b[0m to force relogin\n",
      "\u001b[34m\u001b[1mwandb\u001b[0m: Tracking run with wandb version 0.14.0\n",
      "\u001b[34m\u001b[1mwandb\u001b[0m: Run data is saved locally in \u001b[35m\u001b[1m/home/aurelien/Documents/ocr/OCR_IML_projet5/wandb/run-20230317_094640-wtyy85vr\u001b[0m\n",
      "\u001b[34m\u001b[1mwandb\u001b[0m: Run \u001b[1m`wandb offline`\u001b[0m to turn off syncing.\n",
      "\u001b[34m\u001b[1mwandb\u001b[0m: Syncing run \u001b[33mradiant-capybara-39\u001b[0m\n",
      "\u001b[34m\u001b[1mwandb\u001b[0m: ⭐️ View project at \u001b[34m\u001b[4mhttps://wandb.ai/apersonnaz/my_spacy_project\u001b[0m\n",
      "\u001b[34m\u001b[1mwandb\u001b[0m: 🚀 View run at \u001b[34m\u001b[4mhttps://wandb.ai/apersonnaz/my_spacy_project/runs/wtyy85vr\u001b[0m\n",
      "E    #       LOSS TRANS...  LOSS TEXTC...  CATS_SCORE  SCORE \n",
      "---  ------  -------------  -------------  ----------  ------\n",
      "  0       0           0.00           0.29       45.54    0.46\n",
      "  0     200           2.13          34.79       72.62    0.73\n",
      "  0     400           2.73          26.88       79.66    0.80\n",
      "  0     600           1.13          25.83       81.41    0.81\n",
      "  0     800           3.11          25.24       84.72    0.85\n",
      "  0    1000           1.88          25.70       86.33    0.86\n",
      "\u001b[34m\u001b[1mwandb\u001b[0m: Adding directory to artifact (./output_code_transformer/model-last)... Done. 2.9s\n",
      "  0    1200           2.70          22.75       87.56    0.88\n",
      "  0    1400           2.68          22.93       87.81    0.88\n",
      "  0    1600           1.69          22.04       88.79    0.89\n",
      "  0    1800           2.15          19.03       89.63    0.90\n",
      "  0    2000           2.95          20.55       88.85    0.89\n",
      "\u001b[34m\u001b[1mwandb\u001b[0m: Adding directory to artifact (./output_code_transformer/model-last)... Done. 2.9s\n",
      "  0    2200           2.35          24.10       88.19    0.88\n",
      "  0    2400           2.77          19.06       91.03    0.91\n",
      "  0    2600           2.43          18.18       89.58    0.90\n",
      "  0    2800           2.37          22.34       90.85    0.91\n",
      "  0    3000           2.95          17.64       89.48    0.89\n",
      "\u001b[34m\u001b[1mwandb\u001b[0m: Adding directory to artifact (./output_code_transformer/model-last)... Done. 2.9s\n",
      "  0    3200           3.07          19.51       91.22    0.91\n",
      "  0    3400           2.41          20.36       90.98    0.91\n",
      "  0    3600           1.80          18.19       90.86    0.91\n",
      "  0    3800           1.64          19.33       91.42    0.91\n",
      "  0    4000           3.81          19.12       91.23    0.91\n",
      "\u001b[34m\u001b[1mwandb\u001b[0m: Adding directory to artifact (./output_code_transformer/model-last)... Done. 2.9s\n",
      "  0    4200           2.50          17.19       91.21    0.91\n",
      "  0    4400           3.72          19.45       91.50    0.91\n",
      "  0    4600           2.69          17.88       91.88    0.92\n",
      "  0    4800           3.55          17.71       91.53    0.92\n",
      "  0    5000           2.24          18.18       90.69    0.91\n",
      "\u001b[34m\u001b[1mwandb\u001b[0m: Adding directory to artifact (./output_code_transformer/model-last)... Done. 2.9s\n",
      "  0    5200           2.82          18.98       91.59    0.92\n",
      "  0    5400           3.11          17.32       92.15    0.92\n",
      "  0    5600           2.19          17.74       92.32    0.92\n",
      "  0    5800           2.97          17.66       91.69    0.92\n",
      "  0    6000           1.03          15.09       92.46    0.92\n",
      "\u001b[34m\u001b[1mwandb\u001b[0m: Adding directory to artifact (./output_code_transformer/model-last)... Done. 2.9s\n",
      "\u001b[34m\u001b[1mwandb\u001b[0m: Network error (ConnectTimeout), entering retry loop.\n",
      "  0    6200           3.34          17.20       92.48    0.92\n",
      "  0    6400           2.05          17.83       92.13    0.92\n",
      "  0    6600           2.54          16.10       92.55    0.93\n",
      "Token indices sequence length is longer than the specified maximum sequence length for this model (816 > 512). Running this sequence through the model will result in indexing errors\n",
      "  0    6800           3.49          15.38       92.72    0.93\n",
      "  0    7000           3.09          16.67       92.90    0.93\n",
      "\u001b[34m\u001b[1mwandb\u001b[0m: Adding directory to artifact (./output_code_transformer/model-last)... Done. 3.0s\n",
      "\u001b[34m\u001b[1mwandb\u001b[0m: Network error (ConnectionError), entering retry loop.\n",
      "  0    7200           2.08          16.63       92.38    0.92\n",
      "  0    7400           2.95          16.06       92.58    0.93\n",
      "  0    7600           2.83          18.23       92.02    0.92\n",
      "  0    7800           2.71          16.89       92.57    0.93\n",
      "  0    8000           3.77          16.95       92.64    0.93\n",
      "\u001b[34m\u001b[1mwandb\u001b[0m: Adding directory to artifact (./output_code_transformer/model-last)... Done. 2.9s\n",
      "  0    8200           3.27          15.99       92.98    0.93\n",
      "  0    8400           2.82          16.58       93.13    0.93\n",
      "  0    8600           1.35          13.09       93.09    0.93\n",
      "  0    8800           2.08          15.79       92.99    0.93\n",
      "  0    9000           1.75          14.82       92.85    0.93\n",
      "\u001b[34m\u001b[1mwandb\u001b[0m: Adding directory to artifact (./output_code_transformer/model-last)... Done. 2.9s\n",
      "  0    9200           2.99          17.06       92.76    0.93\n",
      "  0    9400           3.16          17.15       93.37    0.93\n",
      "  0    9600           4.22          17.70       93.38    0.93\n",
      "  0    9800           2.68          16.65       92.97    0.93\n",
      "  0   10000           1.22          15.72       92.76    0.93\n",
      "\u001b[34m\u001b[1mwandb\u001b[0m: Adding directory to artifact (./output_code_transformer/model-last)... Done. 3.0s\n",
      "  0   10200           1.64          14.85       93.33    0.93\n",
      "  0   10400           2.22          15.76       93.27    0.93\n",
      "  0   10600           2.21          15.22       93.12    0.93\n",
      "  0   10800           2.05          15.99       93.64    0.94\n",
      "  0   11000           2.62          15.47       93.18    0.93\n",
      "\u001b[34m\u001b[1mwandb\u001b[0m: Adding directory to artifact (./output_code_transformer/model-last)... Done. 3.0s\n",
      "  0   11200           1.97          14.64       93.39    0.93\n",
      "  0   11400           2.64          15.79       93.52    0.94\n",
      "  0   11600           3.57          16.54       93.62    0.94\n",
      "  0   11800           1.30          15.41       93.73    0.94\n",
      "  0   12000           3.96          16.21       93.74    0.94\n",
      "\u001b[34m\u001b[1mwandb\u001b[0m: Adding directory to artifact (./output_code_transformer/model-last)... Done. 2.9s\n",
      "  0   12200           2.35          15.70       93.80    0.94\n",
      "  0   12400           1.71          14.85       93.84    0.94\n",
      "  0   12600           2.67          16.30       93.79    0.94\n",
      "  0   12800           1.69          13.73       93.85    0.94\n",
      "  0   13000           1.97          14.28       93.59    0.94\n",
      "\u001b[34m\u001b[1mwandb\u001b[0m: Adding directory to artifact (./output_code_transformer/model-last)... Done. 3.0s\n",
      "  0   13200           2.68          14.93       93.77    0.94\n",
      "  0   13400           1.43          15.27       93.89    0.94\n",
      "  0   13600           1.10          15.16       93.97    0.94\n",
      "  0   13800           2.29          16.16       93.84    0.94\n",
      "  0   14000           1.91          14.70       94.00    0.94\n",
      "\u001b[34m\u001b[1mwandb\u001b[0m: Adding directory to artifact (./output_code_transformer/model-last)... Done. 2.9s\n",
      "  0   14200           1.19          14.11       93.89    0.94\n",
      "  0   14400           1.96          14.23       93.99    0.94\n",
      "  0   14600           1.93          14.68       93.89    0.94\n",
      "  0   14800           1.83          14.04       93.91    0.94\n",
      "  0   15000           1.90          15.00       93.95    0.94\n",
      "\u001b[34m\u001b[1mwandb\u001b[0m: Adding directory to artifact (./output_code_transformer/model-last)... Done. 2.9s\n",
      "  0   15200           3.24          15.27       93.91    0.94\n",
      "  0   15400           2.09          14.73       93.89    0.94\n",
      "  0   15600           2.65          13.08       94.07    0.94\n",
      "  0   15800           3.19          13.84       94.06    0.94\n",
      "  0   16000           2.08          14.52       94.15    0.94\n",
      "\u001b[34m\u001b[1mwandb\u001b[0m: Adding directory to artifact (./output_code_transformer/model-last)... Done. 2.9s\n",
      "  0   16200           2.01          14.23       94.17    0.94\n",
      "  0   16400           2.34          14.41       94.16    0.94\n",
      "  0   16600           1.24          14.85       94.14    0.94\n",
      "  0   16800           1.12          11.93       94.26    0.94\n",
      "  0   17000           2.06          13.88       94.30    0.94\n",
      "\u001b[34m\u001b[1mwandb\u001b[0m: Adding directory to artifact (./output_code_transformer/model-last)... Done. 3.0s\n",
      "  0   17200           3.36          14.13       94.42    0.94\n",
      "  0   17400           1.89          14.41       94.38    0.94\n",
      "  0   17600           2.11          13.16       94.30    0.94\n",
      "  0   17800           1.94          13.23       94.31    0.94\n",
      "  0   18000           2.41          12.50       94.30    0.94\n",
      "\u001b[34m\u001b[1mwandb\u001b[0m: Adding directory to artifact (./output_code_transformer/model-last)... Done. 2.9s\n",
      "  0   18200           2.50          14.87       94.38    0.94\n",
      "  0   18400           1.19          13.79       94.41    0.94\n",
      "  0   18600           1.42          14.63       94.46    0.94\n",
      "  0   18800           1.68          13.01       94.46    0.94\n",
      "  0   19000           2.84          13.33       94.45    0.94\n",
      "\u001b[34m\u001b[1mwandb\u001b[0m: Adding directory to artifact (./output_code_transformer/model-last)... Done. 4.2s\n",
      "  0   19200           1.98          13.31       94.46    0.94\n",
      "  0   19400           1.77          13.23       94.47    0.94\n",
      "  0   19600           3.62          13.93       94.46    0.94\n",
      "  0   19800           3.40          14.00       94.47    0.94\n",
      "  1   20000           1.96          13.64       94.47    0.94\n",
      "\u001b[34m\u001b[1mwandb\u001b[0m: Adding directory to artifact (./output_code_transformer/model-last)... Done. 3.0s\n",
      "\u001b[34m\u001b[1mwandb\u001b[0m: Waiting for W&B process to finish... \u001b[32m(success).\u001b[0m\n",
      "\u001b[34m\u001b[1mwandb\u001b[0m: \n",
      "\u001b[34m\u001b[1mwandb\u001b[0m: Run history:\n",
      "\u001b[34m\u001b[1mwandb\u001b[0m:          cats_macro_auc ▁▆▇▇▇█▇███▇█████████████████████████████\n",
      "\u001b[34m\u001b[1mwandb\u001b[0m:            cats_macro_f ▁▂▄▅▅▆▆▇▆▆▆▇▇▇▇▇▇▆▇▇▇▇▇█▇▇▇█▇▇▇███▇█████\n",
      "\u001b[34m\u001b[1mwandb\u001b[0m:            cats_macro_p ▁▃▅▆▆▇▇▇█▇████▇▇█▇▇█▇▇▇█▇█▇████████▇████\n",
      "\u001b[34m\u001b[1mwandb\u001b[0m:            cats_macro_r ▆▁▃▄▅▅▅▆▆▆▆▆▇▇▇▇▇▆▆▇▇▆▇█▇▇▇█▇▇▇███▇█▇▇██\n",
      "\u001b[34m\u001b[1mwandb\u001b[0m:            cats_micro_f ▁▃▄▅▆▆▆▇▇▇▇▇▇▇▇▇▇▇▇▇▇▇▇██▇██████████████\n",
      "\u001b[34m\u001b[1mwandb\u001b[0m:            cats_micro_p ▁▇▆▇▆▇▇▇▇▇▇▇▇▇█▇▇█▇████▇▇█▇████▇████████\n",
      "\u001b[34m\u001b[1mwandb\u001b[0m:            cats_micro_r ▅▁▃▄▅▅▅▆▆▇▆▆▇▆▇▇▇▆▆▇▇▇▇█▇▇█▇▇▇▇███▇█████\n",
      "\u001b[34m\u001b[1mwandb\u001b[0m:              cats_score ▁▆▇▇▇█▇███▇█████████████████████████████\n",
      "\u001b[34m\u001b[1mwandb\u001b[0m: loss_textcat_multilabel ▁██▇▆▆▆▆▆▆▆▆▅▅▅▆▅▄▅▆▅▅▅▅▅▅▅▅▅▅▅▅▅▄▅▄▅▄▄▅\n",
      "\u001b[34m\u001b[1mwandb\u001b[0m:        loss_transformer ▁▆▄▅▆▆▆▅▇▅▅▅▃▅▆▆▆▃▆█▄▅▄▇▅▄▅▅▃▄▆▆▅▃▄▄▃▄▄▄\n",
      "\u001b[34m\u001b[1mwandb\u001b[0m:                   score ▁▆▇▇▇█▇███▇█████████████████████████████\n",
      "\u001b[34m\u001b[1mwandb\u001b[0m:                   speed █▇▇▇▇▇▅▇▇▇▇▇▇▅▅▆█▅▆▆▆▆▆▆▇███████████▇▇▁▆\n",
      "\u001b[34m\u001b[1mwandb\u001b[0m:               token_acc ▁▁▁▁▁▁▁▁▁▁▁▁▁▁▁▁▁▁▁▁▁▁▁▁▁▁▁▁▁▁▁▁▁▁▁▁▁▁▁▁\n",
      "\u001b[34m\u001b[1mwandb\u001b[0m:                 token_f ▁▁▁▁▁▁▁▁▁▁▁▁▁▁▁▁▁▁▁▁▁▁▁▁▁▁▁▁▁▁▁▁▁▁▁▁▁▁▁▁\n",
      "\u001b[34m\u001b[1mwandb\u001b[0m:                 token_p ▁▁▁▁▁▁▁▁▁▁▁▁▁▁▁▁▁▁▁▁▁▁▁▁▁▁▁▁▁▁▁▁▁▁▁▁▁▁▁▁\n",
      "\u001b[34m\u001b[1mwandb\u001b[0m:                 token_r ▁▁▁▁▁▁▁▁▁▁▁▁▁▁▁▁▁▁▁▁▁▁▁▁▁▁▁▁▁▁▁▁▁▁▁▁▁▁▁▁\n",
      "\u001b[34m\u001b[1mwandb\u001b[0m: \n",
      "\u001b[34m\u001b[1mwandb\u001b[0m: Run summary:\n",
      "\u001b[34m\u001b[1mwandb\u001b[0m:          cats_macro_auc 0.94471\n",
      "\u001b[34m\u001b[1mwandb\u001b[0m:            cats_macro_f 0.64677\n",
      "\u001b[34m\u001b[1mwandb\u001b[0m:            cats_macro_p 0.74768\n",
      "\u001b[34m\u001b[1mwandb\u001b[0m:            cats_macro_r 0.59169\n",
      "\u001b[34m\u001b[1mwandb\u001b[0m:            cats_micro_f 0.66833\n",
      "\u001b[34m\u001b[1mwandb\u001b[0m:            cats_micro_p 0.7427\n",
      "\u001b[34m\u001b[1mwandb\u001b[0m:            cats_micro_r 0.6075\n",
      "\u001b[34m\u001b[1mwandb\u001b[0m:              cats_score 0.94471\n",
      "\u001b[34m\u001b[1mwandb\u001b[0m:         cats_score_desc macro AUC\n",
      "\u001b[34m\u001b[1mwandb\u001b[0m: loss_textcat_multilabel 13.63768\n",
      "\u001b[34m\u001b[1mwandb\u001b[0m:        loss_transformer 1.95858\n",
      "\u001b[34m\u001b[1mwandb\u001b[0m:                   score 0.94471\n",
      "\u001b[34m\u001b[1mwandb\u001b[0m:                   speed 4295.36026\n",
      "\u001b[34m\u001b[1mwandb\u001b[0m:               token_acc 1.0\n",
      "\u001b[34m\u001b[1mwandb\u001b[0m:                 token_f 1.0\n",
      "\u001b[34m\u001b[1mwandb\u001b[0m:                 token_p 1.0\n",
      "\u001b[34m\u001b[1mwandb\u001b[0m:                 token_r 1.0\n",
      "\u001b[34m\u001b[1mwandb\u001b[0m: \n",
      "\u001b[34m\u001b[1mwandb\u001b[0m: 🚀 View run \u001b[33mradiant-capybara-39\u001b[0m at: \u001b[34m\u001b[4mhttps://wandb.ai/apersonnaz/my_spacy_project/runs/wtyy85vr\u001b[0m\n",
      "\u001b[34m\u001b[1mwandb\u001b[0m: Synced 5 W&B file(s), 0 media file(s), 240 artifact file(s) and 0 other file(s)\n",
      "\u001b[34m\u001b[1mwandb\u001b[0m: Find logs at: \u001b[35m\u001b[1m./wandb/run-20230317_094640-wtyy85vr/logs\u001b[0m\n",
      "\u001b[38;5;2m✔ Saved pipeline to output directory\u001b[0m\n",
      "output_code_transformer/model-last\n"
     ]
    }
   ],
   "source": [
    "!python3 -m spacy train config_transformer_filled.cfg --output ./output_code_transformer --paths.train ./code_train_transformer.spacy --paths.dev ./code_test_transformer.spacy --gpu-id 0"
   ]
  },
  {
   "attachments": {},
   "cell_type": "markdown",
   "metadata": {},
   "source": [
    "### USE"
   ]
  },
  {
   "cell_type": "code",
   "execution_count": 4,
   "metadata": {},
   "outputs": [
    {
     "name": "stderr",
     "output_type": "stream",
     "text": [
      "/home/aurelien/.local/lib/python3.10/site-packages/transformers/generation_utils.py:24: FutureWarning: Importing `GenerationMixin` from `src/transformers/generation_utils.py` is deprecated and will be removed in Transformers v5. Import as `from transformers import GenerationMixin` instead.\n",
      "  warnings.warn(\n",
      "/home/aurelien/.local/lib/python3.10/site-packages/transformers/generation_tf_utils.py:24: FutureWarning: Importing `TFGenerationMixin` from `src/transformers/generation_tf_utils.py` is deprecated and will be removed in Transformers v5. Import as `from transformers import TFGenerationMixin` instead.\n",
      "  warnings.warn(\n"
     ]
    }
   ],
   "source": [
    "import tensorflow as tf\n",
    "# import tensorflow_hub as hub\n",
    "import tensorflow.keras\n",
    "import os\n",
    "from tensorflow.keras import backend as K\n",
    "\n",
    "from tensorflow.keras.preprocessing.text import Tokenizer\n",
    "from tensorflow.keras.preprocessing.sequence import pad_sequences\n",
    "from tensorflow.keras import metrics as kmetrics\n",
    "from tensorflow.keras.layers import *\n",
    "from tensorflow.keras.models import Model\n",
    "\n",
    "# Bert\n",
    "import transformers\n",
    "from transformers import *\n",
    "\n",
    "os.environ[\"TF_KERAS\"]='1'"
   ]
  },
  {
   "cell_type": "code",
   "execution_count": 5,
   "metadata": {},
   "outputs": [
    {
     "name": "stdout",
     "output_type": "stream",
     "text": [
      "2.11.0\n",
      "2.11.0\n",
      "Num GPUs Available:  1\n",
      "True\n"
     ]
    }
   ],
   "source": [
    "print(tf.__version__)\n",
    "print(tensorflow.__version__)\n",
    "print(\"Num GPUs Available: \", len(tf.config.experimental.list_physical_devices('GPU')))\n",
    "print(tf.test.is_built_with_cuda())"
   ]
  },
  {
   "cell_type": "code",
   "execution_count": 6,
   "metadata": {},
   "outputs": [
    {
     "name": "stderr",
     "output_type": "stream",
     "text": [
      "loading configuration file /tmp/tmpkge6q4gf/config.json\n",
      "Model config RobertaConfig {\n",
      "  \"_name_or_path\": \"/tmp/tmpkge6q4gf/config.json\",\n",
      "  \"architectures\": [\n",
      "    \"RobertaForMaskedLM\"\n",
      "  ],\n",
      "  \"attention_probs_dropout_prob\": 0.1,\n",
      "  \"bos_token_id\": 0,\n",
      "  \"classifier_dropout\": null,\n",
      "  \"eos_token_id\": 2,\n",
      "  \"hidden_act\": \"gelu\",\n",
      "  \"hidden_dropout_prob\": 0.1,\n",
      "  \"hidden_size\": 768,\n",
      "  \"initializer_range\": 0.02,\n",
      "  \"intermediate_size\": 3072,\n",
      "  \"layer_norm_eps\": 1e-05,\n",
      "  \"max_position_embeddings\": 514,\n",
      "  \"model_type\": \"roberta\",\n",
      "  \"num_attention_heads\": 12,\n",
      "  \"num_hidden_layers\": 12,\n",
      "  \"pad_token_id\": 1,\n",
      "  \"position_embedding_type\": \"absolute\",\n",
      "  \"transformers_version\": \"4.26.1\",\n",
      "  \"type_vocab_size\": 1,\n",
      "  \"use_cache\": true,\n",
      "  \"vocab_size\": 50265\n",
      "}\n",
      "\n",
      "loading file vocab.json\n",
      "loading file merges.txt\n",
      "loading file tokenizer.json\n",
      "loading file added_tokens.json\n",
      "loading file special_tokens_map.json\n",
      "loading file tokenizer_config.json\n"
     ]
    },
    {
     "name": "stdout",
     "output_type": "stream",
     "text": [
      "preprocessing\n"
     ]
    },
    {
     "name": "stderr",
     "output_type": "stream",
     "text": [
      "100%|██████████| 105715/105715 [00:41<00:00, 2525.98it/s]\n"
     ]
    },
    {
     "name": "stdout",
     "output_type": "stream",
     "text": [
      "preprocessing\n"
     ]
    },
    {
     "name": "stderr",
     "output_type": "stream",
     "text": [
      "100%|██████████| 105715/105715 [02:21<00:00, 748.86it/s]\n"
     ]
    }
   ],
   "source": [
    "train_df = sample_train.loc[:]\n",
    "train_df.fillna(\"\", inplace=True)\n",
    "nlp = spacy.load(\"en_core_web_trf\")\n",
    "train_df[\"text_processed\"] = preprocess_transformers(train_df.text)\n",
    "train_df[\"code_processed\"] = preprocess_transformers(train_df.code)\n"
   ]
  },
  {
   "cell_type": "code",
   "execution_count": 7,
   "metadata": {},
   "outputs": [],
   "source": [
    "import tensorflow_hub as hub\n",
    "import torch\n",
    "import gc\n",
    "del nlp\n",
    "gc.collect()\n",
    "torch.cuda.empty_cache()\n"
   ]
  },
  {
   "cell_type": "code",
   "execution_count": 8,
   "metadata": {},
   "outputs": [
    {
     "name": "stderr",
     "output_type": "stream",
     "text": [
      "2023-03-23 16:02:03.580250: I tensorflow/core/platform/cpu_feature_guard.cc:193] This TensorFlow binary is optimized with oneAPI Deep Neural Network Library (oneDNN) to use the following CPU instructions in performance-critical operations:  AVX2 FMA\n",
      "To enable them in other operations, rebuild TensorFlow with the appropriate compiler flags.\n",
      "2023-03-23 16:02:03.580890: I tensorflow/compiler/xla/stream_executor/cuda/cuda_gpu_executor.cc:981] successful NUMA node read from SysFS had negative value (-1), but there must be at least one NUMA node, so returning NUMA node zero\n",
      "2023-03-23 16:02:03.581110: I tensorflow/compiler/xla/stream_executor/cuda/cuda_gpu_executor.cc:981] successful NUMA node read from SysFS had negative value (-1), but there must be at least one NUMA node, so returning NUMA node zero\n",
      "2023-03-23 16:02:03.581260: I tensorflow/compiler/xla/stream_executor/cuda/cuda_gpu_executor.cc:981] successful NUMA node read from SysFS had negative value (-1), but there must be at least one NUMA node, so returning NUMA node zero\n",
      "2023-03-23 16:02:03.581554: I tensorflow/compiler/xla/stream_executor/cuda/cuda_gpu_executor.cc:981] successful NUMA node read from SysFS had negative value (-1), but there must be at least one NUMA node, so returning NUMA node zero\n",
      "2023-03-23 16:02:03.581722: I tensorflow/compiler/xla/stream_executor/cuda/cuda_gpu_executor.cc:981] successful NUMA node read from SysFS had negative value (-1), but there must be at least one NUMA node, so returning NUMA node zero\n",
      "2023-03-23 16:02:03.581874: I tensorflow/compiler/xla/stream_executor/cuda/cuda_gpu_executor.cc:981] successful NUMA node read from SysFS had negative value (-1), but there must be at least one NUMA node, so returning NUMA node zero\n",
      "2023-03-23 16:02:03.582010: I tensorflow/core/common_runtime/gpu/gpu_device.cc:1613] Created device /job:localhost/replica:0/task:0/device:GPU:0 with 5501 MB memory:  -> device: 0, name: NVIDIA GeForce RTX 2070, pci bus id: 0000:1f:00.0, compute capability: 7.5\n"
     ]
    }
   ],
   "source": [
    "\n",
    "embed = hub.load(\"https://tfhub.dev/google/universal-sentence-encoder/4\")"
   ]
  },
  {
   "cell_type": "code",
   "execution_count": 9,
   "metadata": {},
   "outputs": [],
   "source": [
    "def feature_USE_fct(sentences, b_size) :\n",
    "    batch_size = b_size\n",
    "    # time1 = time.time()\n",
    "    \n",
    "    for step in tqdm(range(len(sentences)//batch_size+1)):\n",
    "        idx = step*batch_size\n",
    "        feat = embed(sentences[idx:idx+batch_size])\n",
    "\n",
    "        if step ==0 :\n",
    "            features = feat\n",
    "        else :\n",
    "            features = np.concatenate((features,feat))\n",
    "\n",
    "    # time2 = np.round(time.time() - time1,0)\n",
    "    return features"
   ]
  },
  {
   "cell_type": "code",
   "execution_count": 10,
   "metadata": {},
   "outputs": [
    {
     "name": "stderr",
     "output_type": "stream",
     "text": [
      "  0%|          | 0/10572 [00:00<?, ?it/s]2023-03-23 16:02:07.606647: I tensorflow/tsl/platform/default/subprocess.cc:304] Start cannot spawn child process: No such file or directory\n",
      "100%|██████████| 10572/10572 [04:37<00:00, 38.07it/s]\n",
      "100%|██████████| 10572/10572 [04:29<00:00, 39.26it/s]\n"
     ]
    }
   ],
   "source": [
    "batch_size = 10\n",
    "text_embedded_use = feature_USE_fct(train_df[\"text_processed\"].to_list(), batch_size)\n",
    "code_embedded_use = feature_USE_fct(\n",
    "    train_df[\"code_processed\"].to_list(), batch_size)\n"
   ]
  },
  {
   "cell_type": "code",
   "execution_count": 11,
   "metadata": {},
   "outputs": [],
   "source": [
    "from sklearn.preprocessing import MultiLabelBinarizer\n",
    "\n",
    "sample_train.tag_list = sample_train.tag_list.apply(\n",
    "    lambda tag_list: [tag for tag in tag_list if tag in selected_tags])\n",
    "sample_test.tag_list = sample_test.tag_list.apply(\n",
    "    lambda tag_list: [tag for tag in tag_list if tag in selected_tags])\n",
    "sample_validation.tag_list = sample_validation.tag_list.apply(\n",
    "    lambda tag_list: [tag for tag in tag_list if tag in selected_tags])\n",
    "\n",
    "mlb = MultiLabelBinarizer()\n",
    "mlb.fit([selected_tags])\n",
    "y_train = mlb.transform(sample_train.tag_list.values)\n",
    "y_train_sets = sample_train.tag_list.apply(set)\n",
    "\n"
   ]
  },
  {
   "cell_type": "code",
   "execution_count": 14,
   "metadata": {},
   "outputs": [
    {
     "data": {
      "text/plain": [
       "XGBClassifier(base_score=None, booster=None, callbacks=None,\n",
       "              colsample_bylevel=None, colsample_bynode=None,\n",
       "              colsample_bytree=None, early_stopping_rounds=None,\n",
       "              enable_categorical=False, eval_metric=None, feature_types=None,\n",
       "              gamma=None, gpu_id=None, grow_policy=None, importance_type=None,\n",
       "              interaction_constraints=None, learning_rate=None, max_bin=None,\n",
       "              max_cat_threshold=None, max_cat_to_onehot=None,\n",
       "              max_delta_step=None, max_depth=None, max_leaves=None,\n",
       "              min_child_weight=None, missing=nan, monotone_constraints=None,\n",
       "              n_estimators=100, n_jobs=None, num_parallel_tree=None,\n",
       "              predictor=None, random_state=None, ...)"
      ]
     },
     "execution_count": 14,
     "metadata": {},
     "output_type": "execute_result"
    }
   ],
   "source": [
    "from sklearn.datasets import make_multilabel_classification\n",
    "import numpy as np\n",
    "from xgboost import XGBClassifier\n",
    "\n",
    "text_USE_xgb = XGBClassifier(tree_method=\"hist\")\n",
    "text_USE_xgb.fit(text_embedded_use, y_train)\n",
    "\n",
    "code_USE_xgb = XGBClassifier(tree_method=\"hist\")\n",
    "code_USE_xgb.fit(code_embedded_use, y_train)\n"
   ]
  },
  {
   "cell_type": "code",
   "execution_count": 17,
   "metadata": {},
   "outputs": [
    {
     "name": "stderr",
     "output_type": "stream",
     "text": [
      "loading configuration file /tmp/tmprnhwyq9d/config.json\n",
      "Model config RobertaConfig {\n",
      "  \"_name_or_path\": \"/tmp/tmprnhwyq9d/config.json\",\n",
      "  \"architectures\": [\n",
      "    \"RobertaForMaskedLM\"\n",
      "  ],\n",
      "  \"attention_probs_dropout_prob\": 0.1,\n",
      "  \"bos_token_id\": 0,\n",
      "  \"classifier_dropout\": null,\n",
      "  \"eos_token_id\": 2,\n",
      "  \"hidden_act\": \"gelu\",\n",
      "  \"hidden_dropout_prob\": 0.1,\n",
      "  \"hidden_size\": 768,\n",
      "  \"initializer_range\": 0.02,\n",
      "  \"intermediate_size\": 3072,\n",
      "  \"layer_norm_eps\": 1e-05,\n",
      "  \"max_position_embeddings\": 514,\n",
      "  \"model_type\": \"roberta\",\n",
      "  \"num_attention_heads\": 12,\n",
      "  \"num_hidden_layers\": 12,\n",
      "  \"pad_token_id\": 1,\n",
      "  \"position_embedding_type\": \"absolute\",\n",
      "  \"transformers_version\": \"4.26.1\",\n",
      "  \"type_vocab_size\": 1,\n",
      "  \"use_cache\": true,\n",
      "  \"vocab_size\": 50265\n",
      "}\n",
      "\n",
      "loading file vocab.json\n",
      "loading file merges.txt\n",
      "loading file tokenizer.json\n",
      "loading file added_tokens.json\n",
      "loading file special_tokens_map.json\n",
      "loading file tokenizer_config.json\n"
     ]
    }
   ],
   "source": [
    "nlp = spacy.load(\"en_core_web_trf\")\n"
   ]
  },
  {
   "cell_type": "code",
   "execution_count": 18,
   "metadata": {},
   "outputs": [
    {
     "name": "stdout",
     "output_type": "stream",
     "text": [
      "preprocessing\n"
     ]
    },
    {
     "name": "stderr",
     "output_type": "stream",
     "text": [
      "100%|██████████| 14152/14152 [00:07<00:00, 1889.15it/s]\n"
     ]
    },
    {
     "name": "stdout",
     "output_type": "stream",
     "text": [
      "preprocessing\n"
     ]
    },
    {
     "name": "stderr",
     "output_type": "stream",
     "text": [
      "100%|██████████| 14152/14152 [00:20<00:00, 687.83it/s]\n",
      "100%|██████████| 1416/1416 [00:12<00:00, 116.62it/s]\n",
      "100%|██████████| 1416/1416 [00:09<00:00, 141.64it/s]\n"
     ]
    }
   ],
   "source": [
    "val_df = sample_validation.loc[:]\n",
    "val_df.fillna(\"\", inplace=True)\n",
    "\n",
    "val_df[\"text_processed\"] = preprocess_transformers(val_df.text)\n",
    "val_df[\"code_processed\"] = preprocess_transformers(val_df.code)\n",
    "y_val = mlb.transform(val_df.tag_list.values)\n",
    "y_val_sets = val_df.tag_list.apply(set)\n",
    "del nlp\n",
    "gc.collect()\n",
    "torch.cuda.empty_cache()\n",
    "\n",
    "embed = hub.load(\"https://tfhub.dev/google/universal-sentence-encoder/4\")\n",
    "\n",
    "val_text_embedded_use = feature_USE_fct(\n",
    "    val_df[\"text_processed\"].to_list(), batch_size)\n",
    "val_code_embedded_use = feature_USE_fct(\n",
    "    val_df[\"code_processed\"].to_list(), batch_size)\n"
   ]
  },
  {
   "cell_type": "code",
   "execution_count": 19,
   "metadata": {},
   "outputs": [
    {
     "name": "stdout",
     "output_type": "stream",
     "text": [
      "======= text ==========\n",
      "Roc auc for each tag:\n",
      "[('.net', 0.7121421294027646), ('android', 0.8668995046865263), ('c', 0.7801462618928802), ('c#', 0.7868051930953087), ('c++', 0.7396842721487711), ('css', 0.8624284280899274), ('html', 0.7622747779890774), ('ios', 0.8181335466102204), ('iphone', 0.6915743761553756), ('java', 0.769999120294799), ('javascript', 0.7866934028833994), ('jquery', 0.7923708044239223), ('node.js', 0.7837720707414619), ('objective-c', 0.7062156565932376), ('php', 0.8208277888464297), ('python', 0.8661887998264991)]\n",
      "Roc auc macro average: 0.784\n",
      "Jaccard score sample average: 0.546\n",
      "======= code ==========\n",
      "Roc auc for each tag:\n",
      "[('.net', 0.6079369866359082), ('android', 0.7267987716739797), ('c', 0.6997154406754416), ('c#', 0.72292088495904), ('c++', 0.6909361291254534), ('css', 0.7708856056792683), ('html', 0.696739141993119), ('ios', 0.723385505374633), ('iphone', 0.577980187239019), ('java', 0.6930168290270727), ('javascript', 0.7081876017386395), ('jquery', 0.669616830934715), ('node.js', 0.7314298867330988), ('objective-c', 0.7122836571459519), ('php', 0.6892824153668113), ('python', 0.7718535621376521)]\n",
      "Roc auc macro average: 0.700\n",
      "Jaccard score sample average: 0.391\n",
      "======= union ==========\n",
      "Roc auc for each tag:\n",
      "[('.net', 0.7186971235194586), ('android', 0.7610693400167085), ('c', 0.7702222222222221), ('c#', 0.7702776265650517), ('c++', 0.7781803542673108), ('css', 0.8129200896191188), ('html', 0.787492762015055), ('ios', 0.777190332326284), ('iphone', 0.6814244465832531), ('java', 0.7804166666666666), ('javascript', 0.7875432525951558), ('jquery', 0.7545587162654996), ('node.js', 0.7942973523421588), ('objective-c', 0.7956948640483383), ('php', 0.7475868725868726), ('python', 0.8032638259292837)]\n",
      "Roc auc macro average: 0.770\n",
      "Jaccard score sample average: 0.494\n",
      "======= intersection ==========\n",
      "Roc auc for each tag:\n",
      "[('.net', 0.989305964257518), ('android', 0.9936500985329537), ('c', 0.9904758455855726), ('c#', 0.9857870643827524), ('c++', 0.9895265110189833), ('css', 0.9906397405660378), ('html', 0.9846420153211549), ('ios', 0.9859621686029193), ('iphone', 0.9905626780626781), ('java', 0.9888300573003553), ('javascript', 0.9740397753150144), ('jquery', 0.9874284472139699), ('node.js', 0.9915622510320852), ('objective-c', 0.9835431134259259), ('php', 0.9926316549880806), ('python', 0.9920802919708029)]\n",
      "Roc auc macro average: 0.988\n",
      "Jaccard score sample average: 0.352\n"
     ]
    },
    {
     "name": "stderr",
     "output_type": "stream",
     "text": [
      "/home/aurelien/.local/lib/python3.10/site-packages/sklearn/metrics/_classification.py:1318: UndefinedMetricWarning: Jaccard is ill-defined and being set to 0.0 in samples with no true or predicted labels. Use `zero_division` parameter to control this behavior.\n",
      "  _warn_prf(average, modifier, msg_start, len(result))\n",
      "/home/aurelien/.local/lib/python3.10/site-packages/sklearn/metrics/_classification.py:1318: UndefinedMetricWarning: Jaccard is ill-defined and being set to 0.0 in samples with no true or predicted labels. Use `zero_division` parameter to control this behavior.\n",
      "  _warn_prf(average, modifier, msg_start, len(result))\n"
     ]
    }
   ],
   "source": [
    "y_pred_text = text_USE_xgb.predict(val_text_embedded_use)\n",
    "y_pred_code = code_USE_xgb.predict(val_code_embedded_use)\n",
    "\n",
    "evaluate_predictions(y_val, y_pred_text, y_pred_code, mlb, \"use\")\n"
   ]
  },
  {
   "attachments": {},
   "cell_type": "markdown",
   "metadata": {},
   "source": [
    "### Roberta XGB"
   ]
  },
  {
   "cell_type": "code",
   "execution_count": 4,
   "metadata": {},
   "outputs": [
    {
     "name": "stdout",
     "output_type": "stream",
     "text": [
      "preprocessing\n"
     ]
    },
    {
     "name": "stderr",
     "output_type": "stream",
     "text": [
      "100%|██████████| 105715/105715 [00:41<00:00, 2545.90it/s]\n"
     ]
    },
    {
     "name": "stdout",
     "output_type": "stream",
     "text": [
      "preprocessing\n"
     ]
    },
    {
     "name": "stderr",
     "output_type": "stream",
     "text": [
      "100%|██████████| 105715/105715 [02:16<00:00, 772.66it/s]\n"
     ]
    }
   ],
   "source": [
    "nlp = spacy.load(\"en_core_web_trf\")\n",
    "train_df = sample_train.loc[:]\n",
    "train_df.fillna(\"\", inplace=True)\n",
    "train_df[\"text_processed\"] = preprocess_transformers(train_df.text)\n",
    "train_df[\"code_processed\"] = preprocess_transformers(train_df.code)\n"
   ]
  },
  {
   "cell_type": "code",
   "execution_count": 6,
   "metadata": {},
   "outputs": [],
   "source": [
    "train_df_text = train_df[train_df.text_processed != \"\"].loc[:]\n"
   ]
  },
  {
   "cell_type": "code",
   "execution_count": 10,
   "metadata": {},
   "outputs": [
    {
     "name": "stderr",
     "output_type": "stream",
     "text": [
      "100%|██████████| 20000/20000 [04:04<00:00, 81.78it/s]\n"
     ]
    }
   ],
   "source": [
    "\n",
    "rob_text_embeds = None\n",
    "\n",
    "for doc in tqdm(nlp.pipe(train_df_text.text_processed.values), total=len(train_df_text)):\n",
    "    doc_embed = doc.user_data[('._.', 'trf_data', None, None)\n",
    "                              ].model_output.last_hidden_state.mean(axis=1)[0]\n",
    "    if rob_text_embeds is None:\n",
    "        rob_text_embeds = doc_embed.reshape(1, 768)\n",
    "    else:\n",
    "        rob_text_embeds = np.vstack([rob_text_embeds, doc_embed])\n",
    "   "
   ]
  },
  {
   "cell_type": "code",
   "execution_count": 22,
   "metadata": {},
   "outputs": [
    {
     "data": {
      "text/plain": [
       "(768,)"
      ]
     },
     "execution_count": 22,
     "metadata": {},
     "output_type": "execute_result"
    }
   ],
   "source": [
    "rob_text_embeds[2].shape\n"
   ]
  },
  {
   "cell_type": "code",
   "execution_count": 13,
   "metadata": {},
   "outputs": [
    {
     "name": "stderr",
     "output_type": "stream",
     "text": [
      "/home/aurelien/.local/lib/python3.10/site-packages/sklearn/preprocessing/_label.py:875: UserWarning: unknown class(es) ['.a', '.app', '.class-file', '.doc', '.emf', '.htaccess', '.htpasswd', '.mov', '.net-1.1', '.net-2.0', '.net-3.0', '.net-3.5', '.net-4.0', '.net-4.5', '.net-4.5.2', '.net-4.6', '.net-4.6.1', '.net-4.6.2', '.net-4.7', '.net-4.7.1', '.net-4.7.2', '.net-4.8', '.net-5', '.net-6.0', '.net-7.0', '.net-assembly', '.net-attributes', '.net-client-profile', '.net-core', '.net-core-2.0', '.net-core-2.1', '.net-core-3.0', '.net-core-3.1', '.net-core-rc2', '.net-framework-version', '.net-generic-math', '.net-maui', '.net-micro-framework', '.net-native', '.net-remoting', '.net-spark', '.net-standard', '.net-standard-1.5', '.net-standard-2.0', '.net-standard-2.1', '.npmrc', '.so', '.when', '128-bit', '16-bit', '2-legged', '2-way-object-databinding', '24-bit', '2d', '2d-games', '32-bit', '32bit-64bit', '32feet', '360-degrees', '360-panorama-viewer', '3d', '3d-engine', '3d-model', '3d-modelling', '3d-rendering', '3d-secure', '3des', '3dsmax', '3dtouch', '3g', '4g', '64-bit', '68000', '68hc12', '7-bit', '7zip', '8-bit', '8051', '960.gs', 'a-star', 'a2dp', 'aac', 'aadhaar', 'aapt', 'aapt2', 'aar', 'aasa', 'ab-testing', 'abaddressbook', 'abandonedmutexexception', 'abap', 'abbr', 'abbreviation', 'abbyy', 'abc', 'abcpdf', 'abi', 'abort', 'abp', 'abpeoplepickerview', 'abpersonviewcontroller', 'abrecordref', 'absolute', 'absolute-path', 'absolute-value', 'absolutelayout', 'abstract', 'abstract-algebra', 'abstract-base-class', 'abstract-class', 'abstract-data-type', 'abstract-factory', 'abstract-methods', 'abstract-syntax-tree', 'abstraction', 'acaccountstore', 'acc', 'accelerate-framework', 'accelerated-mobile-page', 'acceleration', 'accelerator', 'accelerometer', 'accent-insensitive', 'acceptance-testing', 'access-control', 'access-denied', 'access-keys', 'access-modifiers', 'access-protection', 'access-rights', 'access-specifier', 'access-token', 'access-violation', 'accessibility', 'accessibility-api', 'accessibilityservice', 'accessor', 'accessory', 'accessorytype', 'accessoryview', 'accordion', 'account', 'account-management', 'accountmanager', 'accumulate', 'ace-editor', 'achartengine', 'achievements', 'acl', 'acpi', 'acra', 'acrobat', 'acronym', 'acrylic-material', 'action', 'action-button', 'action-filter', 'action-menu', 'actionbarsherlock', 'actionbarsherlock-map', 'actioncable', 'actionfilterattribute', 'actionlink', 'actionlistener', 'actionmethod', 'actionmode', 'actionresult', 'actions-on-google', 'actionscript', 'actionscript-2', 'actionscript-3', 'actionsheetpicker', 'actionview', 'activation-context-api', 'activation-function', 'activator', 'active-directory', 'active-directory-group', 'active-form', 'active-record-query', 'activeadmin', 'activeandroid', 'activejdbc', 'activemq', 'activemq-cpp', 'activepython', 'activerecord', 'activeresource', 'activex', 'activiti', 'activity-finish', 'activity-indicator', 'activity-lifecycle', 'activity-monitor', 'activity-recognition', 'activity-stack', 'activity-transition', 'activitygroup', 'actor', 'actor-model', 'actuator', 'ad-hoc-distribution', 'ada', 'adafruit', 'adal', 'adal.js', 'adal4j', 'adam', 'adapter', 'adaptive-design', 'adaptive-icon', 'adaptive-layout', 'adaptive-threshold', 'adaptive-ui', 'adb', 'adbannerview', 'adblock', 'adbwireless', 'adcolony', 'add', 'add-in', 'add-on', 'addchild', 'addclass', 'addeventlistener', 'addin-express', 'addition', 'addobserver', 'addr2line', 'address-bar', 'address-operator', 'address-sanitizer', 'address-space', 'addressbook', 'addressbookui', 'addressing', 'addressof', 'addslashes', 'addsubview', 'addtarget', 'addthis', 'adfs', 'adhoc', 'adjacency-list', 'adjacency-matrix', 'adjustable', 'adjustment', 'adjustpan', 'adlds', 'adm-zip', 'admin', 'admin-generator', 'admin-on-rest', 'adminer', 'administration', 'administrator', 'admob', 'admob-rewardedvideoad', 'ado.net', 'ado.net-entity-data-model', 'adobe', 'adobe-analytics', 'adobe-brackets', 'adobe-edge', 'adobe-illustrator', 'adobe-indesign', 'adobe-reader', 'adobe-xd', 'adobecreativesdk', 'adodb-php', 'adonis.js', 'adoptopenjdk', 'adorner', 'adornerlayer', 'ads', 'adsense', 'adsi', 'adt', 'advanced-custom-fields', 'advanced-queuing', 'adventure', 'adview', 'adyen', 'aec', 'aem', 'aero', 'aero-glass', 'aes', 'aes-gcm', 'aes-ni', 'aescryptoserviceprovider', 'aether', 'affiliate', 'affinetransform', 'affinity', 'affix', 'afhttpclient', 'afhttprequestoperation', 'afhttpsessionmanager', 'afnetworking', 'afnetworking-2', 'afnetworking-3', 'aforge', 'afp', 'ag-grid', 'ag-grid-angular', 'ag-grid-react', 'agenda', 'agent', 'agent-based-modeling', 'aggregate', 'aggregate-functions', 'aggregate-initialization', 'aggregateexception', 'aggregateroot', 'aggregation', 'aggregation-framework', 'aggregator', 'agile', 'agrep', 'agvtool', 'aho-corasick', 'aidl', 'aim', 'aio', 'aiohttp', 'air', 'airbnb-js-styleguide', 'airdrop', 'airflow', 'airflow-scheduler', 'airplane-mode', 'airplay', 'airprint', 'airwatch', 'aix', 'ajax', 'ajax-polling', 'ajax-push', 'ajax-upload', 'ajax.beginform', 'ajax.net', 'ajax4jsf', 'ajaxcontroltoolkit', 'ajaxform', 'ajdt', 'ajv', 'akavache', 'akka', 'akka-actor', 'akka-http', 'akka-stream', 'akka-typed', 'akka.net', 'aksequencer', 'alamofire', 'alamofireimage', 'alarm', 'alarmmanager', 'alarms', 'alasset', 'alassetslibrary', 'albumart', 'alembic', 'alert', 'alerts', 'alexa', 'alexa-sdk-nodejs', 'alexa-skill', 'alexa-skills-kit', 'alfresco', 'algebra', 'algebraic-data-types', 'algol', 'algolia', 'algorithm', 'algorithmic-trading', 'alias', 'alignas', 'alignment', 'alipay', 'allegro', 'alljoyn', 'alloc', 'alloca', 'allocation', 'allocator', 'almond', 'aloha-editor', 'alpha', 'alpha-beta-pruning', 'alpha-transparency', 'alphabet', 'alphabetical', 'alphabetized', 'alphablending', 'alphanumeric', 'alpine-linux', 'alpine.js', 'alpn', 'alsa', 'alt', 'alt.net', 'altair', 'altbeacon', 'alter', 'alternate', 'alternate-data-stream', 'altitude', 'always-on-top', 'amazon', 'amazon-appstore', 'amazon-athena', 'amazon-aurora', 'amazon-cloudfront', 'amazon-cloudwatch', 'amazon-cognito', 'amazon-cognito-triggers', 'amazon-dynamodb', 'amazon-ec2', 'amazon-ecs', 'amazon-efs', 'amazon-elastic-beanstalk', 'amazon-elasticache', 'amazon-elasticsearch', 'amazon-elb', 'amazon-emr', 'amazon-fire-tv', 'amazon-glacier', 'amazon-iam', 'amazon-kinesis', 'amazon-kinesis-firehose', 'amazon-kms', 'amazon-linux', 'amazon-marketplace', 'amazon-mws', 'amazon-neptune', 'amazon-product-advertising-api', 'amazon-product-api', 'amazon-qldb', 'amazon-rds', 'amazon-redshift', 'amazon-rekognition', 'amazon-route53', 'amazon-s3', 'amazon-sagemaker', 'amazon-ses', 'amazon-silk', 'amazon-simpledb', 'amazon-sns', 'amazon-sqs', 'amazon-transcribe', 'amazon-vpc', 'amazon-web-services', 'amazonads', 'ambient', 'ambiguity', 'ambiguous', 'ambiguous-call', 'ambiguous-grammar', 'amcharts', 'amd', 'amd-processor', 'amiga', 'ammap', 'amortized-analysis', 'amp-html', 'ampersand', 'amplifyjs', 'amqp', 'amr', 'anaconda', 'anagram', 'analysis', 'analytics', 'analyzer', 'anchor', 'anchor-scroll', 'and-operator', 'andengine', 'andengine-gles-2', 'android-1.5-cupcake', 'android-10.0', 'android-11', 'android-12', 'android-13', 'android-2.0-eclair', 'android-2.1-eclair', 'android-2.2-froyo', 'android-2.3-gingerbread', 'android-3.0-honeycomb', 'android-4.0-ice-cream-sandwich', 'android-4.1-jelly-bean', 'android-4.2-jelly-bean', 'android-4.3-jelly-bean', 'android-4.4-kitkat', 'android-5.0-lollipop', 'android-5.1.1-lollipop', 'android-6.0-marshmallow', 'android-6.0.1-marshmallow', 'android-7.0-nougat', 'android-7.1-nougat', 'android-8.0-oreo', 'android-8.1-oreo', 'android-9.0-pie', 'android-a11y', 'android-account', 'android-actionbar', 'android-actionbar-compat', 'android-actionbaractivity', 'android-actionmode', 'android-activity', 'android-activity-alias', 'android-adapter', 'android-adapterview', 'android-alarms', 'android-alertdialog', 'android-animation', 'android-annotations', 'android-anr-dialog', 'android-api-levels', 'android-app-bundle', 'android-app-indexing', 'android-app-licensing', 'android-app-links', 'android-appbarlayout', 'android-appcompat', 'android-application-class', 'android-appshortcut', 'android-appstandby', 'android-appwidget', 'android-architecture-components', 'android-architecture-lifecycle', 'android-architecture-navigation', 'android-arrayadapter', 'android-assets', 'android-async-http', 'android-asynctask', 'android-attributes', 'android-audiomanager', 'android-audiorecord', 'android-authenticator', 'android-background', 'android-backup-service', 'android-beam', 'android-billing', 'android-binder', 'android-binding-adapter', 'android-biometric', 'android-biometric-prompt', 'android-bitmap', 'android-ble', 'android-bluetooth', 'android-blur-effect', 'android-bottomappbar', 'android-bottomnav', 'android-bottomnavigationview', 'android-bottomsheetdialog', 'android-broadcast', 'android-broadcastreceiver', 'android-browser', 'android-build', 'android-build-flavors', 'android-build-type', 'android-buildconfig', 'android-bundle', 'android-button', 'android-c2dm', 'android-calendar', 'android-camera', 'android-camera-intent', 'android-camera2', 'android-camerax', 'android-canvas', 'android-cardview', 'android-checkbox', 'android-chips', 'android-chrome', 'android-collapsingtoolbarlayout', 'android-compatibility', 'android-compose-appbar', 'android-compose-button', 'android-compose-card', 'android-compose-dialog', 'android-compose-layout', 'android-compose-textfield', 'android-configchanges', 'android-connectivitymanager', 'android-constraintlayout', 'android-contacts', 'android-contentprovider', 'android-contentresolver', 'android-context', 'android-contextmenu', 'android-cookiemanager', 'android-coordinatorlayout', 'android-cursor', 'android-cursoradapter', 'android-cursorloader', 'android-custom-attributes', 'android-custom-view', 'android-customtabs', 'android-dark-theme', 'android-darkmode', 'android-data-usage', 'android-database', 'android-databinding', 'android-date', 'android-datepicker', 'android-dateutils', 'android-debug', 'android-deep-link', 'android-design-library', 'android-designer', 'android-developer-api', 'android-device-manager', 'android-dialer', 'android-dialog', 'android-dialogfragment', 'android-diffutils', 'android-download-manager', 'android-doze', 'android-doze-and-standby', 'android-drawable', 'android-drawer', 'android-edittext', 'android-elevation', 'android-emulator', 'android-espresso', 'android-espresso-recorder', 'android-event', 'android-external-storage', 'android-facebook', 'android-ffmpeg', 'android-file', 'android-fileprovider', 'android-filterable', 'android-fingerprint-api', 'android-firmware', 'android-flavors', 'android-fonts', 'android-for-work', 'android-fragmentactivity', 'android-fragments', 'android-framelayout', 'android-framework', 'android-fullscreen', 'android-gallery', 'android-geofence', 'android-gesture', 'android-glide', 'android-go', 'android-googleapiclient', 'android-gps', 'android-gradle-3.0', 'android-gradle-7.0', 'android-gradle-plugin', 'android-graphics', 'android-gravity', 'android-gridlayout', 'android-gridview', 'android-gui', 'android-handler', 'android-hardware', 'android-holo-everywhere', 'android-homebutton', 'android-ibeacon', 'android-icons', 'android-ide', 'android-identifiers', 'android-image', 'android-imageview', 'android-immersive', 'android-inapp-purchase', 'android-inflate', 'android-input-method', 'android-inputtype', 'android-install-apk', 'android-instant-apps', 'android-instant-run', 'android-instrumentation', 'android-intent', 'android-intent-chooser', 'android-intentservice', 'android-internet', 'android-ion', 'android-jack-and-jill', 'android-jetpack', 'android-jetpack-compose', 'android-jetpack-compose-layout', 'android-jetpack-compose-material3', 'android-jetpack-compose-scaffold', 'android-jetpack-compose-text', 'android-jetpack-datastore', 'android-jetpack-navigation', 'android-jetpack-security', 'android-jobscheduler', 'android-json', 'android-junit', 'android-keypad', 'android-keystore', 'android-ksoap2', 'android-ktx', 'android-launcher', 'android-layout', 'android-layout-editor', 'android-layout-weight', 'android-library', 'android-lifecycle', 'android-linearlayout', 'android-lint', 'android-listfragment', 'android-listview', 'android-livedata', 'android-loader', 'android-loadermanager', 'android-location', 'android-log', 'android-logcat', 'android-looper', 'android-management-api', 'android-manifest', 'android-maps', 'android-maps-utils', 'android-maps-v2', 'android-mapview', 'android-market-filtering', 'android-mediacodec', 'android-mediaplayer', 'android-mediaprojection', 'android-mediarecorder', 'android-mediascanner', 'android-mediasession', 'android-memory', 'android-menu', 'android-min-sdk', 'android-motionlayout', 'android-multidex', 'android-music-player', 'android-mvp', 'android-mvvm', 'android-n-preview', 'android-native-library', 'android-navigation', 'android-navigation-graph', 'android-navigationview', 'android-ndk', 'android-ndk-r4', 'android-ndk-r5', 'android-nested-fragment', 'android-nestedscrollview', 'android-networking', 'android-night-mode', 'android-notification-bar', 'android-notifications', 'android-ondestroy', 'android-open-accessory', 'android-optionsmenu', 'android-orientation', 'android-package-managers', 'android-pageradapter', 'android-paging', 'android-paging-3', 'android-paging-library', 'android-paint', 'android-pay', 'android-pendingintent', 'android-percent-library', 'android-permissions', 'android-phone-call', 'android-popupwindow', 'android-preferences', 'android-print-framework', 'android-productflavors', 'android-profiler', 'android-progressbar', 'android-proguard', 'android-push-notification', 'android-query', 'android-r8', 'android-radiogroup', 'android-reboot', 'android-recents', 'android-recyclerview', 'android-relativelayout', 'android-remoteview', 'android-renderscript', 'android-resolution', 'android-resources', 'android-room', 'android-runtime', 'android-safe-args', 'android-savedstate', 'android-screen', 'android-screen-pinning', 'android-screen-support', 'android-scripting', 'android-scrollbar', 'android-scrollview', 'android-sdcard', 'android-sdk-1.6', 'android-sdk-2.1', 'android-sdk-2.3', 'android-sdk-build-tools', 'android-sdk-manager', 'android-sdk-tools', 'android-search', 'android-searchmanager', 'android-security', 'android-securityexception', 'android-seekbar', 'android-selector', 'android-sensors', 'android-service', 'android-service-binding', 'android-settings', 'android-shape', 'android-shapedrawable', 'android-sharing', 'android-side-navigation', 'android-slider', 'android-sms', 'android-snackbar', 'android-softkeyboard', 'android-soong', 'android-sound', 'android-source', 'android-spinner', 'android-splashscreen', 'android-sqlite', 'android-statusbar', 'android-storage', 'android-strictmode', 'android-studio', 'android-studio-2.0', 'android-studio-2.1', 'android-studio-2.2', 'android-studio-2.3', 'android-studio-3.0', 'android-studio-3.1', 'android-studio-3.2', 'android-studio-3.4', 'android-studio-3.6', 'android-studio-3.6.1', 'android-studio-4.1', 'android-studio-arctic-fox', 'android-studio-bumblebee', 'android-studio-chipmunk', 'android-studio-dolphin', 'android-studio-import', 'android-style-tabhost', 'android-styles', 'android-subscriptionmanager', 'android-support-design', 'android-support-library', 'android-swipe', 'android-switch', 'android-syncadapter', 'android-tabactivity', 'android-tabhost', 'android-tablayout', 'android-tablelayout', 'android-tabs', 'android-tabstrip', 'android-task', 'android-testing', 'android-textinputedittext', 'android-textinputlayout', 'android-textureview', 'android-theme', 'android-things', 'android-thread', 'android-threading', 'android-timepicker', 'android-tiramisu', 'android-titlebar', 'android-toast', 'android-toolbar', 'android-tools-namespace', 'android-touch-event', 'android-traceview', 'android-trafficstats', 'android-transitions', 'android-tv', 'android-typeface', 'android-uiautomator', 'android-usb', 'android-vectordrawable', 'android-version', 'android-vibration', 'android-video-player', 'android-videoview', 'android-view', 'android-viewbinding', 'android-viewgroup', 'android-viewholder', 'android-viewmodel', 'android-viewpager', 'android-viewpager2', 'android-viewtreeobserver', 'android-virtual-device', 'android-volley', 'android-vpn-service', 'android-wake-lock', 'android-wear-2.0', 'android-wear-data-api', 'android-wear-notification', 'android-webservice', 'android-webview', 'android-widget', 'android-wifi', 'android-window', 'android-windowmanager', 'android-wireless', 'android-work-profile', 'android-workmanager', 'android-wrap-content', 'android-x86', 'android-xml', 'android-xmlpullparser', 'android-youtube-api', 'android.mk', 'androiddesignsupport', 'androidplot', 'androidx', 'androidx-security', 'angle', 'angstrom-linux', 'angular', 'angular-animations', 'angular-bootstrap', 'angular-cdk', 'angular-cdk-drag-drop', 'angular-chart', 'angular-chosen', 'angular-cli', 'angular-cli-v6', 'angular-components', 'angular-datatables', 'angular-directive', 'angular-filters', 'angular-flex-layout', 'angular-forms', 'angular-fullstack', 'angular-gettext', 'angular-google-maps', 'angular-http', 'angular-http-interceptors', 'angular-hybrid', 'angular-leaflet-directive', 'angular-library', 'angular-material', 'angular-material-5', 'angular-material-6', 'angular-material-7', 'angular-material-table', 'angular-material-theming', 'angular-material2', 'angular-moment', 'angular-ng-if', 'angular-ngmodel', 'angular-ngmodelchange', 'angular-ngselect', 'angular-pipe', 'angular-promise', 'angular-reactive-forms', 'angular-router', 'angular-routing', 'angular-seed', 'angular-services', 'angular-strap', 'angular-template', 'angular-test', 'angular-translate', 'angular-ui', 'angular-ui-bootstrap', 'angular-ui-grid', 'angular-ui-router', 'angular-ui-select', 'angular-ui-tabset', 'angular-ui-tree', 'angular-ui-typeahead', 'angular-universal', 'angular-upgrade', 'angular-validation', 'angular-xeditable', 'angular11', 'angular12', 'angular2-animation', 'angular2-aot', 'angular2-directives', 'angular2-forms', 'angular2-guards', 'angular2-http', 'angular2-meteor', 'angular2-modules', 'angular2-nativescript', 'angular2-observables', 'angular2-routing', 'angular2-services', 'angular2-template', 'angular2-testing', 'angular2-universal', 'angular2viewencapsulation', 'angular4-httpclient', 'angular5', 'angular6', 'angular7', 'angular8', 'angular9', 'angularfire', 'angularfire2', 'angularjs', 'angularjs-1.5', 'angularjs-bootstrap', 'angularjs-components', 'angularjs-controller', 'angularjs-controlleras', 'angularjs-digest', 'angularjs-directive', 'angularjs-e2e', 'angularjs-factory', 'angularjs-fileupload', 'angularjs-filter', 'angularjs-forms', 'angularjs-http', 'angularjs-material', 'angularjs-model', 'angularjs-ng-click', 'angularjs-ng-disabled', 'angularjs-ng-include', 'angularjs-ng-init', 'angularjs-ng-model', 'angularjs-ng-repeat', 'angularjs-ng-style', 'angularjs-ng-transclude', 'angularjs-orderby', 'angularjs-resource', 'angularjs-rootscope', 'angularjs-routing', 'angularjs-scope', 'angularjs-select2', 'angularjs-service', 'angularjs-validation', 'animate.css', 'animated', 'animated-gif', 'animated-webp', 'animatewithduration', 'animation', 'animator', 'animatorset', 'anko', 'annotate', 'annotation-processing', 'annotation-processor', 'annotations', 'anonymous', 'anonymous-class', 'anonymous-delegates', 'anonymous-function', 'anonymous-inner-class', 'anonymous-methods', 'anonymous-objects', 'anonymous-struct', 'anonymous-types', 'anonymous-users', 'ansi', 'ansi-c', 'ansi-colors', 'ansi-escape', 'ansible', 'ansible-2.x', 'ant', 'ant-design-pro', 'antd', 'anti-cheat', 'anti-patterns', 'anti-piracy', 'antialiasing', 'antiforgerytoken', 'antivirus', 'antivirus-integration', 'antixsslibrary', 'antlr', 'antlr4', 'any', 'anycpu', 'anyobject', 'aop', 'aot', 'apache', 'apache-beam', 'apache-camel', 'apache-cayenne', 'apache-chainsaw', 'apache-commons', 'apache-commons-beanutils', 'apache-commons-cli', 'apache-commons-collection', 'apache-commons-compress', 'apache-commons-config', 'apache-commons-dbcp', 'apache-commons-fileupload', 'apache-commons-httpclient', 'apache-commons-io', 'apache-commons-lang', 'apache-commons-lang3', 'apache-commons-math', 'apache-commons-net', 'apache-curator', 'apache-drill', 'apache-felix', 'apache-flex', 'apache-flink', 'apache-fop', 'apache-httpasyncclient', 'apache-httpclient-4.x', 'apache-httpcomponents', 'apache-kafka', 'apache-kafka-connect', 'apache-karaf', 'apache-modules', 'apache-nifi', 'apache-pig', 'apache-poi', 'apache-spark', 'apache-spark-2.0', 'apache-spark-dataset', 'apache-spark-ml', 'apache-spark-mllib', 'apache-spark-sql', 'apache-storm', 'apache-stringutils', 'apache-superset', 'apache-tika', 'apache-tiles', 'apache-wink', 'apache-wink-spring', 'apache-zeppelin', 'apache-zookeeper', 'apache2', 'apache2-module', 'apache2.4', 'apachebench', 'apacheds', 'apartments', 'apc', 'apdu', 'api', 'api-design', 'api-doc', 'api-gateway', 'api-hook', 'api-key', 'api-platform.com', 'api-versioning', 'apiary.io', 'apiclient', 'apimonitor', 'apk', 'apk-signing', 'apklib', 'apksigner', 'apktool', 'apm', 'apn', 'apng', 'apns-php', 'apns-sharp', 'apollo', 'apollo-client', 'apollo-server', 'apollostack', 'apostrophe', 'app-code', 'app-config', 'app-distribution', 'app-engine-ndb', 'app-globalresources', 'app-id', 'app-launcher', 'app-offline.htm', 'app-secret', 'app-startup', 'app-store', 'app-store-connect', 'app-store-optimization', 'app-thinning', 'app-transfer', 'app-transport-security', 'app.xaml', 'appbar', 'appcelerator', 'appcelerator-titanium', 'appcode', 'appcompatactivity', 'appcompatdialog', 'appdelegate', 'appdomain', 'appdomainsetup', 'appearance', 'append', 'appendchild', 'appender', 'appendto', 'appengine-magic', 'appengine-maven-plugin', 'appfabric', 'appframework', 'appgallery', 'appharbor', 'appicon', 'appium', 'appium-android', 'appium-ios', 'appjs', 'appkit', 'apple-app-site-associate', 'apple-developer', 'apple-documentation', 'apple-id', 'apple-live-photos', 'apple-m1', 'apple-m7', 'apple-mail', 'apple-maps', 'apple-music', 'apple-musickit', 'apple-photos', 'apple-push-notifications', 'apple-sign-in', 'apple-silicon', 'apple-touch-icon', 'apple-tv', 'apple-vision', 'apple-vpp', 'apple-wallet', 'apple-watch', 'apple-watch-complication', 'appledoc', 'appleevents', 'applepay', 'applepayjs', 'applescript', 'applet', 'application-bar', 'application-blocks', 'application-cache', 'application-close', 'application-design', 'application-lifecycle', 'application-loader', 'application-name', 'application-pool', 'application-restart', 'application-server', 'application-settings', 'application-shutdown', 'application-start', 'applicationcontext', 'applicationdomain', 'applicationhost', 'applicationpoolidentity', 'applicationsettingsbase', 'applinks', 'applocker', 'applozic', 'apply', 'apply-visitor', 'appmobi', 'apprequests', 'approval-tests', 'approximation', 'apprtc', 'appsee', 'appsettings', 'appstore-approval', 'appstore-sandbox', 'apptimize', 'appv', 'appveyor', 'appwidgetprovider', 'apr', 'apriori', 'apscheduler', 'apsw', 'apt', 'apt-get', 'aptana', 'aqgridview', 'aquery', 'ar-php', 'arabic', 'arangodb', 'arangodb-php', 'arbitrary-precision', 'arbor.js', 'arc4random', 'arcamera', 'arcgis', 'arcgis-js-api', 'architectural-patterns', 'architecture', 'archive', 'archiving', 'archlinux', 'arcore', 'arcpy', 'arduino', 'arduino-uno', 'area', 'arff', 'argb', 'argc', 'argmax', 'argp', 'argparse', 'args', 'argument-dependent-lookup', 'argument-passing', 'argumentexception', 'argumentnullexception', 'arguments', 'argv', 'aria-live', 'aries', 'arity', 'arkit', 'arm', 'arm64', 'arm7', 'armadillo', 'armcc', 'armv6', 'armv7', 'armv8', 'arp', 'arr', 'array-broadcasting', 'array-column', 'array-difference', 'array-filter', 'array-flip', 'array-indexing', 'array-initialization', 'array-intersect', 'array-map', 'array-merge', 'array-multisort', 'array-of-dict', 'array-push', 'array-replace', 'array-splice', 'array-unique', 'arrayaccess', 'arraybuffer', 'arraycollection', 'arraydeque', 'arraylist', 'arrayobject', 'arrayofarrays', 'arrays', 'arrow-functions', 'arrow-keys', 'arrows', 'arscnview', 'article', 'artifactory', 'artifacts', 'artificial-intelligence', 'artwork', 'as-if', 'as-keyword', 'as-operator', 'asar', 'ascii', 'ascii-art', 'asciidoc', 'asciidoctor', 'asciiencoding', 'ascx', 'ase', 'asf', 'asgi', 'ashmem', 'ashx', 'asiformdatarequest', 'asihttprequest', 'aslr', 'asm.js', 'asmack', 'asmx', 'asn.1', 'asp-classic', 'asp.net', 'asp.net-1.1', 'asp.net-2.0', 'asp.net-3.5', 'asp.net-4.0', 'asp.net-4.5', 'asp.net-ajax', 'asp.net-apicontroller', 'asp.net-authentication', 'asp.net-boilerplate', 'asp.net-caching', 'asp.net-charts', 'asp.net-controls', 'asp.net-core', 'asp.net-core-1.0', 'asp.net-core-1.1', 'asp.net-core-2.0', 'asp.net-core-2.1', 'asp.net-core-2.2', 'asp.net-core-3.0', 'asp.net-core-3.1', 'asp.net-core-5.0', 'asp.net-core-6.0', 'asp.net-core-identity', 'asp.net-core-localization', 'asp.net-core-middleware', 'asp.net-core-mvc', 'asp.net-core-mvc-2.0', 'asp.net-core-mvc-2.1', 'asp.net-core-routing', 'asp.net-core-signalr', 'asp.net-core-tag-helpers', 'asp.net-core-viewcomponent', 'asp.net-core-webapi', 'asp.net-identity', 'asp.net-identity-2', 'asp.net-identity-3', 'asp.net-membership', 'asp.net-mvc', 'asp.net-mvc-2', 'asp.net-mvc-3', 'asp.net-mvc-3-areas', 'asp.net-mvc-4', 'asp.net-mvc-5', 'asp.net-mvc-5.1', 'asp.net-mvc-5.2', 'asp.net-mvc-apiexplorer', 'asp.net-mvc-areas', 'asp.net-mvc-controller', 'asp.net-mvc-layout', 'asp.net-mvc-partialview', 'asp.net-mvc-routing', 'asp.net-mvc-scaffolding', 'asp.net-mvc-validation', 'asp.net-mvc-viewmodel', 'asp.net-optimization', 'asp.net-profiles', 'asp.net-routing', 'asp.net-session', 'asp.net-web-api', 'asp.net-web-api-helppages', 'asp.net-web-api-odata', 'asp.net-web-api-routing', 'asp.net-web-api2', 'asp.net-webpages', 'asp.net5', 'aspbutton', 'aspect', 'aspect-ratio', 'aspectj', 'aspects', 'aspnet-compiler', 'aspnetboilerplate', 'aspose', 'aspose-cells', 'asprepeater', 'asprintf', 'aspxgridview', 'asqueryable', 'assemblies', 'assembly', 'assembly-attributes', 'assembly-binding-redirect', 'assembly-loading', 'assembly-references', 'assembly-resolution', 'assembly-signing', 'assemblybinding', 'assemblyinfo', 'assemblyversionattribute', 'assemblyversions', 'assert', 'assertion', 'assertions', 'assertj', 'asset-catalog', 'asset-management', 'asset-pipeline', 'assetbundle', 'assetic', 'assets', 'assetslibrary', 'assign', 'assignment-operator', 'assimp', 'assimulo', 'assistant', 'associated-domains', 'associations', 'associative', 'associative-array', 'associativity', 'asterisk', 'asterisk-ari', 'astral-plane', 'astrojs', 'astronomy', 'astyle', 'aswebauthenticationsession', 'asx', 'asymptotic-complexity', 'async-await', 'async-ctp', 'async-iterator', 'async-loading', 'async-safe', 'async-workflow', 'async.js', 'asynccallback', 'asyncdisplaykit', 'asynchronous', 'asynchronous-postback', 'asynchronous-wcf-call', 'asynchttpclient', 'asyncpg', 'asyncresttemplate', 'asyncsocket', 'asyncstorage', 'at-command', 'at-job', 'atexit', 'atl', 'atlas', 'atlasboard', 'atlassian-fisheye', 'atmega', 'atmel', 'atmelstudio', 'atmosphere', 'atof', 'atoi', 'atom-editor', 'atom-feed', 'atomic', 'atomikos', 'atompub', 'att', 'attached-properties', 'attachedbehaviors', 'attachment', 'attention-model', 'attr', 'attributeerror', 'attributerouting', 'attributes', 'auc', 'audio', 'audio-converter', 'audio-fingerprinting', 'audio-player', 'audio-processing', 'audio-recording', 'audio-streaming', 'audio-video-sync', 'audiocontext', 'audioeffect', 'audioflinger', 'audioformat', 'audiojs', 'audiokit', 'audioqueue', 'audioqueueservices', 'audiorecord', 'audiosession', 'audiotoolbox', 'audiotrack', 'audiounit', 'audit', 'audit-logging', 'audit-trail', 'augmented-assignment', 'augmented-reality', 'aura.js', 'aurelia', 'aurelia-templating', 'auth-token', 'auth0', 'authentication', 'authenticode', 'authority', 'authorization', 'authorize-attribute', 'authorize.net', 'authsub', 'auto', 'auto-close', 'auto-generate', 'auto-import', 'auto-increment', 'auto-indent', 'auto-lock', 'auto-ptr', 'auto-renewable', 'auto-renewing', 'auto-update', 'auto-value', 'auto-vectorization', 'autobahn', 'autoboxing', 'autocad', 'autocad-plugin', 'autoclass', 'autocloseable', 'autocmd', 'autocommit', 'autocomplete', 'autocompletebox', 'autocompletetextview', 'autoconf', 'autocorrect', 'autodiscovery', 'autodoc', 'autoencoder', 'autofac', 'autofac-configuration', 'autofill', 'autofixture', 'autofocus', 'autoformatting', 'autogrow', 'autolayout', 'autolink', 'autoload', 'autoloader', 'autologin', 'automake', 'automapper', 'automapper-2', 'automapper-5', 'automata', 'automata-theory', 'automated-deploy', 'automated-refactoring', 'automated-tests', 'automatic-differentiation', 'automatic-properties', 'automatic-ref-counting', 'automatic-storage', 'automation', 'automaton', 'automator', 'automl', 'autoplay', 'autopostback', 'autoprefixer', 'autorelease', 'autoresetevent', 'autoresize', 'autoresizingmask', 'autorest', 'autorotate', 'autosave', 'autoscaling', 'autoscroll', 'autosize', 'autostart', 'autosuggest', 'autotools', 'autovivification', 'autowired', 'ava', 'avahi', 'avalondock', 'avalonedit', 'avasset', 'avassetexportsession', 'avassetimagegenerator', 'avassetreader', 'avassetwriter', 'avassetwriterinput', 'avatar', 'avaudioengine', 'avaudiopcmbuffer', 'avaudioplayer', 'avaudioplayernode', 'avaudiorecorder', 'avaudiosession', 'avcam', 'avcapture', 'avcapturedevice', 'avcapturemoviefileoutput', 'avcaptureoutput', 'avcapturesession', 'avcomposition', 'avconv', 'avd-manager', 'average', 'avfoundation', 'avi', 'avian', 'aviary', 'avkit', 'avl-tree', 'avmetadataitem', 'avmutablecomposition', 'avoriaz', 'avplayer', 'avplayeritem', 'avplayerlayer', 'avplayerview', 'avplayerviewcontroller', 'avqueueplayer', 'avr', 'avr-gcc', 'avr-studio4', 'avr32-gcc', 'avrcp', 'avro', 'avro-tools', 'avspeechsynthesizer', 'avspeechutterance', 'avsystemcontroller', 'avurlasset', 'avx', 'avx2', 'avx512', 'awakefromnib', 'away3d', 'awesomium', 'awk', 'aws-amplify', 'aws-api-gateway', 'aws-appsync', 'aws-appsync-ios', 'aws-aurora-serverless', 'aws-cdk', 'aws-certificate-manager', 'aws-cli', 'aws-cloudformation', 'aws-code-deploy', 'aws-codebuild', 'aws-codecommit', 'aws-codepipeline', 'aws-elasticsearch', 'aws-elb', 'aws-fargate', 'aws-glue', 'aws-iot', 'aws-lambda', 'aws-lambda-layers', 'aws-msk', 'aws-opsworks', 'aws-php-sdk', 'aws-sam', 'aws-sam-cli', 'aws-sdk', 'aws-sdk-java-2.0', 'aws-sdk-js', 'aws-sdk-net', 'aws-sdk-nodejs', 'aws-secrets-manager', 'aws-security-group', 'aws-serverless', 'aws-xray', 'awss3transfermanager', 'awstats', 'awt', 'awtrobot', 'axapta', 'axd', 'axes', 'axhost', 'axios', 'axios-retry', 'axis', 'axis-labels', 'axis2', 'axon', 'aztec-barcode', 'azul-zulu', 'azure', 'azure-active-directory', 'azure-ad-b2c', 'azure-ad-graph-api', 'azure-api-apps', 'azure-app-service-plans', 'azure-application-insights', 'azure-appservice', 'azure-artifacts', 'azure-authentication', 'azure-blob-storage', 'azure-cosmosdb', 'azure-cosmosdb-mongoapi', 'azure-data-factory', 'azure-data-lake', 'azure-databricks', 'azure-deployment', 'azure-devops', 'azure-devops-pipelines', 'azure-durable-functions', 'azure-elastic-sharding', 'azure-eventhub', 'azure-functions', 'azure-functions-runtime', 'azure-java-sdk', 'azure-keyvault', 'azure-language-understanding', 'azure-machine-learning-service', 'azure-mobile-services', 'azure-node-sdk', 'azure-notificationhub', 'azure-packaging', 'azure-pipelines', 'azure-powershell', 'azure-queues', 'azure-resource-manager', 'azure-role-environment', 'azure-sdk', 'azure-sdk-.net', 'azure-sdk-for-java', 'azure-sdk-python', 'azure-security', 'azure-service-fabric', 'azure-servicebus-queues', 'azure-sql-data-warehouse', 'azure-sql-database', 'azure-storage', 'azure-storage-files', 'azure-storage-queues', 'azure-table-storage', 'azure-virtual-machine', 'azure-vm', 'azure-web-app-service', 'azure-web-roles', 'azure-webjobs', 'azure-webjobssdk', 'azure-worker-roles', 'azureservicebus', 'azurite', 'b-tree', 'b2', 'b2b', 'babel-jest', 'babel-loader', 'babel-node', 'babel-polyfill', 'babeljs', 'back', 'back-button', 'back-button-control', 'back-stack', 'backbarbuttonitem', 'backbone-boilerplate', 'backbone-events', 'backbone-layout-manager', 'backbone-model', 'backbone-routing', 'backbone-views', 'backbone.js', 'backbone.js-collections', 'backcolor', 'backend', 'background', 'background-agent', 'background-agents', 'background-application', 'background-attachment', 'background-audio', 'background-blend-mode', 'background-color', 'background-drawable', 'background-fetch', 'background-foreground', 'background-image', 'background-mode', 'background-music', 'background-position', 'background-process', 'background-repeat', 'background-service', 'background-size', 'background-subtraction', 'background-task', 'background-thread', 'backgrounding', 'backgroundworker', 'backlog', 'backport', 'backpressure', 'backpropagation', 'backslash', 'backspace', 'backticks', 'backtrace', 'backtracking', 'backup', 'backup-agent', 'backup-strategies', 'backwards-compatibility', 'bacon.js', 'bad-alloc', 'bad-gateway', 'bad-request', 'bada', 'badge', 'badimageformatexception', 'badpaddingexception', 'badparcelableexception', 'bag', 'balde', 'bamboo', 'bandwidth', 'bandwidth-throttling', 'bankers-rounding', 'banking', 'banner', 'banner-ads', 'bapi', 'bar-chart', 'barbajs', 'barcode', 'barcode-scanner', 'bare-metal', 'barrier', 'base-address', 'base-class', 'base-class-library', 'base-conversion', 'base-path', 'base-sdk', 'base-url', 'base36', 'base64', 'baseadapter', 'basecamp', 'basehttprequesthandler', 'basehttpserver', 'baseline', 'bash', 'bash4', 'basic', 'basic-authentication', 'basichttpbinding', 'basicnamevaluepair', 'bass', 'batch-file', 'batch-normalization', 'batch-processing', 'batch-updates', 'batching', 'batik', 'batman.js', 'battery', 'battery-saver', 'batterylevel', 'batterymanager', 'baud-rate', 'bayesian', 'bazel', 'bbcode', 'bbj', 'bc', 'bcc', 'bcel', 'bcmath', 'bcp', 'bcrypt', 'bdd', 'beacon', 'beagleboard', 'beagleboneblack', 'bean-validation', 'beanstalkd', 'bearer-token', 'bearing', 'beat-detection', 'beautifulsoup', 'becomefirstresponder', 'beep', 'before-filter', 'begininvoke', 'beginreceive', 'beginthread', 'behat', 'behavior', 'behaviorsubject', 'belongs-to', 'bem', 'benchmark.js', 'benchmarkdotnet', 'benchmarking', 'bep20', 'berkeley-sockets', 'bert-language-model', 'best-in-place', 'beta', 'beta-testing', 'better-sqlite3', 'between', 'bezier', 'bfd', 'bftask', 'bgga', 'bgi', 'bgr', 'bho', 'biased-locking', 'bibliography', 'bibtex', 'bicubic', 'bidi', 'bidirectional', 'bidirectional-relation', 'big-o', 'bigcommerce', 'bigdata', 'bigdecimal', 'bigint', 'biginteger', 'bignum', 'bigtable', 'biicode', 'bilinear-interpolation', 'billiards', 'billing', 'billingclient', 'bin', 'binance', 'binary', 'binary-compatibility', 'binary-data', 'binary-deserialization', 'binary-heap', 'binary-operators', 'binary-reproducibility', 'binary-search', 'binary-search-tree', 'binary-serialization', 'binary-tree', 'binaryfiles', 'binaryformatter', 'binaryreader', 'binarywriter', 'bind', 'binding', 'bindingflags', 'bindinglist', 'bindingnavigator', 'bindingsource', 'bindparam', 'bindservice', 'bindvalue', 'bing', 'bing-ads-api', 'bing-api', 'bing-maps', 'binning', 'binomial-coefficients', 'binomial-theorem', 'bins', 'bintray', 'binutils', 'bioconductor', 'bioinformatics', 'biometrics', 'bionic', 'biopython', 'bios', 'bipartite', 'birt', 'bisect', 'bisection', 'bison', 'bit', 'bit-fields', 'bit-manipulation', 'bit-masks', 'bit-packing', 'bit-representation', 'bit-shift', 'bit.ly', 'bitarray', 'bitbake', 'bitblit', 'bitblt', 'bitboard', 'bitbucket', 'bitbucket-pipelines', 'bitbucket-server', 'bitcode', 'bitcoin', 'bitconverter', 'bitcount', 'bitflags', 'bitmap', 'bitmap-fonts', 'bitmapfactory', 'bitmapimage', 'bitmapsource', 'bitmask', 'bitnami', 'bitrate', 'bitset', 'bittorrent', 'bitvector', 'bitwise-and', 'bitwise-operators', 'bjqs', 'black-box', 'blackberry', 'blackberry-10', 'blackberry-jde', 'blackberry-qnx', 'blackberry-simulator', 'blackberry-webworks', 'blacklist', 'blank-line', 'blanket.js', 'blas', 'blazor', 'blazor-client-side', 'blazor-server-side', 'blazor-webassembly', 'blazy', 'blend', 'blender', 'blender-2.50', 'blending', 'blessed', 'blink', 'blit', 'bll', 'blob', 'blobs', 'blobstore', 'bloc', 'block', 'block-cipher', 'block-comments', 'block-device', 'blockchain', 'blocking', 'blockingcollection', 'blockingqueue', 'blockquote', 'blockui', 'blogdown', 'blogger', 'blogs', 'bloodhound', 'bloomberg', 'blowfish', 'bltoolkit', 'bluebird', 'bluecove', 'blueimp', 'bluej', 'blueprint', 'blueprint-css', 'bluestacks', 'bluetooth', 'bluetooth-gatt', 'bluetooth-keyboard', 'bluetooth-lowenergy', 'bluetooth-oob', 'bluetooth-peripheral', 'bluez', 'blur', 'blurry', 'bmi', 'bmp', 'bnf', 'body-parser', 'bodymovin', 'boehm-gc', 'bogus', 'boilerplate', 'bokeh', 'bold', 'bolts-framework', 'bonecp', 'bonjour', 'boo', 'bookdown', 'bookmarklet', 'bookmarks', 'bookshelf.js', 'booksleeve', 'boolean', 'boolean-expression', 'boolean-logic', 'boolean-operations', 'boost', 'boost-any', 'boost-asio', 'boost-beast', 'boost-bind', 'boost-compute', 'boost-date-time', 'boost-exception', 'boost-filesystem', 'boost-foreach', 'boost-format', 'boost-function', 'boost-fusion', 'boost-graph', 'boost-implicit-cast', 'boost-interprocess', 'boost-iostreams', 'boost-lambda', 'boost-locale', 'boost-log', 'boost-logging', 'boost-mpl', 'boost-multi-array', 'boost-multi-index', 'boost-mutex', 'boost-optional', 'boost-phoenix', 'boost-polygon', 'boost-preprocessor', 'boost-program-options', 'boost-propertytree', 'boost-ptr-container', 'boost-python', 'boost-range', 'boost-ref', 'boost-regex', 'boost-serialization', 'boost-smart-ptr', 'boost-spirit', 'boost-spirit-lex', 'boost-spirit-qi', 'boost-stacktrace', 'boost-test', 'boost-thread', 'boost-units', 'boost-uuid', 'boost-variant', 'boosting', 'boot', 'boot2docker', 'bootbox', 'bootclasspath', 'bootloader', 'bootply', 'bootstrap-4', 'bootstrap-5', 'bootstrap-affix', 'bootstrap-cards', 'bootstrap-carousel', 'bootstrap-datepicker', 'bootstrap-daterangepicker', 'bootstrap-datetimepicker', 'bootstrap-form-helper', 'bootstrap-grid', 'bootstrap-material-design', 'bootstrap-modal', 'bootstrap-multiselect', 'bootstrap-popover', 'bootstrap-sass', 'bootstrap-select', 'bootstrap-selectpicker', 'bootstrap-switch', 'bootstrap-table', 'bootstrap-tabs', 'bootstrap-tags-input', 'bootstrap-typeahead', 'bootstrap-vue', 'bootstrap-wysihtml5', 'bootstrapper', 'bootstrapping', 'bootstrapvalidator', 'bootstro', 'bootswatch', 'border', 'border-box', 'border-collapse', 'border-image', 'border-layout', 'border-spacing', 'boringssl', 'borland-c++', 'botframework', 'botkit', 'boto', 'boto3', 'botocore', 'botpress', 'bots', 'bottle', 'bottom-sheet', 'bottom-up', 'bottomnavigationview', 'bounce', 'bouncycastle', 'boundary', 'bounded-contexts', 'bounded-wildcard', 'bounding-box', 'bounds', 'bounds-check-elimination', 'bourbon', 'bower', 'bower-install', 'box', 'box-api', 'box-shadow', 'box2d', 'box2d-iphone', 'boxen', 'boxing', 'boxplot', 'boyer-moore', 'bpgsql', 'bpmn', 'bpython', 'brackets', 'brackets-shell', 'braille', 'brain.js', 'brainfuck', 'braintree', 'branch', 'branch-prediction', 'branch.io', 'branding', 'breadcrumbs', 'breadth-first-search', 'break', 'breakout', 'breakpoints', 'breeze', 'bresenham', 'bridge', 'bridging-header', 'brightness', 'brk', 'broadcast', 'broadcast-channel', 'broadcasting', 'broadcastreceiver', 'broken-image', 'broker', 'brokeredmessage', 'brotli', 'browscap', 'browser', 'browser-automation', 'browser-bugs', 'browser-cache', 'browser-detection', 'browser-extension', 'browser-feature-detection', 'browser-history', 'browser-link', 'browser-scrollbars', 'browser-state', 'browser-support', 'browser-sync', 'browser-testing', 'browser-width', 'browserify', 'browserify-rails', 'browserify-shim', 'browsermob', 'browserstack', 'brunch', 'brush', 'brushes', 'brute-force', 'brython', 'bsd', 'bsearch', 'bsod', 'bson', 'bspline', 'bssid', 'bsxfun', 'btle', 'bubble-chart', 'bubble-sort', 'bucket', 'bucket-sort', 'buckminster', 'buddypress', 'buefy', 'buffer', 'buffer-overflow', 'buffer-overrun', 'bufferedimage', 'bufferedinputstream', 'bufferedreader', 'bufferedwriter', 'buffering', 'bufferstrategy', 'bug-reporting', 'bug-tracking', 'bugzilla', 'build', 'build-automation', 'build-error', 'build-process', 'build-script', 'build-server', 'build-settings', 'build-system', 'build-target', 'build-time', 'build-tools', 'build-variant', 'build.gradle', 'build.xml', 'buildbox', 'buildconfig', 'buildconfiguration', 'builder', 'builder-pattern', 'buildfarm', 'building', 'buildout', 'buildozer', 'buildpack', 'buildpath', 'buildprovider', 'buildroot', 'buildx', 'built-in', 'built-in-types', 'bukkit', 'bulbs', 'bulk', 'bulk-delete', 'bulkinsert', 'bulkloader', 'bulkupdate', 'bull', 'bull.js', 'bulletedlist', 'bulletphysics', 'bulma', 'bunch', 'bundle', 'bundle-identifier', 'bundle-layout', 'bundler', 'bundling-and-minification', 'bunyan', 'burndowncharts', 'bus', 'bus-error', 'busboy', 'business-connector', 'business-intelligence', 'business-layer', 'business-logic', 'business-logic-layer', 'business-objects', 'business-process-management', 'business-rules', 'busy-cursor', 'busy-loop', 'busy-waiting', 'busybox', 'butterknife', 'button', 'buttonclick', 'buttongroup', 'bwtoolkit', 'bxslider', 'byref', 'byte', 'byte-order-mark', 'byte-shifting', 'bytea', 'bytebuffer', 'bytecode', 'bytecode-manipulation', 'bytesio', 'bzip2', 'c#-2.0', 'c#-3.0', 'c#-4.0', 'c#-5.0', 'c#-6.0', 'c#-7.0', 'c#-7.1', 'c#-7.2', 'c#-7.3', 'c#-8.0', 'c#-9.0', 'c#-interactive', 'c#-to-f#', 'c#-to-vb.net', 'c++-chrono', 'c++-cli', 'c++-concepts', 'c++-coroutine', 'c++-cx', 'c++-experimental', 'c++-faq', 'c++-modules', 'c++-standard-library', 'c++-templates', 'c++-tr2', 'c++03', 'c++11', 'c++14', 'c++17', 'c++20', 'c++23', 'c++98', 'c++builder', 'c++builder-6', 'c-api', 'c-libraries', 'c-minus-minus', 'c-mode', 'c-preprocessor', 'c-standard-library', 'c-str', 'c-strings', 'c11', 'c17', 'c3', 'c3.js', 'c3p0', 'c4127', 'c89', 'c99', 'ca', 'ca1062', 'ca1704', 'ca2000', 'ca2202', 'caanimation', 'cab', 'cabal', 'cabasicanimation', 'cache-control', 'cache-expiration', 'cache-invalidation', 'cache-manifest', 'cacheapi', 'cachegrind', 'caching', 'cad', 'cadisplaylink', 'caemittercell', 'caemitterlayer', 'caesar-cipher', 'caffe', 'caffeine', 'caffeine-cache', 'cagradientlayer', 'cairo', 'cakebuild', 'cakephp', 'cakephp-1.2', 'cakephp-1.3', 'cakephp-2.0', 'cakephp-2.1', 'cakephp-2.2', 'cakephp-2.3', 'cakephp-2.4', 'cakephp-2.5', 'cakephp-2.6', 'cakephp-2.x', 'cakephp-3.0', 'cakephp-3.2', 'cakephp-3.4', 'cakephp-3.x', 'cakephp-bake', 'cakephp-model', 'cakephp-routing', 'cakeyframeanimation', 'calabash', 'calabash-android', 'calayer', 'calc', 'calculated-columns', 'calculation', 'calculator', 'caldav', 'calendar', 'calendarcontract', 'calendarview', 'calibration', 'calibre', 'caliburn', 'caliburn.micro', 'caliper', 'call', 'call-graph', 'call-recording', 'callable', 'callable-object', 'callback', 'callbackurl', 'callblocking', 'callcc', 'callgrind', 'calligraphy', 'calling-convention', 'callkit', 'calloc', 'callouts', 'callstack', 'camediatiming', 'camel-http', 'camelcasing', 'camera', 'camera-calibration', 'camera-flash', 'camera-overlay', 'camera-roll', 'camera2', 'camunda', 'canactivate', 'cancan', 'cancel-button', 'cancellation', 'cancellation-token', 'cancellationtokensource', 'canjs', 'cannot-find-symbol', 'canny-operator', 'canonical-link', 'canonicalization', 'canopy', 'canvas', 'canvg', 'capability', 'capacitor', 'capacity', 'capacity-planning', 'capicom', 'capistrano3', 'capitalization', 'capnproto', 'cappuccino', 'capslock', 'captcha', 'caption', 'captivenetwork', 'captiveportal', 'capture', 'capture-group', 'capturing-group', 'capybara', 'carbon-copy', 'card.io', 'carddav', 'cardview', 'careplicatorlayer', 'caret', 'cargo', 'carousel', 'carp', 'carriage-return', 'carrier', 'carrierwave', 'carries-dependency', 'cart', 'cartalyst-sentinel', 'cartalyst-sentry', 'cartesian', 'cartesian-product', 'carthage', 'cartodb', 'cartopy', 'cas', 'casablanca', 'cascade', 'cascade-framework', 'cascading', 'cascading-deletes', 'cascadingdropdown', 'case', 'case-conversion', 'case-folding', 'case-insensitive', 'case-sensitive', 'case-statement', 'case-when', 'cashapelayer', 'casing', 'casperjs', 'cassandra', 'cassandra-3.0', 'cassandra-cli', 'cassette', 'cassini', 'casting', 'castle', 'castle-dynamicproxy', 'castle-monorail', 'castle-windsor', 'cat', 'cat.net', 'catalan', 'catalina', 'catalina.out', 'catalog', 'catalyst', 'catboost', 'catch-all', 'catch-block', 'catch-exception', 'catch-unit-test', 'catch2', 'categorical-data', 'categories', 'category-theory', 'catextlayer', 'catiledlayer', 'catmull-rom-curve', 'catplot', 'catransaction', 'catransform3d', 'catransform3drotate', 'catransition', 'cbc-mode', 'cbcentralmanager', 'cbind', 'cbitmap', 'cbperipheral', 'cc', 'ccache', 'ccavenue', 'cclabelttf', 'ccmenuitem', 'ccsprite', 'cd', 'cd-burning', 'cd-drive', 'cdata', 'cdbs', 'cddvd', 'cdecl', 'cdi', 'cdma', 'cdn', 'cdo-climate', 'cedet', 'cedit', 'cefsharp', 'cefsharp.offscreen', 'ceil', 'celery', 'celery-task', 'celerybeat', 'celeryd', 'cell', 'cell-formatting', 'cellid', 'cellinfo', 'cellpadding', 'cells', 'cellspacing', 'cellular-network', 'census', 'center', 'center-align', 'centering', 'centos', 'centos5', 'centos6', 'centos7', 'centos8', 'cer', 'cereal', 'certbot', 'certificate', 'certificate-authority', 'certificate-revocation', 'certificate-store', 'certutil', 'cesiumjs', 'cfbundleidentifier', 'cfdata', 'cffile', 'cfile', 'cfml', 'cfnetwork', 'cfpreferences', 'cfreadstream', 'cfrunloop', 'cfstream', 'cfstring', 'cfurl-encoding', 'cfwheels', 'cg', 'cgaffinetransform', 'cgaffinetransformscale', 'cgal', 'cgbitmapcontext', 'cgbitmapcontextcreate', 'cgcolor', 'cgcolorspace', 'cgcontext', 'cgcontextdrawimage', 'cgcontextdrawpath', 'cgcontextdrawpdfpage', 'cgcontextref', 'cgeventtap', 'cgfloat', 'cgi', 'cgi-bin', 'cgimage', 'cgimageref', 'cgimagesource', 'cglayer', 'cglib', 'cgo', 'cgpath', 'cgpdf', 'cgpdfdocument', 'cgpoint', 'cgrect', 'cgrectmake', 'cgridview', 'cgroups', 'cgsize', 'chai', 'chai-as-promised', 'chai-http', 'chain', 'chained', 'chaining', 'chakra', 'chakra-ui', 'chameleon', 'change-password', 'change-tracking', 'changelist', 'changelog', 'changeset', 'channel', 'channelfactory', 'channels', 'char', 'char-pointer', 'char16-t', 'char32-t', 'character', 'character-arrays', 'character-class', 'character-codes', 'character-encoding', 'character-entities', 'character-limit', 'character-properties', 'charactercount', 'characteristics', 'charat', 'chardet', 'chargify', 'charles-proxy', 'chars', 'charsequence', 'chart.js', 'chart.js2', 'chartboost', 'chartist.js', 'chartjs-2.6.0', 'chartpanel', 'charts', 'chat', 'chatbot', 'chatroom', 'chdatastructures', 'check-digit', 'check-framework', 'checkbox', 'checkboxlist', 'checked', 'checked-exceptions', 'checkedlistbox', 'checkedtextview', 'checker-framework', 'checklist-model', 'checkmark', 'checkmarx', 'checkout', 'checkpoint', 'checkstyle', 'checksum', 'cheerio', 'cheeseshop', 'cheetah', 'chef-infra', 'cherrypy', 'chess', 'chessboard.js', 'chi-squared', 'child-process', 'children', 'childviewcontroller', 'childwindow', 'chilkat', 'chinese-remainder-theorem', 'chipmunk', 'chm', 'chmod', 'choicefield', 'chord-diagram', 'choropleth', 'chown', 'chr', 'chrome-custom-tabs', 'chrome-dev-editor', 'chrome-devtools-protocol', 'chrome-extension-manifest-v2', 'chrome-for-android', 'chrome-gcm', 'chrome-ios', 'chrome-native-messaging', 'chrome-web-driver', 'chrome-web-store', 'chromebook', 'chromecast', 'chromeless', 'chromium', 'chromium-embedded', 'chromium-os', 'chronometer', 'chroot', 'chunked', 'chunked-encoding', 'chunking', 'chunks', 'chutzpah', 'cicd', 'cidr', 'cifilter', 'cifs', 'ciimage', 'cil', 'cilk-plus', 'cimg', 'cin', 'circle-pack', 'circleci', 'circleci-2.0', 'circular-buffer', 'circular-dependency', 'circular-list', 'circular-reference', 'citrix', 'city', 'cjk', 'ckan', 'ckeditor', 'ckeditor4.x', 'ckfinder', 'ckquery', 'ckreference', 'cksubscription', 'cl', 'cl.exe', 'claims', 'claims-authentication', 'claims-based-identity', 'clamp', 'clang', 'clang++', 'clang-ast-matchers', 'clang-cl', 'clang-extensions', 'clang-format', 'clang-static-analyzer', 'clang-tidy', 'class', 'class-attributes', 'class-cluster', 'class-constructors', 'class-design', 'class-diagram', 'class-extensions', 'class-fields', 'class-hierarchy', 'class-library', 'class-method', 'class-structure', 'class-template', 'class-transformer', 'class-validator', 'class-variables', 'classcastexception', 'classformaterror', 'classification', 'classloader', 'classname', 'classnotfoundexception', 'classpath', 'classwizard', 'claudia.js', 'clbeaconregion', 'clean-architecture', 'clean-css', 'clean-urls', 'clear-cache', 'clearcase', 'cleardb', 'clearfix', 'clearinterval', 'cleartimeout', 'cleartype', 'cleditor', 'clgeocoder', 'click', 'click-through', 'clickable', 'clickablespan', 'clickhouse', 'clickonce', 'clicktag', 'client', 'client-certificates', 'client-server', 'client-side', 'client-side-attacks', 'client-side-scripting', 'client-side-templating', 'client-side-validation', 'clientid', 'cling', 'clion', 'clip', 'clip-path', 'clipboard', 'clipboard-interaction', 'clipboard.js', 'clipboarddata', 'clipboardmanager', 'clipperlib', 'clipping', 'cliptobounds', 'clique', 'clique-problem', 'clisp', 'clistctrl', 'cllocation', 'cllocationcoordinate2d', 'cllocationdistance', 'cllocationmanager', 'clob', 'clock', 'clojure', 'clojure-contrib', 'clojurescript', 'clone', 'cloneable', 'cloning', 'close-application', 'closed-captions', 'closedir', 'closedxml', 'closest', 'closest-points', 'closures', 'cloud', 'cloud-foundry', 'cloud-sql-proxy', 'cloud-storage', 'cloud9', 'cloud9-ide', 'cloudamqp', 'cloudant', 'cloudflare', 'cloudflare-workers', 'cloudinary', 'cloudkit', 'cloudmade', 'clover', 'clpfd', 'clr', 'clr-hosting', 'clr-profiling-api', 'clr4.0', 'clrdump', 'clregion', 'cls', 'cls-compliant', 'cluetip', 'cluster-analysis', 'cluster-computing', 'cmake', 'cmake-gui', 'cmake-modules', 'cmakelists-options', 'cmath', 'cmb2', 'cmd', 'cmmotionmanager', 'cmocka', 'cmockery', 'cmsamplebuffer', 'cmsamplebufferref', 'cmsis', 'cmtime', 'cmusphinx', 'cmyk', 'cname', 'cncontact', 'cncontactstore', 'cng', 'cntk', 'co', 'cobertura', 'coc.nvim', 'cocoa', 'cocoa-bindings', 'cocoa-design-patterns', 'cocoa-sheet', 'cocoa-touch', 'cocoaasyncsocket', 'cocoahttpserver', 'cocoalumberjack', 'cocoapods', 'cocoapods-1.0.1', 'cocoon-gem', 'cocos2d-html5', 'cocos2d-iphone', 'cocos2d-swift', 'cocos2d-x', 'cocos2d-x-3.0', 'coda', 'codable', 'codacy', 'codahale-metrics', 'code-access-security', 'code-analysis', 'code-assist', 'code-behind', 'code-by-voice', 'code-cleanup', 'code-completion', 'code-contracts', 'code-conversion', 'code-coverage', 'code-documentation', 'code-duplication', 'code-first', 'code-folding', 'code-formatting', 'code-generation', 'code-golf', 'code-hinting', 'code-injection', 'code-inspection', 'code-metrics', 'code-migration', 'code-organization', 'code-push', 'code-readability', 'code-reuse', 'code-separation', 'code-sharing', 'code-signing', 'code-signing-certificate', 'code-signing-entitlements', 'code-size', 'code-snippets', 'code-splitting', 'code-standards', 'code-structure', 'code-templates', 'code-translation', 'code128', 'codeblocks', 'codec', 'codeception', 'codeceptjs', 'codecvt', 'coded-ui-tests', 'codedom', 'codegen', 'codehighlighter', 'codeigniter', 'codeigniter-2', 'codeigniter-3', 'codeigniter-4', 'codeigniter-hooks', 'codeigniter-restserver', 'codeigniter-routing', 'codelite', 'codemaid', 'codemirror', 'codenameone', 'codepen', 'codeplex', 'codepoint', 'coderush', 'codesandbox', 'codesense', 'codeship', 'codesign', 'codesmith', 'codesourcery', 'codespaces', 'codesynthesis', 'coding-style', 'coercion', 'coff', 'coffeescript', 'cohesion', 'coil', 'coin-change', 'coinbase-api', 'coinpayments-api', 'col', 'cold-start', 'coldfire', 'coldfusion', 'coldfusion-10', 'coldfusion-11', 'coldfusion-8', 'coldfusion-9', 'colgroup', 'collaboration', 'collaborative-filtering', 'collada', 'collapsable', 'collation', 'collect', 'collection-initializer', 'collectionbase', 'collectioneditor', 'collectionfs', 'collections', 'collectionview', 'collectionviewsource', 'collective-intelligence', 'collectors', 'collectstatic', 'collision', 'collision-detection', 'color-blending', 'color-blindness', 'color-channel', 'color-management', 'color-mapping', 'color-palette', 'color-picker', 'color-profile', 'color-scheme', 'color-space', 'color-theory', 'colorbar', 'colorbox', 'colorfilter', 'colorize', 'colormap', 'colormatrix', 'colors', 'colortransform', 'column-count', 'column-sizing', 'column-width', 'columnmappings', 'columnname', 'columnsorting', 'columnspan', 'com', 'com+', 'com-callable-wrapper', 'com-interop', 'com.sun.net.httpserver', 'com4j', 'combinations', 'combinatorics', 'combine', 'combobox', 'combres', 'comctl32', 'comeau', 'comet', 'comma-operator', 'command', 'command-line', 'command-line-arguments', 'command-line-interface', 'command-line-parser', 'command-pattern', 'command-prompt', 'command-timeout', 'commandargument', 'commandbinding', 'comments', 'commit', 'common-controls', 'common-dialog', 'common-lisp', 'common-service-locator', 'commoncrypto', 'commonjs', 'commonschunkplugin', 'commonsware', 'commonsware-cwac', 'communication', 'communication-protocol', 'communicationexception', 'communicator', 'comobject', 'comp-3', 'compact-framework', 'comparable', 'comparator', 'compare', 'compare-and-swap', 'compareto', 'comparevalidator', 'comparison', 'comparison-operators', 'comparisonchain', 'compass', 'compass-geolocation', 'compass-sass', 'compatibility', 'compatibility-mode', 'compilation', 'compile-time', 'compile-time-constant', 'compiled', 'compiled-language', 'compiled-query', 'compiler-as-a-service', 'compiler-bug', 'compiler-constants', 'compiler-construction', 'compiler-directives', 'compiler-errors', 'compiler-explorer', 'compiler-flags', 'compiler-optimization', 'compiler-options', 'compiler-theory', 'compiler-warnings', 'completable-future', 'completion', 'completion-block', 'completionhandler', 'complex-data-types', 'complex-numbers', 'complexity-theory', 'complextype', 'compojure', 'component-scan', 'componentmodel', 'componentone', 'components', 'composable', 'composer-php', 'composer-plugin', 'composite', 'composite-component', 'composite-primary-key', 'composition', 'compound-assignment', 'compound-drawables', 'compound-file', 'compound-literals', 'compoundjs', 'compressed-files', 'compression', 'compss', 'computation', 'computation-theory', 'computational-geometry', 'compute-shader', 'computed-properties', 'computed-style', 'computer-algebra-systems', 'computer-forensics', 'computer-science', 'computer-vision', 'comtypes', 'conan', 'concatenation', 'concept', 'conceptual', 'concourse', 'concrete5', 'concurrency', 'concurrent-collections', 'concurrent-mark-sweep', 'concurrent-processing', 'concurrent-programming', 'concurrent-vector', 'concurrent.futures', 'concurrentdictionary', 'concurrenthashmap', 'concurrentmodification', 'concurrentskiplistmap', 'conda', 'conda-forge', 'condition-variable', 'conditional-breakpoint', 'conditional-comments', 'conditional-compilation', 'conditional-expressions', 'conditional-formatting', 'conditional-operator', 'conditional-statements', 'conferencing', 'confidence-interval', 'config', 'config.json', 'configmap', 'configparser', 'configsection', 'configuration', 'configuration-files', 'configuration-management', 'configuration-profile', 'configurationmanager', 'configure', 'configureawait', 'configureit', 'confirm', 'confirmation', 'conflict', 'confluence', 'confluent-platform', 'confluent-schema-registry', 'confusion-matrix', 'conio', 'connect', 'connect.js', 'connected-components', 'connection', 'connection-close', 'connection-pool', 'connection-pooling', 'connection-reset', 'connection-string', 'connection-timeout', 'connectivity', 'connector', 'connector-net', 'connexion', 'connman', 'console', 'console-application', 'console-output', 'console.log', 'console.out.writeline', 'console.readline', 'console.setout', 'console.writeline', 'const-cast', 'const-char', 'const-correctness', 'const-iterator', 'const-method', 'const-pointer', 'const-reference', 'constant-expression', 'constant-time', 'constantfolding', 'constants', 'consteval', 'constexpr', 'constexpr-function', 'constinit', 'constraint-layout-chains', 'constraint-programming', 'constraint-validation-api', 'constraintlayout-guideline', 'constraints', 'constraintset', 'construction', 'constructor', 'constructor-overloading', 'constructor-reference', 'consumer', 'contact-form', 'contact-form-7', 'contactless-smartcard', 'contactpicker', 'contacts', 'contacts-framework', 'contactscontract', 'contain', 'container-data-type', 'container-view', 'containers', 'containment', 'contains', 'containskey', 'content-assist', 'content-disposition', 'content-length', 'content-management-system', 'content-script', 'content-security-policy', 'content-type', 'contentcontrol', 'contenteditable', 'contentful', 'contention', 'contentmode', 'contentobserver', 'contentoffset', 'contentpresenter', 'contentproperty', 'contentsize', 'contenttype', 'context-free-grammar', 'context-switch', 'contextify', 'contextmanager', 'contextmenu', 'contextmenustrip', 'contextswitchdeadlock', 'contextual-action-bar', 'contiki', 'continuation', 'continuation-local-storage', 'continuation-passing', 'continuations', 'continue', 'continued-fractions', 'continuous', 'continuous-deployment', 'continuous-integration', 'contour', 'contourf', 'contracts', 'contrast', 'contravariance', 'control-array', 'control-center', 'control-characters', 'control-flow', 'control-flow-graph', 'control-structure', 'controlflowguard', 'controlled-component', 'controller', 'controller-action', 'controllers', 'controlpanel', 'controls', 'controltemplate', 'controltemplates', 'controlvalueaccessor', 'conv-neural-network', 'convenience-methods', 'convention', 'conventions', 'convergence', 'conversion-operator', 'converters', 'convertview', 'convex-hull', 'convolution', 'conways-game-of-life', 'cookbook', 'cookie-httponly', 'cookie-session', 'cookiecontainer', 'cookiecutter', 'cookiejar', 'cookieless', 'cookiemanager', 'cookies', 'cookiestore', 'coordinate', 'coordinate-systems', 'coordinate-transformation', 'coordinates', 'coordinator-layout', 'coordinator-pattern', 'coords', 'copperlicht', 'copy', 'copy-and-swap', 'copy-assignment', 'copy-constructor', 'copy-elision', 'copy-initialization', 'copy-local', 'copy-on-write', 'copy-paste', 'copy-protection', 'copy-webpack-plugin', 'copying', 'copyright-display', 'copytree', 'coq', 'corba', 'cordova', 'cordova-2.0.0', 'cordova-3', 'cordova-3.8.0', 'cordova-cli', 'cordova-facebook', 'cordova-nativestorage', 'cordova-plugin-file', 'cordova-plugin-proguard', 'cordova-plugins', 'core', 'core-animation', 'core-audio', 'core-bluetooth', 'core-data', 'core-data-migration', 'core-file', 'core-foundation', 'core-graphics', 'core-image', 'core-location', 'core-media', 'core-motion', 'core-nfc', 'core-plot', 'core-services', 'core-telephony', 'core-text', 'core-ui', 'core-video', 'core-web-vitals', 'core.async', 'coreclr', 'coredump', 'coremidi', 'coreml', 'coreos', 'corert', 'corespotlight', 'cornerradius', 'coronasdk', 'coroutine', 'coroutinescope', 'corpus', 'correctness', 'correlated-subquery', 'correlation', 'corresponding-records', 'corretto', 'corrupt', 'corruption', 'cors', 'cortex-a8', 'cortex-m', 'cortex-m3', 'cosine-similarity', 'cosu', 'couchbase', 'couchdb', 'count', 'countdown', 'countdownlatch', 'countdowntimer', 'countelements', 'counter', 'counting', 'country', 'country-codes', 'countvectorizer', 'coupling', 'coupon', 'cout', 'covariance', 'covariant', 'covariant-return-types', 'cover', 'coverage.py', 'coveralls', 'coverflow', 'coverity', 'cp', 'cp1251', 'cpan', 'cpanel', 'cpd', 'cpp-core-guidelines', 'cppcheck', 'cpplint', 'cppunit', 'cpputest', 'cprofile', 'cpu', 'cpu-architecture', 'cpu-cache', 'cpu-cores', 'cpu-cycles', 'cpu-registers', 'cpu-speed', 'cpu-time', 'cpu-usage', 'cpuid', 'cpython', 'cql', 'cqlengine', 'cqlsh', 'cqrs', 'cracking', 'craco', 'cradle', 'crash', 'crash-dumps', 'crash-log', 'crash-reports', 'crashlytics', 'crashlytics-android', 'crashlytics-beta', 'cray', 'crc', 'crc16', 'crc32', 'create-directory', 'create-function', 'create-react-app', 'create-react-native-app', 'create-table', 'createelement', 'createfile', 'createinstance', 'createjs', 'createparams', 'createprocess', 'createprocessasuser', 'createtextnode', 'createthread', 'createwindow', 'createwindowex', 'creation', 'credential-providers', 'credentials', 'credit-card', 'criteria', 'criteria-api', 'criteriaquery', 'critical-section', 'crm', 'cron', 'cron-task', 'cronexpression', 'crop', 'cross-apply', 'cross-browser', 'cross-compiling', 'cross-correlation', 'cross-domain', 'cross-domain-policy', 'cross-entropy', 'cross-language', 'cross-origin-embedder-policy', 'cross-origin-opener-policy', 'cross-origin-read-blocking', 'cross-origin-resource-policy', 'cross-platform', 'cross-process', 'cross-reference', 'cross-server', 'cross-site', 'cross-validation', 'crossfilter', 'crosstab', 'crosswalk', 'crosswalk-project', 'crosswalk-runtime', 'crt', 'crtdbg.h', 'crtp', 'crud', 'cruisecontrol', 'cruisecontrol.net', 'cryengine', 'crypt', 'cryptanalysis', 'crypto++', 'cryptoapi', 'cryptocurrency', 'cryptographic-hash-function', 'cryptographicexception', 'cryptography', 'cryptojs', 'cryptolicensing', 'cryptostream', 'cryptoswift', 'crystal-reports', 'crystal-reports-2010', 'crystal-reports-xi', 'cs193p', 'cs50', 'csc', 'cscope', 'cscore', 'csip-simple', 'csla', 'csom', 'csproj', 'csquery', 'csr', 'csrf', 'csrf-protection', 'csrf-token', 'css-animations', 'css-calc', 'css-content', 'css-counter', 'css-filters', 'css-float', 'css-frameworks', 'css-gradients', 'css-grid', 'css-import', 'css-in-js', 'css-loader', 'css-mask', 'css-modules', 'css-multicolumn-layout', 'css-paged-media', 'css-parsing', 'css-position', 'css-purge', 'css-reset', 'css-selectors', 'css-shapes', 'css-specificity', 'css-speech', 'css-sprites', 'css-tables', 'css-to-pdf', 'css-transforms', 'css-transitions', 'css-variables', 'css3pie', 'csslint', 'cssom', 'cssresource', 'cstdio', 'cstring', 'csv', 'csv-import', 'csvhelper', 'ctad', 'ctags', 'ctest', 'ctime', 'ctlineref', 'ctor-initializer', 'ctp', 'ctp4', 'ctrl', 'cts', 'ctype', 'ctypes', 'cube', 'cubism.js', 'cublas', 'cucumber', 'cucumber-junit', 'cucumber-jvm', 'cucumberjs', 'cuda', 'cuda-streams', 'cuda.net', 'cudafy.net', 'cudnn', 'cufon', 'culture', 'cultureinfo', 'cumsum', 'cumulative-sum', 'cups', 'cupy', 'curl', 'curl-multi', 'curlpp', 'curly-braces', 'curly-brackets', 'currency', 'currency-formatting', 'currencymanager', 'current-page', 'current-principal', 'currentculture', 'currentlocation', 'currentuiculture', 'currying', 'curses', 'cursor-position', 'curve', 'curve-fitting', 'curves', 'cusolver', 'custom-action', 'custom-activity', 'custom-adapter', 'custom-attributes', 'custom-authentication', 'custom-binding', 'custom-build-step', 'custom-cell', 'custom-code', 'custom-collection', 'custom-component', 'custom-configuration', 'custom-controls', 'custom-cursor', 'custom-data-attribute', 'custom-element', 'custom-error-handling', 'custom-error-pages', 'custom-errors', 'custom-events', 'custom-exceptions', 'custom-fields', 'custom-font', 'custom-formatting', 'custom-function', 'custom-keyboard', 'custom-membershipprovider', 'custom-model-binder', 'custom-object', 'custom-overlay', 'custom-post-type', 'custom-protocol', 'custom-receiver', 'custom-renderer', 'custom-scheme-url', 'custom-scrolling', 'custom-server-controls', 'custom-tag', 'custom-tags', 'custom-taxonomy', 'custom-titlebar', 'custom-transition', 'custom-type', 'custom-url', 'custom-url-protocol', 'custom-validators', 'custom-view', 'custom-widgets', 'customization', 'customizing', 'customserializer', 'customtool', 'customvalidator', 'cut', 'cvpixelbuffer', 'cvs', 'cx-freeze', 'cx-oracle', 'cxf', 'cxfrs', 'cyanogenmod', 'cycle', 'cycle-detection', 'cycle-plugin', 'cyclic', 'cyclic-graph', 'cyclic-reference', 'cyclicbarrier', 'cyclomatic-complexity', 'cydia', 'cydia-substrate', 'cygwin', 'cylindrical', 'cypher', 'cypress', 'cyrillic', 'cython', 'cythonize', 'd', 'd3.js', 'dacpac', 'daemon', 'daemons', 'dagger', 'dagger-2', 'dagger-hilt', 'dajax', 'dajaxice', 'dalvik', 'dancer', 'danfojs', 'dangerous-request', 'dangling-pointer', 'dao', 'dapper', 'dapper-extensions', 'darkmode', 'darknet', 'dart', 'dart-native-extension', 'dart-polymer', 'dart-sass', 'dart2js', 'darwin', 'dash.js', 'dashboard', 'dask', 'dask-delayed', 'dat-protocol', 'dat.gui', 'data-access', 'data-access-app-block', 'data-access-layer', 'data-analysis', 'data-annotations', 'data-binding', 'data-class', 'data-cleaning', 'data-comparison', 'data-conversion', 'data-driven', 'data-driven-tests', 'data-dump', 'data-entry', 'data-execution-prevention', 'data-export', 'data-extraction', 'data-files', 'data-fitting', 'data-formats', 'data-generation', 'data-import', 'data-integrity', 'data-layer', 'data-link-layer', 'data-management', 'data-masking', 'data-migration', 'data-mining', 'data-modeling', 'data-munging', 'data-objects', 'data-oriented-design', 'data-partitioning', 'data-pipeline', 'data-processing', 'data-protection', 'data-race', 'data-recovery', 'data-representation', 'data-science', 'data-security', 'data-serialization', 'data-sharing', 'data-storage', 'data-stream', 'data-structures', 'data-synchronization', 'data-transfer', 'data-transfer-objects', 'data-uri', 'data-url', 'data-virtualization', 'data-visualization', 'data.table', 'database', 'database-backups', 'database-cleaner', 'database-connection', 'database-connectivity', 'database-cursor', 'database-deadlocks', 'database-design', 'database-metadata', 'database-migration', 'database-normalization', 'database-performance', 'database-restore', 'database-scan', 'database-schema', 'database-table', 'database-trigger', 'database-versioning', 'databricks', 'datacolumn', 'datacontext', 'datacontract', 'datacontractjsonserializer', 'datacontractserializer', 'datadetectortypes', 'datadirectory', 'datadog', 'dataflow', 'dataformat', 'dataframe', 'datagram', 'datagrid', 'datagridcell', 'datagridcomboboxcolumn', 'datagridtablestyle', 'datagridtemplatecolumn', 'datagridtextcolumn', 'datagridview', 'datagridviewbuttoncolumn', 'datagridviewcolumn', 'datagridviewcomboboxcell', 'datagridviewcomboboxcolumn', 'datagridviewrow', 'datagridviewtextboxcell', 'datainputstream', 'datalist', 'datalistitem', 'dataloader', 'datamapper', 'datamatrix', 'datamember', 'datamodel', 'datanucleus', 'dataoutputstream', 'dataprovider', 'datareader', 'datarow', 'dataset', 'datasnap', 'datasource', 'datastax', 'datastax-enterprise', 'datastax-php-driver', 'datastax-startup', 'datastore', 'datatable', 'datatables', 'datatables-1.10', 'datatemplate', 'datatrigger', 'dataview', 'date', 'date-arithmetic', 'date-comparison', 'date-conversion', 'date-difference', 'date-fns', 'date-format', 'date-formatting', 'date-math', 'date-parsing', 'date-range', 'date-sorting', 'datediff', 'dateinterval', 'datejs', 'datepart', 'datepicker', 'datepickerdialog', 'daterangepicker', 'datetime', 'datetime-comparison', 'datetime-conversion', 'datetime-format', 'datetime-parsing', 'datetime2', 'datetimeindex', 'datetimeoffset', 'datetimeparseexception', 'datetimepicker', 'daydream', 'dayjs', 'dayofweek', 'days', 'db2', 'db2-400', 'db2-luw', 'db4o', 'dbal', 'dbase', 'dbcommand', 'dbcontext', 'dbdeploy', 'dbf', 'dbforge', 'dbg', 'dbghelp', 'dbn', 'dbnull', 'dbref', 'dbscan', 'dbunit', 'dbus', 'dbx', 'dc.js', 'dcevm', 'dci', 'dcom', 'dcu', 'dday', 'ddd-repositories', 'dde', 'ddfilelogger', 'ddl', 'ddms', 'ddos', 'dead-code', 'dead-letter', 'deadlock', 'deadobjectexception', 'dealloc', 'deb', 'debhelper', 'debian', 'debouncing', 'debug-backtrace', 'debug-build', 'debug-information', 'debug-mode', 'debug-symbols', 'debugbreak', 'debuggerdisplay', 'debuggervisualizer', 'debugging', 'decibel', 'decimal', 'decimal-point', 'decimalformat', 'decision-tree', 'declaration', 'declarative', 'declarative-programming', 'declare', 'declare-styleable', 'declared-property', 'declspec', 'decltype', 'decltype-auto', 'declval', 'decodable', 'decode', 'decoder', 'decodeuricomponent', 'decoding', 'decompiler', 'decompiling', 'deconvolution', 'decorator', 'decouple', 'decoupling', 'decrement', 'deduction-guide', 'deduplication', 'deep-copy', 'deep-learning', 'deep-linking', 'deeplearning4j', 'deeplink', 'deepzoom', 'default', 'default-arguments', 'default-constructor', 'default-copy-constructor', 'default-implementation', 'default-interface-member', 'default-method', 'default-parameters', 'default-value', 'default.png', 'defaultazurecredential', 'defaultdict', 'defaulted-functions', 'defaultlistmodel', 'defaults', 'defects', 'defensive-programming', 'deferred', 'deferred-execution', 'deferred-loading', 'defined', 'defineproperty', 'definitelytyped', 'definition', 'definition-checking', 'definitions', 'deflate', 'defunct', 'degrees', 'deinit', 'del', 'delaunay', 'delay', 'delayed-execution', 'delegatecommand', 'delegates', 'delegation', 'delete-directory', 'delete-file', 'delete-keyword', 'delete-operator', 'delete-row', 'deleted-functions', 'delimiter', 'delphi', 'delphi-10.1-berlin', 'delphi-2009', 'delphi-2010', 'delphi-prism', 'delphi-xe2', 'delphi-xe5', 'delta', 'demo', 'demoscene', 'dendrogram', 'denial-of-service', 'deno', 'denormalization', 'deobfuscation', 'dependencies', 'dependency-injection', 'dependency-inversion', 'dependency-management', 'dependency-properties', 'dependencyobject', 'dependent-name', 'dependent-type', 'deploying', 'deployment', 'deployment-descriptor', 'deployment-target', 'deploymentitem', 'deprecated', 'deprecation-warning', 'depth', 'depth-buffer', 'depth-first-search', 'depth-testing', 'deque', 'der', 'derbyjs', 'dereference', 'derivative', 'derived', 'derived-class', 'derived-types', 'deriving', 'des', 'descendant', 'descriptor', 'deserialization', 'design-by-contract', 'design-decisions', 'design-guidelines', 'design-patterns', 'design-principles', 'design-time', 'design-view', 'designated-initializer', 'designer', 'desiredcapabilities', 'desktop', 'desktop-application', 'desktop-duplication', 'desktop-wallpaper', 'destroy', 'destruction', 'destructor', 'destructuring', 'detach', 'detailsview', 'detailview', 'detect', 'detection', 'detectron', 'determinants', 'deterministic', 'detours', 'detox', 'dev-c++', 'dev-null', 'dev-to-production', 'devart', 'developer-console', 'developer-tools', 'development-environment', 'devexpress', 'devforce', 'device', 'device-admin', 'device-compatibility', 'device-driver', 'device-instance-id', 'device-name', 'device-node', 'device-orientation', 'device-owner', 'device-policy-manager', 'device-width', 'deviceiocontrol', 'devicetoken', 'devise', 'devops', 'devpi', 'devserver', 'devtools', 'dex', 'dexguard', 'dexie', 'dexopt', 'dfa', 'dft', 'dgrams', 'dhtml', 'dhtmlx', 'di-containers', 'diacritics', 'diagnostics', 'diagonal', 'diagram', 'diagramming', 'dialect', 'dialing', 'dialog', 'dialog-preference', 'dialogflow-es', 'dialogflow-es-fulfillment', 'dialogfragment', 'diamond-operator', 'diamond-problem', 'dice', 'dictation', 'dictionary', 'dictionary-comprehension', 'dictionary-missing', 'dicttoxml', 'didreceivememorywarning', 'didselectrowatindexpath', 'didset', 'die', 'diff', 'difference', 'differential-equations', 'diffie-hellman', 'difflib', 'dig', 'digest', 'digest-authentication', 'digit', 'digital-assets-links', 'digital-certificate', 'digital-filter', 'digital-ocean', 'digital-signature', 'digits', 'digraphs', 'dijkstra', 'dimension', 'dimensionality-reduction', 'dimensions', 'dimple.js', 'dingo-api', 'dio', 'dir', 'direct2d', 'direct3d', 'direct3d11', 'direct3d12', 'direct3d9', 'directcompute', 'directed-acyclic-graphs', 'directed-graph', 'directinput', 'direction', 'directions', 'directive', 'directory', 'directory-listing', 'directory-structure', 'directoryinfo', 'directorysearcher', 'directoryservices', 'directshow', 'directshow.net', 'directus', 'directx', 'directx-11', 'directx-12', 'directx-9', 'dirent.h', 'dirichlet', 'disable', 'disable-link', 'disabled-control', 'disabled-input', 'disassembly', 'disconnect', 'disconnected', 'disconnection', 'discord', 'discord.js', 'discord.py', 'discount', 'discovery', 'discrete-mathematics', 'discretization', 'disjoint-sets', 'disk', 'disk-io', 'disk-partitioning', 'diskimage', 'diskspace', 'dismiss', 'disparity-mapping', 'dispatch', 'dispatch-async', 'dispatch-queue', 'dispatcher', 'dispatchertimer', 'dispatchevent', 'display', 'display-cutouts', 'displayobject', 'displaytag', 'disposable', 'dispose', 'disposing', 'disqus', 'distance', 'distinct', 'distinct-values', 'distortion', 'distribute', 'distributed', 'distributed-caching', 'distributed-computing', 'distributed-database', 'distributed-lock', 'distributed-system', 'distributed-transactions', 'distribution', 'distutils', 'dithering', 'divide-and-conquer', 'divide-by-zero', 'dividebyzeroexception', 'divider', 'division', 'django', 'django-1.11', 'django-1.3', 'django-1.4', 'django-1.5', 'django-1.6', 'django-1.7', 'django-1.8', 'django-3.0', 'django-3.1', 'django-admin', 'django-admin-filters', 'django-admin-tools', 'django-aggregation', 'django-allauth', 'django-annotate', 'django-apps', 'django-auth-ldap', 'django-authentication', 'django-autocomplete-light', 'django-cache', 'django-cache-machine', 'django-celery', 'django-channels', 'django-class-based-views', 'django-cms', 'django-context', 'django-contrib', 'django-cors-headers', 'django-countries', 'django-crispy-forms', 'django-csrf', 'django-custom-field', 'django-custom-user', 'django-database', 'django-deployment', 'django-extensions', 'django-file-upload', 'django-filter', 'django-filters', 'django-fixtures', 'django-forms', 'django-formwizard', 'django-generic-relations', 'django-generic-views', 'django-haystack', 'django-i18n', 'django-imagekit', 'django-import-export', 'django-login', 'django-manage.py', 'django-management-command', 'django-managers', 'django-media', 'django-middleware', 'django-migrations', 'django-model-utils', 'django-modeladmin', 'django-models', 'django-modeltranslation', 'django-mongodb-engine', 'django-mptt', 'django-nonrel', 'django-nose', 'django-oauth', 'django-oauth-toolkit', 'django-orm', 'django-pagination', 'django-permissions', 'django-piston', 'django-q', 'django-queryset', 'django-redis', 'django-registration', 'django-related-manager', 'django-rest-auth', 'django-rest-framework', 'django-rest-framework-jwt', 'django-rest-swagger', 'django-reversion', 'django-select-related', 'django-serializer', 'django-sessions', 'django-settings', 'django-signals', 'django-south', 'django-staticfiles', 'django-statistics', 'django-storage', 'django-subquery', 'django-tagging', 'django-taggit', 'django-template-filters', 'django-templates', 'django-testing', 'django-tests', 'django-timezone', 'django-tinymce', 'django-unittest', 'django-uploads', 'django-urls', 'django-users', 'django-validation', 'django-views', 'django-widget', 'django-wsgi', 'djangoappengine', 'djgpp', 'dji-sdk', 'djongo', 'dkim', 'dladdr', 'dlib', 'dll', 'dll-injection', 'dll-reference', 'dllexport', 'dllimport', 'dllregistration', 'dlopen', 'dlsym', 'dma', 'dmg', 'dn', 'dnode', 'dns', 'dns-sd', 'dnsjava', 'dnspython', 'dnx', 'do-loops', 'do-while', 'do178-b', 'doc', 'doc2vec', 'docblocks', 'docfx', 'dock', 'docker', 'docker-build', 'docker-compose', 'docker-container', 'docker-for-windows', 'docker-image', 'docker-machine', 'docker-multi-stage-build', 'docker-registry', 'docker-stack', 'docker-swarm', 'docker-toolbox', 'dockerfile', 'dockerpy', 'docklayoutpanel', 'dockpanel', 'docpad', 'docstring', 'docsy', 'doctest', 'doctrine', 'doctrine-1.2', 'doctrine-extensions', 'doctrine-migrations', 'doctrine-odm', 'doctrine-orm', 'doctrine-query', 'doctype', 'document', 'document-body', 'document-classification', 'document-database', 'document-provider', 'document-ready', 'document-root', 'document.write', 'documentation', 'documentation-generation', 'documentclient', 'documentfile', 'documentfilter', 'documentfragment', 'documents', 'documentviewer', 'docutils', 'docx', 'docx4j', 'docxtemplater', 'dojo', 'dokan', 'dollar-sign', 'dolphin-browser', 'dom', 'dom-events', 'dom-manipulation', 'dom-selection', 'dom-traversal', 'dom4', 'domain-driven-design', 'domain-model', 'domain-name', 'domain-object', 'domaincontroller', 'domainkeys', 'domainservices', 'domcrawler', 'domdocument', 'domexception', 'domparser', 'dompdf', 'domready', 'donations', 'donut-chart', 'dopostback', 'dos', 'dot', 'dot-emacs', 'dot-matrix', 'dot-operator', 'dot-product', 'dot42', 'dotcloud', 'dotconnect', 'dotcover', 'dotdotdot', 'dotenv', 'dotfuscator', 'dotless', 'dotmemory', 'dotnet-cli', 'dotnet-httpclient', 'dotnet-test', 'dotnet-tool', 'dotnethighcharts', 'dotnetnuke', 'dotnetopenauth', 'dotnetzip', 'dotspatial', 'dotted-line', 'dottrace', 'double', 'double-buffering', 'double-checked-locking', 'double-click', 'double-click-advertising', 'double-dispatch', 'double-free', 'double-pointer', 'double-precision', 'double-quotes', 'double-submit-prevention', 'double-submit-problem', 'double-underscore', 'doublebuffered', 'doubly-linked-list', 'dovecot', 'downcast', 'downgrade', 'download', 'download-manager', 'download-speed', 'downloadfileasync', 'downloading-website-files', 'downloadstring', 'downsampling', 'downsize', 'doxygen', 'doxygen-wizard', 'doxywizard', 'doze', 'dozer', 'dpapi', 'dpi', 'dpi-aware', 'dpkg', 'dql', 'draftjs', 'drag', 'drag-and-drop', 'draggable', 'dragula', 'draw', 'draw.io', 'drawable', 'drawellipse', 'drawer', 'drawerlayout', 'drawertoggle', 'drawimage', 'drawing', 'drawing2d', 'drawingcontext', 'drawinrect', 'drawrect', 'drawstring', 'drawtext', 'dreamhost', 'dreamweaver', 'drf-yasg', 'drilldown', 'drive', 'drive-letter', 'driver', 'drivers', 'driving-directions', 'drm', 'droidparts', 'drools', 'drools-guvnor', 'drop', 'drop-down-menu', 'drop-duplicates', 'drop-table', 'dropbox', 'dropbox-api', 'dropbox-php', 'dropdown', 'dropdownbox', 'droppable', 'dropshadow', 'dropwizard', 'dropzone', 'dropzone.js', 'drupal', 'drupal-6', 'drupal-7', 'drupal-8', 'drupal-blocks', 'drupal-fapi', 'drupal-files', 'drupal-modules', 'drupal-theming', 'drupal-views', 'dry', 'dsa', 'dsharp+', 'dsl', 'dsl-tools', 'dsn', 'dspic', 'dst', 'dst-embroidery', 'dsymutil', 'dt', 'dta', 'dtcoretext', 'dtd', 'dtf', 'dtls', 'dto', 'dtrace', 'duck-typing', 'duffs-device', 'dummy-variable', 'dump', 'dumpbin', 'dumpsys', 'dup', 'dup2', 'duplex', 'duplicate-symbol', 'duplicates', 'durandal', 'durandal-2.0', 'duration', 'dvc', 'dvcs', 'dvorak', 'dwarf', 'dwg', 'dwm', 'dword', 'dwr', 'dxf', 'dxgi', 'dyld', 'dylib', 'dynamic', 'dynamic-allocation', 'dynamic-arrays', 'dynamic-cast', 'dynamic-class-creation', 'dynamic-class-loaders', 'dynamic-compilation', 'dynamic-content', 'dynamic-css', 'dynamic-data', 'dynamic-data-list', 'dynamic-delivery', 'dynamic-dispatch', 'dynamic-feature', 'dynamic-forms', 'dynamic-function', 'dynamic-html', 'dynamic-image-generation', 'dynamic-import', 'dynamic-language-runtime', 'dynamic-languages', 'dynamic-library', 'dynamic-linking', 'dynamic-links', 'dynamic-linq', 'dynamic-list', 'dynamic-loading', 'dynamic-memory-allocation', 'dynamic-method', 'dynamic-parallelism', 'dynamic-programming', 'dynamic-proxy', 'dynamic-rdlc-generation', 'dynamic-resizing', 'dynamic-script-loading', 'dynamic-sizing', 'dynamic-splash-screen', 'dynamic-sql', 'dynamic-tables', 'dynamic-type-feature', 'dynamic-typing', 'dynamic-variables', 'dynamically-generated', 'dynamicmethod', 'dynamicobject', 'dynamicresource', 'dynamics-365', 'dynamics-crm', 'dynamics-crm-2011', 'dynamics-crm-2016', 'dynamics-crm-online', 'dynamics-nav', 'dynamictype', 'dynamodb-queries', 'dynatrace', 'dynatree', 'dyno', 'e-commerce', 'e-notices', 'e2e-testing', 'eaaccessory', 'eaccelerator', 'each', 'eager', 'eager-execution', 'eager-loading', 'eaglcontext', 'eaglview', 'ear', 'earley-parser', 'earthdistance', 'easeljs', 'easing', 'easing-functions', 'eastl', 'easy-install', 'easy-peasy', 'easyadmin', 'easymock', 'easynetq', 'easyphp', 'ebcdic', 'ebean', 'ebml', 'ebnf', 'ebook-reader', 'ecdsa', 'echarts', 'echo', 'echo-cancellation', 'ecj', 'ecl', 'eclemma', 'eclipse', 'eclipse-2021-09', 'eclipse-3.4', 'eclipse-3.5', 'eclipse-adt', 'eclipse-cdt', 'eclipse-collections', 'eclipse-emf', 'eclipse-gef', 'eclipse-gmf', 'eclipse-indigo', 'eclipse-jdt', 'eclipse-juno', 'eclipse-kepler', 'eclipse-mars', 'eclipse-memory-analyzer', 'eclipse-pdt', 'eclipse-photon', 'eclipse-plugin', 'eclipse-rcp', 'eclipse-wtp', 'eclipselink', 'ecma', 'ecma262', 'ecmascript-2016', 'ecmascript-2017', 'ecmascript-2018', 'ecmascript-4', 'ecmascript-5', 'ecmascript-6', 'ecmascript-harmony', 'ecmascript-intl', 'ecmascript-next', 'ecmascript-temporal', 'econnrefused', 'econnreset', 'eddystone', 'edge-detection', 'edge-side-includes', 'edge.js', 'edgejs', 'edges', 'edi', 'edid', 'edifact', 'edit', 'edit-and-continue', 'edit-distance', 'edit-in-place', 'editcontrol', 'editing', 'editline', 'editmode', 'editor', 'editorconfig', 'edmx', 'eer-model', 'ef-code-first', 'ef-core-2.0', 'ef-core-2.1', 'ef-core-3.0', 'ef-core-3.1', 'ef-core-5.0', 'ef-database-first', 'ef-fluent-api', 'ef-model-builder', 'ef-model-first', 'ef4-code-only', 'effect', 'effective-c++', 'effective-java', 'effects', 'egg', 'egl', 'ehcache', 'eigen', 'eigen3', 'eigenvalue', 'eigenvector', 'eintr', 'either', 'ejabberd', 'ejb', 'ejb-3.0', 'ejb-3.1', 'ejs', 'ekevent', 'ekeventkit', 'ekeventstore', 'ektron', 'el', 'elapsed', 'elapsedtime', 'elastic-cache', 'elastic-load-balancer', 'elastic-map-reduce', 'elastic-stack', 'elastica', 'elasticlayout', 'elasticsearch', 'elasticsearch-1.6.0', 'elasticsearch-dsl', 'elasticsearch-java-api', 'elasticsearch-percolate', 'elasticsearch-plugin', 'elasticsearch-py', 'elasticsearch-x-pack', 'electron', 'electron-builder', 'electron-forge', 'electron-packager', 'electron-rebuild', 'electronic-signature', 'element', 'elementhost', 'elementor', 'elementstyle', 'elementtree', 'elementwise-operations', 'elevated-privileges', 'elevation', 'elf', 'elisp', 'elixir', 'elixir-mix', 'ellipse', 'ellipsis', 'elliptic-curve', 'elm327', 'elmah', 'eloquent', 'eloquent-relationship', 'em-websocket', 'emacs', 'emacs-semantic', 'email', 'email-address', 'email-attachments', 'email-bounces', 'email-client', 'email-headers', 'email-notifications', 'email-parsing', 'email-processing', 'email-spam', 'email-templates', 'email-validation', 'email-verification', 'embarrassingly-parallel', 'embed', 'embeddable', 'embedded', 'embedded-database', 'embedded-flashplayer', 'embedded-fonts', 'embedded-javascript', 'embedded-jetty', 'embedded-language', 'embedded-linux', 'embedded-resource', 'embedded-script', 'embedded-sql', 'embedded-tomcat-8', 'embedded-v8', 'embedded-video', 'embeddedwebserver', 'embedding', 'ember-addon', 'ember-app-kit', 'ember-cli', 'ember-cli-addons', 'ember-controllers', 'ember-data', 'ember-old-router', 'ember-router', 'ember-testing', 'ember.js', 'emboss', 'emcee', 'emcmake', 'eme', 'emgucv', 'emit', 'emitmapper', 'eml', 'emmake', 'emmet', 'emoji', 'emoticons', 'emotion', 'emplace', 'empty-class', 'emptydatatext', 'emr', 'emscripten', 'emulation', 'emv', 'enable-if', 'enable-shared-from-this', 'encapsulation', 'encode', 'encoder', 'encodeuricomponent', 'encoding', 'encryption', 'encryption-asymmetric', 'encryption-symmetric', 'enctype', 'end-of-line', 'end-to-end', 'end-user', 'endianness', 'endl', 'endlessscroll', 'endpoint', 'endpoints', 'ends-with', 'energy', 'engine.io', 'enlive', 'enoent', 'enomem', 'ensemble-learning', 'enter', 'enterprise', 'enterprise-architect', 'enterprise-distribution', 'enterprise-library', 'enterprise-library-5', 'enthought', 'entities', 'entitlements', 'entity', 'entity-attribute-value', 'entity-framework', 'entity-framework-4', 'entity-framework-4.1', 'entity-framework-4.3', 'entity-framework-4.3.1', 'entity-framework-5', 'entity-framework-6', 'entity-framework-6.1', 'entity-framework-core', 'entity-framework-core-2.1', 'entity-framework-ctp5', 'entity-framework-extended', 'entity-framework-mapping', 'entity-framework-migrations', 'entity-relationship', 'entityconnection', 'entitydatasource', 'entitylisteners', 'entitymanager', 'entropy', 'entrust', 'entry-point', 'entryset', 'enum-class', 'enum-flags', 'enumerable', 'enumerate', 'enumeration', 'enumerators', 'enums', 'enumset', 'enunciate', 'env', 'env-file', 'envdte', 'envelope', 'environment', 'environment-variables', 'environments', 'envjs', 'enyim', 'enyo', 'enzyme', 'eof', 'eofexception', 'eol', 'eonasdan-datetimepicker', 'eot', 'epg', 'epilogue', 'epipe', 'epl', 'epoch', 'epoll', 'epplus', 'epplus-4', 'epsg', 'epsilon', 'epson', 'epub', 'epublib', 'equality', 'equality-operator', 'equalizer', 'equals', 'equals-operator', 'equatable', 'equation', 'equation-solving', 'equations', 'equinox', 'equivalence', 'equivalent', 'erase', 'erasure', 'erb', 'erc20', 'erd', 'ereg', 'erlang', 'erlang-nif', 'erlang-ports', 'erp', 'errata', 'errno', 'error-code', 'error-correction', 'error-detection', 'error-handling', 'error-log', 'error-logging', 'error-messaging', 'error-reporting', 'error-suppression', 'errorcontrolsystem', 'errordocument', 'errorplacement', 'es2022', 'es5-shim', 'es6-class', 'es6-map', 'es6-module-loader', 'es6-modules', 'es6-promise', 'es6-proxy', 'esb', 'esbuild', 'escape-analysis', 'escaping', 'esi', 'eslint', 'eslint-config-airbnb', 'eslintrc', 'esp32', 'esri', 'estes-express-api', 'estimation', 'estimote', 'etag', 'etags', 'ethereum', 'ethernet', 'etherpad', 'ethers.js', 'etl', 'etw', 'etw-eventsource', 'euclidean-distance', 'euler-angles', 'eureka-forms', 'eval', 'evaluate', 'evaluation', 'event-based-programming', 'event-binding', 'event-bubbling', 'event-bus', 'event-capturing', 'event-delegation', 'event-dispatch-thread', 'event-dispatching', 'event-driven', 'event-handling', 'event-listener', 'event-log', 'event-loop', 'event-passthrough', 'event-propagation', 'event-sourcing', 'event-stream', 'event-tracking', 'eventaggregator', 'evented-io', 'eventemitter', 'eventhandler', 'eventkit', 'eventlog-source', 'eventmachine', 'events', 'eventsource', 'eventtrigger', 'eventual-consistency', 'evernote', 'everyauth', 'evopdf', 'ews-managed-api', 'ewsjavaapi', 'exc-bad-access', 'excanvas', 'excel', 'excel-2003', 'excel-2007', 'excel-2010', 'excel-addins', 'excel-formula', 'excel-interop', 'excel-udf', 'excel-web-query', 'exceljs', 'except', 'exception', 'exception-logging', 'exception-safe', 'exception-safety', 'exception-specification', 'exceptionhandler', 'exchange-basicauth', 'exchange-server', 'exchange-server-2010', 'exchange-server-2013', 'exchangewebservices', 'exe', 'exec', 'exec-maven-plugin', 'execcommand', 'execjs', 'executable', 'executable-format', 'executable-jar', 'execute', 'executequery', 'executescalar', 'execution', 'execution-time', 'executioncontext', 'executionengineexception', 'executor', 'executorservice', 'execve', 'execvp', 'exif', 'exiflib', 'exiftool', 'exim', 'exist-db', 'existential-type', 'exists', 'exit', 'exit-code', 'exiv2', 'exoplayer', 'exoplayer-media-item', 'exoplayer2.x', 'exp', 'expand', 'expandable', 'expandablelistadapter', 'expandablelistview', 'expander', 'expandoobject', 'expansion', 'expect', 'expect.js', 'expected-condition', 'expected-exception', 'experimental-design', 'expert-system', 'expires-header', 'explicit', 'explicit-constructor', 'explicit-conversion', 'explicit-implementation', 'explicit-instantiation', 'explicit-interface', 'explicit-specialization', 'explode', 'exploit', 'explorer', 'expo', 'expo-camera', 'expo-go', 'expo-permissions', 'exponent', 'exponential', 'exponentiation', 'export', 'export-to-csv', 'export-to-excel', 'export-to-pdf', 'express', 'express-4', 'express-checkout', 'express-generator', 'express-graphql', 'express-handlebars', 'express-jwt', 'express-router', 'express-session', 'express-validator', 'expression', 'expression-blend', 'expression-evaluation', 'expression-templates', 'expression-trees', 'expressionbuilder', 'expressionengine', 'expressionvisitor', 'expresso', 'exrm', 'exslt', 'ext3', 'ext4', 'extbase', 'extend', 'extended-ascii', 'extended-precision', 'extending', 'extending-classes', 'extends', 'extendscript', 'extension-methods', 'extension-modules', 'extern', 'extern-c', 'external', 'external-accessory', 'external-dependencies', 'external-project', 'externalinterface', 'extint', 'extjs', 'extjs-mvc', 'extjs3', 'extjs4', 'extjs4.1', 'extjs4.2', 'extjs5', 'extjs6', 'extjs6-classic', 'extra', 'extract', 'extras', 'extreme-programming', 'exuberant-ctags', 'eye-tracking', 'ezaudio', 'ezsql', 'f#', 'f#-3.0', 'f#-fake', 'f#-interactive', 'f#-scripting', 'f-string', 'f2py', 'fabric', 'fabric-beta', 'fabric.io', 'fabricjs', 'facade', 'face', 'face-detection', 'face-id', 'face-recognition', 'facebook', 'facebook-access-token', 'facebook-ads-api', 'facebook-android-sdk', 'facebook-app-requests', 'facebook-apps', 'facebook-audience-network', 'facebook-authentication', 'facebook-canvas', 'facebook-chat', 'facebook-chatbot', 'facebook-comments', 'facebook-feed', 'facebook-fql', 'facebook-friends', 'facebook-graph-api', 'facebook-graph-api-v2.0', 'facebook-group', 'facebook-iframe', 'facebook-insights', 'facebook-invite', 'facebook-invite-friends', 'facebook-ios-sdk', 'facebook-ios-sdk-4.0', 'facebook-java-api', 'facebook-javascript-sdk', 'facebook-like', 'facebook-likebox', 'facebook-login', 'facebook-marketing-api', 'facebook-messenger', 'facebook-messenger-bot', 'facebook-oauth', 'facebook-opengraph', 'facebook-page', 'facebook-permissions', 'facebook-php-sdk', 'facebook-pop', 'facebook-sdk-3.0', 'facebook-sdk-4.0', 'facebook-sdk-4.x', 'facebook-social-plugins', 'facebook-unity-sdk', 'facebook-wall', 'facebook-widgets', 'facelets', 'facet', 'facet-grid', 'faceted-search', 'facetime', 'factor-analysis', 'factor-bundle', 'factorial', 'factoring', 'factorization', 'factors', 'factory', 'factory-boy', 'factory-method', 'factory-pattern', 'fade', 'fadein', 'fadeout', 'fading', 'failed-installation', 'failed-to-load-viewstate', 'failover', 'fakeiteasy', 'faker', 'fakeweb', 'falcon', 'fall-through', 'fallback', 'false-positive', 'false-sharing', 'family-tree', 'famo.us', 'fancybox', 'fancybox-2', 'fancybox-3', 'fancytree', 'farseer', 'farsi', 'fasm', 'fast-ai', 'fast-enumeration', 'fast-math', 'fasta', 'fastapi', 'fastavro', 'fastboot', 'fastcall', 'fastcgi', 'fastclick', 'fastclick.js', 'fasterxml', 'fastify', 'fastlane', 'fastlane-deliver', 'fastlane-match', 'fastparquet', 'fasttext', 'fat-binaries', 'fat-free-framework', 'fatal-error', 'fatfs', 'fatjar', 'fault', 'fault-tolerance', 'faulted', 'faust', 'favicon', 'favorites', 'fax', 'faye', 'fb.ui', 'fbconnect', 'fbml', 'fbnativedialogs', 'fbo', 'fbsdk', 'fbsdksharekit', 'fbwebdialogs', 'fbx', 'fckeditor', 'fcl', 'fclose', 'fcntl', 'fdf', 'fdt', 'feather', 'featherlight.js', 'feathers-hook', 'feathers-sequelize', 'feathersjs', 'feature-detection', 'feature-extraction', 'feature-selection', 'featuretoggle', 'fedex', 'fedora', 'fedora16', 'fee', 'feed', 'feedback', 'feign', 'feincms', 'fen', 'fennec', 'feof', 'ferror', 'fetch', 'fetch-api', 'fetchall', 'fetchcontent', 'fetched-property', 'ffi', 'fflush', 'ffmpeg', 'ffprobe', 'ffserver', 'fft', 'fftw', 'fgetc', 'fgetcsv', 'fgetpos', 'fgets', 'fiber', 'fibers', 'fibonacci', 'fiddle', 'fiddler', 'fido', 'fido-u2f', 'field', 'fieldofview', 'fieldset', 'fifo', 'figure', 'file', 'file-access', 'file-association', 'file-attributes', 'file-browser', 'file-conversion', 'file-copying', 'file-descriptor', 'file-encodings', 'file-exists', 'file-extension', 'file-forks', 'file-format', 'file-get-contents', 'file-handling', 'file-io', 'file-location', 'file-locking', 'file-management', 'file-manager', 'file-mapping', 'file-monitoring', 'file-move', 'file-not-found', 'file-permissions', 'file-pointer', 'file-processing', 'file-properties', 'file-put-contents', 'file-read', 'file-rename', 'file-search', 'file-security', 'file-sharing', 'file-storage', 'file-structure', 'file-transfer', 'file-type', 'file-upload', 'file-uri', 'file-writing', 'fileapi', 'fileappender', 'filechannel', 'filechooser', 'filedialog', 'filefield', 'filehandle', 'filehandler', 'fileinfo', 'fileinputstream', 'filelist', 'filelock', 'filemtime', 'filenames', 'filenotfoundexception', 'fileobserver', 'fileopenpicker', 'fileoutputstream', 'filepath', 'filepicker', 'filepicker.io', 'filereader', 'filereference', 'files-app', 'filesaver.js', 'fileshare', 'filesize', 'filestream', 'filesystem-access', 'filesystems', 'filesystemwatcher', 'filetime', 'filewriter', 'fill', 'fill-parent', 'filter', 'filter-input', 'filter-iterator', 'filter-var', 'filtering', 'final', 'finalization', 'finalize', 'finalizer', 'finally', 'finance', 'financial', 'find', 'findall', 'findbugs', 'findcontrol', 'findelement', 'finder', 'findersync', 'findviewbyid', 'fine-uploader', 'fingerprint', 'fingerprinting', 'finite-automata', 'finite-element-analysis', 'finite-field', 'fips', 'fipy', 'fire-and-forget', 'firebase', 'firebase-admin', 'firebase-analytics', 'firebase-app-check', 'firebase-app-distribution', 'firebase-app-indexing', 'firebase-authentication', 'firebase-cli', 'firebase-cloud-messaging', 'firebase-console', 'firebase-crash-reporting', 'firebase-dynamic-links', 'firebase-hosting', 'firebase-in-app-messaging', 'firebase-job-dispatcher', 'firebase-mlkit', 'firebase-notifications', 'firebase-performance', 'firebase-realtime-database', 'firebase-remote-config', 'firebase-security', 'firebase-storage', 'firebase-test-lab', 'firebase-tools', 'firebaseui', 'firebird', 'firebird-.net-provider', 'firebird-3.0', 'firebreath', 'firebug', 'firebug-lite', 'firefox', 'firefox-3', 'firefox-addon', 'firefox-addon-sdk', 'firefox-addon-webextensions', 'firefox-developer-edition', 'firefox-developer-tools', 'firefox-marionette', 'firefox-nightly', 'firefox-os', 'firefox-reader-view', 'firefox3.5', 'firefox3.6', 'firefox4', 'firefox6', 'firemonkey', 'firephp', 'firewall', 'firewall-access', 'firmware', 'first-class', 'first-responder', 'fish', 'fisher-yates-shuffle', 'fisheye', 'fitbit', 'fitbounds', 'fitnesse', 'fix-protocol', 'fixed', 'fixed-data-table', 'fixed-header-tables', 'fixed-point', 'fixed-width', 'fixeddocument', 'fixture', 'fixtures', 'flags', 'flake8', 'flame', 'flann', 'flartoolkit', 'flash', 'flash-builder', 'flash-cs5', 'flash-memory', 'flash-message', 'flashlight', 'flask', 'flask-admin', 'flask-ask', 'flask-bootstrap', 'flask-cache', 'flask-cli', 'flask-graphql', 'flask-httpauth', 'flask-jwt-extended', 'flask-login', 'flask-mail', 'flask-marshmallow', 'flask-migrate', 'flask-principal', 'flask-restful', 'flask-restplus', 'flask-security', 'flask-socketio', 'flask-sqlalchemy', 'flask-uploads', 'flask-user', 'flask-wtforms', 'flat', 'flat-file', 'flatbuffers', 'flatiron.js', 'flatmap', 'flatpickr', 'flatten', 'flex-grow', 'flex-lexer', 'flex-spark', 'flex4', 'flexbox', 'flexboxgrid', 'flexdashboard', 'flexible-array-member', 'flexjson', 'flexmojos', 'flexslider', 'flexy-pool', 'flicker', 'flickr', 'flip', 'flipper', 'flipview', 'floating', 'floating-accuracy', 'floating-action-button', 'floating-point', 'floating-point-comparison', 'floating-point-conversion', 'floating-point-exceptions', 'floating-point-precision', 'flock', 'flood-fill', 'floor', 'floor-division', 'floppy', 'flot', 'flow-based-programming', 'flow-router', 'flowchart', 'flowdocument', 'flowlayout', 'flowlayoutpanel', 'flowpane', 'flowplayer', 'flowtype', 'floyd-warshall', 'fltk', 'fluent', 'fluent-assertions', 'fluent-design', 'fluent-ffmpeg', 'fluent-interface', 'fluent-migrator', 'fluent-nhibernate', 'fluent-nhibernate-mapping', 'fluent-ui', 'fluentftp', 'fluentvalidation', 'fluid', 'fluid-images', 'fluid-layout', 'flurl', 'flurry', 'flurry-analytics', 'flush', 'flutter', 'flutter-animation', 'flutter-build', 'flutter-change-notifier', 'flutter-cupertino', 'flutter-debug', 'flutter-dependencies', 'flutter-intl', 'flutter-ios', 'flutter-layout', 'flutter-navigation', 'flutter-packages', 'flutter-plugin', 'flutter-release', 'flutter-sliver', 'flutter-test', 'flutter-web', 'flutter2.0', 'flux', 'flv', 'flycheck', 'flying-saucer', 'flymake', 'flysystem', 'flyway', 'fma', 'fmdb', 'fmp4', 'fmt', 'fnmatch', 'fnv', 'focus', 'focusout', 'fody', 'fody-propertychanged', 'fogbugz', 'fold', 'fold-expression', 'folderbrowserdialog', 'folding', 'folium', 'folly', 'font-awesome', 'font-awesome-4', 'font-awesome-5', 'font-face', 'font-family', 'font-size', 'font-smoothing', 'fontello', 'fontmetrics', 'fonts', 'footable', 'footer', 'footprint', 'fopen', 'for-in-loop', 'for-loop', 'for-of-loop', 'for-range', 'force-download', 'force-layout', 'forceclose', 'foreach', 'forecasting', 'foreground', 'foreground-service', 'foregroundnotification', 'foreign-key-relationship', 'foreign-keys', 'foreman', 'forever', 'forge', 'forgot-password', 'fork', 'fork-join', 'forkjoinpool', 'form-api', 'form-authentication', 'form-data', 'form-layout', 'form-parameter', 'form-post', 'form-submit', 'format', 'format-conversion', 'format-specifiers', 'format-string', 'formatdatetime', 'formatmessage', 'formatprovider', 'formats', 'formatted', 'formatted-input', 'formatted-text', 'formatter', 'formatting', 'formbuilder', 'formclosing', 'formcollection', 'formfield', 'formhelper', 'formidable', 'formik', 'forms', 'forms-authentication', 'formsauthentication', 'formset', 'formsets', 'formtastic', 'formula', 'formulas', 'formvalidation.io', 'formview', 'forth', 'fortify', 'fortify-source', 'fortran', 'fortran-iso-c-binding', 'fortran2003', 'forums', 'forward', 'forward-declaration', 'forward-list', 'forwarding', 'forwarding-reference', 'fosrestbundle', 'fosuserbundle', 'fotorama', 'fouc', 'foundation', 'foundationkit', 'fourcc', 'foursquare', 'fpdf', 'fpdi', 'fpga', 'fpic', 'fpm', 'fpu', 'fputcsv', 'fqdn', 'fql.multiquery', 'fractals', 'fractions', 'fragment', 'fragment-backstack', 'fragment-identifier', 'fragment-lifecycle', 'fragment-shader', 'fragment-transitions', 'fragmentation', 'fragmentmanager', 'fragmentpageradapter', 'fragmentstatepageradapter', 'fragmenttransaction', 'frame', 'frame-rate', 'framebuffer', 'framebusting', 'frames', 'frameset', 'framework-design', 'frameworkelementfactory', 'frameworks', 'frank', 'fread', 'free', 'freebase', 'freebsd', 'freeglut', 'freeimage', 'freemarker', 'freepascal', 'freertos', 'freestanding', 'freeswitch', 'freetds', 'freetype', 'freetype2', 'freezable', 'freeze', 'french', 'freopen', 'frequency', 'frequency-analysis', 'fresco', 'friend', 'friend-class', 'friend-function', 'friendly-url', 'frisby.js', 'fromcharcode', 'front-controller', 'frontend', 'froogaloop', 'frozenset', 'frp', 'fs', 'fsc', 'fscalendar', 'fseek', 'fsevents', 'fsm', 'fsockopen', 'fstream', 'fsync', 'ftdi', 'ftell', 'ftgl', 'ftok', 'ftp', 'ftp-client', 'ftplib', 'ftps', 'ftpwebrequest', 'ftrace', 'fts3', 'fts4', 'fubumvc', 'fuelphp', 'fuelux', 'full-outer-join', 'full-text-indexing', 'full-text-search', 'fullcalendar', 'fullcalendar-1', 'fullcalendar-3', 'fullcalendar-4', 'fullpage.js', 'fullscreen', 'fully-qualified-naming', 'func', 'function', 'function-approximation', 'function-attributes', 'function-binding', 'function-call', 'function-call-operator', 'function-calls', 'function-composition', 'function-constructor', 'function-declaration', 'function-definition', 'function-expression', 'function-interposition', 'function-object', 'function-parameter', 'function-pointers', 'function-prototypes', 'function-signature', 'function-templates', 'functional-index', 'functional-interface', 'functional-java', 'functional-programming', 'functional-testing', 'functools', 'functor', 'funcy', 'fundamental-matrix', 'fundamentals-ts', 'funq', 'fuse', 'fusedlocationproviderapi', 'fusedlocationproviderclient', 'fuseki', 'fusion', 'futex', 'future', 'future-proof', 'futuretask', 'fuzzing', 'fuzzy-comparison', 'fuzzy-search', 'fuzzywuzzy', 'fwrite', 'fxcop', 'fxg', 'fxml', 'g++', 'g++-4.7', 'g++4.8', 'g++5.1', 'g-code', 'g1gc', 'gac', 'gacutil', 'gae-eclipse-plugin', 'gaia', 'galaxy', 'galaxy-nexus', 'galaxy-tab', 'galleriffic', 'gallery', 'gallio', 'galois-field', 'gambit', 'game-center', 'game-center-leaderboard', 'game-engine', 'game-loop', 'game-maker', 'game-physics', 'gameboy', 'gamecontroller', 'gamekit', 'gamepad', 'gamepad-api', 'gamma', 'ganache', 'gang-of-four', 'ganymede', 'gaps-in-visuals', 'garbage', 'garbage-collection', 'gate', 'gateway', 'gatsby', 'gatsby-plugin', 'gatt', 'gaussian', 'gaussianblur', 'gboard', 'gc-roots', 'gcal', 'gcc', 'gcc-extensions', 'gcc-warning', 'gcc3', 'gcc4', 'gcc4.4', 'gcc4.6', 'gcc4.7', 'gcc4.8', 'gcc4.9', 'gcc5', 'gcc6', 'gcc7', 'gcc8', 'gcc9', 'gccgo', 'gcdasyncsocket', 'gcdasyncudpsocket', 'gcdwebserver', 'gcj', 'gcloud', 'gcloud-node', 'gcloud-python', 'gcm-network-manager', 'gcmtaskservice', 'gconf', 'gcov', 'gd', 'gdal', 'gdata', 'gdata-api', 'gdb', 'gdbserver', 'gdi', 'gdi+', 'gdk', 'gdkpixbuf', 'gdlib', 'gdprconsentform', 'geany', 'gearman', 'gecko', 'geckodriver', 'geckofx', 'geddy', 'gedit', 'gekko', 'gem-fury', 'gemfile', 'gen-class', 'genealogy', 'general-protection-fault', 'generative-adversarial-network', 'generative-programming', 'generator', 'generator-expression', 'generic-collections', 'generic-constraints', 'generic-foreign-key', 'generic-interface', 'generic-lambda', 'generic-list', 'generic-method', 'generic-programming', 'generic-type-argument', 'generic-variance', 'genericdao', 'generics', 'genetic', 'genetic-algorithm', 'genfromtxt', 'gensim', 'genstrings', 'gentoo', 'genymotion', 'geo', 'geo-schema', 'geoapi', 'geocoding', 'geodjango', 'geofencing', 'geofire', 'geography', 'geohashing', 'geoip', 'geojson', 'geolocation', 'geomap', 'geometric-arc', 'geometry', 'geometry-surface', 'geopandas', 'geopoints', 'georgian', 'geos', 'geospatial', 'geotagging', 'geotiff', 'geotools', 'gephi', 'gesture', 'gesture-recognition', 'gesturedetector', 'gestures', 'get', 'get-method', 'get-request', 'getaddrinfo', 'getaddrinfo-a', 'getasync', 'getattr', 'getattribute', 'getboundingclientrect', 'getc', 'getcaretpos', 'getch', 'getchar', 'getcomputedstyle', 'getcwd', 'getdibits', 'getelementbyid', 'getelementsbyclassname', 'getelementsbytagname', 'getenv', 'getfeatureinfo', 'getfiles', 'gethashcode', 'gethostbyaddr', 'gethostbyname', 'getimagedata', 'getjson', 'getline', 'getmethod', 'getopt', 'getopt-long', 'getprocaddress', 'getproperty', 'getresource', 'getresponsestream', 'getrusage', 'gets', 'getscript', 'getselection', 'getsockopt', 'getstate', 'getstring', 'getter', 'getter-setter', 'gettext', 'gettime', 'gettimeofday', 'gettype', 'geturl', 'getusermedia', 'getview', 'gevent', 'gevent-socketio', 'gfortran', 'ggplot2', 'gh-unit', 'ghc', 'ghcjs', 'gherkin', 'ghost', 'ghost-blog', 'ghostdoc', 'ghostdriver', 'ghostscript', 'ghostscript.net', 'gif', 'gii', 'gil', 'gimp', 'gimpfu', 'gimple', 'gipc', 'gis', 'gist', 'git', 'git-bash', 'git-bisect', 'git-branch', 'git-clone', 'git-commit', 'git-diff', 'git-extensions', 'git-pull', 'git-submodules', 'githooks', 'github', 'github-actions', 'github-api', 'github-for-mac', 'github-for-windows', 'github-pages', 'gitignore', 'gitlab', 'gitlab-ci', 'gitlab-ci-runner', 'gitlab-omnibus', 'gitpython', 'gitversion', 'gkmatchmaker', 'gkpeerpickercontroller', 'gksession', 'gkturnbasedmatch', 'glad', 'glass-mapper', 'glassfish', 'glassfish-3', 'glassfish-4', 'glassfish-4.1', 'glassfish-embedded', 'glblendfunc', 'glew', 'glfw', 'glib', 'glibc', 'glkit', 'glm-math', 'glob', 'global', 'global-asax', 'global-assembly-cache', 'global-namespace', 'global-object', 'global-scope', 'global-variables', 'globalization', 'glog', 'glow', 'glpk', 'glr', 'glreadpixels', 'glsl', 'glslify', 'glsurfaceview', 'glu', 'glulookat', 'gluon-desktop', 'glut', 'glx', 'glyph', 'glyph-substitution', 'glyphicons', 'gm', 'gmail', 'gmail-api', 'gmail-imap', 'gmaps4rails', 'gmaven-plugin', 'gmp', 'gmsmapview', 'gmt', 'gnat', 'gnat-gps', 'gnome', 'gnome-3', 'gnome-terminal', 'gnu', 'gnu-arm', 'gnu-assembler', 'gnu-make', 'gnu-screen', 'gnu-toolchain', 'gnu99', 'gnulib', 'gnupg', 'gnuplot', 'gnuradio', 'gnustep', 'go', 'go-gin', 'go-html-template', 'go-micro', 'go-templates', 'go-to-definition', 'goaop', 'gobject', 'goertzel-algorithm', 'gogo-shell', 'gooddata', 'google-account', 'google-ad-manager', 'google-admin-sdk', 'google-ads-api', 'google-advertising-id', 'google-ajax-api', 'google-ajax-libraries', 'google-analytics', 'google-analytics-api', 'google-analytics-firebase', 'google-analytics-sdk', 'google-api', 'google-api-client', 'google-api-console', 'google-api-dotnet-client', 'google-api-java-client', 'google-api-javascript-client', 'google-api-js-client', 'google-api-nodejs-client', 'google-api-objc-client', 'google-api-php-client', 'google-api-python-client', 'google-apis-explorer', 'google-app-engine', 'google-app-engine-python', 'google-app-indexing', 'google-app-invites', 'google-apps', 'google-apps-script', 'google-auth-library', 'google-auth-library-nodejs', 'google-authentication', 'google-authenticator', 'google-awareness', 'google-beacon-platform', 'google-bigquery', 'google-books', 'google-breakpad', 'google-calendar-api', 'google-cardboard', 'google-cast', 'google-cast-sdk', 'google-cdn', 'google-checkout', 'google-chrome', 'google-chrome-app', 'google-chrome-devtools', 'google-chrome-extension', 'google-chrome-flags', 'google-chrome-frame', 'google-chrome-headless', 'google-chrome-os', 'google-chrome-storage', 'google-closure', 'google-closure-compiler', 'google-closure-library', 'google-cloud-bigtable', 'google-cloud-build', 'google-cloud-console', 'google-cloud-dataflow', 'google-cloud-dataproc', 'google-cloud-datastore', 'google-cloud-endpoints', 'google-cloud-endpoints-v2', 'google-cloud-firestore', 'google-cloud-functions', 'google-cloud-logging', 'google-cloud-messaging', 'google-cloud-ml', 'google-cloud-ml-engine', 'google-cloud-nl', 'google-cloud-platform', 'google-cloud-pubsub', 'google-cloud-python', 'google-cloud-run', 'google-cloud-scheduler', 'google-cloud-spanner', 'google-cloud-speech', 'google-cloud-sql', 'google-cloud-storage', 'google-cloud-vision', 'google-code', 'google-code-prettify', 'google-colaboratory', 'google-compute-engine', 'google-contacts-api', 'google-container-registry', 'google-crawlers', 'google-custom-search', 'google-data-api', 'google-datalayer', 'google-datatable', 'google-developer-tools', 'google-developers-console', 'google-dfp', 'google-directions-api', 'google-directory-api', 'google-distancematrix-api', 'google-docs', 'google-docs-api', 'google-drive-android-api', 'google-drive-api', 'google-drive-realtime-api', 'google-drive-shared-drive', 'google-earth-plugin', 'google-eclipse-plugin', 'google-fabric', 'google-finance', 'google-finance-api', 'google-fit', 'google-fit-sdk', 'google-font-api', 'google-fonts', 'google-forms', 'google-fusion-tables', 'google-gadget', 'google-gauges', 'google-gdk', 'google-gears', 'google-geocoder', 'google-geocoding-api', 'google-glass', 'google-glass-camera', 'google-iam', 'google-inbox', 'google-kubernetes-engine', 'google-location-services', 'google-maps', 'google-maps-android-api-2', 'google-maps-api-2', 'google-maps-api-3', 'google-maps-embed', 'google-maps-engine', 'google-maps-flutter', 'google-maps-lite', 'google-maps-markers', 'google-maps-mobile', 'google-maps-sdk-ios', 'google-maps-urls', 'google-material-icons', 'google-mlkit', 'google-mobile-ads', 'google-nativeclient', 'google-nearby', 'google-nexus', 'google-now', 'google-oauth', 'google-pagespeed', 'google-pay', 'google-people-api', 'google-perftools', 'google-photos', 'google-photos-api', 'google-picker', 'google-places', 'google-places-api', 'google-places-autocomplete', 'google-play', 'google-play-console', 'google-play-developer-api', 'google-play-games', 'google-play-services', 'google-plugin-eclipse', 'google-plus', 'google-plus-domains', 'google-plus-one', 'google-plus-signin', 'google-polyline', 'google-project-tango', 'google-publisher-tag', 'google-rich-snippets', 'google-schemas', 'google-search', 'google-search-api', 'google-search-console', 'google-search-platform', 'google-sheets', 'google-sheets-api', 'google-signin', 'google-sites', 'google-speech-api', 'google-street-view', 'google-tag-manager', 'google-talk', 'google-tasks', 'google-text-to-speech', 'google-toolbar', 'google-toolbox-for-mac', 'google-translate', 'google-translation-api', 'google-truth', 'google-tv', 'google-vision', 'google-visualization', 'google-voice', 'google-voice-search', 'google-vr', 'google-webfonts', 'google-workspace', 'googlebot', 'googleio', 'googlemock', 'googlesigninaccount', 'googletest', 'googletrans', 'goose', 'goto', 'gotw', 'goutte', 'gpgpu', 'gpio', 'gprof', 'gprs', 'gps', 'gps-time', 'gpu', 'gpuimage', 'gpx', 'gql', 'gquery', 'graalvm', 'graalvm-native-image', 'graceful-degradation', 'graceful-shutdown', 'gradient', 'gradient-descent', 'gradle', 'gradle-daemon', 'gradle-dependencies', 'gradle-eclipse', 'gradle-experimental', 'gradle-kotlin-dsl', 'gradle-play-publisher', 'gradle-plugin', 'gradle.properties', 'gradlew', 'grafana', 'grafika', 'grails', 'grammar', 'grand-central-dispatch', 'grandchild', 'grape-api', 'graph', 'graph-algorithm', 'graph-databases', 'graph-drawing', 'graph-layout', 'graph-sharp', 'graph-theory', 'graph-tool', 'graph-visualization', 'graphene-python', 'graphenedb', 'graphframes', 'graphic', 'graphic-design', 'graphic-effects', 'graphical-layout-editor', 'graphical-logo', 'graphics', 'graphics2d', 'graphicscontext', 'graphicsmagick', 'graphing', 'graphiql', 'graphite', 'graphql', 'graphql-java', 'graphql-js', 'graphql-subscriptions', 'graphviz', 'grass', 'grav', 'gravatar', 'gravity', 'gravity-forms-plugin', 'gray-code', 'grayscale', 'greasemonkey', 'greatest-n-per-group', 'grecaptcha', 'greedy', 'green-threads', 'greendao', 'greenlets', 'greenrobot-eventbus', 'greenrobot-eventbus-3.0', 'gregorian-calendar', 'gremlin', 'grep', 'grequests', 'grib', 'grid', 'grid-layout', 'grid-search', 'grid-system', 'gridbaglayout', 'gridfs', 'gridfs-stream', 'gridlayoutmanager', 'gridlines', 'gridpane', 'gridpanel', 'gridsearchcv', 'gridstack', 'gridster', 'gridview', 'gridview-sorting', 'gridviewcolumn', 'gridviewrow', 'gridworld', 'griffon', 'grizzly', 'groovy', 'groovyc', 'group-by', 'group-concat', 'group-policy', 'groupbox', 'grouped-bar-chart', 'grouping', 'grouplayout', 'groupprincipal', 'growl', 'grpc', 'grpc-dotnet', 'grpc-java', 'grpc-node', 'grpc-python', 'grpc-web', 'grunt-babel', 'grunt-build-control', 'grunt-cli', 'grunt-connect-proxy', 'grunt-contrib-concat', 'grunt-contrib-cssmin', 'grunt-contrib-qunit', 'grunt-contrib-uglify', 'grunt-contrib-watch', 'grunt-exec', 'grunt-init', 'grunt-nodemon', 'grunt-sass-lint', 'grunt-string-replace', 'grunt-ts', 'grunt-usemin', 'gruntfile', 'gruntjs', 'gsap', 'gsl', 'gsm', 'gsoap', 'gson', 'gsp', 'gspread', 'gssapi', 'gstreamer', 'gsutil', 'gtk', 'gtk#', 'gtk2', 'gtk3', 'gtkmm', 'gtkmm3', 'gtktreeview', 'guard', 'guava', 'gud', 'gui-builder', 'gui-designer', 'gui-testing', 'gui-toolkit', 'guice', 'guid', 'guided-access', 'guitar', 'guitexture', 'gulp', 'gulp-4', 'gulp-babel', 'gulp-browser-sync', 'gulp-clean-css', 'gulp-data', 'gulp-filter', 'gulp-glob', 'gulp-jscs', 'gulp-karma', 'gulp-less', 'gulp-livereload', 'gulp-load-plugins', 'gulp-minify-css', 'gulp-mocha', 'gulp-protractor', 'gulp-ruby-sass', 'gulp-sass', 'gulp-sourcemaps', 'gulp-typescript', 'gulp-uglify', 'gulp-watch', 'gumby-framework', 'gun', 'gundb', 'gunicorn', 'gunzip', 'gurobi', 'gutenberg-blocks', 'guzzle', 'guzzle6', 'gwt', 'gwt-2.8', 'gwt-designer', 'gwt-dev-mode', 'gwt-elemental', 'gwt-gin', 'gwt-history', 'gwt-jsinterop', 'gwt-platform', 'gwt-rpc', 'gwt-syncproxy', 'gwt2', 'gwtquery', 'gxt', 'gyp', 'gyroscope', 'gzip', 'gzipinputstream', 'gzipstream', 'h.264', 'h2', 'h2o', 'h5py', 'haar-classifier', 'haar-wavelet', 'hacker-news-api', 'hacklang', 'hadoop', 'hadoop-streaming', 'hadoop-yarn', 'hal', 'half-precision-float', 'halide', 'halting-problem', 'hamburger-menu', 'hamcrest', 'haml', 'hammer.js', 'hamming-distance', 'hammingweight', 'hana', 'handheld', 'handle', 'handle-leak', 'handlebars.js', 'handler', 'handlers', 'handles', 'handoff', 'handshake', 'handsontable', 'handwriting', 'handwriting-recognition', 'hangfire', 'hangout', 'hapi.js', 'happens-before', 'haproxy', 'haptic-feedback', 'har', 'haraka', 'hard-coding', 'hard-drive', 'hardhat', 'hardware', 'hardware-acceleration', 'hardware-id', 'hardware-interface', 'hardware-security-module', 'hardware-traps', 'harvard-architecture', 'has-and-belongs-to-many', 'has-many', 'has-many-through', 'hash', 'hash-code-uniqueness', 'hash-collision', 'hash-function', 'hashbang', 'hashchange', 'hashcode', 'hashlib', 'hashmap', 'hashset', 'hashtable', 'hashtag', 'haskell', 'haskell-tagsoup', 'haslayout', 'hasownproperty', 'hateoas', 'haversine', 'having', 'hawtio', 'haxe', 'haxm', 'hazelcast', 'hbase', 'hbitmap', 'hbm2ddl', 'hce', 'hci', 'hdbscan', 'hdcp', 'hdf', 'hdf5', 'hdfs', 'hdfstore', 'hdmi', 'hdpi', 'hdr', 'hdrhistogram', 'head', 'head.js', 'header', 'header-files', 'headerdoc', 'heading', 'headless', 'headless-browser', 'headless-cms', 'headless-ui', 'headphones', 'heads-up-notifications', 'headset', 'health-check', 'healthkit', 'heap', 'heap-corruption', 'heap-dump', 'heap-fragmentation', 'heap-memory', 'heap-pollution', 'heap-profiling', 'heap-size', 'heaps-algorithm', 'heapshot', 'heapsort', 'heapy', 'heartbeat', 'heartbleed-bug', 'heat', 'heatmap', 'hebrew', 'heic', 'height', 'heightforrowatindexpath', 'heightmap', 'helenus', 'helix-3d-toolkit', 'hello.js', 'helper', 'helpfile', 'heredoc', 'heroku', 'heroku-api', 'heroku-cli', 'heroku-postgres', 'heroku-toolbelt', 'hessian', 'heuristics', 'hevc', 'hex', 'hexagonal-tiles', 'hexdump', 'hexo', 'hfp', 'hfs+', 'hhvm', 'hibernate', 'hibernate-4.x', 'hibernate-5.x', 'hibernate-6.x', 'hibernate-annotations', 'hibernate-criteria', 'hibernate-envers', 'hibernate-mapping', 'hibernate-search', 'hibernate-session', 'hibernate-validator', 'hid', 'hidden', 'hidden-characters', 'hidden-features', 'hidden-field', 'hiddenfield', 'hide', 'hierarchical', 'hierarchical-clustering', 'hierarchical-data', 'hierarchicaldatatemplate', 'hierarchy', 'hierarchyviewer', 'hig', 'high-contrast', 'high-level', 'high-load', 'high-resolution-clock', 'highcharts', 'highcharts-ng', 'highdpi', 'higher-order-components', 'higher-order-functions', 'highest', 'highgui', 'highland.js', 'highlight', 'highlight.js', 'highlighting', 'highmaps', 'hijri', 'hikaricp', 'hilbert-curve', 'hinstance', 'hint', 'hints', 'hiphop', 'histogram', 'histogram-equalization', 'histogram2d', 'history', 'history.js', 'hitcounter', 'hittest', 'hive', 'hk2', 'hkhealthstore', 'hksamplequery', 'hlsl', 'hmac', 'hmacsha1', 'hmvc', 'hockeyapp', 'hocon', 'hogan.js', 'hoisting', 'holder.js', 'hole-punching', 'hololens', 'home-automation', 'home-directory', 'homebrew', 'homebrew-cask', 'homekit', 'homescreen', 'homestead', 'homogenous-transformation', 'homography', 'honeypot', 'hook', 'hook-woocommerce', 'hook-wordpress', 'horizontal-scrolling', 'horizontallist', 'horizontalscrollview', 'hornetq', 'host', 'hostheader', 'hosting', 'hostname', 'hosts', 'hosts-file', 'hot-module-replacement', 'hotdeploy', 'hotkeys', 'hotlinking', 'hotmail', 'hotspot', 'hotswap', 'hotwire-rails', 'hough-transform', 'houghlinesp', 'hour', 'hourglass', 'hover', 'hoverintent', 'howler.js', 'hp-ux', 'hpc', 'hpple', 'hprof', 'hql', 'href', 'hresult', 'hsb', 'hsc2hs', 'hsl', 'hsm', 'hsqldb', 'hssf', 'hstore', 'hsts', 'hsv', 'hta', 'htc-android', 'htc-hero', 'htc-thunderbolt', 'html-agility-pack', 'html-box-gadget', 'html-components', 'html-compression', 'html-content-extraction', 'html-datalist', 'html-editor', 'html-email', 'html-encode', 'html-entities', 'html-escape-characters', 'html-framework-7', 'html-generation', 'html-head', 'html-heading', 'html-helper', 'html-imports', 'html-input', 'html-lists', 'html-object', 'html-parser', 'html-parsing', 'html-pdf', 'html-post', 'html-renderer', 'html-rendering', 'html-sanitizing', 'html-select', 'html-table', 'html-tag-details', 'html-tag-summary', 'html-templates', 'html-to-pdf', 'html-validation', 'html-webpack-plugin', 'html.actionlink', 'html.beginform', 'html.dropdownlistfor', 'html.textbox', 'html.textboxfor', 'html2canvas', 'html2pdf', 'html4', 'html5-animation', 'html5-appcache', 'html5-audio', 'html5-canvas', 'html5-data', 'html5-draggable', 'html5-filesystem', 'html5-fullscreen', 'html5-history', 'html5-notifications', 'html5-template', 'html5-video', 'html5boilerplate', 'html5shiv', 'html5sortable', 'htmlcleaner', 'htmlcollection', 'htmlcontrols', 'htmldecode', 'htmleditorkit', 'htmlelements', 'htmlpurifier', 'htmlspecialchars', 'htmltextwriter', 'htmltidy', 'htmltools', 'htmlunit', 'htmlwidgets', 'htmx', 'htonl', 'http', 'http-1.0', 'http-1.1', 'http-authentication', 'http-caching', 'http-chunked', 'http-compression', 'http-delete', 'http-digest', 'http-get', 'http-head', 'http-headers', 'http-live-streaming', 'http-method', 'http-options-method', 'http-patch', 'http-post', 'http-post-vars', 'http-proxy', 'http-proxy-middleware', 'http-put', 'http-redirect', 'http-referer', 'http-request', 'http-response-codes', 'http-status', 'http-status-code-301', 'http-status-code-302', 'http-status-code-303', 'http-status-code-304', 'http-status-code-307', 'http-status-code-400', 'http-status-code-401', 'http-status-code-403', 'http-status-code-404', 'http-status-code-405', 'http-status-code-407', 'http-status-code-410', 'http-status-code-411', 'http-status-code-413', 'http-status-code-422', 'http-status-code-500', 'http-status-code-502', 'http-status-code-503', 'http-status-code-504', 'http-status-code-505', 'http-status-codes', 'http-streaming', 'http-token-authentication', 'http-verbs', 'http2', 'httpbackend', 'httpclient', 'httpclientfactory', 'httpconnection', 'httpcontent', 'httpcontext', 'httpcontext.cache', 'httpcookie', 'httpd.conf', 'httpentity', 'httpexception', 'httpforbiddenhandler', 'httphandler', 'httplib', 'httplib2', 'httplistener', 'httpmodule', 'httponly', 'httppostedfilebase', 'httprequest', 'httpresponse', 'httpresponsecache', 'https', 'httpserver', 'httpservice', 'httpsession', 'httpsurlconnection', 'httpurlconnection', 'httpwebrequest', 'httpwebresponse', 'httr', 'huawei-developers', 'huawei-mobile-services', 'hud', 'hudson', 'hue', 'huffman-code', 'huge-pages', 'huggingface-transformers', 'hugo', 'hugo-logging', 'human-computer-interface', 'human-interface', 'human-readable', 'humanize', 'hummus.js', 'hung', 'hungarian-algorithm', 'hungarian-notation', 'hunspell', 'husky', 'hwioauthbundle', 'hwnd', 'hwpf', 'hxcpp', 'hybrid', 'hybrid-mobile-app', 'hybridauth', 'hybridauthprovider', 'hydrogen', 'hyper-v', 'hypercore-protocol', 'hypercorn', 'hyperdrive', 'hyperlink', 'hyperloglog', 'hypermedia', 'hypernova', 'hyperparameters', 'hypervisor', 'hyphenation', 'hyprlinkr', 'hystrix', 'i18next', 'i2c', 'i386', 'iaca', 'iactivescript', 'iad', 'iar', 'iasyncenumerable', 'iasyncresult', 'iauthorizationfilter', 'ibaction', 'iban', 'ibatis', 'ibatis.net', 'ibdesignable', 'ibeacon', 'ibeacon-android', 'ibinspectable', 'ibm-cloud', 'ibm-cloud-infrastructure', 'ibm-midrange', 'ibm-mobilefirst', 'ibm-mq', 'ibm-rad', 'ibm-watson', 'ibooks', 'iboutlet', 'iboutletcollection', 'ibplugin', 'ibtool', 'ical4j', 'icalendar', 'icann', 'icarousel', 'icc', 'ice', 'icecast', 'iced-coffeescript', 'icheck', 'iclientmessageinspector', 'icloud', 'icloud-api', 'icloud-drive', 'icmp', 'ico', 'icollection', 'icollectionview', 'icommand', 'icomparable', 'icomparer', 'icon-fonts', 'iconic', 'icons', 'iconv', 'icu', 'icx', 'id3', 'ida', 'ide', 'ideavim', 'idempotent', 'identifier', 'identify', 'identity', 'identity-column', 'identity-map', 'identityserver3', 'identityserver4', 'idfa', 'idictionary', 'idioms', 'idispatch', 'idispatchmessageinspector', 'idisposable', 'idl', 'idle-processing', 'idle-timer', 'idn', 'ie-developer-tools', 'ie11-developer-tools', 'ie7.js', 'ie8-compatibility-mode', 'ieee-754', 'ienumerable', 'ienumerator', 'iepngfix', 'iequalitycomparer', 'iequatable', 'ierrorhandler', 'if-constexpr', 'if-statement', 'ifndef', 'iframe', 'ifstream', 'ignore-case', 'igraph', 'igrouping', 'ihtmldocument', 'ihttpasynchandler', 'ihttphandler', 'iidentity', 'iif-function', 'iife', 'iis', 'iis-10', 'iis-5', 'iis-6', 'iis-7', 'iis-7.5', 'iis-8', 'iis-8.5', 'iis-express', 'iisnode', 'iisreset', 'ijavascript', 'ijetty', 'ijkplayer', 'ikimagebrowsercell', 'ikimagebrowserview', 'ikimageview', 'ikvm', 'il', 'il2cpp', 'ilasm', 'ildasm', 'ilgenerator', 'ilist', 'illegal-characters', 'illegal-input', 'illegalaccessexception', 'illegalargumentexception', 'illegalstateexception', 'illuminate-container', 'ilmerge', 'ilogger', 'ilookup', 'ilspy', 'image', 'image-caching', 'image-capture', 'image-comparison', 'image-compression', 'image-conversion', 'image-editing', 'image-editor', 'image-enlarge', 'image-extraction', 'image-formats', 'image-gallery', 'image-generation', 'image-loading', 'image-manipulation', 'image-optimization', 'image-preloader', 'image-processing', 'image-quality', 'image-recognition', 'image-rendering', 'image-resizing', 'image-rotation', 'image-scaling', 'image-segmentation', 'image-size', 'image-stabilization', 'image-stitching', 'image-upload', 'image-uploading', 'imagebackground', 'imagebutton', 'imagecreatefrompng', 'imagedata', 'imagedownload', 'imageedgeinsets', 'imagefield', 'imagefilter', 'imageflow', 'imageicon', 'imagej', 'imagelist', 'imagemagick', 'imagemagick-convert', 'imagemap', 'imagenamed', 'imagepicker', 'imageshack', 'imagesource', 'imagespan', 'imageswitcher', 'imagettftext', 'imageview', 'imagick', 'imaging', 'imanage', 'imap', 'imaplib', 'imbalanced-data', 'imdb', 'ime', 'imei', 'imessage', 'imessage-extension', 'imgur', 'immediate-window', 'immutability', 'immutable-collections', 'immutable.js', 'immutablelist', 'imp', 'imperative-programming', 'impersonation', 'implementation', 'implementation-defined-behavior', 'implements', 'implicit', 'implicit-conversion', 'implicit-declaration', 'implicit-int', 'implicit-typing', 'implode', 'import', 'import-from-excel', 'import-libraries', 'import-module', 'importerror', 'impress.js', 'impressions', 'imputation', 'imread', 'imshow', 'in-addr', 'in-app', 'in-app-billing', 'in-app-purchase', 'in-app-subscription', 'in-call', 'in-class-initialization', 'in-clause', 'in-function', 'in-house-distribution', 'in-memory', 'in-memory-data-grid', 'in-memory-database', 'in-operator', 'in-parameters', 'in-place', 'inappbrowser', 'inappsettingskit', 'inbox', 'include', 'include-guards', 'include-path', 'inclued', 'incognito-mode', 'incoming-call', 'incompatibility', 'incompatibletypeerror', 'incomplete-type', 'increment', 'incremental-linking', 'incron', 'indentation', 'indesign-server', 'index-error', 'indexed', 'indexeddb', 'indexer', 'indexing', 'indexof', 'indexoutofboundsexception', 'indexoutofrangeexception', 'indexpath', 'indicator', 'indices', 'indirection', 'indoor-positioning-system', 'induction', 'indy', 'inequality', 'inertiajs', 'inetaddress', 'inference', 'infernojs', 'inferred-type', 'infinite', 'infinite-loop', 'infinite-scroll', 'infinite-sequence', 'infinity', 'inflate', 'inflate-exception', 'info-plist', 'info.plist', 'information-retrieval', 'information-visualization', 'informix', 'infowindow', 'infragistics', 'ingres', 'inheritance', 'inheritdoc', 'inheriting-constructors', 'ini', 'ini-set', 'init', 'initial-context', 'initialization', 'initialization-block', 'initialization-list', 'initialization-order', 'initialization-vector', 'initializecomponent', 'initializer', 'initializer-list', 'initwithcoder', 'initwithcontentsoffile', 'initwithstyle', 'inject', 'injected-class-name', 'inkscape', 'inline', 'inline-assembly', 'inline-code', 'inline-editing', 'inline-formset', 'inline-functions', 'inline-method', 'inline-namespaces', 'inline-styles', 'inlining', 'inmobi', 'inner-classes', 'inner-join', 'innerhtml', 'inno-setup', 'innodb', 'inode', 'inotify', 'inotifycollectionchanged', 'inotifypropertychanged', 'inproc', 'input', 'input-devices', 'input-field', 'input-mask', 'input-parameters', 'input-type-file', 'input-type-range', 'inputaccessoryview', 'inputbox', 'inputmethodmanager', 'inputstream', 'inputstreamreader', 'inputview', 'inquirerjs', 'insert', 'insert-image', 'insert-iterator', 'insert-update', 'insertafter', 'inserter', 'insertion', 'insertion-sort', 'insets', 'insomnia', 'inspect', 'inspect-element', 'inspection', 'inspector', 'instabug', 'instagram', 'instagram-api', 'instagram-graph-api', 'install-referrer', 'installation', 'installation-package', 'installaware', 'installshield', 'installshield-2010', 'installutil', 'instance', 'instance-methods', 'instance-variables', 'instanceid', 'instanceof', 'instances', 'instancetype', 'instant-messaging', 'instant-run', 'instantclient', 'instantiation', 'instantiationexception', 'instruction-reordering', 'instruction-set', 'instructions', 'instrumentation', 'instruments', 'int', 'int128', 'int32', 'int64', 'integer', 'integer-arithmetic', 'integer-division', 'integer-overflow', 'integer-partition', 'integer-programming', 'integer-promotion', 'integral', 'integrate', 'integrated-pipeline-mode', 'integration', 'integration-testing', 'integrity', 'intel', 'intel-edison', 'intel-fortran', 'intel-fpga', 'intel-ipp', 'intel-mic', 'intel-mkl', 'intel-mpi', 'intel-syntax', 'intel-tsx', 'intel-vtune', 'intel-xdk', 'intelephense', 'intelinde', 'intellij-13', 'intellij-14', 'intellij-idea', 'intellij-idea-2016', 'intellij-inspections', 'intellij-lombok-plugin', 'intellij-plugin', 'intellisense', 'intellitest', 'intellitrace', 'intentfilter', 'intentservice', 'inter-process-communicat', 'interact.js', 'interaction', 'interactive', 'interactive-brokers', 'interactive-shell', 'intercept', 'interception', 'interceptor', 'intercom', 'interface', 'interface-builder', 'interface-design', 'interface-implementation', 'interface-orientation', 'interfacing', 'interleave', 'interlocked', 'intermediate-language', 'intern', 'internal', 'internal-compiler-error', 'internal-representation', 'internal-server-error', 'internals', 'internalsvisibleto', 'internationalization', 'internet-connection', 'internet-explorer', 'internet-explorer-10', 'internet-explorer-11', 'internet-explorer-5', 'internet-explorer-6', 'internet-explorer-7', 'internet-explorer-8', 'internet-explorer-9', 'internet-radio', 'interop', 'interop-domino', 'interopservices', 'interpolation', 'interposing', 'interpretation', 'interpreted-language', 'interpreter', 'interprocess', 'interrupt', 'interrupt-handling', 'interrupted-exception', 'interruption', 'interruptions', 'intersect', 'intersection', 'intersection-observer', 'interstitial', 'interval-tree', 'intervals', 'intervention', 'intl', 'into-outfile', 'intptr', 'intranet', 'intrinsic-content-size', 'intrinsics', 'intro.js', 'introspection', 'invalid-argument', 'invalidargumentexception', 'invalidation', 'invalidoperationexception', 'invariants', 'inverse', 'inversifyjs', 'inversion-of-control', 'inverted-index', 'invisible', 'invisible-recaptcha', 'invocation', 'invoices', 'invoke', 'invokedynamic', 'invokelater', 'invokerequired', 'io', 'io-buffering', 'io-completion-ports', 'io-monad', 'io-redirection', 'io.js', 'iobluetooth', 'ioc-container', 'iocp', 'ioctl', 'iodocs', 'ioerror', 'ioexception', 'iojs', 'iokit', 'iomanip', 'ionic-framework', 'ionic-native', 'ionic-view', 'ionic2', 'ionic3', 'ionic4', 'ionic5', 'iorderedenumerable', 'iorderedqueryable', 'ioredis', 'ios-3.x', 'ios-4.2', 'ios-animations', 'ios-app-extension', 'ios-app-group', 'ios-app-signing', 'ios-app-suspended-state', 'ios-autolayout', 'ios-background-mode', 'ios-bluetooth', 'ios-camera', 'ios-charts', 'ios-darkmode', 'ios-enterprise', 'ios-extensions', 'ios-frameworks', 'ios-keyboard-extension', 'ios-multithreading', 'ios-permissions', 'ios-provisioning', 'ios-sharesheet', 'ios-simulator', 'ios-standalone-mode', 'ios-targets', 'ios-ui-automation', 'ios-universal-app', 'ios-universal-framework', 'ios-universal-links', 'ios-vision', 'ios10', 'ios10-today-widget', 'ios10.2', 'ios10.3', 'ios11', 'ios12', 'ios13', 'ios13.2', 'ios14', 'ios15', 'ios16', 'ios3.0', 'ios32', 'ios4', 'ios5', 'ios5.1', 'ios6', 'ios6-maps', 'ios6.0', 'ios6.1', 'ios7', 'ios7-statusbar', 'ios7.1', 'ios8', 'ios8-extension', 'ios8-share-extension', 'ios8-today-widget', 'ios8.1', 'ios8.2', 'ios8.3', 'ios8.4', 'ios9', 'ios9.1', 'ios9.3', 'ios9.3.1', 'iosfwd', 'ioslides', 'iostream', 'iosurface', 'iot', 'ip', 'ip-address', 'ip-camera', 'ip-geolocation', 'ipa', 'ipad', 'ipad-2', 'ipad-3', 'ipados', 'ipados13', 'ipc', 'ipconfig', 'ipcu', 'ipdb', 'ipfs', 'ipfw', 'iphelper', 'iphone-3gs', 'iphone-4', 'iphone-5', 'iphone-6', 'iphone-6-plus', 'iphone-8', 'iphone-8-plus', 'iphone-accessory', 'iphone-developer-program', 'iphone-keypad', 'iphone-privateapi', 'iphone-sdk-2', 'iphone-sdk-3.0', 'iphone-sdk-3.1', 'iphone-sdk-3.1.3', 'iphone-sdk-3.2', 'iphone-sdk-4.0.1', 'iphone-sdk-4.1', 'iphone-se', 'iphone-softkeyboard', 'iphone-standalone-web-app', 'iphone-vibrate', 'iphone-video', 'iphone-web-app', 'iphone-x', 'iphone-xs', 'iphone-xs-max', 'iphone7plus', 'iphonecoredatarecipes', 'iplimage', 'ipod', 'ipod-touch', 'ipopt', 'iprincipal', 'ips', 'ipsec', 'iptables', 'iptc', 'ipv4', 'ipv6', 'ipython', 'ipython-magic', 'ipython-parallel', 'ipywidgets', 'iqkeyboardmanager', 'iqueryable', 'irc', 'iris-recognition', 'irix', 'iron-router', 'ironpdf', 'ironpython', 'ironruby', 'irq', 'irrlicht', 'irs', 'is-empty', 'isa-swizzling', 'isapi', 'iscroll', 'iscroll4', 'isenabled', 'iserializable', 'isgl3d', 'isight', 'isinstance', 'isnull', 'isnullorempty', 'isnumeric', 'iso', 'iso-8859-1', 'iso-image', 'iso-prolog', 'iso8601', 'isobuild', 'isodate', 'isolatedstorage', 'isolation', 'isolation-frameworks', 'isometric', 'isomorphic-git', 'isomorphic-javascript', 'isomorphism', 'isparta', 'isr', 'isrequired', 'isset', 'issue-tracking', 'istanbul', 'istream', 'istream-iterator', 'istream-view', 'italic', 'itanium', 'itemizedoverlay', 'itemlistener', 'itemrenderer', 'items', 'itemscontrol', 'itemspaneltemplate', 'itemssource', 'itemtemplate', 'iterable', 'iterable-unpacking', 'iteration', 'iterator', 'iterator-facade', 'iterator-traits', 'itext', 'itext7', 'itoa', 'itunes', 'itunes-app', 'itunes-sdk', 'itunes-search-api', 'itunes-store', 'itunesartwork', 'ituneslibrary', 'ivalidatableobject', 'ivalueconverter', 'ivar', 'ivars', 'ivy', 'iweb', 'ixmlserializable', 'izpack', 'j#', 'j2mepolish', 'j2objc', 'j2ssh', 'jack', 'jack-compiler', 'jackrabbit', 'jackson', 'jackson-databind', 'jackson2', 'jacoco', 'jad', 'jade4j', 'jaeger', 'jagged-arrays', 'jai', 'jail', 'jailbreak', 'jain-sip', 'jak', 'jakarta-ee', 'jakarta-mail', 'jake', 'jalali-calendar', 'james', 'janus', 'japplet', 'jar', 'jar-signing', 'jarduino', 'jaro-winkler', 'jarsigner', 'jasmine', 'jasmine-jquery', 'jasmine-maven-plugin', 'jasmine-node', 'jasmine2.0', 'jasny-bootstrap', 'jasper-reports', 'jaspersoft-studio', 'jasypt', 'jatha', 'java-10', 'java-11', 'java-12', 'java-13', 'java-14', 'java-15', 'java-16', 'java-17', 'java-2d', 'java-3d', 'java-5', 'java-6', 'java-7', 'java-8', 'java-9', 'java-annotations', 'java-bytecode-asm', 'java-compiler-api', 'java-ee-5', 'java-ee-6', 'java-ee-7', 'java-home', 'java-interop', 'java-io', 'java-me', 'java-memory-model', 'java-metro-framework', 'java-module', 'java-native-interface', 'java-opts', 'java-persistence-api', 'java-platform-module-system', 'java-record', 'java-sealed-type', 'java-security', 'java-server', 'java-service-wrapper', 'java-stream', 'java-threads', 'java-time', 'java-web-start', 'java-websocket', 'java.lang.class', 'java.nio.file', 'java.time.instant', 'java.util.concurrent', 'java.util.date', 'java.util.scanner', 'java1.4', 'java2wsdl', 'javaagents', 'javabeans', 'javac', 'javacameraview', 'javacard', 'javacc', 'javacompiler', 'javacv', 'javadoc', 'javaexec-gradle-plugin', 'javafx', 'javafx-11', 'javafx-2', 'javafx-3d', 'javafx-8', 'javafx-gradle-plugin', 'javafx-webengine', 'javafxports', 'javah', 'javahl', 'javapoet', 'javascript-debugger', 'javascript-engine', 'javascript-framework', 'javascript-globalize', 'javascript-import', 'javascript-injection', 'javascript-intellisense', 'javascript-marked', 'javascript-namespaces', 'javascript-objects', 'javascript-oscillator', 'javascriptcore', 'javascriptmvc', 'javascriptserializer', 'javasound', 'javassist', 'javax.activation', 'javax.imageio', 'javax.script', 'javax.sound.sampled', 'jaws-screen-reader', 'jax', 'jax-rpc', 'jax-rs', 'jax-ws', 'jaxb', 'jaxb2', 'jaxb2-basics', 'jaxb2-maven-plugin', 'jaxbelement', 'jaydata', 'jbcrypt', 'jboss', 'jboss-arquillian', 'jboss-tools', 'jboss-weld', 'jboss5.x', 'jboss6.x', 'jboss7.x', 'jbossws', 'jbox2d', 'jbpm', 'jbutton', 'jcache', 'jcalendar', 'jcanvas', 'jcarousel', 'jcc', 'jce', 'jcenter', 'jcheckbox', 'jcifs', 'jcmd', 'jco', 'jcodec', 'jcombobox', 'jcomponent', 'jconsole', 'jcr', 'jcrop', 'jdatechooser', 'jdbc', 'jdbc-odbc', 'jdbc-pool', 'jdbctemplate', 'jdbi', 'jdesktoppane', 'jdialog', 'jdk1.7', 'jdo', 'jdom', 'jedis', 'jeditable', 'jeditorpane', 'jekyll', 'jekyll-extensions', 'jena', 'jenkins', 'jenkins-2', 'jenkins-pipeline', 'jenkins-plugins', 'jersey', 'jersey-2.0', 'jersey-client', 'jest-fetch-mock', 'jestjs', 'jet', 'jetbrains-ide', 'jetpack-compose-navigation', 'jets3t', 'jetty', 'jetty-9', 'jface', 'jfilechooser', 'jfr', 'jframe', 'jfreechart', 'jgit', 'jgoodies', 'jgraph', 'jgrowl', 'jhat', 'jhipster', 'jimfs', 'jimp', 'jinja2', 'jint', 'jinternalframe', 'jira', 'jira-plugin', 'jira-rest-api', 'jit', 'jitpack', 'jitsi', 'jks', 'jlabel', 'jlayer', 'jlink', 'jlist', 'jls', 'jmap', 'jmdns', 'jmenu', 'jmenubar', 'jmenuitem', 'jmeter', 'jmf', 'jmh', 'jmock', 'jmockit', 'jmonkeyengine', 'jms', 'jms-serializer', 'jmsserializerbundle', 'jmstemplate', 'jmx', 'jna', 'jnario', 'jndi', 'jnienv', 'jniwrapper', 'jnlp', 'joauth', 'job-scheduling', 'jobintentservice', 'joblib', 'jobs', 'jobservice', 'jodatime', 'jogl', 'johnny-five', 'joi', 'join', 'jointjs', 'jolokia', 'joomla', 'joomla-extensions', 'joomla1.5', 'joomla1.6', 'joomla1.7', 'joomla2.5', 'joomla3.0', 'joomla3.3', 'joomla3.4', 'jooq', 'joptionpane', 'journal', 'journaling', 'joyent', 'joystick', 'jpa', 'jpa-2.0', 'jpa-2.1', 'jpanel', 'jpanelmenu', 'jpct', 'jpeg', 'jpgraph', 'jplayer', 'jpm', 'jpopupmenu', 'jpql', 'jprofiler', 'jprogressbar', 'jpype', 'jq', 'jqbootstrapvalidation', 'jqgrid', 'jqgrid-asp.net', 'jqgrid-formatter', 'jqgrid-php', 'jqlite', 'jqmodal', 'jqplot', 'jqtouch', 'jquery-1.3.2', 'jquery-1.5', 'jquery-1.6', 'jquery-1.8', 'jquery-1.9', 'jquery-2.0', 'jquery-3', 'jquery-address', 'jquery-after', 'jquery-animate', 'jquery-append', 'jquery-attributes', 'jquery-autocomplete', 'jquery-backstretch', 'jquery-blockui', 'jquery-callback', 'jquery-chosen', 'jquery-click-event', 'jquery-context', 'jquery-cookie', 'jquery-cycle', 'jquery-data', 'jquery-deferred', 'jquery-dialog', 'jquery-draggable', 'jquery-droppable', 'jquery-dynatree', 'jquery-easing', 'jquery-easyui', 'jquery-effects', 'jquery-events', 'jquery-file-upload', 'jquery-forms-plugin', 'jquery-globalize', 'jquery-hotkeys', 'jquery-hover', 'jquery-html5uploader', 'jquery-infinite-scroll', 'jquery-inputmask', 'jquery-isotope', 'jquery-jtable', 'jquery-lazyload', 'jquery-load', 'jquery-mask', 'jquery-masonry', 'jquery-migrate', 'jquery-mobile', 'jquery-mobile-button', 'jquery-mobile-collapsible', 'jquery-mobile-flipswitch', 'jquery-mobile-listview', 'jquery-mobile-loader', 'jquery-mobile-pageshow', 'jquery-mobile-popup', 'jquery-nestable', 'jquery-on', 'jquery-pagination', 'jquery-plugins', 'jquery-post', 'jquery-resizable', 'jquery-rotate', 'jquery-select2', 'jquery-select2-3', 'jquery-select2-4', 'jquery-selectbox', 'jquery-selectors', 'jquery-selectric', 'jquery-steps', 'jquery-svg', 'jquery-tabs', 'jquery-tags-input', 'jquery-templates', 'jquery-terminal', 'jquery-tocify-js', 'jquery-tokeninput', 'jquery-tools', 'jquery-tooltip', 'jquery-transit', 'jquery-traversing', 'jquery-triggerhandler', 'jquery-ui', 'jquery-ui-accordion', 'jquery-ui-autocomplete', 'jquery-ui-button', 'jquery-ui-css-framework', 'jquery-ui-datepicker', 'jquery-ui-dialog', 'jquery-ui-draggable', 'jquery-ui-droppable', 'jquery-ui-multiselect', 'jquery-ui-plugins', 'jquery-ui-progressbar', 'jquery-ui-resizable', 'jquery-ui-selectable', 'jquery-ui-selectmenu', 'jquery-ui-slider', 'jquery-ui-sortable', 'jquery-ui-tabs', 'jquery-ui-theme', 'jquery-ui-timepicker', 'jquery-ui-tooltip', 'jquery-ui-touch-punch', 'jquery-validate', 'jquery-waypoints', 'jquery-widgets', 'jqxhr', 'jradiobutton', 'jrebel', 'jri', 'jruby', 'js-amd', 'js2-mode', 'jsch', 'jscience', 'jscolor', 'jscompress', 'jscoverage', 'jscript', 'jscrollbar', 'jscrollpane', 'jscs', 'jsctags', 'jsctypes', 'jsdoc', 'jsdoc3', 'jsdom', 'jsdt', 'jsf', 'jsf-2', 'jsf-2.2', 'jsfiddle', 'jshell', 'jshint', 'jslider', 'jslint', 'jsni', 'jsobject', 'json', 'json-api', 'json-deserialization', 'json-framework', 'json-ld', 'json-normalize', 'json-schema-validator', 'json-serialization', 'json-view', 'json-web-token', 'json.net', 'json2html', 'json5', 'jsonb', 'jsondecoder', 'jsonexception', 'jsonkit', 'jsonmodel', 'jsonobjectrequest', 'jsonp', 'jsonpath', 'jsonreader', 'jsonschema', 'jsonserializer', 'jsonstream', 'jsoup', 'jsp', 'jsp-tags', 'jspdf', 'jspdf-autotable', 'jspec', 'jsperf', 'jsplitpane', 'jsplumb', 'jspm', 'jsqlparser', 'jsqmessagesviewcontroller', 'jsr', 'jsr-353', 'jsr107', 'jsr166', 'jsr203', 'jsr223', 'jsr296', 'jsr310', 'jsrender', 'jss', 'jsse', 'jstl', 'jstorage', 'jstree', 'jstree-search', 'jstyleparser', 'jsvc', 'jsviews', 'jsx', 'jta', 'jtabbedpane', 'jtable', 'jtag', 'jtds', 'jtextarea', 'jtextcomponent', 'jtextfield', 'jtextpane', 'jtidy', 'jtogglebutton', 'jtree', 'juce', 'julia', 'julia-pkg', 'julian-date', 'jump-table', 'junction', 'junit', 'junit-jupiter', 'junit-rule', 'junit-runner', 'junit3', 'junit4', 'junit5', 'jupyter', 'jupyter-console', 'jupyter-lab', 'jupyter-notebook', 'just-audio', 'justify', 'jvectormap', 'jvisualvm', 'jvm', 'jvm-arguments', 'jvm-crash', 'jvm-hotspot', 'jvm-languages', 'jvmti', 'jwe', 'jwilder-nginx-proxy', 'jwindow', 'jwk', 'jwplayer', 'jwplayer6', 'jwt', 'jwt-simple', 'jwt.io', 'jxcore', 'jxl', 'jxtreetable', 'jython', 'jython-2.7', 'k-means', 'k2f', 'k6', 'kable', 'kafka-consumer-api', 'kafka-producer-api', 'kafka-python', 'kafka-topic', 'kaggle', 'kalman-filter', 'kango-framework', 'kannel', 'kapt', 'karaf', 'karma-coverage', 'karma-jasmine', 'karma-mocha', 'karma-runner', 'katana', 'kawa', 'kcachegrind', 'kde-plasma', 'kdevelop', 'kdf', 'kdoc', 'kdtree', 'keep-alive', 'kefir.js', 'keil', 'kendo-asp.net-mvc', 'kendo-grid', 'kendo-mobile', 'kendo-tabstrip', 'kendo-tooltip', 'kendo-treeview', 'kendo-ui', 'kendo-ui-grid', 'kendo-ui-mvc', 'kendo-window', 'kentico', 'kentor-authservices', 'keras', 'keras-layer', 'keras-rl', 'kerberos', 'kernel', 'kernel-density', 'kernel-extension', 'kernel-mode', 'kernel-module', 'kernel32', 'kernighan-and-ritchie', 'kerning', 'kestrel', 'kestrel-http-server', 'kettle', 'key', 'key-attestation', 'key-bindings', 'key-events', 'key-generator', 'key-management', 'key-pair', 'key-value', 'key-value-coding', 'key-value-observing', 'key-value-store', 'keyboard', 'keyboard-events', 'keyboard-hook', 'keyboard-input', 'keyboard-layout', 'keyboard-navigation', 'keyboard-shortcuts', 'keyboardinterrupt', 'keychain', 'keychainitemwrapper', 'keycloak', 'keycloak-services', 'keycode', 'keydown', 'keyerror', 'keyevent', 'keyeventargs', 'keyframe', 'keylistener', 'keylogger', 'keymapping', 'keynote', 'keypress', 'keyset', 'keystonejs', 'keystore', 'keystore-access', 'keystroke', 'keystrokes', 'keytool', 'keyup', 'keyvaluepair', 'keywindow', 'keyword', 'keyword-argument', 'kgdb', 'kibana', 'kibana-4', 'kie', 'kif', 'kik', 'kill', 'kill-process', 'kindle-fire', 'kinect', 'kineticjs', 'kingfisher', 'kiosk', 'kiosk-mode', 'kirby', 'kivy', 'kiwi', 'kmalloc', 'kmdf', 'kml', 'kmm', 'knapsack-problem', 'knex.js', 'knights-tour', 'knitr', 'knn', 'knockout-2.0', 'knockout-mapping-plugin', 'knockout-templating', 'knockout.js', 'known-types', 'knox-amazon-s3-client', 'knp-snappy', 'knpmenubundle', 'knuth', 'ko.observablearray', 'koa', 'koa-passport', 'koa-router', 'koa-session', 'koa2', 'koala', 'kohana', 'kohana-3', 'kohana-3.3', 'kohana-orm', 'koin', 'kombu', 'komodoedit', 'konacha', 'konvajs', 'kotlin', 'kotlin-android-extensions', 'kotlin-companion', 'kotlin-coroutines', 'kotlin-experimental', 'kotlin-extension', 'kotlin-flow', 'kotlin-inline-class', 'kotlin-interop', 'kotlin-java-interop', 'kotlin-multiplatform', 'kotlin-stateflow', 'kotlin-symbol-processing', 'kotlinx.coroutines', 'kqueue', 'kr-c', 'kramdown', 'kriging', 'kronos-workforce-central', 'ksh', 'ksoap2', 'ktor', 'kubernetes', 'kubernetes-ingress', 'kudu', 'kue', 'kurento', 'kvc', 'kvm', 'l2cap', 'lab', 'lab-color-space', 'label', 'label-encoding', 'labeled-statements', 'labjs', 'labview', 'lag', 'lalr', 'lambda', 'lambdaj', 'lame', 'lamp', 'lampp', 'lan', 'lanczos', 'landscape', 'landscape-portrait', 'lang', 'language-agnostic', 'language-binding', 'language-comparisons', 'language-concepts', 'language-design', 'language-detection', 'language-extension', 'language-features', 'language-history', 'language-implementation', 'language-interoperability', 'language-lawyer', 'language-server-protocol', 'language-specifications', 'language-switching', 'language-theory', 'languagetool', 'lapack', 'lapacke', 'laplacianofgaussian', 'laradock', 'laragon', 'laravel', 'laravel-3', 'laravel-4', 'laravel-4.2', 'laravel-5', 'laravel-5.1', 'laravel-5.3', 'laravel-5.4', 'laravel-5.5', 'laravel-5.6', 'laravel-5.7', 'laravel-5.8', 'laravel-6', 'laravel-7', 'laravel-8', 'laravel-9', 'laravel-artisan', 'laravel-authentication', 'laravel-authorization', 'laravel-backpack', 'laravel-blade', 'laravel-broadcast', 'laravel-cashier', 'laravel-collection', 'laravel-dusk', 'laravel-elixir', 'laravel-eloquent-resource', 'laravel-encryption', 'laravel-envoy', 'laravel-excel', 'laravel-facade', 'laravel-forge', 'laravel-form', 'laravel-helper', 'laravel-horizon', 'laravel-livewire', 'laravel-mail', 'laravel-middleware', 'laravel-migrations', 'laravel-mix', 'laravel-notification', 'laravel-paginate', 'laravel-pagination', 'laravel-passport', 'laravel-query-builder', 'laravel-queue', 'laravel-request', 'laravel-routing', 'laravel-sail', 'laravel-scheduler', 'laravel-schema-builder', 'laravel-scout', 'laravel-seeding', 'laravel-socialite', 'laravel-testing', 'laravel-upgrade', 'laravel-valet', 'laravel-validation', 'laravel-websockets', 'laravelcollective', 'large-data', 'large-data-volumes', 'large-file-support', 'large-file-upload', 'large-files', 'large-object-heap', 'large-scale', 'largenumber', 'lasagne', 'last-insert-id', 'last-modified', 'last-occurrence', 'last.fm', 'lastinsertid', 'lastpass', 'late-binding', 'late-static-binding', 'latency', 'latencyutils', 'latent-semantic-indexing', 'laterjs', 'latex', 'latin', 'latin1', 'latitude-longitude', 'launch', 'launch-daemon', 'launch-screen', 'launch4j', 'launchctl', 'launchd', 'launcher', 'launchimage', 'launching-application', 'launchmode', 'law-of-demeter', 'lawnchair', 'layer', 'layer-list', 'layout', 'layout-animation', 'layout-gravity', 'layout-inflater', 'layout-inspector', 'layout-manager', 'layout-page', 'layoutkind.explicit', 'layoutpanels', 'layoutparams', 'layoutsubviews', 'lazarus', 'lazy-evaluation', 'lazy-initialization', 'lazy-loading', 'lazycolumn', 'lazylist', 'lazythreadsafetymode', 'lcc-win32', 'lcid', 'lcm', 'lcom', 'lcov', 'ld', 'ld-preload', 'lda', 'ldap', 'ldap-query', 'ldapjs', 'ldd', 'ldif', 'leaderboard', 'leading-zero', 'leaflet', 'leak-sanitizer', 'leakcanary', 'leanback', 'leap-second', 'leap-year', 'least-common-ancestor', 'least-squares', 'led', 'left-join', 'left-to-right', 'legacy', 'legacy-app', 'legacy-code', 'legend', 'legend-properties', 'lego-mindstorms', 'lego-mindstorms-ev3', 'leiningen', 'lemmatization', 'lemon-graph-library', 'leptonica', 'lerna', 'lerp', 'less', 'less-mixins', 'less-unix', 'less.php', 'lessphp', 'let', 'lets-encrypt', 'letter', 'letter-spacing', 'letters', 'lettuce', 'leveldb', 'levels', 'levelup', 'levenshtein-distance', 'lex', 'lexer', 'lexical', 'lexical-analysis', 'lexical-cast', 'lexicographic', 'lexikjwtauthbundle', 'lg', 'lib', 'libav', 'libavcodec', 'libavformat', 'libc', 'libc++', 'libclang', 'libcrypto', 'libcurl', 'libev', 'libevent', 'libffi', 'libgcc', 'libgdx', 'libgit2', 'libgit2sharp', 'libjingle', 'libjpeg', 'libjpeg-turbo', 'liblinear', 'libm', 'libmemcache', 'libmemcached', 'libmongoc', 'libmysql', 'libnet', 'libobjc', 'libpcap', 'libphonenumber', 'libpng', 'libpq', 'libpurple', 'libraries', 'library-design', 'library-path', 'library-project', 'libreadline', 'libreoffice', 'libreoffice-base', 'libreoffice-calc', 'librosa', 'librsvg', 'libs', 'libsass', 'libsigc++', 'libsodium', 'libssh2', 'libssl', 'libstatusbar', 'libstdc++', 'libsvm', 'libtiff', 'libtiff.net', 'libtool', 'libtool-xcode', 'libtooling', 'libtorrent', 'libusb', 'libusb-1.0', 'libuv', 'libvirt', 'libvlc', 'libwebsockets', 'libx264', 'libxml2', 'libxslt', 'libyuv', 'libz', 'libzip', 'license-key', 'licensing', 'lidar', 'lifecycle', 'lifecycleowner', 'liferay', 'liferay-6', 'liferay-theme', 'lifetime', 'ligature', 'light', 'lightbox', 'lightbox2', 'lightgbm', 'lighthouse', 'lighting', 'lightopenid', 'lightspeed', 'lighttpd', 'lightweight-charts', 'lightweight-stream-api', 'likely-unlikely', 'limit', 'limiting', 'limits', 'linaro', 'linderdaum', 'line', 'line-breaks', 'line-by-line', 'line-count', 'line-endings', 'line-intersection', 'line-numbers', 'line-segment', 'line-spacing', 'linea-pro', 'linear-algebra', 'linear-discriminant', 'linear-equation', 'linear-gradients', 'linear-interpolation', 'linear-programming', 'linear-regression', 'linearlayoutmanager', 'linearmodels', 'linechart', 'linefeed', 'linegraph', 'lines', 'lines-of-code', 'linestyle', 'linguistics', 'link-to', 'linkage', 'linkbutton', 'linked-list', 'linkedhashmap', 'linkedhashset', 'linkedin', 'linkedin-api', 'linker', 'linker-errors', 'linker-flags', 'linker-scripts', 'linkify', 'linkmovementmethod', 'linode', 'linphone', 'linq', 'linq-expressions', 'linq-extensions', 'linq-query-syntax', 'linq-to-dataset', 'linq-to-entities', 'linq-to-nhibernate', 'linq-to-objects', 'linq-to-sql', 'linq-to-xml', 'linqpad', 'linspace', 'lint', 'linux', 'linux-capabilities', 'linux-containers', 'linux-device-driver', 'linux-kernel', 'linux-mint', 'linux-namespaces', 'linux-x32-abi', 'lipo', 'liquibase', 'liquid', 'liquid-layout', 'liskov-substitution-principle', 'lisp', 'list', 'list-comprehension', 'list-initialization', 'listactivity', 'listadapter', 'listbox', 'listboxitem', 'listboxitems', 'listen', 'listener', 'listeners', 'listitem', 'listiterator', 'listjs', 'listpreference', 'listselectionlistener', 'listview', 'listviewitem', 'lit-element', 'lit-html', 'lite-server', 'literals', 'literate-programming', 'litespeed', 'lithium', 'live', 'live-preview', 'live-streaming', 'live-templates', 'live-tile', 'live-unit-tests', 'live-wallpaper', 'livecharts', 'livechat', 'livecycle', 'livedocx', 'liveedit', 'livequery', 'livereload', 'livescript', 'livesearch', 'liveservertestcase', 'llc', 'lld', 'lldb', 'llvm', 'llvm-3.0', 'llvm-4.0', 'llvm-c++-api', 'llvm-clang', 'llvm-codegen', 'llvm-ir', 'llvm-mca', 'lnk2001', 'lnk2005', 'lnk2019', 'load', 'load-balancing', 'load-data-infile', 'load-order', 'load-path', 'load-testing', 'load-time', 'load-time-weaving', 'loadable-component', 'loaddata', 'loaded', 'loader', 'loading', 'loadlibrary', 'loadnibnamed', 'loadview', 'lob', 'local', 'local-class', 'local-datastore', 'local-files', 'local-functions', 'local-shared-object', 'local-storage', 'local-variables', 'localauthentication', 'localbroadcastmanager', 'localdate', 'localdb', 'locale', 'localeconv', 'localhost', 'localizable.strings', 'localization', 'localnotification', 'localreport', 'locals', 'localsocket', 'localstack', 'localtime', 'localtunnel', 'location', 'location-based-service', 'location-client', 'location-href', 'location-provider', 'location-services', 'location-updates', 'locationlistener', 'locationmanager', 'lock-free', 'locked', 'lockfile', 'locking', 'lockless', 'lockout', 'locks', 'lockscreen', 'lockscreenwidget', 'locomotivejs', 'locust', 'lodash', 'log-level', 'log-viewer', 'log4cplus', 'log4cxx', 'log4j', 'log4j2', 'log4net', 'log4net-appender', 'log4net-configuration', 'logarithm', 'logback', 'logcat', 'logfile', 'logfile-analysis', 'logfiles', 'logging', 'logging-application-block', 'loggly', 'logic', 'logical-and', 'logical-operators', 'logical-or', 'login-control', 'login-script', 'loginradius', 'logistic-regression', 'logitech', 'loglog', 'logoff', 'logout', 'logrotate', 'logstash', 'loki', 'lombok', 'long-click', 'long-double', 'long-integer', 'long-long', 'long-polling', 'long-press', 'long-running-processes', 'longest-path', 'longtext', 'look-and-feel', 'lookahead', 'lookbehind', 'lookup', 'lookup-tables', 'loop-counter', 'loop-unrolling', 'loopback', 'loopback4', 'loopbackjs', 'looper', 'loopj', 'loops', 'loose-coupling', 'loss', 'loss-function', 'lossless-compression', 'lost-focus', 'lottie', 'lotus-domino', 'lotus-notes', 'loupe', 'low-latency', 'low-level', 'low-level-code', 'low-level-io', 'low-memory', 'lower-bound', 'lowercase', 'lpc', 'lpcwstr', 'lru', 'ls', 'lsa', 'lseek', 'lsof', 'lstm', 'lte', 'lti', 'lto', 'ltrace', 'lts', 'lua', 'lua-5.1', 'lua-5.2', 'lua-api', 'lua-c++-connection', 'lua-table', 'luainterface', 'luajit', 'luaplus', 'lucene', 'lucene.net', 'lucid', 'luhn', 'luigi', 'lumen', 'lumen-5.2', 'lumen-5.4', 'luxon', 'lvalue', 'lvalue-to-rvalue', 'lwip', 'lwjgl', 'lxml', 'lyft-api', 'lync', 'lync-2013', 'lync-client-sdk', 'lynx', 'lynxos', 'lyx', 'lz4', 'lzma', 'm', 'm2crypto', 'm2e', 'm2e-wtp', 'm2eclipse', 'm2m', 'm3u', 'm3u8', 'm4', 'm4a', 'mac-address', 'mac-app-store', 'mac-catalyst', 'macfuse', 'mach', 'mach-o', 'machine-code', 'machine-learning', 'machinekey', 'macos', 'macos-big-sur', 'macos-carbon', 'macos-catalina', 'macos-darkmode', 'macos-high-sierra', 'macos-mojave', 'macos-monterey', 'macos-sierra', 'macports', 'macromedia', 'macros', 'macvim', 'maf', 'mage', 'magento', 'magento-1.4', 'magento-1.6', 'magento-1.7', 'magento-1.8', 'magento-1.9', 'magento-2.0', 'magento2', 'magic-constants', 'magic-methods', 'magic-numbers', 'magic-string', 'magicalrecord', 'magickwand', 'magnetometer', 'magnific-popup', 'magnification', 'magnify', 'mahapps.metro', 'mahout', 'mail-form', 'mail-queue', 'mailchimp', 'mailchimp-api-v3.0', 'mailcore2', 'mailer', 'mailgun', 'mailing', 'mailkit', 'mailmerge', 'mailmessage', 'mailto', 'mailx', 'main-activity', 'main-method', 'mainbundle', 'mainframe', 'maintainability', 'maintenance-mode', 'mainwindow', 'make-shared', 'makefile', 'makemaker', 'makemessages', 'mako', 'malformed', 'malloc', 'malloc-history', 'malware', 'mamp', 'mamp-pro', 'manage.py', 'managed', 'managed-bean', 'managed-c++', 'managed-code', 'managed-directx', 'mandelbrot', 'mandrill', 'manifest', 'manifest-merging', 'manifest.cache', 'manifest.json', 'manifest.mf', 'manpage', 'mantis', 'mantissa', 'manual', 'manualresetevent', 'many-to-many', 'many-to-one', 'manytomanyfield', 'map-directions', 'map-function', 'map-projections', 'mapactivity', 'mapbender3', 'mapbox', 'mapbox-android', 'mapbox-gl', 'mapbox-gl-js', 'mapbox-marker', 'mapfragment', 'mapi', 'mapkit', 'mapkitannotation', 'mapped-drive', 'mapper', 'mapping', 'mapping-model', 'mappingexception', 'mapreduce', 'maproute', 'maps', 'mapsforge', 'mapstruct', 'margin', 'margins', 'mariadb', 'mariasql', 'marionette', 'markdown', 'markdownsharp', 'marker', 'marker-interfaces', 'markerclusterer', 'markers', 'market-basket-analysis', 'marklogic', 'markov', 'markov-chains', 'markup', 'markup-extensions', 'marmalade', 'marquee', 'marshalbyrefobject', 'marshalling', 'marshmallow', 'mashape', 'mask', 'masked-array', 'maskedinput', 'maskedtextbox', 'masking', 'masm', 'masonry', 'masonry-ios-osx', 'massif', 'massmail', 'masstransit', 'master-detail', 'master-pages', 'master-slave', 'mat', 'mat-file', 'mat-form-field', 'mat-input', 'mat-table', 'match', 'matcher', 'matchevaluator', 'matching', 'matchtemplate', 'material-components', 'material-components-android', 'material-components-web', 'material-design', 'material-design-in-xaml', 'material-design-lite', 'material-dialog', 'material-table', 'material-ui', 'materialize', 'math', 'math-functions', 'math.h', 'math.net', 'math.sqrt', 'mathcontext', 'mathematical-morphology', 'mathematical-optimization', 'mathjax', 'mathml', 'mathnet-numerics', 'matic', 'matlab', 'matlab-cvst', 'matlab-deployment', 'matlab-engine', 'matomo', 'matplotlib', 'matplotlib-basemap', 'matplotlib-venn', 'matrix', 'matrix-factorization', 'matrix-indexing', 'matrix-inverse', 'matrix-multiplication', 'matrixcursor', 'matroska', 'matter.js', 'maui', 'maven', 'maven-2', 'maven-3', 'maven-archetype', 'maven-assembly-plugin', 'maven-cargo', 'maven-central', 'maven-compiler-plugin', 'maven-embedder', 'maven-extension', 'maven-failsafe-plugin', 'maven-jar-plugin', 'maven-javadoc-plugin', 'maven-jaxb2-plugin', 'maven-jetty-plugin', 'maven-plugin', 'maven-resources-plugin', 'maven-shade-plugin', 'maven-site-plugin', 'maven-surefire-plugin', 'max', 'max-flow', 'maxdate', 'maximize', 'maxlength', 'maxmind', 'maxreceivedmessagesize', 'maya', 'mayavi', 'mb-convert-encoding', 'mbcs', 'mbeans', 'mbprogresshud', 'mbr', 'mbstring', 'mbtiles', 'mbunit', 'mcafee', 'mcmc', 'mcrypt', 'mcrypt-js', 'mcsession', 'mcustomscrollbar', 'md5', 'mda', 'mdc', 'mdf', 'mdi', 'mdichild', 'mdiparent', 'mdm', 'mdns', 'mean', 'mean-stack', 'mean.io', 'meanjs', 'measure', 'measurement', 'measurement-protocol', 'measurementformatter', 'mechanicalturk', 'mechanize', 'mechanize-python', 'media', 'media-library', 'media-player', 'media-queries', 'media-source', 'media-type', 'mediacontroller', 'mediaelement', 'mediaelement.js', 'mediaextractor', 'mediafire', 'mediamuxer', 'median', 'median-of-medians', 'mediaplayback', 'mediarecorder', 'mediarecorder-api', 'mediasession', 'mediasoup', 'mediastore', 'mediastream', 'mediator', 'mediatr', 'mediawiki', 'mediawiki-api', 'medical', 'medium-trust', 'meego', 'mef', 'megabyte', 'megamenu', 'melonjs', 'mem.-efficient-linkedlist', 'membase', 'member', 'member-functions', 'member-hiding', 'member-initialization', 'member-pointers', 'member-variables', 'members', 'membership', 'membership-provider', 'memcached', 'memcachier', 'memcheck', 'memcmp', 'memcpy', 'memmove', 'memo', 'memoization', 'memory', 'memory-access', 'memory-address', 'memory-alignment', 'memory-bandwidth', 'memory-barriers', 'memory-consumption', 'memory-corruption', 'memory-efficient', 'memory-fences', 'memory-footprint', 'memory-fragmentation', 'memory-layout', 'memory-leak-detector', 'memory-leaks', 'memory-limit', 'memory-management', 'memory-mapped-files', 'memory-mapping', 'memory-model', 'memory-optimization', 'memory-overcommitment', 'memory-overhead', 'memory-pool', 'memory-pressure', 'memory-profiling', 'memory-safety', 'memory-segmentation', 'memorycache', 'memorystream', 'memoryview', 'memset', 'memurai', 'menu', 'menu-items', 'menubar', 'menuitem', 'menuitem-selection', 'menustrip', 'mercator', 'mercurial', 'mercurial-hook', 'merf', 'merge', 'mergeddictionaries', 'mergesort', 'mermaid', 'mern', 'mersenne-twister', 'mesa', 'mesh', 'mesh-network', 'mesi', 'message', 'message-driven-bean', 'message-forwarding', 'message-passing', 'message-pump', 'message-queue', 'message-type', 'messagebox', 'messagebroker', 'messagedialog', 'messagepack', 'messageui', 'messaging', 'messenger', 'meta', 'meta-boxes', 'meta-inf', 'meta-tags', 'metaclass', 'metadata', 'metafile', 'metaio', 'metal', 'metal-performance-shaders', 'metalkit', 'metamask', 'metamodel', 'metaprogramming', 'metaspace', 'metatag', 'metaweblog', 'meteor', 'meteor-autoform', 'meteor-collection2', 'meteor-react', 'meteorite', 'meter', 'method-call', 'method-chaining', 'method-declaration', 'method-dispatch', 'method-group', 'method-hiding', 'method-reference', 'method-resolution-order', 'method-signature', 'method-swizzling', 'methodbase', 'methodhandle', 'methodinfo', 'methodology', 'methods', 'metric', 'metrics', 'metrics-spring', 'metro-bundler', 'metronic', 'mex', 'mezzanine', 'mezzio', 'mfc', 'mfcc', 'mfi', 'mfmailcomposer', 'mfmailcomposeviewcontroller', 'mfmessagecomposeviewcontroller', 'mgtwitterengine', 'mgwt', 'micro-frontend', 'micro-optimization', 'micro-orm', 'microbenchmark', 'microchip', 'microcontroller', 'microdata', 'microformats', 'microkernel', 'microphone', 'microprocessors', 'microprofile', 'micropython', 'microservices', 'microsoft-cdn', 'microsoft-cognitive', 'microsoft-cpp-unit-test', 'microsoft-dynamics', 'microsoft-edge', 'microsoft-fakes', 'microsoft-graph-api', 'microsoft-metro', 'microsoft-sync-framework', 'microsoft-teams', 'microsoft-ui-automation', 'microsoft-web-deploy', 'microsoft.build', 'microsoft.codeanalysis', 'microtime', 'middleman', 'middleware', 'midi', 'midi-instrument', 'midi.js', 'midlet', 'mifare', 'miglayout', 'migradoc', 'migrate', 'migration', 'mikro-orm', 'milliseconds', 'mime', 'mime-mail', 'mime-message', 'mime-types', 'min', 'min-heap', 'mindate', 'mindmapping', 'mingw', 'mingw-w64', 'mingw32', 'mini-css-extract-plugin', 'miniconda', 'minidom', 'minidump', 'minifiedjs', 'minifilter', 'minify', 'minikube', 'minima', 'minimal-apis', 'minimatch', 'minimax', 'minimization', 'minimize', 'minimized', 'minimongo', 'minimum', 'minimum-size', 'minimum-spanning-tree', 'minio', 'mink', 'minmatch', 'minmax', 'mintty', 'minute', 'mips', 'mirror', 'mirroring', 'mismatch', 'misra', 'missing-cookies', 'missing-data', 'missing-symbols', 'missingmethodexception', 'miui', 'mix-blend-mode', 'mixed', 'mixed-content', 'mixed-mode', 'mixed-programming', 'mixed-type', 'mixer', 'mixing', 'mixins', 'mixpanel', 'mjml', 'mjpeg', 'mjsip', 'mkannotation', 'mkannotationview', 'mkbundle', 'mkcoordinateregion', 'mkcoordinatespan', 'mkdir', 'mklocalsearch', 'mklocalsearchrequest', 'mkmapitem', 'mkmaprect', 'mkmapsnapshotter', 'mkmapview', 'mkmapviewdelegate', 'mkmf', 'mkoverlay', 'mkpinannotationview', 'mkpointannotation', 'mkpolygon', 'mkpolyline', 'mkreversegeocoder', 'mksh', 'mkstemp', 'mkstorekit', 'mktime', 'mkuserlocation', 'mkv', 'mlab', 'mlens', 'mlflow', 'mlxtend', 'mmap', 'mmc', 'mmdrawercontroller', 'mmenu', 'mms', 'mnemonics', 'mnist', 'mo', 'mobfox', 'mobile', 'mobile-ad-mediation', 'mobile-application', 'mobile-browser', 'mobile-chrome', 'mobile-country-code', 'mobile-development', 'mobile-devices', 'mobile-phones', 'mobile-safari', 'mobile-webkit', 'mobile-website', 'mobiledevice.framework', 'mobileprovision', 'mobilewebforms', 'mobione', 'mobipocket', 'mobx', 'mobx-react', 'mobx-state-tree', 'moc', 'mocha.js', 'mockery', 'mocking', 'mockito', 'mockk', 'mockmvc', 'mockrestserviceserver', 'mockserver', 'mockups', 'mockwebserver', 'mod-dav-svn', 'mod-deflate', 'mod-fastcgi', 'mod-fcgid', 'mod-jk', 'mod-php', 'mod-proxy', 'mod-proxy-balancer', 'mod-rewrite', 'mod-security', 'mod-verto', 'mod-wsgi', 'modal-dialog', 'modal-sheet', 'modalpopupextender', 'modalviewcontroller', 'modbus', 'modbus-tcp', 'mode', 'model', 'model-associations', 'model-binding', 'model-validation', 'model-view-controller', 'modeladmin', 'modelandview', 'modelattribute', 'modelbinders', 'modeless', 'modelform', 'modeling', 'models', 'modelstate', 'modem', 'modern-languages', 'modern-runtime', 'modernizr', 'modeshape', 'modi', 'modified-preorder-tree-t', 'modifier', 'modifier-key', 'modular', 'modular-design', 'modularity', 'modularization', 'modulation', 'module', 'module-export', 'module-info', 'module-map', 'module-packaging', 'module-path', 'module-pattern', 'module.exports', 'modulefile', 'modulenotfounderror', 'modulo', 'modulus', 'modx', 'modx-revolution', 'mogenerator', 'mojibake', 'mojolicious', 'moles', 'moment-timezone', 'momentjs', 'momentum', 'monaco-editor', 'monad-transformers', 'monads', 'mondrian', 'money-format', 'mongo-collection', 'mongo-jackson-mapper', 'mongo-java', 'mongo-java-driver', 'mongodb', 'mongodb-.net-driver', 'mongodb-aggregation', 'mongodb-atlas', 'mongodb-csharp-2.0', 'mongodb-java', 'mongodb-php', 'mongodb-query', 'mongodb-realm', 'mongoengine', 'mongohq', 'mongojs', 'mongolian-vertical-script', 'mongoosastic', 'mongoose', 'mongoose-models', 'mongoose-plugins', 'mongoose-populate', 'mongoose-schema', 'mongoose-web-server', 'mongoskin', 'moniker', 'monit', 'monitor', 'monitoring', 'monkey-testing', 'monkeypatching', 'monkeyrunner', 'monkeytalk', 'mono', 'mono.addins', 'mono.cecil', 'monocross', 'monodevelop', 'monogame', 'monoids', 'monolog', 'monomac', 'monorepo', 'monospace', 'monostate', 'monotouch.dialog', 'montecarlo', 'monthcalendar', 'moodle', 'moonlight', 'mootools', 'mopub', 'moq', 'moq-3', 'moralis', 'morelinq', 'morgan', 'morphic', 'morphological-analysis', 'morris.js', 'mosaic', 'mosca', 'moshi', 'moss', 'most-vexing-parse', 'motion', 'motion-blur', 'motion-detection', 'motionevent', 'moto', 'moto-360', 'motorola', 'mount', 'mouse', 'mouse-coordinates', 'mouse-cursor', 'mouse-hook', 'mouse-position', 'mouseclick-event', 'mouseenter', 'mouseevent', 'mousehover', 'mouseleave', 'mouselistener', 'mousemove', 'mouseout', 'mouseover', 'mousetrap', 'mouseup', 'mousewheel', 'move', 'move-assignment-operator', 'move-constructor', 'move-semantics', 'movie', 'movieplayer', 'moviepy', 'movilizer', 'moving-average', 'mox', 'moxy', 'moya', 'mozilla', 'mp3', 'mp4', 'mp4parser', 'mpandroidchart', 'mpavcontroller', 'mpdf', 'mpeg', 'mpeg-2', 'mpeg-4', 'mpeg-dash', 'mpf', 'mpi', 'mpi-rma', 'mpi4py', 'mpiexec', 'mplot3d', 'mpmediaitem', 'mpmediapickercontroller', 'mpmediaplayercontroller', 'mpmediaquery', 'mpmovieplayer', 'mpmovieplayercontroller', 'mpmoviewcontroller', 'mpmusicplayercontroller', 'mpnowplayinginfocenter', 'mpremotecommandcenter', 'mprotect', 'mptt', 'mpu', 'mpvolumeview', 'mq', 'mqtt', 'mqueue', 'mrjob', 'ms-access', 'ms-access-2007', 'ms-access-2013', 'ms-media-foundation', 'ms-office', 'ms-wopi', 'ms-word', 'msal', 'msbuild', 'msbuild-4.0', 'msbuild-projectreference', 'msbuild-task', 'msbuild-wpp', 'msbuildcommunitytasks', 'mscapi', 'mschart', 'mscoco', 'mscorlib', 'msdeploy', 'msdev', 'msdn', 'msdtc', 'mse', 'mser', 'msg', 'msgpack', 'mshtml', 'msisdn', 'msmq', 'msmqintegrationbinding', 'msodbcsql17', 'msp430', 'mspec', 'mspgcc', 'mssql-jdbc', 'mstest', 'msvc12', 'msvcr100.dll', 'msvcr90d.dll', 'msvcrt', 'msxml', 'msxml3', 'msxml6', 'msys', 'msys2', 'mtj', 'mtom', 'mtp', 'mtproto', 'mtu', 'multer', 'multer-s3', 'multi-document', 'multi-factor-authentication', 'multi-index', 'multi-module', 'multi-page-application', 'multi-project', 'multi-query', 'multi-select', 'multi-step', 'multi-tenant', 'multi-touch', 'multi-upload', 'multi-user', 'multi-value-dictionary', 'multi-window', 'multiautocompletetextview', 'multibinding', 'multibyte', 'multibyte-characters', 'multibyte-functions', 'multicast', 'multicastdelegate', 'multiclass-classification', 'multicore', 'multidimensional-array', 'multifile-uploader', 'multilabel-classification', 'multiline', 'multilinestring', 'multilingual', 'multilingual-app-toolkit', 'multimap', 'multimedia', 'multimethod', 'multipage', 'multipart', 'multipart-alternative', 'multipartform-data', 'multipeer-connectivity', 'multiplatform', 'multiplayer', 'multiple-browsers', 'multiple-choice', 'multiple-columns', 'multiple-conditions', 'multiple-constructors', 'multiple-databases', 'multiple-definition-error', 'multiple-dispatch', 'multiple-domains', 'multiple-entries', 'multiple-file-upload', 'multiple-forms', 'multiple-gpu', 'multiple-inheritance', 'multiple-instances', 'multiple-interface-implem', 'multiple-languages', 'multiple-monitors', 'multiple-projects', 'multiple-resultsets', 'multiple-select', 'multiple-sites', 'multiple-tables', 'multiple-users', 'multiple-versions', 'multipleselection', 'multiplexing', 'multiplication', 'multiprocess', 'multiprocessing', 'multiprocessing-manager', 'multiprocessor', 'multirow', 'multiscreen', 'multiset', 'multitargeting', 'multitasking', 'multitexturing', 'multithreading', 'multiton', 'multiuserchat', 'multiview', 'multiway-tree', 'munin', 'mupdf', 'murmurhash', 'muse', 'music-notation', 'musl', 'mustache', 'mutability', 'mutable', 'mutagen', 'mutation', 'mutation-events', 'mutation-observers', 'mutation-testing', 'mutators', 'mute', 'mutex', 'mutual-authentication', 'mutual-exclusion', 'mutual-recursion', 'muxer', 'mvc-editor-templates', 'mvccontrib-testhelper', 'mvcgrid', 'mvchtmlstring', 'mvcmailer', 'mvcsitemapprovider', 'mvp', 'mvvm', 'mvvm-light', 'mvvmcross', 'mvxbind', 'mwphotobrowser', 'mx-record', 'mxgraph', 'mxit', 'mxmlc', 'mxnet', 'mybatis', 'mybb', 'myfaces', 'myget', 'myisam', 'mylocationoverlay', 'mypy', 'mysema', 'myspace', 'mysql', 'mysql-5.7', 'mysql-8.0', 'mysql-connect', 'mysql-connector', 'mysql-connector-python', 'mysql-error-1044', 'mysql-error-1052', 'mysql-error-1064', 'mysql-error-1146', 'mysql-error-1242', 'mysql-insert-id', 'mysql-json', 'mysql-management', 'mysql-num-rows', 'mysql-parameter', 'mysql-pconnect', 'mysql-python', 'mysql-real-escape-string', 'mysql-workbench', 'mysql.sock', 'mysqli', 'mysqli-multi-query', 'mysqljs', 'mysqlnd', 'n', 'n-api', 'n-ary-tree', 'n-gram', 'n-layer', 'n-tier-architecture', 'n-way-merge', 'nacl-cryptography', 'naivebayes', 'name-clash', 'name-collision', 'name-decoration', 'name-hiding', 'name-length', 'name-lookup', 'name-mangling', 'named', 'named-entity-recognition', 'named-parameters', 'named-pipes', 'named-query', 'namedtuple', 'nameko', 'nameof', 'names', 'namespace-package', 'namespaces', 'naming', 'naming-conventions', 'nan', 'nancy', 'nano', 'nanohttpd', 'nanomsg', 'nanotime', 'nant', 'nao-robot', 'narrowing', 'narwhal', 'nas', 'nashorn', 'nasm', 'nat', 'nat-traversal', 'native', 'native-activity', 'native-ads', 'native-base', 'native-code', 'native-methods', 'native-module', 'native-web-component', 'nativeapplication', 'nativecall', 'nativescript', 'nativescript-plugin', 'natural-sort', 'naturallyspeaking', 'natvis', 'naudio', 'nautilus', 'nav', 'navbar', 'navigatetourl', 'navigation', 'navigation-architecture', 'navigation-drawer', 'navigation-properties', 'navigation-style', 'navigationbar', 'navigationcontroller', 'navigationitem', 'navigationview', 'navigator', 'navision', 'nbconvert', 'nbformat', 'ncbi', 'nco', 'nconf', 'ncurses', 'ndbunit', 'ndc', 'ndef', 'ndepend', 'ndis', 'ndk-build', 'nearest-neighbor', 'nearlyfreespeech', 'neat', 'negate', 'negation', 'negative-lookahead', 'negative-lookbehind', 'negative-number', 'negative-zero', 'negotiate', 'nehotspothelper', 'neko', 'nem', 'nemerle', 'neo4j', 'neo4j-driver', 'neo4j-ogm-bolt-driver', 'neo4jclient', 'neon', 'neovim', 'nerddinner', 'nest', 'nested', 'nested-class', 'nested-documents', 'nested-forms', 'nested-function', 'nested-gridview', 'nested-groups', 'nested-if', 'nested-lists', 'nested-loops', 'nested-reference', 'nested-routes', 'nested-set-model', 'nested-sets', 'nestedlayout', 'nestedscrollview', 'nestjs', 'nestjs-passport', 'net.tcp', 'netbeans', 'netbeans-6.9', 'netbeans-7', 'netbeans-7.2', 'netbeans-7.3', 'netbeans-7.4', 'netbeans-8.1', 'netbeans-platform', 'netbeans-plugins', 'netbeans6.5', 'netbeans6.8', 'netbios', 'netbsd', 'netcdf', 'netdatacontractserializer', 'netduino', 'netfilter', 'netflix', 'netflix-eureka', 'netflix-feign', 'netflix-zuul', 'nethack', 'netlify', 'netlify-cms', 'netlink', 'netmsmqbinding', 'netnamedpipebinding', 'netsh', 'netstat', 'netsuite', 'nettcpbinding', 'nette', 'nettopologysuite', 'netty', 'network-connection', 'network-drive', 'network-flow', 'network-interface', 'network-printers', 'network-programming', 'network-protocols', 'network-scan', 'network-traffic', 'networkcredentials', 'networkd3', 'networking', 'networkonmainthread', 'networkstream', 'networkx', 'neupy', 'neural-network', 'neuraxle', 'neutrino', 'nevpnmanager', 'new-expression', 'new-operator', 'new-style-class', 'newlib', 'newline', 'newrelic', 'newsletter', 'newsstand-kit', 'newtons-method', 'next', 'next-auth', 'next-generation-plugin', 'next-images', 'next-link', 'next-redux-wrapper', 'next-router', 'next.js', 'nextgen-gallery', 'nextjs-image', 'nextsibling', 'nexus', 'nexus-10', 'nexus-4', 'nexus-5', 'nexus-7', 'nexus-one', 'nexus-prisma', 'nexus-s', 'nexus3', 'nexus6', 'nfa', 'nfc', 'nfc-p2p', 'nft', 'ng-animate', 'ng-annotate', 'ng-bind-html', 'ng-bootstrap', 'ng-class', 'ng-content', 'ng-controller', 'ng-file-upload', 'ng-grid', 'ng-map', 'ng-messages', 'ng-options', 'ng-packagr', 'ng-show', 'ng-style', 'ng-switch', 'ng-template', 'ng-upgrade', 'ng-view', 'ng2-charts', 'ng2-dragula', 'ngcloak', 'ngcordova', 'ngdescribe', 'ngen', 'ngfor', 'nginx', 'nginx-cache', 'nginx-config', 'nginx-location', 'nginx-reverse-proxy', 'ngmocke2e', 'ngmodel', 'ngresource', 'ngrok', 'ngroute', 'ngrx', 'ngrx-effects', 'ngrx-entity', 'ngrx-store', 'ngtable', 'ngx-bootstrap', 'ngx-datatable', 'ngx-leaflet', 'ngx-translate', 'nhibernate', 'nhibernate-caches', 'nhibernate-cascade', 'nhibernate-mapping', 'nhibernate-mapping-by-code', 'nhunspell', 'nib', 'nic', 'nice', 'nicedit', 'nightly-build', 'nightmare', 'nightwatch.js', 'nim-lang', 'nimbus', 'nine-patch', 'ninja', 'ninject', 'ninject-2', 'ninject-3', 'ninject-conventions', 'ninject.web.mvc', 'nio', 'nio2', 'nios', 'nivo-slider', 'nl2br', 'nlog', 'nlog-configuration', 'nlohmann-json', 'nlopt', 'nlp', 'nlp-question-answering', 'nltk', 'nm', 'nmake', 'nmath', 'nme', 'nmi', 'no-framework', 'no-op', 'no-www', 'noborder', 'nock', 'noclassdeffounderror', 'nodatime', 'node-addon-api', 'node-amqp', 'node-async', 'node-canvas', 'node-celery', 'node-cluster', 'node-commander', 'node-cron', 'node-crypto', 'node-csv-parse', 'node-debugger', 'node-fetch', 'node-ffi', 'node-fibers', 'node-firebird', 'node-forge', 'node-gyp', 'node-html-pdf', 'node-http-proxy', 'node-https', 'node-imagemagick', 'node-inspector', 'node-ipc', 'node-modules', 'node-mongodb-native', 'node-mssql', 'node-mysql', 'node-mysql2', 'node-native-addon', 'node-notifier', 'node-oracledb', 'node-orm2', 'node-pdfkit', 'node-postgres', 'node-promisify', 'node-red', 'node-redis', 'node-request', 'node-rsa', 'node-sass', 'node-schedule', 'node-serialport', 'node-sqlite3', 'node-streams', 'node-supervisor', 'node-telegram-bot-api', 'node-uuid', 'node-vm2', 'node-webkit', 'node-worker-threads', 'node-xmpp', 'node.js-addon', 'node.js-connect', 'node.js-domains', 'node.js-fs', 'node.js-nan', 'node.js-stream', 'node.js-tape', 'nodebox', 'nodeclipse', 'nodegit', 'nodejitsu', 'nodejs-server', 'nodejs-stream', 'nodelist', 'nodemailer', 'nodemon', 'nodes', 'nodeunit', 'nodevalue', 'nodevm', 'nodiscard', 'noexcept', 'nohup', 'noise', 'noise-reduction', 'nokogiri', 'nolock', 'nomachine-nx', 'nomenclature', 'non-admin', 'non-alphanumeric', 'non-ascii-characters', 'non-deterministic', 'non-greedy', 'non-latin', 'non-lazy-ptr', 'non-member-functions', 'non-nullable', 'non-renewing-subscription', 'non-repeatable-read', 'non-static', 'non-type', 'non-type-template-parameter', 'non-uniform-distribution', 'non-volatile', 'nonatomic', 'nonblocking', 'nonce', 'noncopyable', 'nonetype', 'nonlinear-optimization', 'nonserializedattribute', 'nopcommerce', 'noreturn', 'normal-distribution', 'normalization', 'normalize', 'normalize-css', 'normalizr', 'normals', 'noscript', 'nose', 'nose2', 'nosetests', 'nosql', 'nosql-injection', 'nosuchfieldexception', 'nosuchmethoderror', 'not-exists', 'not-operator', 'notation', 'notepad++', 'notification-area', 'notification-channel', 'notification-listener', 'notificationcenter', 'notificationmanager', 'notifications', 'notify', 'notifydatasetchanged', 'notifyicon', 'notimplementedexception', 'notin', 'notnull', 'notorm', 'notsupportedexception', 'nouislider', 'novell', 'noweb', 'nowjs-sockets', 'nowrap', 'np-hard', 'npgsql', 'npm', 'npm-audit', 'npm-build', 'npm-cache', 'npm-ci', 'npm-config', 'npm-install', 'npm-link', 'npm-live-server', 'npm-login', 'npm-package', 'npm-private-modules', 'npm-publish', 'npm-registry', 'npm-run', 'npm-scripts', 'npm-shrinkwrap', 'npm-start', 'npm-update', 'npm-workspaces', 'npmignore', 'npmjs', 'npoco', 'npoi', 'npx', 'nrwl', 'nrwl-nx', 'nsalert', 'nsanimation', 'nsapplication', 'nsapptransportsecurity', 'nsarchiving', 'nsarray', 'nsarraycontroller', 'nsassert', 'nsattributedstring', 'nsattributedstringkey', 'nsautoreleasepool', 'nsbatchdeleterequest', 'nsbezierpath', 'nsblockoperation', 'nsbox', 'nsbundle', 'nsbutton', 'nscache', 'nscalendar', 'nscell', 'nscharacterset', 'nscoder', 'nscoding', 'nscollectionview', 'nscollectionviewflowlayout', 'nscollectionviewitem', 'nscolor', 'nscondition', 'nscopying', 'nscursor', 'nsd', 'nsdata', 'nsdatadetector', 'nsdate', 'nsdatecomponents', 'nsdateformatter', 'nsdatepicker', 'nsdecimalnumber', 'nsdictionary', 'nsdocument', 'nsdocumentdirectory', 'nsdragginginfo', 'nsenumerator', 'nserror', 'nservicebus', 'nsevent', 'nsexception', 'nsexpression', 'nsfastenumeration', 'nsfetchedresultscontroller', 'nsfetchrequest', 'nsfilecoordinator', 'nsfilehandle', 'nsfilemanager', 'nsfilepresenter', 'nsfilewrapper', 'nsfont', 'nshashtable', 'nshield', 'nshomedirectory', 'nshttpcookie', 'nshttpurlresponse', 'nsimage', 'nsimageview', 'nsindexpath', 'nsindexset', 'nsinputstream', 'nsinteger', 'nsinvocation', 'nsjsonserialization', 'nskeyedarchiver', 'nskeyedunarchiver', 'nslayoutconstraint', 'nslayoutmanager', 'nslocale', 'nslocalizedstring', 'nslock', 'nslog', 'nsmanagedobject', 'nsmanagedobjectcontext', 'nsmeasurementformatter', 'nsmenu', 'nsmenuitem', 'nsmetadataquery', 'nsmutablearray', 'nsmutableattributedstring', 'nsmutabledata', 'nsmutabledictionary', 'nsmutableorderedset', 'nsmutableset', 'nsmutablestring', 'nsmutableurlrequest', 'nsnetservice', 'nsnetservicebrowser', 'nsnotification', 'nsnotificationcenter', 'nsnotifications', 'nsnull', 'nsnumber', 'nsnumberformatter', 'nsobject', 'nsopengl', 'nsopenglview', 'nsopenpanel', 'nsoperation', 'nsoperationqueue', 'nsorderedset', 'nsoutlineview', 'nsoutputstream', 'nspanel', 'nsparagraphstyle', 'nspasteboard', 'nspathcontrol', 'nspersistentcloudkitcontainer', 'nspersistentdocument', 'nspersistentstore', 'nspipe', 'nspopover', 'nspopupbuttoncell', 'nspredicate', 'nspredicateeditor', 'nsprogress', 'nsprogressindicator', 'nsproxy', 'nsrange', 'nsrangeexception', 'nsregularexpression', 'nsresponder', 'nsrunloop', 'nss', 'nssavepanel', 'nsscanner', 'nsscroller', 'nsscrollview', 'nssecurecoding', 'nsset', 'nsshadow', 'nsslider', 'nssm', 'nssortdescriptor', 'nsspeechrecognizer', 'nssplitview', 'nsstatusbar', 'nsstatusitem', 'nsstream', 'nsstring', 'nsstringencoding', 'nstablecolumn', 'nstableview', 'nstableviewcell', 'nstask', 'nstextattachment', 'nstextfield', 'nstextfieldcell', 'nstextstorage', 'nstextview', 'nsthread', 'nstimeinterval', 'nstimer', 'nstimezone', 'nstitlebaraccessoryviewcontroller', 'nstokenfield', 'nstoolbar', 'nstoolbaritem', 'nstrackingarea', 'nsubiquitouskeyvaluestore', 'nsubstitute', 'nsuinteger', 'nsundomanager', 'nsurl', 'nsurlcache', 'nsurlcomponents', 'nsurlconnection', 'nsurlconnectiondelegate', 'nsurlcredential', 'nsurlerrordomain', 'nsurlprotocol', 'nsurlrequest', 'nsurlrequestcachepolicy', 'nsurlsession', 'nsurlsessionconfiguration', 'nsurlsessiondatatask', 'nsurlsessiondownloadtask', 'nsurlsessiontask', 'nsuseractivity', 'nsuserdefaults', 'nsusernotification', 'nsvalue', 'nsvaluetransformer', 'nsview', 'nsviewcontroller', 'nsvisualeffectview', 'nswag', 'nswindow', 'nswindowcontroller', 'nsworkspace', 'nsxml', 'nsxmlparser', 'nsxpcconnection', 'nszombie', 'nszombieenabled', 'nt-native-api', 'ntdll', 'ntfs', 'ntfs-mft', 'nth-element', 'nth-root', 'ntlm', 'ntlm-authentication', 'ntp', 'ntvs', 'nuclide-editor', 'nuget', 'nuget-package', 'nuget-package-restore', 'nul', 'null', 'null-check', 'null-coalescing', 'null-coalescing-operator', 'null-conditional-operator', 'null-pointer', 'null-propagation-operator', 'null-terminated', 'nullable', 'nullable-reference-types', 'nullif', 'nullpointerexception', 'nullptr', 'nullreferenceexception', 'nullsafe', 'numa', 'numba', 'numba-pro', 'number-formatting', 'number-recognition', 'number-theory', 'numberformatexception', 'numberformatter', 'numbers', 'numeric', 'numeric-conversion', 'numeric-input', 'numeric-keypad', 'numeric-limits', 'numerical', 'numerical-analysis', 'numerical-computing', 'numerical-integration', 'numerical-methods', 'numexpr', 'numpad', 'numpy', 'numpy-ndarray', 'numpy-slicing', 'numpydoc', 'nunit', 'nunit-2.5', 'nunit-2.6', 'nunit-3.0', 'nunit-addins', 'nunjucks', 'nurbs', 'nusoap', 'nuxeo', 'nuxt.js', 'nuxtjs', 'nuxtjs3', 'nv12-nv21', 'nvapi', 'nvarchar', 'nvcc', 'nvd3.js', 'nvda', 'nvidia', 'nvidia-docker', 'nvidia-jetson-nano', 'nvm', 'nvm-windows', 'nvrtc', 'nw.js', 'nwjs', 'nxt', 'nyc', 'oauth', 'oauth-2.0', 'oauth-provider', 'oauth2app', 'oauth2client', 'oauth2orize', 'ob-start', 'obd-ii', 'obex', 'obfuscation', 'objc-bridging-header', 'objc-category', 'objc-protocol', 'objdump', 'object', 'object-address', 'object-construction', 'object-design', 'object-detection', 'object-detection-api', 'object-files', 'object-fit', 'object-graph', 'object-identity', 'object-initializer', 'object-initializers', 'object-layout', 'object-lifetime', 'object-literal', 'object-model', 'object-notation', 'object-object-mapping', 'object-oriented-analysis', 'object-oriented-database', 'object-properties', 'object-reference', 'object-serialization', 'object-slicing', 'object-tag', 'object-to-string', 'object.observe', 'objectanimator', 'objectcontext', 'objectdataprovider', 'objectdatasource', 'objectdisposedexception', 'objectfactory', 'objectid', 'objectify', 'objectinputstream', 'objectinstantiation', 'objection.js', 'objective-c++', 'objective-c-2.0', 'objective-c-blocks', 'objective-c-category', 'objective-c-literals', 'objective-c-nullability', 'objective-c-protocol', 'objective-c-runtime', 'objective-c-swift-bridge', 'objective-j', 'objectlistview', 'objectmapper', 'objectoutputstream', 'objectpool', 'objloader', 'obout', 'observable', 'observablecollection', 'observablehq', 'observableobject', 'observer-pattern', 'observers', 'obsolete', 'ocaml', 'occasionallyconnected', 'oclif', 'ocmock', 'ocmockito', 'ocpjp', 'ocr', 'octal', 'octave', 'octobercms', 'octopus', 'octree', 'oculus', 'ocunit', 'ocx', 'odac', 'odata', 'odata-v4', 'odbc', 'ode', 'odftoolkit', 'odm', 'odoo', 'odoo-10', 'odoo-11', 'odoo-8', 'odoo-9', 'odoo-mobile', 'odoo-view', 'odp.net', 'odp.net-managed', 'oembed', 'ofbiz', 'off-by-one', 'off-canvas-menu', 'off-screen', 'office-2007', 'office-2016', 'office-addins', 'office-automation', 'office-interop', 'office-js', 'office-ui-fabric', 'office-ui-fabric-react', 'office365', 'office365api', 'offline', 'offline-browsing', 'offline-caching', 'offline-mode', 'offline-storage', 'offlineapps', 'offloading', 'offset', 'offsetheight', 'offsetof', 'ofstream', 'ogg', 'ogg-theora', 'oggvorbis', 'ogre', 'ojdbc', 'okd', 'okhttp', 'okio', 'okta', 'olap', 'ole', 'ole-automation', 'oledb', 'oledbconnection', 'oleview', 'omap', 'omniauth', 'omnicomplete', 'omnipay', 'omnisharp', 'on-demand-resources', 'on-duplicate-key', 'on-screen-keyboard', 'on-the-fly', 'onactivityresult', 'onbackpressed', 'onbeforeprint', 'onbeforeunload', 'onblur', 'onchange', 'oncheckedchanged', 'onclick', 'onclicklistener', 'oncreate', 'ondestroy', 'ondraw', 'one-definition-rule', 'one-hot-encoding', 'one-time-password', 'one-to-many', 'one-to-one', 'onedrive', 'onejar', 'onepage-checkout', 'oneplusone', 'oneplustwo', 'onerror', 'ones-complement', 'onesignal', 'oneupuploaderbundle', 'onfocus', 'onion-architecture', 'onitemclick', 'onitemclicklistener', 'onkeydown', 'onkeypress', 'onkeyup', 'online-compilation', 'online-game', 'onlinebanking', 'onload', 'onload-event', 'onlongclicklistener', 'onmeasure', 'onmousedown', 'onmousemove', 'onmouseout', 'onmouseover', 'onmouseup', 'onpaint', 'onpause', 'onready', 'onresize', 'onrestoreinstancestate', 'onresume', 'onscroll', 'onscrolllistener', 'onselect', 'onsen-ui', 'onstart', 'onsubmit', 'ontology', 'ontouchlistener', 'onunload', 'onvif', 'ooad', 'oocss', 'oodb', 'oolong-engine', 'oop', 'opacity', 'opaque-pointers', 'opaque-result-type', 'opc', 'opcache', 'opcode', 'opcode-cache', 'opcodes', 'open-closed-principle', 'open-generics', 'open-nfc', 'open-source', 'open-telemetry', 'open-with', 'openacc', 'openal', 'openapi', 'openapi-generator', 'openblas', 'openbsd', 'opencart', 'opencart2.x', 'opencl', 'opencl.net', 'opencore', 'opencover', 'opencpu', 'opencsv', 'opencv', 'opencv-features2d', 'opencv-mat', 'opencv-python', 'opencv-stitching', 'opencv3.0', 'opencv3.1', 'opencv4android', 'opendatabase', 'opendir', 'openears', 'openejb', 'openembedded', 'openerp-7', 'openerp-8', 'openexr', 'openfeign', 'openfeint', 'openfiledialog', 'openfire', 'openframeworks', 'opengl', 'opengl-3', 'opengl-4', 'opengl-compat', 'opengl-es', 'opengl-es-2.0', 'opengl-es-3.0', 'openh264', 'openhtmltopdf', 'openid', 'openid-connect', 'openiddict', 'openjdk-11', 'openjfx', 'openjpa', 'openkinect', 'openlayers', 'openlayers-3', 'openldap', 'openmap', 'openmaptiles', 'openmax', 'openmp', 'openmpi', 'opennlp', 'openoffice-writer', 'openoffice.org', 'openonload', 'openpop', 'openpyxl', 'opensaml', 'openscenegraph', 'openseadragon', 'opensearch', 'openshift', 'openshift-cartridge', 'openshift-client-tools', 'openshift-origin', 'openslide', 'openssh', 'openssl', 'openstack', 'openstack-glance', 'openstreetmap', 'opensuse', 'opentok', 'opentracing', 'opentsdb', 'opentype', 'openurl', 'openvpn', 'openvx', 'openweathermap', 'openwrt', 'openxml', 'openxml-sdk', 'opera', 'opera-extension', 'opera-mini', 'opera-mobile', 'operands', 'operating-system', 'operation', 'operationcontext', 'operationcontract', 'operations', 'operator-arrow-star', 'operator-keyword', 'operator-overloading', 'operator-precedence', 'operators', 'opml', 'oppo', 'optaplanner', 'optgroup', 'opticalflow', 'optimistic-locking', 'optimization', 'optimus', 'option-set', 'option-type', 'optional-arguments', 'optional-chaining', 'optional-parameters', 'optionmenu', 'optparse', 'opus', 'or-operator', 'or-tools', 'ora-00911', 'ora-01036', 'ora-01438', 'ora-01722', 'ora-01858', 'ora-03114', 'oracle', 'oracle-adf', 'oracle-call-interface', 'oracle-manageddataaccess', 'oracle-pro-c', 'oracle-sqldeveloper', 'oracle-streams', 'oracle.manageddataaccess', 'oracle10g', 'oracle11g', 'oracle12c', 'oracleclient', 'orange', 'orangehrm', 'orb', 'orbited', 'orchardcms', 'orchestration', 'order-of-execution', 'ordereddict', 'ordereddictionary', 'orders', 'ordinal', 'ordinals', 'org-mode', 'organization', 'organizer', 'orientation', 'orientation-changes', 'orientdb', 'orientjs', 'orleans', 'orm', 'ormlite', 'ormlite-servicestack', 'orphan', 'orthogonal', 'os-agnostic', 'os.path', 'os.system', 'os.walk', 'osdev', 'osgeo', 'osgi', 'osgi-bundle', 'oslo', 'oslog', 'osmdroid', 'osmnx', 'ostream', 'ostringstream', 'osx-elcapitan', 'osx-gatekeeper', 'osx-leopard', 'osx-lion', 'osx-mavericks', 'osx-mountain-lion', 'osx-server', 'osx-snow-leopard', 'osx-yosemite', 'ota', 'otl', 'otool', 'otto', 'out', 'out-of-band', 'out-of-memory', 'out-parameters', 'outbound', 'outer-join', 'outerhtml', 'outliers', 'outline', 'outliner', 'outlining', 'outlook', 'outlook-2003', 'outlook-2007', 'outlook-2010', 'outlook-2013', 'outlook-addin', 'outlook-restapi', 'outlook-web-app', 'outlook.com', 'outofrangeexception', 'output', 'output-buffering', 'output-parameter', 'output-redirect', 'output-window', 'outputcache', 'outputstream', 'ouya', 'over-the-air', 'overflow', 'overflow-menu', 'overhead', 'overhead-minimization', 'overlap', 'overlapping', 'overlay', 'overlay-view', 'overlays', 'overload-resolution', 'overloading', 'overpass-api', 'overriding', 'oversampling', 'overscroll', 'overwrite', 'ovh', 'owasp', 'owin', 'owin-security', 'owl', 'owl-carousel', 'owl-carousel-2', 'owncloud', 'owner', 'ownerdrawn', 'ownership', 'oxm', 'oxygene', 'oxyplot', 'p12', 'p2', 'p2p', 'p3p', 'p5.js', 'p7b', 'p99', 'paas', 'pac', 'pace.js', 'pack', 'pack-uri', 'package', 'package-design', 'package-lock.json', 'package-managers', 'package-name', 'package-private', 'package.json', 'packaged-task', 'packager', 'packagereference', 'packaging', 'packagist', 'packed', 'packet', 'packet-capture', 'packet-sniffers', 'packets', 'packing', 'pact', 'pact-java', 'pad', 'padding', 'page-break', 'page-break-inside', 'page-curl', 'page-fault', 'page-flipping', 'page-index-changed', 'page-init', 'page-layout', 'page-lifecycle', 'page-load-time', 'page-numbering', 'page-refresh', 'page-replacement', 'page-title', 'pagecontrol', 'pagedlist', 'pagelines', 'pageload', 'pagemethods', 'pageobjects', 'pager', 'pagerslidingtabstrip', 'pagertabstrip', 'pagertitlestrip', 'pagespeed', 'pagespeed-insights', 'pageviews', 'pagination', 'paging', 'paho', 'paint', 'paintcode', 'paintevent', 'pairing', 'pairplot', 'paket', 'palette', 'palindrome', 'palm-os', 'pam', 'pan', 'pandas', 'pandas-explode', 'pandas-groupby', 'pandas-merge', 'pandas-resample', 'pandas-styles', 'pandas-to-sql', 'pandasql', 'pandoc', 'pane', 'panel', 'pango', 'panic', 'panning', 'panoramas', 'pantheios', 'papaparse', 'paper-elements', 'paperclip', 'paperjs', 'papi', 'paradigms', 'paradox', 'paragraph', 'paragraphs', 'parallax', 'parallax.js', 'parallel-extensions', 'parallel-port', 'parallel-processing', 'parallel.for', 'parallel.foreach', 'parallel.foreachasync', 'param', 'paramarray', 'parameter-pack', 'parameter-passing', 'parameterinfo', 'parameterized', 'parameterized-query', 'parameterized-types', 'parameterized-unit-test', 'parameters', 'parametric-polymorphism', 'paramiko', 'params-keyword', 'parcel', 'parcelable', 'parceler', 'parceljs', 'parent', 'parent-child', 'parent-pom', 'parentheses', 'parents', 'parity', 'parquet', 'parse-cloud-code', 'parse-error', 'parse-forest', 'parse-framework', 'parse-javascript-sdk', 'parse-platform', 'parse-server', 'parse-tree', 'parse-url', 'parsefloat', 'parseint', 'parsekit', 'parser-combinators', 'parser-generator', 'parsexml', 'parsing', 'parsley.js', 'partial', 'partial-application', 'partial-classes', 'partial-mocks', 'partial-ordering', 'partial-page-refresh', 'partial-sort', 'partial-specialization', 'partial-views', 'partials', 'particle-filter', 'particle-swarm', 'particle-system', 'particles', 'particles.js', 'partition', 'partitioning', 'party', 'pascal', 'pascalcasing', 'pascals-triangle', 'pascalscript', 'paseto', 'pass-by-const-reference', 'pass-by-name', 'pass-by-pointer', 'pass-by-reference', 'pass-by-rvalue-reference', 'pass-by-value', 'pass-data', 'passbook', 'passenger', 'passive-event-listeners', 'passkit', 'passport-facebook', 'passport-facebook-token', 'passport-google-oauth', 'passport-google-oauth2', 'passport-jwt', 'passport-local', 'passport-saml', 'passport-twitter', 'passport.js', 'passwd', 'password-autofill', 'password-encryption', 'password-hash', 'password-protection', 'password-recovery', 'password-storage', 'passwordbox', 'passwords', 'paste', 'pastebin', 'pasteboard', 'paster', 'patch', 'path', 'path-finding', 'path-manipulation', 'path-separator', 'path-variables', 'pathgeometry', 'pathinfo', 'pathlib', 'pathos', 'pathtoolongexception', 'pattern-matching', 'pattern-recognition', 'pause', 'pausing-execution', 'pax', 'payload', 'payment', 'payment-gateway', 'payment-method', 'payment-processing', 'paypal', 'paypal-adaptive-payments', 'paypal-buttons', 'paypal-ipn', 'paypal-nvp', 'paypal-rest-sdk', 'paypal-sandbox', 'paypal-subscriptions', 'paytabs', 'paytm', 'payu', 'payumoney', 'pbkdf2', 'pbo', 'pc-lint', 'pca', 'pcap', 'pcap.net', 'pcap4j', 'pch', 'pci', 'pci-compliance', 'pci-dss', 'pci-e', 'pcm', 'pcntl', 'pcre', 'pcsc', 'pd4ml', 'pdb', 'pdb-files', 'pdcurses', 'pde', 'pdf', 'pdf-conversion', 'pdf-extraction', 'pdf-generation', 'pdf-manipulation', 'pdf-parsing', 'pdf-rendering', 'pdf-viewer', 'pdf.js', 'pdf417', 'pdfbox', 'pdfkit', 'pdflatex', 'pdfmake', 'pdfminer', 'pdfnet', 'pdfobject', 'pdfrenderer', 'pdfsharp', 'pdfstamper', 'pdftk', 'pdftotext', 'pdftron', 'pdfview', 'pdist', 'pdo', 'pdu', 'pear', 'pebble-sdk', 'pebble-watch', 'pecl', 'peek', 'peek-pop', 'peer', 'peer-connection', 'peer-dependencies', 'peerjs', 'peewee', 'peg', 'pegjs', 'pelican', 'pem', 'pendulum', 'penn-treebank', 'pentaho', 'peoplepicker', 'pep', 'pep448', 'pep585', 'pep8', 'percent-encoding', 'percentage', 'percentile', 'perceptron', 'perceptual-sdk', 'percona', 'perf', 'perfect', 'perfect-forwarding', 'perfect-hash', 'perfmon', 'perforce', 'performance', 'performance-testing', 'performancecounter', 'performbatchupdates', 'performselector', 'period', 'periodic-task', 'peripherals', 'perl', 'perl-critic', 'perl-xs', 'perlin-noise', 'permalinks', 'permgen', 'permission-denied', 'permissions', 'permissionset', 'permutation', 'perplexity', 'persian', 'persian-calendar', 'persist', 'persistence', 'persistence.xml', 'persistent', 'persistent-connection', 'persistent-storage', 'personal-hotspot', 'perspective', 'perspectivecamera', 'petapoco', 'peverify', 'pex', 'pex-and-moles', 'pexpect', 'pffacebookutils', 'pffile', 'pfobject', 'pfquery', 'pfsubclassing', 'pfx', 'pg', 'pg-dump', 'pg-promise', 'pgadmin', 'pgadmin-4', 'pgp', 'phabricator', 'phalcon', 'phantomjs', 'phar', 'pharo', 'phaser', 'phaser-framework', 'phash', 'phasset', 'phassetcollection', 'phfetchoptions', 'philips-hue', 'phing', 'phishing', 'phlivephoto', 'phobos', 'phoenix-framework', 'phone-call', 'phone-number', 'phonegap', 'phonegap-build', 'phonegap-cli', 'phonegap-desktop-app', 'phonegap-plugins', 'phonegap-pushplugin', 'phoneme', 'photo', 'photo-gallery', 'photogrammetry', 'photokit', 'photolibrary', 'photos', 'photosframework', 'photoshop', 'photoshop-script', 'photoswipe', 'php-5.2', 'php-5.3', 'php-5.4', 'php-5.5', 'php-5.6', 'php-7', 'php-7.1', 'php-7.2', 'php-7.3', 'php-7.4', 'php-8', 'php-8.1', 'php-amqplib', 'php-carbon', 'php-closures', 'php-cs-fixer', 'php-curl', 'php-extension', 'php-gd', 'php-generators', 'php-gettext', 'php-gmp', 'php-imagine', 'php-include', 'php-ini', 'php-internals', 'php-mongodb', 'php-mssql', 'php-openssl', 'php-password-hash', 'php-phantomjs', 'php-socket', 'php-stream-wrappers', 'php4', 'phpactiverecord', 'phpass', 'phpbb', 'phpbb3', 'phpcodesniffer', 'phpcs', 'phpdbg', 'phpdoc', 'phpdotenv', 'phpexcel', 'phpexcelreader', 'phpfox', 'phphotolibrary', 'phpicker', 'phpickerviewcontroller', 'phpjs', 'phploc', 'phpmailer', 'phpmyadmin', 'phpoffice', 'phpredis', 'phpseclib', 'phpspec', 'phpspreadsheet', 'phpstorm', 'phpundercontrol', 'phpunit', 'phpwebsocket', 'phpword', 'phrase', 'physics', 'physics-engine', 'pi', 'pia', 'piano', 'pic', 'pic18', 'picasa', 'picasso', 'pickadate', 'picker', 'picking', 'pickle', 'picocontainer', 'picturebox', 'pid', 'pidcrypt', 'pidgin', 'pie-chart', 'piecewise', 'pika', 'pim', 'pimpl-idiom', 'pimple', 'pinch', 'pinchzoom', 'pine-script', 'ping', 'pingdom', 'pinia', 'pinning', 'pinterest', 'pinvoke', 'pip', 'pipe', 'pipeline', 'pipelining', 'pipenv', 'pipfile', 'piping', 'piracy', 'piracy-prevention', 'piracy-protection', 'piranha-cms', 'pisa', 'pitch', 'pitest', 'pivot', 'pivot-table', 'pixel', 'pixel-density', 'pixel-manipulation', 'pixel-shader', 'pixelate', 'pixi.js', 'pixmap', 'pjax', 'pjl', 'pjsip', 'pkce', 'pkcs#1', 'pkcs#11', 'pkcs#12', 'pkcs#5', 'pkcs#7', 'pkcs#8', 'pkg-config', 'pkg-resources', 'pki', 'placeholder', 'placement-new', 'plaintext', 'plan-9', 'plane', 'platform', 'platform-agnostic', 'platform-independent', 'platform-tools', 'play-billing-library', 'playback', 'playframework', 'playframework-1.x', 'playframework-2.0', 'playframework-2.1', 'playframework-2.2', 'playframework-2.3', 'playing-cards', 'playlist', 'playn', 'playsound', 'playwright', 'playwright-python', 'plc', 'plcrashreporter', 'plesk', 'plesk-onyx', 'plinq', 'plist', 'plone', 'plone-5.x', 'plot', 'plot-annotations', 'plotly', 'plotly-dash', 'plotly-express', 'plotly-python', 'plotly.js', 'plottable', 'plpgsql', 'plpython', 'plsql', 'pluck', 'plugins', 'plupload', 'plural', 'ply', 'pm2', 'pm2-logrotate', 'pmd', 'png', 'png-24', 'png-8', 'pnotify', 'pnpm', 'pnunit', 'po', 'pocket', 'pocketpc', 'pocketsphinx', 'poco', 'poco-libraries', 'pod-install', 'podcast', 'podfile', 'podfile-lock', 'podofo', 'podspec', 'poeaa', 'poedit', 'poi-hssf', 'point', 'point-cloud-library', 'point-clouds', 'point-in-polygon', 'point-of-sale', 'point-to-point', 'pointcut', 'pointcuts', 'pointer-address', 'pointer-aliasing', 'pointer-arithmetic', 'pointer-conversion', 'pointer-events', 'pointer-to-array', 'pointer-to-member', 'pointer-to-pointer', 'pointers', 'points', 'poisson', 'pojo', 'poker', 'polar-coordinates', 'polarssl', 'policies', 'policy', 'polipo', 'polish', 'poll-syscall', 'polling', 'pollingduplexhttpbinding', 'polly', 'polyfills', 'polygon', 'polygons', 'polylang', 'polyline', 'polymer', 'polymer-1.0', 'polymer-3.x', 'polymodel', 'polymorphic-associations', 'polymorphism', 'polynomial-math', 'polynomials', 'pom.xml', 'pong', 'ponyorm', 'pool', 'pooling', 'pop3', 'popen', 'popen3', 'popover', 'popper.js', 'popperjs', 'poppler', 'popstate', 'popularity', 'populate', 'population', 'population-count', 'popup', 'popup-blocker', 'popupmenu', 'popupwindow', 'popviewcontroller', 'port', 'port-number', 'portability', 'portable-applications', 'portable-class-library', 'portable-executable', 'portal', 'portaudio', 'porter-duff', 'porter-stemmer', 'portfolio', 'portforwarding', 'porting', 'portlet', 'portrait', 'ports', 'pos-tagger', 'pose-estimation', 'position', 'position-independent-code', 'positioning', 'posix', 'posix-api', 'posix-ere', 'posix-select', 'post', 'post-build', 'post-build-event', 'post-increment', 'post-install', 'post-parameter', 'post-processing', 'post-redirect-get', 'postal-code', 'postback', 'postbackurl', 'postconstruct', 'postcss', 'postdata', 'postdelayed', 'postfix-mta', 'postfix-notation', 'postfix-operator', 'postgis', 'postgresql', 'postgresql-13', 'postgresql-9.1', 'postgresql-9.3', 'postgresql-9.4', 'postgresql-9.6', 'postgresql-copy', 'posting', 'postman', 'postman-pre-request-script', 'postman-testcase', 'postmessage', 'postorder', 'posts', 'postscript', 'postsharp', 'pouchdb', 'povray', 'pow', 'power-management', 'power-state', 'powerbi', 'powerbi-datasource', 'powerbi-embedded', 'powerbuilder', 'powerbuilder-conversion', 'powermanager', 'powermock', 'powermockito', 'powerpc', 'powerpoint', 'powerpoint-interop', 'powerquery', 'powershell', 'powershell-2.0', 'powershell-3.0', 'powershell-4.0', 'powershell-cmdlet', 'powershell-sdk', 'ppi', 'ppl', 'ppp', 'pppd', 'prado', 'pragma', 'pre', 'pre-authentication', 'pre-build-event', 'pre-commit', 'pre-commit-hook', 'pre-commit.com', 'pre-compilation', 'pre-increment', 'pre-signed-url', 'pre-trained-model', 'prebid.js', 'prebuild', 'precision', 'precision-recall', 'precompile', 'precompiled-headers', 'preconditions', 'predefined-macro', 'predicate', 'predicatebuilder', 'predict', 'prediction', 'predis', 'predix', 'preempt-rt', 'preemption', 'preemptive', 'prefast', 'preference', 'preference-v7', 'preferenceactivity', 'preferencefragment', 'preferences', 'preferencescreen', 'preferslargetitles', 'prefetch', 'prefix', 'prefix-operator', 'prefix-sum', 'prefixes', 'preflight', 'preg-match', 'preg-match-all', 'preg-replace', 'preg-split', 'prelaunch', 'preload', 'preloader', 'preloading', 'premailer', 'preorder', 'prepare', 'prepared-statement', 'prepend', 'preprocessor', 'preprocessor-directive', 'prerender', 'prerequisites', 'presentation', 'presenter', 'presentmodalviewcontroller', 'presentviewcontroller', 'preserve', 'preset', 'pressed', 'pressure', 'prestashop', 'prestashop-1.5', 'prestashop-1.6', 'prestashop-1.7', 'prettier', 'prettier-standard', 'prettify', 'pretty-print', 'prettyphoto', 'prettyplotlib', 'prettytable', 'preventdefault', 'preview', 'preview-feature', 'price', 'primary-key', 'prime-factoring', 'prime31', 'primefaces', 'primeng', 'primeng-calendar', 'primeng-datatable', 'primeng-turbotable', 'primes', 'primevue', 'primitive', 'primitive-types', 'princexml', 'principal', 'principalsearcher', 'principles', 'print-css', 'print-preview', 'print-style', 'printdialog', 'printdocument', 'printf', 'printf-debugging', 'printing', 'printing-web-page', 'printjs', 'printk', 'println', 'printstacktrace', 'printstream', 'priority-queue', 'prism', 'prisma', 'prisma-graphql', 'prisma2', 'prismic.io', 'privacy', 'privacy-policy', 'private', 'private-class', 'private-constructor', 'private-functions', 'private-inheritance', 'private-key', 'private-members', 'private-methods', 'privilege-elevation', 'privileges', 'prng', 'probability', 'probability-density', 'proc-open', 'procedural', 'procedural-generation', 'procedural-programming', 'process', 'process-control', 'process-elevation', 'process-group', 'process-management', 'process-reaper', 'process.start', 'processbuilder', 'processing', 'processing-efficiency', 'processing.js', 'processor', 'processors', 'processstartinfo', 'processwire', 'procfs', 'procrun', 'producer-consumer', 'product', 'product-quantity', 'product-variations', 'production', 'production-environment', 'profanity', 'profile', 'profiler', 'profiles', 'profiling', 'program-entry-point', 'program-files', 'program-transformation', 'programmable-completion', 'programmatically', 'programmatically-created', 'programming-languages', 'programming-pearls', 'progress', 'progress-bar', 'progress-indicator', 'progressdialog', 'progressive', 'progressive-download', 'progressive-enhancement', 'progressive-web-apps', 'proguard', 'proj', 'proj4js', 'project', 'project-management', 'project-navigator', 'project-organization', 'project-panama', 'project-planning', 'project-reactor', 'project-reference', 'project-settings', 'project-structure', 'project-template', 'project.json', 'projection', 'projection-matrix', 'projector', 'projects', 'projects-and-solutions', 'prolog', 'prometheus', 'promise', 'promisekit', 'promotion-code', 'promotions', 'prompt', 'proof', 'proof-of-correctness', 'prop', 'propagation', 'propel', 'properties', 'properties-file', 'property-based-testing', 'property-injection', 'property-list', 'property-wrapper', 'propertychanged', 'propertyconfigurator', 'propertydescriptor', 'propertygrid', 'propertyinfo', 'protected', 'protected-mode', 'protection', 'proteus', 'proto', 'proto3', 'protobuf-c', 'protobuf-csharp-port', 'protobuf-java', 'protobuf-net', 'protocol-buffers', 'protocol-extension', 'protocol-handler', 'protocol-relative', 'protocolexception', 'protocols', 'prototypal', 'prototypal-inheritance', 'prototype', 'prototype-programming', 'prototypejs', 'prototyping', 'protovis', 'protractor', 'provider', 'provisioning', 'provisioning-profile', 'proxies', 'proximity', 'proximitysensor', 'proxy', 'proxy-authentication', 'proxy-classes', 'proxy-pattern', 'proxy-server', 'proxylocal', 'proxypass', 'proxyquire', 'pruning', 'ps', 'psd', 'psd2', 'pseudo-class', 'pseudo-element', 'pseudocode', 'psexec', 'psobject', 'psr-2', 'psr-4', 'psr-7', 'pssnapin', 'psutil', 'psycopg', 'psycopg2', 'pthreads', 'ptrace', 'ptrdiff-t', 'ptvs', 'ptx', 'pty', 'public', 'public-folders', 'public-key', 'public-key-encryption', 'public-members', 'public-method', 'publickeytoken', 'publish', 'publish-actions', 'publish-subscribe', 'publisher', 'publishing', 'pubnub', 'pug', 'pug-loader', 'pugjs', 'pull', 'pull-to-refresh', 'pulp', 'pulse', 'pulseaudio', 'punctuation', 'punycode', 'puppet', 'puppeteer', 'pure-function', 'pure-layout', 'pure-virtual', 'puredata', 'puremvc', 'push', 'push-api', 'push-back', 'push-notification', 'pusher', 'pushkit', 'pushpin', 'pushsharp', 'pushstate', 'pushviewcontroller', 'put', 'putchar', 'puts', 'putty', 'puzzle', 'pvrtc', 'pwd', 'py2app', 'py2exe', 'py4j', 'pyamg', 'pyarrow', 'pyathena', 'pyaudio', 'pyautogui', 'pybind11', 'pybinding', 'pybrain', 'pybuilder', 'pyc', 'pycairo', 'pycall', 'pycassa', 'pycharm', 'pychecker', 'pycparser', 'pycrypto', 'pycuda', 'pycurl', 'pyd', 'pydantic', 'pydev', 'pydio', 'pydoc', 'pydot', 'pydrive', 'pydub', 'pyenv', 'pyenv-virtualenv', 'pyflakes', 'pygal', 'pygame', 'pyglet', 'pygments', 'pygobject', 'pygooglechart', 'pygraphviz', 'pygtk', 'pyinstaller', 'pyjamas', 'pyjnius', 'pyjwt', 'pykafka', 'pylance', 'pylatex', 'pylint', 'pylons', 'pylucene', 'pymc', 'pymc3', 'pymongo', 'pymssql', 'pymysql', 'pynotify', 'pyobjc', 'pyobject', 'pyodbc', 'pyomo', 'pyopengl', 'pyopenssl', 'pyparsing', 'pypdf', 'pyper', 'pypi', 'pypiserver', 'pyproject.toml', 'pypy', 'pypyodbc', 'pyqt', 'pyqt4', 'pyqt5', 'pyqtgraph', 'pyquery', 'pyramid', 'pyreverse', 'pyright', 'pyro', 'pyrocms', 'pyrserve', 'pys60', 'pyscard', 'pyscripter', 'pyserial', 'pysftp', 'pyside', 'pyside2', 'pyspark', 'pysqlite', 'pytables', 'pytesser', 'pytest', 'pytest-cov', 'pytest-django', 'pythagorean', 'python-2.2', 'python-2.4', 'python-2.5', 'python-2.6', 'python-2.7', 'python-2.x', 'python-2to3', 'python-3.1', 'python-3.2', 'python-3.3', 'python-3.4', 'python-3.5', 'python-3.6', 'python-3.7', 'python-3.8', 'python-3.9', 'python-3.x', 'python-appium', 'python-assignment-expression', 'python-asyncio', 'python-babel', 'python-beautifultable', 'python-behave', 'python-bindings', 'python-c-api', 'python-c-extension', 'python-cffi', 'python-click', 'python-collections', 'python-config', 'python-coverage', 'python-cryptography', 'python-curses', 'python-daemon', 'python-dataclasses', 'python-datamodel', 'python-datetime', 'python-dateutil', 'python-db-api', 'python-decorators', 'python-decouple', 'python-docx', 'python-elixir', 'python-embedding', 'python-extensions', 'python-fu', 'python-gstreamer', 'python-idle', 'python-imaging-library', 'python-import', 'python-importlib', 'python-install', 'python-internals', 'python-itertools', 'python-jira', 'python-jsonschema', 'python-ldap', 'python-logging', 'python-mock', 'python-mode', 'python-module', 'python-mro', 'python-multiprocessing', 'python-multithreading', 'python-newspaper', 'python-object', 'python-packaging', 'python-pdfkit', 'python-poetry', 'python-re', 'python-requests', 'python-requests-html', 'python-rq', 'python-s3fs', 'python-sip', 'python-social-auth', 'python-sockets', 'python-sphinx', 'python-stackless', 'python-telegram-bot', 'python-tesseract', 'python-trio', 'python-turtle', 'python-typing', 'python-unicode', 'python-unittest', 'python-unittest.mock', 'python-venv', 'python-watchdog', 'python-wheel', 'python-xarray', 'python-zipfile', 'python.net', 'pythonanywhere', 'pythonbrew', 'pythoninterpreter', 'pythonnet', 'pythonpath', 'pythonw', 'pytorch', 'pytorch-lightning', 'pyttsx', 'pytube', 'pytz', 'pyvenv', 'pyvirtualdisplay', 'pyvmomi', 'pywin32', 'pywinauto', 'pyxll', 'pyyaml', 'pyz', 'pyzmq', 'q', 'q-learning', 'qabstractitemmodel', 'qabstracttablemodel', 'qaction', 'qapplication', 'qbasic', 'qbytearray', 'qcar-sdk', 'qcombobox', 'qcoreapplication', 'qcustomplot', 'qdatetime', 'qdebug', 'qdialog', 'qdir', 'qdoc', 'qemu', 'qeventloop', 'qfile', 'qfiledialog', 'qfilesystemmodel', 'qglwidget', 'qgraphicsitem', 'qgraphicsscene', 'qgraphicsview', 'qicon', 'qimage', 'qiskit', 'qitemdelegate', 'qlabel', 'qlineedit', 'qlist', 'qlistview', 'qlistwidget', 'qlpreviewcontroller', 'qmainwindow', 'qmake', 'qmap', 'qmenu', 'qmetaobject', 'qml', 'qmodelindex', 'qmultimap', 'qmutex', 'qnetworkaccessmanager', 'qnx', 'qobject', 'qpainter', 'qpixmap', 'qplaintextedit', 'qprinter', 'qprocess', 'qprogressbar', 'qpushbutton', 'qpython', 'qpython3', 'qquickview', 'qr-code', 'qregexp', 'qresource', 'qscopedpointer', 'qscrollarea', 'qsgclipnode', 'qsharedmemory', 'qsharedpointer', 'qslider', 'qsort', 'qsortfilterproxymodel', 'qsqlquery', 'qstatemachine', 'qstring', 'qstyleditemdelegate', 'qstylesheet', 'qt', 'qt-creator', 'qt-designer', 'qt-linguist', 'qt-maemo', 'qt-mobility', 'qt-necessitas', 'qt-quick', 'qt-signals', 'qt-slot', 'qt-vs-addin', 'qt3d', 'qt4', 'qt5', 'qt5.10', 'qt5.11', 'qt5.4', 'qt5.6', 'qt6', 'qtableview', 'qtablewidget', 'qtablewidgetitem', 'qtandroidextras', 'qtconcurrent', 'qtconsole', 'qtcore', 'qtcpsocket', 'qtdbus', 'qtestlib', 'qtextdocument', 'qtextedit', 'qtgstreamer', 'qtgui', 'qthread', 'qtimer', 'qtip', 'qtkit', 'qtp', 'qtquick2', 'qtquickcontrols2', 'qtranslate', 'qtreeview', 'qtreewidget', 'qtreewidgetitem', 'qtscript', 'qtstylesheets', 'qtwebengine', 'qtwebkit', 'qtwebsockets', 'qtwidgets', 'qtxml', 'quadratic', 'quadtree', 'qualified-name', 'qualifiers', 'quantile', 'quantitative-finance', 'quantum-computing', 'quarkus', 'quart', 'quartz', 'quartz-2d', 'quartz-core', 'quartz-graphics', 'quartz-scheduler', 'quartz.net', 'quartz.net-2.0', 'quasar', 'quasar-framework', 'quaternions', 'quercus', 'query-builder', 'query-by-example', 'query-cache', 'query-engine', 'query-optimization', 'query-parser', 'query-performance', 'query-string', 'querydsl', 'queryinterface', 'queryover', 'querystringparameter', 'queue', 'queued-connection', 'quickaction', 'quickblox', 'quickblox-android', 'quickcheck', 'quickdialog', 'quickfix', 'quickfixj', 'quicklook', 'quicksort', 'quicktime', 'quill', 'quine', 'quirks-mode', 'quit', 'qunit', 'quojs', 'quota', 'quotation-marks', 'quotations', 'quote', 'quoted-printable', 'quotes', 'quoting', 'qurl', 'qvariant', 'qvector', 'qweb', 'qwebengineview', 'qwebkit', 'qwebview', 'qwidget', 'qz-tray', 'r', 'r-highcharter', 'r-markdown', 'r-tree', 'r.java-file', 'r.js', 'rabbitmq', 'rabin-karp', 'race-condition', 'rack', 'racket', 'racsignal', 'rad', 'radar-chart', 'radial-gradients', 'radians', 'radio', 'radio-button', 'radio-group', 'radiobuttonlist', 'radius-protocol', 'radix', 'radix-sort', 'radix-tree', 'radwindow', 'ragel', 'raii', 'railo', 'rails-console', 'rails-flash', 'railway.js', 'rainbowtable', 'rake', 'rakefile', 'raku', 'rakudo', 'ram', 'ramda.js', 'ramdisk', 'random', 'random-access', 'random-forest', 'random-seed', 'randomaccessfile', 'range', 'range-based-loop', 'range-v3', 'ranged-loops', 'rangeseekbar', 'rangeslider', 'rangy', 'ranking', 'ranking-functions', 'rapache', 'raphael', 'rapid-prototyping', 'rapidxml', 'rapydscript', 'rar', 'raspberry-pi', 'raspberry-pi2', 'raspberry-pi3', 'raspbian', 'raster', 'rasterio', 'ratchet', 'rate', 'rate-limiting', 'rating', 'rating-system', 'ratingbar', 'rational-number', 'rational-numbers', 'raty', 'rauth', 'raven', 'ravendb', 'raw-data', 'raw-ethernet', 'raw-input', 'raw-sockets', 'raw-types', 'rawbytestring', 'rawstring', 'ray', 'ray-tune', 'raycasting', 'raytracing', 'razor', 'razor-2', 'razor-declarative-helpers', 'razor-pages', 'razorengine', 'razorpay', 'rbac', 'rbenv', 'rc', 'rcc', 'rcp', 'rcpp', 'rcurl', 'rcw', 'rdbms', 'rdd', 'rdf', 'rdfa', 'rdflib', 'rdio', 'rdkit', 'rdl', 'rdlc', 'rdma', 'rdp', 'rds', 'rdtsc', 'reachability', 'react-360', 'react-ace', 'react-admin', 'react-android', 'react-apollo', 'react-beautiful-dnd', 'react-big-calendar', 'react-boilerplate', 'react-bootstrap', 'react-component', 'react-context', 'react-css-modules', 'react-data-grid', 'react-dom', 'react-draft-wysiwyg', 'react-dropzone', 'react-fiber', 'react-flexbox-grid', 'react-forwardref', 'react-functional-component', 'react-google-maps', 'react-helmet', 'react-highcharts', 'react-hook-form', 'react-hooks', 'react-i18next', 'react-icons', 'react-intl', 'react-lazy-load', 'react-leaflet', 'react-loadable', 'react-material', 'react-native', 'react-native-bridge', 'react-native-camera', 'react-native-cli', 'react-native-code-push', 'react-native-config', 'react-native-device-info', 'react-native-draggable-flatlist', 'react-native-fbsdk', 'react-native-fetch-blob', 'react-native-firebase', 'react-native-flatlist', 'react-native-flexbox', 'react-native-fs', 'react-native-hermes', 'react-native-image-picker', 'react-native-ios', 'react-native-linking', 'react-native-maps', 'react-native-navigation', 'react-native-stylesheet', 'react-native-testing-library', 'react-native-text', 'react-native-textinput', 'react-native-ui-components', 'react-native-ui-kitten', 'react-native-video', 'react-native-web', 'react-native-webview', 'react-navigation', 'react-navigation-drawer', 'react-pdf', 'react-player', 'react-props', 'react-proptypes', 'react-query', 'react-rails', 'react-redux', 'react-router', 'react-router-component', 'react-router-dom', 'react-router-redux', 'react-router-v4', 'react-scripts', 'react-select', 'react-server', 'react-slick', 'react-spring', 'react-state', 'react-suspense', 'react-table', 'react-test-renderer', 'react-testing-library', 'react-transition-group', 'react-tsx', 'reactcsstransitiongroup', 'reactive', 'reactive-cocoa', 'reactive-cocoa-3', 'reactive-cocoa-4', 'reactive-extensions-js', 'reactive-kafka', 'reactive-programming', 'reactive-streams', 'reactive-swift', 'reactiveui', 'reactivex', 'reactjs', 'reactjs-flux', 'reactjs-native', 'reactjs-testutils', 'reactor', 'reactor-kafka', 'reactphp', 'reactstrap', 'read-data', 'read-eval-print-loop', 'read-sql', 'read-the-docs', 'read-unread', 'read-write', 'readability', 'readable', 'readdir', 'readdirectorychangesw', 'readelf', 'reader', 'readerwriterlock', 'readerwriterlockslim', 'readfile', 'readline', 'readlines', 'readlink', 'readme', 'readonly', 'readonly-attribute', 'readonly-collection', 'readwritelock', 'readxml', 'ready', 'readystate', 'real-mode', 'real-number', 'real-time', 'real-time-data', 'realitykit', 'realloc', 'realm', 'realm-cocoa', 'realm-java', 'realm-list', 'realm-migration', 'realproxy', 'realview', 'reboot', 'rebuild', 'rebus', 'recaptcha', 'recarray', 'receipt', 'receipt-validation', 'receiver', 'recharts', 'recommendation-engine', 'recompile', 'recompose', 'record', 'recorder', 'recording', 'records', 'recovery', 'rect', 'rectangles', 'recurrence', 'recurrent-neural-network', 'recurring', 'recurring-events', 'recursion', 'recursive-datastructures', 'recursive-descent', 'recursive-mutex', 'recursive-query', 'recv', 'recycle', 'recycle-bin', 'recyclerview-layout', 'red-black-tree', 'red-gate-ants', 'red-zone', 'red5', 'redactor', 'redbean', 'redcloth', 'reddit', 'redeclaration', 'redeclare', 'redefine', 'redefinition', 'redhat', 'redirect', 'redirectstandardoutput', 'redis', 'redis-cluster', 'redisson', 'redistributable', 'redmine-api', 'redo', 'redraw', 'reduce', 'reducing', 'reduction', 'redundancy', 'redux', 'redux-devtools', 'redux-form', 'redux-middleware', 'redux-mock-store', 'redux-observable', 'redux-persist', 'redux-saga', 'redux-store', 'redux-thunk', 'redux-toolkit', 'reentrancy', 'reentrantlock', 'reentrantreadwritelock', 'ref', 'ref-qualifier', 'refactoring', 'refer', 'reference', 'reference-application', 'reference-binding', 'reference-counting', 'reference-implementation', 'reference-library', 'reference-source', 'reference-type', 'reference-wrapper', 'referenceequals', 'referenceerror', 'referer', 'referrer', 'referrer-policy', 'refit', 'refix', 'reflect-metadata', 'reflection', 'reflection.emit', 'reflector', 'reflow', 'refresh', 'refresh-token', 'refresher', 'regasm', 'regedit', 'regex', 'regex-greedy', 'regex-group', 'regex-lookarounds', 'regex-negation', 'regexbuddy', 'regexkitlite', 'regexp-replace', 'regfreecom', 'region', 'regional', 'regional-settings', 'regioninfo', 'regions', 'register-allocation', 'register-keyword', 'registerclientscriptblock', 'registerforactivityresult', 'registerhotkey', 'registration', 'registration-free-com', 'registry', 'registry-virtualization', 'registrykey', 'regression', 'regsvr32', 'reification', 'reindex', 'reinforcement-learning', 'reinstall', 'reinterpret-cast', 'rel', 'relation', 'relational', 'relational-database', 'relational-operators', 'relationship', 'relationships', 'relative-date', 'relative-import', 'relative-path', 'relative-time-span', 'relative-url', 'relativesource', 'relaxed-atomics', 'relay', 'relaycommand', 'relayjs', 'release', 'release-management', 'release-mode', 'relevance', 'reliability', 'reliable-multicast', 'reload', 'reloaddata', 'relocation', 'remap', 'remember-me', 'reminders', 'remix.run', 'remote-access', 'remote-connection', 'remote-control', 'remote-debugging', 'remote-execution', 'remote-input', 'remote-notifications', 'remote-server', 'remote-validation', 'remoteapi', 'remoteapp', 'remotecommand', 'remoteio', 'remoteserviceexception', 'remoteview', 'remotewebdriver', 'remoting', 'remove-if', 'removeall', 'removeclass', 'removing-whitespace', 'rename', 'renaming', 'render', 'render-to-texture', 'renderdoc', 'renderer', 'rendering', 'rendering-engine', 'renderpartial', 'renderscript', 'rendertargetbitmap', 'rendertron', 'renewal', 'repaint', 'repaintmanager', 'repeat', 'repeater', 'repeatingalarm', 'replace', 'replaceall', 'replacewith', 'replaykit', 'replicaset', 'replication', 'repo', 'report', 'report-viewer2012', 'reporting', 'reporting-services', 'reportingservices-2005', 'reportlab', 'reportmanager', 'reportviewer', 'repository', 'repository-pattern', 'repositorylookupedit', 'repr', 'representation', 'req', 'request', 'request-cancelling', 'request-headers', 'request-object', 'request-promise', 'request-validation', 'request.querystring', 'requestanimationframe', 'requestdispatcher', 'requestfactory', 'requestjs', 'requestscope', 'requestvalidationmode', 'require', 'require-once', 'required', 'required-field', 'requiredfieldvalidator', 'requirejs', 'requirejs-optimizer', 'requirements', 'requirements.txt', 'reqwest', 'rerender', 'resampling', 'reselect', 'reserved', 'reserved-words', 'reset', 'resgen', 'reshape', 'resharper', 'resharper-4.5', 'resharper-5.0', 'resharper-6.0', 'resharper-7.1', 'resharper-8.0', 'resignfirstresponder', 'resizable', 'resize', 'resize-image', 'resnet', 'resolution', 'resolutions', 'resolve', 'resolver', 'resolveurl', 'resource-cleanup', 'resource-files', 'resource-leak', 'resource-management', 'resourcebundle', 'resourcedictionary', 'resourcemanager', 'resources', 'respect-validation', 'responder-chain', 'respondstoselector', 'response', 'response-headers', 'response.redirect', 'response.transmitfile', 'response.write', 'responsetext', 'responsive', 'responsive-design', 'responsive-images', 'responsiveness', 'rest', 'rest-assured', 'rest-client', 'rest-parameters', 'restangular', 'restart', 'resteasy', 'restfb', 'restful-architecture', 'restful-authentication', 'restful-url', 'restful.js', 'restify', 'restkit', 'restkit-0.20', 'restlet', 'restore', 'restrict', 'restrict-qualifier', 'restriction', 'restrictions', 'restructuredtext', 'restsharp', 'resttemplate', 'result-of', 'resultset', 'resume', 'reswift', 'resx', 'retain', 'retain-cycle', 'retaincount', 'rethinkdb', 'rethrow', 'reticulate', 'retina', 'retina-display', 'retina.js', 'retrofit', 'retrofit2', 'retrofit2.6', 'retrolambda', 'retry-logic', 'rets', 'return', 'return-by-reference', 'return-by-value', 'return-type', 'return-type-deduction', 'return-value', 'return-value-optimization', 'returnurl', 'reusability', 'reuseidentifier', 'reveal.js', 'revenuecat', 'reverse', 'reverse-ajax', 'reverse-debugging', 'reverse-dns', 'reverse-engineering', 'reverse-geocoding', 'reverse-iterator', 'reverse-proxy', 'reversing', 'review', 'revision', 'revision-history', 'revit', 'reward-system', 'rewardedvideoad', 'rexster', 'rfc', 'rfc1034identifier', 'rfc2445', 'rfc2898', 'rfc3339', 'rfc5545', 'rfc822', 'rfcomm', 'rfid', 'rgb', 'rgba', 'rgl', 'rhel', 'rhel5', 'rhino', 'rhino-etl', 'rhino-mocks', 'rhodes', 'rhomobile', 'ria', 'ribbon', 'ribbon-control', 'ribboncontrolslibrary', 'rich-internet-application', 'rich-snippets', 'rich-text-editor', 'richedit', 'richfaces', 'richtext', 'richtextarea', 'richtextbox', 'rider', 'riff', 'right-align', 'right-click', 'right-to-left', 'rightbarbuttonitem', 'rightfax', 'rightjs', 'rights', 'rightview', 'rigid-bodies', 'rijndael', 'rijndaelmanaged', 'ril', 'ringtone', 'ringtonemanager', 'rinside', 'ripple', 'rippledrawable', 'rivescript', 'rjava', 'rllib', 'rlwrap', 'rmi', 'rmiregistry', 'rmq', 'rn-fetch-blob', 'rncryptor', 'roaming-profile', 'robocode', 'robocopy', 'roboguice', 'robolectric', 'robolectric-gradle-plugin', 'robot', 'robotframework', 'robotics', 'robotium', 'roboto', 'robovm', 'robustness', 'roc', 'rodeo', 'roi', 'role', 'role-based-access-control', 'roleprovider', 'roles', 'rollback', 'rolling-computation', 'rollout', 'rollover', 'rollup', 'rollupjs', 'rom', 'roman-numerals', 'rome', 'root', 'root-certificate', 'root-framework', 'root.plist', 'rootpy', 'rootscope', 'rootview', 'rope', 'ros', 'rosetta', 'roslyn', 'roslyn-code-analysis', 'rospy', 'rotatetransform', 'rotation', 'rotational-matrices', 'rotativa', 'rouge', 'round-rect', 'round-robin', 'rounded-corners', 'rounding', 'rounding-error', 'routeconfig', 'routed-commands', 'routed-events', 'routelink', 'routeparams', 'router', 'router-outlet', 'routerlink', 'routes', 'row', 'row-height', 'rowcommand', 'rowcount', 'rowfilter', 'rowlocking', 'rows', 'rowsorter', 'rowtest', 'rpath', 'rpc', 'rpivottable', 'rpm', 'rpn', 'rpy2', 'rrule', 'rs485', 'rsa', 'rsacryptoserviceprovider', 'rscript', 'rselenium', 'rserve', 'rsh', 'rspec', 'rss', 'rss-reader', 'rssi', 'rstudio', 'rstudio-server', 'rsvg', 'rsvp-promise', 'rsvp.js', 'rsync', 'rsyslog', 'rtai', 'rtd', 'rte', 'rtf', 'rtl-language', 'rtmp', 'rtos', 'rtp', 'rtsp', 'rtti', 'rtw', 'ruamel.yaml', 'ruby', 'ruby-1.9', 'ruby-2.4', 'ruby-c-extension', 'ruby-grape', 'ruby-mocha', 'ruby-on-rails', 'ruby-on-rails-3', 'ruby-on-rails-3.1', 'ruby-on-rails-3.2', 'ruby-on-rails-4', 'ruby-on-rails-5', 'ruby-on-rails-5.1', 'ruby-on-rails-6', 'ruby-tag', 'rubydl', 'rubygems', 'rubymotion', 'rule', 'rule-engine', 'rule-of-five', 'rule-of-three', 'rule-of-zero', 'rules', 'run-app', 'run-configuration', 'run-middleware', 'run-script', 'runas', 'runatserver', 'runloop', 'runnable', 'running-count', 'runpy', 'runtime', 'runtime-compilation', 'runtime-configuration', 'runtime-error', 'runtime-permissions', 'runtime.exec', 'runtimeexception', 'rust', 'rust-cargo', 'rust-crates', 'rvalue', 'rvalue-reference', 'rvds', 'rvest', 'rvm', 'rvo', 'rx-android', 'rx-binding', 'rx-cocoa', 'rx-java', 'rx-java2', 'rx-java3', 'rx-kotlin', 'rx-py', 'rx-swift', 'rx.net', 'rxdatasources', 'rxjs', 'rxjs-dom', 'rxjs-test-scheduler', 'rxjs5', 'rxjs6', 'rxtx', 'ryujit', 's#arp-architecture', 's-expression', 's3cmd', 's3fs', 's60', 's7-1200', 'sa', 'saas', 'sablecc', 'safari', 'safari-content-blocker', 'safari-extension', 'safari-web-inspector', 'safari6', 'safe-bool-idiom', 'safe-navigation-operator', 'safearealayoutguide', 'safearray', 'safetynet', 'saga', 'sage', 'sails-mongo', 'sails-mssqlserver', 'sails-postgresql', 'sails.io.js', 'sails.js', 'salesforce', 'salesforce-ios-sdk', 'salesforce-lightning', 'salt', 'sam', 'samba', 'same-origin-policy', 'samesite', 'saml', 'saml-2.0', 'sammy.js', 'sample', 'sample-data', 'sampling', 'samsung-galaxy', 'samsung-gear', 'samsung-mobile', 'samsung-mobile-sdk', 'samsung-smart-tv', 'samsung-touchwiz', 'sandbox', 'sandcastle', 'sanic', 'sanitization', 'sanitize', 'sanitizer', 'sap', 'sap-dotnet-connector', 'sap-gui', 'sap-iq', 'sapi', 'sapper', 'sapui5', 'sas-jmp', 'sasl', 'sass', 'sass-loader', 'sass-maps', 'sat', 'sata', 'satellite', 'satellizer', 'satis', 'saturation-arithmetic', 'save', 'save-as', 'savefiledialog', 'savestate', 'saving-data', 'savon', 'sax', 'saxon', 'saxparser', 'sbjson', 'sbrk', 'sbt', 'sbt-android-plugin', 'scaffolding', 'scala', 'scala-2.10', 'scala-ide', 'scala-java-interop', 'scala-macros', 'scala-maven-plugin', 'scala.js', 'scalability', 'scalable', 'scalacheck', 'scalameter', 'scalapack', 'scalar', 'scalate', 'scalatra', 'scale', 'scaletransform', 'scaletype', 'scaling', 'scan-build', 'scancodes', 'scandir', 'scanf', 'scanline', 'scannable-code', 'scanning', 'scapy', 'scatter', 'scatter-plot', 'scatterplot3d', 'scatterview', 'sccm', 'sceditor', 'scenarios', 'scene', 'scene2d', 'scenebuilder', 'sceneform', 'scenegraph', 'scenekit', 'schannel', 'sched-deadline', 'schedule', 'scheduled-tasks', 'scheduledexecutorservice', 'scheduler', 'scheduling', 'schema', 'schema-design', 'schema.org', 'schemagen', 'schemaspy', 'schematron', 'scheme', 'scientific-computing', 'scientific-notation', 'scikit-image', 'scikit-learn', 'scikit-learn-pipeline', 'scikits', 'scilab', 'scim', 'scintilla', 'scintillanet', 'scipy', 'scjp', 'scnnode', 'scnscene', 'scnsphere', 'scntext', 'scons', 'scope', 'scope-resolution', 'scoped', 'scoped-ptr', 'scoped-storage', 'scopeguard', 'scopes', 'scoping', 'scoring', 'scp', 'scrape', 'scraper', 'scrapy', 'scrapy-pipeline', 'scrapy-splash', 'scrapyd', 'scrapysharp', 'screen', 'screen-brightness', 'screen-capture', 'screen-density', 'screen-grab', 'screen-lock', 'screen-orientation', 'screen-readers', 'screen-recording', 'screen-resolution', 'screen-rotation', 'screen-scraping', 'screen-size', 'screencast', 'screensaver', 'screensharing', 'screenshot', 'scribe', 'script#', 'script-debugging', 'script-tag', 'scriptable', 'scriptaculous', 'scriptcs', 'scriptengine', 'scripting', 'scripting-bridge', 'scripting-interface', 'scriptlet', 'scriptmanager', 'scroll', 'scroll-paging', 'scroll-position', 'scroll-snap', 'scroll-snap-points', 'scroll-snap-type', 'scrollable', 'scrollableresults', 'scrollbar', 'scrollbars', 'scrolledcomposite', 'scroller', 'scrollmagic', 'scrollpane', 'scrollreveal.js', 'scrollspy', 'scrollto', 'scrolltop', 'scrollview', 'scrollviewer', 'scrollwheel', 'scrypt', 'scsi', 'scss-lint', 'scss-mixins', 'sd-card', 'sdk', 'sdl', 'sdl-2', 'sdl-opengl', 'sdl-ttf', 'sdlc', 'sdp', 'sdwebimage', 'seaborn', 'seadragon', 'sealed', 'sealed-class', 'seam', 'seamonkey', 'seandroid', 'search', 'search-engine', 'search-path', 'search-regex', 'searchable', 'searchbar', 'searchdisplaycontroller', 'searchview', 'seaside', 'second-level-cache', 'seconds', 'secret-key', 'secret-manager', 'section508', 'sectionheader', 'sectionindexer', 'sections', 'sector', 'secure-coding', 'secure-context', 'secure-random', 'securestring', 'security', 'security-framework', 'security-policy', 'securityexception', 'securitymanager', 'sed', 'seed', 'seeding', 'seek', 'seekbar', 'seekbarpreference', 'seekg', 'segment', 'segment-io', 'segment-tree', 'segmentation-fault', 'segmentedcontrol', 'segments', 'segue', 'seh', 'select', 'select-function', 'select-menu', 'select-options', 'selectable', 'selectall', 'selected', 'selectedindex', 'selectedindexchanged', 'selecteditem', 'selectedtext', 'selectedvalue', 'selection', 'selection-api', 'selectivizr', 'selectize.js', 'selectlist', 'selectmanycheckbox', 'selectnodes', 'selectonemenu', 'selector', 'selectors-api', 'selendroid', 'selenium', 'selenium-chromedriver', 'selenium-firefoxdriver', 'selenium-grid', 'selenium-ide', 'selenium-iedriver', 'selenium-rc', 'selenium-webdriver', 'selenium4', 'self', 'self-destruction', 'self-executing-function', 'self-host-webapi', 'self-hosting', 'self-modifying', 'self-reference', 'self-referencing-table', 'self-signed', 'self-signed-certificate', 'self-tracking-entities', 'selinux', 'semantic-logging', 'semantic-markup', 'semantic-ui', 'semantic-ui-react', 'semantic-versioning', 'semantic-web', 'semantics', 'semaphore', 'semigroup', 'sencha-architect', 'sencha-touch', 'sencha-touch-2', 'send', 'sendasynchronousrequest', 'sendbeacon', 'sender', 'sendfile', 'sendgrid', 'sendgrid-api-v3', 'sendinput', 'sendkeys', 'sendmail', 'sendmessage', 'sendto', 'seneca', 'sensormanager', 'sensors', 'sentence-similarity', 'sentestingkit', 'sentiment-analysis', 'sentinel', 'sentry', 'seo', 'separation-of-concerns', 'separator', 'seq', 'seq2seq', 'seqlock', 'sequelize-auto', 'sequelize-cli', 'sequelize-hooks', 'sequelize-typescript', 'sequelize.js', 'sequence', 'sequence-diagram', 'sequence-points', 'sequences', 'sequential', 'serial-communication', 'serial-number', 'serial-port', 'serial-processing', 'serializable', 'serialization', 'serializationbinder', 'serializearray', 'serialversionuid', 'series', 'serilog', 'serve', 'server', 'server-configuration', 'server-push', 'server-response', 'server-sent-events', 'server-side', 'server-side-includes', 'server-side-rendering', 'server-side-validation', 'server-to-server', 'server-variables', 'server.mappath', 'server.transfer', 'servercontrols', 'serverless', 'serverless-architecture', 'serverless-framework', 'serverless-framework-offline', 'serverless-offline', 'servermanager', 'serverside-javascript', 'serversocket', 'service', 'service-accounts', 'service-discovery', 'service-layer', 'service-locator', 'service-not-available', 'service-provider', 'service-reference', 'service-worker', 'servicebehavior', 'servicebus', 'serviceconnection', 'servicecontroller', 'serviceextension', 'servicehost', 'servicepoint', 'servicestack', 'serving', 'servlet-3.0', 'servlet-container', 'servlet-filters', 'servletconfig', 'servlets', 'session', 'session-cookies', 'session-hijacking', 'session-management', 'session-set-save-handler', 'session-state', 'session-storage', 'session-timeout', 'session-variables', 'sessionid', 'sessionstorage', 'set', 'set-intersection', 'set-operations', 'set-union', 'setalarmclock', 'setattr', 'setattribute', 'setbackground', 'setcookie', 'setenv', 'setfocus', 'setinterval', 'setjmp', 'setlocale', 'setneedsdisplay', 'setrlimit', 'setsid', 'setsockopt', 'setstate', 'setter', 'settext', 'settimeout', 'setting', 'settings', 'settings-bundle', 'settings.bundle', 'settings.settings', 'setuid', 'setup-deployment', 'setup-project', 'setup.py', 'setuptools', 'setuserinteractionenabled', 'setvalue', 'setw', 'setwindowlong', 'sevenzipsharp', 'sf-symbols', 'sfauthenticationsession', 'sfauthorizationpluginview', 'sfguard', 'sfhfkeychainutils', 'sfinae', 'sfml', 'sfsafariviewcontroller', 'sfspeechrecognizer', 'sftp', 'sgen', 'sgi', 'sgml', 'sgmlreader', 'sh', 'sha', 'sha1', 'sha2', 'sha256', 'sha512', 'shader', 'shadow', 'shadow-copy', 'shadow-dom', 'shadowbox', 'shadowing', 'shadowjar', 'shadows', 'shake', 'shallow-copy', 'shape-recognition', 'shapedrawable', 'shapefile', 'shapely', 'shapes', 'sharding', 'share', 'share-intent', 'share-open-graph', 'shareactionprovider', 'shared', 'shared-element-transition', 'shared-hosting', 'shared-libraries', 'shared-memory', 'shared-objects', 'shared-ptr', 'shared-secret', 'sharedpreferences', 'sharekit', 'sharepoint', 'sharepoint-2007', 'sharepoint-2010', 'sharepoint-2013', 'sharepoint-api', 'sharepoint-clientobject', 'sharepoint-online', 'sharethis', 'shareware', 'sharing', 'shark', 'sharp', 'sharpdevelop', 'sharpdx', 'sharppcap', 'sharpziplib', 'shdocvw', 'shebang', 'shedlock', 'sheetjs', 'shell', 'shell-exec', 'shell-extensions', 'shell-icons', 'shell32', 'shell32.dll', 'shellcode', 'shellexecute', 'shelve', 'shibboleth', 'shiboken2', 'shift', 'shift-jis', 'shim', 'shiny', 'shiny-server', 'shinydashboard', 'shinyjs', 'shipping-method', 'shiro', 'shopify', 'shopify-app', 'shopping-cart', 'shopware', 'short', 'short-circuiting', 'short-url', 'shortcode', 'shortcut', 'shortest', 'shortest-path', 'shorthand', 'shorttags', 'should.js', 'shoutcast', 'show', 'show-hide', 'showcaseview', 'showdialog', 'showdown', 'shrink', 'shrinkresources', 'shuffle', 'shutdown', 'shutil', 'siblings', 'sicstus-prolog', 'side-by-side', 'side-effects', 'side-menu', 'side-scroller', 'sidebar', 'sideloading', 'sidenav', 'siemens', 'sierrachart', 'sieve', 'sieve-of-atkin', 'sieve-of-eratosthenes', 'sifr', 'sift', 'sigabrt', 'sigbus', 'sigfpe', 'sightly', 'sigint', 'sigkill', 'sigma.js', 'sigmoid', 'sign', 'sign-in-with-apple', 'signal-handling', 'signal-processing', 'signal-strength', 'signalr', 'signalr-backplane', 'signalr-hub', 'signalr.client', 'signals', 'signals-slots', 'signature', 'signed', 'signed-apk', 'signed-applet', 'signed-integer', 'signedxml', 'significant-digits', 'signing', 'signtool', 'sigprocmask', 'sigqueue', 'sigterm', 'silent', 'silent-installer', 'silent-notification', 'silentpush', 'silex', 'silverlight', 'silverlight-2.0', 'silverlight-3.0', 'silverlight-4.0', 'silverlight-5.0', 'silverlight-oob', 'silverlight-toolkit', 'silverstripe', 'sim-card', 'simbl', 'simctl', 'simd', 'similarity', 'simperium', 'simple-form', 'simple-framework', 'simple-html-dom', 'simple-injector', 'simple-peer', 'simple-salesforce', 'simple.data', 'simpleadapter', 'simplecaptcha', 'simplecursoradapter', 'simplecursortreeadapter', 'simplecv', 'simpledateformat', 'simplehttpserver', 'simplejson', 'simplemde', 'simplemembership', 'simplemodal', 'simplesamlphp', 'simpletest', 'simpletransformers', 'simplewebrtc', 'simplexml', 'simplification', 'simplify', 'simulate', 'simulated-annealing', 'simulation', 'simulator', 'simulink', 'simultaneous', 'simultaneous-calls', 'sinatra', 'sinaweibo', 'sinch', 'single-file-generator', 'single-instance', 'single-page-application', 'single-precision', 'single-responsibility-principle', 'single-sign-on', 'single-table-inheritance', 'single-threaded', 'singlechildscrollview', 'singlepage', 'singleton', 'singly-linked-list', 'sinon', 'sinon-chai', 'sinopia', 'sip', 'siri', 'siri-remote', 'siri-xml', 'sirikit', 'sitecore', 'sitecore-habitat', 'sitecore-mvc', 'sitecore-workflow', 'sitecore6', 'sitecore7.2', 'sitecore8', 'sitefinity', 'sitemap', 'sitemesh', 'six', 'size', 'size-classes', 'size-t', 'sizeof', 'sizetofit', 'sizewithfont', 'sizing', 'sizzle', 'sjcl', 'skaction', 'skaudionode', 'skb', 'skbio', 'skcameranode', 'skcropnode', 'skeletal-mesh', 'skemitternode', 'sketchapp', 'skew', 'skiasharp', 'skin', 'skinning', 'skins', 'skip', 'skip-lists', 'sklabelnode', 'sklearn-pandas', 'sknode', 'skpaymenttransaction', 'skphysicsbody', 'skproduct', 'skrollr', 'skscene', 'skshapenode', 'skspritenode', 'skstorereviewcontroller', 'sktexture', 'sktextureatlas', 'skulpt', 'skview', 'skype', 'skype4com', 'sl4a', 'slack', 'slack-api', 'slam-algorithm', 'slash', 'slashdot', 'slcomposeviewcontroller', 'sleep', 'sleep-mode', 'slf4j', 'slice', 'slick.js', 'slickgrid', 'slickupload', 'slide', 'slidedown', 'slider', 'slideshow', 'slidetoggle', 'slideup', 'slidify', 'sliding', 'sliding-window', 'slidingdrawer', 'slidingmenu', 'slim', 'slim-3', 'slim-lang', 'slimdx', 'slime', 'slimerjs', 'slimscroll', 'sling', 'slot', 'slots', 'slowdown', 'slug', 'slurm', 'smack', 'smacss', 'smali', 'smalltalk', 'smalot-datetimepicker', 'smart-pointers', 'smart-quotes', 'smart-table', 'smartadmin', 'smartbanner', 'smartcard', 'smartcard-reader', 'smartclient', 'smartcollection', 'smartcontracts', 'smartos', 'smartphone', 'smarty', 'smarty3', 'smb', 'smil', 'smime', 'sml', 'smo', 'smooth-scrolling', 'smoothing', 'smp', 'sms', 'sms-gateway', 'sms-retriever-api', 'sms-verification', 'smsmanager', 'smt', 'smtp', 'smtp-auth', 'smtpclient', 'smtpexception', 'smtplib', 'sna', 'snackbar', 'snakeyaml', 'snap.js', 'snap.svg', 'snapchat', 'snapping', 'snapshot', 'sni', 'sniffer', 'sniffing', 'snk', 'snmp', 'snowball', 'snowfall', 'snowflake-cloud-data-platform', 'snyk', 'soa', 'soap', 'soap-client', 'soap-extension', 'soapfault', 'soaphandler', 'soapheader', 'soappy', 'soapui', 'socat', 'soci', 'social-framework', 'social-media', 'social-networking', 'socialengine', 'socket-timeout-exception', 'socket.io', 'socket.io-1.0', 'socket.io-redis', 'socketasynceventargs', 'socketexception', 'socketrocket', 'sockets', 'socketserver', 'sockjs', 'socks', 'soft-delete', 'soft-hyphen', 'soft-keyboard', 'soft-references', 'softmax', 'software-design', 'software-distribution', 'software-packaging', 'software-quality', 'software-update', 'soil', 'solana', 'solaris', 'solid-principles', 'solid-state-drive', 'solidity', 'solr', 'solr4', 'solrj', 'solrnet', 'solution', 'solution-explorer', 'solver', 'sonar-runner', 'sonarqube', 'sonarqube-5.0', 'sonarqube-5.4', 'sonarqube-ops', 'sonarqube-scan', 'sonata', 'sonata-admin', 'sonata-user-bundle', 'sonatype', 'sony', 'sony-smartwatch', 'soomla', 'soql', 'sorl-thumbnail', 'sorteddictionary', 'sortedlist', 'sortedmap', 'sortedset', 'sorting', 'sorting-network', 'sos', 'soundcloud', 'soundeffect', 'soundex', 'soundfont', 'soundplayer', 'soundpool', 'source-code-protection', 'source-compatibility', 'source-maps', 'sourcekit', 'sourcekitservice', 'sp-send-dbmail', 'space', 'space-complexity', 'space-partitioning', 'spacebars', 'spaces', 'spaceship-operator', 'spacing', 'spack', 'spacy', 'spam', 'spam-prevention', 'spamassassin', 'spannable', 'spannablestring', 'spanned', 'sparc', 'spark-dotnet', 'spark-framework', 'spark-java', 'spark-streaming', 'spark-submit', 'spark-view-engine', 'sparql', 'sparse-array', 'sparse-matrix', 'sparsehash', 'spatial', 'spatial-index', 'spatialite', 'spawn', 'spawning', 'spdx', 'spdy', 'speaker', 'specflow', 'special-characters', 'special-folders', 'specialization', 'specification-pattern', 'specifications', 'specifier', 'specs', 'spectre', 'spectrogram', 'spectrum', 'spectrumjs', 'speech', 'speech-recognition', 'speech-synthesis', 'speech-to-text', 'speechsynthesizer', 'speed-dial', 'speex', 'spell-checking', 'spelling', 'spfx', 'spgridview', 'sphinx', 'sphinx-napoleon', 'sphinxql', 'spi', 'spidermonkey', 'spin.js', 'spine.js', 'spinlock', 'spinner', 'spinwait', 'spiral', 'spl', 'spl-autoload-register', 'spl-autoloader', 'splash-js-render', 'splash-screen', 'splfileobject', 'splice', 'spline', 'splint', 'splinter', 'split', 'split-screen-multitasking', 'splitactionbar', 'splitcontainer', 'spliterator', 'splitpanel', 'splitter', 'spnego', 'spock', 'spongycastle', 'spoof', 'spoofing', 'spooler', 'sports-league-scheduling-problem', 'spotify', 'spotlight', 'spp', 'spray', 'spray-json', 'spread', 'spread-syntax', 'spreadsheet', 'spreadsheetlight', 'spring', 'spring-3', 'spring-4', 'spring-amqp', 'spring-android', 'spring-annotations', 'spring-aop', 'spring-aspects', 'spring-async', 'spring-batch', 'spring-bean', 'spring-boot', 'spring-boot-actuator', 'spring-boot-devtools', 'spring-boot-gradle-plugin', 'spring-boot-maven-plugin', 'spring-boot-test', 'spring-cache', 'spring-cloud', 'spring-cloud-aws', 'spring-cloud-config', 'spring-cloud-feign', 'spring-cloud-netflix', 'spring-cloud-sleuth', 'spring-cloud-stream', 'spring-config', 'spring-data', 'spring-data-cassandra', 'spring-data-commons', 'spring-data-elasticsearch', 'spring-data-jdbc', 'spring-data-jpa', 'spring-data-mongodb', 'spring-data-neo4j', 'spring-data-neo4j-4', 'spring-data-neo4j-5', 'spring-data-redis', 'spring-data-rest', 'spring-dm', 'spring-el', 'spring-filter', 'spring-form', 'spring-framework-beans', 'spring-hateoas', 'spring-integration', 'spring-ioc', 'spring-java-config', 'spring-jdbc', 'spring-jms', 'spring-jmx', 'spring-kafka', 'spring-ldap', 'spring-logback', 'spring-messaging', 'spring-mongo', 'spring-mongodb', 'spring-mvc', 'spring-mybatis', 'spring-oauth2', 'spring-orm', 'spring-oxm', 'spring-profiles', 'spring-rabbit', 'spring-rcp', 'spring-reactor', 'spring-remoting', 'spring-repositories', 'spring-rest', 'spring-restcontroller', 'spring-restdocs', 'spring-retry', 'spring-roo', 'spring-scheduled', 'spring-security', 'spring-security-oauth2', 'spring-session', 'spring-shell', 'spring-social', 'spring-social-facebook', 'spring-test', 'spring-test-mvc', 'spring-tool-suite', 'spring-transactions', 'spring-validator', 'spring-web', 'spring-webclient', 'spring-webflow', 'spring-webflow-2', 'spring-webflux', 'spring-websocket', 'spring-ws', 'spring-xd', 'spring.net', 'springboard', 'springfox', 'springlayout', 'springsource', 'sprite', 'sprite-kit', 'sprite-sheet', 'spritebuilder', 'spritely', 'sprockets', 'sproutcore', 'spservices', 'spss', 'spurious-wakeup', 'spy', 'spy++', 'spyder', 'spyon', 'sqflite', 'sql', 'sql-calc-found-rows', 'sql-date-functions', 'sql-delete', 'sql-execution-plan', 'sql-function', 'sql-generation', 'sql-in', 'sql-injection', 'sql-insert', 'sql-like', 'sql-loader', 'sql-order-by', 'sql-parser', 'sql-server', 'sql-server-2000', 'sql-server-2005', 'sql-server-2008', 'sql-server-2008-express', 'sql-server-2008-r2', 'sql-server-2008r2-express', 'sql-server-2012', 'sql-server-2012-express', 'sql-server-2014', 'sql-server-2014-express', 'sql-server-2016', 'sql-server-2017', 'sql-server-ce', 'sql-server-ce-4', 'sql-server-data-tools', 'sql-server-express', 'sql-to-linq-conversion', 'sql-update', 'sql-workbench-j', 'sqlalchemy', 'sqlanywhere', 'sqlbrite', 'sqlbulkcopy', 'sqlcachedependency', 'sqlcipher', 'sqlcipher-android', 'sqlclient', 'sqlclr', 'sqlcode', 'sqlcommand', 'sqlconnection', 'sqldataadapter', 'sqldatareader', 'sqldatasource', 'sqldatatypes', 'sqldbtype', 'sqldelight', 'sqldependency', 'sqldf', 'sqlexception', 'sqlgeography', 'sqlite', 'sqlite-net', 'sqlite-net-extensions', 'sqliteopenhelper', 'sqlmembershipprovider', 'sqlparameter', 'sqlproj', 'sqlsrv', 'sqltransaction', 'sqoop', 'sqr', 'sqrt', 'square-bracket', 'square-root', 'squarespace', 'squirrel.windows', 'squish', 'srand', 'src', 'srcset', 'srv', 'ssas', 'sscli', 'ssdp', 'sse', 'sse2', 'sse4', 'ssh', 'ssh-keygen', 'ssh-keys', 'ssh-tunnel', 'ssh.net', 'ssh2', 'ssh2-sftp', 'sshd', 'sshj', 'ssi', 'ssid', 'ssis', 'sskeychain', 'ssl', 'ssl-certificate', 'ssl-client-authentication', 'sslengine', 'sslerrorhandler', 'sslexception', 'sslhandshakeexception', 'sslsocketfactory', 'sslstream', 'sslv3', 'ssms', 'sspi', 'ssrs-2008', 'ssrs-2012', 'sstream', 'ssziparchive', 'sta', 'stability', 'stable-baselines', 'stack', 'stack-corruption', 'stack-frame', 'stack-memory', 'stack-overflow', 'stack-pointer', 'stack-size', 'stack-smash', 'stack-trace', 'stack-unwinding', 'stackalloc', 'stacked', 'stackexchange', 'stackexchange-api', 'stackexchange.redis', 'stackless', 'stackpanel', 'stackunderflow', 'stackview', 'stage', 'stagefright', 'staggeredgridlayout', 'staging', 'stan', 'standard-deviation', 'standard-layout', 'standard-library', 'standardized', 'standardjs', 'standards', 'standards-compliance', 'standby', 'stanford-nlp', 'stargazer', 'start-activity', 'startactivityforresult', 'starter-kits', 'startprocessinfo', 'startswith', 'starttls', 'startup', 'startupscript', 'stat', 'state', 'state-machine', 'state-machine-workflow', 'state-management', 'state-pattern', 'state-restoration', 'stateflow', 'stateful', 'stateful-session-bean', 'stateless', 'stateless-session', 'stateless-state-machine', 'statements', 'static', 'static-allocation', 'static-analysis', 'static-array', 'static-assert', 'static-cast', 'static-classes', 'static-code-analysis', 'static-constructor', 'static-factory', 'static-files', 'static-functions', 'static-import', 'static-initialization', 'static-initializer', 'static-libraries', 'static-linking', 'static-members', 'static-memory-allocation', 'static-methods', 'static-order-fiasco', 'static-pages', 'static-polymorphism', 'static-resource', 'static-site', 'static-typing', 'static-variables', 'statistics', 'statsd', 'statsmodels', 'status', 'statusbar', 'statusstrip', 'stax', 'std', 'std-expected', 'std-filesystem', 'std-function', 'std-pair', 'std-ranges', 'std-source-location', 'std-system-error', 'std-variant', 'stdafx.h', 'stdapply', 'stdarray', 'stdasync', 'stdatomic', 'stdbind', 'stdcall', 'stdclass', 'stderr', 'stdhash', 'stdin', 'stdinitializerlist', 'stdint', 'stdio', 'stdlaunder', 'stdlist', 'stdmap', 'stdmove', 'stdmutex', 'stdole', 'stdoptional', 'stdout', 'stdset', 'stdstring', 'stdthread', 'stdtuple', 'stdvector', 'steam', 'steam-web-api', 'steamworks-api', 'stemming', 'stenciljs', 'step-into', 'stepper', 'stereo-3d', 'stetho', 'sthttprequest', 'sticky', 'sticky-footer', 'stimulusjs', 'stl', 'stl-algorithm', 'stl-format', 'stlport', 'stm32', 'stochastic-process', 'stock', 'stockquotes', 'stocks', 'stomp', 'stomp.py', 'stop-words', 'stoppropagation', 'stopwatch', 'storage', 'storage-access-framework', 'storage-class-specifier', 'storage-duration', 'store', 'stored-procedures', 'storefront', 'storekit', 'storekittest', 'storing-data', 'storyboard', 'storybook', 'storyshots', 'str-replace', 'strace', 'strapi', 'strassen', 'strategy-pattern', 'strcat', 'strcat-s', 'strchr', 'strcmp', 'strcpy', 'strdup', 'stream', 'stream-compaction', 'stream-socket-client', 'streambuf', 'streaming', 'streaming-video', 'streamlit', 'streamreader', 'streamwriter', 'streamwriter.write', 'street-address', 'strength-reduction', 'strerror', 'stress-testing', 'stretch', 'stretching', 'strftime', 'strict', 'strict-aliasing', 'strict-mode', 'strict-weak-ordering', 'stride', 'strikethrough', 'string', 'string-algorithm', 'string-comparison', 'string-concatenation', 'string-conversion', 'string-formatting', 'string-hashing', 'string-interning', 'string-interpolation', 'string-iteration', 'string-length', 'string-literals', 'string-matching', 'string-parsing', 'string-pool', 'string-search', 'string-table', 'string-utils', 'string-view', 'string.format', 'string.h', 'string.xml', 'stringbuffer', 'stringbuilder', 'stringbyevaluatingjavascr', 'stringcomparer', 'stringification', 'stringify', 'stringreader', 'stringstream', 'stringtemplate', 'stringtokenizer', 'stringwithformat', 'stringwithstring', 'strip', 'strip-tags', 'stripe-connect', 'stripe-payments', 'stripe.js', 'stripslashes', 'strlen', 'strncpy', 'stroke', 'stroke-dasharray', 'strokeshadow', 'strong-references', 'strong-typing', 'strongloop', 'strongly-typed-dataset', 'strongname', 'strongswan', 'strpos', 'strptime', 'strsep', 'strstr', 'strtod', 'strtok', 'strtotime', 'strtr', 'struct', 'structlayout', 'structural-search', 'structural-typing', 'structure', 'structure-packing', 'structured-array', 'structured-bindings', 'structured-concurrency', 'structured-programming', 'structuremap', 'structuremap3', 'struts', 'struts-1', 'struts-config', 'struts-validation', 'struts1', 'struts2', 'struts2-json-plugin', 'sts-springsourcetoolsuite', 'stty', 'stub', 'stubbing', 'stubs', 'stun', 'stunnel', 'stylecop', 'styled-components', 'styleddocument', 'stylelint', 'styles', 'stylesheet', 'styling', 'stylish', 'stylus', 'stylus-pen', 'su', 'sub-array', 'subclass', 'subclassing', 'subclipse', 'subcommand', 'subdirectory', 'subdocument', 'subdomain', 'subforms', 'subgraph', 'subject', 'sublime-text-plugin', 'sublimetext', 'sublimetext2', 'sublimetext3', 'sublist', 'submenu', 'submission', 'submit', 'submit-button', 'submitchanges', 'subnet', 'subparsers', 'subpixel', 'subplot', 'subprocess', 'subproject', 'subquery', 'subreports', 'subresource-integrity', 'subroutine', 'subsampling', 'subscribe', 'subscriber', 'subscript', 'subscript-operator', 'subscription', 'subscriptions', 'subsequence', 'subset', 'subset-sum', 'subsonic', 'subsonic3', 'substance', 'substitution', 'substr', 'substring', 'subtitle', 'subtraction', 'subtree', 'subversive', 'subview', 'subviews', 'sudo', 'sudoku', 'suds', 'sudzc', 'suexec', 'suffix', 'suffix-array', 'suffix-tree', 'sugarcrm', 'suhosin', 'suid', 'suite', 'suitescript', 'suitescript2.0', 'sum', 'summarization', 'summarize', 'summary', 'summernote', 'sun', 'sunburst-diagram', 'sundown', 'sunos', 'sunrpc', 'sup', 'super', 'superagent', 'superblock', 'superclass', 'supercsv', 'superfish', 'superglobals', 'superpower', 'superpowered', 'superscript', 'supertest', 'superuser', 'superview', 'supervisord', 'suphp', 'supportmapfragment', 'suppress', 'suppress-warnings', 'suppressfinalize', 'suppressmessage', 'surefire', 'surf', 'surface', 'surface-pro', 'surfaceflinger', 'surfaceholder', 'surfaceview', 'surrogate-pairs', 'survey', 'suspend', 'susy-compass', 'svc', 'svcutil.exe', 'svd', 'svelte', 'svelte-3', 'svelte-component', 'sveltekit', 'svg', 'svg-android', 'svg-animate', 'svg-filters', 'svg-morphing', 'svg-sprite', 'svg.js', 'svgwrite', 'svm', 'svn', 'svnkit', 'swagger', 'swagger-2.0', 'swagger-codegen', 'swagger-ui', 'swallowed-exceptions', 'swank', 'swap', 'swar', 'swashbuckle', 'swashbuckle.aspnetcore', 'swc-compiler', 'sweetalert', 'sweetalert2', 'swfobject', 'swfupload', 'swift', 'swift-extensions', 'swift-keypath', 'swift-package', 'swift-package-manager', 'swift-playground', 'swift-protocols', 'swift2', 'swift3', 'swift4', 'swift4.1', 'swift4.2', 'swift5', 'swiftcharts', 'swiftlint', 'swiftmailer', 'swiftpm', 'swiftui', 'swiftui-animation', 'swiftui-form', 'swiftui-list', 'swiftui-navigationlink', 'swiftui-navigationview', 'swiftui-scrollview', 'swiftui-tabview', 'swifty-draw', 'swifty-json', 'swig', 'swing', 'swing-highlighter', 'swingutilities', 'swingworker', 'swingx', 'swinject', 'swipe', 'swipe-gesture', 'swiper.js', 'swiperefreshlayout', 'swipeview', 'switch-expression', 'switch-statement', 'switchcompat', 'swizzling', 'swrevealviewcontroller', 'swt', 'sxs', 'sybase', 'symantec', 'symbian', 'symbol-table', 'symbol-tables', 'symbolic-math', 'symbolicate', 'symbolicatecrash', 'symbols', 'symfony', 'symfony-1.4', 'symfony-2.0', 'symfony-2.1', 'symfony-2.2', 'symfony-2.3', 'symfony-2.5', 'symfony-2.7', 'symfony-3.2', 'symfony-3.3', 'symfony-3.4', 'symfony-4.3', 'symfony-components', 'symfony-dependency-injection', 'symfony-filesystem', 'symfony-finder', 'symfony-flex', 'symfony-forms', 'symfony-mailer', 'symfony-messenger', 'symfony-process', 'symfony-security', 'symfony-sonata', 'symfony-validator', 'symfony1', 'symfony2-forms', 'symfony3.x', 'symfony4', 'symfony5', 'symlink', 'symlink-traversal', 'sympy', 'syncdb', 'synced-folder', 'synchronization', 'synchronizationcontext', 'synchronize', 'synchronized', 'synchronized-block', 'synchronous', 'syncml', 'syndication', 'syndication-feed', 'synonym', 'syntactic-sugar', 'syntax', 'syntax-error', 'syntax-highlighting', 'syntaxhighlighter', 'synthesize', 'synthesizer', 'sys', 'sys.path', 'sysctl', 'sysfs', 'sysinfo', 'syslistview32', 'syslog', 'system', 'system-administration', 'system-alert-window', 'system-calls', 'system-clock', 'system-codedom-compiler', 'system-configuration', 'system-design', 'system-font', 'system-information', 'system-properties', 'system-requirements', 'system-shutdown', 'system-sounds', 'system-testing', 'system-tray', 'system-variable', 'system.array', 'system.componentmodel', 'system.configuration', 'system.data', 'system.data.datatable', 'system.data.sqlite', 'system.diagnostics', 'system.drawing', 'system.drawing.color', 'system.exit', 'system.interactive', 'system.io.compression', 'system.io.directory', 'system.messaging', 'system.net', 'system.net.httpwebrequest', 'system.net.mail', 'system.net.webexception', 'system.printing', 'system.reactive', 'system.reflection', 'system.text.json', 'system.timers.timer', 'system.transactions', 'system.type', 'system.version', 'system.web', 'system.web.extensions', 'system.web.http', 'system.web.optimization', 'system.web.ui.webcontrols', 'system.windows.media', 'system.xml', 'systemctl', 'systemd', 'systemexit', 'systemjs', 'systemmenu', 'systems-programming', 'systemtap', 'systemtime', 'systrace', 'systray', 't4', 't4mvc', 't9', 'tab-completion', 'tab-ordering', 'tabbar', 'tabbarcontroller', 'tabbedpage', 'tabbing', 'tabcontrol', 'tabindex', 'table-data-gateway', 'table-per-class', 'table-per-type', 'table-valued-parameters', 'tableadapter', 'tablecell', 'tablecelleditor', 'tablecellrenderer', 'tablefilter', 'tablelayout', 'tablelayoutpanel', 'tablemodel', 'tableofcontents', 'tablerow', 'tablesorter', 'tablet', 'tabletools', 'tableview', 'tableviewer', 'tabpage', 'tabpanel', 'tabs', 'tabstop', 'tabular', 'tabulator', 'tabview', 'tabwidget', 'tactionmanager', 'tag-cloud', 'tag-helpers', 'tag-it', 'tagbuilder', 'tagfile', 'tagged-corpus', 'tagging', 'taglet', 'taglib', 'taglib-sharp', 'taglist', 'tags', 'tail', 'tail-call-optimization', 'tail-recursion', 'tailrecursion-modulo-cons', 'tailwind-3', 'tailwind-css', 'tailwind-in-js', 'tailwind-ui', 'take', 'talkback', 'tamil', 'tampering', 'tampermonkey', 'taocp', 'tap', 'tapestry', 'tapi', 'tapjoy', 'tapku', 'tar', 'tarfile', 'target', 'target-action', 'target-platform', 'target-sdk', 'targeting', 'targets', 'targetsdkversion', 'task', 'task-parallel-library', 'task-queue', 'taskbar', 'taskcompletionsource', 'taskfactory', 'tasklet', 'taskmanager', 'taskscheduler', 'taskstackbuilder', 'taskwarrior', 'tastypie', 'tax', 'taxonomy-terms', 'tbb', 'tbxml', 'tcc', 'tchar', 'tcl', 'tcmalloc', 'tcp', 'tcp-port', 'tcpclient', 'tcpdf', 'tcpdump', 'tcplistener', 'tcpserver', 'tcpsocket', 'tdd', 'tdm-gcc', 'tdm-mingw', 'tealium', 'team-explorer-everywhere', 'teamcity', 'teamcity-7.1', 'teamcity-8.0', 'teamprise', 'teamsite', 'tedious', 'tee', 'tel', 'telecom-manager', 'telegraf', 'telegram', 'telegram-api', 'telegram-bot', 'telephony', 'telephonymanager', 'telerik', 'telerik-mvc', 'telescope', 'telethon', 'television', 'tell-dont-ask', 'telnet', 'temp', 'temp-tables', 'temperature', 'template-aliases', 'template-argument-deduction', 'template-classes', 'template-engine', 'template-function', 'template-inheritance', 'template-instantiation', 'template-literals', 'template-matching', 'template-meta-programming', 'template-method-pattern', 'template-mixins', 'template-specialization', 'template-strings', 'template-tal', 'template-templates', 'template-toolkit', 'template-variables', 'template10', 'templates', 'templatetag', 'templating', 'templating-engine', 'temporal', 'temporaries', 'temporary', 'temporary-directory', 'temporary-files', 'temporary-objects', 'tensor', 'tensorboard', 'tensorflow', 'tensorflow-datasets', 'tensorflow-estimator', 'tensorflow-hub', 'tensorflow-lite', 'tensorflow-probability', 'tensorflow-serving', 'tensorflow.js', 'tensorflow2.0', 'tensorflowjs-converter', 'teradata', 'terminal', 'terminal-color', 'terminal-emulator', 'terminal-ide', 'terminal-services', 'terminal.gui', 'terminate', 'termination', 'terminator', 'terminology', 'termios', 'ternary', 'ternary-operator', 'terracotta', 'terraform', 'terraform-provider-azure', 'terrain', 'terser', 'tess4j', 'tesselation', 'tesseract', 'tesseract.js', 'test-and-set', 'test-coverage', 'test-data', 'test-double', 'test-explorer', 'test-reporting', 'test-runner', 'test-suite', 'testability', 'testcafe', 'testcase', 'testcasesource', 'testcontainers', 'testdoublejs', 'testdriven.net', 'testflight', 'testing', 'testng', 'tether', 'tethering', 'tex', 'text', 'text-align', 'text-alignment', 'text-analysis', 'text-chunking', 'text-classification', 'text-cursor', 'text-decorations', 'text-editor', 'text-extraction', 'text-files', 'text-formatting', 'text-indent', 'text-justify', 'text-manipulation', 'text-mining', 'text-normalization', 'text-parsing', 'text-processing', 'text-recognition', 'text-rendering', 'text-search', 'text-segmentation', 'text-size', 'text-styling', 'text-to-speech', 'textarea', 'textblock', 'textbox', 'textchanged', 'textcolor', 'textfield', 'textile', 'textinput', 'textinputlayout', 'textkit', 'textmate', 'textmatebundles', 'textnode', 'textrange', 'textreader', 'textselection', 'texttrimming', 'texture-atlas', 'texture-mapping', 'texture-wrapping', 'texture2d', 'textures', 'textureview', 'textview', 'textwatcher', 'textwriter', 'tf-idf', 'tf.keras', 'tfhpple', 'tfidfvectorizer', 'tfrecord', 'tfs', 'tfs-code-review', 'tfsbuild', 'tftp', 'thai', 'theano', 'thejit', 'themeroller', 'themes', 'theming', 'theory', 'theos', 'thephpleague', 'thermal-printer', 'therubyracer', 'theta360', 'thickbox', 'thin', 'thinktecture-ident-server', 'this', 'this-pointer', 'thorntail', 'thread-abort', 'thread-id', 'thread-local', 'thread-local-storage', 'thread-priority', 'thread-safety', 'thread-sanitizer', 'thread-sleep', 'thread-state', 'thread-static', 'thread-synchronization', 'threadcontext', 'threadgroup', 'threadpool', 'threadpoolexecutor', 'threads.h', 'threadstatic', 'three.js', 'three20', 'threetenabp', 'threetenbp', 'threshold', 'thrift', 'thrift-protocol', 'throttling', 'throughput', 'throw', 'throws', 'thrust', 'thumb', 'thumbnails', 'thunderbird', 'thunderbird-addon', 'thunderbird-lightning', 'thunk', 'thymeleaf', 'ti-basic', 'tia-portal', 'tic-tac-toe', 'ticker', 'ticket-system', 'ticket-tracking', 'tiddlywiki', 'tidesdk', 'tidy', 'tiff', 'tightly-coupled-code', 'tikz', 'tilde-expansion', 'tile', 'tiles', 'tiles-3', 'tiles2', 'tiling', 'timber', 'time', 'time-and-attendance', 'time-complexity', 'time-format', 'time-measurement', 'time-precision', 'time-series', 'time-t', 'time-tracking', 'time-travel', 'time.h', 'time4j', 'timeago', 'timedelay', 'timedelta', 'timeit', 'timeline', 'timeout', 'timepicker', 'timer', 'timertask', 'timescaledb', 'timeserieschart', 'timeslots', 'timespan', 'timespec', 'timestamp', 'timestamp-with-timezone', 'timeunit', 'timeval', 'timezone', 'timezone-offset', 'timing', 'timing-attack', 'timthumb', 'timtowtdi', 'tinker', 'tinkerpop', 'tint', 'tintcolor', 'tinyint', 'tinyioc', 'tinymce', 'tinymce-3', 'tinymce-4', 'tinymce-rails', 'tinyurl', 'tipsy', 'tiptip', 'titan', 'titanium', 'titanium-alloy', 'titanium-mobile', 'title', 'title-case', 'titlebar', 'titleview', 'tix', 'tizen', 'tizen-native-app', 'tizen-wearable-sdk', 'tk-toolkit', 'tkinter', 'tkinter-canvas', 'tkinter-entry', 'tkinter-scale', 'tkmessagebox', 'tlb', 'tlbexp', 'tld', 'tls1.0', 'tls1.1', 'tls1.2', 'tls1.3', 'tmp', 'tms', 'tmux', 'tnsnames', 'to-date', 'toarray', 'toast', 'toctree', 'tocttou', 'todataurl', 'today-extension', 'todo', 'todomvc', 'toggle', 'togglebutton', 'toggleswitch', 'token', 'token-name-resolution', 'tokenize', 'tokyo-cabinet', 'tolower', 'tomcat', 'tomcat-jdbc', 'tomcat5.5', 'tomcat6', 'tomcat7', 'tomcat8', 'tomcat9', 'tomtom', 'toolbar', 'toolbars', 'toolbox', 'toolchain', 'toolkit', 'tools.jar', 'toolstrip', 'toolstripbutton', 'toolstripdropdown', 'toolstripmenu', 'tooltip', 'tooltipster', 'top-down', 'top-level-await', 'topic-modeling', 'topmost', 'topography', 'topojson', 'topology', 'topshelf', 'tor', 'torch', 'torchvision', 'tornado', 'tortoisesvn', 'tostring', 'total.js', 'touch', 'touch-event', 'touch-id', 'touches', 'touchesbegan', 'touchescancelled', 'touchesmoved', 'touchmove', 'touchpad', 'touchscreen', 'touchstart', 'touchxml', 'tournament', 'towerjs', 'tox', 'tph', 'tpl-dataflow', 'tqdm', 'tr1', 'tr24731', 'trac', 'trace', 'trace-listener', 'traceback', 'tracelistener', 'traceroute', 'tracesource', 'tracker', 'tracking', 'trading', 'traffic', 'trailing', 'trailing-return-type', 'trailing-slash', 'trailsjs', 'training-data', 'traits', 'tramp', 'trampolines', 'transaction-log', 'transactional', 'transactional-memory', 'transactions', 'transactionscope', 'transactiontoolargeexception', 'transclusion', 'transcoding', 'transcription', 'transcrypt', 'transfer', 'transfer-encoding', 'transferable', 'transform', 'transformable', 'transformation', 'transformation-matrix', 'transformer-model', 'transient', 'transition', 'transitional', 'transitions', 'transitive-dependency', 'transitivity', 'translate', 'translate-animation', 'translate3d', 'translation', 'transliteration', 'translucency', 'transmission', 'transmitfile', 'transparency', 'transparent', 'transpiler', 'transport', 'transpose', 'travel-time', 'traveling-salesman', 'traversal', 'travis-ci', 'tray', 'trayicon', 'tree', 'tree-nodes', 'tree-shaking', 'tree-structure', 'tree-traversal', 'treemap', 'treenode', 'treeset', 'treesitter', 'treetable', 'treeview', 'trello', 'trending', 'trendline', 'trial', 'trialware', 'triangulation', 'tridion', 'tridion-2011', 'tridion2009', 'trie', 'trigger.io', 'triggers', 'trigonometry', 'trigraphs', 'trilateration', 'trim', 'triple-equals', 'tripledes', 'trix', 'tropo', 'truetype', 'truevault', 'truezip', 'truffle', 'truncate', 'truncation', 'trunk', 'trust', 'trusted-sites', 'truststore', 'truthiness', 'truthtable', 'try-catch', 'try-catch-finally', 'try-except', 'try-finally', 'try-with-resources', 'tryinvokemember', 'tryparse', 'ts-jest', 'ts-loader', 'ts-node', 'ts-node-dev', 'tsc', 'tsconfig', 'tsconfig-paths', 'tsd', 'tshark', 'tslint', 'tspan', 'tsql', 'tsx', 'tsyringe', 'ttk', 'ttl', 'ttml', 'tty', 'tuckey-urlrewrite-filter', 'tufte', 'tui', 'tumblr', 'tun', 'tunnel', 'tunneling', 'tup', 'tuples', 'turbo', 'turbo-c', 'turbojpeg', 'turbolinks', 'turborepo', 'turfjs', 'turi-create', 'turing-complete', 'turing-machines', 'turkish', 'turnjs', 'turtle-graphics', 'tutum', 'tv4', 'tvos', 'twa', 'twain', 'tweak', 'twebbrowser', 'tween', 'tweepy', 'tweets', 'twemproxy', 'twig', 'twig-extension', 'twilio', 'twilio-api', 'twilio-click-to-call', 'twilio-php', 'twincat', 'twine', 'twisted', 'twitch', 'twitter', 'twitter-bootstrap', 'twitter-bootstrap-2', 'twitter-bootstrap-3', 'twitter-bootstrap-4', 'twitter-bootstrap-rails', 'twitter-bootstrap-tooltip', 'twitter-button', 'twitter-card', 'twitter-fabric', 'twitter-follow', 'twitter-login', 'twitter-oauth', 'twitter-streaming-api', 'twitter-typeahead', 'twitter4j', 'twitterkit', 'two-factor-authentication', 'two-legged', 'two-way', 'two-way-binding', 'twos-complement', 'tws', 'txf', 'tycho', 'type-alias', 'type-annotation', 'type-bounds', 'type-coercion', 'type-constraints', 'type-conversion', 'type-deduction', 'type-erasure', 'type-hinting', 'type-inference', 'type-mismatch', 'type-parameter', 'type-promotion', 'type-providers', 'type-punning', 'type-safety', 'type-systems', 'type-theory', 'typeahead', 'typeahead.js', 'typecast-operator', 'typecasting-operator', 'typechecking', 'typeclass', 'typeconverter', 'typed', 'typed-arrays', 'typed-memory-views', 'typedarray', 'typedef', 'typeerror', 'typeface', 'typeface.js', 'typegraphql', 'typeid', 'typeinfo', 'typeinitializer', 'typelib', 'typemock', 'typemock-isolator', 'typename', 'typeof', 'typeorm', 'types', 'typesafe-activator', 'typesafe-config', 'typescript', 'typescript-compiler-api', 'typescript-conditional-types', 'typescript-declarations', 'typescript-eslint', 'typescript-generics', 'typescript-typings', 'typescript1.4', 'typescript1.5', 'typescript1.6', 'typescript1.7', 'typescript1.8', 'typescript2.0', 'typescript2.1', 'typescript2.2', 'typescript3.0', 'typetraits', 'typhoon', 'typing', 'typo3', 'typo3-10.x', 'typo3-11.x', 'typography', 'typoscript', 'tzdata', 'u-boot', 'uac', 'uart', 'uber-api', 'uberjar', 'ublas', 'ubsan', 'ubuntu', 'ubuntu-10.04', 'ubuntu-10.10', 'ubuntu-11.04', 'ubuntu-12.04', 'ubuntu-12.10', 'ubuntu-13.10', 'ubuntu-14.04', 'ubuntu-15.04', 'ubuntu-15.10', 'ubuntu-16.04', 'ubuntu-17.04', 'ubuntu-18.04', 'ubuntu-20.04', 'ubuntu-8.10', 'ubuntu-9.04', 'ubuntu-9.10', 'ubuntu-server', 'uc-browser', 'ucfirst', 'uclibc', 'uclinux', 'ucma2.0', 'ucontext', 'ucs', 'ucs2', 'udev', 'udf', 'udid', 'udp', 'udpclient', 'uglifyjs', 'uglifyjs2', 'ui-automation', 'ui-calendar', 'ui-codemirror', 'ui-guidelines', 'ui-select', 'ui-select2', 'ui-spy', 'ui-sref', 'ui-testing', 'ui-thread', 'ui-virtualization', 'uiaccelerometer', 'uiaccessibility', 'uiaccessibility-notification', 'uiactionsheet', 'uiactivity', 'uiactivitycategory', 'uiactivityindicatorview', 'uiactivitytypeairdrop', 'uiactivityviewcontroller', 'uialertaction', 'uialertcontroller', 'uialertview', 'uialertviewcontroller', 'uialertviewdelegate', 'uianimation', 'uiappearance', 'uiapplication', 'uiapplicationdelegate', 'uiapplicationshortcutitem', 'uibackgroundcolor', 'uibackgroundmode', 'uibackgroundtask', 'uibarbuttonitem', 'uibarbuttonitemstyle', 'uibarbuttonsystemitem', 'uibaritem', 'uibezierpath', 'uibinder', 'uiblureffect', 'uibutton', 'uicollectionreusableview', 'uicollectionview', 'uicollectionviewcell', 'uicollectionviewcompositionallayout', 'uicollectionviewdelegate', 'uicollectionviewdiffabledatasource', 'uicollectionviewflowlayout', 'uicollectionviewlayout', 'uicollisionbehavior', 'uicolor', 'uicomponents', 'uicontainerview', 'uicontrol', 'uicontrolevents', 'uicontrolstate', 'uid', 'uidatepicker', 'uidevice', 'uideviceorientation', 'uidocument', 'uidocumentinteraction', 'uidocumentpickervc', 'uidocumentpickerviewcontroller', 'uidragitem', 'uidynamicanimator', 'uidynamicbehavior', 'uiedgeinsets', 'uielement', 'uievent', 'uifeedbackgenerator', 'uifont', 'uifontpickerviewcontroller', 'uigesturerecognizer', 'uigraphicscontext', 'uihostingcontroller', 'uiimage', 'uiimageasset', 'uiimagejpegrepresentation', 'uiimagepickercontroller', 'uiimagepngrepresentation', 'uiimageview', 'uiinputviewcontroller', 'uiinterfaceorientation', 'uikeyboard', 'uikeyboardtype', 'uikeycommand', 'uikit', 'uikit-dynamics', 'uikit-state-preservation', 'uilabel', 'uilocalnotification', 'uilongpressgesturerecogni', 'uimanageddocument', 'uimanager', 'uimenu', 'uimenucontroller', 'uimodalpresentationcustom', 'uimodalpresentationstyle', 'uimodaltransitionstyle', 'uinavigationbar', 'uinavigationbarappearance', 'uinavigationcontroller', 'uinavigationitem', 'uint', 'uint32', 'uint32-t', 'uint64', 'uint8array', 'uint8t', 'uipagecontrol', 'uipageviewcontroller', 'uipangesturerecognizer', 'uipasteboard', 'uipicker', 'uipickerview', 'uipickerviewcontroller', 'uipickerviewdatasource', 'uipickerviewdelegate', 'uipinchgesturerecognizer', 'uipopover', 'uipopoverbackgroundview', 'uipopovercontroller', 'uipresentationcontroller', 'uiprintformatter', 'uiprintinfo', 'uiprintinteractioncntrler', 'uiprogressbar', 'uiprogressview', 'uirefreshcontrol', 'uiresponder', 'uiscreen', 'uiscrollview', 'uiscrollviewdelegate', 'uisearchbar', 'uisearchbardelegate', 'uisearchbardisplaycontrol', 'uisearchcontroller', 'uisearchdisplaycontroller', 'uisearchresultscontroller', 'uisegmentedcontrol', 'uislider', 'uisplitviewcontroller', 'uistackview', 'uistatusbar', 'uistoryboard', 'uistoryboardsegue', 'uiswipeactionsconfiguration', 'uiswipegesturerecognizer', 'uiswitch', 'uitabbar', 'uitabbarcontroller', 'uitabbaritem', 'uitableview', 'uitableviewautomaticdimension', 'uitableviewrowaction', 'uitableviewsectionheader', 'uitabview', 'uitapgesturerecognizer', 'uitest', 'uitextfield', 'uitextfielddelegate', 'uitextinput', 'uitextposition', 'uitextrange', 'uitextview', 'uitextviewdelegate', 'uitoolbar', 'uitouch', 'uitraitcollection', 'uivibrancyeffect', 'uiview', 'uiview-hierarchy', 'uiviewanimation', 'uiviewanimation-curve', 'uiviewanimationtransition', 'uiviewcontentmode', 'uiviewcontroller', 'uiviewpropertyanimator', 'uiviewrepresentable', 'uivisualeffectview', 'uiwebview', 'uiwebviewdelegate', 'uiwindow', 'ujs', 'ujson', 'ulimit', 'ulong', 'ultrawingrid', 'umask', 'umbraco', 'umbraco7', 'umd', 'umijs', 'uml', 'unary-function', 'unary-operator', 'unassigned-variable', 'unauthorized', 'unauthorizedaccessexcepti', 'unbind', 'unbounded-wildcard', 'unboxing', 'unbuffered', 'unbuffered-output', 'unbuffered-queries', 'unc', 'uncaught-exception', 'uncaughtexceptionhandler', 'unchecked', 'unchecked-exception', 'uncrustify', 'undeclared-identifier', 'undef', 'undefined', 'undefined-behavior', 'undefined-function', 'undefined-index', 'undefined-reference', 'undefined-symbol', 'underflow', 'underline', 'underscore.js', 'underscore.js-templating', 'undertow', 'undo', 'undo-redo', 'undocumented-behavior', 'unet-neural-network', 'unhandled', 'unhandled-exception', 'unhandled-promise-rejection', 'unhookwindowshookex', 'unichar', 'unicode', 'unicode-escapes', 'unicode-literals', 'unicode-normalization', 'unicode-string', 'unification', 'uniform', 'uniform-distribution', 'uniform-initialization', 'unify', 'uninstallation', 'union', 'union-find', 'unions', 'unique', 'unique-constraint', 'unique-id', 'unique-index', 'unique-key', 'unique-ptr', 'uniqueidentifier', 'unirest', 'unistd.h', 'unisys', 'unit-conversion', 'unit-of-work', 'unit-testing', 'units-of-measurement', 'unittest++', 'unittest2', 'unity-container', 'unity-networking', 'unity-test-framework', 'unity3d', 'unity3d-2dtools', 'unity3d-unet', 'unityscript', 'universal', 'universal-binary', 'universal-crt', 'universal-image-loader', 'universal-provider', 'universal-reference', 'universal-storyboard', 'unix', 'unix-ar', 'unix-socket', 'unix-timestamp', 'unixodbc', 'unlink', 'unlock', 'unmanaged', 'unmanaged-memory', 'unmarshalling', 'unminify', 'unmodifiable', 'unnotificationrequest', 'unnotificationserviceextension', 'uno-platform', 'unobserved-exception', 'unobtrusive-ajax', 'unobtrusive-javascript', 'unobtrusive-validation', 'unoconv', 'unordered', 'unordered-map', 'unordered-multiset', 'unordered-set', 'unpack', 'unqualified-name', 'unreachable-code', 'unreal-blueprint', 'unreal-development-kit', 'unreal-engine4', 'unrecognized-selector', 'unresolved-external', 'unroll', 'unsafe', 'unsatisfiedlinkerror', 'unset', 'unsigned', 'unsigned-char', 'unsigned-integer', 'unsigned-long-long-int', 'unspecified-behavior', 'unsubscribe', 'unsupervised-learning', 'unsupported-class-version', 'unused-variables', 'unusernotificationcenter', 'unwarp', 'unwind-segue', 'unzip', 'uos', 'up-button', 'upcasting', 'updatemodel', 'updatepanel', 'updates', 'updatesourcetrigger', 'updating', 'upgrade', 'upi', 'upload', 'uploadify', 'uploading', 'upnp', 'upperbound', 'uppercase', 'ups', 'upsert', 'upstart', 'uptime', 'urbanairship.com', 'uri', 'uri-fragment', 'uri-scheme', 'url', 'url-encoding', 'url-for', 'url-parameters', 'url-parsing', 'url-pattern', 'url-rewriting', 'url-routing', 'url-scheme', 'url-shortener', 'url-validation', 'url.action', 'urlclassloader', 'urlconf', 'urlconnection', 'urldecode', 'urlencode', 'urlfetch', 'urllib', 'urllib2', 'urllib3', 'urlopen', 'urlparse', 'urlrequest', 'urlsession', 'urwid', 'usability', 'usagepatterns', 'usart', 'usb', 'usb-debugging', 'usb-descriptor', 'usb-drive', 'usb-otg', 'usbserial', 'use-case', 'use-effect', 'use-reducer', 'use-ref', 'use-state', 'use-strict', 'usecallback', 'user-acceptance-testing', 'user-accounts', 'user-agent', 'user-controls', 'user-data', 'user-defined', 'user-defined-functions', 'user-defined-literals', 'user-defined-types', 'user-event', 'user-experience', 'user-friendly', 'user-guide', 'user-identification', 'user-inactivity', 'user-input', 'user-interaction', 'user-interface', 'user-management', 'user-manual', 'user-messaging-platform', 'user-permissions', 'user-preferences', 'user-profile', 'user-roles', 'user-thread', 'user.config', 'user32', 'usercake', 'userdefaults', 'userfrosting', 'usergroups', 'userid', 'userinfo', 'userlocation', 'usernotifications', 'userprincipal', 'userscripts', 'userstyles', 'usertype', 'using', 'using-declaration', 'using-directives', 'using-statement', 'usort', 'utc', 'utf', 'utf-16', 'utf-16le', 'utf-32', 'utf-7', 'utf-8', 'utf8-decode', 'utf8mb4', 'uti', 'utilities', 'utility', 'utility-method', 'utilization', 'utm', 'uuid', 'uv-mapping', 'uvc', 'uvicorn', 'uwp', 'uwp-maps', 'uwp-xaml', 'uwsgi', 'v-for', 'v-slot', 'v4l', 'v4l2', 'v8', 'vaadin', 'vaadin-flow', 'vaadin-touchkit', 'vaadin-valo-theme', 'vaadin14', 'vaadin7', 'vagrant', 'vagrantfile', 'vala', 'valarray', 'valgrind', 'validation', 'validation-application-bl', 'validationattribute', 'validationgroup', 'validationrule', 'validationrules', 'validationsummary', 'valign', 'value-categories', 'value-class', 'value-initialization', 'value-objects', 'value-type', 'valueconverter', 'valueerror', 'valueinjecter', 'valuetask', 'valuetuple', 'vapid', 'vapor', 'var', 'var-dump', 'variable-assignment', 'variable-declaration', 'variable-initialization', 'variable-length', 'variable-length-array', 'variable-names', 'variable-product', 'variable-templates', 'variable-types', 'variable-width', 'variables', 'variadic', 'variadic-functions', 'variadic-macros', 'variadic-templates', 'variance', 'variant', 'varnish', 'varnish-vcl', 'varying', 'vavr', 'vb.net', 'vb.net-2010', 'vb.net-to-c#', 'vb6', 'vb6-migration', 'vba', 'vbe', 'vbide', 'vbo', 'vbscript', 'vcf-vcard', 'vcredist', 'vdso', 'vector', 'vector-clock', 'vector-graphics', 'vector-tiles', 'vectorization', 'vee-validate', 'vega', 'vega-lite', 'velo', 'velocity', 'velocity.js', 'vendor', 'vendor-neutrality', 'vendor-prefix', 'vendors', 'venn-diagram', 'verbatim-string', 'verbose', 'vercel', 'verdaccio', 'verification', 'verifone', 'verify', 'verifyerror', 'verilog', 'verisign', 'version', 'version-control', 'version-detection', 'versioning', 'versions', 'versions-maven-plugin', 'vertex', 'vertex-buffer', 'vertex-shader', 'vertical-alignment', 'vertical-scrolling', 'vertical-text', 'vetur', 'vfio', 'vfork', 'vfs', 'vfs-stream', 'vgg-net', 'vhdl', 'vhosts', 'vi', 'vibration', 'vichuploaderbundle', 'video', 'video-capture', 'video-codecs', 'video-conferencing', 'video-conversion', 'video-editing', 'video-embedding', 'video-encoding', 'video-game-consoles', 'video-memory', 'video-player', 'video-processing', 'video-recording', 'video-streaming', 'video-thumbnails', 'video-toolbox', 'video.js', 'videochat', 'view', 'view-debugging', 'view-helpers', 'view-hierarchy', 'view-model-pattern', 'view-templates', 'viewanimator', 'viewbag', 'viewcontroller', 'viewcontroller-lifecyle', 'viewdata', 'viewdidappear', 'viewdidlayoutsubviews', 'viewdidload', 'viewdidunload', 'viewengine', 'viewer', 'viewexpiredexception', 'viewflipper', 'viewgroup', 'viewmodel', 'viewmodel-savedstate', 'viewmodellocator', 'viewpage', 'viewpagerindicator', 'viewport', 'viewport-units', 'viewpropertyanimator', 'viewstate', 'viewstub', 'viewswitcher', 'viewwillappear', 'viewwilltransitiontosize', 'vim', 'vim-plugin', 'vim-syntax-highlighting', 'vimage', 'vimdiff', 'vimeo', 'vimeo-api', 'vimeo-ios', 'vimeo-player', 'vine', 'violin-plot', 'viper-architecture', 'virtual', 'virtual-address-space', 'virtual-attribute', 'virtual-destructor', 'virtual-device-manager', 'virtual-directory', 'virtual-dom', 'virtual-environment', 'virtual-functions', 'virtual-hosts', 'virtual-inheritance', 'virtual-keyboard', 'virtual-machine', 'virtual-memory', 'virtual-reality', 'virtual-serial-port', 'virtual-server', 'virtualalloc', 'virtualbox', 'virtualenv', 'virtualenv-commands', 'virtualenvwrapper', 'virtualhost', 'virtualization', 'virtualizingstackpanel', 'virtualmin', 'virtualquery', 'virtuemart', 'virus', 'virus-scanning', 'vis.js', 'vis.js-network', 'vis.js-timeline', 'visibility', 'visible', 'visio', 'vision', 'visited', 'visitor-pattern', 'visitor-statistic', 'vispy', 'visual-c#-express-2010', 'visual-c++', 'visual-c++-2005', 'visual-c++-2008', 'visual-c++-2010', 'visual-c++-2012', 'visual-c++-2013', 'visual-c++-2019', 'visual-c++-6', 'visual-c++-runtime', 'visual-composer', 'visual-editor', 'visual-format-language', 'visual-glitch', 'visual-leak-detector', 'visual-sourcesafe', 'visual-studio', 'visual-studio-2003', 'visual-studio-2005', 'visual-studio-2008', 'visual-studio-2008-sp1', 'visual-studio-2010', 'visual-studio-2012', 'visual-studio-2013', 'visual-studio-2015', 'visual-studio-2017', 'visual-studio-2017-build-tools', 'visual-studio-2019', 'visual-studio-2022', 'visual-studio-6', 'visual-studio-addins', 'visual-studio-app-center', 'visual-studio-code', 'visual-studio-cordova', 'visual-studio-debugging', 'visual-studio-designer', 'visual-studio-emulator', 'visual-studio-express', 'visual-studio-extensions', 'visual-studio-lightswitch', 'visual-studio-macros', 'visual-studio-sdk', 'visual-styles', 'visual-web-developer-2010', 'visualforce', 'visualization', 'visualizer', 'visualvm', 'vite', 'viterbi', 'vk', 'vlan', 'vlc', 'vm-implementation', 'vmat', 'vml', 'vmmap', 'vmware', 'vmware-workstation', 'vnc', 'vocabulary', 'voice', 'voice-recognition', 'voice-recording', 'voiceover', 'voicexml', 'void', 'void-pointers', 'void-t', 'voip', 'volatile', 'volojs', 'volt', 'volume', 'volume-shadow-service', 'von-neumann', 'vorbis', 'voronoi', 'vorpal.js', 'voting', 'voting-system', 'vows', 'voxels', 'voyager', 'vpc', 'vpn', 'vps', 'vptr', 'vrml', 'vs-android', 'vs-extensibility', 'vs-unit-testing-framework', 'vscode-code-runner', 'vscode-debugger', 'vscode-extensions', 'vscode-tasks', 'vsix', 'vspackage', 'vst', 'vstack', 'vstest', 'vsto', 'vsx', 'vsync', 'vt100', 'vtable', 'vtk', 'vue-apollo', 'vue-chartjs', 'vue-cli', 'vue-cli-3', 'vue-cli-4', 'vue-component', 'vue-composition-api', 'vue-i18n', 'vue-loader', 'vue-multiselect', 'vue-props', 'vue-resource', 'vue-router', 'vue-script-setup', 'vue-slot', 'vue-strap', 'vue-tables-2', 'vue-test-utils', 'vue.js', 'vuejs2', 'vuejs3', 'vuetify-1', 'vuetify.js', 'vuex', 'vuforia', 'vulkan', 'vungle-ads', 'vxworks', 'w3c', 'w3c-geolocation', 'w3c-validation', 'wacom', 'waf', 'wagtail', 'wai-aria', 'wait', 'waitforsingleobject', 'waithandle', 'waitpid', 'waitress', 'wakelock', 'wakeup', 'walkthrough', 'wallet', 'wallet-connect', 'wallpaper', 'walrus-operator', 'wamp', 'wamp-protocol', 'wampserver', 'wand', 'war', 'warbler', 'warm-up', 'warning-level', 'warnings', 'warp', 'was', 'wasabi-hot-cloud-storage', 'wasapi', 'wasi', 'wasm-bindgen', 'watch', 'watchconnectivity', 'watchdog', 'watchface', 'watchkit', 'watchman', 'watchos', 'watchos-2', 'watchos-3', 'watchos-4', 'watchpoint', 'watchservice', 'watcom', 'waterfall', 'waterline', 'watermark', 'watershed', 'watin', 'watson-assistant', 'wav', 'wave', 'waveform', 'wavelet', 'wavemaker', 'waveoutwrite', 'wavesurfer.js', 'wayland', 'wbr', 'wbwebviewconsole', 'wcag', 'wcag2.0', 'wcf', 'wcf-binding', 'wcf-client', 'wcf-configuration', 'wcf-data-services', 'wcf-endpoint', 'wcf-extensions', 'wcf-rest', 'wcf-ria-services', 'wcf-security', 'wcf-web-api', 'wcf-wshttpbinding', 'wcftestclient', 'wchar', 'wchar-t', 'wcm', 'wcsession', 'wcsf', 'wddx', 'wdf', 'wdk', 'weak', 'weak-linking', 'weak-ptr', 'weak-references', 'weakly-typed', 'weakmap', 'wear-os', 'wearables', 'weasyprint', 'weather-api', 'web', 'web-api-testing', 'web-applications', 'web-audio-api', 'web-chat', 'web-clips', 'web-component', 'web-component-tester', 'web-config', 'web-config-transform', 'web-console', 'web-content', 'web-controls', 'web-crawler', 'web-deployment', 'web-deployment-project', 'web-developer-toolbar', 'web-development-server', 'web-essentials', 'web-frameworks', 'web-frontend', 'web-hosting', 'web-ide', 'web-inf', 'web-inspector', 'web-mediarecorder', 'web-midi', 'web-notifications', 'web-optimization', 'web-parts', 'web-performance', 'web-platform-installer', 'web-project', 'web-publishing', 'web-push', 'web-reference', 'web-scraping', 'web-services', 'web-sql', 'web-standards', 'web-storage', 'web-testing', 'web-traffic', 'web-vitals', 'web-worker', 'web.py', 'web.xml', 'web2py', 'web3js', 'web3py', 'webapi', 'webapi2', 'webapp2', 'webarchive', 'webassembly', 'webauthn', 'webautomation', 'webbrowser-control', 'webcal', 'webcam', 'webcam-capture', 'webcam.js', 'webcenter-sites', 'webchromeclient', 'webclient', 'webconfigurationmanager', 'webcrypto-api', 'webdav', 'webdeploy', 'webdriver', 'webdriver-io', 'webdriver-manager', 'webdriverwait', 'webexception', 'webfont-loader', 'webfonts', 'webforms', 'webformsmvp', 'webgl', 'webgrid', 'webhdfs', 'webhooks', 'webhttp', 'webhttpbinding', 'webjars', 'webjob', 'webkit', 'webkit-transform', 'webkitaudiocontext', 'webkitspeechrecognition', 'weblogic', 'weblogic11g', 'weblogic12c', 'weblogic9.x', 'webm', 'webmatrix', 'webmatrix-2', 'webmethod', 'webmin', 'webob', 'webos', 'webp', 'webpack', 'webpack-2', 'webpack-3', 'webpack-4', 'webpack-5', 'webpack-cli', 'webpack-dev-middleware', 'webpack-dev-server', 'webpack-file-loader', 'webpack-hmr', 'webpack-hot-middleware', 'webpack-html-loader', 'webpack-merge', 'webpack-module-federation', 'webpack-plugin', 'webpack-style-loader', 'webpacker', 'webpage-rendering', 'webpage-screenshot', 'webpagetest', 'webproxy', 'webrat', 'webrequest', 'webrtc', 'websecurity', 'webserver', 'webservice-client', 'webshim', 'websocket', 'webspeech-api', 'websphere', 'websphere-7', 'websphere-8', 'websphere-liberty', 'webstorm', 'webtest', 'webtrends', 'webview', 'webviewchromium', 'webviewclient', 'webvr', 'wechat', 'week-number', 'weekday', 'weekend', 'weibo', 'weighted-average', 'weinre', 'weka', 'welcome-file', 'weld', 'weld-se', 'wercker', 'werkzeug', 'wfp', 'wget', 'whatsapp', 'whatwg-streams-api', 'when-js', 'where-clause', 'where-in', 'while-loop', 'white-framework', 'white-labelling', 'whitelist', 'whitespace', 'whois', 'whoosh', 'whpx', 'wia', 'wicket', 'widechar', 'widestring', 'widevine', 'widget', 'widgetkit', 'width', 'wif', 'wifi', 'wifi-direct', 'wifimanager', 'wifip2p', 'wifstream', 'wiimote', 'wiiuse', 'wiki', 'wiki-engine', 'wikidata', 'wikimedia-commons', 'wikipedia', 'wikipedia-api', 'wikitude', 'wiktionary', 'wildcard', 'wildcard-subdomain', 'wildfly', 'wildfly-10', 'wildfly-16', 'wildfly-8', 'wildfly-9', 'win-universal-app', 'win32-process', 'win32com', 'win32exception', 'win32gui', 'win64', 'winapi', 'winappdriver', 'winavr', 'wincrypt', 'windbg', 'window', 'window-handles', 'window-load', 'window-managers', 'window-position', 'window-resize', 'window-soft-input-mode', 'window.location', 'window.onunload', 'window.open', 'window.opener', 'windowinsets', 'windowless', 'windowlistener', 'windows', 'windows-10', 'windows-10-desktop', 'windows-10-iot-core', 'windows-10-mobile', 'windows-10-universal', 'windows-11', 'windows-1251', 'windows-1252', 'windows-7', 'windows-7-embedded', 'windows-7-x64', 'windows-8', 'windows-8.1', 'windows-95', 'windows-api-code-pack', 'windows-authentication', 'windows-ce', 'windows-console', 'windows-controls', 'windows-defender', 'windows-error-reporting', 'windows-explorer', 'windows-firewall', 'windows-firewall-api', 'windows-forms-designer', 'windows-identity', 'windows-installer', 'windows-messages', 'windows-mobile', 'windows-mobile-6', 'windows-nt', 'windows-phone', 'windows-phone-7', 'windows-phone-7.1', 'windows-phone-8', 'windows-phone-8-emulator', 'windows-phone-8.1', 'windows-phone-store', 'windows-principal', 'windows-runtime', 'windows-scripting', 'windows-security', 'windows-server', 'windows-server-2003', 'windows-server-2008', 'windows-server-2008-r2', 'windows-server-2012', 'windows-server-2012-r2', 'windows-services', 'windows-share', 'windows-shell', 'windows-store', 'windows-store-apps', 'windows-subsystem-for-linux', 'windows-terminal', 'windows-update', 'windows-vista', 'windows-xp', 'windows-xp-embedded', 'windows-xp-sp3', 'windowsformshost', 'windowsformsintegration', 'windowstate', 'windowsversion', 'wine', 'winforms', 'winforms-interop', 'wingrid', 'winhttp', 'winjs', 'winlogon', 'winmain', 'winmd', 'winpcap', 'winprt', 'winreg', 'winrt-async', 'winrt-xaml', 'winrt-xaml-toolkit', 'winrun4j', 'winscp', 'winscp-net', 'winsock', 'winsock2', 'winston', 'winsxs', 'winverifytrust', 'wiredep', 'wireframe', 'wireguard', 'wireless', 'wiremock', 'wireshark', 'with-statement', 'wix', 'wix3', 'wix3.10', 'wix3.5', 'wix3.6', 'wix3.7', 'wizard', 'wkhtmltoimage', 'wkhtmltopdf', 'wkhttpcookiestore', 'wkinterfaceimage', 'wkinterfacetable', 'wkwebview', 'wkwebviewconfiguration', 'wlst', 'wm-paint', 'wmain', 'wmd', 'wmf', 'wmi', 'wmi-query', 'wmi-service', 'wmode', 'wmp', 'wms', 'wmv', 'wndproc', 'woff', 'wofstream', 'wokkel', 'wolfram-mathematica', 'wolfssl', 'woocommerce', 'woocommerce-rest-api', 'woocommerce-subscriptions', 'woocommerce-theming', 'woothemes', 'word', 'word-2010', 'word-addins', 'word-boundaries', 'word-boundary', 'word-break', 'word-cloud', 'word-count', 'word-embedding', 'word-size', 'word-wrap', 'word2vec', 'wordle-game', 'wordml', 'wordnet', 'wordnik', 'wordpress', 'wordpress-gutenberg', 'wordpress-hook', 'wordpress-rest-api', 'wordpress-theming', 'words', 'workbench', 'workbox', 'worker', 'worker-process', 'worker-thread', 'workflow', 'workflow-activity', 'workflow-foundation', 'workflow-foundation-4', 'workgroup', 'working-directory', 'workqueue', 'worksheet-function', 'workspace', 'world-map', 'world-of-warcraft', 'wow.js', 'wow64', 'wowza', 'wp-api', 'wp-cli', 'wp-editor', 'wp-nav-menu-item', 'wp-nav-walker', 'wpackagist', 'wpd', 'wpf', 'wpf-4.0', 'wpf-4.5', 'wpf-controls', 'wpf-extended-toolkit', 'wpf-positioning', 'wpf-style', 'wpfdatagrid', 'wpftoolkit', 'wpml', 'wpmu', 'wrapall', 'wrappanel', 'wrapper', 'writable', 'writeablebitmap', 'writefile', 'writer', 'writetofile', 'ws-client', 'ws-federation', 'ws-security', 'wsastartup', 'wscf', 'wsdl', 'wsdl.exe', 'wsdl2java', 'wsdl4j', 'wse', 'wse2.0', 'wse3.0', 'wsgen', 'wsgi', 'wsh', 'wshttpbinding', 'wsimport', 'wsit', 'wsl-2', 'wspbuilder', 'wss', 'wssf', 'wstring', 'wt', 'wtforms', 'wuapi', 'wunderground', 'wunderlist', 'wurfl', 'wwdc', 'www-authenticate', 'www-mechanize', 'www-mechanize-firefox', 'wxpython', 'wxwidgets', 'wysihtml5', 'wysiwyg', 'wysiwym', 'x-editable', 'x-facebook-platform', 'x-frame-options', 'x-macros', 'x-sendfile', 'x-ua-compatible', 'x11', 'x12', 'x264', 'x3d', 'x3dom', 'x509', 'x509certificate', 'x509certificate2', 'x86', 'x86-16', 'x86-64', 'x87', 'xa', 'xalan', 'xamarin', 'xamarin-linker', 'xamarin-studio', 'xamarin.android', 'xamarin.essentials', 'xamarin.forms', 'xamarin.ios', 'xamarin.uitest', 'xaml', 'xamlparseexception', 'xamlreader', 'xampp', 'xapian', 'xargs', 'xaringan', 'xattr', 'xattribute', 'xbap', 'xbee', 'xbox', 'xbox-live', 'xbuild', 'xc16', 'xc8', 'xcache', 'xcarchive', 'xcasset', 'xcb', 'xcconfig', 'xcdatamodel', 'xcframework', 'xcode', 'xcode-6.2', 'xcode-archive', 'xcode-bots', 'xcode-build-settings', 'xcode-command-line-tools', 'xcode-debugger', 'xcode-instruments', 'xcode-organizer', 'xcode-previews', 'xcode-project', 'xcode-server', 'xcode-storyboard', 'xcode-template', 'xcode-ui-testing', 'xcode-workspace', 'xcode10', 'xcode10.2', 'xcode10.2.1', 'xcode10.3', 'xcode11', 'xcode11.4', 'xcode12', 'xcode12.5', 'xcode13', 'xcode14', 'xcode3.2', 'xcode3to4', 'xcode4', 'xcode4.1', 'xcode4.2', 'xcode4.3', 'xcode4.4', 'xcode4.5', 'xcode4.6', 'xcode5', 'xcode5.0.1', 'xcode5.1', 'xcode6', 'xcode6-beta5', 'xcode6-beta6', 'xcode6-beta7', 'xcode6.1', 'xcode6.3', 'xcode6.3.1', 'xcode6.3.2', 'xcode6.4', 'xcode6gm', 'xcode7', 'xcode7-beta2', 'xcode7-beta3', 'xcode7-beta4', 'xcode7-beta5', 'xcode7.1', 'xcode7.1beta', 'xcode7.2', 'xcode7.3', 'xcode8', 'xcode8-beta2', 'xcode8-beta6', 'xcode8.2', 'xcode9', 'xcode9-beta', 'xcode9.2', 'xcode9.3-beta', 'xcode9.4', 'xcode9beta6', 'xcodebuild', 'xcodeproj', 'xcopy', 'xcrun', 'xctest', 'xctestcase', 'xctestexpectation', 'xcuitest', 'xdebug', 'xdebug-3', 'xdgutils', 'xdist', 'xdocreport', 'xdomainrequest', 'xelement', 'xen', 'xenforo', 'xeon-phi', 'xerces', 'xero-api', 'xfa', 'xfdl', 'xgbclassifier', 'xgboost', 'xgettext', 'xhtml', 'xhtml-1.0-strict', 'xhtml-mp', 'xhtml-transitional', 'xhtml2', 'xhtmlrenderer', 'xiaomi', 'xib', 'xilinx', 'xinclude', 'xjc', 'xlabs', 'xlib', 'xliff', 'xlink', 'xll', 'xlrd', 'xls', 'xlsm', 'xlsx', 'xlsxwriter', 'xlutils', 'xlwt', 'xml', 'xml-attribute', 'xml-comments', 'xml-declaration', 'xml-deserialization', 'xml-documentation', 'xml-drawable', 'xml-dsig', 'xml-layout', 'xml-namespaces', 'xml-parsing', 'xml-rpc', 'xml-serialization', 'xml-signature', 'xml-validation', 'xml.etree', 'xml2js', 'xmla', 'xmlbeans', 'xmldocument', 'xmldom', 'xmlexception', 'xmlhttprequest', 'xmlhttprequest-level2', 'xmllint', 'xmlnode', 'xmlpoke', 'xmlpullparser', 'xmlreader', 'xmlroot', 'xmlsec', 'xmlseclibs', 'xmlserializer', 'xmlslurper', 'xmlstreamreader', 'xmltextwriter', 'xmlunit', 'xmlworker', 'xmlwriter', 'xmp', 'xmpp', 'xmppframework', 'xmpphp', 'xna', 'xna-4.0', 'xnu', 'xobotos', 'xoom', 'xor', 'xor-linkedlist', 'xorg', 'xpages', 'xpath', 'xpath-2.0', 'xpc', 'xpcom', 'xposed', 'xposed-framework', 'xps', 'xqj', 'xquery', 'xrange', 'xsd', 'xsd-1.1', 'xsd-validation', 'xsd.exe', 'xsd2code', 'xsdobjectgen', 'xserver', 'xsl-fo', 'xsl-variable', 'xslt', 'xslt-2.0', 'xss', 'xssf', 'xstate', 'xtend', 'xtext', 'xtragrid', 'xtrareport', 'xuggle', 'xuggler', 'xul', 'xunit', 'xunit.net', 'xunit2', 'xv6', 'xval', 'xvalue', 'xvfb', 'xwalkview', 'xwpf', 'xxe', 'xz', 'y-combinator', 'yacc', 'yahoo', 'yahoo-api', 'yahoo-finance', 'yahoo-mail', 'yahoo-pipes', 'yahoo-weather-api', 'yajra-datatable', 'yaml', 'yandex', 'yargs', 'yarn-lock.json', 'yarn-v2', 'yarn-workspaces', 'yarnpkg', 'yarnpkg-v2', 'yarv', 'yasm', 'ycbcr', 'year2038', 'yellow', 'yelp', 'yeoman', 'yeoman-generator', 'yepnope', 'yesod', 'yfinance', 'yield', 'yield-return', 'yii', 'yii-cactiverecord', 'yii-cmodel', 'yii-components', 'yii-extensions', 'yii-url-manager', 'yii-widgets', 'yii1.x', 'yii2', 'yii2-advanced-app', 'yii2-model', 'yii2-user', 'yii2-validation', 'yo', 'yoast', 'youcompleteme', 'yourkit', 'youtube', 'youtube-api', 'youtube-channels', 'youtube-data-api', 'youtube-dl', 'youtube-iframe-api', 'youtube-javascript-api', 'youtube-livestreaming-api', 'yql', 'yslow', 'ytplayerview', 'yui', 'yui-compressor', 'yuidoc', 'yum', 'yup', 'yuv', 'z-index', 'z-order', 'z-order-curve', 'z3', 'z3py', 'z80', 'zalgo', 'zapier', 'zbar', 'zbar-sdk', 'zbuffer', 'zclip', 'zebra-printers', 'zedgraph', 'zend-application', 'zend-auth', 'zend-autoloader', 'zend-cache', 'zend-controller', 'zend-date', 'zend-db', 'zend-db-select', 'zend-db-table', 'zend-debugger', 'zend-decorators', 'zend-form', 'zend-form-element', 'zend-form2', 'zend-framework', 'zend-framework-mvc', 'zend-framework-routing', 'zend-framework2', 'zend-framework3', 'zend-gdata', 'zend-layout', 'zend-mail', 'zend-navigation', 'zend-paginator', 'zend-pdf', 'zend-search-lucene', 'zend-server', 'zend-servicemanager', 'zend-studio', 'zend-translate', 'zend-validate', 'zend-view', 'zepto', 'zero', 'zero-copy', 'zero-padding', 'zeroclipboard', 'zeroclipboard-1.x', 'zeroconf', 'zerofill', 'zeromq', 'zest', 'zf3', 'zfcuser', 'zigzag', 'zimbra', 'zio', 'zip', 'zip.js', 'zipalign', 'ziparchive', 'zipcode', 'zipinputstream', 'zipkin', 'zipoutputstream', 'zipstream', 'zk', 'zkemkeeper', 'zkteco', 'zlib', 'zod', 'zomato-api', 'zombie-process', 'zombie.js', 'zoneddatetime', 'zoneinfo', 'zonejs', 'zoom-sdk', 'zooming', 'zope', 'zos', 'zpl', 'zpl-ii', 'zpt', 'zsh', 'zshrc', 'zune', 'zurb-foundation', 'zurb-foundation-5', 'zurb-foundation-6', 'zurb-ink', 'zxing'] will be ignored\n",
      "  warnings.warn(\n"
     ]
    }
   ],
   "source": [
    "\n",
    "mlb = MultiLabelBinarizer()\n",
    "mlb.fit([selected_tags])\n",
    "y_train = mlb.transform(sample_train.tag_list.values)\n",
    "y_train_sets = sample_train.tag_list.apply(set)\n"
   ]
  },
  {
   "cell_type": "code",
   "execution_count": 17,
   "metadata": {},
   "outputs": [
    {
     "data": {
      "text/plain": [
       "105715"
      ]
     },
     "execution_count": 17,
     "metadata": {},
     "output_type": "execute_result"
    }
   ],
   "source": [
    "len(rob_text_embeds)\n",
    "\n"
   ]
  },
  {
   "cell_type": "code",
   "execution_count": 18,
   "metadata": {},
   "outputs": [
    {
     "ename": "AttributeError",
     "evalue": "'list' object has no attribute 'get'",
     "output_type": "error",
     "traceback": [
      "\u001b[0;31m---------------------------------------------------------------------------\u001b[0m",
      "\u001b[0;31mAttributeError\u001b[0m                            Traceback (most recent call last)",
      "\u001b[0;32m/tmp/ipykernel_64472/4067804290.py\u001b[0m in \u001b[0;36m<module>\u001b[0;34m\u001b[0m\n\u001b[1;32m      4\u001b[0m \u001b[0;34m\u001b[0m\u001b[0m\n\u001b[1;32m      5\u001b[0m \u001b[0mtext_Roberta_xgb\u001b[0m \u001b[0;34m=\u001b[0m \u001b[0mXGBClassifier\u001b[0m\u001b[0;34m(\u001b[0m\u001b[0mtree_method\u001b[0m\u001b[0;34m=\u001b[0m\u001b[0;34m\"hist\"\u001b[0m\u001b[0;34m)\u001b[0m\u001b[0;34m\u001b[0m\u001b[0;34m\u001b[0m\u001b[0m\n\u001b[0;32m----> 6\u001b[0;31m \u001b[0mtext_Roberta_xgb\u001b[0m\u001b[0;34m.\u001b[0m\u001b[0mfit\u001b[0m\u001b[0;34m(\u001b[0m\u001b[0mnp\u001b[0m\u001b[0;34m.\u001b[0m\u001b[0marray\u001b[0m\u001b[0;34m(\u001b[0m\u001b[0mrob_text_embeds\u001b[0m\u001b[0;34m.\u001b[0m\u001b[0mget\u001b[0m\u001b[0;34m(\u001b[0m\u001b[0;34m)\u001b[0m\u001b[0;34m)\u001b[0m\u001b[0;34m,\u001b[0m \u001b[0my_train\u001b[0m\u001b[0;34m)\u001b[0m\u001b[0;34m\u001b[0m\u001b[0;34m\u001b[0m\u001b[0m\n\u001b[0m",
      "\u001b[0;31mAttributeError\u001b[0m: 'list' object has no attribute 'get'"
     ]
    }
   ],
   "source": [
    "from sklearn.datasets import make_multilabel_classification\n",
    "import numpy as np\n",
    "from xgboost import XGBClassifier\n",
    "\n",
    "text_Roberta_xgb = XGBClassifier(tree_method=\"hist\")\n",
    "text_Roberta_xgb.fit(np.array(rob_text_embeds.get()), y_train)\n"
   ]
  },
  {
   "cell_type": "code",
   "execution_count": null,
   "metadata": {},
   "outputs": [],
   "source": [
    "\n",
    "text = \"Replace me by any text you'd like.\"\n",
    "encoded_input = tokenizer(text, return_tensors='tf')\n",
    "output = model(encoded_input)\n"
   ]
  },
  {
   "cell_type": "code",
   "execution_count": 7,
   "metadata": {},
   "outputs": [
    {
     "name": "stderr",
     "output_type": "stream",
     "text": [
      "2023-03-23 16:29:11.010007: I tensorflow/core/platform/cpu_feature_guard.cc:193] This TensorFlow binary is optimized with oneAPI Deep Neural Network Library (oneDNN) to use the following CPU instructions in performance-critical operations:  AVX2 FMA\n",
      "To enable them in other operations, rebuild TensorFlow with the appropriate compiler flags.\n",
      "2023-03-23 16:29:11.010675: I tensorflow/compiler/xla/stream_executor/cuda/cuda_gpu_executor.cc:981] successful NUMA node read from SysFS had negative value (-1), but there must be at least one NUMA node, so returning NUMA node zero\n",
      "2023-03-23 16:29:11.010891: I tensorflow/compiler/xla/stream_executor/cuda/cuda_gpu_executor.cc:981] successful NUMA node read from SysFS had negative value (-1), but there must be at least one NUMA node, so returning NUMA node zero\n",
      "2023-03-23 16:29:11.011045: I tensorflow/compiler/xla/stream_executor/cuda/cuda_gpu_executor.cc:981] successful NUMA node read from SysFS had negative value (-1), but there must be at least one NUMA node, so returning NUMA node zero\n",
      "2023-03-23 16:29:11.011375: I tensorflow/compiler/xla/stream_executor/cuda/cuda_gpu_executor.cc:981] successful NUMA node read from SysFS had negative value (-1), but there must be at least one NUMA node, so returning NUMA node zero\n",
      "2023-03-23 16:29:11.011650: I tensorflow/compiler/xla/stream_executor/cuda/cuda_gpu_executor.cc:981] successful NUMA node read from SysFS had negative value (-1), but there must be at least one NUMA node, so returning NUMA node zero\n",
      "2023-03-23 16:29:11.012176: I tensorflow/compiler/xla/stream_executor/cuda/cuda_gpu_executor.cc:981] successful NUMA node read from SysFS had negative value (-1), but there must be at least one NUMA node, so returning NUMA node zero\n",
      "2023-03-23 16:29:11.012457: I tensorflow/core/common_runtime/gpu/gpu_device.cc:1613] Created device /job:localhost/replica:0/task:0/device:GPU:0 with 4883 MB memory:  -> device: 0, name: NVIDIA GeForce RTX 2070, pci bus id: 0000:1f:00.0, compute capability: 7.5\n",
      "Some layers from the model checkpoint at roberta-large were not used when initializing TFRobertaModel: ['lm_head']\n",
      "- This IS expected if you are initializing TFRobertaModel from the checkpoint of a model trained on another task or with another architecture (e.g. initializing a BertForSequenceClassification model from a BertForPreTraining model).\n",
      "- This IS NOT expected if you are initializing TFRobertaModel from the checkpoint of a model that you expect to be exactly identical (initializing a BertForSequenceClassification model from a BertForSequenceClassification model).\n",
      "All the layers of TFRobertaModel were initialized from the model checkpoint at roberta-large.\n",
      "If your task is similar to the task the model of the checkpoint was trained on, you can already use TFRobertaModel for predictions without further training.\n"
     ]
    }
   ],
   "source": [
    "from transformers import RobertaTokenizer, TFRobertaModel\n",
    "tokenizer = RobertaTokenizer.from_pretrained('roberta-large')\n",
    "model = TFRobertaModel.from_pretrained('roberta-large')\n"
   ]
  },
  {
   "cell_type": "code",
   "execution_count": 22,
   "metadata": {},
   "outputs": [],
   "source": [
    "\n",
    "def feature_Roberta_fct(sentences, b_size) :\n",
    "    batch_size = b_size\n",
    "    # time1 = time.time()\n",
    "    features = None\n",
    "    for step in tqdm(range(len(sentences)//batch_size+1)):\n",
    "        idx = step*batch_size\n",
    "        tensors = tokenizer(sentences[idx:idx+batch_size], return_tensors='tf', padding=True,truncation=True)\n",
    "        outputs = model(tensors)\n",
    "        last_hidden_states = outputs.last_hidden_state\n",
    "        batch_features = np.array(last_hidden_states).mean(axis=1)\n",
    "        if features is None:\n",
    "            features = batch_features\n",
    "        else:\n",
    "            features = np.concatenate([features, batch_features])\n",
    "\n",
    "    # time2 = np.round(time.time() - time1,0)\n",
    "    return features"
   ]
  },
  {
   "cell_type": "code",
   "execution_count": 24,
   "metadata": {},
   "outputs": [
    {
     "name": "stderr",
     "output_type": "stream",
     "text": [
      "  0%|          | 0/10572 [00:00<?, ?it/s]\n"
     ]
    },
    {
     "ename": "ValueError",
     "evalue": "zero-dimensional arrays cannot be concatenated",
     "output_type": "error",
     "traceback": [
      "\u001b[0;31m---------------------------------------------------------------------------\u001b[0m",
      "\u001b[0;31mValueError\u001b[0m                                Traceback (most recent call last)",
      "\u001b[0;32m/tmp/ipykernel_44434/764010422.py\u001b[0m in \u001b[0;36m<module>\u001b[0;34m\u001b[0m\n\u001b[1;32m      1\u001b[0m \u001b[0mbatch_size\u001b[0m \u001b[0;34m=\u001b[0m \u001b[0;36m10\u001b[0m\u001b[0;34m\u001b[0m\u001b[0;34m\u001b[0m\u001b[0m\n\u001b[0;32m----> 2\u001b[0;31m \u001b[0mtext_embedded_use\u001b[0m \u001b[0;34m=\u001b[0m \u001b[0mfeature_Roberta_fct\u001b[0m\u001b[0;34m(\u001b[0m\u001b[0mtrain_df\u001b[0m\u001b[0;34m[\u001b[0m\u001b[0;34m\"text_processed\"\u001b[0m\u001b[0;34m]\u001b[0m\u001b[0;34m.\u001b[0m\u001b[0mto_list\u001b[0m\u001b[0;34m(\u001b[0m\u001b[0;34m)\u001b[0m\u001b[0;34m,\u001b[0m \u001b[0mbatch_size\u001b[0m\u001b[0;34m)\u001b[0m\u001b[0;34m\u001b[0m\u001b[0;34m\u001b[0m\u001b[0m\n\u001b[0m\u001b[1;32m      3\u001b[0m code_embedded_use = feature_Roberta_fct(\n\u001b[1;32m      4\u001b[0m     train_df[\"code_processed\"].to_list(), batch_size)\n",
      "\u001b[0;32m/tmp/ipykernel_44434/1874764824.py\u001b[0m in \u001b[0;36mfeature_Roberta_fct\u001b[0;34m(sentences, b_size)\u001b[0m\n\u001b[1;32m     12\u001b[0m             \u001b[0mfeatures\u001b[0m \u001b[0;34m=\u001b[0m \u001b[0mbatch_features\u001b[0m\u001b[0;34m\u001b[0m\u001b[0;34m\u001b[0m\u001b[0m\n\u001b[1;32m     13\u001b[0m         \u001b[0;32melse\u001b[0m\u001b[0;34m:\u001b[0m\u001b[0;34m\u001b[0m\u001b[0;34m\u001b[0m\u001b[0m\n\u001b[0;32m---> 14\u001b[0;31m             \u001b[0mfeatures\u001b[0m \u001b[0;34m=\u001b[0m \u001b[0mnp\u001b[0m\u001b[0;34m.\u001b[0m\u001b[0mconcatenate\u001b[0m\u001b[0;34m(\u001b[0m\u001b[0;34m[\u001b[0m\u001b[0mfeatures\u001b[0m\u001b[0;34m,\u001b[0m \u001b[0mbatch_features\u001b[0m\u001b[0;34m]\u001b[0m\u001b[0;34m)\u001b[0m\u001b[0;34m\u001b[0m\u001b[0;34m\u001b[0m\u001b[0m\n\u001b[0m\u001b[1;32m     15\u001b[0m \u001b[0;34m\u001b[0m\u001b[0m\n\u001b[1;32m     16\u001b[0m     \u001b[0;31m# time2 = np.round(time.time() - time1,0)\u001b[0m\u001b[0;34m\u001b[0m\u001b[0;34m\u001b[0m\u001b[0m\n",
      "\u001b[0;32m~/.local/lib/python3.10/site-packages/numpy/core/overrides.py\u001b[0m in \u001b[0;36mconcatenate\u001b[0;34m(*args, **kwargs)\u001b[0m\n",
      "\u001b[0;31mValueError\u001b[0m: zero-dimensional arrays cannot be concatenated"
     ]
    }
   ],
   "source": [
    "batch_size = 10\n",
    "text_embedded_use = feature_Roberta_fct(train_df[\"text_processed\"].to_list(), batch_size)\n",
    "code_embedded_use = feature_Roberta_fct(\n",
    "    train_df[\"code_processed\"].to_list(), batch_size)\n"
   ]
  },
  {
   "attachments": {},
   "cell_type": "markdown",
   "metadata": {},
   "source": [
    "### Bert XGB"
   ]
  },
  {
   "cell_type": "code",
   "execution_count": 4,
   "metadata": {},
   "outputs": [
    {
     "name": "stdout",
     "output_type": "stream",
     "text": [
      "preprocessing\n"
     ]
    },
    {
     "name": "stderr",
     "output_type": "stream",
     "text": [
      "100%|██████████| 105715/105715 [00:41<00:00, 2534.19it/s]\n"
     ]
    },
    {
     "name": "stdout",
     "output_type": "stream",
     "text": [
      "preprocessing\n"
     ]
    },
    {
     "name": "stderr",
     "output_type": "stream",
     "text": [
      "100%|██████████| 105715/105715 [02:24<00:00, 730.41it/s]\n"
     ]
    }
   ],
   "source": [
    "train_df = sample_train.loc[:]\n",
    "train_df.fillna(\"\", inplace=True)\n",
    "train_df[\"text_processed\"] = preprocess_transformers(train_df.text)\n",
    "train_df[\"code_processed\"] = preprocess_transformers(train_df.code)\n"
   ]
  },
  {
   "cell_type": "code",
   "execution_count": 11,
   "metadata": {},
   "outputs": [],
   "source": [
    "import tensorflow_hub as hub\n",
    "import torch\n",
    "import gc\n",
    "from time import time\n",
    "if model:\n",
    "    del model\n",
    "gc.collect()\n",
    "torch.cuda.empty_cache()"
   ]
  },
  {
   "cell_type": "code",
   "execution_count": 7,
   "metadata": {},
   "outputs": [],
   "source": [
    "from time import time\n",
    "# Fonction de préparation des sentences\n",
    "def bert_inp_fct(sentences, bert_tokenizer, max_length) :\n",
    "    input_ids=[]\n",
    "    token_type_ids = []\n",
    "    attention_mask=[]\n",
    "    bert_inp_tot = []\n",
    "\n",
    "    for sent in sentences:\n",
    "        bert_inp = bert_tokenizer.encode_plus(sent,\n",
    "                                              add_special_tokens = True,\n",
    "                                              max_length = max_length,\n",
    "                                              padding='max_length',\n",
    "                                              return_attention_mask = True, \n",
    "                                              return_token_type_ids=True,\n",
    "                                              truncation=True,\n",
    "                                              return_tensors=\"tf\")\n",
    "    \n",
    "        input_ids.append(bert_inp['input_ids'][0])\n",
    "        token_type_ids.append(bert_inp['token_type_ids'][0])\n",
    "        attention_mask.append(bert_inp['attention_mask'][0])\n",
    "        bert_inp_tot.append((bert_inp['input_ids'][0], \n",
    "                             bert_inp['token_type_ids'][0], \n",
    "                             bert_inp['attention_mask'][0]))\n",
    "\n",
    "    input_ids = np.asarray(input_ids)\n",
    "    token_type_ids = np.asarray(token_type_ids)\n",
    "    attention_mask = np.array(attention_mask)\n",
    "    \n",
    "    return input_ids, token_type_ids, attention_mask, bert_inp_tot\n",
    "    \n",
    "\n",
    "# Fonction de création des features\n",
    "def feature_BERT_fct(model, model_type, sentences, max_length, b_size) :\n",
    "    batch_size = b_size\n",
    "    batch_size_pred = b_size\n",
    "    bert_tokenizer = AutoTokenizer.from_pretrained(model_type)\n",
    "    time1 = time()\n",
    "\n",
    "    for step in range(len(sentences)//batch_size +1) :\n",
    "        idx = step*batch_size\n",
    "        input_ids, token_type_ids, attention_mask, bert_inp_tot = bert_inp_fct(sentences[idx:idx+batch_size], \n",
    "                                                                      bert_tokenizer, max_length)\n",
    "    \n",
    "        outputs = model.predict([input_ids, attention_mask, token_type_ids], batch_size=batch_size_pred)\n",
    "        last_hidden_states = outputs.last_hidden_state\n",
    "\n",
    "             \n",
    "        if step ==0 :\n",
    "            last_hidden_states_tot = last_hidden_states\n",
    "            last_hidden_states_tot_0 = last_hidden_states\n",
    "        else :\n",
    "            last_hidden_states_tot = np.concatenate((last_hidden_states_tot,last_hidden_states))\n",
    "    \n",
    "    features_bert = np.array(last_hidden_states_tot).mean(axis=1)\n",
    "    \n",
    "    time2 = np.round(time() - time1,0)\n",
    "    print(\"temps traitement : \", time2)\n",
    "     \n",
    "    return features_bert, last_hidden_states_tot"
   ]
  },
  {
   "cell_type": "code",
   "execution_count": 8,
   "metadata": {},
   "outputs": [
    {
     "name": "stderr",
     "output_type": "stream",
     "text": [
      "loading configuration file config.json from cache at /home/aurelien/.cache/huggingface/hub/models--bert-base-uncased/snapshots/0a6aa9128b6194f4f3c4db429b6cb4891cdb421b/config.json\n",
      "Model config BertConfig {\n",
      "  \"_name_or_path\": \"bert-base-uncased\",\n",
      "  \"architectures\": [\n",
      "    \"BertForMaskedLM\"\n",
      "  ],\n",
      "  \"attention_probs_dropout_prob\": 0.1,\n",
      "  \"classifier_dropout\": null,\n",
      "  \"gradient_checkpointing\": false,\n",
      "  \"hidden_act\": \"gelu\",\n",
      "  \"hidden_dropout_prob\": 0.1,\n",
      "  \"hidden_size\": 768,\n",
      "  \"initializer_range\": 0.02,\n",
      "  \"intermediate_size\": 3072,\n",
      "  \"layer_norm_eps\": 1e-12,\n",
      "  \"max_position_embeddings\": 512,\n",
      "  \"model_type\": \"bert\",\n",
      "  \"num_attention_heads\": 12,\n",
      "  \"num_hidden_layers\": 12,\n",
      "  \"pad_token_id\": 0,\n",
      "  \"position_embedding_type\": \"absolute\",\n",
      "  \"transformers_version\": \"4.26.1\",\n",
      "  \"type_vocab_size\": 2,\n",
      "  \"use_cache\": true,\n",
      "  \"vocab_size\": 30522\n",
      "}\n",
      "\n",
      "loading weights file tf_model.h5 from cache at /home/aurelien/.cache/huggingface/hub/models--bert-base-uncased/snapshots/0a6aa9128b6194f4f3c4db429b6cb4891cdb421b/tf_model.h5\n",
      "2023-03-23 09:44:17.937357: I tensorflow/core/platform/cpu_feature_guard.cc:193] This TensorFlow binary is optimized with oneAPI Deep Neural Network Library (oneDNN) to use the following CPU instructions in performance-critical operations:  AVX2 FMA\n",
      "To enable them in other operations, rebuild TensorFlow with the appropriate compiler flags.\n",
      "2023-03-23 09:44:17.938480: I tensorflow/compiler/xla/stream_executor/cuda/cuda_gpu_executor.cc:981] successful NUMA node read from SysFS had negative value (-1), but there must be at least one NUMA node, so returning NUMA node zero\n",
      "2023-03-23 09:44:17.938696: I tensorflow/compiler/xla/stream_executor/cuda/cuda_gpu_executor.cc:981] successful NUMA node read from SysFS had negative value (-1), but there must be at least one NUMA node, so returning NUMA node zero\n",
      "2023-03-23 09:44:17.938850: I tensorflow/compiler/xla/stream_executor/cuda/cuda_gpu_executor.cc:981] successful NUMA node read from SysFS had negative value (-1), but there must be at least one NUMA node, so returning NUMA node zero\n",
      "2023-03-23 09:44:17.952382: I tensorflow/compiler/xla/stream_executor/cuda/cuda_gpu_executor.cc:981] successful NUMA node read from SysFS had negative value (-1), but there must be at least one NUMA node, so returning NUMA node zero\n",
      "2023-03-23 09:44:17.952889: I tensorflow/compiler/xla/stream_executor/cuda/cuda_gpu_executor.cc:981] successful NUMA node read from SysFS had negative value (-1), but there must be at least one NUMA node, so returning NUMA node zero\n",
      "2023-03-23 09:44:17.953148: I tensorflow/compiler/xla/stream_executor/cuda/cuda_gpu_executor.cc:981] successful NUMA node read from SysFS had negative value (-1), but there must be at least one NUMA node, so returning NUMA node zero\n",
      "2023-03-23 09:44:17.953576: I tensorflow/core/common_runtime/gpu/gpu_device.cc:1613] Created device /job:localhost/replica:0/task:0/device:GPU:0 with 4616 MB memory:  -> device: 0, name: NVIDIA GeForce RTX 2070, pci bus id: 0000:1f:00.0, compute capability: 7.5\n",
      "Some layers from the model checkpoint at bert-base-uncased were not used when initializing TFBertModel: ['nsp___cls', 'mlm___cls']\n",
      "- This IS expected if you are initializing TFBertModel from the checkpoint of a model trained on another task or with another architecture (e.g. initializing a BertForSequenceClassification model from a BertForPreTraining model).\n",
      "- This IS NOT expected if you are initializing TFBertModel from the checkpoint of a model that you expect to be exactly identical (initializing a BertForSequenceClassification model from a BertForSequenceClassification model).\n",
      "All the layers of TFBertModel were initialized from the model checkpoint at bert-base-uncased.\n",
      "If your task is similar to the task the model of the checkpoint was trained on, you can already use TFBertModel for predictions without further training.\n"
     ]
    }
   ],
   "source": [
    "max_length = 512\n",
    "batch_size = 10\n",
    "model_type = 'bert-base-uncased'\n",
    "model = TFAutoModel.from_pretrained(model_type)"
   ]
  },
  {
   "cell_type": "code",
   "execution_count": 9,
   "metadata": {},
   "outputs": [],
   "source": [
    "# Création des features\n",
    "train_df_text = train_df[train_df.text_processed != \"\"].loc[:]\n"
   ]
  },
  {
   "cell_type": "code",
   "execution_count": 14,
   "metadata": {},
   "outputs": [
    {
     "data": {
      "text/html": [
       "<div>\n",
       "<style scoped>\n",
       "    .dataframe tbody tr th:only-of-type {\n",
       "        vertical-align: middle;\n",
       "    }\n",
       "\n",
       "    .dataframe tbody tr th {\n",
       "        vertical-align: top;\n",
       "    }\n",
       "\n",
       "    .dataframe thead th {\n",
       "        text-align: right;\n",
       "    }\n",
       "</style>\n",
       "<table border=\"1\" class=\"dataframe\">\n",
       "  <thead>\n",
       "    <tr style=\"text-align: right;\">\n",
       "      <th></th>\n",
       "      <th>Title</th>\n",
       "      <th>Body</th>\n",
       "      <th>Tags</th>\n",
       "      <th>Score</th>\n",
       "      <th>ViewCount</th>\n",
       "      <th>AnswerCount</th>\n",
       "      <th>nbtags</th>\n",
       "      <th>tag_set</th>\n",
       "      <th>tag_list</th>\n",
       "      <th>text</th>\n",
       "      <th>code</th>\n",
       "      <th>text_processed</th>\n",
       "      <th>code_processed</th>\n",
       "    </tr>\n",
       "  </thead>\n",
       "  <tbody>\n",
       "    <tr>\n",
       "      <th>0</th>\n",
       "      <td>Publish/Subscribe reliable messaging: Redis VS...</td>\n",
       "      <td>&lt;h2&gt;Background&lt;/h2&gt;\\n\\n&lt;p&gt;I am making a publis...</td>\n",
       "      <td>&lt;javascript&gt;&lt;node.js&gt;&lt;redis&gt;&lt;rabbitmq&gt;&lt;publish...</td>\n",
       "      <td>25</td>\n",
       "      <td>16250</td>\n",
       "      <td>3</td>\n",
       "      <td>5</td>\n",
       "      <td>{javascript, publish-subscribe, rabbitmq, node...</td>\n",
       "      <td>[javascript, node.js, redis, rabbitmq, publish...</td>\n",
       "      <td>Background\\n\\n\\nI am making a publish/subscrib...</td>\n",
       "      <td></td>\n",
       "      <td>background i am making a publish subscribe typ...</td>\n",
       "      <td></td>\n",
       "    </tr>\n",
       "    <tr>\n",
       "      <th>1</th>\n",
       "      <td>What is an undefined reference/unresolved exte...</td>\n",
       "      <td>&lt;p&gt;What are undefined reference/unresolved ext...</td>\n",
       "      <td>&lt;c++&gt;&lt;linker-errors&gt;&lt;undefined-reference&gt;&lt;c++-...</td>\n",
       "      <td>1757</td>\n",
       "      <td>871034</td>\n",
       "      <td>39</td>\n",
       "      <td>5</td>\n",
       "      <td>{c++, unresolved-external, c++-faq, linker-err...</td>\n",
       "      <td>[c++, linker-errors, undefined-reference, c++-...</td>\n",
       "      <td>What are undefined reference/unresolved extern...</td>\n",
       "      <td></td>\n",
       "      <td>what are undefined reference unresolved extern...</td>\n",
       "      <td></td>\n",
       "    </tr>\n",
       "    <tr>\n",
       "      <th>2</th>\n",
       "      <td>How MediaCodec finds the codec inside the fram...</td>\n",
       "      <td>&lt;p&gt;I am trying to understanding how MediaCodec...</td>\n",
       "      <td>&lt;android&gt;&lt;android-internet&gt;&lt;stagefright&gt;&lt;openm...</td>\n",
       "      <td>7</td>\n",
       "      <td>4538</td>\n",
       "      <td>1</td>\n",
       "      <td>5</td>\n",
       "      <td>{opencore, stagefright, android-internet, andr...</td>\n",
       "      <td>[android, android-internet, stagefright, openm...</td>\n",
       "      <td>I am trying to understanding how MediaCodec is...</td>\n",
       "      <td>device/ti/omap3evm/media_codecs.xml for an ex...</td>\n",
       "      <td>i am trying to understanding how mediacodec is...</td>\n",
       "      <td>device ti for an example mediacodec codec medi...</td>\n",
       "    </tr>\n",
       "    <tr>\n",
       "      <th>3</th>\n",
       "      <td>Can I just inject super class when use dagger2...</td>\n",
       "      <td>&lt;p&gt;I use Dagger2 for DI in my android applicat...</td>\n",
       "      <td>&lt;java&gt;&lt;android&gt;&lt;dependency-injection&gt;&lt;dagger&gt;&lt;...</td>\n",
       "      <td>51</td>\n",
       "      <td>23085</td>\n",
       "      <td>3</td>\n",
       "      <td>5</td>\n",
       "      <td>{dagger, dagger-2, dependency-injection, andro...</td>\n",
       "      <td>[java, android, dependency-injection, dagger, ...</td>\n",
       "      <td>I use Dagger2 for DI in my android application...</td>\n",
       "      <td>BaseActivity</td>\n",
       "      <td>i use for di in my android application i found...</td>\n",
       "      <td>baseactivity</td>\n",
       "    </tr>\n",
       "    <tr>\n",
       "      <th>4</th>\n",
       "      <td>NetworkSecurityConfig: No Network Security Con...</td>\n",
       "      <td>&lt;p&gt;I have some problem for android 7.0.0.&lt;/p&gt;\\...</td>\n",
       "      <td>&lt;java&gt;&lt;android&gt;&lt;android-studio&gt;&lt;android-volley&gt;</td>\n",
       "      <td>10</td>\n",
       "      <td>30564</td>\n",
       "      <td>3</td>\n",
       "      <td>4</td>\n",
       "      <td>{java, android-volley, android, android-studio}</td>\n",
       "      <td>[java, android, android-studio, android-volley]</td>\n",
       "      <td>I have some problem for android 7.0.0.\\n\\n\\nI ...</td>\n",
       "      <td>String url_goster = \"http://185.126.217.71/clo...</td>\n",
       "      <td>i have some problem for android i use volley l...</td>\n",
       "      <td>string requestqueue requestqueue stringrequest...</td>\n",
       "    </tr>\n",
       "    <tr>\n",
       "      <th>...</th>\n",
       "      <td>...</td>\n",
       "      <td>...</td>\n",
       "      <td>...</td>\n",
       "      <td>...</td>\n",
       "      <td>...</td>\n",
       "      <td>...</td>\n",
       "      <td>...</td>\n",
       "      <td>...</td>\n",
       "      <td>...</td>\n",
       "      <td>...</td>\n",
       "      <td>...</td>\n",
       "      <td>...</td>\n",
       "      <td>...</td>\n",
       "    </tr>\n",
       "    <tr>\n",
       "      <th>105710</th>\n",
       "      <td>Fill image inside with color in fabric.js</td>\n",
       "      <td>&lt;p&gt;Basically, I have a png transparent image a...</td>\n",
       "      <td>&lt;javascript&gt;&lt;jquery&gt;&lt;css&gt;&lt;canvas&gt;&lt;fabricjs&gt;</td>\n",
       "      <td>8</td>\n",
       "      <td>2873</td>\n",
       "      <td>1</td>\n",
       "      <td>5</td>\n",
       "      <td>{javascript, canvas, css, fabricjs, jquery}</td>\n",
       "      <td>[javascript, jquery, css, canvas, fabricjs]</td>\n",
       "      <td>Basically, I have a png transparent image and ...</td>\n",
       "      <td>var canvas = this.__canvas = new fabric.Canvas...</td>\n",
       "      <td>basically i have a png transparent image and i...</td>\n",
       "      <td>var canvas new fabric f fabric function img va...</td>\n",
       "    </tr>\n",
       "    <tr>\n",
       "      <th>105711</th>\n",
       "      <td>jquery-ui sortable getting error - PUT 501 (No...</td>\n",
       "      <td>&lt;p&gt;I have a Rails app with jquery-ui sortable ...</td>\n",
       "      <td>&lt;jquery&gt;&lt;ruby-on-rails&gt;&lt;apache&gt;&lt;jquery-ui&gt;</td>\n",
       "      <td>10</td>\n",
       "      <td>1275</td>\n",
       "      <td>5</td>\n",
       "      <td>4</td>\n",
       "      <td>{apache, jquery-ui, jquery, ruby-on-rails}</td>\n",
       "      <td>[jquery, ruby-on-rails, apache, jquery-ui]</td>\n",
       "      <td>I have a Rails app with jquery-ui sortable lis...</td>\n",
       "      <td>PUT http://ndeavor.ameipro.com/workorders/2 50...</td>\n",
       "      <td>i have a rails app with jquery ui sortable lis...</td>\n",
       "      <td>put not implemented connectwith cursor move up...</td>\n",
       "    </tr>\n",
       "    <tr>\n",
       "      <th>105712</th>\n",
       "      <td>UnicodeEncodeError: 'ascii' codec can't encode...</td>\n",
       "      <td>&lt;p&gt;I'm trying to print a string from an &lt;a hre...</td>\n",
       "      <td>&lt;python&gt;&lt;unicode&gt;&lt;character-encoding&gt;&lt;web-scra...</td>\n",
       "      <td>9</td>\n",
       "      <td>14333</td>\n",
       "      <td>1</td>\n",
       "      <td>4</td>\n",
       "      <td>{web-scraping, unicode, python, character-enco...</td>\n",
       "      <td>[python, unicode, character-encoding, web-scra...</td>\n",
       "      <td>I'm trying to print a string from an \\narchive...</td>\n",
       "      <td>print page['html']\\nUnicodeEncodeError: 'ascii...</td>\n",
       "      <td>i trying to print a string from an archived we...</td>\n",
       "      <td>print unicodeencodeerror ascii codec ca encode...</td>\n",
       "    </tr>\n",
       "    <tr>\n",
       "      <th>105713</th>\n",
       "      <td>How can I rotate a UIImageView with respect to...</td>\n",
       "      <td>&lt;p&gt;By default, a UIImageView will rotate only ...</td>\n",
       "      <td>&lt;iphone&gt;&lt;cocoa-touch&gt;&lt;uikit&gt;&lt;core-animation&gt;</td>\n",
       "      <td>10</td>\n",
       "      <td>17594</td>\n",
       "      <td>1</td>\n",
       "      <td>4</td>\n",
       "      <td>{core-animation, uikit, iphone, cocoa-touch}</td>\n",
       "      <td>[iphone, cocoa-touch, uikit, core-animation]</td>\n",
       "      <td>By default, a UIImageView will rotate only abo...</td>\n",
       "      <td></td>\n",
       "      <td>by default a uiimageview will rotate only abou...</td>\n",
       "      <td></td>\n",
       "    </tr>\n",
       "    <tr>\n",
       "      <th>105714</th>\n",
       "      <td>FFmpeg on Android</td>\n",
       "      <td>&lt;p&gt;I have got FFmpeg compiled (libffmpeg.so) o...</td>\n",
       "      <td>&lt;android&gt;&lt;ffmpeg&gt;&lt;stagefright&gt;&lt;android-ffmpeg&gt;</td>\n",
       "      <td>219</td>\n",
       "      <td>180837</td>\n",
       "      <td>10</td>\n",
       "      <td>4</td>\n",
       "      <td>{android-ffmpeg, android, stagefright, ffmpeg}</td>\n",
       "      <td>[android, ffmpeg, stagefright, android-ffmpeg]</td>\n",
       "      <td>I have got FFmpeg compiled (libffmpeg.so) on A...</td>\n",
       "      <td></td>\n",
       "      <td>i have got ffmpeg compiled on android now i ha...</td>\n",
       "      <td></td>\n",
       "    </tr>\n",
       "  </tbody>\n",
       "</table>\n",
       "<p>105710 rows × 13 columns</p>\n",
       "</div>"
      ],
      "text/plain": [
       "                                                    Title  \\\n",
       "0       Publish/Subscribe reliable messaging: Redis VS...   \n",
       "1       What is an undefined reference/unresolved exte...   \n",
       "2       How MediaCodec finds the codec inside the fram...   \n",
       "3       Can I just inject super class when use dagger2...   \n",
       "4       NetworkSecurityConfig: No Network Security Con...   \n",
       "...                                                   ...   \n",
       "105710          Fill image inside with color in fabric.js   \n",
       "105711  jquery-ui sortable getting error - PUT 501 (No...   \n",
       "105712  UnicodeEncodeError: 'ascii' codec can't encode...   \n",
       "105713  How can I rotate a UIImageView with respect to...   \n",
       "105714                                  FFmpeg on Android   \n",
       "\n",
       "                                                     Body  \\\n",
       "0       <h2>Background</h2>\\n\\n<p>I am making a publis...   \n",
       "1       <p>What are undefined reference/unresolved ext...   \n",
       "2       <p>I am trying to understanding how MediaCodec...   \n",
       "3       <p>I use Dagger2 for DI in my android applicat...   \n",
       "4       <p>I have some problem for android 7.0.0.</p>\\...   \n",
       "...                                                   ...   \n",
       "105710  <p>Basically, I have a png transparent image a...   \n",
       "105711  <p>I have a Rails app with jquery-ui sortable ...   \n",
       "105712  <p>I'm trying to print a string from an <a hre...   \n",
       "105713  <p>By default, a UIImageView will rotate only ...   \n",
       "105714  <p>I have got FFmpeg compiled (libffmpeg.so) o...   \n",
       "\n",
       "                                                     Tags  Score  ViewCount  \\\n",
       "0       <javascript><node.js><redis><rabbitmq><publish...     25      16250   \n",
       "1       <c++><linker-errors><undefined-reference><c++-...   1757     871034   \n",
       "2       <android><android-internet><stagefright><openm...      7       4538   \n",
       "3       <java><android><dependency-injection><dagger><...     51      23085   \n",
       "4         <java><android><android-studio><android-volley>     10      30564   \n",
       "...                                                   ...    ...        ...   \n",
       "105710        <javascript><jquery><css><canvas><fabricjs>      8       2873   \n",
       "105711         <jquery><ruby-on-rails><apache><jquery-ui>     10       1275   \n",
       "105712  <python><unicode><character-encoding><web-scra...      9      14333   \n",
       "105713       <iphone><cocoa-touch><uikit><core-animation>     10      17594   \n",
       "105714     <android><ffmpeg><stagefright><android-ffmpeg>    219     180837   \n",
       "\n",
       "        AnswerCount  nbtags  \\\n",
       "0                 3       5   \n",
       "1                39       5   \n",
       "2                 1       5   \n",
       "3                 3       5   \n",
       "4                 3       4   \n",
       "...             ...     ...   \n",
       "105710            1       5   \n",
       "105711            5       4   \n",
       "105712            1       4   \n",
       "105713            1       4   \n",
       "105714           10       4   \n",
       "\n",
       "                                                  tag_set  \\\n",
       "0       {javascript, publish-subscribe, rabbitmq, node...   \n",
       "1       {c++, unresolved-external, c++-faq, linker-err...   \n",
       "2       {opencore, stagefright, android-internet, andr...   \n",
       "3       {dagger, dagger-2, dependency-injection, andro...   \n",
       "4         {java, android-volley, android, android-studio}   \n",
       "...                                                   ...   \n",
       "105710        {javascript, canvas, css, fabricjs, jquery}   \n",
       "105711         {apache, jquery-ui, jquery, ruby-on-rails}   \n",
       "105712  {web-scraping, unicode, python, character-enco...   \n",
       "105713       {core-animation, uikit, iphone, cocoa-touch}   \n",
       "105714     {android-ffmpeg, android, stagefright, ffmpeg}   \n",
       "\n",
       "                                                 tag_list  \\\n",
       "0       [javascript, node.js, redis, rabbitmq, publish...   \n",
       "1       [c++, linker-errors, undefined-reference, c++-...   \n",
       "2       [android, android-internet, stagefright, openm...   \n",
       "3       [java, android, dependency-injection, dagger, ...   \n",
       "4         [java, android, android-studio, android-volley]   \n",
       "...                                                   ...   \n",
       "105710        [javascript, jquery, css, canvas, fabricjs]   \n",
       "105711         [jquery, ruby-on-rails, apache, jquery-ui]   \n",
       "105712  [python, unicode, character-encoding, web-scra...   \n",
       "105713       [iphone, cocoa-touch, uikit, core-animation]   \n",
       "105714     [android, ffmpeg, stagefright, android-ffmpeg]   \n",
       "\n",
       "                                                     text  \\\n",
       "0       Background\\n\\n\\nI am making a publish/subscrib...   \n",
       "1       What are undefined reference/unresolved extern...   \n",
       "2       I am trying to understanding how MediaCodec is...   \n",
       "3       I use Dagger2 for DI in my android application...   \n",
       "4       I have some problem for android 7.0.0.\\n\\n\\nI ...   \n",
       "...                                                   ...   \n",
       "105710  Basically, I have a png transparent image and ...   \n",
       "105711  I have a Rails app with jquery-ui sortable lis...   \n",
       "105712  I'm trying to print a string from an \\narchive...   \n",
       "105713  By default, a UIImageView will rotate only abo...   \n",
       "105714  I have got FFmpeg compiled (libffmpeg.so) on A...   \n",
       "\n",
       "                                                     code  \\\n",
       "0                                                           \n",
       "1                                                           \n",
       "2        device/ti/omap3evm/media_codecs.xml for an ex...   \n",
       "3                                            BaseActivity   \n",
       "4       String url_goster = \"http://185.126.217.71/clo...   \n",
       "...                                                   ...   \n",
       "105710  var canvas = this.__canvas = new fabric.Canvas...   \n",
       "105711  PUT http://ndeavor.ameipro.com/workorders/2 50...   \n",
       "105712  print page['html']\\nUnicodeEncodeError: 'ascii...   \n",
       "105713                                                      \n",
       "105714                                                      \n",
       "\n",
       "                                           text_processed  \\\n",
       "0       background i am making a publish subscribe typ...   \n",
       "1       what are undefined reference unresolved extern...   \n",
       "2       i am trying to understanding how mediacodec is...   \n",
       "3       i use for di in my android application i found...   \n",
       "4       i have some problem for android i use volley l...   \n",
       "...                                                   ...   \n",
       "105710  basically i have a png transparent image and i...   \n",
       "105711  i have a rails app with jquery ui sortable lis...   \n",
       "105712  i trying to print a string from an archived we...   \n",
       "105713  by default a uiimageview will rotate only abou...   \n",
       "105714  i have got ffmpeg compiled on android now i ha...   \n",
       "\n",
       "                                           code_processed  \n",
       "0                                                          \n",
       "1                                                          \n",
       "2       device ti for an example mediacodec codec medi...  \n",
       "3                                            baseactivity  \n",
       "4       string requestqueue requestqueue stringrequest...  \n",
       "...                                                   ...  \n",
       "105710  var canvas new fabric f fabric function img va...  \n",
       "105711  put not implemented connectwith cursor move up...  \n",
       "105712  print unicodeencodeerror ascii codec ca encode...  \n",
       "105713                                                     \n",
       "105714                                                     \n",
       "\n",
       "[105710 rows x 13 columns]"
      ]
     },
     "execution_count": 14,
     "metadata": {},
     "output_type": "execute_result"
    }
   ],
   "source": [
    "train_df_text\n"
   ]
  },
  {
   "cell_type": "code",
   "execution_count": 10,
   "metadata": {},
   "outputs": [
    {
     "name": "stderr",
     "output_type": "stream",
     "text": [
      "loading configuration file config.json from cache at /home/aurelien/.cache/huggingface/hub/models--bert-base-uncased/snapshots/0a6aa9128b6194f4f3c4db429b6cb4891cdb421b/config.json\n",
      "Model config BertConfig {\n",
      "  \"_name_or_path\": \"bert-base-uncased\",\n",
      "  \"architectures\": [\n",
      "    \"BertForMaskedLM\"\n",
      "  ],\n",
      "  \"attention_probs_dropout_prob\": 0.1,\n",
      "  \"classifier_dropout\": null,\n",
      "  \"gradient_checkpointing\": false,\n",
      "  \"hidden_act\": \"gelu\",\n",
      "  \"hidden_dropout_prob\": 0.1,\n",
      "  \"hidden_size\": 768,\n",
      "  \"initializer_range\": 0.02,\n",
      "  \"intermediate_size\": 3072,\n",
      "  \"layer_norm_eps\": 1e-12,\n",
      "  \"max_position_embeddings\": 512,\n",
      "  \"model_type\": \"bert\",\n",
      "  \"num_attention_heads\": 12,\n",
      "  \"num_hidden_layers\": 12,\n",
      "  \"pad_token_id\": 0,\n",
      "  \"position_embedding_type\": \"absolute\",\n",
      "  \"transformers_version\": \"4.26.1\",\n",
      "  \"type_vocab_size\": 2,\n",
      "  \"use_cache\": true,\n",
      "  \"vocab_size\": 30522\n",
      "}\n",
      "\n",
      "loading file vocab.txt from cache at /home/aurelien/.cache/huggingface/hub/models--bert-base-uncased/snapshots/0a6aa9128b6194f4f3c4db429b6cb4891cdb421b/vocab.txt\n",
      "loading file tokenizer.json from cache at /home/aurelien/.cache/huggingface/hub/models--bert-base-uncased/snapshots/0a6aa9128b6194f4f3c4db429b6cb4891cdb421b/tokenizer.json\n",
      "loading file added_tokens.json from cache at None\n",
      "loading file special_tokens_map.json from cache at None\n",
      "loading file tokenizer_config.json from cache at /home/aurelien/.cache/huggingface/hub/models--bert-base-uncased/snapshots/0a6aa9128b6194f4f3c4db429b6cb4891cdb421b/tokenizer_config.json\n",
      "loading configuration file config.json from cache at /home/aurelien/.cache/huggingface/hub/models--bert-base-uncased/snapshots/0a6aa9128b6194f4f3c4db429b6cb4891cdb421b/config.json\n",
      "Model config BertConfig {\n",
      "  \"_name_or_path\": \"bert-base-uncased\",\n",
      "  \"architectures\": [\n",
      "    \"BertForMaskedLM\"\n",
      "  ],\n",
      "  \"attention_probs_dropout_prob\": 0.1,\n",
      "  \"classifier_dropout\": null,\n",
      "  \"gradient_checkpointing\": false,\n",
      "  \"hidden_act\": \"gelu\",\n",
      "  \"hidden_dropout_prob\": 0.1,\n",
      "  \"hidden_size\": 768,\n",
      "  \"initializer_range\": 0.02,\n",
      "  \"intermediate_size\": 3072,\n",
      "  \"layer_norm_eps\": 1e-12,\n",
      "  \"max_position_embeddings\": 512,\n",
      "  \"model_type\": \"bert\",\n",
      "  \"num_attention_heads\": 12,\n",
      "  \"num_hidden_layers\": 12,\n",
      "  \"pad_token_id\": 0,\n",
      "  \"position_embedding_type\": \"absolute\",\n",
      "  \"transformers_version\": \"4.26.1\",\n",
      "  \"type_vocab_size\": 2,\n",
      "  \"use_cache\": true,\n",
      "  \"vocab_size\": 30522\n",
      "}\n",
      "\n"
     ]
    },
    {
     "name": "stdout",
     "output_type": "stream",
     "text": [
      "1/1 [==============================] - 11s 11s/step\n"
     ]
    },
    {
     "ename": "KeyboardInterrupt",
     "evalue": "",
     "output_type": "error",
     "traceback": [
      "\u001b[0;31m---------------------------------------------------------------------------\u001b[0m",
      "\u001b[0;31mKeyboardInterrupt\u001b[0m                         Traceback (most recent call last)",
      "\u001b[0;32m/tmp/ipykernel_7757/3166139859.py\u001b[0m in \u001b[0;36m<module>\u001b[0;34m\u001b[0m\n\u001b[0;32m----> 1\u001b[0;31m features_bert, last_hidden_states_tot = feature_BERT_fct(model, model_type, train_df_text.text_processed.values,\n\u001b[0m\u001b[1;32m      2\u001b[0m                                                          max_length, batch_size)\n",
      "\u001b[0;32m/tmp/ipykernel_7757/2504621402.py\u001b[0m in \u001b[0;36mfeature_BERT_fct\u001b[0;34m(model, model_type, sentences, max_length, b_size)\u001b[0m\n\u001b[1;32m     44\u001b[0m \u001b[0;34m\u001b[0m\u001b[0m\n\u001b[1;32m     45\u001b[0m         \u001b[0moutputs\u001b[0m \u001b[0;34m=\u001b[0m \u001b[0mmodel\u001b[0m\u001b[0;34m.\u001b[0m\u001b[0mpredict\u001b[0m\u001b[0;34m(\u001b[0m\u001b[0;34m[\u001b[0m\u001b[0minput_ids\u001b[0m\u001b[0;34m,\u001b[0m \u001b[0mattention_mask\u001b[0m\u001b[0;34m,\u001b[0m \u001b[0mtoken_type_ids\u001b[0m\u001b[0;34m]\u001b[0m\u001b[0;34m,\u001b[0m \u001b[0mbatch_size\u001b[0m\u001b[0;34m=\u001b[0m\u001b[0mbatch_size_pred\u001b[0m\u001b[0;34m)\u001b[0m\u001b[0;34m\u001b[0m\u001b[0;34m\u001b[0m\u001b[0m\n\u001b[0;32m---> 46\u001b[0;31m         \u001b[0mlast_hidden_states\u001b[0m \u001b[0;34m=\u001b[0m \u001b[0moutputs\u001b[0m\u001b[0;34m.\u001b[0m\u001b[0mlast_hidden_state\u001b[0m\u001b[0;34m\u001b[0m\u001b[0;34m\u001b[0m\u001b[0m\n\u001b[0m\u001b[1;32m     47\u001b[0m \u001b[0;34m\u001b[0m\u001b[0m\n\u001b[1;32m     48\u001b[0m \u001b[0;34m\u001b[0m\u001b[0m\n",
      "\u001b[0;32m/tmp/ipykernel_7757/2504621402.py\u001b[0m in \u001b[0;36mfeature_BERT_fct\u001b[0;34m(model, model_type, sentences, max_length, b_size)\u001b[0m\n\u001b[1;32m     44\u001b[0m \u001b[0;34m\u001b[0m\u001b[0m\n\u001b[1;32m     45\u001b[0m         \u001b[0moutputs\u001b[0m \u001b[0;34m=\u001b[0m \u001b[0mmodel\u001b[0m\u001b[0;34m.\u001b[0m\u001b[0mpredict\u001b[0m\u001b[0;34m(\u001b[0m\u001b[0;34m[\u001b[0m\u001b[0minput_ids\u001b[0m\u001b[0;34m,\u001b[0m \u001b[0mattention_mask\u001b[0m\u001b[0;34m,\u001b[0m \u001b[0mtoken_type_ids\u001b[0m\u001b[0;34m]\u001b[0m\u001b[0;34m,\u001b[0m \u001b[0mbatch_size\u001b[0m\u001b[0;34m=\u001b[0m\u001b[0mbatch_size_pred\u001b[0m\u001b[0;34m)\u001b[0m\u001b[0;34m\u001b[0m\u001b[0;34m\u001b[0m\u001b[0m\n\u001b[0;32m---> 46\u001b[0;31m         \u001b[0mlast_hidden_states\u001b[0m \u001b[0;34m=\u001b[0m \u001b[0moutputs\u001b[0m\u001b[0;34m.\u001b[0m\u001b[0mlast_hidden_state\u001b[0m\u001b[0;34m\u001b[0m\u001b[0;34m\u001b[0m\u001b[0m\n\u001b[0m\u001b[1;32m     47\u001b[0m \u001b[0;34m\u001b[0m\u001b[0m\n\u001b[1;32m     48\u001b[0m \u001b[0;34m\u001b[0m\u001b[0m\n",
      "\u001b[0;32m_pydevd_bundle/pydevd_cython.pyx\u001b[0m in \u001b[0;36m_pydevd_bundle.pydevd_cython.SafeCallWrapper.__call__\u001b[0;34m()\u001b[0m\n",
      "\u001b[0;32m_pydevd_bundle/pydevd_cython.pyx\u001b[0m in \u001b[0;36m_pydevd_bundle.pydevd_cython.PyDBFrame.trace_dispatch\u001b[0;34m()\u001b[0m\n",
      "\u001b[0;32m_pydevd_bundle/pydevd_cython.pyx\u001b[0m in \u001b[0;36m_pydevd_bundle.pydevd_cython.PyDBFrame.trace_dispatch\u001b[0;34m()\u001b[0m\n",
      "\u001b[0;32m_pydevd_bundle/pydevd_cython.pyx\u001b[0m in \u001b[0;36m_pydevd_bundle.pydevd_cython.PyDBFrame.trace_dispatch\u001b[0;34m()\u001b[0m\n",
      "\u001b[0;32m_pydevd_bundle/pydevd_cython.pyx\u001b[0m in \u001b[0;36m_pydevd_bundle.pydevd_cython.PyDBFrame.do_wait_suspend\u001b[0;34m()\u001b[0m\n",
      "\u001b[0;32m~/.local/lib/python3.10/site-packages/debugpy/_vendored/pydevd/pydevd.py\u001b[0m in \u001b[0;36mdo_wait_suspend\u001b[0;34m(self, thread, frame, event, arg, exception_type)\u001b[0m\n\u001b[1;32m   2060\u001b[0m \u001b[0;34m\u001b[0m\u001b[0m\n\u001b[1;32m   2061\u001b[0m             \u001b[0;32mwith\u001b[0m \u001b[0mself\u001b[0m\u001b[0;34m.\u001b[0m\u001b[0m_threads_suspended_single_notification\u001b[0m\u001b[0;34m.\u001b[0m\u001b[0mnotify_thread_suspended\u001b[0m\u001b[0;34m(\u001b[0m\u001b[0mthread_id\u001b[0m\u001b[0;34m,\u001b[0m \u001b[0mstop_reason\u001b[0m\u001b[0;34m)\u001b[0m\u001b[0;34m:\u001b[0m\u001b[0;34m\u001b[0m\u001b[0;34m\u001b[0m\u001b[0m\n\u001b[0;32m-> 2062\u001b[0;31m                 \u001b[0mkeep_suspended\u001b[0m \u001b[0;34m=\u001b[0m \u001b[0mself\u001b[0m\u001b[0;34m.\u001b[0m\u001b[0m_do_wait_suspend\u001b[0m\u001b[0;34m(\u001b[0m\u001b[0mthread\u001b[0m\u001b[0;34m,\u001b[0m \u001b[0mframe\u001b[0m\u001b[0;34m,\u001b[0m \u001b[0mevent\u001b[0m\u001b[0;34m,\u001b[0m \u001b[0marg\u001b[0m\u001b[0;34m,\u001b[0m \u001b[0msuspend_type\u001b[0m\u001b[0;34m,\u001b[0m \u001b[0mfrom_this_thread\u001b[0m\u001b[0;34m,\u001b[0m \u001b[0mframes_tracker\u001b[0m\u001b[0;34m)\u001b[0m\u001b[0;34m\u001b[0m\u001b[0;34m\u001b[0m\u001b[0m\n\u001b[0m\u001b[1;32m   2063\u001b[0m \u001b[0;34m\u001b[0m\u001b[0m\n\u001b[1;32m   2064\u001b[0m         \u001b[0mframes_list\u001b[0m \u001b[0;34m=\u001b[0m \u001b[0;32mNone\u001b[0m\u001b[0;34m\u001b[0m\u001b[0;34m\u001b[0m\u001b[0m\n",
      "\u001b[0;32m~/.local/lib/python3.10/site-packages/debugpy/_vendored/pydevd/pydevd.py\u001b[0m in \u001b[0;36m_do_wait_suspend\u001b[0;34m(self, thread, frame, event, arg, suspend_type, from_this_thread, frames_tracker)\u001b[0m\n\u001b[1;32m   2096\u001b[0m \u001b[0;34m\u001b[0m\u001b[0m\n\u001b[1;32m   2097\u001b[0m             \u001b[0mself\u001b[0m\u001b[0;34m.\u001b[0m\u001b[0mprocess_internal_commands\u001b[0m\u001b[0;34m(\u001b[0m\u001b[0;34m)\u001b[0m\u001b[0;34m\u001b[0m\u001b[0;34m\u001b[0m\u001b[0m\n\u001b[0;32m-> 2098\u001b[0;31m             \u001b[0mtime\u001b[0m\u001b[0;34m.\u001b[0m\u001b[0msleep\u001b[0m\u001b[0;34m(\u001b[0m\u001b[0;36m0.01\u001b[0m\u001b[0;34m)\u001b[0m\u001b[0;34m\u001b[0m\u001b[0;34m\u001b[0m\u001b[0m\n\u001b[0m\u001b[1;32m   2099\u001b[0m \u001b[0;34m\u001b[0m\u001b[0m\n\u001b[1;32m   2100\u001b[0m         \u001b[0mself\u001b[0m\u001b[0;34m.\u001b[0m\u001b[0mcancel_async_evaluation\u001b[0m\u001b[0;34m(\u001b[0m\u001b[0mget_current_thread_id\u001b[0m\u001b[0;34m(\u001b[0m\u001b[0mthread\u001b[0m\u001b[0;34m)\u001b[0m\u001b[0;34m,\u001b[0m \u001b[0mstr\u001b[0m\u001b[0;34m(\u001b[0m\u001b[0mid\u001b[0m\u001b[0;34m(\u001b[0m\u001b[0mframe\u001b[0m\u001b[0;34m)\u001b[0m\u001b[0;34m)\u001b[0m\u001b[0;34m)\u001b[0m\u001b[0;34m\u001b[0m\u001b[0;34m\u001b[0m\u001b[0m\n",
      "\u001b[0;31mKeyboardInterrupt\u001b[0m: "
     ]
    }
   ],
   "source": [
    "features_bert, last_hidden_states_tot = feature_BERT_fct(model, model_type, train_df_text.text_processed.values,\n",
    "                                                         max_length, batch_size)"
   ]
  },
  {
   "attachments": {},
   "cell_type": "markdown",
   "metadata": {},
   "source": [
    "## Evaluation"
   ]
  },
  {
   "attachments": {},
   "cell_type": "markdown",
   "metadata": {},
   "source": [
    "### RoBertA spacy"
   ]
  },
  {
   "cell_type": "code",
   "execution_count": 4,
   "metadata": {},
   "outputs": [],
   "source": [
    "\n",
    "\n",
    "\n",
    "\n",
    "sample_validation = pd.read_csv(\n",
    "    './validation.csv', converters={'tag_set': eval, 'tag_list': eval})\n",
    "sample_validation.text.fillna(\"\", inplace=True)\n",
    "sample_validation.code.fillna(\"\", inplace=True)\n",
    "sample_validation.tag_list = sample_validation.tag_list.apply(\n",
    "    lambda tag_list: [tag for tag in tag_list if tag in selected_tags])\n",
    "\n",
    "mlb = MultiLabelBinarizer()\n",
    "mlb.fit([selected_tags])\n",
    "y = mlb.transform(sample_validation.tag_list.values)\n",
    "y_sets = sample_validation.tag_list.apply(set)\n"
   ]
  },
  {
   "cell_type": "code",
   "execution_count": 6,
   "metadata": {},
   "outputs": [
    {
     "name": "stdout",
     "output_type": "stream",
     "text": [
      "preprocessing\n"
     ]
    },
    {
     "name": "stderr",
     "output_type": "stream",
     "text": [
      "100%|██████████| 14152/14152 [00:07<00:00, 1858.39it/s]\n"
     ]
    },
    {
     "name": "stdout",
     "output_type": "stream",
     "text": [
      "preprocessing\n"
     ]
    },
    {
     "name": "stderr",
     "output_type": "stream",
     "text": [
      "100%|██████████| 14152/14152 [00:20<00:00, 690.67it/s]\n"
     ]
    }
   ],
   "source": [
    "# del nlp_trf\n",
    "# gc.collect()\n",
    "# torch.cuda.empty_cache()\n",
    "nlp = spacy.load(\"en_core_web_trf\")\n",
    "val_trf = sample_validation.loc[:]\n",
    "val_trf[\"texts_processed\"] = preprocess_transformers(val_trf.text)\n",
    "val_trf['codes_processed'] = preprocess_transformers(val_trf.code)\n"
   ]
  },
  {
   "cell_type": "code",
   "execution_count": 9,
   "metadata": {},
   "outputs": [
    {
     "name": "stderr",
     "output_type": "stream",
     "text": [
      "100%|██████████| 14152/14152 [02:21<00:00, 99.99it/s] \n",
      "100%|██████████| 14152/14152 [01:40<00:00, 141.43it/s]\n",
      "/tmp/ipykernel_41186/1299934847.py:12: SettingWithCopyWarning: \n",
      "A value is trying to be set on a copy of a slice from a DataFrame.\n",
      "Try using .loc[row_indexer,col_indexer] = value instead\n",
      "\n",
      "See the caveats in the documentation: https://pandas.pydata.org/pandas-docs/stable/user_guide/indexing.html#returning-a-view-versus-a-copy\n",
      "  val_trf[val_trf.text == \"\"].text_cats = dict.fromkeys(selected_tags, 0)\n",
      "/tmp/ipykernel_41186/1299934847.py:14: SettingWithCopyWarning: \n",
      "A value is trying to be set on a copy of a slice from a DataFrame.\n",
      "Try using .loc[row_indexer,col_indexer] = value instead\n",
      "\n",
      "See the caveats in the documentation: https://pandas.pydata.org/pandas-docs/stable/user_guide/indexing.html#returning-a-view-versus-a-copy\n",
      "  val_trf[val_trf.code == \"\"].code_cats = dict.fromkeys(selected_tags, 0)\n"
     ]
    }
   ],
   "source": [
    "\n",
    "nlp_text = spacy.load(\"./output_transformer/model-best\")\n",
    "nlp_code = spacy.load(\"./output_code_transformer/model-best\")\n",
    "text_cats = []\n",
    "code_cats = []\n",
    "for summary in tqdm(nlp_text.pipe(val_trf[\"texts_processed\"].values), total=len(val_trf)):\n",
    "    text_cats.append(summary.cats)\n",
    "\n",
    "for summary in tqdm(nlp_code.pipe(val_trf[\"codes_processed\"].values), total=len(val_trf)):\n",
    "    code_cats.append(summary.cats)\n",
    "\n",
    "val_trf[\"text_cats\"] = text_cats\n",
    "val_trf[val_trf.text == \"\"].text_cats = dict.fromkeys(selected_tags, 0)\n",
    "val_trf[\"code_cats\"] = code_cats\n",
    "val_trf[val_trf.code == \"\"].code_cats = dict.fromkeys(selected_tags, 0)\n"
   ]
  },
  {
   "cell_type": "code",
   "execution_count": 17,
   "metadata": {},
   "outputs": [
    {
     "name": "stdout",
     "output_type": "stream",
     "text": [
      "======= text ==========\n",
      "Roc auc for each tag:\n",
      "[('.net', 0.7692095799440233), ('android', 0.9080808690792053), ('c', 0.8447096161377827), ('c#', 0.8388032570978465), ('c++', 0.7881483148459298), ('css', 0.913996074936601), ('html', 0.8416098388612389), ('ios', 0.8734087727851785), ('iphone', 0.7788454730954467), ('java', 0.7919521783959212), ('javascript', 0.8453633686623323), ('jquery', 0.8498724053753448), ('node.js', 0.8705711658530503), ('objective-c', 0.793235451364751), ('php', 0.8618515050250596), ('python', 0.9013762832571274)]\n",
      "Roc auc macro average: 0.842\n",
      "Jaccard score sample average: 0.643\n",
      "======= code ==========\n",
      "Roc auc for each tag:\n",
      "[('.net', 0.7118275048578196), ('android', 0.7014331326810528), ('c', 0.7336554822753112), ('c#', 0.7457083116089966), ('c++', 0.6881793645604458), ('css', 0.7673096924660345), ('html', 0.7189115131655768), ('ios', 0.7489205401739829), ('iphone', 0.7016473996089918), ('java', 0.6927924005318513), ('javascript', 0.7024452194357037), ('jquery', 0.6839158549562087), ('node.js', 0.7737853899124363), ('objective-c', 0.7767151159608128), ('php', 0.7030276624172256), ('python', 0.7855757304342345)]\n",
      "Roc auc macro average: 0.727\n",
      "Jaccard score sample average: 0.446\n",
      "======= union ==========\n",
      "Roc auc for each tag:\n",
      "[('.net', 0.9659017799699764), ('android', 0.7225806451612904), ('c', 0.7810192023633677), ('c#', 0.7795315682281059), ('c++', 0.7484202211690363), ('css', 0.7911660777385159), ('html', 0.7807396733909702), ('ios', 0.7931850449597728), ('iphone', 0.9589355356733196), ('java', 0.7792642140468227), ('javascript', 0.9354577806535103), ('jquery', 0.9522437216961712), ('node.js', 0.8052120141342756), ('objective-c', 0.8254172015404364), ('php', 0.7423971377459749), ('python', 0.80550621669627)]\n",
      "Roc auc macro average: 0.823\n",
      "Jaccard score sample average: 0.726\n",
      "======= intersection ==========\n",
      "Roc auc for each tag:\n",
      "[('.net', 0.8660421021200359), ('android', 0.9956990814987607), ('c', 0.9895087001023541), ('c#', 0.9870532049847026), ('c++', 0.9920317275505749), ('css', 0.9935930671802089), ('html', 0.9878992859827133), ('ios', 0.9883518644580592), ('iphone', 0.8763532552276435), ('java', 0.9888341067285382), ('javascript', 0.8554402464731636), ('jquery', 0.8639415187229599), ('node.js', 0.9932576035177721), ('objective-c', 0.9855854523950326), ('php', 0.9934377492567616), ('python', 0.9932952297208177)]\n",
      "Roc auc macro average: 0.959\n",
      "Jaccard score sample average: 0.448\n"
     ]
    },
    {
     "name": "stderr",
     "output_type": "stream",
     "text": [
      "/home/aurelien/.local/lib/python3.10/site-packages/sklearn/metrics/_classification.py:1318: UndefinedMetricWarning: Jaccard is ill-defined and being set to 0.0 in samples with no true or predicted labels. Use `zero_division` parameter to control this behavior.\n",
      "  _warn_prf(average, modifier, msg_start, len(result))\n",
      "/home/aurelien/.local/lib/python3.10/site-packages/sklearn/metrics/_classification.py:1318: UndefinedMetricWarning: Jaccard is ill-defined and being set to 0.0 in samples with no true or predicted labels. Use `zero_division` parameter to control this behavior.\n",
      "  _warn_prf(average, modifier, msg_start, len(result))\n"
     ]
    }
   ],
   "source": [
    "THRESHOLD = 0.5\n",
    "y_pred_text = [[x for x in mlb.classes_ if y[x] > THRESHOLD]\n",
    "               for y in val_trf.text_cats.values]\n",
    "y_pred_code = [[x for x in mlb.classes_ if y[x] > THRESHOLD]\n",
    "               for y in val_trf.code_cats.values]\n",
    "\n",
    "y_pred_text = mlb.transform(y_pred_text)\n",
    "y_pred_code = mlb.transform(y_pred_code)\n",
    "evaluate_predictions(y, y_pred_text, y_pred_code, mlb, \"roberta\")\n"
   ]
  },
  {
   "attachments": {},
   "cell_type": "markdown",
   "metadata": {},
   "source": [
    "### BOW Spacy"
   ]
  },
  {
   "cell_type": "code",
   "execution_count": 18,
   "metadata": {},
   "outputs": [
    {
     "name": "stdout",
     "output_type": "stream",
     "text": [
      "preprocessing\n"
     ]
    },
    {
     "name": "stderr",
     "output_type": "stream",
     "text": [
      "100%|██████████| 14152/14152 [01:18<00:00, 181.37it/s]\n"
     ]
    },
    {
     "name": "stdout",
     "output_type": "stream",
     "text": [
      "preprocessing\n"
     ]
    },
    {
     "name": "stderr",
     "output_type": "stream",
     "text": [
      "100%|██████████| 14152/14152 [01:33<00:00, 151.51it/s]\n",
      "100%|██████████| 14152/14152 [00:06<00:00, 2233.17it/s]\n",
      "100%|██████████| 14152/14152 [00:06<00:00, 2178.66it/s]\n",
      "/tmp/ipykernel_41186/610484677.py:17: SettingWithCopyWarning: \n",
      "A value is trying to be set on a copy of a slice from a DataFrame.\n",
      "Try using .loc[row_indexer,col_indexer] = value instead\n",
      "\n",
      "See the caveats in the documentation: https://pandas.pydata.org/pandas-docs/stable/user_guide/indexing.html#returning-a-view-versus-a-copy\n",
      "  val_bow[val_bow.text == \"\"].text_cats = dict.fromkeys(selected_tags, 0)\n",
      "/tmp/ipykernel_41186/610484677.py:19: SettingWithCopyWarning: \n",
      "A value is trying to be set on a copy of a slice from a DataFrame.\n",
      "Try using .loc[row_indexer,col_indexer] = value instead\n",
      "\n",
      "See the caveats in the documentation: https://pandas.pydata.org/pandas-docs/stable/user_guide/indexing.html#returning-a-view-versus-a-copy\n",
      "  val_bow[val_bow.code == \"\"].code_cats = dict.fromkeys(selected_tags, 0)\n"
     ]
    }
   ],
   "source": [
    "\n",
    "nlp_lg = spacy.load('en_core_web_lg')\n",
    "val_bow = sample_validation.loc[:]\n",
    "val_bow[\"texts_processed\"] = preprocess(val_bow.text, nlp_lg)\n",
    "val_bow['codes_processed'] = preprocess(val_bow.code, nlp_lg)\n",
    "\n",
    "nlp_text = spacy.load(\"./output_BOW/model-best\")\n",
    "nlp_code = spacy.load(\"./output_code_BOW/model-best\")\n",
    "text_cats = []\n",
    "code_cats = []\n",
    "for summary in tqdm(nlp_text.pipe(val_bow[\"texts_processed\"].values), total=len(val_bow)):\n",
    "    text_cats.append(summary.cats)\n",
    "\n",
    "for summary in tqdm(nlp_code.pipe(val_bow[\"codes_processed\"].values), total=len(val_bow)):\n",
    "    code_cats.append(summary.cats)\n",
    "\n",
    "val_bow[\"text_cats\"] = text_cats\n",
    "val_bow[val_bow.text == \"\"].text_cats = dict.fromkeys(selected_tags, 0)\n",
    "val_bow[\"code_cats\"] = code_cats\n",
    "val_bow[val_bow.code == \"\"].code_cats = dict.fromkeys(selected_tags, 0)\n"
   ]
  },
  {
   "cell_type": "code",
   "execution_count": 19,
   "metadata": {},
   "outputs": [
    {
     "name": "stdout",
     "output_type": "stream",
     "text": [
      "======= text ==========\n",
      "Roc auc for each tag:\n",
      "[('.net', 0.6488900967782152), ('android', 0.8301444824905723), ('c', 0.7419467792574461), ('c#', 0.7319272956228179), ('c++', 0.7019025172772958), ('css', 0.8399595601095461), ('html', 0.736338138683504), ('ios', 0.7948700679334377), ('iphone', 0.6635471627376747), ('java', 0.7256070039936248), ('javascript', 0.744058014673224), ('jquery', 0.7819770185228876), ('node.js', 0.776855033231991), ('objective-c', 0.646231952979652), ('php', 0.7956970717251355), ('python', 0.8240978956325864)]\n",
      "Roc auc macro average: 0.749\n",
      "Jaccard score sample average: 0.482\n",
      "======= code ==========\n",
      "Roc auc for each tag:\n",
      "[('.net', 0.6013185899615637), ('android', 0.7079430036168805), ('c', 0.67738271317357), ('c#', 0.7018641191800484), ('c++', 0.6596744189582685), ('css', 0.7413250204306504), ('html', 0.6589245157521024), ('ios', 0.6677736187345674), ('iphone', 0.5571416184495195), ('java', 0.6612724150810498), ('javascript', 0.684897964392756), ('jquery', 0.636890254178122), ('node.js', 0.734195023353506), ('objective-c', 0.6582794952058915), ('php', 0.6702477210363726), ('python', 0.755062385334667)]\n",
      "Roc auc macro average: 0.673\n",
      "Jaccard score sample average: 0.342\n",
      "======= union ==========\n",
      "Roc auc for each tag:\n",
      "[('.net', 0.7352297592997812), ('android', 0.7566452795600367), ('c', 0.7754010695187166), ('c#', 0.7774130006565988), ('c++', 0.7835209825997953), ('css', 0.8049496644295302), ('html', 0.7713903743315508), ('ios', 0.7288902291917974), ('iphone', 0.659217877094972), ('java', 0.7799616490891659), ('javascript', 0.7900125365649813), ('jquery', 0.731304347826087), ('node.js', 0.8104751619870411), ('objective-c', 0.7875647668393783), ('php', 0.7398068669527897), ('python', 0.8051881993896236)]\n",
      "Roc auc macro average: 0.765\n",
      "Jaccard score sample average: 0.430\n",
      "======= intersection ==========\n",
      "Roc auc for each tag:\n",
      "[('.net', 0.9898964655480186), ('android', 0.9923567340433239), ('c', 0.9913525978237372), ('c#', 0.9850550411897645), ('c++', 0.9910798122065727), ('css', 0.9917942706425379), ('html', 0.9862933799941673), ('ios', 0.9896176062001901), ('iphone', 0.9943197955126384), ('java', 0.9879522405236281), ('javascript', 0.9756652008645749), ('jquery', 0.9908815685143805), ('node.js', 0.9911017868769443), ('objective-c', 0.9867196449026345), ('php', 0.9934471088067977), ('python', 0.9915131292615696)]\n",
      "Roc auc macro average: 0.989\n",
      "Jaccard score sample average: 0.269\n"
     ]
    },
    {
     "name": "stderr",
     "output_type": "stream",
     "text": [
      "/home/aurelien/.local/lib/python3.10/site-packages/sklearn/metrics/_classification.py:1318: UndefinedMetricWarning: Jaccard is ill-defined and being set to 0.0 in samples with no true or predicted labels. Use `zero_division` parameter to control this behavior.\n",
      "  _warn_prf(average, modifier, msg_start, len(result))\n",
      "/home/aurelien/.local/lib/python3.10/site-packages/sklearn/metrics/_classification.py:1318: UndefinedMetricWarning: Jaccard is ill-defined and being set to 0.0 in samples with no true or predicted labels. Use `zero_division` parameter to control this behavior.\n",
      "  _warn_prf(average, modifier, msg_start, len(result))\n"
     ]
    }
   ],
   "source": [
    "THRESHOLD = 0.5\n",
    "y_pred_text = [[x for x in selected_tags if y[x] > THRESHOLD]\n",
    "               for y in val_bow.text_cats.values]\n",
    "y_pred_code = [[x for x in selected_tags if y[x] > THRESHOLD]\n",
    "               for y in val_bow.code_cats.values]\n",
    "\n",
    "y_pred_text = mlb.transform(y_pred_text)\n",
    "y_pred_code = mlb.transform(y_pred_code)\n",
    "\n",
    "evaluate_predictions(y, y_pred_text, y_pred_code, mlb, \"bow\")"
   ]
  },
  {
   "cell_type": "code",
   "execution_count": 20,
   "metadata": {},
   "outputs": [
    {
     "name": "stderr",
     "output_type": "stream",
     "text": [
      "100%|██████████| 14152/14152 [00:07<00:00, 1959.16it/s]\n",
      "100%|██████████| 14152/14152 [00:07<00:00, 1959.62it/s]\n",
      "/tmp/ipykernel_41186/308916592.py:13: SettingWithCopyWarning: \n",
      "A value is trying to be set on a copy of a slice from a DataFrame.\n",
      "Try using .loc[row_indexer,col_indexer] = value instead\n",
      "\n",
      "See the caveats in the documentation: https://pandas.pydata.org/pandas-docs/stable/user_guide/indexing.html#returning-a-view-versus-a-copy\n",
      "  val_tok2vec[val_tok2vec.text == \"\"].text_cats = dict.fromkeys(selected_tags, 0)\n",
      "/tmp/ipykernel_41186/308916592.py:15: SettingWithCopyWarning: \n",
      "A value is trying to be set on a copy of a slice from a DataFrame.\n",
      "Try using .loc[row_indexer,col_indexer] = value instead\n",
      "\n",
      "See the caveats in the documentation: https://pandas.pydata.org/pandas-docs/stable/user_guide/indexing.html#returning-a-view-versus-a-copy\n",
      "  val_tok2vec[val_tok2vec.code == \"\"].code_cats = dict.fromkeys(selected_tags, 0)\n"
     ]
    }
   ],
   "source": [
    "val_tok2vec = val_bow.loc[:]\n",
    "nlp_text = spacy.load(\"./output_tok2vec/model-best\")\n",
    "nlp_code = spacy.load(\"./output_code_tok2vec/model-best\")\n",
    "text_cats = []\n",
    "code_cats = []\n",
    "for summary in tqdm(nlp_text.pipe(val_tok2vec[\"texts_processed\"].values), total=len(val_tok2vec)):\n",
    "    text_cats.append(summary.cats)\n",
    "\n",
    "for summary in tqdm(nlp_code.pipe(val_tok2vec[\"codes_processed\"].values), total=len(val_tok2vec)):\n",
    "    code_cats.append(summary.cats)\n",
    "\n",
    "val_tok2vec[\"text_cats\"] = text_cats\n",
    "val_tok2vec[val_tok2vec.text == \"\"].text_cats = dict.fromkeys(selected_tags, 0)\n",
    "val_tok2vec[\"code_cats\"] = code_cats\n",
    "val_tok2vec[val_tok2vec.code == \"\"].code_cats = dict.fromkeys(selected_tags, 0)\n"
   ]
  },
  {
   "cell_type": "code",
   "execution_count": 21,
   "metadata": {},
   "outputs": [
    {
     "name": "stdout",
     "output_type": "stream",
     "text": [
      "======= text ==========\n",
      "Roc auc for each tag:\n",
      "[('.net', 0.6421738546586514), ('android', 0.8807337192195761), ('c', 0.7965499808922081), ('c#', 0.7380627650712426), ('c++', 0.718745238765006), ('css', 0.8528525867491494), ('html', 0.792017609560249), ('ios', 0.7830064177346702), ('iphone', 0.665392220285253), ('java', 0.771801953182504), ('javascript', 0.8119293888438004), ('jquery', 0.832020834035505), ('node.js', 0.8196238383189313), ('objective-c', 0.6038419139093959), ('php', 0.8302391235253427), ('python', 0.8801803381366468)]\n",
      "Roc auc macro average: 0.776\n",
      "Jaccard score sample average: 0.533\n",
      "======= code ==========\n",
      "Roc auc for each tag:\n",
      "[('.net', 0.6002668716090207), ('android', 0.7431834972600363), ('c', 0.7388924816042166), ('c#', 0.7260139695923068), ('c++', 0.697964738350655), ('css', 0.807689796929288), ('html', 0.7150599624483918), ('ios', 0.7110989711456355), ('iphone', 0.6276259641200366), ('java', 0.7048169043203596), ('javascript', 0.7214736670564063), ('jquery', 0.675731020901444), ('node.js', 0.7605714176105575), ('objective-c', 0.6920394652924737), ('php', 0.703084495948223), ('python', 0.787992667051833)]\n",
      "Roc auc macro average: 0.713\n",
      "Jaccard score sample average: 0.411\n",
      "======= union ==========\n",
      "Roc auc for each tag:\n",
      "[('.net', 0.7323788546255506), ('android', 0.7834586466165414), ('c', 0.8101604278074866), ('c#', 0.7975551580202743), ('c++', 0.7976851851851852), ('css', 0.8723045822102427), ('html', 0.7812344449975113), ('ios', 0.7902857142857143), ('iphone', 0.7974137931034483), ('java', 0.7984674329501915), ('javascript', 0.7727272727272727), ('jquery', 0.734600262123198), ('node.js', 0.8144186046511628), ('objective-c', 0.8700873362445415), ('php', 0.75), ('python', 0.8115384615384615)]\n",
      "Roc auc macro average: 0.795\n",
      "Jaccard score sample average: 0.528\n",
      "======= intersection ==========\n",
      "Roc auc for each tag:\n",
      "[('.net', 0.9896227087939519), ('android', 0.9903022762204493), ('c', 0.9867902495985987), ('c#', 0.9809858124908586), ('c++', 0.9896694214876033), ('css', 0.9830075521990226), ('html', 0.9868765422866971), ('ios', 0.9838305709023941), ('iphone', 0.9831464686138685), ('java', 0.9845289855072464), ('javascript', 0.9770070747462319), ('jquery', 0.9892578836210036), ('node.js', 0.990357324794411), ('objective-c', 0.9802537781579698), ('php', 0.9916130431639072), ('python', 0.9910015363230669)]\n",
      "Roc auc macro average: 0.986\n",
      "Jaccard score sample average: 0.350\n"
     ]
    },
    {
     "name": "stderr",
     "output_type": "stream",
     "text": [
      "/home/aurelien/.local/lib/python3.10/site-packages/sklearn/metrics/_classification.py:1318: UndefinedMetricWarning: Jaccard is ill-defined and being set to 0.0 in samples with no true or predicted labels. Use `zero_division` parameter to control this behavior.\n",
      "  _warn_prf(average, modifier, msg_start, len(result))\n",
      "/home/aurelien/.local/lib/python3.10/site-packages/sklearn/metrics/_classification.py:1318: UndefinedMetricWarning: Jaccard is ill-defined and being set to 0.0 in samples with no true or predicted labels. Use `zero_division` parameter to control this behavior.\n",
      "  _warn_prf(average, modifier, msg_start, len(result))\n"
     ]
    }
   ],
   "source": [
    "THRESHOLD = 0.5\n",
    "y_pred_text = [[x for x in selected_tags if y[x] > THRESHOLD]\n",
    "               for y in val_tok2vec.text_cats.values]\n",
    "y_pred_code = [[x for x in selected_tags if y[x] > THRESHOLD]\n",
    "               for y in val_tok2vec.code_cats.values]\n",
    "\n",
    "y_pred_text = mlb.transform(y_pred_text)\n",
    "y_pred_code = mlb.transform(y_pred_code)\n",
    "\n",
    "evaluate_predictions(y, y_pred_text, y_pred_code, mlb, \"tok2vec\")\n"
   ]
  }
 ],
 "metadata": {
  "kernelspec": {
   "display_name": "Python 3",
   "language": "python",
   "name": "python3"
  },
  "language_info": {
   "codemirror_mode": {
    "name": "ipython",
    "version": 3
   },
   "file_extension": ".py",
   "mimetype": "text/x-python",
   "name": "python",
   "nbconvert_exporter": "python",
   "pygments_lexer": "ipython3",
   "version": "3.10.7"
  },
  "orig_nbformat": 4
 },
 "nbformat": 4,
 "nbformat_minor": 2
}
