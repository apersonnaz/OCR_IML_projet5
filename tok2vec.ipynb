{
 "cells": [
  {
   "cell_type": "code",
   "execution_count": 1,
   "metadata": {},
   "outputs": [
    {
     "name": "stdout",
     "output_type": "stream",
     "text": [
      "Defaulting to user installation because normal site-packages is not writeable\n",
      "Requirement already satisfied: torch in /home/aurelien/.local/lib/python3.10/site-packages (1.13.1)\n",
      "Requirement already satisfied: torchvision in /home/aurelien/.local/lib/python3.10/site-packages (0.14.1)\n",
      "Requirement already satisfied: torchaudio in /home/aurelien/.local/lib/python3.10/site-packages (0.13.1)\n",
      "Requirement already satisfied: nvidia-cuda-nvrtc-cu11==11.7.99 in /home/aurelien/.local/lib/python3.10/site-packages (from torch) (11.7.99)\n",
      "Requirement already satisfied: nvidia-cuda-runtime-cu11==11.7.99 in /home/aurelien/.local/lib/python3.10/site-packages (from torch) (11.7.99)\n",
      "Requirement already satisfied: nvidia-cudnn-cu11==8.5.0.96 in /home/aurelien/.local/lib/python3.10/site-packages (from torch) (8.5.0.96)\n",
      "Requirement already satisfied: typing-extensions in /home/aurelien/.local/lib/python3.10/site-packages (from torch) (4.3.0)\n",
      "Requirement already satisfied: nvidia-cublas-cu11==11.10.3.66 in /home/aurelien/.local/lib/python3.10/site-packages (from torch) (11.10.3.66)\n",
      "Requirement already satisfied: wheel in /home/aurelien/.local/lib/python3.10/site-packages (from nvidia-cublas-cu11==11.10.3.66->torch) (0.38.4)\n",
      "Requirement already satisfied: setuptools in /home/aurelien/.local/lib/python3.10/site-packages (from nvidia-cublas-cu11==11.10.3.66->torch) (67.6.0)\n",
      "Requirement already satisfied: pillow!=8.3.*,>=5.3.0 in /usr/lib/python3/dist-packages (from torchvision) (9.2.0)\n",
      "Requirement already satisfied: numpy in /home/aurelien/.local/lib/python3.10/site-packages (from torchvision) (1.24.2)\n",
      "Requirement already satisfied: requests in /usr/lib/python3/dist-packages (from torchvision) (2.27.1)\n",
      "Note: you may need to restart the kernel to use updated packages.\n",
      "Defaulting to user installation because normal site-packages is not writeable\n",
      "Requirement already satisfied: pip in /home/aurelien/.local/lib/python3.10/site-packages (23.0.1)\n",
      "Requirement already satisfied: setuptools in /home/aurelien/.local/lib/python3.10/site-packages (67.6.0)\n",
      "Requirement already satisfied: wheel in /home/aurelien/.local/lib/python3.10/site-packages (0.38.4)\n",
      "Note: you may need to restart the kernel to use updated packages.\n",
      "Defaulting to user installation because normal site-packages is not writeable\n",
      "Requirement already satisfied: spacy[cuda-autodetect] in /home/aurelien/.local/lib/python3.10/site-packages (3.5.1)\n",
      "Requirement already satisfied: murmurhash<1.1.0,>=0.28.0 in /home/aurelien/.local/lib/python3.10/site-packages (from spacy[cuda-autodetect]) (1.0.9)\n",
      "Requirement already satisfied: spacy-loggers<2.0.0,>=1.0.0 in /home/aurelien/.local/lib/python3.10/site-packages (from spacy[cuda-autodetect]) (1.0.4)\n",
      "Requirement already satisfied: spacy-legacy<3.1.0,>=3.0.11 in /home/aurelien/.local/lib/python3.10/site-packages (from spacy[cuda-autodetect]) (3.0.12)\n",
      "Requirement already satisfied: pathy>=0.10.0 in /home/aurelien/.local/lib/python3.10/site-packages (from spacy[cuda-autodetect]) (0.10.1)\n",
      "Requirement already satisfied: smart-open<7.0.0,>=5.2.1 in /home/aurelien/.local/lib/python3.10/site-packages (from spacy[cuda-autodetect]) (6.3.0)\n",
      "Requirement already satisfied: typer<0.8.0,>=0.3.0 in /home/aurelien/.local/lib/python3.10/site-packages (from spacy[cuda-autodetect]) (0.7.0)\n",
      "Requirement already satisfied: setuptools in /home/aurelien/.local/lib/python3.10/site-packages (from spacy[cuda-autodetect]) (67.6.0)\n",
      "Requirement already satisfied: langcodes<4.0.0,>=3.2.0 in /home/aurelien/.local/lib/python3.10/site-packages (from spacy[cuda-autodetect]) (3.3.0)\n",
      "Requirement already satisfied: pydantic!=1.8,!=1.8.1,<1.11.0,>=1.7.4 in /home/aurelien/.local/lib/python3.10/site-packages (from spacy[cuda-autodetect]) (1.7.4)\n",
      "Requirement already satisfied: requests<3.0.0,>=2.13.0 in /usr/lib/python3/dist-packages (from spacy[cuda-autodetect]) (2.27.1)\n",
      "Requirement already satisfied: packaging>=20.0 in /usr/lib/python3/dist-packages (from spacy[cuda-autodetect]) (21.3)\n",
      "Requirement already satisfied: preshed<3.1.0,>=3.0.2 in /home/aurelien/.local/lib/python3.10/site-packages (from spacy[cuda-autodetect]) (3.0.8)\n",
      "Requirement already satisfied: catalogue<2.1.0,>=2.0.6 in /home/aurelien/.local/lib/python3.10/site-packages (from spacy[cuda-autodetect]) (2.0.8)\n",
      "Requirement already satisfied: cymem<2.1.0,>=2.0.2 in /home/aurelien/.local/lib/python3.10/site-packages (from spacy[cuda-autodetect]) (2.0.7)\n",
      "Requirement already satisfied: tqdm<5.0.0,>=4.38.0 in /home/aurelien/.local/lib/python3.10/site-packages (from spacy[cuda-autodetect]) (4.64.1)\n",
      "Requirement already satisfied: thinc<8.2.0,>=8.1.8 in /home/aurelien/.local/lib/python3.10/site-packages (from spacy[cuda-autodetect]) (8.1.8)\n",
      "Requirement already satisfied: jinja2 in /home/aurelien/.local/lib/python3.10/site-packages (from spacy[cuda-autodetect]) (3.1.2)\n",
      "Requirement already satisfied: wasabi<1.2.0,>=0.9.1 in /home/aurelien/.local/lib/python3.10/site-packages (from spacy[cuda-autodetect]) (1.1.1)\n",
      "Requirement already satisfied: srsly<3.0.0,>=2.4.3 in /home/aurelien/.local/lib/python3.10/site-packages (from spacy[cuda-autodetect]) (2.4.6)\n",
      "Requirement already satisfied: numpy>=1.15.0 in /home/aurelien/.local/lib/python3.10/site-packages (from spacy[cuda-autodetect]) (1.24.2)\n",
      "Requirement already satisfied: cupy-wheel<12.0.0,>=11.0.0 in /home/aurelien/.local/lib/python3.10/site-packages (from spacy[cuda-autodetect]) (11.6.0)\n",
      "Requirement already satisfied: cupy-cuda11x==11.6.0 in /home/aurelien/.local/lib/python3.10/site-packages (from cupy-wheel<12.0.0,>=11.0.0->spacy[cuda-autodetect]) (11.6.0)\n",
      "Requirement already satisfied: fastrlock>=0.5 in /home/aurelien/.local/lib/python3.10/site-packages (from cupy-cuda11x==11.6.0->cupy-wheel<12.0.0,>=11.0.0->spacy[cuda-autodetect]) (0.8.1)\n",
      "Requirement already satisfied: confection<1.0.0,>=0.0.1 in /home/aurelien/.local/lib/python3.10/site-packages (from thinc<8.2.0,>=8.1.8->spacy[cuda-autodetect]) (0.0.4)\n",
      "Requirement already satisfied: blis<0.8.0,>=0.7.8 in /home/aurelien/.local/lib/python3.10/site-packages (from thinc<8.2.0,>=8.1.8->spacy[cuda-autodetect]) (0.7.9)\n",
      "Requirement already satisfied: click<9.0.0,>=7.1.1 in /home/aurelien/.local/lib/python3.10/site-packages (from typer<0.8.0,>=0.3.0->spacy[cuda-autodetect]) (7.1.2)\n",
      "Requirement already satisfied: MarkupSafe>=2.0 in /home/aurelien/.local/lib/python3.10/site-packages (from jinja2->spacy[cuda-autodetect]) (2.1.1)\n",
      "Note: you may need to restart the kernel to use updated packages.\n",
      "2023-03-13 16:40:37.941832: I tensorflow/core/platform/cpu_feature_guard.cc:193] This TensorFlow binary is optimized with oneAPI Deep Neural Network Library (oneDNN) to use the following CPU instructions in performance-critical operations:  AVX2 FMA\n",
      "To enable them in other operations, rebuild TensorFlow with the appropriate compiler flags.\n",
      "^C\n",
      "Traceback (most recent call last):\n",
      "  File \"/usr/lib/python3.10/runpy.py\", line 187, in _run_module_as_main\n",
      "    mod_name, mod_spec, code = _get_module_details(mod_name, _Error)\n",
      "  File \"/usr/lib/python3.10/runpy.py\", line 146, in _get_module_details\n",
      "    return _get_module_details(pkg_main_name, error)\n",
      "  File \"/usr/lib/python3.10/runpy.py\", line 110, in _get_module_details\n",
      "    __import__(pkg_name)\n",
      "  File \"/home/aurelien/.local/lib/python3.10/site-packages/spacy/__init__.py\", line 6, in <module>\n",
      "    from .errors import setup_default_warnings\n",
      "  File \"/home/aurelien/.local/lib/python3.10/site-packages/spacy/errors.py\", line 2, in <module>\n",
      "    from .compat import Literal\n",
      "  File \"/home/aurelien/.local/lib/python3.10/site-packages/spacy/compat.py\", line 3, in <module>\n",
      "    from thinc.util import copy_array\n",
      "  File \"/home/aurelien/.local/lib/python3.10/site-packages/thinc/__init__.py\", line 5, in <module>\n",
      "    from .config import registry\n",
      "  File \"/home/aurelien/.local/lib/python3.10/site-packages/thinc/config.py\", line 4, in <module>\n",
      "    from .types import Decorator\n",
      "  File \"/home/aurelien/.local/lib/python3.10/site-packages/thinc/types.py\", line 8, in <module>\n",
      "    from .compat import has_cupy, cupy\n",
      "  File \"/home/aurelien/.local/lib/python3.10/site-packages/thinc/compat.py\", line 56, in <module>\n",
      "    import tensorflow.experimental.dlpack\n",
      "  File \"/home/aurelien/.local/lib/python3.10/site-packages/tensorflow/__init__.py\", line 37, in <module>\n",
      "    from tensorflow.python.tools import module_util as _module_util\n",
      "  File \"/home/aurelien/.local/lib/python3.10/site-packages/tensorflow/python/__init__.py\", line 45, in <module>\n",
      "    from tensorflow.python.feature_column import feature_column_lib as feature_column\n",
      "  File \"/home/aurelien/.local/lib/python3.10/site-packages/tensorflow/python/feature_column/feature_column_lib.py\", line 18, in <module>\n",
      "    from tensorflow.python.feature_column.feature_column import *\n",
      "  File \"/home/aurelien/.local/lib/python3.10/site-packages/tensorflow/python/feature_column/feature_column.py\", line 143, in <module>\n",
      "    from tensorflow.python.layers import base\n",
      "  File \"/home/aurelien/.local/lib/python3.10/site-packages/tensorflow/python/layers/base.py\", line 16, in <module>\n",
      "    from tensorflow.python.keras.legacy_tf_layers import base\n",
      "  File \"/home/aurelien/.local/lib/python3.10/site-packages/tensorflow/python/keras/__init__.py\", line 25, in <module>\n",
      "    from tensorflow.python.keras import models\n",
      "  File \"/home/aurelien/.local/lib/python3.10/site-packages/tensorflow/python/keras/models.py\", line 20, in <module>\n",
      "    from tensorflow.python.keras import metrics as metrics_module\n",
      "  File \"/home/aurelien/.local/lib/python3.10/site-packages/tensorflow/python/keras/metrics.py\", line 34, in <module>\n",
      "    from tensorflow.python.keras import activations\n",
      "  File \"/home/aurelien/.local/lib/python3.10/site-packages/tensorflow/python/keras/activations.py\", line 18, in <module>\n",
      "    from tensorflow.python.keras.layers import advanced_activations\n",
      "  File \"/home/aurelien/.local/lib/python3.10/site-packages/tensorflow/python/keras/layers/__init__.py\", line 68, in <module>\n",
      "    from tensorflow.python.keras.layers.core import Masking\n",
      "  File \"/home/aurelien/.local/lib/python3.10/site-packages/tensorflow/python/keras/layers/core.py\", line 54, in <module>\n",
      "    from tensorflow.python.ops import standard_ops\n",
      "  File \"/home/aurelien/.local/lib/python3.10/site-packages/tensorflow/python/ops/standard_ops.py\", line 75, in <module>\n",
      "    from tensorflow.python.ops.ragged import ragged_dispatch as _ragged_dispatch\n",
      "  File \"<frozen importlib._bootstrap>\", line 224, in _lock_unlock_module\n",
      "  File \"<frozen importlib._bootstrap>\", line 106, in acquire\n",
      "KeyboardInterrupt\n",
      "Defaulting to user installation because normal site-packages is not writeable\n",
      "Requirement already satisfied: tqdm in /home/aurelien/.local/lib/python3.10/site-packages (4.64.1)\n",
      "Note: you may need to restart the kernel to use updated packages.\n"
     ]
    }
   ],
   "source": [
    "%pip install torch torchvision torchaudio\n",
    "%pip install -U pip setuptools wheel\n",
    "%pip install -U 'spacy[cuda-autodetect]'\n",
    "!python3 -m spacy download en_core_web_lg -qq\n",
    "%pip install tqdm"
   ]
  },
  {
   "cell_type": "code",
   "execution_count": null,
   "metadata": {},
   "outputs": [
    {
     "name": "stdout",
     "output_type": "stream",
     "text": [
      "2023-03-09 10:46:31.438359: I tensorflow/core/platform/cpu_feature_guard.cc:193] This TensorFlow binary is optimized with oneAPI Deep Neural Network Library (oneDNN) to use the following CPU instructions in performance-critical operations:  AVX2 FMA\n",
      "To enable them in other operations, rebuild TensorFlow with the appropriate compiler flags.\n",
      "2023-03-09 10:46:32.133322: W tensorflow/compiler/xla/stream_executor/platform/default/dso_loader.cc:64] Could not load dynamic library 'libnvinfer.so.7'; dlerror: libnvinfer.so.7: cannot open shared object file: No such file or directory\n",
      "2023-03-09 10:46:32.133391: W tensorflow/compiler/xla/stream_executor/platform/default/dso_loader.cc:64] Could not load dynamic library 'libnvinfer_plugin.so.7'; dlerror: libnvinfer_plugin.so.7: cannot open shared object file: No such file or directory\n",
      "2023-03-09 10:46:32.133402: W tensorflow/compiler/tf2tensorrt/utils/py_utils.cc:38] TF-TRT Warning: Cannot dlopen some TensorRT libraries. If you would like to use Nvidia GPU with TensorRT, please make sure the missing libraries mentioned above are installed properly.\n",
      "2023-03-09 10:46:32.825240: I tensorflow/compiler/xla/stream_executor/cuda/cuda_gpu_executor.cc:981] successful NUMA node read from SysFS had negative value (-1), but there must be at least one NUMA node, so returning NUMA node zero\n",
      "2023-03-09 10:46:32.825606: I tensorflow/compiler/xla/stream_executor/cuda/cuda_gpu_executor.cc:981] successful NUMA node read from SysFS had negative value (-1), but there must be at least one NUMA node, so returning NUMA node zero\n",
      "2023-03-09 10:46:32.825762: I tensorflow/compiler/xla/stream_executor/cuda/cuda_gpu_executor.cc:981] successful NUMA node read from SysFS had negative value (-1), but there must be at least one NUMA node, so returning NUMA node zero\n",
      "\u001b[38;5;2m✔ Download and installation successful\u001b[0m\n",
      "You can now load the package via spacy.load('en_core_web_lg')\n"
     ]
    }
   ],
   "source": [
    "!python3 -m spacy download en_core_web_lg -qq"
   ]
  },
  {
   "cell_type": "code",
   "execution_count": 3,
   "metadata": {},
   "outputs": [],
   "source": [
    "import pandas as pd\n",
    "sample_train = pd.read_csv(\n",
    "    './train.csv', converters={'tag_set': eval, 'tag_list': eval})\n",
    "sample_test = pd.read_csv(\n",
    "    './test.csv', converters={'tag_set': eval, 'tag_list': eval})\n",
    "sample_validation = pd.read_csv(\n",
    "    './validation.csv', converters={'tag_set': eval, 'tag_list': eval})\n"
   ]
  },
  {
   "cell_type": "code",
   "execution_count": 4,
   "metadata": {},
   "outputs": [],
   "source": [
    "import json\n",
    "with open('selected_tags.json', 'r') as openfile:\n",
    "    selected_tags = json.load(openfile)\n"
   ]
  },
  {
   "cell_type": "code",
   "execution_count": 13,
   "metadata": {},
   "outputs": [],
   "source": [
    "from sklearn.model_selection import train_test_split\n",
    "import spacy\n",
    "from tqdm.notebook import tqdm\n",
    "import numpy as np\n",
    "from thinc.api import set_gpu_allocator, require_gpu\n",
    "set_gpu_allocator(\"pytorch\")\n",
    "require_gpu(0)\n",
    "nlp = spacy.load('en_core_web_lg')\n",
    "\n",
    "def preprocess(texts):\n",
    "    removal = ['ADV', 'PRON', 'CCONJ', 'PUNCT',\n",
    "               'PART', 'DET', 'ADP', 'SPACE', 'NUM', 'SYM']\n",
    "    tokens = []\n",
    "    cleaned_texts = []\n",
    "    print(\"preprocessing\")\n",
    "    for summary in tqdm(nlp.pipe(texts, disable=[\"tok2vec\"]), total=len(texts)):\n",
    "        question_tokens = []\n",
    "        for token in summary:\n",
    "            if token.pos_ not in removal and not token.is_stop and token.is_alpha:\n",
    "                question_tokens.append(token.lemma_)\n",
    "        cleaned_texts.append(\" \".join(question_tokens))\n",
    "    # question_tokens = [token.lemma_ for token in summary if token.pos_ not in removal and not token.is_stop and token.is_alpha]\n",
    "    return cleaned_texts\n",
    "\n",
    "def convert(data, outfile):\n",
    "    db = spacy.tokens.DocBin()\n",
    "    docs = []\n",
    "    print(\"converting\")\n",
    "    for doc, labels in tqdm(nlp.pipe(data.values, as_tuples=True), total=len(data)):\n",
    "        for tag in selected_tags:\n",
    "            doc.cats[tag] = tag in labels\n",
    "        db.add(doc)\n",
    "\n",
    "    db.to_disk(outfile)\n",
    "\n"
   ]
  },
  {
   "cell_type": "code",
   "execution_count": 8,
   "metadata": {},
   "outputs": [
    {
     "name": "stdout",
     "output_type": "stream",
     "text": [
      "preprocessing\n"
     ]
    },
    {
     "data": {
      "application/vnd.jupyter.widget-view+json": {
       "model_id": "a295506e80ce4ed8b493c49bddf3338b",
       "version_major": 2,
       "version_minor": 0
      },
      "text/plain": [
       "  0%|          | 0/105710 [00:00<?, ?it/s]"
      ]
     },
     "metadata": {},
     "output_type": "display_data"
    },
    {
     "name": "stdout",
     "output_type": "stream",
     "text": [
      "converting\n"
     ]
    },
    {
     "data": {
      "application/vnd.jupyter.widget-view+json": {
       "model_id": "99fa898e1a6f48ac94f085c605843192",
       "version_major": 2,
       "version_minor": 0
      },
      "text/plain": [
       "  0%|          | 0/105710 [00:00<?, ?it/s]"
      ]
     },
     "metadata": {},
     "output_type": "display_data"
    },
    {
     "name": "stdout",
     "output_type": "stream",
     "text": [
      "preprocessing\n"
     ]
    },
    {
     "data": {
      "application/vnd.jupyter.widget-view+json": {
       "model_id": "b3e2b7bbde214b0d84e7d63f909af696",
       "version_major": 2,
       "version_minor": 0
      },
      "text/plain": [
       "  0%|          | 0/21648 [00:00<?, ?it/s]"
      ]
     },
     "metadata": {},
     "output_type": "display_data"
    },
    {
     "name": "stdout",
     "output_type": "stream",
     "text": [
      "converting\n"
     ]
    },
    {
     "data": {
      "application/vnd.jupyter.widget-view+json": {
       "model_id": "d12f04560bcd48bbbac883802f511790",
       "version_major": 2,
       "version_minor": 0
      },
      "text/plain": [
       "  0%|          | 0/21648 [00:00<?, ?it/s]"
      ]
     },
     "metadata": {},
     "output_type": "display_data"
    },
    {
     "name": "stdout",
     "output_type": "stream",
     "text": [
      "preprocessing\n"
     ]
    },
    {
     "data": {
      "application/vnd.jupyter.widget-view+json": {
       "model_id": "62a52c4d293246adbdab76bca01ec32c",
       "version_major": 2,
       "version_minor": 0
      },
      "text/plain": [
       "  0%|          | 0/14149 [00:00<?, ?it/s]"
      ]
     },
     "metadata": {},
     "output_type": "display_data"
    },
    {
     "name": "stdout",
     "output_type": "stream",
     "text": [
      "converting\n"
     ]
    },
    {
     "data": {
      "application/vnd.jupyter.widget-view+json": {
       "model_id": "701fb05df8924c9b9df79901ceb693f4",
       "version_major": 2,
       "version_minor": 0
      },
      "text/plain": [
       "  0%|          | 0/14149 [00:00<?, ?it/s]"
      ]
     },
     "metadata": {},
     "output_type": "display_data"
    }
   ],
   "source": [
    "train_df = sample_train[~sample_train.text.isna()].loc[:]\n",
    "train_df[\"text_processed\"] = preprocess(train_df.text)\n",
    "convert(train_df.loc[:, [\"text_processed\", \"tag_list\"]],\n",
    "        'text_train_bow.spacy')\n",
    "test_df = sample_test[~sample_test.text.isna()].loc[:]\n",
    "test_df[\"text_processed\"] = preprocess(test_df.text)\n",
    "convert(test_df.loc[:, [\"text_processed\", \"tag_list\"]], 'text_test_bow.spacy')\n",
    "validation_df = sample_validation[~sample_validation.text.isna()].loc[:]\n",
    "validation_df[\"text_processed\"] = preprocess(\n",
    "    validation_df.text)\n",
    "convert(validation_df.loc[:, [\"text_processed\", \"tag_list\"]],\n",
    "        'text_validation_bow.spacy')\n"
   ]
  },
  {
   "cell_type": "code",
   "execution_count": 15,
   "metadata": {},
   "outputs": [],
   "source": [
    "import torch\n",
    "import gc\n",
    "del nlp\n",
    "gc.collect()\n",
    "torch.cuda.empty_cache()\n"
   ]
  },
  {
   "cell_type": "code",
   "execution_count": 1,
   "metadata": {},
   "outputs": [
    {
     "name": "stdout",
     "output_type": "stream",
     "text": [
      "2023-03-17 12:20:20.144707: I tensorflow/core/platform/cpu_feature_guard.cc:193] This TensorFlow binary is optimized with oneAPI Deep Neural Network Library (oneDNN) to use the following CPU instructions in performance-critical operations:  AVX2 FMA\n",
      "To enable them in other operations, rebuild TensorFlow with the appropriate compiler flags.\n",
      "2023-03-17 12:20:21.668324: I tensorflow/compiler/xla/stream_executor/cuda/cuda_gpu_executor.cc:981] successful NUMA node read from SysFS had negative value (-1), but there must be at least one NUMA node, so returning NUMA node zero\n",
      "2023-03-17 12:20:21.671812: I tensorflow/compiler/xla/stream_executor/cuda/cuda_gpu_executor.cc:981] successful NUMA node read from SysFS had negative value (-1), but there must be at least one NUMA node, so returning NUMA node zero\n",
      "2023-03-17 12:20:21.671976: I tensorflow/compiler/xla/stream_executor/cuda/cuda_gpu_executor.cc:981] successful NUMA node read from SysFS had negative value (-1), but there must be at least one NUMA node, so returning NUMA node zero\n",
      "\u001b[38;5;4mℹ Saving to output directory: output_tok2vec\u001b[0m\n",
      "\u001b[38;5;4mℹ Using GPU: 0\u001b[0m\n",
      "\u001b[1m\n",
      "=========================== Initializing pipeline ===========================\u001b[0m\n",
      "[2023-03-17 12:20:26,230] [INFO] Set up nlp object from config\n",
      "[2023-03-17 12:20:26,836] [INFO] Pipeline: ['textcat_multilabel']\n",
      "[2023-03-17 12:20:26,840] [INFO] Created vocabulary\n",
      "[2023-03-17 12:20:29,539] [INFO] Added vectors: en_core_web_lg\n",
      "[2023-03-17 12:20:31,331] [INFO] Finished initializing nlp object\n",
      "[2023-03-17 12:21:16,823] [INFO] Initialized pipeline components: ['textcat_multilabel']\n",
      "\u001b[38;5;2m✔ Initialized pipeline\u001b[0m\n",
      "\u001b[1m\n",
      "============================= Training pipeline =============================\u001b[0m\n",
      "\u001b[38;5;4mℹ Pipeline: ['textcat_multilabel']\u001b[0m\n",
      "\u001b[38;5;4mℹ Initial learn rate: 0.001\u001b[0m\n",
      "\u001b[34m\u001b[1mwandb\u001b[0m: Currently logged in as: \u001b[33mapersonnaz\u001b[0m. Use \u001b[1m`wandb login --relogin`\u001b[0m to force relogin\n",
      "\u001b[34m\u001b[1mwandb\u001b[0m: Tracking run with wandb version 0.14.0\n",
      "\u001b[34m\u001b[1mwandb\u001b[0m: Run data is saved locally in \u001b[35m\u001b[1m/home/aurelien/Documents/ocr/OCR_IML_projet5/wandb/run-20230317_122118-r70w9wfk\u001b[0m\n",
      "\u001b[34m\u001b[1mwandb\u001b[0m: Run \u001b[1m`wandb offline`\u001b[0m to turn off syncing.\n",
      "\u001b[34m\u001b[1mwandb\u001b[0m: Syncing run \u001b[33mfearless-pond-41\u001b[0m\n",
      "\u001b[34m\u001b[1mwandb\u001b[0m: ⭐️ View project at \u001b[34m\u001b[4mhttps://wandb.ai/apersonnaz/my_spacy_project\u001b[0m\n",
      "\u001b[34m\u001b[1mwandb\u001b[0m: 🚀 View run at \u001b[34m\u001b[4mhttps://wandb.ai/apersonnaz/my_spacy_project/runs/r70w9wfk\u001b[0m\n",
      "E    #       LOSS TEXTC...  CATS_SCORE  SCORE \n",
      "---  ------  -------------  ----------  ------\n",
      "  0       0           0.32       48.97    0.49\n",
      "  0     200          18.07       57.48    0.57\n",
      "  0     400          18.30       63.25    0.63\n",
      "  0     600          16.82       69.07    0.69\n",
      "  0     800          16.68       75.60    0.76\n",
      "  0    1000          15.24       80.69    0.81\n",
      "\u001b[34m\u001b[1mwandb\u001b[0m: Adding directory to artifact (./output_tok2vec/model-last)... Done. 77.1s\n",
      "  0    1200          14.59       82.89    0.83\n",
      "  0    1400          14.07       85.01    0.85\n",
      "  0    1600          13.50       86.39    0.86\n",
      "  0    1800          12.69       87.63    0.88\n",
      "  0    2000          12.69       88.68    0.89\n",
      "\u001b[34m\u001b[1mwandb\u001b[0m: Adding directory to artifact (./output_tok2vec/model-last)... Done. 70.2s\n",
      "  0    2200          12.32       89.43    0.89\n",
      "  0    2400          11.57       90.33    0.90\n",
      "  0    2600          11.42       90.74    0.91\n",
      "  0    2800          11.22       90.90    0.91\n",
      "  0    3000          11.03       91.39    0.91\n",
      "\u001b[34m\u001b[1mwandb\u001b[0m: Adding directory to artifact (./output_tok2vec/model-last)... Done. 72.7s\n",
      "  0    3200          10.70       91.59    0.92\n",
      "  0    3400          10.80       91.79    0.92\n",
      "  0    3600          10.73       92.02    0.92\n",
      "  0    3800          10.35       92.03    0.92\n",
      "  0    4000          10.41       91.88    0.92\n",
      "\u001b[34m\u001b[1mwandb\u001b[0m: Adding directory to artifact (./output_tok2vec/model-last)... Done. 87.8s\n",
      "  0    4200          10.23       92.37    0.92\n",
      "  0    4400          10.30       92.29    0.92\n",
      "  0    4600          10.03       92.43    0.92\n",
      "  0    4800           9.99       92.46    0.92\n",
      "  0    5000          10.15       92.48    0.92\n",
      "\u001b[34m\u001b[1mwandb\u001b[0m: Adding directory to artifact (./output_tok2vec/model-last)... Done. 66.8s\n",
      "  0    5200           9.74       92.70    0.93\n",
      "  0    5400           9.84       92.90    0.93\n",
      "  0    5600           9.88       92.84    0.93\n",
      "  0    5800           9.70       92.92    0.93\n",
      "  0    6000           9.72       92.92    0.93\n",
      "\u001b[34m\u001b[1mwandb\u001b[0m: Adding directory to artifact (./output_tok2vec/model-last)... Done. 58.3s\n",
      "  0    6200           9.83       93.06    0.93\n",
      "  0    6400           9.72       93.15    0.93\n",
      "  1    6600           9.78       93.23    0.93\n",
      "  1    6800           8.95       93.05    0.93\n",
      "  1    7000           9.25       93.19    0.93\n",
      "\u001b[34m\u001b[1mwandb\u001b[0m: Adding directory to artifact (./output_tok2vec/model-last)... Done. 45.5s\n",
      "  1    7200           9.15       93.29    0.93\n",
      "  1    7400           9.13       93.46    0.93\n",
      "  1    7600           9.22       93.30    0.93\n",
      "  1    7800           9.15       93.34    0.93\n",
      "  1    8000           9.14       93.48    0.93\n",
      "\u001b[34m\u001b[1mwandb\u001b[0m: Adding directory to artifact (./output_tok2vec/model-last)... Done. 34.0s\n",
      "  1    8200           9.09       93.28    0.93\n",
      "  1    8400           9.36       93.43    0.93\n",
      "  1    8600           8.83       93.63    0.94\n",
      "  1    8800           9.12       93.65    0.94\n",
      "  1    9000           9.29       93.59    0.94\n",
      "\u001b[34m\u001b[1mwandb\u001b[0m: Adding directory to artifact (./output_tok2vec/model-last)... Done. 8.0s\n",
      "  1    9200           9.21       93.49    0.93\n",
      "  1    9400           9.34       93.52    0.94\n",
      "  1    9600           9.14       93.68    0.94\n",
      "  1    9800           8.98       93.62    0.94\n",
      "  1   10000           9.26       93.60    0.94\n",
      "\u001b[34m\u001b[1mwandb\u001b[0m: Adding directory to artifact (./output_tok2vec/model-last)... Done. 5.8s\n",
      "  1   10200           9.18       93.80    0.94\n",
      "  1   10400           8.98       93.63    0.94\n",
      "  1   10600           9.00       93.80    0.94\n",
      "  1   10800           9.01       93.81    0.94\n",
      "  1   11000           9.11       93.64    0.94\n",
      "\u001b[34m\u001b[1mwandb\u001b[0m: Adding directory to artifact (./output_tok2vec/model-last)... Done. 3.9s\n",
      "  1   11200           8.86       93.76    0.94\n",
      "  1   11400           8.80       93.93    0.94\n",
      "  1   11600           8.95       93.85    0.94\n",
      "  2   11800           8.96       93.77    0.94\n",
      "  2   12000           8.38       93.99    0.94\n",
      "\u001b[34m\u001b[1mwandb\u001b[0m: Adding directory to artifact (./output_tok2vec/model-last)... Done. 3.8s\n",
      "  2   12200           8.64       93.91    0.94\n",
      "  2   12400           8.44       93.80    0.94\n",
      "  2   12600           8.64       93.79    0.94\n",
      "  2   12800           8.57       93.90    0.94\n",
      "  2   13000           8.49       93.86    0.94\n",
      "\u001b[34m\u001b[1mwandb\u001b[0m: Adding directory to artifact (./output_tok2vec/model-last)... Done. 4.5s\n",
      "  2   13200           8.91       94.01    0.94\n",
      "  2   13400           8.55       93.87    0.94\n",
      "  2   13600           8.60       93.94    0.94\n",
      "  2   13800           8.64       93.92    0.94\n",
      "  2   14000           8.68       94.07    0.94\n",
      "\u001b[34m\u001b[1mwandb\u001b[0m: Adding directory to artifact (./output_tok2vec/model-last)... Done. 3.9s\n",
      "  2   14200           8.65       94.12    0.94\n",
      "  2   14400           8.58       93.98    0.94\n",
      "  2   14600           8.54       93.94    0.94\n",
      "  2   14800           9.02       93.97    0.94\n",
      "  2   15000           8.63       94.08    0.94\n",
      "\u001b[34m\u001b[1mwandb\u001b[0m: Adding directory to artifact (./output_tok2vec/model-last)... Done. 3.6s\n",
      "  2   15200           8.63       93.98    0.94\n",
      "  2   15400           8.85       94.09    0.94\n",
      "  2   15600           8.48       94.19    0.94\n",
      "  2   15800           8.56       94.10    0.94\n",
      "  2   16000           8.56       94.23    0.94\n",
      "\u001b[34m\u001b[1mwandb\u001b[0m: Adding directory to artifact (./output_tok2vec/model-last)... Done. 3.9s\n",
      "  2   16200           8.47       94.11    0.94\n",
      "  2   16400           8.55       94.14    0.94\n",
      "  2   16600           8.64       94.31    0.94\n",
      "  2   16800           8.71       94.20    0.94\n",
      "  3   17000           8.09       94.25    0.94\n",
      "\u001b[34m\u001b[1mwandb\u001b[0m: Adding directory to artifact (./output_tok2vec/model-last)... Done. 3.5s\n",
      "  3   17200           8.06       94.10    0.94\n",
      "  3   17400           8.15       94.21    0.94\n",
      "  3   17600           7.89       94.22    0.94\n",
      "  3   17800           7.93       94.24    0.94\n",
      "  3   18000           8.34       94.21    0.94\n",
      "\u001b[34m\u001b[1mwandb\u001b[0m: Adding directory to artifact (./output_tok2vec/model-last)... Done. 3.6s\n",
      "  3   18200           7.93       94.18    0.94\n",
      "\u001b[34m\u001b[1mwandb\u001b[0m: Waiting for W&B process to finish... \u001b[32m(success).\u001b[0m\n",
      "\u001b[34m\u001b[1mwandb\u001b[0m: \n",
      "\u001b[34m\u001b[1mwandb\u001b[0m: Run history:\n",
      "\u001b[34m\u001b[1mwandb\u001b[0m:          cats_macro_auc ▁▃▅▇▇▇▇█████████████████████████████████\n",
      "\u001b[34m\u001b[1mwandb\u001b[0m:            cats_macro_f ▂▁▂▄▅▆▇▇▇▇▇▇▇███████▇███████████████████\n",
      "\u001b[34m\u001b[1mwandb\u001b[0m:            cats_macro_p ▁▃▆▇▇▇▇▇██████▇█▇███████████████████████\n",
      "\u001b[34m\u001b[1mwandb\u001b[0m:            cats_macro_r ▄▁▁▃▅▅▆▇▆▇▇▇▇█▇██▇█▇▇██▇▇███████▇█▇▇████\n",
      "\u001b[34m\u001b[1mwandb\u001b[0m:            cats_micro_f ▂▁▂▄▆▆▇▇▇▇▇▇▇███████████████████████████\n",
      "\u001b[34m\u001b[1mwandb\u001b[0m:            cats_micro_p ▁▄▇▇▇▇▇▇▇████▇▇▇▇█▇██▇██████████████████\n",
      "\u001b[34m\u001b[1mwandb\u001b[0m:            cats_micro_r ▄▁▁▃▅▅▆▇▇▇▇▇▇█▇██▇█▇▇██▇▇███████▇█▇▇████\n",
      "\u001b[34m\u001b[1mwandb\u001b[0m:              cats_score ▁▃▅▇▇▇▇█████████████████████████████████\n",
      "\u001b[34m\u001b[1mwandb\u001b[0m: loss_textcat_multilabel ▁█▇▆▆▆▅▅▅▅▅▅▅▅▅▄▄▄▅▄▄▄▄▄▄▄▄▄▄▄▄▄▄▄▄▄▄▄▄▄\n",
      "\u001b[34m\u001b[1mwandb\u001b[0m:                   score ▁▃▅▇▇▇▇█████████████████████████████████\n",
      "\u001b[34m\u001b[1mwandb\u001b[0m:                   speed ▄▃▇▇▇▇▇▁▇▆▇▆▆▆▇▆▇█▆▇▁█▇█▇█▇█▇▇▇█▁▇▇██▇█▁\n",
      "\u001b[34m\u001b[1mwandb\u001b[0m:               token_acc ▁▁▁▁▁▁▁▁▁▁▁▁▁▁▁▁▁▁▁▁▁▁▁▁▁▁▁▁▁▁▁▁▁▁▁▁▁▁▁▁\n",
      "\u001b[34m\u001b[1mwandb\u001b[0m:                 token_f ▁▁▁▁▁▁▁▁▁▁▁▁▁▁▁▁▁▁▁▁▁▁▁▁▁▁▁▁▁▁▁▁▁▁▁▁▁▁▁▁\n",
      "\u001b[34m\u001b[1mwandb\u001b[0m:                 token_p ▁▁▁▁▁▁▁▁▁▁▁▁▁▁▁▁▁▁▁▁▁▁▁▁▁▁▁▁▁▁▁▁▁▁▁▁▁▁▁▁\n",
      "\u001b[34m\u001b[1mwandb\u001b[0m:                 token_r ▁▁▁▁▁▁▁▁▁▁▁▁▁▁▁▁▁▁▁▁▁▁▁▁▁▁▁▁▁▁▁▁▁▁▁▁▁▁▁▁\n",
      "\u001b[34m\u001b[1mwandb\u001b[0m: \n",
      "\u001b[34m\u001b[1mwandb\u001b[0m: Run summary:\n",
      "\u001b[34m\u001b[1mwandb\u001b[0m:          cats_macro_auc 0.94185\n",
      "\u001b[34m\u001b[1mwandb\u001b[0m:            cats_macro_f 0.65763\n",
      "\u001b[34m\u001b[1mwandb\u001b[0m:            cats_macro_p 0.76584\n",
      "\u001b[34m\u001b[1mwandb\u001b[0m:            cats_macro_r 0.58133\n",
      "\u001b[34m\u001b[1mwandb\u001b[0m:            cats_micro_f 0.65988\n",
      "\u001b[34m\u001b[1mwandb\u001b[0m:            cats_micro_p 0.76398\n",
      "\u001b[34m\u001b[1mwandb\u001b[0m:            cats_micro_r 0.58074\n",
      "\u001b[34m\u001b[1mwandb\u001b[0m:              cats_score 0.94185\n",
      "\u001b[34m\u001b[1mwandb\u001b[0m:         cats_score_desc macro AUC\n",
      "\u001b[34m\u001b[1mwandb\u001b[0m: loss_textcat_multilabel 7.93265\n",
      "\u001b[34m\u001b[1mwandb\u001b[0m:                   score 0.94185\n",
      "\u001b[34m\u001b[1mwandb\u001b[0m:                   speed 94456.27158\n",
      "\u001b[34m\u001b[1mwandb\u001b[0m:               token_acc 1.0\n",
      "\u001b[34m\u001b[1mwandb\u001b[0m:                 token_f 1.0\n",
      "\u001b[34m\u001b[1mwandb\u001b[0m:                 token_p 1.0\n",
      "\u001b[34m\u001b[1mwandb\u001b[0m:                 token_r 1.0\n",
      "\u001b[34m\u001b[1mwandb\u001b[0m: \n",
      "\u001b[34m\u001b[1mwandb\u001b[0m: 🚀 View run \u001b[33mfearless-pond-41\u001b[0m at: \u001b[34m\u001b[4mhttps://wandb.ai/apersonnaz/my_spacy_project/runs/r70w9wfk\u001b[0m\n",
      "\u001b[34m\u001b[1mwandb\u001b[0m: Synced 5 W&B file(s), 0 media file(s), 180 artifact file(s) and 0 other file(s)\n",
      "\u001b[34m\u001b[1mwandb\u001b[0m: Find logs at: \u001b[35m\u001b[1m./wandb/run-20230317_122118-r70w9wfk/logs\u001b[0m\n",
      "\u001b[38;5;2m✔ Saved pipeline to output directory\u001b[0m\n",
      "output_tok2vec/model-last\n"
     ]
    }
   ],
   "source": [
    "!python3 -m spacy train config_tok2vec.cfg --output ./output_tok2vec --paths.train ./text_train_bow.spacy --paths.dev ./text_test_bow.spacy --gpu-id 0"
   ]
  },
  {
   "cell_type": "code",
   "execution_count": 13,
   "metadata": {},
   "outputs": [
    {
     "name": "stdout",
     "output_type": "stream",
     "text": [
      "2023-03-13 18:54:16.642354: I tensorflow/core/platform/cpu_feature_guard.cc:193] This TensorFlow binary is optimized with oneAPI Deep Neural Network Library (oneDNN) to use the following CPU instructions in performance-critical operations:  AVX2 FMA\n",
      "To enable them in other operations, rebuild TensorFlow with the appropriate compiler flags.\n",
      "2023-03-13 18:54:19.589942: I tensorflow/compiler/xla/stream_executor/cuda/cuda_gpu_executor.cc:981] successful NUMA node read from SysFS had negative value (-1), but there must be at least one NUMA node, so returning NUMA node zero\n",
      "2023-03-13 18:54:19.590303: I tensorflow/compiler/xla/stream_executor/cuda/cuda_gpu_executor.cc:981] successful NUMA node read from SysFS had negative value (-1), but there must be at least one NUMA node, so returning NUMA node zero\n",
      "2023-03-13 18:54:19.590453: I tensorflow/compiler/xla/stream_executor/cuda/cuda_gpu_executor.cc:981] successful NUMA node read from SysFS had negative value (-1), but there must be at least one NUMA node, so returning NUMA node zero\n",
      "\u001b[38;5;4mℹ Using CPU\u001b[0m\n",
      "\u001b[38;5;4mℹ To switch to GPU 0, use the option: --gpu-id 0\u001b[0m\n",
      "\u001b[1m\n",
      "================================== Results ==================================\u001b[0m\n",
      "\n",
      "TOK                   100.00\n",
      "TEXTCAT (macro AUC)   92.96 \n",
      "SPEED                 443029\n",
      "\n",
      "\u001b[1m\n",
      "=========================== Textcat F (per label) ===========================\u001b[0m\n",
      "\n",
      "                  P       R       F\n",
      "php           90.27   59.70   71.87\n",
      "jquery        82.94   57.59   67.98\n",
      "iphone        67.63   34.09   45.33\n",
      "android       91.02   66.64   76.95\n",
      "css           85.23   69.15   76.35\n",
      "node.js       83.97   56.31   67.41\n",
      "python        94.53   65.13   77.12\n",
      "html          69.64   49.97   58.19\n",
      "c             80.58   49.47   61.30\n",
      "c++           73.29   41.90   53.31\n",
      "objective-c   62.12   30.98   41.34\n",
      "java          85.31   45.93   59.71\n",
      "c#            75.47   48.58   59.11\n",
      "ios           77.87   61.42   68.68\n",
      "javascript    73.74   52.73   61.49\n",
      ".net          60.54   31.70   41.61\n",
      "\n",
      "\u001b[1m\n",
      "======================== Textcat ROC AUC (per label) ========================\u001b[0m\n",
      "\n",
      "              ROC AUC\n",
      "php              0.96\n",
      "jquery           0.94\n",
      "iphone           0.90\n",
      "android          0.96\n",
      "css              0.97\n",
      "node.js          0.94\n",
      "python           0.96\n",
      "html             0.92\n",
      "c                0.94\n",
      "c++              0.91\n",
      "objective-c      0.91\n",
      "java             0.91\n",
      "c#               0.92\n",
      "ios              0.95\n",
      "javascript       0.91\n",
      ".net             0.89\n",
      "\n"
     ]
    }
   ],
   "source": [
    "!python3 -m spacy evaluate ./output_tok2vec/model-best/ ./text_validation_bow.spacy"
   ]
  },
  {
   "cell_type": "code",
   "execution_count": null,
   "metadata": {},
   "outputs": [
    {
     "name": "stdout",
     "output_type": "stream",
     "text": [
      "preprocessing\n"
     ]
    },
    {
     "data": {
      "application/vnd.jupyter.widget-view+json": {
       "model_id": "7fa6bda33ed0430791acdc79ba754a3e",
       "version_major": 2,
       "version_minor": 0
      },
      "text/plain": [
       "  0%|          | 0/1 [00:00<?, ?it/s]"
      ]
     },
     "metadata": {},
     "output_type": "display_data"
    },
    {
     "name": "stdout",
     "output_type": "stream",
     "text": [
      "{'java': 0.07408298552036285, 'iphone': 0.15504322946071625, '.net': 0.10662419348955154, 'c': 0.1426505446434021, 'php': 0.09644465893507004, 'css': 0.40599536895751953, 'python': 0.0642370954155922, 'ios': 0.1259569674730301, 'c++': 0.071302130818367, 'android': 0.07744339108467102, 'c#': 0.09655748307704926, 'html': 0.45438024401664734, 'node.js': 0.08022075146436691, 'javascript': 0.21241994202136993, 'objective-c': 0.05602111294865608, 'jquery': 0.17538514733314514} - how to center a div\n",
      "preprocessing\n"
     ]
    },
    {
     "data": {
      "application/vnd.jupyter.widget-view+json": {
       "model_id": "50161dca1d854c4db71a162eef0c0fc4",
       "version_major": 2,
       "version_minor": 0
      },
      "text/plain": [
       "  0%|          | 0/1 [00:00<?, ?it/s]"
      ]
     },
     "metadata": {},
     "output_type": "display_data"
    },
    {
     "name": "stdout",
     "output_type": "stream",
     "text": [
      "{'java': 0.05628538876771927, 'iphone': 0.06126730144023895, '.net': 0.06102268025279045, 'c': 0.09937193244695663, 'php': 0.034316014498472214, 'css': 0.09607839584350586, 'python': 0.9698299169540405, 'ios': 0.09190020710229874, 'c++': 0.0937778651714325, 'android': 0.04890865832567215, 'c#': 0.06937907636165619, 'html': 0.14873839914798737, 'node.js': 0.04805421084165573, 'javascript': 0.08540388941764832, 'objective-c': 0.039352498948574066, 'jquery': 0.0537249781191349} - list comprehension in python\n"
     ]
    }
   ],
   "source": [
    "texts = [\"how to center a div\", \"list comprehension in python\"]\n",
    "model = spacy.load(\"./output_BOW/model-best\")\n",
    "for text in texts:\n",
    "    doc = model(preprocess([text])[0])\n",
    "    print(doc.cats,  \"-\",  text)\n"
   ]
  },
  {
   "cell_type": "code",
   "execution_count": 14,
   "metadata": {},
   "outputs": [
    {
     "name": "stdout",
     "output_type": "stream",
     "text": [
      "preprocessing\n"
     ]
    },
    {
     "data": {
      "application/vnd.jupyter.widget-view+json": {
       "model_id": "1110d86a1eed4b448d7f2c0f3b5da044",
       "version_major": 2,
       "version_minor": 0
      },
      "text/plain": [
       "  0%|          | 0/81619 [00:00<?, ?it/s]"
      ]
     },
     "metadata": {},
     "output_type": "display_data"
    },
    {
     "name": "stdout",
     "output_type": "stream",
     "text": [
      "converting\n"
     ]
    },
    {
     "data": {
      "application/vnd.jupyter.widget-view+json": {
       "model_id": "df9fa01b8bb94ea8b0981c3e76c81c33",
       "version_major": 2,
       "version_minor": 0
      },
      "text/plain": [
       "  0%|          | 0/81619 [00:00<?, ?it/s]"
      ]
     },
     "metadata": {},
     "output_type": "display_data"
    },
    {
     "name": "stdout",
     "output_type": "stream",
     "text": [
      "preprocessing\n"
     ]
    },
    {
     "data": {
      "application/vnd.jupyter.widget-view+json": {
       "model_id": "5aae63dc11914e00ac2431594bc51b5e",
       "version_major": 2,
       "version_minor": 0
      },
      "text/plain": [
       "  0%|          | 0/16800 [00:00<?, ?it/s]"
      ]
     },
     "metadata": {},
     "output_type": "display_data"
    },
    {
     "name": "stdout",
     "output_type": "stream",
     "text": [
      "converting\n"
     ]
    },
    {
     "data": {
      "application/vnd.jupyter.widget-view+json": {
       "model_id": "48bd119be783497fb2885a2374ce164e",
       "version_major": 2,
       "version_minor": 0
      },
      "text/plain": [
       "  0%|          | 0/16800 [00:00<?, ?it/s]"
      ]
     },
     "metadata": {},
     "output_type": "display_data"
    },
    {
     "name": "stdout",
     "output_type": "stream",
     "text": [
      "preprocessing\n"
     ]
    },
    {
     "data": {
      "application/vnd.jupyter.widget-view+json": {
       "model_id": "6933f4979c9c4097accba4eb7315b01c",
       "version_major": 2,
       "version_minor": 0
      },
      "text/plain": [
       "  0%|          | 0/10956 [00:00<?, ?it/s]"
      ]
     },
     "metadata": {},
     "output_type": "display_data"
    },
    {
     "name": "stdout",
     "output_type": "stream",
     "text": [
      "converting\n"
     ]
    },
    {
     "data": {
      "application/vnd.jupyter.widget-view+json": {
       "model_id": "00fa14fa18904eeabb482a43aec513e1",
       "version_major": 2,
       "version_minor": 0
      },
      "text/plain": [
       "  0%|          | 0/10956 [00:00<?, ?it/s]"
      ]
     },
     "metadata": {},
     "output_type": "display_data"
    }
   ],
   "source": [
    "train_df = sample_train[~sample_train.code.isna()].loc[:]\n",
    "train_df[\"code_processed\"] = preprocess(train_df.code)\n",
    "convert(train_df.loc[:, [\"code_processed\", \"tag_list\"]],\n",
    "        'code_train_bow.spacy')\n",
    "test_df = sample_test[~sample_test.code.isna()].loc[:]\n",
    "test_df[\"code_processed\"] = preprocess(test_df.code)\n",
    "convert(test_df.loc[:, [\"code_processed\", \"tag_list\"]], 'code_test_bow.spacy')\n",
    "validation_df = sample_validation[~sample_validation.code.isna()].loc[:]\n",
    "validation_df[\"code_processed\"] = preprocess(\n",
    "    validation_df.code)\n",
    "convert(validation_df.loc[:, [\"code_processed\", \"tag_list\"]],\n",
    "        'code_validation_bow.spacy')\n"
   ]
  },
  {
   "cell_type": "code",
   "execution_count": 2,
   "metadata": {},
   "outputs": [
    {
     "name": "stdout",
     "output_type": "stream",
     "text": [
      "2023-03-17 13:34:36.026104: I tensorflow/core/platform/cpu_feature_guard.cc:193] This TensorFlow binary is optimized with oneAPI Deep Neural Network Library (oneDNN) to use the following CPU instructions in performance-critical operations:  AVX2 FMA\n",
      "To enable them in other operations, rebuild TensorFlow with the appropriate compiler flags.\n",
      "2023-03-17 13:34:37.612346: I tensorflow/compiler/xla/stream_executor/cuda/cuda_gpu_executor.cc:981] successful NUMA node read from SysFS had negative value (-1), but there must be at least one NUMA node, so returning NUMA node zero\n",
      "2023-03-17 13:34:37.612711: I tensorflow/compiler/xla/stream_executor/cuda/cuda_gpu_executor.cc:981] successful NUMA node read from SysFS had negative value (-1), but there must be at least one NUMA node, so returning NUMA node zero\n",
      "2023-03-17 13:34:37.612871: I tensorflow/compiler/xla/stream_executor/cuda/cuda_gpu_executor.cc:981] successful NUMA node read from SysFS had negative value (-1), but there must be at least one NUMA node, so returning NUMA node zero\n",
      "\u001b[38;5;4mℹ Saving to output directory: output_code_tok2vec\u001b[0m\n",
      "\u001b[38;5;4mℹ Using GPU: 0\u001b[0m\n",
      "\u001b[1m\n",
      "=========================== Initializing pipeline ===========================\u001b[0m\n",
      "[2023-03-17 13:34:42,731] [INFO] Set up nlp object from config\n",
      "[2023-03-17 13:34:43,319] [INFO] Pipeline: ['textcat_multilabel']\n",
      "[2023-03-17 13:34:43,322] [INFO] Created vocabulary\n",
      "[2023-03-17 13:34:45,466] [INFO] Added vectors: en_core_web_lg\n",
      "[2023-03-17 13:34:46,990] [INFO] Finished initializing nlp object\n",
      "[2023-03-17 13:35:22,916] [INFO] Initialized pipeline components: ['textcat_multilabel']\n",
      "\u001b[38;5;2m✔ Initialized pipeline\u001b[0m\n",
      "\u001b[1m\n",
      "============================= Training pipeline =============================\u001b[0m\n",
      "\u001b[38;5;4mℹ Pipeline: ['textcat_multilabel']\u001b[0m\n",
      "\u001b[38;5;4mℹ Initial learn rate: 0.001\u001b[0m\n",
      "\u001b[34m\u001b[1mwandb\u001b[0m: Currently logged in as: \u001b[33mapersonnaz\u001b[0m. Use \u001b[1m`wandb login --relogin`\u001b[0m to force relogin\n",
      "\u001b[34m\u001b[1mwandb\u001b[0m: Tracking run with wandb version 0.14.0\n",
      "\u001b[34m\u001b[1mwandb\u001b[0m: Run data is saved locally in \u001b[35m\u001b[1m/home/aurelien/Documents/ocr/OCR_IML_projet5/wandb/run-20230317_133524-x7mll9zs\u001b[0m\n",
      "\u001b[34m\u001b[1mwandb\u001b[0m: Run \u001b[1m`wandb offline`\u001b[0m to turn off syncing.\n",
      "\u001b[34m\u001b[1mwandb\u001b[0m: Syncing run \u001b[33mwise-salad-42\u001b[0m\n",
      "\u001b[34m\u001b[1mwandb\u001b[0m: ⭐️ View project at \u001b[34m\u001b[4mhttps://wandb.ai/apersonnaz/my_spacy_project\u001b[0m\n",
      "\u001b[34m\u001b[1mwandb\u001b[0m: 🚀 View run at \u001b[34m\u001b[4mhttps://wandb.ai/apersonnaz/my_spacy_project/runs/x7mll9zs\u001b[0m\n",
      "E    #       LOSS TEXTC...  CATS_SCORE  SCORE \n",
      "---  ------  -------------  ----------  ------\n",
      "  0       0           0.23       48.30    0.48\n",
      "  0     200          19.16       62.65    0.63\n",
      "  0     400          16.50       71.57    0.72\n",
      "  0     600          15.38       77.15    0.77\n",
      "  0     800          15.09       80.80    0.81\n",
      "  0    1000          13.70       82.69    0.83\n",
      "\u001b[34m\u001b[1mwandb\u001b[0m: Adding directory to artifact (./output_code_tok2vec/model-last)... Done. 37.5s\n",
      "  0    1200          12.48       83.16    0.83\n",
      "  0    1400          12.50       84.53    0.85\n",
      "  0    1600          11.74       85.02    0.85\n",
      "  0    1800          11.48       85.80    0.86\n",
      "  0    2000          11.67       85.91    0.86\n",
      "\u001b[34m\u001b[1mwandb\u001b[0m: Adding directory to artifact (./output_code_tok2vec/model-last)... Done. 86.6s\n",
      "  0    2200          11.16       86.86    0.87\n",
      "  0    2400          10.71       87.50    0.88\n",
      "  0    2600          10.58       88.31    0.88\n",
      "  0    2800          10.62       88.67    0.89\n",
      "  0    3000          10.48       88.81    0.89\n",
      "\u001b[34m\u001b[1mwandb\u001b[0m: Adding directory to artifact (./output_code_tok2vec/model-last)... Done. 58.7s\n",
      "  0    3200          10.49       89.17    0.89\n",
      "  0    3400          10.27       89.21    0.89\n",
      "  0    3600          10.21       89.35    0.89\n",
      "  0    3800          10.27       89.65    0.90\n",
      "  0    4000          10.04       90.07    0.90\n",
      "\u001b[34m\u001b[1mwandb\u001b[0m: Adding directory to artifact (./output_code_tok2vec/model-last)... Done. 69.5s\n",
      "  0    4200           9.88       90.27    0.90\n",
      "  0    4400           9.83       90.20    0.90\n",
      "  0    4600           9.79       90.72    0.91\n",
      "  0    4800           9.60       90.79    0.91\n",
      "  1    5000           8.93       90.96    0.91\n",
      "\u001b[34m\u001b[1mwandb\u001b[0m: Adding directory to artifact (./output_code_tok2vec/model-last)... Done. 82.7s\n",
      "  1    5200           9.20       90.63    0.91\n",
      "  1    5400           8.94       90.79    0.91\n",
      "  1    5600           9.17       90.77    0.91\n",
      "  1    5800           9.21       91.10    0.91\n",
      "  1    6000           9.16       91.11    0.91\n",
      "\u001b[34m\u001b[1mwandb\u001b[0m: Adding directory to artifact (./output_code_tok2vec/model-last)... Done. 59.7s\n",
      "  1    6200           8.90       91.35    0.91\n",
      "  1    6400           8.97       91.24    0.91\n",
      "  1    6600           9.10       91.42    0.91\n",
      "  1    6800           9.09       91.61    0.92\n",
      "  1    7000           9.08       91.56    0.92\n",
      "\u001b[34m\u001b[1mwandb\u001b[0m: Adding directory to artifact (./output_code_tok2vec/model-last)... Done. 96.3s\n",
      "  1    7200           9.03       91.33    0.91\n",
      "  1    7400           9.04       91.48    0.91\n",
      "  1    7600           9.13       91.53    0.92\n",
      "  1    7800           9.07       91.55    0.92\n",
      "  1    8000           8.84       91.87    0.92\n",
      "\u001b[34m\u001b[1mwandb\u001b[0m: Adding directory to artifact (./output_code_tok2vec/model-last)... Done. 93.2s\n",
      "  1    8200           8.87       91.75    0.92\n",
      "  2    8400           8.20       92.04    0.92\n",
      "  2    8600           8.20       92.12    0.92\n",
      "  2    8800           8.33       91.98    0.92\n",
      "  2    9000           8.49       92.07    0.92\n",
      "\u001b[34m\u001b[1mwandb\u001b[0m: Adding directory to artifact (./output_code_tok2vec/model-last)... Done. 51.1s\n",
      "  2    9200           8.26       91.87    0.92\n",
      "  2    9400           8.33       92.11    0.92\n",
      "  2    9600           8.75       91.96    0.92\n",
      "  2    9800           8.37       92.33    0.92\n",
      "  2   10000           8.56       92.15    0.92\n",
      "\u001b[34m\u001b[1mwandb\u001b[0m: Adding directory to artifact (./output_code_tok2vec/model-last)... Done. 48.4s\n",
      "  2   10200           8.73       92.10    0.92\n",
      "  2   10400           8.51       92.00    0.92\n",
      "  2   10600           8.41       92.01    0.92\n",
      "  2   10800           8.57       92.28    0.92\n",
      "  2   11000           8.41       92.42    0.92\n",
      "\u001b[34m\u001b[1mwandb\u001b[0m: Adding directory to artifact (./output_code_tok2vec/model-last)... Done. 58.9s\n",
      "  2   11200           8.62       92.50    0.93\n",
      "  2   11400           8.47       92.50    0.93\n",
      "  3   11600           8.44       92.44    0.92\n",
      "  3   11800           7.97       92.39    0.92\n",
      "  3   12000           8.05       92.66    0.93\n",
      "\u001b[34m\u001b[1mwandb\u001b[0m: Adding directory to artifact (./output_code_tok2vec/model-last)... Done. 39.2s\n",
      "  3   12200           7.96       92.51    0.93\n",
      "  3   12400           7.73       92.60    0.93\n",
      "  3   12600           7.92       92.61    0.93\n",
      "  3   12800           7.86       92.71    0.93\n",
      "  3   13000           8.30       92.58    0.93\n",
      "\u001b[34m\u001b[1mwandb\u001b[0m: Adding directory to artifact (./output_code_tok2vec/model-last)... Done. 33.7s\n",
      "  3   13200           8.23       92.60    0.93\n",
      "  3   13400           8.10       92.46    0.92\n",
      "  3   13600           7.99       92.47    0.92\n",
      "  3   13800           8.06       92.52    0.93\n",
      "  3   14000           8.28       92.63    0.93\n",
      "\u001b[34m\u001b[1mwandb\u001b[0m: Adding directory to artifact (./output_code_tok2vec/model-last)... Done. 23.1s\n",
      "  3   14200           8.24       92.70    0.93\n",
      "  3   14400           8.10       92.63    0.93\n",
      "\u001b[34m\u001b[1mwandb\u001b[0m: Waiting for W&B process to finish... \u001b[32m(success).\u001b[0m\n",
      "\u001b[34m\u001b[1mwandb\u001b[0m: \n",
      "\u001b[34m\u001b[1mwandb\u001b[0m: Run history:\n",
      "\u001b[34m\u001b[1mwandb\u001b[0m:          cats_macro_auc ▁▃▆▆▇▇▇▇▇▇▇█████████████████████████████\n",
      "\u001b[34m\u001b[1mwandb\u001b[0m:            cats_macro_f ▁▁▃▅▆▆▆▇▇▇▇▇▇██▇▇███▇█████▇█████████████\n",
      "\u001b[34m\u001b[1mwandb\u001b[0m:            cats_macro_p ▁▃▆▇▇▇▇▇████████████████████████████████\n",
      "\u001b[34m\u001b[1mwandb\u001b[0m:            cats_macro_r ▄▁▃▅▅▆▆▆▆▇▇▇▇▇█▇▇▇▇▇▇█▇▇▇▇▇█▇▇██████████\n",
      "\u001b[34m\u001b[1mwandb\u001b[0m:            cats_micro_f ▁▁▄▅▆▆▇▇▇▇▇▇▇███▇███▇█████▇█████████████\n",
      "\u001b[34m\u001b[1mwandb\u001b[0m:            cats_micro_p ▁▄▆▇▇▇▇▇██████▇█████████████████████▇███\n",
      "\u001b[34m\u001b[1mwandb\u001b[0m:            cats_micro_r ▄▁▃▅▅▅▆▆▆▇▇▇▇▇█▇▇▇█▇▇█▇▇▇▇▇█▇▇██████████\n",
      "\u001b[34m\u001b[1mwandb\u001b[0m:              cats_score ▁▃▆▆▇▇▇▇▇▇▇█████████████████████████████\n",
      "\u001b[34m\u001b[1mwandb\u001b[0m: loss_textcat_multilabel ▁█▇▆▆▅▅▅▅▅▅▅▅▄▄▄▄▄▄▄▄▄▄▄▄▄▄▄▄▄▄▄▄▄▄▄▄▄▄▄\n",
      "\u001b[34m\u001b[1mwandb\u001b[0m:                   score ▁▃▆▆▇▇▇▇▇▇▇█████████████████████████████\n",
      "\u001b[34m\u001b[1mwandb\u001b[0m:                   speed ▇█▅▇██▇▅█▆▇▇▇▆▄▇▆▇▅▇▇▇▇▆▄▅▇▆▁▄▄▅▄▇▇▅▄█▇█\n",
      "\u001b[34m\u001b[1mwandb\u001b[0m:               token_acc ▁▁▁▁▁▁▁▁▁▁▁▁▁▁▁▁▁▁▁▁▁▁▁▁▁▁▁▁▁▁▁▁▁▁▁▁▁▁▁▁\n",
      "\u001b[34m\u001b[1mwandb\u001b[0m:                 token_f ▁▁▁▁▁▁▁▁▁▁▁▁▁▁▁▁▁▁▁▁▁▁▁▁▁▁▁▁▁▁▁▁▁▁▁▁▁▁▁▁\n",
      "\u001b[34m\u001b[1mwandb\u001b[0m:                 token_p ▁▁▁▁▁▁▁▁▁▁▁▁▁▁▁▁▁▁▁▁▁▁▁▁▁▁▁▁▁▁▁▁▁▁▁▁▁▁▁▁\n",
      "\u001b[34m\u001b[1mwandb\u001b[0m:                 token_r ▁▁▁▁▁▁▁▁▁▁▁▁▁▁▁▁▁▁▁▁▁▁▁▁▁▁▁▁▁▁▁▁▁▁▁▁▁▁▁▁\n",
      "\u001b[34m\u001b[1mwandb\u001b[0m: \n",
      "\u001b[34m\u001b[1mwandb\u001b[0m: Run summary:\n",
      "\u001b[34m\u001b[1mwandb\u001b[0m:          cats_macro_auc 0.92632\n",
      "\u001b[34m\u001b[1mwandb\u001b[0m:            cats_macro_f 0.62838\n",
      "\u001b[34m\u001b[1mwandb\u001b[0m:            cats_macro_p 0.75571\n",
      "\u001b[34m\u001b[1mwandb\u001b[0m:            cats_macro_r 0.55893\n",
      "\u001b[34m\u001b[1mwandb\u001b[0m:            cats_micro_f 0.64971\n",
      "\u001b[34m\u001b[1mwandb\u001b[0m:            cats_micro_p 0.75626\n",
      "\u001b[34m\u001b[1mwandb\u001b[0m:            cats_micro_r 0.56947\n",
      "\u001b[34m\u001b[1mwandb\u001b[0m:              cats_score 0.92632\n",
      "\u001b[34m\u001b[1mwandb\u001b[0m:         cats_score_desc macro AUC\n",
      "\u001b[34m\u001b[1mwandb\u001b[0m: loss_textcat_multilabel 8.09935\n",
      "\u001b[34m\u001b[1mwandb\u001b[0m:                   score 0.92632\n",
      "\u001b[34m\u001b[1mwandb\u001b[0m:                   speed 90503.39666\n",
      "\u001b[34m\u001b[1mwandb\u001b[0m:               token_acc 1.0\n",
      "\u001b[34m\u001b[1mwandb\u001b[0m:                 token_f 1.0\n",
      "\u001b[34m\u001b[1mwandb\u001b[0m:                 token_p 1.0\n",
      "\u001b[34m\u001b[1mwandb\u001b[0m:                 token_r 1.0\n",
      "\u001b[34m\u001b[1mwandb\u001b[0m: \n",
      "\u001b[34m\u001b[1mwandb\u001b[0m: 🚀 View run \u001b[33mwise-salad-42\u001b[0m at: \u001b[34m\u001b[4mhttps://wandb.ai/apersonnaz/my_spacy_project/runs/x7mll9zs\u001b[0m\n",
      "\u001b[34m\u001b[1mwandb\u001b[0m: Synced 5 W&B file(s), 0 media file(s), 140 artifact file(s) and 0 other file(s)\n",
      "\u001b[34m\u001b[1mwandb\u001b[0m: Find logs at: \u001b[35m\u001b[1m./wandb/run-20230317_133524-x7mll9zs/logs\u001b[0m\n",
      "\u001b[38;5;2m✔ Saved pipeline to output directory\u001b[0m\n",
      "output_code_tok2vec/model-last\n"
     ]
    }
   ],
   "source": [
    "!python3 -m spacy train config_tok2vec.cfg --output ./output_code_tok2vec --paths.train ./code_train_bow.spacy --paths.dev ./code_test_bow.spacy --gpu-id 0"
   ]
  },
  {
   "cell_type": "code",
   "execution_count": 1,
   "metadata": {},
   "outputs": [
    {
     "name": "stdout",
     "output_type": "stream",
     "text": [
      "2023-03-14 18:54:28.647573: I tensorflow/core/platform/cpu_feature_guard.cc:193] This TensorFlow binary is optimized with oneAPI Deep Neural Network Library (oneDNN) to use the following CPU instructions in performance-critical operations:  AVX2 FMA\n",
      "To enable them in other operations, rebuild TensorFlow with the appropriate compiler flags.\n",
      "2023-03-14 18:54:31.160458: I tensorflow/compiler/xla/stream_executor/cuda/cuda_gpu_executor.cc:981] successful NUMA node read from SysFS had negative value (-1), but there must be at least one NUMA node, so returning NUMA node zero\n",
      "2023-03-14 18:54:31.160817: I tensorflow/compiler/xla/stream_executor/cuda/cuda_gpu_executor.cc:981] successful NUMA node read from SysFS had negative value (-1), but there must be at least one NUMA node, so returning NUMA node zero\n",
      "2023-03-14 18:54:31.160976: I tensorflow/compiler/xla/stream_executor/cuda/cuda_gpu_executor.cc:981] successful NUMA node read from SysFS had negative value (-1), but there must be at least one NUMA node, so returning NUMA node zero\n",
      "\u001b[38;5;4mℹ Using GPU: 0\u001b[0m\n",
      "\u001b[1m\n",
      "================================== Results ==================================\u001b[0m\n",
      "\n",
      "TOK                   100.00\n",
      "TEXTCAT (macro AUC)   81.78 \n",
      "SPEED                 128482\n",
      "\n",
      "\u001b[1m\n",
      "=========================== Textcat F (per label) ===========================\u001b[0m\n",
      "\n",
      "                  P       R       F\n",
      "php           68.83   48.68   57.02\n",
      "jquery        78.46   32.43   45.89\n",
      "iphone        64.71    1.00    1.96\n",
      "android       91.83   43.93   59.43\n",
      "css           81.04   28.67   42.35\n",
      "node.js       82.67   30.57   44.64\n",
      "python        80.26   45.26   57.88\n",
      "html          64.31   11.66   19.74\n",
      "c             75.26    6.45   11.88\n",
      "c++           77.11   10.02   17.74\n",
      "objective-c   70.79    5.29    9.84\n",
      "java          83.75   22.74   35.77\n",
      "c#            64.29   10.41   17.92\n",
      "ios           81.57   26.18   39.63\n",
      "javascript    56.50   37.69   45.22\n",
      ".net          58.62    4.23    7.89\n",
      "\n",
      "\u001b[1m\n",
      "======================== Textcat ROC AUC (per label) ========================\u001b[0m\n",
      "\n",
      "              ROC AUC\n",
      "php              0.89\n",
      "jquery           0.88\n",
      "iphone           0.74\n",
      "android          0.90\n",
      "css              0.89\n",
      "node.js          0.89\n",
      "python           0.89\n",
      "html             0.80\n",
      "c                0.79\n",
      "c++              0.79\n",
      "objective-c      0.75\n",
      "java             0.80\n",
      "c#               0.74\n",
      "ios              0.84\n",
      "javascript       0.80\n",
      ".net             0.71\n",
      "\n"
     ]
    }
   ],
   "source": [
    "!python3 -m spacy evaluate ./output_code_BOW/model-best/ ./text_validation_bow.spacy --gpu-id 0"
   ]
  }
 ],
 "metadata": {
  "kernelspec": {
   "display_name": "Python 3",
   "language": "python",
   "name": "python3"
  },
  "language_info": {
   "codemirror_mode": {
    "name": "ipython",
    "version": 3
   },
   "file_extension": ".py",
   "mimetype": "text/x-python",
   "name": "python",
   "nbconvert_exporter": "python",
   "pygments_lexer": "ipython3",
   "version": "3.10.7"
  },
  "orig_nbformat": 4
 },
 "nbformat": 4,
 "nbformat_minor": 2
}
